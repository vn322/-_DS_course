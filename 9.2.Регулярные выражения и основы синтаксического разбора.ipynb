{
  "nbformat": 4,
  "nbformat_minor": 0,
  "metadata": {
    "kernelspec": {
      "display_name": "Python 3",
      "language": "python",
      "name": "python3"
    },
    "language_info": {
      "codemirror_mode": {
        "name": "ipython",
        "version": 3
      },
      "file_extension": ".py",
      "mimetype": "text/x-python",
      "name": "python",
      "nbconvert_exporter": "python",
      "pygments_lexer": "ipython3",
      "version": "3.8.5"
    },
    "colab": {
      "name": "netology_regex_17_02_22.ipynb",
      "provenance": [],
      "collapsed_sections": []
    }
  },
  "cells": [
    {
      "cell_type": "markdown",
      "metadata": {
        "id": "T14fj_LH_mVr"
      },
      "source": [
        "# Регулярные выражения\n",
        "\n",
        "Булыгин Олег  \n",
        "\n",
        "* [LinkedIn](linkedin.com/in/obulygin)  \n",
        "* [Telegram](https://t.me/obulygin91)  \n",
        "* [facebook](fb.com/obulygin91)  \n",
        "* [Vk](vk.com/obulygin91)  \n",
        "* email: obulygin91@ya.ru  \n",
        "\n",
        "[Сообщество по Python](https://yandex.ru/q/loves/pythontalk/) на Кью  \n",
        "[Сообщество по Data Science и анализу данных](https://yandex.ru/q/loves/datatalk/) на Кью  "
      ]
    },
    {
      "cell_type": "code",
      "metadata": {
        "id": "WxQkHgKD_hy5"
      },
      "source": [
        "import re"
      ],
      "execution_count": null,
      "outputs": []
    },
    {
      "cell_type": "code",
      "metadata": {
        "id": "mCafPRzv_hy9"
      },
      "source": [
        "# найдем идентификаторы пользователей в тексте\n",
        "msg = 'В розыгрыше победили: id1234563, id4653, id461'"
      ],
      "execution_count": null,
      "outputs": []
    },
    {
      "cell_type": "code",
      "metadata": {
        "id": "mvfyZlvS_hy-",
        "colab": {
          "base_uri": "https://localhost:8080/"
        },
        "outputId": "7f401c8a-6972-46ab-aa2a-eb14f0444f20"
      },
      "source": [
        "re.findall(r'id\\d+', msg)"
      ],
      "execution_count": null,
      "outputs": [
        {
          "output_type": "execute_result",
          "data": {
            "text/plain": [
              "['id1234563', 'id4653', 'id461']"
            ]
          },
          "metadata": {},
          "execution_count": 3
        }
      ]
    },
    {
      "cell_type": "code",
      "metadata": {
        "id": "38hqT0YP_hzA"
      },
      "source": [
        "# ПРАКТИКА. Найдем хэштеги в твите\n",
        "tweet = \"когда #эпидемия, то обязательно #оставайсядома\""
      ],
      "execution_count": null,
      "outputs": []
    },
    {
      "cell_type": "code",
      "metadata": {
        "id": "QYLyEyPF_hzB",
        "colab": {
          "base_uri": "https://localhost:8080/"
        },
        "outputId": "05ced7db-f0df-408b-e7f0-b59ec4e9b8a7"
      },
      "source": [
        "re.findall(r'#\\w+', tweet)"
      ],
      "execution_count": null,
      "outputs": [
        {
          "output_type": "execute_result",
          "data": {
            "text/plain": [
              "['#эпидемия', '#оставайсядома']"
            ]
          },
          "metadata": {},
          "execution_count": 7
        }
      ]
    },
    {
      "cell_type": "markdown",
      "metadata": {
        "id": "0R7hBBVBBiI7"
      },
      "source": [
        ""
      ]
    },
    {
      "cell_type": "code",
      "metadata": {
        "id": "QdLpzlNB_hzB"
      },
      "source": [
        "# посмотрим внимательнее, как работают quantifiers\n",
        "text = \"\"\"Что такое регулярные выражения и как их использовать? \n",
        "Говоря простым языком, регулярное выражение — это последовательность символов, используемая для поиска и замены текста в строке или файле. Как уже было упомянуто,\\\n",
        "их поддерживает множество языков общего назначения: Python, Perl, R.\n",
        "Так что изучение регулярных выражений рано или поздно пригодится.\"\"\""
      ],
      "execution_count": null,
      "outputs": []
    },
    {
      "cell_type": "code",
      "metadata": {
        "scrolled": true,
        "id": "R9VklNwz_hzC",
        "colab": {
          "base_uri": "https://localhost:8080/"
        },
        "outputId": "98e612bb-b77a-49ff-adcf-f93d728dc2d2"
      },
      "source": [
        "re.findall(r'\\w+', text)"
      ],
      "execution_count": null,
      "outputs": [
        {
          "output_type": "execute_result",
          "data": {
            "text/plain": [
              "['Что',\n",
              " 'такое',\n",
              " 'регулярные',\n",
              " 'выражения',\n",
              " 'и',\n",
              " 'как',\n",
              " 'их',\n",
              " 'использовать',\n",
              " 'Говоря',\n",
              " 'простым',\n",
              " 'языком',\n",
              " 'регулярное',\n",
              " 'выражение',\n",
              " 'это',\n",
              " 'последовательность',\n",
              " 'символов',\n",
              " 'используемая',\n",
              " 'для',\n",
              " 'поиска',\n",
              " 'и',\n",
              " 'замены',\n",
              " 'текста',\n",
              " 'в',\n",
              " 'строке',\n",
              " 'или',\n",
              " 'файле',\n",
              " 'Как',\n",
              " 'уже',\n",
              " 'было',\n",
              " 'упомянуто',\n",
              " 'их',\n",
              " 'поддерживает',\n",
              " 'множество',\n",
              " 'языков',\n",
              " 'общего',\n",
              " 'назначения',\n",
              " 'Python',\n",
              " 'Perl',\n",
              " 'R',\n",
              " 'Так',\n",
              " 'что',\n",
              " 'изучение',\n",
              " 'регулярных',\n",
              " 'выражений',\n",
              " 'рано',\n",
              " 'или',\n",
              " 'поздно',\n",
              " 'пригодится']"
            ]
          },
          "metadata": {},
          "execution_count": 9
        }
      ]
    },
    {
      "cell_type": "code",
      "metadata": {
        "id": "C9ofKbAc_hzC",
        "colab": {
          "base_uri": "https://localhost:8080/"
        },
        "outputId": "cd3b707c-27f4-428f-87bc-3d195e170999"
      },
      "source": [
        "re.findall(r'\\w*', text)"
      ],
      "execution_count": null,
      "outputs": [
        {
          "output_type": "execute_result",
          "data": {
            "text/plain": [
              "['Что',\n",
              " '',\n",
              " 'такое',\n",
              " '',\n",
              " 'регулярные',\n",
              " '',\n",
              " 'выражения',\n",
              " '',\n",
              " 'и',\n",
              " '',\n",
              " 'как',\n",
              " '',\n",
              " 'их',\n",
              " '',\n",
              " 'использовать',\n",
              " '',\n",
              " '',\n",
              " '',\n",
              " 'Говоря',\n",
              " '',\n",
              " 'простым',\n",
              " '',\n",
              " 'языком',\n",
              " '',\n",
              " '',\n",
              " 'регулярное',\n",
              " '',\n",
              " 'выражение',\n",
              " '',\n",
              " '',\n",
              " '',\n",
              " 'это',\n",
              " '',\n",
              " 'последовательность',\n",
              " '',\n",
              " 'символов',\n",
              " '',\n",
              " '',\n",
              " 'используемая',\n",
              " '',\n",
              " 'для',\n",
              " '',\n",
              " 'поиска',\n",
              " '',\n",
              " 'и',\n",
              " '',\n",
              " 'замены',\n",
              " '',\n",
              " 'текста',\n",
              " '',\n",
              " 'в',\n",
              " '',\n",
              " 'строке',\n",
              " '',\n",
              " 'или',\n",
              " '',\n",
              " 'файле',\n",
              " '',\n",
              " '',\n",
              " 'Как',\n",
              " '',\n",
              " 'уже',\n",
              " '',\n",
              " 'было',\n",
              " '',\n",
              " 'упомянуто',\n",
              " '',\n",
              " 'их',\n",
              " '',\n",
              " 'поддерживает',\n",
              " '',\n",
              " 'множество',\n",
              " '',\n",
              " 'языков',\n",
              " '',\n",
              " 'общего',\n",
              " '',\n",
              " 'назначения',\n",
              " '',\n",
              " '',\n",
              " 'Python',\n",
              " '',\n",
              " '',\n",
              " 'Perl',\n",
              " '',\n",
              " '',\n",
              " 'R',\n",
              " '',\n",
              " '',\n",
              " 'Так',\n",
              " '',\n",
              " 'что',\n",
              " '',\n",
              " 'изучение',\n",
              " '',\n",
              " 'регулярных',\n",
              " '',\n",
              " 'выражений',\n",
              " '',\n",
              " 'рано',\n",
              " '',\n",
              " 'или',\n",
              " '',\n",
              " 'поздно',\n",
              " '',\n",
              " 'пригодится',\n",
              " '',\n",
              " '']"
            ]
          },
          "metadata": {},
          "execution_count": 10
        }
      ]
    },
    {
      "cell_type": "code",
      "metadata": {
        "scrolled": false,
        "id": "WRBcmiin_hzD",
        "colab": {
          "base_uri": "https://localhost:8080/"
        },
        "outputId": "dde1a433-676f-4da2-9057-ca87ec1e3d3a"
      },
      "source": [
        "re.findall(r'\\w?', text)"
      ],
      "execution_count": null,
      "outputs": [
        {
          "output_type": "execute_result",
          "data": {
            "text/plain": [
              "['Ч',\n",
              " 'т',\n",
              " 'о',\n",
              " '',\n",
              " 'т',\n",
              " 'а',\n",
              " 'к',\n",
              " 'о',\n",
              " 'е',\n",
              " '',\n",
              " 'р',\n",
              " 'е',\n",
              " 'г',\n",
              " 'у',\n",
              " 'л',\n",
              " 'я',\n",
              " 'р',\n",
              " 'н',\n",
              " 'ы',\n",
              " 'е',\n",
              " '',\n",
              " 'в',\n",
              " 'ы',\n",
              " 'р',\n",
              " 'а',\n",
              " 'ж',\n",
              " 'е',\n",
              " 'н',\n",
              " 'и',\n",
              " 'я',\n",
              " '',\n",
              " 'и',\n",
              " '',\n",
              " 'к',\n",
              " 'а',\n",
              " 'к',\n",
              " '',\n",
              " 'и',\n",
              " 'х',\n",
              " '',\n",
              " 'и',\n",
              " 'с',\n",
              " 'п',\n",
              " 'о',\n",
              " 'л',\n",
              " 'ь',\n",
              " 'з',\n",
              " 'о',\n",
              " 'в',\n",
              " 'а',\n",
              " 'т',\n",
              " 'ь',\n",
              " '',\n",
              " '',\n",
              " '',\n",
              " 'Г',\n",
              " 'о',\n",
              " 'в',\n",
              " 'о',\n",
              " 'р',\n",
              " 'я',\n",
              " '',\n",
              " 'п',\n",
              " 'р',\n",
              " 'о',\n",
              " 'с',\n",
              " 'т',\n",
              " 'ы',\n",
              " 'м',\n",
              " '',\n",
              " 'я',\n",
              " 'з',\n",
              " 'ы',\n",
              " 'к',\n",
              " 'о',\n",
              " 'м',\n",
              " '',\n",
              " '',\n",
              " 'р',\n",
              " 'е',\n",
              " 'г',\n",
              " 'у',\n",
              " 'л',\n",
              " 'я',\n",
              " 'р',\n",
              " 'н',\n",
              " 'о',\n",
              " 'е',\n",
              " '',\n",
              " 'в',\n",
              " 'ы',\n",
              " 'р',\n",
              " 'а',\n",
              " 'ж',\n",
              " 'е',\n",
              " 'н',\n",
              " 'и',\n",
              " 'е',\n",
              " '',\n",
              " '',\n",
              " '',\n",
              " 'э',\n",
              " 'т',\n",
              " 'о',\n",
              " '',\n",
              " 'п',\n",
              " 'о',\n",
              " 'с',\n",
              " 'л',\n",
              " 'е',\n",
              " 'д',\n",
              " 'о',\n",
              " 'в',\n",
              " 'а',\n",
              " 'т',\n",
              " 'е',\n",
              " 'л',\n",
              " 'ь',\n",
              " 'н',\n",
              " 'о',\n",
              " 'с',\n",
              " 'т',\n",
              " 'ь',\n",
              " '',\n",
              " 'с',\n",
              " 'и',\n",
              " 'м',\n",
              " 'в',\n",
              " 'о',\n",
              " 'л',\n",
              " 'о',\n",
              " 'в',\n",
              " '',\n",
              " '',\n",
              " 'и',\n",
              " 'с',\n",
              " 'п',\n",
              " 'о',\n",
              " 'л',\n",
              " 'ь',\n",
              " 'з',\n",
              " 'у',\n",
              " 'е',\n",
              " 'м',\n",
              " 'а',\n",
              " 'я',\n",
              " '',\n",
              " 'д',\n",
              " 'л',\n",
              " 'я',\n",
              " '',\n",
              " 'п',\n",
              " 'о',\n",
              " 'и',\n",
              " 'с',\n",
              " 'к',\n",
              " 'а',\n",
              " '',\n",
              " 'и',\n",
              " '',\n",
              " 'з',\n",
              " 'а',\n",
              " 'м',\n",
              " 'е',\n",
              " 'н',\n",
              " 'ы',\n",
              " '',\n",
              " 'т',\n",
              " 'е',\n",
              " 'к',\n",
              " 'с',\n",
              " 'т',\n",
              " 'а',\n",
              " '',\n",
              " 'в',\n",
              " '',\n",
              " 'с',\n",
              " 'т',\n",
              " 'р',\n",
              " 'о',\n",
              " 'к',\n",
              " 'е',\n",
              " '',\n",
              " 'и',\n",
              " 'л',\n",
              " 'и',\n",
              " '',\n",
              " 'ф',\n",
              " 'а',\n",
              " 'й',\n",
              " 'л',\n",
              " 'е',\n",
              " '',\n",
              " '',\n",
              " 'К',\n",
              " 'а',\n",
              " 'к',\n",
              " '',\n",
              " 'у',\n",
              " 'ж',\n",
              " 'е',\n",
              " '',\n",
              " 'б',\n",
              " 'ы',\n",
              " 'л',\n",
              " 'о',\n",
              " '',\n",
              " 'у',\n",
              " 'п',\n",
              " 'о',\n",
              " 'м',\n",
              " 'я',\n",
              " 'н',\n",
              " 'у',\n",
              " 'т',\n",
              " 'о',\n",
              " '',\n",
              " 'и',\n",
              " 'х',\n",
              " '',\n",
              " 'п',\n",
              " 'о',\n",
              " 'д',\n",
              " 'д',\n",
              " 'е',\n",
              " 'р',\n",
              " 'ж',\n",
              " 'и',\n",
              " 'в',\n",
              " 'а',\n",
              " 'е',\n",
              " 'т',\n",
              " '',\n",
              " 'м',\n",
              " 'н',\n",
              " 'о',\n",
              " 'ж',\n",
              " 'е',\n",
              " 'с',\n",
              " 'т',\n",
              " 'в',\n",
              " 'о',\n",
              " '',\n",
              " 'я',\n",
              " 'з',\n",
              " 'ы',\n",
              " 'к',\n",
              " 'о',\n",
              " 'в',\n",
              " '',\n",
              " 'о',\n",
              " 'б',\n",
              " 'щ',\n",
              " 'е',\n",
              " 'г',\n",
              " 'о',\n",
              " '',\n",
              " 'н',\n",
              " 'а',\n",
              " 'з',\n",
              " 'н',\n",
              " 'а',\n",
              " 'ч',\n",
              " 'е',\n",
              " 'н',\n",
              " 'и',\n",
              " 'я',\n",
              " '',\n",
              " '',\n",
              " 'P',\n",
              " 'y',\n",
              " 't',\n",
              " 'h',\n",
              " 'o',\n",
              " 'n',\n",
              " '',\n",
              " '',\n",
              " 'P',\n",
              " 'e',\n",
              " 'r',\n",
              " 'l',\n",
              " '',\n",
              " '',\n",
              " 'R',\n",
              " '',\n",
              " '',\n",
              " 'Т',\n",
              " 'а',\n",
              " 'к',\n",
              " '',\n",
              " 'ч',\n",
              " 'т',\n",
              " 'о',\n",
              " '',\n",
              " 'и',\n",
              " 'з',\n",
              " 'у',\n",
              " 'ч',\n",
              " 'е',\n",
              " 'н',\n",
              " 'и',\n",
              " 'е',\n",
              " '',\n",
              " 'р',\n",
              " 'е',\n",
              " 'г',\n",
              " 'у',\n",
              " 'л',\n",
              " 'я',\n",
              " 'р',\n",
              " 'н',\n",
              " 'ы',\n",
              " 'х',\n",
              " '',\n",
              " 'в',\n",
              " 'ы',\n",
              " 'р',\n",
              " 'а',\n",
              " 'ж',\n",
              " 'е',\n",
              " 'н',\n",
              " 'и',\n",
              " 'й',\n",
              " '',\n",
              " 'р',\n",
              " 'а',\n",
              " 'н',\n",
              " 'о',\n",
              " '',\n",
              " 'и',\n",
              " 'л',\n",
              " 'и',\n",
              " '',\n",
              " 'п',\n",
              " 'о',\n",
              " 'з',\n",
              " 'д',\n",
              " 'н',\n",
              " 'о',\n",
              " '',\n",
              " 'п',\n",
              " 'р',\n",
              " 'и',\n",
              " 'г',\n",
              " 'о',\n",
              " 'д',\n",
              " 'и',\n",
              " 'т',\n",
              " 'с',\n",
              " 'я',\n",
              " '',\n",
              " '']"
            ]
          },
          "metadata": {},
          "execution_count": 11
        }
      ]
    },
    {
      "cell_type": "code",
      "metadata": {
        "id": "I4FpQWdw_hzE"
      },
      "source": [
        ""
      ],
      "execution_count": null,
      "outputs": []
    },
    {
      "cell_type": "code",
      "metadata": {
        "id": "qGntw1Qd_hzE"
      },
      "source": [
        "# необходимо из строки с условными датами вытащить их\n",
        "registration = 'Date of start: 4-12. Date of registration: 20-11'"
      ],
      "execution_count": null,
      "outputs": []
    },
    {
      "cell_type": "code",
      "metadata": {
        "id": "cASR3icl_hzF",
        "colab": {
          "base_uri": "https://localhost:8080/"
        },
        "outputId": "587c72ad-cf78-4ac2-8077-487008d4a406"
      },
      "source": [
        "re.findall(r'\\d{1,2}-\\d{1,2}', registration)"
      ],
      "execution_count": null,
      "outputs": [
        {
          "output_type": "execute_result",
          "data": {
            "text/plain": [
              "['4-12', '20-11']"
            ]
          },
          "metadata": {},
          "execution_count": 13
        }
      ]
    },
    {
      "cell_type": "code",
      "metadata": {
        "id": "zU0_MXp2_hzF"
      },
      "source": [
        ""
      ],
      "execution_count": null,
      "outputs": []
    },
    {
      "cell_type": "code",
      "metadata": {
        "id": "ln3Z3Q3O_hzG"
      },
      "source": [
        "# вытащим номера телефонов и текста\n",
        "phone_numbers = 'Мария: 8-943-342-23-32 Александр: 8-323-432-23-67'"
      ],
      "execution_count": null,
      "outputs": []
    },
    {
      "cell_type": "code",
      "metadata": {
        "id": "tbUFSSXU_hzG",
        "colab": {
          "base_uri": "https://localhost:8080/"
        },
        "outputId": "ef3a2fba-187e-41e2-eb16-48cd581c2c73"
      },
      "source": [
        "phone_pattern = r'\\d-\\d{3}-\\d{3}-\\d{2}-\\d{2}'\n",
        "re.findall(phone_pattern, phone_numbers)"
      ],
      "execution_count": null,
      "outputs": [
        {
          "output_type": "execute_result",
          "data": {
            "text/plain": [
              "['8-943-342-23-32', '8-323-432-23-67']"
            ]
          },
          "metadata": {},
          "execution_count": 15
        }
      ]
    },
    {
      "cell_type": "code",
      "metadata": {
        "id": "4UrQtkT1_hzH"
      },
      "source": [
        ""
      ],
      "execution_count": null,
      "outputs": []
    },
    {
      "cell_type": "code",
      "metadata": {
        "scrolled": true,
        "id": "zqii2BFP_hzH"
      },
      "source": [
        "# ПРАКТИКА. Свалидируем дату\n",
        "date = 'some text 1st september 2019 07:25 some text'"
      ],
      "execution_count": null,
      "outputs": []
    },
    {
      "cell_type": "code",
      "metadata": {
        "id": "0jQLCAS4_hzH",
        "colab": {
          "base_uri": "https://localhost:8080/"
        },
        "outputId": "2727e32b-2993-4812-c892-abd06d9f2a20"
      },
      "source": [
        "re.findall(r'\\d\\w{2} \\w+ \\d{4}', date)"
      ],
      "execution_count": null,
      "outputs": [
        {
          "output_type": "execute_result",
          "data": {
            "text/plain": [
              "['1st september 2019']"
            ]
          },
          "metadata": {},
          "execution_count": 19
        }
      ]
    },
    {
      "cell_type": "code",
      "source": [
        "re.findall(r'\\d{1,2}\\w{2}\\s+\\w+\\s+\\d{4}', date)"
      ],
      "metadata": {
        "colab": {
          "base_uri": "https://localhost:8080/"
        },
        "id": "N242MTPOi2pn",
        "outputId": "3d042ce4-1883-40ab-c7aa-5fccfb9eb41a"
      },
      "execution_count": null,
      "outputs": [
        {
          "output_type": "execute_result",
          "data": {
            "text/plain": [
              "['1st september 2019']"
            ]
          },
          "metadata": {},
          "execution_count": 22
        }
      ]
    },
    {
      "cell_type": "markdown",
      "metadata": {
        "id": "kXjJXj5hBkBj"
      },
      "source": [
        ""
      ]
    },
    {
      "cell_type": "code",
      "metadata": {
        "id": "DHp1uMnM_hzI",
        "colab": {
          "base_uri": "https://localhost:8080/"
        },
        "outputId": "a6f78659-27ca-41b0-ea84-e92c16812368"
      },
      "source": [
        "# search ищет по всей строке, а match только в начале\n",
        "text = \"\"\"Что такое регулярные выражения и как их использовать? \n",
        "Говоря простым языком, регулярное выражение — это последовательность символов, используемая для поиска и замены текста в строке или файле. Как уже было упомянуто,\\\n",
        "их поддерживает множество языков общего назначения: Python, Perl, R.\n",
        "Так что изучение регулярных выражений рано или поздно пригодится.\"\"\"\n",
        "\n",
        "result = re.match(r'P\\w+', text)\n",
        "result\n",
        "print('Нашел' if result else 'Не нашел')"
      ],
      "execution_count": null,
      "outputs": [
        {
          "output_type": "stream",
          "name": "stdout",
          "text": [
            "Не нашел\n"
          ]
        }
      ]
    },
    {
      "cell_type": "code",
      "metadata": {
        "id": "uM3JJ1eR_hzI",
        "colab": {
          "base_uri": "https://localhost:8080/"
        },
        "outputId": "348e018a-d4cf-4a87-da4a-c9505ebb0c99"
      },
      "source": [
        "re.match(r'\\w+', text)"
      ],
      "execution_count": null,
      "outputs": [
        {
          "output_type": "execute_result",
          "data": {
            "text/plain": [
              "<re.Match object; span=(0, 3), match='Что'>"
            ]
          },
          "metadata": {},
          "execution_count": 24
        }
      ]
    },
    {
      "cell_type": "code",
      "metadata": {
        "id": "Js-pRNcy_hzJ",
        "colab": {
          "base_uri": "https://localhost:8080/"
        },
        "outputId": "d7880151-48ad-4519-b8d1-fc2e6e6eaa8b"
      },
      "source": [
        "res = re.search(r'P\\w+', text)\n",
        "res.start()\n",
        "# res.group()\n",
        "# res"
      ],
      "execution_count": null,
      "outputs": [
        {
          "output_type": "execute_result",
          "data": {
            "text/plain": [
              "269"
            ]
          },
          "metadata": {},
          "execution_count": 28
        }
      ]
    },
    {
      "cell_type": "code",
      "metadata": {
        "id": "8BP4XUVO_hzJ"
      },
      "source": [
        ""
      ],
      "execution_count": null,
      "outputs": []
    },
    {
      "cell_type": "code",
      "metadata": {
        "id": "sWzhv7xE_hzJ"
      },
      "source": [
        "# экранирование\n",
        "text = \"Эта строка написана 08.06.2021, а могла бы и 01/01/2999\""
      ],
      "execution_count": null,
      "outputs": []
    },
    {
      "cell_type": "code",
      "metadata": {
        "id": "MJGyV901_hzK",
        "colab": {
          "base_uri": "https://localhost:8080/"
        },
        "outputId": "b72abed3-9b26-4ba2-e4f9-6bb1a15cc58d"
      },
      "source": [
        "re.findall(r'\\d\\d\\.\\d\\d\\.\\d{4}', text)"
      ],
      "execution_count": null,
      "outputs": [
        {
          "output_type": "execute_result",
          "data": {
            "text/plain": [
              "['08.06.2021', '01/01/2999']"
            ]
          },
          "metadata": {},
          "execution_count": 31
        }
      ]
    },
    {
      "cell_type": "code",
      "metadata": {
        "id": "iSKV6Rqc_hzK"
      },
      "source": [
        "# определим находится ли домен в зоне com\n",
        "domain = 'www.site.com'"
      ],
      "execution_count": null,
      "outputs": []
    },
    {
      "cell_type": "code",
      "metadata": {
        "id": "m3h4l64J_hzK",
        "colab": {
          "base_uri": "https://localhost:8080/"
        },
        "outputId": "2c8cb822-c822-4965-dbed-337b52990519"
      },
      "source": [
        "re.findall(r'www\\..+\\.com', domain)"
      ],
      "execution_count": null,
      "outputs": [
        {
          "output_type": "execute_result",
          "data": {
            "text/plain": [
              "['www.site.com']"
            ]
          },
          "metadata": {},
          "execution_count": 33
        }
      ]
    },
    {
      "cell_type": "code",
      "metadata": {
        "id": "3Fgjt-hA_hzL"
      },
      "source": [
        "# поищем только в начале и конце строки\n",
        "history_comment = '20 век был более опасным, чем 19 век'"
      ],
      "execution_count": null,
      "outputs": []
    },
    {
      "cell_type": "code",
      "metadata": {
        "id": "mBANMW7F_hzL",
        "colab": {
          "base_uri": "https://localhost:8080/"
        },
        "outputId": "01af99ea-6a25-4c6c-8722-378dc20e0300"
      },
      "source": [
        "re.findall(r'\\d{1,2}\\sвек', history_comment)"
      ],
      "execution_count": null,
      "outputs": [
        {
          "output_type": "execute_result",
          "data": {
            "text/plain": [
              "['20 век', '19 век']"
            ]
          },
          "metadata": {},
          "execution_count": 36
        }
      ]
    },
    {
      "cell_type": "code",
      "metadata": {
        "id": "cxBFLGqF_hzM",
        "colab": {
          "base_uri": "https://localhost:8080/"
        },
        "outputId": "b27a30d9-7e80-4a38-fe8f-50cd38715e1e"
      },
      "source": [
        "re.findall(r'^\\d{1,2}\\sвек', history_comment)"
      ],
      "execution_count": null,
      "outputs": [
        {
          "output_type": "execute_result",
          "data": {
            "text/plain": [
              "['20 век']"
            ]
          },
          "metadata": {},
          "execution_count": 37
        }
      ]
    },
    {
      "cell_type": "code",
      "metadata": {
        "id": "RHLmO7nh_hzN",
        "colab": {
          "base_uri": "https://localhost:8080/"
        },
        "outputId": "0b085723-f3b2-4517-baac-3770762b1cd1"
      },
      "source": [
        "re.findall(r'\\d{1,2}\\sвек$', history_comment)"
      ],
      "execution_count": null,
      "outputs": [
        {
          "output_type": "execute_result",
          "data": {
            "text/plain": [
              "['19 век']"
            ]
          },
          "metadata": {},
          "execution_count": 38
        }
      ]
    },
    {
      "cell_type": "code",
      "metadata": {
        "id": "rbbiCwSt_hzN"
      },
      "source": [
        ""
      ],
      "execution_count": null,
      "outputs": []
    },
    {
      "cell_type": "code",
      "metadata": {
        "id": "UYt4Ie2p_hzN",
        "colab": {
          "base_uri": "https://localhost:8080/"
        },
        "outputId": "65b2b668-7e7c-43f7-dfb9-0b22c27705e8"
      },
      "source": [
        "# ИЛИ\n",
        "market_search = 'Что лучше: ноутбук или компьютер?'\n",
        "re.findall('ноутбук|компьютер', market_search)"
      ],
      "execution_count": null,
      "outputs": [
        {
          "output_type": "execute_result",
          "data": {
            "text/plain": [
              "['ноутбук', 'компьютер']"
            ]
          },
          "metadata": {},
          "execution_count": 39
        }
      ]
    },
    {
      "cell_type": "code",
      "metadata": {
        "id": "QA_LkF74_hzO",
        "colab": {
          "base_uri": "https://localhost:8080/",
          "height": 36
        },
        "outputId": "3f437f07-51a7-4144-ca35-6205e21485c4"
      },
      "source": [
        "text = '    Тут текст в который попали пробельные символы в начале и в конце, от которых нужно избавиться   ' \n",
        "\n",
        "re.sub(r'^\\s+|\\s+$', '', text) "
      ],
      "execution_count": null,
      "outputs": [
        {
          "output_type": "execute_result",
          "data": {
            "application/vnd.google.colaboratory.intrinsic+json": {
              "type": "string"
            },
            "text/plain": [
              "'Тут текст в который попали пробельные символы в начале и в конце, от которых нужно избавиться'"
            ]
          },
          "metadata": {},
          "execution_count": 41
        }
      ]
    },
    {
      "cell_type": "code",
      "metadata": {
        "id": "WJUKoWcN_hzO"
      },
      "source": [
        ""
      ],
      "execution_count": null,
      "outputs": []
    },
    {
      "cell_type": "code",
      "metadata": {
        "id": "rfzOaAqP_hzP",
        "colab": {
          "base_uri": "https://localhost:8080/"
        },
        "outputId": "76b8f538-58bf-4a40-c715-773a18e850f6"
      },
      "source": [
        "# [] - найдем слово во всем склонениях\n",
        "text = \"\"\"Что такое регулярные выражения и как их использовать? \n",
        "Говоря простым языком, регулярное выражение — это последовательность символов, используемая для поиска и замены текста в строке или файле. Как уже было упомянуто,\n",
        "их поддерживает множество языков общего назначения: Python, Perl, R.\n",
        "Так что изучение регулярных выражений рано или поздно пригодится.\"\"\"\n",
        "pattern = r'регулярн[а-я]+\\sвыражен[а-я]+'\n",
        "re.findall(pattern, text)"
      ],
      "execution_count": null,
      "outputs": [
        {
          "output_type": "execute_result",
          "data": {
            "text/plain": [
              "['регулярные выражения', 'регулярное выражение', 'регулярных выражений']"
            ]
          },
          "metadata": {},
          "execution_count": 42
        }
      ]
    },
    {
      "cell_type": "code",
      "metadata": {
        "id": "tlzH1TFZ_hzQ"
      },
      "source": [
        ""
      ],
      "execution_count": null,
      "outputs": []
    },
    {
      "cell_type": "code",
      "metadata": {
        "id": "M8NQrHsJ_hzR"
      },
      "source": [
        "# найдем все домены, которые состоят из цифр\n",
        "websites = 'www.101.com  www.google.com'"
      ],
      "execution_count": null,
      "outputs": []
    },
    {
      "cell_type": "code",
      "metadata": {
        "id": "Q-e3ERl2_hzR",
        "colab": {
          "base_uri": "https://localhost:8080/"
        },
        "outputId": "76642898-1ec0-4061-9a19-df91c01c8ae6"
      },
      "source": [
        "re.findall(r'www\\.[0-9]+\\.com', websites)"
      ],
      "execution_count": null,
      "outputs": [
        {
          "output_type": "execute_result",
          "data": {
            "text/plain": [
              "['www.101.com']"
            ]
          },
          "metadata": {},
          "execution_count": 44
        }
      ]
    },
    {
      "cell_type": "code",
      "metadata": {
        "id": "edYU_HDW_hzR"
      },
      "source": [
        "websites = 'www.101.com  www.google.com'"
      ],
      "execution_count": null,
      "outputs": []
    },
    {
      "cell_type": "code",
      "metadata": {
        "id": "plq39Hbe_hzR",
        "colab": {
          "base_uri": "https://localhost:8080/"
        },
        "outputId": "78653afc-e199-4aed-f594-8bcc9e0c9d57"
      },
      "source": [
        "re.findall(r'www\\.[^0-9]+\\.com', websites)"
      ],
      "execution_count": null,
      "outputs": [
        {
          "output_type": "execute_result",
          "data": {
            "text/plain": [
              "['www.google.com']"
            ]
          },
          "metadata": {},
          "execution_count": 46
        }
      ]
    },
    {
      "cell_type": "code",
      "metadata": {
        "id": "9MVX6FV6_hzS"
      },
      "source": [
        ""
      ],
      "execution_count": null,
      "outputs": []
    },
    {
      "cell_type": "code",
      "metadata": {
        "id": "_eJo-m10_hzS",
        "colab": {
          "base_uri": "https://localhost:8080/"
        },
        "outputId": "2cc12a41-624f-4ca0-8f8f-389466f393d9"
      },
      "source": [
        "# split\n",
        "columns = 'Столбец1,Столбец2;Столбец3, Столбец4; Столбец5'\n",
        "re.split(r'[,;]\\s?', columns)"
      ],
      "execution_count": null,
      "outputs": [
        {
          "output_type": "execute_result",
          "data": {
            "text/plain": [
              "['Столбец1', 'Столбец2', 'Столбец3', 'Столбец4', 'Столбец5']"
            ]
          },
          "metadata": {},
          "execution_count": 47
        }
      ]
    },
    {
      "cell_type": "code",
      "metadata": {
        "id": "_tiEjOyJ_hzS"
      },
      "source": [
        ""
      ],
      "execution_count": null,
      "outputs": []
    },
    {
      "cell_type": "code",
      "metadata": {
        "id": "dGqHFMNR_hzT",
        "colab": {
          "base_uri": "https://localhost:8080/"
        },
        "outputId": "922c6555-4ea6-4bb1-c407-ef919dd8bd8b"
      },
      "source": [
        "# произведем замену на regex\n",
        "text = \"\"\"Что такое регулярные выражения и как их использовать? \n",
        "Говоря простым языком, регулярное выражение — это последовательность символов, используемая для поиска и замены текста в строке или файле. Как уже было упомянуто,\n",
        "их поддерживает множество языков общего назначения: Python, Perl, R.\n",
        "Так что изучение регулярных выражений рано или поздно пригодится.\"\"\"\n",
        "\n",
        "print(re.sub(r'регулярн[а-я]+ выражен[а-я]+', 'regex', text))"
      ],
      "execution_count": null,
      "outputs": [
        {
          "output_type": "stream",
          "name": "stdout",
          "text": [
            "Что такое regex и как их использовать? \n",
            "Говоря простым языком, regex — это последовательность символов, используемая для поиска и замены текста в строке или файле. Как уже было упомянуто,\n",
            "их поддерживает множество языков общего назначения: Python, Perl, R.\n",
            "Так что изучение regex рано или поздно пригодится.\n"
          ]
        }
      ]
    },
    {
      "cell_type": "code",
      "metadata": {
        "id": "vEXnaRol_hzT",
        "colab": {
          "base_uri": "https://localhost:8080/"
        },
        "outputId": "47545b92-2180-4344-e971-c34d696ccebc"
      },
      "source": [
        "text = \"Некоторые обычные слова подозрительны: хор, хук, хек.\" \n",
        "print(re.sub(r'\\b[хХ]\\w{2}\\b', 'censored', text)) "
      ],
      "execution_count": null,
      "outputs": [
        {
          "output_type": "stream",
          "name": "stdout",
          "text": [
            "Некоторые обычные слова подозрительны: censored, censored, censored.\n"
          ]
        }
      ]
    },
    {
      "cell_type": "code",
      "metadata": {
        "id": "JC8bnaBk_hzT"
      },
      "source": [
        "# Практика. Удалим все знаки пунктуации из текста через sub\n",
        "text = \"\"\"Что такое регулярные выражения и как их использовать? \n",
        "Говоря простым языком, регулярное выражение — это последовательность символов, используемая для поиска и замены текста в строке или файле. Как уже было упомянуто,\n",
        "их поддерживает множество языков общего назначения: Python, Perl, R.\n",
        "Так что изучение регулярных выражений рано или поздно пригодится.\"\"\""
      ],
      "execution_count": null,
      "outputs": []
    },
    {
      "cell_type": "code",
      "metadata": {
        "id": "fks9ubDa_hzU",
        "colab": {
          "base_uri": "https://localhost:8080/",
          "height": 70
        },
        "outputId": "c15f2eae-984f-46ed-97f5-03acb3ad38ab"
      },
      "source": [
        "# re.sub(r'^\\w+',  '', text)\n",
        "re.sub(r'[.,;!?]', '', text)"
      ],
      "execution_count": null,
      "outputs": [
        {
          "output_type": "execute_result",
          "data": {
            "application/vnd.google.colaboratory.intrinsic+json": {
              "type": "string"
            },
            "text/plain": [
              "'Что такое регулярные выражения и как их использовать \\nГоворя простым языком регулярное выражение — это последовательность символов используемая для поиска и замены текста в строке или файле Как уже было упомянуто\\nих поддерживает множество языков общего назначения: Python Perl R\\nТак что изучение регулярных выражений рано или поздно пригодится'"
            ]
          },
          "metadata": {},
          "execution_count": 53
        }
      ]
    },
    {
      "cell_type": "code",
      "source": [
        "print(re.sub(r'[-,.!?]', '', text))"
      ],
      "metadata": {
        "colab": {
          "base_uri": "https://localhost:8080/"
        },
        "id": "XCoicd5qpjje",
        "outputId": "79005c8a-0369-45ea-a0f5-03244a41ee81"
      },
      "execution_count": null,
      "outputs": [
        {
          "output_type": "stream",
          "name": "stdout",
          "text": [
            "Что такое регулярные выражения и как их использовать \n",
            "Говоря простым языком регулярное выражение — это последовательность символов используемая для поиска и замены текста в строке или файле Как уже было упомянуто\n",
            "их поддерживает множество языков общего назначения: Python Perl R\n",
            "Так что изучение регулярных выражений рано или поздно пригодится\n"
          ]
        }
      ]
    },
    {
      "cell_type": "code",
      "source": [
        "re.sub(r'[^\\w ]', '', text)"
      ],
      "metadata": {
        "colab": {
          "base_uri": "https://localhost:8080/",
          "height": 70
        },
        "id": "zZhtnyOPpuCU",
        "outputId": "ae56f944-323d-45dc-f54d-2a20dfc2e04f"
      },
      "execution_count": null,
      "outputs": [
        {
          "output_type": "execute_result",
          "data": {
            "application/vnd.google.colaboratory.intrinsic+json": {
              "type": "string"
            },
            "text/plain": [
              "'Что такое регулярные выражения и как их использовать Говоря простым языком регулярное выражение  это последовательность символов используемая для поиска и замены текста в строке или файле Как уже было упомянутоих поддерживает множество языков общего назначения Python Perl RТак что изучение регулярных выражений рано или поздно пригодится'"
            ]
          },
          "metadata": {},
          "execution_count": 56
        }
      ]
    },
    {
      "cell_type": "markdown",
      "metadata": {
        "id": "ar8N3rykBnvu"
      },
      "source": [
        ""
      ]
    },
    {
      "cell_type": "code",
      "metadata": {
        "id": "VzI26XiV_hzU"
      },
      "source": [
        "# скобочные группы\n",
        "# выделим группы символов из посадочного талона, где:\n",
        "# - первые 2 символа - это авиакомпания;\n",
        "# - 4 следующие символа - номер рейса;\n",
        "# - 3 следующих символа - аэропорт отправления;\n",
        "# - 3 следюущих - аэропорт прибытия;\n",
        "# - оставшиеся - дата рейса\n",
        "# Все буквы всегда в верхнем регистре"
      ],
      "execution_count": null,
      "outputs": []
    },
    {
      "cell_type": "code",
      "metadata": {
        "id": "LlGOJfFT_hzV"
      },
      "source": [
        "flight = '''Boarding pass: \n",
        "LA4214 AER-CDB 06NOV \n",
        "LA4332 AER-CDB 07NOV\n",
        "'''"
      ],
      "execution_count": null,
      "outputs": []
    },
    {
      "cell_type": "code",
      "metadata": {
        "id": "bjec5-PB_hzV"
      },
      "source": [
        "regex_flight = r'([A-Z]{2})(\\d{4})\\s([A-Z]{3})-([A-Z]{3})\\s(\\d{2}[A-Z]{3})'"
      ],
      "execution_count": null,
      "outputs": []
    },
    {
      "cell_type": "code",
      "metadata": {
        "id": "K90yhL6J_hzV"
      },
      "source": [
        "# ВНИМАНИЕ! При наличии скобочных групп функция find_all ищет только их! \n",
        "# Остальные функции получают такой-же match объект, в котором есть возможность обратиться к любой группе\n",
        "flight_result = re.findall(regex_flight, flight)"
      ],
      "execution_count": null,
      "outputs": []
    },
    {
      "cell_type": "code",
      "metadata": {
        "id": "FtPQ5puv_hzW",
        "colab": {
          "base_uri": "https://localhost:8080/"
        },
        "outputId": "7e5773e3-468c-4dc2-b38b-7bb706fabdc2"
      },
      "source": [
        "print(flight_result)"
      ],
      "execution_count": null,
      "outputs": [
        {
          "output_type": "stream",
          "name": "stdout",
          "text": [
            "[('LA', '4214', 'AER', 'CDB', '06NOV'), ('LA', '4332', 'AER', 'CDB', '07NOV')]\n"
          ]
        }
      ]
    },
    {
      "cell_type": "code",
      "metadata": {
        "id": "DW-PG4mp_hzW",
        "colab": {
          "base_uri": "https://localhost:8080/"
        },
        "outputId": "16f184cd-b184-469b-ea2e-088f888dec9c"
      },
      "source": [
        "flight_match_result = re.search(regex_flight, flight)\n",
        "print(flight_match_result)\n",
        "# print(flight_match_result.group(3))"
      ],
      "execution_count": null,
      "outputs": [
        {
          "output_type": "stream",
          "name": "stdout",
          "text": [
            "AER\n"
          ]
        }
      ]
    },
    {
      "cell_type": "code",
      "metadata": {
        "id": "dKRzXYJI_hzW",
        "colab": {
          "base_uri": "https://localhost:8080/",
          "height": 36
        },
        "outputId": "e52ca177-91eb-4295-fcc8-345266a019f4"
      },
      "source": [
        "# переведем даты к другому формату при помощи групп\n",
        "date = 'some text 08/30/1991 some text'\n",
        "re.sub(r'(\\d\\d)/(\\d\\d)/(\\d{4})', r'\\2.\\1.\\3', date)"
      ],
      "execution_count": null,
      "outputs": [
        {
          "output_type": "execute_result",
          "data": {
            "application/vnd.google.colaboratory.intrinsic+json": {
              "type": "string"
            },
            "text/plain": [
              "'some text 30.08.1991 some text'"
            ]
          },
          "metadata": {},
          "execution_count": 71
        }
      ]
    },
    {
      "cell_type": "code",
      "metadata": {
        "id": "Igp0COzW_hzX"
      },
      "source": [
        "# удалим последовательные повторы цифр\n",
        "numbers = '44444555 6666 8888 7777 44445467457547457555555'"
      ],
      "execution_count": null,
      "outputs": []
    },
    {
      "cell_type": "code",
      "metadata": {
        "id": "zCGLQ2Dg_hzX",
        "colab": {
          "base_uri": "https://localhost:8080/",
          "height": 36
        },
        "outputId": "b3cbbc5f-df7a-4de4-f498-162ec2a84e96"
      },
      "source": [
        "re.sub(r'(\\d)\\1+', r'\\1', numbers)"
      ],
      "execution_count": null,
      "outputs": [
        {
          "output_type": "execute_result",
          "data": {
            "application/vnd.google.colaboratory.intrinsic+json": {
              "type": "string"
            },
            "text/plain": [
              "'45 6 8 7 454674575474575'"
            ]
          },
          "metadata": {},
          "execution_count": 73
        }
      ]
    },
    {
      "cell_type": "code",
      "metadata": {
        "id": "daNJpfTe_hzX"
      },
      "source": [
        ""
      ],
      "execution_count": null,
      "outputs": []
    },
    {
      "cell_type": "code",
      "metadata": {
        "id": "RBGewGNf_hzY"
      },
      "source": [
        "# ПРАКТИКА. Посчитаем количество лайков и репостов по всем сообщениям\n",
        "messages = ['Опять дождь! Лайков: 2', 'Крутой был концерт 21 августа! Лайков: 28, Репостов: 22']"
      ],
      "execution_count": null,
      "outputs": []
    },
    {
      "cell_type": "code",
      "metadata": {
        "id": "gQfec0rL_hzY",
        "colab": {
          "base_uri": "https://localhost:8080/"
        },
        "outputId": "9c9d310c-e602-4288-f687-8a4570841a39"
      },
      "source": [
        "likes = 0\n",
        "reposts = 0\n",
        "\n",
        "for msg in messages:\n",
        "    likes_pattern = re.search(r'Лайков:\\s(\\d+)', msg)\n",
        "    reposts_pattern = re.search(r'Репостов:\\s(\\d+)', msg)\n",
        "    if likes_pattern: likes += int(likes_pattern.group(1))\n",
        "    if reposts_pattern: reposts += int(reposts_pattern.group(1))\n",
        "\n",
        "print(likes)\n",
        "print(reposts)"
      ],
      "execution_count": null,
      "outputs": [
        {
          "output_type": "stream",
          "name": "stdout",
          "text": [
            "30\n",
            "22\n"
          ]
        }
      ]
    },
    {
      "cell_type": "code",
      "metadata": {
        "id": "kBnKnsiG_hzY"
      },
      "source": [
        ""
      ],
      "execution_count": null,
      "outputs": []
    },
    {
      "cell_type": "code",
      "metadata": {
        "id": "JpYcMJ7N_hzY"
      },
      "source": [
        "# Флаги\n",
        "text = \"\"\"Что такое регулярные выражения и как их использовать? \n",
        "Говоря простым языком, регулярное выражение — это последовательность символов, используемая для поиска и замены текста в строке или файле. Как уже было упомянуто,\n",
        "их поддерживает множество языков общего назначения: Python, Perl, R.\n",
        "Так что изучение регулярных выражений рано или поздно пригодится.\"\"\""
      ],
      "execution_count": null,
      "outputs": []
    },
    {
      "cell_type": "code",
      "metadata": {
        "id": "9BJwqTt8_hzZ",
        "colab": {
          "base_uri": "https://localhost:8080/"
        },
        "outputId": "d3075723-ea2a-4b9b-a6ba-231d8e4a9132"
      },
      "source": [
        "print(re.findall(r'[a-z]+', text)) \n",
        "print(re.findall(r'[a-z]+', text, flags=re.IGNORECASE)) "
      ],
      "execution_count": null,
      "outputs": [
        {
          "output_type": "stream",
          "name": "stdout",
          "text": [
            "['Python', 'Perl', 'R']\n",
            "['Python', 'Perl', 'R']\n"
          ]
        }
      ]
    },
    {
      "cell_type": "code",
      "metadata": {
        "id": "p7mS82iG_hzZ",
        "colab": {
          "base_uri": "https://localhost:8080/"
        },
        "outputId": "65063986-6d84-4172-f19c-c8d4b70cdf07"
      },
      "source": [
        "# print(re.findall(r'^\\w+', text)) \n",
        "print(re.findall(r'^\\w+', text, flags=re.MULTILINE)) "
      ],
      "execution_count": null,
      "outputs": [
        {
          "output_type": "stream",
          "name": "stdout",
          "text": [
            "['Что', 'Говоря', 'их', 'Так']\n"
          ]
        }
      ]
    },
    {
      "cell_type": "code",
      "metadata": {
        "id": "ubIcC-fr_hzZ"
      },
      "source": [
        ""
      ],
      "execution_count": null,
      "outputs": []
    },
    {
      "cell_type": "code",
      "metadata": {
        "id": "MAIeq0qM_hza",
        "colab": {
          "base_uri": "https://localhost:8080/"
        },
        "outputId": "a48d2fd5-d37c-4871-9275-9cb77f7a72e6"
      },
      "source": [
        "# lookaround. Достанем имена только загруженных файлов\n",
        "report = 'файл 11.txt загружен, файл 22.txt загружен, файл 33.txt ошибка 44345, файл 44.txt ошибка 43535'\n",
        "# find_downloaded = r'\\d+\\.txt(?=\\sзагружен)'\n",
        "files_error = r'\\d+\\.txt(?!\\sзагружен)'\n",
        "# re.findall(find_downloaded, report)\n",
        "re.findall(files_error, report)"
      ],
      "execution_count": null,
      "outputs": [
        {
          "output_type": "execute_result",
          "data": {
            "text/plain": [
              "['33.txt', '44.txt']"
            ]
          },
          "metadata": {},
          "execution_count": 82
        }
      ]
    },
    {
      "cell_type": "code",
      "metadata": {
        "id": "LIjlIz6q_hza"
      },
      "source": [
        ""
      ],
      "execution_count": null,
      "outputs": []
    },
    {
      "cell_type": "code",
      "metadata": {
        "id": "zOxfkL8L_hza"
      },
      "source": [
        "# ПРАКТИКА. Получить только рублевые цены\n",
        "prices = 'RUB4.44, RUB10.88, EUR0.99, RUB99.99'"
      ],
      "execution_count": null,
      "outputs": []
    },
    {
      "cell_type": "code",
      "metadata": {
        "id": "eA3B1dhK_hza",
        "colab": {
          "base_uri": "https://localhost:8080/"
        },
        "outputId": "3a3d0176-5dcc-43b2-bdfd-20f033585a19"
      },
      "source": [
        "re.findall(r'(?<=RUB)\\d+\\.\\d{2}', prices)"
      ],
      "execution_count": null,
      "outputs": [
        {
          "output_type": "execute_result",
          "data": {
            "text/plain": [
              "['4.44', '10.88', '99.99']"
            ]
          },
          "metadata": {},
          "execution_count": 90
        }
      ]
    },
    {
      "cell_type": "code",
      "source": [
        "text = r\"За что отвечает символ \\w в питоне?\" \n",
        "re.search(r'\\\\w', text)"
      ],
      "metadata": {
        "colab": {
          "base_uri": "https://localhost:8080/"
        },
        "id": "k9-SzBJCxUpe",
        "outputId": "f44ae563-6b75-4263-b9d3-78805187f869"
      },
      "execution_count": null,
      "outputs": [
        {
          "output_type": "execute_result",
          "data": {
            "text/plain": [
              "<re.Match object; span=(23, 25), match='\\\\w'>"
            ]
          },
          "metadata": {},
          "execution_count": 95
        }
      ]
    },
    {
      "cell_type": "markdown",
      "metadata": {
        "id": "WiWg81tWHz2b"
      },
      "source": [
        "https://regexcrossword.com/howtoplay"
      ]
    },
    {
      "cell_type": "markdown",
      "source": [
        "Регулярные\n",
        "выражения\n",
        "Сборник рецептов\n",
        "2015\n",
        "Ян Гойвертс,\n",
        "Стивен\n",
        "Левитан"
      ],
      "metadata": {
        "id": "4bInRY3OHWNB"
      }
    }
  ]
}