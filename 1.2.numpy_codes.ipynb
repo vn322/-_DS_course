{
 "cells": [
  {
   "cell_type": "markdown",
   "metadata": {},
   "source": [
    "# Метрики схожести"
   ]
  },
  {
   "cell_type": "code",
   "execution_count": 1,
   "metadata": {},
   "outputs": [],
   "source": [
    "import Levenshtein"
   ]
  },
  {
   "cell_type": "code",
   "execution_count": 2,
   "metadata": {},
   "outputs": [],
   "source": [
    "voice_transcription = 'Романова'  # результат расшифровки голоса"
   ]
  },
  {
   "cell_type": "code",
   "execution_count": 3,
   "metadata": {},
   "outputs": [],
   "source": [
    "team = ['Мединская', 'Лучникова', 'Шереметьева', 'Разгуляева', 'Романовская']  # список настоящих фамилий"
   ]
  },
  {
   "cell_type": "code",
   "execution_count": 4,
   "metadata": {},
   "outputs": [
    {
     "name": "stdout",
     "output_type": "stream",
     "text": [
      "Мединская 7\n",
      "Лучникова 6\n",
      "Шереметьева 8\n",
      "Разгуляева 7\n",
      "Романовская 3\n"
     ]
    }
   ],
   "source": [
    "for name in team:\n",
    "    print(name, Levenshtein.distance(name, voice_transcription))"
   ]
  },
  {
   "cell_type": "code",
   "execution_count": 5,
   "metadata": {},
   "outputs": [
    {
     "data": {
      "text/plain": [
       "[('Романовская', 3),\n",
       " ('Лучникова', 6),\n",
       " ('Мединская', 7),\n",
       " ('Разгуляева', 7),\n",
       " ('Шереметьева', 8)]"
      ]
     },
     "execution_count": 5,
     "metadata": {},
     "output_type": "execute_result"
    }
   ],
   "source": [
    "sorted([(name, Levenshtein.distance(name, voice_transcription)) for name in team], key=lambda x: x[1])"
   ]
  },
  {
   "cell_type": "markdown",
   "metadata": {},
   "source": [
    "# Word2vec"
   ]
  },
  {
   "cell_type": "code",
   "execution_count": 7,
   "metadata": {},
   "outputs": [],
   "source": [
    "import word2vec"
   ]
  },
  {
   "cell_type": "code",
   "execution_count": 8,
   "metadata": {},
   "outputs": [
    {
     "name": "stdout",
     "output_type": "stream",
     "text": [
      "Running command: word2vec -train keywords_only.csv -output keywords.bin -size 100 -window 5 -sample 1e-3 -hs 0 -negative 5 -threads 12 -iter 5 -min-count 5 -alpha 0.025 -debug 2 -binary 1 -cbow 1\n",
      "Starting training using file keywords_only.csv\n",
      "Vocab size: 7785\n",
      "Words in train file: 326738\n",
      "Alpha: 0.000998  Progress: 96.62%  Words/thread/sec: 338.95k  0.016957  Progress: 32.79%  Words/thread/sec: 315.60k  321.99k  "
     ]
    }
   ],
   "source": [
    "word2vec.word2vec('keywords_only.csv', 'keywords.bin', size=100, binary=True, verbose=True)"
   ]
  },
  {
   "cell_type": "code",
   "execution_count": 9,
   "metadata": {},
   "outputs": [],
   "source": [
    "model = word2vec.load('keywords.bin')"
   ]
  },
  {
   "cell_type": "code",
   "execution_count": 10,
   "metadata": {},
   "outputs": [
    {
     "data": {
      "text/plain": [
       "(7785, 100)"
      ]
     },
     "execution_count": 10,
     "metadata": {},
     "output_type": "execute_result"
    }
   ],
   "source": [
    "model.vectors.shape"
   ]
  },
  {
   "cell_type": "code",
   "execution_count": 11,
   "metadata": {},
   "outputs": [
    {
     "data": {
      "text/plain": [
       "[('доллар', 'курс', 0.8822417410516974),\n",
       " ('доллар', 'новости', 0.7286633684539245),\n",
       " ('курс', 'новости', 0.7425631971164824)]"
      ]
     },
     "execution_count": 11,
     "metadata": {},
     "output_type": "execute_result"
    }
   ],
   "source": [
    "model.distance('доллар', 'курс', 'новости')"
   ]
  },
  {
   "cell_type": "code",
   "execution_count": 12,
   "metadata": {
    "scrolled": true
   },
   "outputs": [
    {
     "data": {
      "text/plain": [
       "[('фейсбук', 0.9908933174218655),\n",
       " ('знакомства', 0.9893185589110778),\n",
       " ('фотострана', 0.982434242422502),\n",
       " ('мобильная', 0.9812024448851491),\n",
       " ('главная', 0.9800122237435859),\n",
       " ('контакт', 0.9780676855437472),\n",
       " ('вхід', 0.9775003477957306),\n",
       " ('добро', 0.9772693124774182),\n",
       " ('табор', 0.9759392668075421),\n",
       " ('регистрация', 0.9756796407334221)]"
      ]
     },
     "execution_count": 12,
     "metadata": {},
     "output_type": "execute_result"
    }
   ],
   "source": [
    "indexes, metrics = model.similar('вконтакте')\n",
    "model.generate_response(indexes, metrics).tolist()"
   ]
  },
  {
   "cell_type": "code",
   "execution_count": 13,
   "metadata": {},
   "outputs": [
    {
     "data": {
      "text/plain": [
       "[('мультфильм', 0.9607078126206458),\n",
       " ('возвращайся', 0.8425563530921425),\n",
       " ('ричер', 0.7820211049570913),\n",
       " ('защитники', 0.7752562544337286),\n",
       " ('уик', 0.774507399407147),\n",
       " ('цунами', 0.7731366977059295),\n",
       " ('роли', 0.7703655434664876),\n",
       " ('помню', 0.7681336810587551),\n",
       " ('черепашки', 0.763329419679535),\n",
       " ('стражи', 0.7620639040647557)]"
      ]
     },
     "execution_count": 13,
     "metadata": {},
     "output_type": "execute_result"
    }
   ],
   "source": [
    "indexes, metrics = model.similar('фильм')\n",
    "model.generate_response(indexes, metrics).tolist()"
   ]
  }
 ],
 "metadata": {
  "kernelspec": {
   "display_name": "Python 3",
   "language": "python",
   "name": "python3"
  },
  "language_info": {
   "codemirror_mode": {
    "name": "ipython",
    "version": 3
   },
   "file_extension": ".py",
   "mimetype": "text/x-python",
   "name": "python",
   "nbconvert_exporter": "python",
   "pygments_lexer": "ipython3",
   "version": "3.8.5"
  }
 },
 "nbformat": 4,
 "nbformat_minor": 4
}
