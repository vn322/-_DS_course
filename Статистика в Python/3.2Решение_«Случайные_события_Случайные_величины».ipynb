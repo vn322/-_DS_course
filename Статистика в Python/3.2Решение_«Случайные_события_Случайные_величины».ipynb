{
  "nbformat": 4,
  "nbformat_minor": 0,
  "metadata": {
    "colab": {
      "name": "«Случайные события. Случайные величины».ipynb",
      "provenance": [],
      "collapsed_sections": []
    },
    "kernelspec": {
      "name": "python3",
      "display_name": "Python 3"
    },
    "language_info": {
      "name": "python"
    }
  },
  "cells": [
    {
      "cell_type": "markdown",
      "source": [
        "Смоделировать игру против лотерейного автомата типа “777”. Игрок платит 1 руб., после чего выпадает случайное целое число, равномерно распределенное от 0 до 999. При некоторых значениях числа игрок получает выигрыш.\n",
        "\n",
        "777: 200 руб.\n",
        "999: 100 руб.\n",
        "555: 50 руб.\n",
        "333: 15 руб.\n",
        "111: 10 руб.\n",
        "*77: 5 руб.\n",
        "**7: 3 руб.\n",
        "*00: 2 руб.\n",
        "**0: 1 руб.\n",
        "\n",
        "Вопросы:\n",
        "\n",
        "Выгодна ли игра игроку?\n",
        "Сколько в среднем приобретает или теряет игрок за одну игру?\n",
        "**Дополнительное задание повышенной сложности. **\n",
        "\n",
        "Теоретически рассчитать средний выигрыш (проигрыш) и сравнить с результатами моделирования\n",
        "\n",
        "– любая цифра"
      ],
      "metadata": {
        "id": "OmxcSASnfobm"
      }
    },
    {
      "cell_type": "code",
      "execution_count": null,
      "metadata": {
        "id": "10CYcnNGfmZM"
      },
      "outputs": [],
      "source": [
        "import numpy as np"
      ]
    },
    {
      "cell_type": "code",
      "source": [
        "trials = 10000000    # Количество попыток (денег)\n",
        "gain = 0    # Результат\n",
        "\n",
        "for i in range(trials + 1):\n",
        "    random_number = np.random.randint(0, 1000) \n",
        "    if random_number == 777:\n",
        "        gain = gain + 200\n",
        "    elif random_number == 999:\n",
        "        gain = gain + 100    \n",
        "    elif random_number == 555:\n",
        "        gain = gain + 50    \n",
        "    elif random_number == 333:\n",
        "        gain = gain + 15    \n",
        "    elif random_number == 111:\n",
        "        gain = gain + 10\n",
        "    elif random_number%100 == 77:\n",
        "        gain = gain + 5\n",
        "    elif random_number%10 == 7:\n",
        "        gain = gain + 3\n",
        "    elif random_number%100 == 0:\n",
        "        gain = gain + 2\n",
        "    elif random_number%10 == 0:\n",
        "        gain = gain + 1        \n",
        "    \n",
        "       \n",
        "print('Было перед игрой = ', trials)\n",
        "print('Стало после игры = ',gain)\n",
        "if trials>gain:\n",
        "  print('Прибыль составила = ', gain-trials)\n",
        "else: print('Убытки составили = ',trials-gain) \n",
        "print('Среднее изменение за игру = ', round((gain-trials)/trials,2))           "
      ],
      "metadata": {
        "colab": {
          "base_uri": "https://localhost:8080/"
        },
        "id": "rPpw-eQdf6nO",
        "outputId": "75176ed6-b77c-44f0-8cf4-1071d514d204"
      },
      "execution_count": null,
      "outputs": [
        {
          "output_type": "stream",
          "name": "stdout",
          "text": [
            "Было перед игрой =  10000000\n",
            "Стало после игры =  7982547\n",
            "Прибыль составила =  -2017453\n",
            "Среднее изменение за игру =  -0.2\n"
          ]
        }
      ]
    },
    {
      "cell_type": "code",
      "source": [
        "#сколько раз можно сыграть, если проигрывать выигрыш\n",
        "\n",
        "trials = 1000000    \n",
        "gain = 0   \n",
        "i = 1\n",
        "while trials > 0:\n",
        "    random_number = np.random.randint(0, 1000) \n",
        "    if random_number == 777:\n",
        "        trials = trials + 200\n",
        "    elif random_number == 999:\n",
        "        trials = trials + 100    \n",
        "    elif random_number == 555:\n",
        "        trials = trials + 50    \n",
        "    elif random_number == 333:\n",
        "        trials = trials + 15    \n",
        "    elif random_number == 111:\n",
        "        trials = trials + 10\n",
        "    elif random_number%100 == 77:\n",
        "        trials = trials + 5\n",
        "    elif random_number%10 == 7:\n",
        "        trials = trials + 3\n",
        "    elif str(random_number)[1:] == '00' or random_number == 0:\n",
        "        trials = trials + 2\n",
        "    elif str(random_number)[1:] == '0'  or str(random_number)[2:] == '0':      \n",
        "        trials = trials + 1\n",
        "    i += 1   \n",
        "    trials += -1\n",
        "print('можно сыграть  ', i, ' раз')\n"
      ],
      "metadata": {
        "colab": {
          "base_uri": "https://localhost:8080/"
        },
        "id": "4IzGfa4wgGQH",
        "outputId": "1e7272bb-ca12-4f79-a668-b66a0bb0b30a"
      },
      "execution_count": null,
      "outputs": [
        {
          "output_type": "stream",
          "name": "stdout",
          "text": [
            "можно сыграть   4991981  раз\n"
          ]
        }
      ]
    },
    {
      "cell_type": "code",
      "source": [
        "print(i*0.2)"
      ],
      "metadata": {
        "colab": {
          "base_uri": "https://localhost:8080/"
        },
        "id": "dKcPrTCdlttN",
        "outputId": "ceb993d8-a096-4c5f-920e-56dfa6923020"
      },
      "execution_count": null,
      "outputs": [
        {
          "output_type": "stream",
          "name": "stdout",
          "text": [
            "998396.2000000001\n"
          ]
        }
      ]
    },
    {
      "cell_type": "markdown",
      "source": [
        "Модель достаточно точна в этом случае"
      ],
      "metadata": {
        "id": "yFPkrp42mHEy"
      }
    }
  ]
}