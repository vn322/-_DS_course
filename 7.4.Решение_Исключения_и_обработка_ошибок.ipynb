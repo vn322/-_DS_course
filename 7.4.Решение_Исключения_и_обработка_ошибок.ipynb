{
  "nbformat": 4,
  "nbformat_minor": 0,
  "metadata": {
    "colab": {
      "name": "Исключения и обработка ошибок.ipynb",
      "provenance": [],
      "collapsed_sections": []
    },
    "kernelspec": {
      "name": "python3",
      "display_name": "Python 3"
    },
    "language_info": {
      "name": "python"
    }
  },
  "cells": [
    {
      "cell_type": "markdown",
      "source": [
        "Задание 1\n",
        "Печатные газеты использовали свой формат дат для каждого выпуска. Для каждой газеты из списка напишите формат указанной даты для перевода в объект datetime:\n",
        "The Moscow Times - Wednesday, October 2, 2002\n",
        "The Guardian - Friday, 11.10.13\n",
        "Daily News - Thursday, 18 August 1977"
      ],
      "metadata": {
        "id": "-1MHdeulGFWF"
      }
    },
    {
      "cell_type": "code",
      "execution_count": null,
      "metadata": {
        "id": "xw_c3NTLGB51"
      },
      "outputs": [],
      "source": [
        "from datetime import timedelta\n",
        "from datetime import datetime"
      ]
    },
    {
      "cell_type": "code",
      "source": [
        "x = \"The Moscow Times - Wednesday, October 2, 2002\"\n",
        "y = \"The Guardian - Friday, 11.10.13\"\n",
        "z = \"Daily News - Thursday, 18 August 1977\"\n",
        "\n",
        "x1 = str(*x.split(\" - \")[-1:])\n",
        "y1 = str(*y.split(\" - \")[-1:])\n",
        "z1 = str(*z.split(\" - \")[-1:])\n",
        "\n",
        "x2 = datetime.strptime(x1, \"%A, %B %d, %Y\")\n",
        "y2 = datetime.strptime(y1, \"%A, %d.%m.%y\")\n",
        "z2 = datetime.strptime(z1, \"%A, %d %B %Y\")\n",
        "\n",
        "x2, y2, z2\n",
        "\n"
      ],
      "metadata": {
        "colab": {
          "base_uri": "https://localhost:8080/"
        },
        "id": "tJpMQGpyLX_Z",
        "outputId": "22fd537e-5e1b-4e4e-894f-ec1ad1f6e622"
      },
      "execution_count": null,
      "outputs": [
        {
          "output_type": "execute_result",
          "data": {
            "text/plain": [
              "(datetime.datetime(2002, 10, 2, 0, 0),\n",
              " datetime.datetime(2013, 10, 11, 0, 0),\n",
              " datetime.datetime(1977, 8, 18, 0, 0))"
            ]
          },
          "metadata": {},
          "execution_count": 61
        }
      ]
    },
    {
      "cell_type": "markdown",
      "source": [
        "Задание 2\n",
        "Дан поток дат в формате YYYY-MM-DD, в которых встречаются некорректные значения:\n",
        "stream = [‘2018-04-02’, ‘2018-02-29’, ‘2018-19-02’]"
      ],
      "metadata": {
        "id": "h6bRM4T8M1OQ"
      }
    },
    {
      "cell_type": "code",
      "source": [
        "stream = ['2018-04-02', '2018-02-29', '2018-19-02']\n",
        "\n",
        "def f(dates):\n",
        "\n",
        "    for i in dates:\n",
        "        try:\n",
        "            x = datetime.strptime(i, \"%Y-%m-%d\") \n",
        "        except:\n",
        "            print(i, False)\n",
        "        else:\n",
        "            print(i, True)\n",
        "\n",
        "f(stream)"
      ],
      "metadata": {
        "colab": {
          "base_uri": "https://localhost:8080/"
        },
        "id": "IgJH9uNaM7GA",
        "outputId": "519fb7cc-c827-4a4c-d25e-12e5ed3a397d"
      },
      "execution_count": null,
      "outputs": [
        {
          "output_type": "stream",
          "name": "stdout",
          "text": [
            "2018-04-02 True\n",
            "2018-02-29 False\n",
            "2018-19-02 False\n"
          ]
        }
      ]
    },
    {
      "cell_type": "markdown",
      "source": [
        "Задание 3\n",
        "Напишите функцию date_range, которая возвращает список дат за период от start_date до end_date. Даты должны вводиться в формате YYYY-MM-DD. В случае неверного формата или при start_date > end_date должен возвращаться пустой список."
      ],
      "metadata": {
        "id": "eREezzQqN1t4"
      }
    },
    {
      "cell_type": "code",
      "source": [
        "def f(start,end):\n",
        "\n",
        "    dates = []\n",
        "    try:\n",
        "        st = datetime.strptime(start, \"%Y-%m-%d\") \n",
        "        en = datetime.strptime(end, \"%Y-%m-%d\") \n",
        "    except:\n",
        "        print(dates) \n",
        "    else:\n",
        "        while en >= st:\n",
        "            dates.append(datetime.strftime(st, \"%Y-%m-%d\"))\n",
        "            st += timedelta(days = 1)                \n",
        "        print(dates)\n",
        "\n",
        "f('2022-01-01','2022-01-24')"
      ],
      "metadata": {
        "colab": {
          "base_uri": "https://localhost:8080/"
        },
        "id": "spJ2oXhJN6TI",
        "outputId": "31c1d25b-f502-420c-d7a5-40e8c871cc81"
      },
      "execution_count": null,
      "outputs": [
        {
          "output_type": "stream",
          "name": "stdout",
          "text": [
            "['2022-01-01', '2022-01-02', '2022-01-03', '2022-01-04', '2022-01-05', '2022-01-06', '2022-01-07', '2022-01-08', '2022-01-09', '2022-01-10', '2022-01-11', '2022-01-12', '2022-01-13', '2022-01-14', '2022-01-15', '2022-01-16', '2022-01-17', '2022-01-18', '2022-01-19', '2022-01-20', '2022-01-21', '2022-01-22', '2022-01-23', '2022-01-24']\n"
          ]
        }
      ]
    },
    {
      "cell_type": "markdown",
      "source": [
        "# Комментарии преподавателя\n",
        "\n",
        "\n",
        "Добрый вечер, спасибо за решения.\n",
        "Здорово получилось.\n",
        "\n",
        "В задании 3 в функции f лучше возвращать результат с помощью оператора return, а не выводить на экран."
      ],
      "metadata": {
        "id": "OGkY7ihT5Eby"
      }
    },
    {
      "cell_type": "code",
      "source": [
        ""
      ],
      "metadata": {
        "id": "swaoMuB-Pn85"
      },
      "execution_count": null,
      "outputs": []
    }
  ]
}