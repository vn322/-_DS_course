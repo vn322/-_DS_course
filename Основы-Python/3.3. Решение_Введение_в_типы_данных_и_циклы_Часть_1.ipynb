{
  "nbformat": 4,
  "nbformat_minor": 0,
  "metadata": {
    "colab": {
      "name": "3.3. Решение_Введение в типы данных и циклы. Часть 1.ipynb",
      "provenance": []
    },
    "kernelspec": {
      "name": "python3",
      "display_name": "Python 3"
    },
    "language_info": {
      "name": "python"
    }
  },
  "cells": [
    {
      "cell_type": "markdown",
      "source": [
        "# Домашнее задание к лекции \"Введение в типы данных и циклы. Часть 1\"\n",
        "# Задание 1\n",
        "Дана переменная, в которой хранится слово из латинских букв. Напишите код, который выводит на экран:\n",
        "\n",
        "среднюю букву, если число букв в слове нечетное;\n",
        "две средних буквы, если число букв четное.\n",
        "Примеры работы программы:\n",
        "\n",
        "word = 'test'\n",
        "Результат:\n",
        "es\n",
        "\n",
        "word = 'testing'\n",
        "Результат:\n",
        "t"
      ],
      "metadata": {
        "id": "aJuLybA4-s64"
      }
    },
    {
      "cell_type": "code",
      "source": [
        "x = input()\n",
        "\n",
        "a = round(len(x)/2)-1\n",
        "b = round(len(x)/2 + 0.7)-1 \n",
        "\n",
        "print(*{x[a],x[b]}, sep = '')\n"
      ],
      "metadata": {
        "colab": {
          "base_uri": "https://localhost:8080/"
        },
        "id": "N2iB_Pbf-uVn",
        "outputId": "f246eef0-a7b4-4c47-bb3a-7654e1a9eff6"
      },
      "execution_count": null,
      "outputs": [
        {
          "output_type": "stream",
          "name": "stdout",
          "text": [
            "testing\n",
            "t\n"
          ]
        }
      ]
    },
    {
      "cell_type": "markdown",
      "source": [
        "# Задание 2\n",
        "Напишите программу, которая последовательно запрашивает у пользователя числа (по одному за раз) и после первого нуля выводит сумму всех ранее введенных чисел.\n",
        "\n",
        "Примеры работы программы:\n",
        "\n",
        "Введите число:  \n",
        "1\n",
        "\n",
        "Введите число:  \n",
        "4\n",
        "\n",
        "Введите число:  \n",
        "6\n",
        "\n",
        "Введите число:  \n",
        "0\n",
        "Результат:\n",
        "11\n",
        "\n",
        "Введите число:  \n",
        "0\n",
        "Результат:\n",
        "0"
      ],
      "metadata": {
        "id": "S5rSC-dMO2s1"
      }
    },
    {
      "cell_type": "code",
      "source": [
        "x = 1\n",
        "sum=0\n",
        "while x!= 0:\n",
        "    x = int(input('Введите число:'))\n",
        "    sum = sum + x\n",
        "print('Результат:', sum)"
      ],
      "metadata": {
        "colab": {
          "base_uri": "https://localhost:8080/"
        },
        "id": "wBwMolPvO3G-",
        "outputId": "c75a91b7-07b4-4b93-bd9d-ed8eb91cbd5f"
      },
      "execution_count": null,
      "outputs": [
        {
          "output_type": "stream",
          "name": "stdout",
          "text": [
            "Введите число:1\n",
            "Введите число:4\n",
            "Введите число:6\n",
            "Введите число:0\n",
            "Результат: 11\n"
          ]
        }
      ]
    },
    {
      "cell_type": "markdown",
      "source": [
        "# Задание 3\n",
        "Мы делаем MVP dating-сервиса, и у нас есть список парней и девушек.\n",
        "Выдвигаем гипотезу: лучшие рекомендации мы получим, если просто отсортируем имена по алфавиту и познакомим людей с одинаковыми индексами после сортировки! Но мы не будем никого знакомить, если кто-то может остаться без пары:\n",
        "\n",
        "Примеры работы программы:\n",
        "\n",
        "boys = ['Peter', 'Alex', 'John', 'Arthur', 'Richard']\n",
        "girls = ['Kate', 'Liza', 'Kira', 'Emma', 'Trisha']\n",
        "Результат:\n",
        "\n",
        "Идеальные пары:  \n",
        "Alex и Emma  \n",
        "Arthur и Kate  \n",
        "John и Kira  \n",
        "Peter и Liza  \n",
        "Richard и Trisha\n",
        "boys = ['Peter', 'Alex', 'John', 'Arthur', 'Richard', 'Michael']\n",
        "girls = ['Kate', 'Liza', 'Kira', 'Emma', 'Trisha']\n",
        "Результат:\n",
        "Внимание, кто-то может остаться без пары!"
      ],
      "metadata": {
        "id": "_4Br67ZuQKk8"
      }
    },
    {
      "cell_type": "code",
      "source": [
        "\n",
        "boys = ['Peter', 'Alex', 'John', 'Arthur', 'Richard']\n",
        "girls = ['Kate', 'Liza', 'Kira', 'Emma', 'Trisha']\n",
        "\n",
        "x = 0\n",
        "\n",
        "if len(boys)!=len(girls):\n",
        "    print('Внимание, кто-то может остаться без пары!')\n",
        "else:\n",
        "    boys_sort=sorted(boys)\n",
        "    girls_sort=sorted(girls)\n",
        "    print('Идеальные пары:')\n",
        "    while x < len(boys_sort):\n",
        "        print(boys_sort[x],'и',girls_sort[x] )\n",
        "        x += 1"
      ],
      "metadata": {
        "colab": {
          "base_uri": "https://localhost:8080/"
        },
        "id": "SCkKOv4OQKwE",
        "outputId": "e57c28b5-51fb-4ec0-c98c-633f316e2fff"
      },
      "execution_count": null,
      "outputs": [
        {
          "output_type": "stream",
          "name": "stdout",
          "text": [
            "Идеальные пары:\n",
            "Alex и Emma\n",
            "Arthur и Kate\n",
            "John и Kira\n",
            "Peter и Liza\n",
            "Richard и Trisha\n"
          ]
        }
      ]
    },
    {
      "cell_type": "markdown",
      "source": [
        "# Задание 4\n",
        "У нас есть список, содержащий информацию о среднедневной температуре в Фаренгейтах за произвольный период по странам (структура данных в примере). Необходимо написать код, который рассчитает среднюю температуру за период в Цельсиях(!) для каждой страны.\n",
        "\n",
        "Пример работы программы:\n",
        "\n",
        "countries_temperature = [\n",
        "    ['Thailand', [75.2, 77, 78.8, 73.4, 68, 75.2, 77]],\n",
        "    ['Germany', [57.2, 55.4, 59, 59, 53.6]],\n",
        "    ['Russia', [35.6, 37.4, 39.2, 41, 42.8, 39.2, 35.6]],\n",
        "    ['Poland', [50, 50, 53.6, 57.2, 55.4, 55.4]]\n",
        "]\n",
        "Результат:\n",
        "\n",
        "Средняя температура в странах:\n",
        "Thailand  -  23.9 С\n",
        "Germany  -  13.8 С\n",
        "Russia  -  3.7 С\n",
        "Poland  -  12.0 С"
      ],
      "metadata": {
        "id": "fcCqzydYv0AA"
      }
    },
    {
      "cell_type": "code",
      "source": [
        "\n",
        "x = 0\n",
        "countries_temperature = [\n",
        "    ['Thailand', [75.2, 77, 78.8, 73.4, 68, 75.2, 77]],\n",
        "    ['Germany', [57.2, 55.4, 59, 59, 53.6]],\n",
        "    ['Russia', [35.6, 37.4, 39.2, 41, 42.8, 39.2, 35.6]],\n",
        "    ['Poland', [50, 50, 53.6, 57.2, 55.4, 55.4]]\n",
        "]\n",
        "\n",
        "while x < len(countries_temperature):\n",
        "    e=countries_temperature[x][1]\n",
        "    print(countries_temperature[x][0],'-',round((sum(e)/len(e)-32)/1.8,1),'C')\n",
        "    x = x + 1"
      ],
      "metadata": {
        "colab": {
          "base_uri": "https://localhost:8080/"
        },
        "id": "aH65ncAev0M_",
        "outputId": "0b30d3f6-3fa7-409c-ca93-e043fd3937ab"
      },
      "execution_count": null,
      "outputs": [
        {
          "output_type": "stream",
          "name": "stdout",
          "text": [
            "Thailand - 23.9 C\n",
            "Germany - 13.8 C\n",
            "Russia - 3.7 C\n",
            "Poland - 12.0 C\n"
          ]
        }
      ]
    },
    {
      "cell_type": "markdown",
      "source": [
        "# Задание 5 (необязательное)\n",
        "Дан поток логов по количеству просмотренных страниц для каждого пользователя. Вам необходимо написать алгоритм, который считает среднее значение просмотров на пользователя. Т. е. надо посчитать отношение суммы всех просмотров к количеству уникальных пользователей.\n",
        "\n",
        "Примеры работы программы:\n",
        "\n",
        "stream = [\n",
        "    '2018-01-01,user1,3',\n",
        "    '2018-01-07,user1,4',\n",
        "    '2018-03-29,user1,1',\n",
        "    '2018-04-04,user1,13',\n",
        "    '2018-01-05,user2,7',\n",
        "    '2018-06-14,user3,4',\n",
        "    '2018-07-02,user3,10',\n",
        "    '2018-03-21,user4,19',\n",
        "    '2018-03-22,user4,4',\n",
        "    '2018-04-22,user4,8',\n",
        "    '2018-05-03,user4,9',\n",
        "    '2018-05-11,user4,11',\n",
        "]\n",
        "Результат:\n",
        "Среднее количество просмотров на уникального пользователя: 23.25\n",
        "\n",
        "stream = [\n",
        "    '2018-01-01,user100,150',\n",
        "    '2018-01-07,user99,205',\n",
        "    '2018-03-29,user1001,81'\n",
        "]\n",
        "Результат:\n",
        "Среднее количество просмотров на уникального пользователя: 145.33"
      ],
      "metadata": {
        "id": "5wBAHijqwyZP"
      }
    },
    {
      "cell_type": "code",
      "source": [
        "stream = [\n",
        "    '2018-01-01,user1,3',\n",
        "    '2018-01-07,user1,4',\n",
        "    '2018-03-29,user1,1',\n",
        "    '2018-04-04,user1,13',\n",
        "    '2018-01-05,user2,7',\n",
        "    '2018-06-14,user3,4',\n",
        "    '2018-07-02,user3,10',\n",
        "    '2018-03-21,user4,19',\n",
        "    '2018-03-22,user4,4',\n",
        "    '2018-04-22,user4,8',\n",
        "    '2018-05-03,user4,9',\n",
        "    '2018-05-11,user4,11',\n",
        "]\n",
        "\n",
        "res = []\n",
        "summa=0\n",
        "for i in stream:\n",
        "    i=i.split(',')\n",
        "    summa = summa + int(i[2])\n",
        "    res.append(i[1])\n",
        "print('Среднее количество просмотров на уникального пользователя: ',round(summa/len(set(res)),2))"
      ],
      "metadata": {
        "colab": {
          "base_uri": "https://localhost:8080/"
        },
        "id": "P1bFZG3TwytY",
        "outputId": "6d3a69c2-aebb-4940-e68e-6753c7ee0dc0"
      },
      "execution_count": null,
      "outputs": [
        {
          "output_type": "stream",
          "name": "stdout",
          "text": [
            "Среднее количество просмотров на уникального пользователя:  23.25\n"
          ]
        }
      ]
    },
    {
      "cell_type": "markdown",
      "source": [
        "# Задание 6 (необязательное)\n",
        "Необходимо у пользователя запрашивать набор чисел разделенных пробелом. В результате в отсортированном порядке должны выводиться числа, которые повторяются в вводе более одного раза.\n",
        "\n",
        "Примеры работы программы:\n",
        "\n",
        "Введите числа:\n",
        "4 8 0 3 4 2 0 3\n",
        "Результат:\n",
        "0 3 4\n",
        "\n",
        "Введите числа:\n",
        "1 1 2 2 3 3\n",
        "Результат:\n",
        "1 2 3\n",
        "\n",
        "Введите числа:\n",
        "10 15 15 103 200 200 200 1 1 1 1 1 2 2 2\n",
        "Результат:\n",
        "1 2 15 200"
      ],
      "metadata": {
        "id": "UHoXUPZSwzPA"
      }
    },
    {
      "cell_type": "code",
      "source": [
        "st = str(input('Введите числa:'))\n",
        "\n",
        "sps =st.split(' ')\n",
        "sps2 = []\n",
        "for i in set(sps):\n",
        "    if sps.count(i) > 1:\n",
        "         sps2.append(i)\n",
        "\n",
        "if len(sps2)>0:\n",
        "    print(' '.join(sps2))\n",
        "else:\n",
        "    print('Повторяющихся чисел нет')"
      ],
      "metadata": {
        "colab": {
          "base_uri": "https://localhost:8080/"
        },
        "id": "Mj0hApB5wzXv",
        "outputId": "95f3beab-b709-45fb-ca71-6535eee28b07"
      },
      "execution_count": null,
      "outputs": [
        {
          "output_type": "stream",
          "name": "stdout",
          "text": [
            "Введите числa:10 15 15 103 200 200 200 1 1 1 1 1 2 2 2\n",
            "15 200 2 1\n"
          ]
        }
      ]
    },
    {
      "cell_type": "markdown",
      "source": [
        "# Комментарии преподавателя\n",
        "\n",
        "\n",
        "Алексей, здравствуйте!\n",
        "\n",
        "Спасибо, в этой работе у вас все реализовано замечательно, никаких принципиальных ошибок нет.\n",
        "\n",
        "Отлично, что с доп. заданиями :)\n",
        "\n",
        "Мои рекомендации:\n",
        "\n",
        "в задаче с парами можно было использовать zip, чтобы не прибегать к вспомогательному счетчику:\n",
        "1\n",
        "2\n",
        "3\n",
        "4\n",
        "5\n",
        "6\n",
        "if len(boys) != len(girls):\n",
        " print('Внимание, кто-то может остаться без пары!')\n",
        "else:\n",
        " print('Лучшие пары:')\n",
        " for boy, girl in zip(sorted(boys), sorted(girls)):\n",
        "   print(f'{boy} и {girl}')\n",
        "вы в нескольких местах используете итерацию по длине объекта с доступом по индексу. Это не очень pythonic, т.к. python умеет итерироваться по элементам объекта напрямую (возможно, это сказывается ваш опыт в каком-то другом языке). Но здесь прямая итерация по элементам как правило всегда лаконичнее и легче читается. В задаче с температурами это выглядело бы так:\n",
        "1\n",
        "2\n",
        "3\n",
        "for element in countries_temperature:\n",
        "   avg_temp = sum(element[1]) / len(element[1])\n",
        "   print(f\"Средняя температура в {element[0]} - {round((avg_temp - 32)*5/9, 1)} C\")\n",
        "в 6 задаче у вас реализуется лексикографический порядок сортировки. Для корректной реализации стоило преобразовать все числа в int."
      ],
      "metadata": {
        "id": "dPJjFMTJnpHR"
      }
    },
    {
      "cell_type": "code",
      "source": [
        "if len(boys) != len(girls):\n",
        " print('Внимание, кто-то может остаться без пары!')\n",
        "else:\n",
        " print('Лучшие пары:')\n",
        " for boy, girl in zip(sorted(boys), sorted(girls)):\n",
        "   print(f'{boy} и {girl}')\n",
        "\n",
        "\n",
        "\n",
        "\n",
        "for element in countries_temperature:\n",
        "   avg_temp = sum(element[1]) / len(element[1])\n",
        "   print(f\"Средняя температура в {element[0]} - {round((avg_temp - 32)*5/9, 1)} C\")   "
      ],
      "metadata": {
        "id": "kr-CrIY2oDnI"
      },
      "execution_count": null,
      "outputs": []
    }
  ]
}