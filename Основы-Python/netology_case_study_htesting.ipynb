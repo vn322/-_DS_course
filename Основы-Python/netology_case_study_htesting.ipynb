{
  "nbformat": 4,
  "nbformat_minor": 0,
  "metadata": {
    "kernelspec": {
      "display_name": "Python 3",
      "language": "python",
      "name": "python3"
    },
    "language_info": {
      "codemirror_mode": {
        "name": "ipython",
        "version": 3
      },
      "file_extension": ".py",
      "mimetype": "text/x-python",
      "name": "python",
      "nbconvert_exporter": "python",
      "pygments_lexer": "ipython3",
      "version": "3.8.5"
    },
    "colab": {
      "name": "netology_case_study_htesting.ipynb",
      "provenance": [],
      "collapsed_sections": []
    }
  },
  "cells": [
    {
      "cell_type": "markdown",
      "metadata": {
        "id": "edQI-m-cCgpV"
      },
      "source": [
        "# Кейс-стади\n",
        "\n",
        "Булыгин Олег:  \n",
        "* [LinkedIn](linkedin.com/in/obulygin)  \n",
        "* [Мой канал в ТГ по Python](https://t.me/solidtalk)"
      ]
    },
    {
      "cell_type": "markdown",
      "metadata": {
        "id": "HEXbyrkP01Br"
      },
      "source": [
        "Никакие экспериментально полученные данные никогда **не подтвердят** какую-либо гипотезу. Это является фундаментальным ограничением. Данные могут лишь не противоречить гипотезе или, наоборот, показывать очень маловероятные результаты (при условии, что гипотеза верна). Но и в том, и в другом случае никогда нет оснований утверждать, что выдвинутая гипотеза **доказана**."
      ]
    },
    {
      "cell_type": "code",
      "metadata": {
        "id": "h1yuDdEG01Bx"
      },
      "source": [
        "# Изучим набор данных об удовлетворенности клиентов Apple и Samsung продуктами компаний"
      ],
      "execution_count": null,
      "outputs": []
    },
    {
      "cell_type": "code",
      "metadata": {
        "id": "uaVa1uqe01Bz"
      },
      "source": [
        "import pandas as pd"
      ],
      "execution_count": null,
      "outputs": []
    },
    {
      "cell_type": "code",
      "metadata": {
        "id": "FxtH0shE01B0",
        "colab": {
          "base_uri": "https://localhost:8080/",
          "height": 423
        },
        "outputId": "ddf85fe5-44b8-4b05-e99d-f2873a4f26af"
      },
      "source": [
        "df = pd.read_csv('https://raw.githubusercontent.com/obulygin/netology_pyda_files/main/apple_samsung.csv')\n",
        "df"
      ],
      "execution_count": null,
      "outputs": [
        {
          "output_type": "execute_result",
          "data": {
            "text/plain": [
              "    Sr No S_Cust_id  Samsung_Score Apple_Cust_id  Apple_Score\n",
              "0       1   S336499             94       A336525           82\n",
              "1       2    S73004             99        A73011           83\n",
              "2       3    S79537             74        A79538           88\n",
              "3       4   S769168             74       A769222           80\n",
              "4       5   S609791             83       A609801           74\n",
              "..    ...       ...            ...           ...          ...\n",
              "95     96   S285617             77       A285629           87\n",
              "96     97   S324135             85       A324151           82\n",
              "97     98   S292076             83       A292091           88\n",
              "98     99   S936528             82       A936566           91\n",
              "99    100   S489010            100       A489031           95\n",
              "\n",
              "[100 rows x 5 columns]"
            ],
            "text/html": [
              "\n",
              "  <div id=\"df-40e742b8-80ec-4e35-9835-30564a280dcc\">\n",
              "    <div class=\"colab-df-container\">\n",
              "      <div>\n",
              "<style scoped>\n",
              "    .dataframe tbody tr th:only-of-type {\n",
              "        vertical-align: middle;\n",
              "    }\n",
              "\n",
              "    .dataframe tbody tr th {\n",
              "        vertical-align: top;\n",
              "    }\n",
              "\n",
              "    .dataframe thead th {\n",
              "        text-align: right;\n",
              "    }\n",
              "</style>\n",
              "<table border=\"1\" class=\"dataframe\">\n",
              "  <thead>\n",
              "    <tr style=\"text-align: right;\">\n",
              "      <th></th>\n",
              "      <th>Sr No</th>\n",
              "      <th>S_Cust_id</th>\n",
              "      <th>Samsung_Score</th>\n",
              "      <th>Apple_Cust_id</th>\n",
              "      <th>Apple_Score</th>\n",
              "    </tr>\n",
              "  </thead>\n",
              "  <tbody>\n",
              "    <tr>\n",
              "      <th>0</th>\n",
              "      <td>1</td>\n",
              "      <td>S336499</td>\n",
              "      <td>94</td>\n",
              "      <td>A336525</td>\n",
              "      <td>82</td>\n",
              "    </tr>\n",
              "    <tr>\n",
              "      <th>1</th>\n",
              "      <td>2</td>\n",
              "      <td>S73004</td>\n",
              "      <td>99</td>\n",
              "      <td>A73011</td>\n",
              "      <td>83</td>\n",
              "    </tr>\n",
              "    <tr>\n",
              "      <th>2</th>\n",
              "      <td>3</td>\n",
              "      <td>S79537</td>\n",
              "      <td>74</td>\n",
              "      <td>A79538</td>\n",
              "      <td>88</td>\n",
              "    </tr>\n",
              "    <tr>\n",
              "      <th>3</th>\n",
              "      <td>4</td>\n",
              "      <td>S769168</td>\n",
              "      <td>74</td>\n",
              "      <td>A769222</td>\n",
              "      <td>80</td>\n",
              "    </tr>\n",
              "    <tr>\n",
              "      <th>4</th>\n",
              "      <td>5</td>\n",
              "      <td>S609791</td>\n",
              "      <td>83</td>\n",
              "      <td>A609801</td>\n",
              "      <td>74</td>\n",
              "    </tr>\n",
              "    <tr>\n",
              "      <th>...</th>\n",
              "      <td>...</td>\n",
              "      <td>...</td>\n",
              "      <td>...</td>\n",
              "      <td>...</td>\n",
              "      <td>...</td>\n",
              "    </tr>\n",
              "    <tr>\n",
              "      <th>95</th>\n",
              "      <td>96</td>\n",
              "      <td>S285617</td>\n",
              "      <td>77</td>\n",
              "      <td>A285629</td>\n",
              "      <td>87</td>\n",
              "    </tr>\n",
              "    <tr>\n",
              "      <th>96</th>\n",
              "      <td>97</td>\n",
              "      <td>S324135</td>\n",
              "      <td>85</td>\n",
              "      <td>A324151</td>\n",
              "      <td>82</td>\n",
              "    </tr>\n",
              "    <tr>\n",
              "      <th>97</th>\n",
              "      <td>98</td>\n",
              "      <td>S292076</td>\n",
              "      <td>83</td>\n",
              "      <td>A292091</td>\n",
              "      <td>88</td>\n",
              "    </tr>\n",
              "    <tr>\n",
              "      <th>98</th>\n",
              "      <td>99</td>\n",
              "      <td>S936528</td>\n",
              "      <td>82</td>\n",
              "      <td>A936566</td>\n",
              "      <td>91</td>\n",
              "    </tr>\n",
              "    <tr>\n",
              "      <th>99</th>\n",
              "      <td>100</td>\n",
              "      <td>S489010</td>\n",
              "      <td>100</td>\n",
              "      <td>A489031</td>\n",
              "      <td>95</td>\n",
              "    </tr>\n",
              "  </tbody>\n",
              "</table>\n",
              "<p>100 rows × 5 columns</p>\n",
              "</div>\n",
              "      <button class=\"colab-df-convert\" onclick=\"convertToInteractive('df-40e742b8-80ec-4e35-9835-30564a280dcc')\"\n",
              "              title=\"Convert this dataframe to an interactive table.\"\n",
              "              style=\"display:none;\">\n",
              "        \n",
              "  <svg xmlns=\"http://www.w3.org/2000/svg\" height=\"24px\"viewBox=\"0 0 24 24\"\n",
              "       width=\"24px\">\n",
              "    <path d=\"M0 0h24v24H0V0z\" fill=\"none\"/>\n",
              "    <path d=\"M18.56 5.44l.94 2.06.94-2.06 2.06-.94-2.06-.94-.94-2.06-.94 2.06-2.06.94zm-11 1L8.5 8.5l.94-2.06 2.06-.94-2.06-.94L8.5 2.5l-.94 2.06-2.06.94zm10 10l.94 2.06.94-2.06 2.06-.94-2.06-.94-.94-2.06-.94 2.06-2.06.94z\"/><path d=\"M17.41 7.96l-1.37-1.37c-.4-.4-.92-.59-1.43-.59-.52 0-1.04.2-1.43.59L10.3 9.45l-7.72 7.72c-.78.78-.78 2.05 0 2.83L4 21.41c.39.39.9.59 1.41.59.51 0 1.02-.2 1.41-.59l7.78-7.78 2.81-2.81c.8-.78.8-2.07 0-2.86zM5.41 20L4 18.59l7.72-7.72 1.47 1.35L5.41 20z\"/>\n",
              "  </svg>\n",
              "      </button>\n",
              "      \n",
              "  <style>\n",
              "    .colab-df-container {\n",
              "      display:flex;\n",
              "      flex-wrap:wrap;\n",
              "      gap: 12px;\n",
              "    }\n",
              "\n",
              "    .colab-df-convert {\n",
              "      background-color: #E8F0FE;\n",
              "      border: none;\n",
              "      border-radius: 50%;\n",
              "      cursor: pointer;\n",
              "      display: none;\n",
              "      fill: #1967D2;\n",
              "      height: 32px;\n",
              "      padding: 0 0 0 0;\n",
              "      width: 32px;\n",
              "    }\n",
              "\n",
              "    .colab-df-convert:hover {\n",
              "      background-color: #E2EBFA;\n",
              "      box-shadow: 0px 1px 2px rgba(60, 64, 67, 0.3), 0px 1px 3px 1px rgba(60, 64, 67, 0.15);\n",
              "      fill: #174EA6;\n",
              "    }\n",
              "\n",
              "    [theme=dark] .colab-df-convert {\n",
              "      background-color: #3B4455;\n",
              "      fill: #D2E3FC;\n",
              "    }\n",
              "\n",
              "    [theme=dark] .colab-df-convert:hover {\n",
              "      background-color: #434B5C;\n",
              "      box-shadow: 0px 1px 3px 1px rgba(0, 0, 0, 0.15);\n",
              "      filter: drop-shadow(0px 1px 2px rgba(0, 0, 0, 0.3));\n",
              "      fill: #FFFFFF;\n",
              "    }\n",
              "  </style>\n",
              "\n",
              "      <script>\n",
              "        const buttonEl =\n",
              "          document.querySelector('#df-40e742b8-80ec-4e35-9835-30564a280dcc button.colab-df-convert');\n",
              "        buttonEl.style.display =\n",
              "          google.colab.kernel.accessAllowed ? 'block' : 'none';\n",
              "\n",
              "        async function convertToInteractive(key) {\n",
              "          const element = document.querySelector('#df-40e742b8-80ec-4e35-9835-30564a280dcc');\n",
              "          const dataTable =\n",
              "            await google.colab.kernel.invokeFunction('convertToInteractive',\n",
              "                                                     [key], {});\n",
              "          if (!dataTable) return;\n",
              "\n",
              "          const docLinkHtml = 'Like what you see? Visit the ' +\n",
              "            '<a target=\"_blank\" href=https://colab.research.google.com/notebooks/data_table.ipynb>data table notebook</a>'\n",
              "            + ' to learn more about interactive tables.';\n",
              "          element.innerHTML = '';\n",
              "          dataTable['output_type'] = 'display_data';\n",
              "          await google.colab.output.renderOutput(dataTable, element);\n",
              "          const docLink = document.createElement('div');\n",
              "          docLink.innerHTML = docLinkHtml;\n",
              "          element.appendChild(docLink);\n",
              "        }\n",
              "      </script>\n",
              "    </div>\n",
              "  </div>\n",
              "  "
            ]
          },
          "metadata": {},
          "execution_count": 2
        }
      ]
    },
    {
      "cell_type": "markdown",
      "metadata": {
        "id": "zdPQYdhc01B1"
      },
      "source": [
        "1) Нужно сформулировать нулевую и альтернативную гипотезы;   \n",
        "2) Определить пороговый уровень статистической значимости;  \n",
        "3) Сколько у нас выборок (какой вариант теста используем)?  \n",
        "3) Нужен ли односторонний, либо двухсторонний вариант теста?  https://stats.idre.ucla.edu/other/mult-pkg/faq/general/faq-what-are-the-differences-between-one-tailed-and-two-tailed-tests/  \n",
        "4) Выборки связаны или нет?"
      ]
    },
    {
      "cell_type": "markdown",
      "metadata": {
        "id": "mW6gHBKi01B2"
      },
      "source": [
        "## Клиенты удовлетворены продукцией Apple?\n",
        "Клиенты удовлетворены продукцией Apple **больше**, чем на 80%? (односторонний тест)"
      ]
    },
    {
      "cell_type": "markdown",
      "metadata": {
        "id": "UgSRiVBD01B2"
      },
      "source": [
        "H0: средняя удовлетворенность клиентов Apple продукцией компании <= 80%  \n",
        "H1: средняя удовлетворенность клиентов Apple продукцией компании составляет более 80%"
      ]
    },
    {
      "cell_type": "markdown",
      "metadata": {
        "id": "Ox_LrMFI01B3"
      },
      "source": [
        "За alpha здесь и далее будем принимать 0.05"
      ]
    },
    {
      "cell_type": "markdown",
      "metadata": {
        "id": "q1hzAVLu01B4"
      },
      "source": [
        "Сравниваем значение по выборке с константой, поэтому нужен одновыборочный критерий."
      ]
    },
    {
      "cell_type": "code",
      "metadata": {
        "id": "szxHoZHA117V",
        "colab": {
          "base_uri": "https://localhost:8080/"
        },
        "outputId": "20974241-662e-4b18-804f-be3279a85831"
      },
      "source": [
        "!pip install --upgrade scipy"
      ],
      "execution_count": null,
      "outputs": [
        {
          "output_type": "stream",
          "name": "stdout",
          "text": [
            "Looking in indexes: https://pypi.org/simple, https://us-python.pkg.dev/colab-wheels/public/simple/\n",
            "Requirement already satisfied: scipy in /usr/local/lib/python3.7/dist-packages (1.4.1)\n",
            "Collecting scipy\n",
            "  Downloading scipy-1.7.3-cp37-cp37m-manylinux_2_12_x86_64.manylinux2010_x86_64.whl (38.1 MB)\n",
            "\u001b[K     |████████████████████████████████| 38.1 MB 1.2 MB/s \n",
            "\u001b[?25hRequirement already satisfied: numpy<1.23.0,>=1.16.5 in /usr/local/lib/python3.7/dist-packages (from scipy) (1.21.6)\n",
            "Installing collected packages: scipy\n",
            "  Attempting uninstall: scipy\n",
            "    Found existing installation: scipy 1.4.1\n",
            "    Uninstalling scipy-1.4.1:\n",
            "      Successfully uninstalled scipy-1.4.1\n",
            "\u001b[31mERROR: pip's dependency resolver does not currently take into account all the packages that are installed. This behaviour is the source of the following dependency conflicts.\n",
            "albumentations 0.1.12 requires imgaug<0.2.7,>=0.2.5, but you have imgaug 0.2.9 which is incompatible.\u001b[0m\n",
            "Successfully installed scipy-1.7.3\n"
          ]
        }
      ]
    },
    {
      "cell_type": "code",
      "metadata": {
        "scrolled": false,
        "id": "W0eCx-Lz01B4",
        "colab": {
          "base_uri": "https://localhost:8080/"
        },
        "outputId": "666addfc-c1df-4b68-b602-197dd6a64114"
      },
      "source": [
        "from scipy import stats as st\n",
        "alpha = 0.05\n",
        "result = st.ttest_1samp(df['Apple_Score'], 80, alternative='greater')\n",
        "\n",
        "print(df['Apple_Score'].mean())\n",
        "print(result)\n",
        "\n",
        "if result.pvalue < alpha: \n",
        "    print('Отвергаем нулевую гипотезу, среднее больше 80 (продукция нравится)')\n",
        "else:\n",
        "    print('Не отвергаем нулевую нулевую гипотезу, продукция Apple не нравится клиентам')"
      ],
      "execution_count": null,
      "outputs": [
        {
          "output_type": "stream",
          "name": "stdout",
          "text": [
            "87.81\n",
            "Ttest_1sampResult(statistic=8.111646895018431, pvalue=6.915590857414508e-13)\n",
            "Отвергаем нулевую гипотезу, среднее больше 80 (продукция нравится)\n"
          ]
        }
      ]
    },
    {
      "cell_type": "markdown",
      "metadata": {
        "id": "X4gmBhTJ01B5"
      },
      "source": [
        "## Клиенты не удовлетворены продукцией Samsung?\n",
        "Клиенты удовлетворены продукцией Samsung **меньше**, чем на 50%? (односторонний тест)"
      ]
    },
    {
      "cell_type": "markdown",
      "metadata": {
        "id": "zOBW3Db601B5"
      },
      "source": [
        "H0: средняя удовлетворенность клиентов Samsung продукцией компании >= 50%  \n",
        "H1: средняя удовлетворенность клиентов Samsung продукцией компании составляет менее 50%"
      ]
    },
    {
      "cell_type": "code",
      "metadata": {
        "id": "S7820yoY01B6",
        "colab": {
          "base_uri": "https://localhost:8080/"
        },
        "outputId": "c244b9dc-7012-4931-fde3-cb0283d4aa9e"
      },
      "source": [
        "alpha = 0.05\n",
        "result = st.ttest_1samp(df['Samsung_Score'], 50, alternative='less')\n",
        "print(df['Samsung_Score'].mean())\n",
        "print(result)\n",
        "if result.pvalue < alpha:\n",
        "    print('Отвергаем нулевую гипотезу, среднее меньше 50')\n",
        "else:\n",
        "    print('Не отвергаем нулевую гипотезу')"
      ],
      "execution_count": null,
      "outputs": [
        {
          "output_type": "stream",
          "name": "stdout",
          "text": [
            "84.9\n",
            "Ttest_1sampResult(statistic=29.465073943150735, pvalue=1.0)\n",
            "Не отвергаем нулевую гипотезу\n"
          ]
        }
      ]
    },
    {
      "cell_type": "markdown",
      "metadata": {
        "id": "V3sAsYEZ01B6"
      },
      "source": [
        "\n",
        "## Клиентам одинаково нравится продукция Apple и Samsung?\n",
        "Средняя удовлетворенность клиентов  Apple и Samsung **равна**? (двухсторонний тест)"
      ]
    },
    {
      "cell_type": "markdown",
      "metadata": {
        "id": "biB3r8ft01B6"
      },
      "source": [
        "H0: средняя удовлетворенность клиентов Samsung и Apple одинаковая  \n",
        "H1: средняя удовлетворенность клиентов Samsung и Apple различается"
      ]
    },
    {
      "cell_type": "markdown",
      "metadata": {
        "id": "5gmGWKNC01B7"
      },
      "source": [
        "Здесь нам уже нужен двухвыборочный двухсторонний критерий.  \n"
      ]
    },
    {
      "cell_type": "markdown",
      "metadata": {
        "id": "l3svpwNG01B7"
      },
      "source": [
        "Существует [мнение](http://daniellakens.blogspot.com/2015/01/always-use-welchs-t-test-instead-of.html), что использование критерия Уэлча всегда предпочтительнее, будем придерживаться этой позиции."
      ]
    },
    {
      "cell_type": "code",
      "metadata": {
        "id": "_12gwIrT01B7",
        "colab": {
          "base_uri": "https://localhost:8080/"
        },
        "outputId": "588fe03d-0d5e-4a93-b608-c59acf0706ed"
      },
      "source": [
        "result = st.ttest_ind(df['Samsung_Score'], df['Apple_Score'], equal_var=False)\n",
        "print(result)\n",
        "print(df['Samsung_Score'].mean())\n",
        "print(df['Apple_Score'].mean())\n",
        "\n",
        "if (result.pvalue < alpha):\n",
        "    print('Отвергаем нулевую гипотезу, клиенты по разному относятся к продукции Apple и Samsung')\n",
        "else:\n",
        "    print('Не отвергаем нулевую гипотезу')"
      ],
      "execution_count": null,
      "outputs": [
        {
          "output_type": "stream",
          "name": "stdout",
          "text": [
            "Ttest_indResult(statistic=-1.9064295935043474, pvalue=0.05810311766331876)\n",
            "84.9\n",
            "87.81\n",
            "Не отвергаем нулевую гипотезу\n"
          ]
        }
      ]
    },
    {
      "cell_type": "code",
      "source": [
        ""
      ],
      "metadata": {
        "id": "oT7Jhm3vOjCL"
      },
      "execution_count": null,
      "outputs": []
    }
  ]
}