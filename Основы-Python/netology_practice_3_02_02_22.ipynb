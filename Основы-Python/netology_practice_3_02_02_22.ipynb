{
  "nbformat": 4,
  "nbformat_minor": 0,
  "metadata": {
    "colab": {
      "name": "netology_practice_3_02_02_22.ipynb",
      "provenance": [],
      "collapsed_sections": []
    },
    "kernelspec": {
      "name": "python3",
      "display_name": "Python 3"
    },
    "language_info": {
      "name": "python"
    }
  },
  "cells": [
    {
      "cell_type": "markdown",
      "metadata": {
        "id": "edQI-m-cCgpV"
      },
      "source": [
        "# Практика 3\n",
        "Теория: Функции\n",
        "\n",
        "Булыгин Олег:  \n",
        "* [LinkedIn](linkedin.com/in/obulygin)  \n",
        "* [Telegram](https://t.me/obulygin91)  \n",
        "* [facebook](fb.com/obulygin91)  \n",
        "* [Vk](vk.com/obulygin91)  \n",
        "* email: obulygin91@ya.ru  \n",
        "\n",
        "[Сообщество по Python](https://yandex.ru/q/loves/pythontalk/) на Кью  \n",
        "[Сообщество по Data Science и анализу данных](https://yandex.ru/q/loves/datatalk/) на Кью "
      ]
    },
    {
      "cell_type": "markdown",
      "metadata": {
        "id": "U72FhsNpDhxX"
      },
      "source": [
        "\n",
        "\n",
        "1.   Вспомним args\n",
        "2.   Вспомним lambda-функции и посмотрим на итераторы\n",
        "3.   Напишем программу в процедурном стиле на основе функций\n",
        "\n",
        "\n"
      ]
    },
    {
      "cell_type": "markdown",
      "metadata": {
        "id": "XOY7VKI357LA"
      },
      "source": [
        "### Практика. Напишем функцию, которая определяет является ли слово палиндромом\n",
        "\n",
        "Пример работы программы:\n",
        "```\n",
        "print(is_palindrom('Радар'))\n",
        "True\n",
        "```\n",
        "\n",
        "```\n",
        "print(is_palindrom('строка'))\n",
        "False\n",
        "```"
      ]
    },
    {
      "cell_type": "code",
      "metadata": {
        "id": "TL8qWkEI6mLE",
        "colab": {
          "base_uri": "https://localhost:8080/"
        },
        "outputId": "26c058f4-b0e3-460c-8a87-793ecfe585f6"
      },
      "source": [
        "def is_palindrom(word):\n",
        "    word = word.replace(' ', '').lower()\n",
        "    return word == word[::-1]\n",
        "\n",
        "print(is_palindrom('арозаупаланалапуазора'))"
      ],
      "execution_count": null,
      "outputs": [
        {
          "output_type": "stream",
          "name": "stdout",
          "text": [
            "True\n"
          ]
        }
      ]
    },
    {
      "cell_type": "code",
      "source": [
        "my_list = [456, 45, 47]\n",
        "my_list[::-1]"
      ],
      "metadata": {
        "colab": {
          "base_uri": "https://localhost:8080/"
        },
        "id": "D3ozvV4VOC4y",
        "outputId": "3276dff8-51bb-48d7-f3ce-5e8ce5c024a3"
      },
      "execution_count": null,
      "outputs": [
        {
          "output_type": "execute_result",
          "data": {
            "text/plain": [
              "[456]"
            ]
          },
          "metadata": {},
          "execution_count": 11
        }
      ]
    },
    {
      "cell_type": "markdown",
      "metadata": {
        "id": "BF7EhPbcSVBV"
      },
      "source": [
        "## args and kwargs\n",
        "Иногда возникает ситуация, когда вы заранее не знаете, какое количество аргументов будет необходимо принять функции. В этом случае следует использовать аргументы произвольной длины ([args и kwargs](https://habr.com/ru/company/ruvds/blog/482464/)). Они задаются произвольным именем переменной, перед которой ставится звездочка (args) или две здездочки (kwargs)."
      ]
    },
    {
      "cell_type": "code",
      "metadata": {
        "id": "ilXaysWUawBT",
        "colab": {
          "base_uri": "https://localhost:8080/"
        },
        "outputId": "0df56cbf-e5c6-408b-d516-d554c7f00c91"
      },
      "source": [
        "# Сумму всех позиционных аргументов вычисляем с помощью sum\n",
        "# *args упаковывает все позиционные аргументы в кортеж\n",
        "# **kwargs упаковывает все именованные аргументы в словарь, из которого получаем значение по ключу\n",
        "\n",
        "def sum_division(*args, **kwargs):\n",
        "    print(args)\n",
        "    print(kwargs)\n",
        "    return round(sum(args) / kwargs['divisor'], kwargs['accuracy'])\n",
        "\n",
        "num = 1\n",
        "num_2 = 2\n",
        "num_3 = 5\n",
        "num_5 = 6\n",
        "print(sum_division(num, num_2, num_3, num_5, 5, 6, 7, 8, 9, 10, divisor=7, accuracy=2))"
      ],
      "execution_count": null,
      "outputs": [
        {
          "output_type": "stream",
          "name": "stdout",
          "text": [
            "(1, 2, 5, 6, 5, 6, 7, 8, 9, 10)\n",
            "{'divisor': 7, 'accuracy': 2}\n",
            "8.43\n"
          ]
        }
      ]
    },
    {
      "cell_type": "code",
      "metadata": {
        "id": "9XSfxweRawBT",
        "colab": {
          "base_uri": "https://localhost:8080/"
        },
        "outputId": "a9e65d40-7fa2-4216-f269-9b49bd477e85"
      },
      "source": [
        "# распаковка позволяет отделить создание списка аргументов от их передачи в функцию\n",
        "numbers = [1, 2, 3, 4, 5, 6, 7, 8, 9, 10]\n",
        "params = {'divisor':7,'accuracy':2}\n",
        "\n",
        "print(sum_division(*numbers, **params))"
      ],
      "execution_count": null,
      "outputs": [
        {
          "output_type": "stream",
          "name": "stdout",
          "text": [
            "(1, 2, 3, 4, 5, 6, 7, 8, 9, 10)\n",
            "{'divisor': 7, 'accuracy': 2}\n",
            "7.86\n"
          ]
        }
      ]
    },
    {
      "cell_type": "markdown",
      "metadata": {
        "id": "6GGM5SzuRYl3"
      },
      "source": [
        "### Практика. Напишем функцию, которая будет находить среднюю цену квартиры по всем переданным в нее районам города"
      ]
    },
    {
      "cell_type": "code",
      "metadata": {
        "id": "CRljX_0tRexA"
      },
      "source": [
        "district_1 = {'flat_1': 10500, 'flat_2': 11000}\n",
        "district_2 = {'flat_3': 15000}\n",
        "district_3 = {'flat_4': 6500, 'flat_5': 7000, 'flat_6': 6000}   "
      ],
      "execution_count": null,
      "outputs": []
    },
    {
      "cell_type": "code",
      "source": [
        "def flat(*dist):\n",
        "    sum_ = 0\n",
        "    for i in dist:\n",
        "        for j in i.values():\n",
        "            sum_ += j\n",
        "    return sum_\n",
        "\n",
        "print(flat(district_1))"
      ],
      "metadata": {
        "colab": {
          "base_uri": "https://localhost:8080/"
        },
        "id": "5cRFotRqQyK4",
        "outputId": "96945862-02ff-45d5-c1e0-652e17a43146"
      },
      "execution_count": null,
      "outputs": [
        {
          "output_type": "stream",
          "name": "stdout",
          "text": [
            "21500\n"
          ]
        }
      ]
    },
    {
      "cell_type": "code",
      "source": [
        "def awg_price(**kwargs):\n",
        "    summ = 0\n",
        "    print(kwargs)\n",
        "    for i in kwargs.values():\n",
        "        summ += i\n",
        "    return summ/len(kwargs)\n",
        "\n",
        "awg_price(**district_1, **district_2)"
      ],
      "metadata": {
        "colab": {
          "base_uri": "https://localhost:8080/",
          "height": 207
        },
        "id": "s9BPg7QgShvV",
        "outputId": "17f4765a-41a3-4309-b394-9120dcedcdec"
      },
      "execution_count": null,
      "outputs": [
        {
          "output_type": "error",
          "ename": "TypeError",
          "evalue": "ignored",
          "traceback": [
            "\u001b[0;31m---------------------------------------------------------------------------\u001b[0m",
            "\u001b[0;31mTypeError\u001b[0m                                 Traceback (most recent call last)",
            "\u001b[0;32m<ipython-input-28-d17a1d901f99>\u001b[0m in \u001b[0;36m<module>\u001b[0;34m()\u001b[0m\n\u001b[1;32m      6\u001b[0m     \u001b[0;32mreturn\u001b[0m \u001b[0msumm\u001b[0m\u001b[0;34m/\u001b[0m\u001b[0mlen\u001b[0m\u001b[0;34m(\u001b[0m\u001b[0mkwargs\u001b[0m\u001b[0;34m)\u001b[0m\u001b[0;34m\u001b[0m\u001b[0;34m\u001b[0m\u001b[0m\n\u001b[1;32m      7\u001b[0m \u001b[0;34m\u001b[0m\u001b[0m\n\u001b[0;32m----> 8\u001b[0;31m \u001b[0mawg_price\u001b[0m\u001b[0;34m(\u001b[0m\u001b[0;34m**\u001b[0m\u001b[0mdistrict_1\u001b[0m\u001b[0;34m,\u001b[0m \u001b[0;34m**\u001b[0m\u001b[0mdistrict_2\u001b[0m\u001b[0;34m)\u001b[0m\u001b[0;34m\u001b[0m\u001b[0;34m\u001b[0m\u001b[0m\n\u001b[0m",
            "\u001b[0;31mTypeError\u001b[0m: awg_price() got multiple values for keyword argument 'flat_2'"
          ]
        }
      ]
    },
    {
      "cell_type": "code",
      "source": [
        "def funk(*districts):\n",
        "    cost = 0\n",
        "    count = 0\n",
        "    for district in districts:\n",
        "        cost += sum(district.values())\n",
        "        count += len(district.values())\n",
        "    return cost / count\n",
        "  \n",
        "funk(district_1, district_2, district_3)"
      ],
      "metadata": {
        "colab": {
          "base_uri": "https://localhost:8080/"
        },
        "id": "oNNSGDMuTJhM",
        "outputId": "bd5d358e-08e5-4e15-b043-57f908743c63"
      },
      "execution_count": null,
      "outputs": [
        {
          "output_type": "execute_result",
          "data": {
            "text/plain": [
              "9333.333333333334"
            ]
          },
          "metadata": {},
          "execution_count": 37
        }
      ]
    },
    {
      "cell_type": "markdown",
      "metadata": {
        "id": "_mY3dvurRsd4"
      },
      "source": [
        "## Комплексный пример"
      ]
    },
    {
      "cell_type": "code",
      "metadata": {
        "id": "OPd5-8lVRuL5"
      },
      "source": [
        "students_list = [\n",
        "    {\"name\": \"Василий\", \"surname\": \"Теркин\", \"gender\": \"м\", \"program_exp\": True, \"grade\": [8, 8, 9, 10], \"exam\": 8},\n",
        "    {\"name\": \"Мария\", \"surname\": \"Павлова\", \"gender\": \"ж\", \"program_exp\": True, \"grade\": [7, 8, 9, 7, 9], \"exam\": 9},\n",
        "    {\"name\": \"Ирина\", \"surname\": \"Андреева\", \"gender\": \"ж\", \"program_exp\": False, \"grade\": [10, 9, 8, 10], \"exam\": 7},\n",
        "    {\"name\": \"Татьяна\", \"surname\": \"Сидорова\", \"gender\": \"ж\", \"program_exp\": False, \"grade\": [7, 8, 8, 9, 8],\"exam\": 10},\n",
        "    {\"name\": \"Иван\", \"surname\": \"Васильев\", \"gender\": \"м\", \"program_exp\": True, \"grade\": [9, 8, 9, 6, 9, 4], \"exam\": 5},\n",
        "    {\"name\": \"Роман\", \"surname\": \"Золотарев\", \"gender\": \"м\", \"program_exp\": False, \"grade\": [8, 9, 9, 6, 9], \"exam\": 6}\n",
        "]"
      ],
      "execution_count": null,
      "outputs": []
    },
    {
      "cell_type": "code",
      "source": [
        "def get_avg_ex_grade(students):\n",
        "    sum_ex = 0\n",
        "    for student in students:\n",
        "        print(student)\n",
        "        # sum_ex = sum_ex + student['exam']\n",
        "        sum_ex += student['exam']\n",
        "    return round(sum_ex / len(students), 2)\n",
        "\n",
        "print(get_avg_ex_grade(students_list))\n"
      ],
      "metadata": {
        "colab": {
          "base_uri": "https://localhost:8080/"
        },
        "id": "yIYFiOGKUWeL",
        "outputId": "2b2d310b-9d38-4ecd-990c-2dffbbed2139"
      },
      "execution_count": null,
      "outputs": [
        {
          "output_type": "stream",
          "name": "stdout",
          "text": [
            "{'name': 'Василий', 'surname': 'Теркин', 'gender': 'м', 'program_exp': True, 'grade': [8, 8, 9, 10], 'exam': 8}\n",
            "{'name': 'Мария', 'surname': 'Павлова', 'gender': 'ж', 'program_exp': True, 'grade': [7, 8, 9, 7, 9], 'exam': 9}\n",
            "{'name': 'Ирина', 'surname': 'Андреева', 'gender': 'ж', 'program_exp': False, 'grade': [10, 9, 8, 10], 'exam': 7}\n",
            "{'name': 'Татьяна', 'surname': 'Сидорова', 'gender': 'ж', 'program_exp': False, 'grade': [7, 8, 8, 9, 8], 'exam': 10}\n",
            "{'name': 'Иван', 'surname': 'Васильев', 'gender': 'м', 'program_exp': True, 'grade': [9, 8, 9, 6, 9, 4], 'exam': 5}\n",
            "{'name': 'Роман', 'surname': 'Золотарев', 'gender': 'м', 'program_exp': False, 'grade': [8, 9, 9, 6, 9], 'exam': 6}\n",
            "7.5\n"
          ]
        }
      ]
    },
    {
      "cell_type": "markdown",
      "source": [
        ""
      ],
      "metadata": {
        "id": "3N3d8jaqaK0S"
      }
    },
    {
      "cell_type": "code",
      "source": [
        "def get_avg_hw_grade(students, exp=None, gender=None):\n",
        "    sum_hw = 0\n",
        "    count = 0\n",
        "    for student in students:\n",
        "        if (student['program_exp'] == exp or exp is None) and (student['gender'] == gender or gender is None):\n",
        "            sum_hw += sum(student['grade']) / len(student['grade'])\n",
        "            count += 1\n",
        "    return round(sum_hw / count, 2)\n",
        "\n",
        "print(get_avg_hw_grade(students_list))    \n",
        "print(get_avg_hw_grade(students_list, True))    \n",
        "print(get_avg_hw_grade(students_list, False))    \n",
        "print(get_avg_hw_grade(students_list, False, 'м'))    \n",
        "print(get_avg_hw_grade(students_list, False, 'ж'))\n",
        "print(get_avg_hw_grade(students_list, None, 'ж'))\n",
        "print(get_avg_hw_grade(students_list, gender='ж'))"
      ],
      "metadata": {
        "colab": {
          "base_uri": "https://localhost:8080/"
        },
        "id": "XcZJpwF0WHig",
        "outputId": "cfaab4f8-60f9-478b-aef9-814f59b6cfe8"
      },
      "execution_count": null,
      "outputs": [
        {
          "output_type": "stream",
          "name": "stdout",
          "text": [
            "8.42\n",
            "8.42\n"
          ]
        }
      ]
    },
    {
      "cell_type": "code",
      "source": [
        "def main(students):\n",
        "    while True:\n",
        "        user_input = input('Введите команду')\n",
        "        if user_input == '1':\n",
        "            print(get_avg_hw_grade(students))\n",
        "        elif user_input == '2':\n",
        "            print(get_avg_hw_grade(students, True)) \n",
        "        elif user_input == '3':\n",
        "            print(get_avg_hw_grade(students, False))\n",
        "        else user_input == 'q':\n",
        "            print('Завершение программы')\n",
        "            break\n",
        "\n",
        "main(students_list)"
      ],
      "metadata": {
        "colab": {
          "base_uri": "https://localhost:8080/"
        },
        "id": "E5_cIkb-cskh",
        "outputId": "aaf7344a-3137-4d55-df1f-774261f47c87"
      },
      "execution_count": null,
      "outputs": [
        {
          "output_type": "stream",
          "name": "stdout",
          "text": [
            "Введите команду1\n",
            "8.28\n",
            "Введите команду2\n",
            "8.08\n",
            "Введите команду3\n",
            "8.48\n",
            "Введите команду1\n",
            "8.28\n",
            "Введите команду2\n",
            "8.08\n",
            "Введите команду3\n",
            "8.48\n",
            "Введите командуq\n",
            "Завершение программы\n"
          ]
        }
      ]
    },
    {
      "cell_type": "markdown",
      "metadata": {
        "id": "mgMjftejd7Ph"
      },
      "source": [
        "## Анонимные функции, функции map и filter\n",
        "\n",
        "[Анонимные функции](https://habr.com/ru/post/507642/) создаются при помощи инструкции lambda и используются для более краткой записи функций с одним выражением. Выполняются быстрее обычных и не требуют инструкции return."
      ]
    },
    {
      "cell_type": "markdown",
      "metadata": {
        "id": "hvVaGxqS7P9Z"
      },
      "source": [
        "Отсортируем словарь"
      ]
    },
    {
      "cell_type": "code",
      "metadata": {
        "id": "49SDXEYuOREp"
      },
      "source": [
        "my_dict = {\n",
        "    'id1': 654321, \n",
        "    'id2': 123456, \n",
        "    'id3': 777777\n",
        "}"
      ],
      "execution_count": null,
      "outputs": []
    },
    {
      "cell_type": "code",
      "metadata": {
        "colab": {
          "base_uri": "https://localhost:8080/"
        },
        "id": "avPFj4lxORa2",
        "outputId": "cb79199b-e260-4c80-ae25-af05d88c5566"
      },
      "source": [
        "res = {}\n",
        "for sorted_value in sorted(my_dict.values()):\n",
        "    for key, value in my_dict.items():\n",
        "        if sorted_value == value:\n",
        "           res[key] = sorted_value \n",
        "\n",
        "print(res)"
      ],
      "execution_count": null,
      "outputs": [
        {
          "output_type": "stream",
          "name": "stdout",
          "text": [
            "{'id2': 123456, 'id1': 654321, 'id3': 777777}\n"
          ]
        }
      ]
    },
    {
      "cell_type": "markdown",
      "metadata": {
        "id": "xkoo_sMMPW_l"
      },
      "source": [
        "### Практика. Отсортируем словарь без циклов"
      ]
    },
    {
      "cell_type": "code",
      "metadata": {
        "colab": {
          "base_uri": "https://localhost:8080/"
        },
        "id": "3lsPYgCxQRYi",
        "outputId": "c5a01c26-76fe-453e-c083-cd85ab29e7f7"
      },
      "source": [
        "print(dict(sorted(my_dict.items(), key=lambda kv: kv[1])))"
      ],
      "execution_count": null,
      "outputs": [
        {
          "output_type": "stream",
          "name": "stdout",
          "text": [
            "{'id2': 123456, 'id1': 654321, 'id3': 777777}\n"
          ]
        }
      ]
    },
    {
      "cell_type": "code",
      "source": [
        "?sorted"
      ],
      "metadata": {
        "id": "o3zweF72fkGW"
      },
      "execution_count": null,
      "outputs": []
    },
    {
      "cell_type": "markdown",
      "metadata": {
        "id": "1whxQleKMlLv"
      },
      "source": [
        "Получим список из средних цен в каждой категории товаров"
      ]
    },
    {
      "cell_type": "code",
      "metadata": {
        "id": "xZTL8aTPMNEE"
      },
      "source": [
        "prices_by_categories = [[100, 200, 400, 600], [200, 500], [100, 200, 100, 100], [800, 900]]"
      ],
      "execution_count": null,
      "outputs": []
    },
    {
      "cell_type": "code",
      "metadata": {
        "colab": {
          "base_uri": "https://localhost:8080/"
        },
        "id": "m1DA5YEIMxw3",
        "outputId": "c6b3c95d-bd27-4570-f769-21a9c2760425"
      },
      "source": [
        "def get_avg_prices(prices):\n",
        "    mean_prices = []\n",
        "    for category in prices:\n",
        "        mean_prices.append(sum(category) / len(category))\n",
        "    return mean_prices\n",
        "\n",
        "print(get_avg_prices(prices_by_categories))"
      ],
      "execution_count": null,
      "outputs": [
        {
          "output_type": "stream",
          "name": "stdout",
          "text": [
            "[325.0, 350.0, 125.0, 850.0]\n"
          ]
        }
      ]
    },
    {
      "cell_type": "code",
      "metadata": {
        "id": "zWKy77kXQaTT",
        "colab": {
          "base_uri": "https://localhost:8080/"
        },
        "outputId": "d26b99bb-6e53-41f8-ce7e-f29e0fece2c7"
      },
      "source": [
        "# при помощи list comprehension\n",
        "\n",
        "[sum(category) / len(category) for category in prices_by_categories]"
      ],
      "execution_count": null,
      "outputs": [
        {
          "output_type": "execute_result",
          "data": {
            "text/plain": [
              "[325.0, 350.0, 125.0, 850.0]"
            ]
          },
          "metadata": {},
          "execution_count": 62
        }
      ]
    },
    {
      "cell_type": "markdown",
      "metadata": {
        "id": "y46TpSe5NFei"
      },
      "source": [
        "### Практика. Получим список из средних цен без цикла"
      ]
    },
    {
      "cell_type": "code",
      "metadata": {
        "id": "uTmmXJz8NlzC",
        "colab": {
          "base_uri": "https://localhost:8080/"
        },
        "outputId": "c8a0ecb1-af67-4f98-dbd9-efa2fa1b8f7f"
      },
      "source": [
        "list(map(lambda category: sum(category)/len(category), prices_by_categories))"
      ],
      "execution_count": null,
      "outputs": [
        {
          "output_type": "execute_result",
          "data": {
            "text/plain": [
              "[325.0, 350.0, 125.0, 850.0]"
            ]
          },
          "metadata": {},
          "execution_count": 63
        }
      ]
    },
    {
      "cell_type": "markdown",
      "metadata": {
        "id": "yH-gS2ATQesE"
      },
      "source": [
        "Решим задачу с фильтрацией структуры по гордам без цикла"
      ]
    },
    {
      "cell_type": "code",
      "metadata": {
        "id": "EBLHeZpvQnFZ"
      },
      "source": [
        "geo_logs = [\n",
        "    {'visit1': ['Москва', 'Россия']},\n",
        "    {'visit2': ['Дели', 'Индия']},\n",
        "    {'visit3': ['Владимир', 'Россия']},\n",
        "    {'visit4': ['Лиссабон', 'Португалия']},\n",
        "    {'visit5': ['Париж', 'Франция']},\n",
        "    {'visit7': ['Тула', 'Россия']},\n",
        "    {'visit9': ['Курск', 'Россия']},\n",
        "    {'visit10': ['Архангельск', 'Россия']}\n",
        "]"
      ],
      "execution_count": null,
      "outputs": []
    },
    {
      "cell_type": "code",
      "metadata": {
        "id": "DaRAQ3R1QsP1",
        "colab": {
          "base_uri": "https://localhost:8080/"
        },
        "outputId": "e4087efd-d487-4d08-86e1-d61217454d9b"
      },
      "source": [
        "result = []\n",
        "for log in geo_logs:\n",
        "    if 'Россия' in list(log.values())[0]:\n",
        "        result.append(log)\n",
        "        \n",
        "print(result)"
      ],
      "execution_count": null,
      "outputs": [
        {
          "output_type": "stream",
          "name": "stdout",
          "text": [
            "[{'visit1': ['Москва', 'Россия']}, {'visit3': ['Владимир', 'Россия']}, {'visit7': ['Тула', 'Россия']}, {'visit9': ['Курск', 'Россия']}, {'visit10': ['Архангельск', 'Россия']}]\n"
          ]
        }
      ]
    },
    {
      "cell_type": "code",
      "metadata": {
        "id": "69ru-aTZQu8j",
        "colab": {
          "base_uri": "https://localhost:8080/"
        },
        "outputId": "220d8e92-f2be-47bb-9fa2-382c03e692ae"
      },
      "source": [
        "print(list(filter(lambda log: 'Россия' in list(log.values())[0], geo_logs)))"
      ],
      "execution_count": null,
      "outputs": [
        {
          "output_type": "stream",
          "name": "stdout",
          "text": [
            "[{'visit1': ['Москва', 'Россия']}, {'visit3': ['Владимир', 'Россия']}, {'visit7': ['Тула', 'Россия']}, {'visit9': ['Курск', 'Россия']}, {'visit10': ['Архангельск', 'Россия']}]\n"
          ]
        }
      ]
    },
    {
      "cell_type": "markdown",
      "source": [
        "Используем фильтрацию в примере со студентами"
      ],
      "metadata": {
        "id": "73_cESu8EVlV"
      }
    },
    {
      "cell_type": "code",
      "source": [
        ""
      ],
      "metadata": {
        "id": "E83Th4inDPEz"
      },
      "execution_count": null,
      "outputs": []
    },
    {
      "cell_type": "markdown",
      "metadata": {
        "id": "ONpdieq_fpaF"
      },
      "source": [
        "## Цикл / рекурсия / reduce ?\n",
        "\n",
        "Напишем функцию, преобразующую произвольный список вида `['2018-01-01', 'yandex', 'cpc', 100]` (он может быть любой длины) в словарь `{'2018-01-01': {'yandex': {'cpc': 100}}}`"
      ]
    },
    {
      "cell_type": "code",
      "metadata": {
        "id": "GEn97dBdfxx_"
      },
      "source": [
        "some_list = ['2018-01-01', 'yandex', 'cpc', 100]"
      ],
      "execution_count": null,
      "outputs": []
    },
    {
      "cell_type": "code",
      "metadata": {
        "colab": {
          "base_uri": "https://localhost:8080/"
        },
        "id": "tpi4nSM-gLOh",
        "outputId": "15f152f1-a585-4a68-f8c9-3dbca59bc105"
      },
      "source": [
        "def get_crazy_nested_dict(some_list):\n",
        "    res = some_list[-1]            \n",
        "    for el in reversed(some_list[:-1]):      \n",
        "        res = {el: res}    \n",
        "    return res\n",
        "    \n",
        "print(get_crazy_nested_dict(some_list))"
      ],
      "execution_count": null,
      "outputs": [
        {
          "output_type": "stream",
          "name": "stdout",
          "text": [
            "{'2018-01-01': {'yandex': {'cpc': 100}}}\n"
          ]
        }
      ]
    },
    {
      "cell_type": "markdown",
      "source": [
        "Реализация через рекурсию\n",
        "\n",
        "Рекурсивная функция — функция, которавя вызывает саму себя"
      ],
      "metadata": {
        "id": "-YWodOgdCPgR"
      }
    },
    {
      "cell_type": "code",
      "metadata": {
        "colab": {
          "base_uri": "https://localhost:8080/"
        },
        "id": "IUQ7BAaVgVnt",
        "outputId": "9aa70533-2825-4f1f-bbcd-32e1e5811c72"
      },
      "source": [
        "some_list = ['2018-01-01', 'yandex', 'cpc', 100]\n",
        "def get_dict(some_list):\n",
        "    if len(some_list) == 1:\n",
        "        return some_list[0]\n",
        "    return {some_list[0]:get_dict(some_list[1:])}\n",
        "\n",
        "print(get_dict(some_list))"
      ],
      "execution_count": null,
      "outputs": [
        {
          "output_type": "stream",
          "name": "stdout",
          "text": [
            "{'2018-01-01': {'yandex': {'cpc': 100}}}\n"
          ]
        }
      ]
    },
    {
      "cell_type": "markdown",
      "metadata": {
        "id": "cxXK7hh34vOd"
      },
      "source": [
        "Реализация через reduce\n",
        "\n",
        "reduce последовательно применяет функцию-аргумент к элементам списка, возвращает единичное значение. \n"
      ]
    },
    {
      "cell_type": "code",
      "metadata": {
        "colab": {
          "base_uri": "https://localhost:8080/"
        },
        "id": "sAzUILMAYebk",
        "outputId": "3ebf7549-b3e0-4844-bed4-63dc8dd71d24"
      },
      "source": [
        "from functools import reduce\n",
        "res = reduce(lambda a, b: a + b, [1, 5, 7, 9])\n",
        "res"
      ],
      "execution_count": null,
      "outputs": [
        {
          "output_type": "execute_result",
          "data": {
            "text/plain": [
              "22"
            ]
          },
          "metadata": {},
          "execution_count": 85
        }
      ]
    },
    {
      "cell_type": "code",
      "metadata": {
        "id": "GGdtz70qhBx8"
      },
      "source": [
        "print(reduce(lambda value, key: {key: value}, reversed(some_list)))"
      ],
      "execution_count": null,
      "outputs": []
    },
    {
      "cell_type": "markdown",
      "metadata": {
        "id": "D2RHLDZREpo4"
      },
      "source": [
        "## Ваши вопросы"
      ]
    },
    {
      "cell_type": "code",
      "metadata": {
        "id": "8CdShv8BSV3A"
      },
      "source": [
        ""
      ],
      "execution_count": null,
      "outputs": []
    },
    {
      "cell_type": "code",
      "metadata": {
        "id": "idXHoa_6Eqml"
      },
      "source": [
        ""
      ],
      "execution_count": null,
      "outputs": []
    }
  ]
}