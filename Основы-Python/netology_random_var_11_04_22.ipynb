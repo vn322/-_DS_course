{
  "nbformat": 4,
  "nbformat_minor": 0,
  "metadata": {
    "kernelspec": {
      "display_name": "Python 3",
      "language": "python",
      "name": "python3"
    },
    "language_info": {
      "codemirror_mode": {
        "name": "ipython",
        "version": 3
      },
      "file_extension": ".py",
      "mimetype": "text/x-python",
      "name": "python",
      "nbconvert_exporter": "python",
      "pygments_lexer": "ipython3",
      "version": "3.7.9"
    },
    "colab": {
      "name": "netology_random_var_11_04_22.ipynb",
      "provenance": [],
      "collapsed_sections": []
    }
  },
  "cells": [
    {
      "cell_type": "markdown",
      "metadata": {
        "id": "nXOA4pGqoi7p"
      },
      "source": [
        "# Случайные события. Случайные величины\n",
        "\n",
        "Булыгин Олег:  \n",
        "* [LinkedIn](linkedin.com/in/obulygin)  \n",
        "* [Telegram](https://t.me/obulygin91)    \n",
        "* [Vk](vk.com/obulygin91)  \n",
        "* email: obulygin91@ya.ru  \n",
        "\n",
        "[Сообщество по Python](https://yandex.ru/q/loves/pythontalk/) на Кью  \n",
        "[Сообщество по Data Science и анализу данных](https://yandex.ru/q/loves/datatalk/) на Кью "
      ]
    },
    {
      "cell_type": "code",
      "metadata": {
        "id": "PGZL3xvVoeTM"
      },
      "source": [
        "import numpy as np"
      ],
      "execution_count": null,
      "outputs": []
    },
    {
      "cell_type": "code",
      "metadata": {
        "id": "YJPemaJOoeTR",
        "colab": {
          "base_uri": "https://localhost:8080/"
        },
        "outputId": "01e4ead8-ad96-41f1-a1db-e8c76c5bcb3f"
      },
      "source": [
        "# генерируем дискретную величину\n",
        "np.random.randint(1, 5)"
      ],
      "execution_count": null,
      "outputs": [
        {
          "output_type": "execute_result",
          "data": {
            "text/plain": [
              "3"
            ]
          },
          "metadata": {},
          "execution_count": 7
        }
      ]
    },
    {
      "cell_type": "code",
      "metadata": {
        "id": "G6L4hJQKoeTS",
        "colab": {
          "base_uri": "https://localhost:8080/"
        },
        "outputId": "18c1e55d-91e1-4180-ddd4-d3638bc7f7b2"
      },
      "source": [
        "np.random.randint(1, 5, 100)"
      ],
      "execution_count": null,
      "outputs": [
        {
          "output_type": "execute_result",
          "data": {
            "text/plain": [
              "array([4, 4, 4, 3, 1, 4, 2, 2, 3, 1, 3, 4, 2, 2, 2, 2, 2, 1, 2, 2, 2, 4,\n",
              "       1, 4, 1, 1, 4, 3, 3, 1, 4, 4, 2, 1, 4, 1, 4, 4, 4, 1, 4, 2, 1, 3,\n",
              "       2, 1, 2, 2, 1, 2, 1, 4, 3, 4, 2, 2, 2, 1, 4, 1, 1, 4, 2, 1, 1, 3,\n",
              "       4, 2, 1, 1, 3, 4, 2, 1, 4, 3, 1, 4, 3, 4, 2, 1, 2, 2, 2, 1, 3, 4,\n",
              "       3, 1, 4, 4, 3, 1, 2, 2, 1, 1, 4, 2])"
            ]
          },
          "metadata": {},
          "execution_count": 11
        }
      ]
    },
    {
      "cell_type": "code",
      "metadata": {
        "id": "2oJZcFUtoeTS",
        "colab": {
          "base_uri": "https://localhost:8080/"
        },
        "outputId": "05f13163-303c-491a-81e4-84dd78aa66b0"
      },
      "source": [
        "# генерируем непрерывную величину\n",
        "np.random.random(100)"
      ],
      "execution_count": null,
      "outputs": [
        {
          "output_type": "execute_result",
          "data": {
            "text/plain": [
              "array([5.67509002e-01, 3.77307384e-01, 2.23284774e-01, 9.99930630e-01,\n",
              "       6.54032363e-01, 8.47211937e-01, 7.28994618e-02, 8.07904783e-02,\n",
              "       1.28826470e-01, 8.75030526e-01, 8.82847590e-02, 3.68195519e-01,\n",
              "       3.04400551e-01, 6.24470356e-02, 8.24378237e-02, 8.68147990e-01,\n",
              "       5.88764295e-01, 1.23153952e-01, 3.23555606e-01, 2.99781791e-01,\n",
              "       2.72920382e-01, 4.88474137e-01, 9.78066719e-01, 4.48138270e-01,\n",
              "       1.76624171e-01, 2.07089009e-01, 8.28239557e-01, 8.10745420e-01,\n",
              "       9.04004332e-01, 2.10157245e-01, 7.58718956e-01, 1.13344849e-01,\n",
              "       8.72203441e-01, 8.82898037e-01, 5.36512388e-01, 9.13516795e-02,\n",
              "       8.84780057e-01, 3.70385421e-01, 4.39460105e-01, 2.60611027e-01,\n",
              "       6.08912859e-01, 7.95134736e-01, 6.98002353e-02, 2.71489193e-01,\n",
              "       5.56918325e-01, 3.88985837e-01, 7.13645510e-01, 5.04725196e-01,\n",
              "       3.17421418e-01, 5.08019294e-01, 4.77231353e-01, 7.68910120e-02,\n",
              "       8.84359269e-02, 7.77594454e-01, 9.97750430e-01, 5.07851045e-01,\n",
              "       6.79654810e-01, 3.57144506e-01, 5.40905797e-01, 7.86734717e-01,\n",
              "       7.88416044e-01, 5.32588700e-01, 9.73798705e-01, 1.24547289e-01,\n",
              "       8.43114085e-01, 5.32162293e-02, 2.32331929e-01, 5.33794716e-01,\n",
              "       8.17846229e-01, 4.46419173e-01, 7.49715691e-01, 9.49856670e-01,\n",
              "       1.40198829e-01, 4.03828658e-01, 7.17332798e-01, 5.99225419e-02,\n",
              "       9.62618317e-01, 2.43964145e-01, 1.29731003e-01, 3.34638354e-01,\n",
              "       7.06290932e-01, 3.07073961e-01, 3.56566154e-01, 7.91839851e-02,\n",
              "       6.84135743e-01, 3.10943076e-01, 7.99689975e-02, 9.17385832e-01,\n",
              "       7.98308562e-01, 3.76486761e-01, 9.28488561e-01, 1.37793452e-01,\n",
              "       7.63705137e-01, 8.05968800e-01, 1.74912803e-01, 1.69296290e-01,\n",
              "       8.73444044e-05, 7.77198623e-02, 4.16927536e-01, 6.45107600e-01])"
            ]
          },
          "metadata": {},
          "execution_count": 12
        }
      ]
    },
    {
      "cell_type": "code",
      "metadata": {
        "id": "m8sHru95oeTT",
        "colab": {
          "base_uri": "https://localhost:8080/"
        },
        "outputId": "2f42251d-2a53-43ea-e33b-3ada5da5b0d8"
      },
      "source": [
        "np.random.uniform(1, 5)"
      ],
      "execution_count": null,
      "outputs": [
        {
          "output_type": "execute_result",
          "data": {
            "text/plain": [
              "3.4504264387588592"
            ]
          },
          "metadata": {},
          "execution_count": 16
        }
      ]
    },
    {
      "cell_type": "code",
      "metadata": {
        "id": "yIYQIh1coeTT",
        "colab": {
          "base_uri": "https://localhost:8080/"
        },
        "outputId": "ab623c31-17e8-4342-d0fc-66955cea6443"
      },
      "source": [
        "np.random.uniform(1, 5, 100)"
      ],
      "execution_count": null,
      "outputs": [
        {
          "output_type": "execute_result",
          "data": {
            "text/plain": [
              "array([1.4069178 , 4.85560371, 3.87376952, 2.69792866, 1.30228172,\n",
              "       4.65790664, 2.4875112 , 1.16282062, 4.40341712, 4.55375774,\n",
              "       4.6674149 , 4.75695198, 3.38865252, 2.57520012, 4.83757766,\n",
              "       3.52466921, 1.01130348, 4.23468911, 2.17656766, 4.14015173,\n",
              "       2.8149612 , 1.59056435, 2.31100298, 1.34815245, 3.18855946,\n",
              "       1.81563671, 1.76345637, 1.59090746, 2.14149476, 1.72130614,\n",
              "       3.22327089, 2.3702382 , 3.14570621, 3.40041085, 1.54675404,\n",
              "       3.2093067 , 3.19030169, 1.98339313, 2.34008106, 2.04343267,\n",
              "       2.17820788, 2.78296392, 2.43389577, 4.58115838, 2.64285268,\n",
              "       1.14003509, 3.67114499, 3.13632982, 3.84725554, 1.83245382,\n",
              "       2.8510579 , 2.49497527, 1.60605153, 2.92401095, 1.61065119,\n",
              "       3.36610645, 3.32225123, 4.95100027, 3.83719145, 4.27217407,\n",
              "       3.48559031, 4.65975827, 3.84959054, 1.29024365, 1.08805024,\n",
              "       1.5921188 , 3.4161617 , 4.77673799, 3.58454988, 1.34053829,\n",
              "       1.17332398, 1.75988522, 4.70081279, 2.31301258, 4.71557246,\n",
              "       3.19007724, 1.6530492 , 1.26148391, 2.16852177, 1.10364964,\n",
              "       4.26239743, 2.84821282, 4.98393293, 1.62453541, 1.54024586,\n",
              "       1.57643482, 3.68613637, 4.31251351, 4.14163171, 4.454488  ,\n",
              "       2.92936059, 2.71091095, 4.33768684, 1.33155126, 1.2693736 ,\n",
              "       1.82110625, 2.76088237, 4.56026238, 3.03916428, 3.73182616])"
            ]
          },
          "metadata": {},
          "execution_count": 18
        }
      ]
    },
    {
      "cell_type": "code",
      "metadata": {
        "colab": {
          "base_uri": "https://localhost:8080/"
        },
        "id": "z1ulCBFjBbuz",
        "outputId": "2ee4fb9b-a58c-41bd-bd18-942cb956bf1b"
      },
      "source": [
        "np.random.seed(777)\n",
        "np.random.randint(1, 5, 10)"
      ],
      "execution_count": null,
      "outputs": [
        {
          "output_type": "execute_result",
          "data": {
            "text/plain": [
              "array([4, 4, 4, 3, 4, 2, 4, 2, 4, 1])"
            ]
          },
          "metadata": {},
          "execution_count": 45
        }
      ]
    },
    {
      "cell_type": "markdown",
      "metadata": {
        "id": "HKqYmkjsoeTT"
      },
      "source": [
        "**Задача 1.** Оценить вероятность того, что на игральной кости выпадет больше 4 очков. Сравнить с теоретической вероятностью."
      ]
    },
    {
      "cell_type": "code",
      "metadata": {
        "id": "EZX-A7geoeTW",
        "colab": {
          "base_uri": "https://localhost:8080/"
        },
        "outputId": "0c60282f-0878-4f16-a1a5-eb984ebad088"
      },
      "source": [
        "import numpy as np\n",
        "trials = 10000000    # Количество попыток\n",
        "successes = 0    # Количество успехов\n",
        "\n",
        "for i in range(trials):\n",
        "    random_score = np.random.randint(1, 7)    # Случайное количество очков от 1 до 6\n",
        "    if random_score > 4:\n",
        "        successes += 1\n",
        "        \n",
        "p_monte_carlo = successes / trials    # Вероятность из моделирования\n",
        "p = 2 / 6                             # Теоретическая вероятность\n",
        "\n",
        "print(successes, trials, p_monte_carlo, p)"
      ],
      "execution_count": null,
      "outputs": [
        {
          "output_type": "stream",
          "name": "stdout",
          "text": [
            "3333903 10000000 0.3333903 0.3333333333333333\n"
          ]
        }
      ]
    },
    {
      "cell_type": "markdown",
      "metadata": {
        "id": "gFfgFS68oeTY"
      },
      "source": [
        "**Задача 1А** (опциональная). Дан квадрат, в который вписан круг (касаясь сторон квадрата). В квадрат случайным образом попадают точки. Какова вероятность, что наугад взятая точка попадёт в круг?  \n",
        "_Подсказка:_ Удобно взять квардат со стороной, равной 2, и отсчитывать координаты точек от его центра."
      ]
    },
    {
      "cell_type": "code",
      "metadata": {
        "id": "J1w1PeKdoeTZ"
      },
      "source": [
        "trials = 1000000\n",
        "successes = 0\n",
        "\n",
        "for i in range(trials):\n",
        "    x = np.random.uniform(-1, 1)\n",
        "    y = np.random.uniform(-1, 1)\n",
        "\n",
        "    if x**2 + y**2 < 1:\n",
        "        successes += 1\n",
        "\n",
        "res = successes / trials"
      ],
      "execution_count": null,
      "outputs": []
    },
    {
      "cell_type": "code",
      "metadata": {
        "id": "ku7A1BQ9oeTZ",
        "colab": {
          "base_uri": "https://localhost:8080/"
        },
        "outputId": "f04bf110-3e55-4b3b-bd08-27995fc7dc38"
      },
      "source": [
        "res"
      ],
      "execution_count": null,
      "outputs": [
        {
          "output_type": "execute_result",
          "data": {
            "text/plain": [
              "0.785939"
            ]
          },
          "metadata": {},
          "execution_count": 69
        }
      ]
    },
    {
      "cell_type": "code",
      "source": [
        "res * 4"
      ],
      "metadata": {
        "colab": {
          "base_uri": "https://localhost:8080/"
        },
        "id": "WyU9I1Rofc6z",
        "outputId": "62ca2c19-7a45-47a3-8873-5ba9417a9424"
      },
      "execution_count": null,
      "outputs": [
        {
          "output_type": "execute_result",
          "data": {
            "text/plain": [
              "3.143756"
            ]
          },
          "metadata": {},
          "execution_count": 70
        }
      ]
    },
    {
      "cell_type": "markdown",
      "metadata": {
        "id": "yqMozu-9oeTa"
      },
      "source": [
        "**Задача 2.** Смоделировать стрельбу по мишени."
      ]
    },
    {
      "cell_type": "code",
      "metadata": {
        "id": "ZFk3cFwKoeTa",
        "colab": {
          "base_uri": "https://localhost:8080/",
          "height": 286
        },
        "outputId": "9708429a-3d37-4dcc-f741-66f5ddc422c4"
      },
      "source": [
        "import matplotlib.pyplot as plt\n",
        "\n",
        "shots = 10000    # Количество выстрелов\n",
        "std_dev = 1 # Стандартное отклонение (на сколько мы в среднем будем мазать)\n",
        "\n",
        "x = np.random.normal(0, std_dev, shots) # 0 - и среднее, и мода, и медиана\n",
        "y = np.random.normal(0, std_dev, shots)\n",
        "\n",
        "\n",
        "plt.scatter(x, y)\n",
        "# почему разброс от -3 до 3?"
      ],
      "execution_count": null,
      "outputs": [
        {
          "output_type": "execute_result",
          "data": {
            "text/plain": [
              "<matplotlib.collections.PathCollection at 0x7f3ad0330550>"
            ]
          },
          "metadata": {},
          "execution_count": 71
        },
        {
          "output_type": "display_data",
          "data": {
            "text/plain": [
              "<Figure size 432x288 with 1 Axes>"
            ],
            "image/png": "[encoded data removed]"
          },
          "metadata": {
            "needs_background": "light"
          }
        }
      ]
    },
    {
      "cell_type": "markdown",
      "metadata": {
        "id": "l_0GysxhoeTb"
      },
      "source": [
        "**Задача 3.** Графически определить распределение измеренных значений физической величины, когда измерительный прибор имеет случайную погрешность."
      ]
    },
    {
      "cell_type": "code",
      "metadata": {
        "id": "REebYTl8oeTb",
        "colab": {
          "base_uri": "https://localhost:8080/"
        },
        "outputId": "cd924b11-adfb-4967-9b6a-f0130b733da8"
      },
      "source": [
        "import pandas as pd\n",
        "\n",
        "data = pd.read_csv(\"https://raw.githubusercontent.com/obulygin/netology_pyda_files/main/data.log\", sep=\" \")[\"az\"]\n",
        "data.describe()"
      ],
      "execution_count": null,
      "outputs": [
        {
          "output_type": "execute_result",
          "data": {
            "text/plain": [
              "count    1040.000000\n",
              "mean       -9.797112\n",
              "std         0.087958\n",
              "min       -10.030373\n",
              "25%        -9.866481\n",
              "50%        -9.800747\n",
              "75%        -9.727398\n",
              "max        -9.570811\n",
              "Name: az, dtype: float64"
            ]
          },
          "metadata": {},
          "execution_count": 72
        }
      ]
    },
    {
      "cell_type": "code",
      "metadata": {
        "id": "lZSTBr-poeTb"
      },
      "source": [
        "uni = np.random.uniform(min(data), max(data), 10000)\n",
        "normal = np.random.normal(np.mean(data), np.std(data, ddof=1), 10000)"
      ],
      "execution_count": null,
      "outputs": []
    },
    {
      "cell_type": "code",
      "metadata": {
        "id": "p84mWD6CoeTc",
        "colab": {
          "base_uri": "https://localhost:8080/",
          "height": 282
        },
        "outputId": "68ccc235-01a2-4345-c1f8-f0357e320c1e"
      },
      "source": [
        "data.plot()"
      ],
      "execution_count": null,
      "outputs": [
        {
          "output_type": "execute_result",
          "data": {
            "text/plain": [
              "<matplotlib.axes._subplots.AxesSubplot at 0x7f3ac8d1e250>"
            ]
          },
          "metadata": {},
          "execution_count": 74
        },
        {
          "output_type": "display_data",
          "data": {
            "text/plain": [
              "<Figure size 432x288 with 1 Axes>"
            ],
            "image/png": "[encoded data removed]"
          },
          "metadata": {
            "needs_background": "light"
          }
        }
      ]
    },
    {
      "cell_type": "code",
      "metadata": {
        "id": "XkKEW5SDoeTc",
        "colab": {
          "base_uri": "https://localhost:8080/",
          "height": 761
        },
        "outputId": "7296018a-93ff-4f7d-9087-fe3735530f84"
      },
      "source": [
        "plt.hist(uni, bins=11)\n",
        "plt.show()\n",
        "plt.hist(normal, bins=11)\n",
        "plt.show()\n",
        "plt.hist(data, bins=11)\n",
        "plt.show()"
      ],
      "execution_count": null,
      "outputs": [
        {
          "output_type": "display_data",
          "data": {
            "text/plain": [
              "<Figure size 432x288 with 1 Axes>"
            ],
            "image/png": "[encoded data removed]"
          },
          "metadata": {
            "needs_background": "light"
          }
        },
        {
          "output_type": "display_data",
          "data": {
            "text/plain": [
              "<Figure size 432x288 with 1 Axes>"
            ],
            "image/png": "[encoded data removed]"
          },
          "metadata": {
            "needs_background": "light"
          }
        },
        {
          "output_type": "display_data",
          "data": {
            "text/plain": [
              "<Figure size 432x288 with 1 Axes>"
            ],
            "image/png": "[encoded data removed]"
          },
          "metadata": {
            "needs_background": "light"
          }
        }
      ]
    },
    {
      "cell_type": "markdown",
      "metadata": {
        "id": "M6O0YMakoeTd"
      },
      "source": [
        "**Задача 4.** Рассчитать вероятность того, что пациент заражён COVID-19, если известно, что тест дал положительный результат. Сравнить с результатом моделирования."
      ]
    },
    {
      "cell_type": "code",
      "metadata": {
        "id": "pR9cS38LoeTd",
        "colab": {
          "base_uri": "https://localhost:8080/"
        },
        "outputId": "96d3a85d-3059-4270-bd2c-729babe22f5a"
      },
      "source": [
        "prev = 0.07    # Распространённость болезни\n",
        "sens = 0.90    # Чувствительность теста\n",
        "spec = 0.90    # Специфичность теста\n",
        "\n",
        "p = (sens * prev) / (sens * prev + (1 - spec) * (1 - prev))   # Теоретическая вероятность \n",
        "print(p)"
      ],
      "execution_count": null,
      "outputs": [
        {
          "output_type": "stream",
          "name": "stdout",
          "text": [
            "0.403846153846154\n"
          ]
        }
      ]
    },
    {
      "cell_type": "code",
      "metadata": {
        "id": "d_YGeyIjoeTd",
        "colab": {
          "base_uri": "https://localhost:8080/"
        },
        "outputId": "3257b51f-0939-4469-aab4-da2ab90368e6"
      },
      "source": [
        "population = 1000000    # Количество испытуемых\n",
        "\n",
        "true_pos = 0    # Количество больных с положительным тестом\n",
        "false_pos = 0   # Количество здоровых с положительным тестом\n",
        "\n",
        "for i in range(population):\n",
        "    # Наугад решаем, заражён ли человек\n",
        "    # для этого генерируем случайную величину от 0 до 1     \n",
        "    infected = np.random.uniform() < prev\n",
        "    \n",
        "    # Наугад решаем, дал ли тест положительный результат \n",
        "    positive = np.random.uniform() < sens if infected else np.random.uniform() < 1 - spec\n",
        "    \n",
        "    if positive:\n",
        "        if infected:\n",
        "            true_pos += 1\n",
        "        else:\n",
        "            false_pos += 1\n",
        "            \n",
        "p_monte_carlo = true_pos / (true_pos + false_pos)    # Вероятность из моделирования\n",
        "print(p_monte_carlo)"
      ],
      "execution_count": null,
      "outputs": [
        {
          "output_type": "stream",
          "name": "stdout",
          "text": [
            "0.6854318564217611\n"
          ]
        }
      ]
    }
  ]
}