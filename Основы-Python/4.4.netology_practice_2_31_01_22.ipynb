{
  "nbformat": 4,
  "nbformat_minor": 0,
  "metadata": {
    "colab": {
      "name": "netology_practice_2_31_01_22.ipynb",
      "provenance": [],
      "collapsed_sections": []
    },
    "kernelspec": {
      "name": "python3",
      "display_name": "Python 3"
    },
    "language_info": {
      "name": "python"
    }
  },
  "cells": [
    {
      "cell_type": "markdown",
      "metadata": {
        "id": "edQI-m-cCgpV"
      },
      "source": [
        "# Практика 2\n",
        "Теория: Типы данных и циклы. Часть 2\n",
        "\n",
        "Булыгин Олег:  \n",
        "* [LinkedIn](linkedin.com/in/obulygin)  \n",
        "* [Telegram](https://t.me/obulygin91)  \n",
        "* [facebook](fb.com/obulygin91)  \n",
        "* [Vk](vk.com/obulygin91)  \n",
        "* email: obulygin91@ya.ru  \n",
        "\n",
        "[Сообщество по Python](https://yandex.ru/q/loves/pythontalk/) на Кью  \n",
        "[Сообщество по Data Science и анализу данных](https://yandex.ru/q/loves/datatalk/) на Кью "
      ]
    },
    {
      "cell_type": "markdown",
      "metadata": {
        "id": "U72FhsNpDhxX"
      },
      "source": [
        "\n",
        "\n",
        "1.   Пару полезностей\n",
        "2.   list comprehension\n",
        "3.   Словари\n",
        "4.   dict comprehension\n",
        "5.   Множества\n",
        "\n",
        "\n"
      ]
    },
    {
      "cell_type": "markdown",
      "metadata": {
        "id": "XOY7VKI357LA"
      },
      "source": [
        "Как можно \"разгладить\" список. Задачка на мышление"
      ]
    },
    {
      "cell_type": "code",
      "metadata": {
        "id": "TL8qWkEI6mLE"
      },
      "source": [
        "my_list = [[6, 6], [6, 6], [6, 6]]"
      ],
      "execution_count": null,
      "outputs": []
    },
    {
      "cell_type": "code",
      "source": [
        "print([item for i in my_list for item in i])"
      ],
      "metadata": {
        "colab": {
          "base_uri": "https://localhost:8080/"
        },
        "id": "kWbVUxQ5hLMa",
        "outputId": "cd8c3d34-776c-47d8-f553-619ad5142edf"
      },
      "execution_count": null,
      "outputs": [
        {
          "output_type": "stream",
          "name": "stdout",
          "text": [
            "[6, 6, 6, 6, 6, 6]\n"
          ]
        }
      ]
    },
    {
      "cell_type": "code",
      "source": [
        "res = []\n",
        "for list_ in my_list:\n",
        "    for el in list_:\n",
        "        res.append(el)\n",
        "\n",
        "print(res)"
      ],
      "metadata": {
        "colab": {
          "base_uri": "https://localhost:8080/"
        },
        "id": "_QcXuQHgINPm",
        "outputId": "2878ec77-0558-406b-f0a2-db8c46240c8d"
      },
      "execution_count": null,
      "outputs": [
        {
          "output_type": "stream",
          "name": "stdout",
          "text": [
            "['Екатеринбург', 'Москва', 'Санкт-Петербург', 'Норильск', 'Пермь', 'Астрахань']\n"
          ]
        }
      ]
    },
    {
      "cell_type": "code",
      "source": [
        "res = []\n",
        "for list_ in my_list:\n",
        "    res += list_\n",
        "\n",
        "print(res)"
      ],
      "metadata": {
        "colab": {
          "base_uri": "https://localhost:8080/"
        },
        "id": "nbIbMRC4JIGY",
        "outputId": "e975c351-b480-4068-aefd-9d6b678885b8"
      },
      "execution_count": null,
      "outputs": [
        {
          "output_type": "stream",
          "name": "stdout",
          "text": [
            "['Екатеринбург', 'Москва', 'Санкт-Петербург', 'Норильск', 'Пермь', 'Астрахань']\n"
          ]
        }
      ]
    },
    {
      "cell_type": "code",
      "source": [
        "# for i in my_list : \n",
        "#     i = i.split(',')"
      ],
      "metadata": {
        "colab": {
          "base_uri": "https://localhost:8080/",
          "height": 188
        },
        "id": "bw6vWNR6IxPy",
        "outputId": "79174d02-dd55-4c9c-8849-e7f0c70aa39f"
      },
      "execution_count": null,
      "outputs": [
        {
          "output_type": "error",
          "ename": "AttributeError",
          "evalue": "ignored",
          "traceback": [
            "\u001b[0;31m---------------------------------------------------------------------------\u001b[0m",
            "\u001b[0;31mAttributeError\u001b[0m                            Traceback (most recent call last)",
            "\u001b[0;32m<ipython-input-8-ff432667443a>\u001b[0m in \u001b[0;36m<module>\u001b[0;34m()\u001b[0m\n\u001b[1;32m      1\u001b[0m \u001b[0;32mfor\u001b[0m \u001b[0mi\u001b[0m \u001b[0;32min\u001b[0m \u001b[0mmy_list\u001b[0m \u001b[0;34m:\u001b[0m\u001b[0;34m\u001b[0m\u001b[0;34m\u001b[0m\u001b[0m\n\u001b[0;32m----> 2\u001b[0;31m     \u001b[0mi\u001b[0m \u001b[0;34m=\u001b[0m \u001b[0mi\u001b[0m\u001b[0;34m.\u001b[0m\u001b[0msplit\u001b[0m\u001b[0;34m(\u001b[0m\u001b[0;34m','\u001b[0m\u001b[0;34m)\u001b[0m\u001b[0;34m\u001b[0m\u001b[0;34m\u001b[0m\u001b[0m\n\u001b[0m",
            "\u001b[0;31mAttributeError\u001b[0m: 'list' object has no attribute 'split'"
          ]
        }
      ]
    },
    {
      "cell_type": "code",
      "source": [
        "sum(my_list)"
      ],
      "metadata": {
        "colab": {
          "base_uri": "https://localhost:8080/",
          "height": 170
        },
        "id": "yKw27MLXJtpI",
        "outputId": "bd59d91f-7fd3-4986-f25c-c0aff1aaeda4"
      },
      "execution_count": null,
      "outputs": [
        {
          "output_type": "error",
          "ename": "TypeError",
          "evalue": "ignored",
          "traceback": [
            "\u001b[0;31m---------------------------------------------------------------------------\u001b[0m",
            "\u001b[0;31mTypeError\u001b[0m                                 Traceback (most recent call last)",
            "\u001b[0;32m<ipython-input-9-e65979991755>\u001b[0m in \u001b[0;36m<module>\u001b[0;34m()\u001b[0m\n\u001b[0;32m----> 1\u001b[0;31m \u001b[0msum\u001b[0m\u001b[0;34m(\u001b[0m\u001b[0mmy_list\u001b[0m\u001b[0;34m)\u001b[0m\u001b[0;34m\u001b[0m\u001b[0;34m\u001b[0m\u001b[0m\n\u001b[0m",
            "\u001b[0;31mTypeError\u001b[0m: unsupported operand type(s) for +: 'int' and 'list'"
          ]
        }
      ]
    },
    {
      "cell_type": "code",
      "source": [
        "int_list = [10, 22, 30, 40, 51]\n",
        "\n",
        "sum(int_list)"
      ],
      "metadata": {
        "colab": {
          "base_uri": "https://localhost:8080/"
        },
        "id": "nePi5_toJ_W_",
        "outputId": "bea517bc-bb31-4bd6-9f14-22cea8ef1309"
      },
      "execution_count": null,
      "outputs": [
        {
          "output_type": "execute_result",
          "data": {
            "text/plain": [
              "153"
            ]
          },
          "metadata": {},
          "execution_count": 11
        }
      ]
    },
    {
      "cell_type": "code",
      "source": [
        "res = 0\n",
        "for integer in int_list:\n",
        "    res += integer\n",
        "print(res)"
      ],
      "metadata": {
        "colab": {
          "base_uri": "https://localhost:8080/"
        },
        "id": "nswwtYHzKf6F",
        "outputId": "850ec8f9-48ea-4be4-9f42-a8661241bf94"
      },
      "execution_count": null,
      "outputs": [
        {
          "output_type": "stream",
          "name": "stdout",
          "text": [
            "153\n"
          ]
        }
      ]
    },
    {
      "cell_type": "code",
      "source": [
        "my_list = [[6, 6], [6, 6], [6, 6]]\n",
        "sum(my_list, [])"
      ],
      "metadata": {
        "colab": {
          "base_uri": "https://localhost:8080/"
        },
        "id": "0ALHIZsfKvX6",
        "outputId": "237ce610-01dd-41b7-ab3b-b46795a3c572"
      },
      "execution_count": null,
      "outputs": [
        {
          "output_type": "execute_result",
          "data": {
            "text/plain": [
              "[6, 6, 6, 6, 6, 6]"
            ]
          },
          "metadata": {},
          "execution_count": 16
        }
      ]
    },
    {
      "cell_type": "code",
      "source": [
        "[] + ['Екатеринбург', 'Москва'] + ['Санкт-Петербург', 'Норильск'] + ['Пермь', 'Астрахань']"
      ],
      "metadata": {
        "id": "u0XR6geiMn13"
      },
      "execution_count": null,
      "outputs": []
    },
    {
      "cell_type": "markdown",
      "metadata": {
        "id": "hvVaGxqS7P9Z"
      },
      "source": [
        "Проблема изменение длины объекта во время итерации по нему"
      ]
    },
    {
      "cell_type": "markdown",
      "metadata": {
        "id": "O9Bqi6u87Wr8"
      },
      "source": [
        "Дан список с визитами по городам и странам. \n",
        "Напишем код, который возвращает отфильтрованный список `geo_logs`, содержащий только визиты из России.\n"
      ]
    },
    {
      "cell_type": "code",
      "metadata": {
        "id": "0B_AqXss7Onq"
      },
      "source": [
        "geo_logs = [\n",
        "    {'visit1': ['Москва', 'Россия']},\n",
        "    {'visit2': ['Дели', 'Индия']},\n",
        "    {'visit3': ['Владимир', 'Россия']},\n",
        "    {'visit4': ['Лиссабон', 'Португалия']},\n",
        "    {'visit5': ['Париж', 'Франция']},\n",
        "    {'visit7': ['Тула', 'Россия']},\n",
        "    {'visit9': ['Курск', 'Россия']},\n",
        "    {'visit10': ['Архангельск', 'Россия']}\n",
        "]"
      ],
      "execution_count": null,
      "outputs": []
    },
    {
      "cell_type": "code",
      "source": [
        "for log in geo_logs:\n",
        "    for el in log.values():\n",
        "        if 'Россия' not in el:\n",
        "            geo_logs.remove(log)\n",
        "\n",
        "print(geo_logs)"
      ],
      "metadata": {
        "colab": {
          "base_uri": "https://localhost:8080/"
        },
        "id": "wU5dgr18hKRc",
        "outputId": "936afc3a-bd79-4e99-dec9-8005f671dc88"
      },
      "execution_count": null,
      "outputs": [
        {
          "output_type": "stream",
          "name": "stdout",
          "text": [
            "[{'visit1': ['Москва', 'Россия']}, {'visit3': ['Владимир', 'Россия']}, {'visit5': ['Париж', 'Франция']}, {'visit7': ['Тула', 'Россия']}, {'visit9': ['Курск', 'Россия']}, {'visit10': ['Архангельск', 'Россия']}]\n"
          ]
        }
      ]
    },
    {
      "cell_type": "code",
      "source": [
        "res = []\n",
        "\n",
        "for log in geo_logs:\n",
        "    # print(log.values())\n",
        "    if 'Россия' in list(log.values())[0]:\n",
        "        res.append(log)\n",
        "\n",
        "print(res)"
      ],
      "metadata": {
        "colab": {
          "base_uri": "https://localhost:8080/"
        },
        "id": "W5fED43JNrw1",
        "outputId": "c4889fe0-5ad1-4b72-ae6e-6243d03e0f20"
      },
      "execution_count": null,
      "outputs": [
        {
          "output_type": "stream",
          "name": "stdout",
          "text": [
            "dict_values([['Москва', 'Россия']])\n",
            "dict_values([['Дели', 'Индия']])\n",
            "dict_values([['Владимир', 'Россия']])\n",
            "dict_values([['Лиссабон', 'Португалия']])\n",
            "dict_values([['Париж', 'Франция']])\n",
            "dict_values([['Тула', 'Россия']])\n",
            "dict_values([['Курск', 'Россия']])\n",
            "dict_values([['Архангельск', 'Россия']])\n",
            "[{'visit1': ['Москва', 'Россия']}, {'visit3': ['Владимир', 'Россия']}, {'visit7': ['Тула', 'Россия']}, {'visit9': ['Курск', 'Россия']}, {'visit10': ['Архангельск', 'Россия']}]\n"
          ]
        }
      ]
    },
    {
      "cell_type": "code",
      "source": [
        "geo_logs_copy = geo_logs.copy()\n",
        "for log in geo_logs_copy:\n",
        "    if 'Россия' not in list(log.values())[0]:\n",
        "        geo_logs.remove(log)    \n",
        "\n",
        "print(geo_logs)"
      ],
      "metadata": {
        "colab": {
          "base_uri": "https://localhost:8080/"
        },
        "id": "ZYidnuU7O0F3",
        "outputId": "b1342309-01ae-4ca5-92d0-ed1247fd3a14"
      },
      "execution_count": null,
      "outputs": [
        {
          "output_type": "stream",
          "name": "stdout",
          "text": [
            "[{'visit1': ['Москва', 'Россия']}, {'visit3': ['Владимир', 'Россия']}, {'visit7': ['Тула', 'Россия']}, {'visit9': ['Курск', 'Россия']}, {'visit10': ['Архангельск', 'Россия']}]\n"
          ]
        }
      ]
    },
    {
      "cell_type": "markdown",
      "metadata": {
        "id": "PEJpQwzs8JI9"
      },
      "source": [
        "**Практика**. Решим задачу с диагональной матрицей в одну строку"
      ]
    },
    {
      "cell_type": "code",
      "metadata": {
        "id": "tyIq2ve46Ppw"
      },
      "source": [
        "data = [\n",
        "    [13, 25, 23, 34],\n",
        "    [45, 32, 44, 47],\n",
        "    [12, 33, 23, 95],\n",
        "    [13, 53, 34, 35]\n",
        "]"
      ],
      "execution_count": null,
      "outputs": []
    },
    {
      "cell_type": "code",
      "metadata": {
        "id": "i_aU30a96Psx",
        "colab": {
          "base_uri": "https://localhost:8080/"
        },
        "outputId": "fffadb96-2564-4bf2-f9f8-e47689cfcf12"
      },
      "source": [
        "# в прошлый раз было вот такое решение\n",
        "result = 0\n",
        "index = 0\n",
        "for row in data:\n",
        "    result += row[index]\n",
        "    index += 1\n",
        "print(result)"
      ],
      "execution_count": null,
      "outputs": [
        {
          "output_type": "stream",
          "name": "stdout",
          "text": [
            "103\n"
          ]
        }
      ]
    },
    {
      "cell_type": "code",
      "metadata": {
        "id": "CP_Vi8dv6Pva",
        "colab": {
          "base_uri": "https://localhost:8080/",
          "height": 134
        },
        "outputId": "4a042b12-1b3a-49c1-89c7-82c537cc062a"
      },
      "source": [
        "result += [row[index] for row in data index + 1]"
      ],
      "execution_count": null,
      "outputs": [
        {
          "output_type": "error",
          "ename": "SyntaxError",
          "evalue": "ignored",
          "traceback": [
            "\u001b[0;36m  File \u001b[0;32m\"<ipython-input-30-86a11990b5d2>\"\u001b[0;36m, line \u001b[0;32m1\u001b[0m\n\u001b[0;31m    result += [row[index] for row in data index + 1]\u001b[0m\n\u001b[0m                                              ^\u001b[0m\n\u001b[0;31mSyntaxError\u001b[0m\u001b[0;31m:\u001b[0m invalid syntax\n"
          ]
        }
      ]
    },
    {
      "cell_type": "code",
      "metadata": {
        "id": "dA__Qta66Px_",
        "colab": {
          "base_uri": "https://localhost:8080/"
        },
        "outputId": "2b9b331c-ae5d-4d26-8c31-307a4e066313"
      },
      "source": [
        "sum([row[i] for i, row in enumerate(data)])"
      ],
      "execution_count": null,
      "outputs": [
        {
          "output_type": "execute_result",
          "data": {
            "text/plain": [
              "103"
            ]
          },
          "metadata": {},
          "execution_count": 31
        }
      ]
    },
    {
      "cell_type": "code",
      "source": [
        "res = []\n",
        "for i, row in enumerate(data):\n",
        "    res.append(row[i])\n",
        "print(sum(res))"
      ],
      "metadata": {
        "colab": {
          "base_uri": "https://localhost:8080/"
        },
        "id": "nRzYgES-Qxqw",
        "outputId": "f33ca10b-d99b-4c5e-8364-57c7451d4c23"
      },
      "execution_count": null,
      "outputs": [
        {
          "output_type": "stream",
          "name": "stdout",
          "text": [
            "[13, 32, 23, 35]\n"
          ]
        }
      ]
    },
    {
      "cell_type": "code",
      "source": [
        "list(enumerate(data))"
      ],
      "metadata": {
        "colab": {
          "base_uri": "https://localhost:8080/"
        },
        "id": "0PUT7xiPQOGB",
        "outputId": "7a3d92fd-0b54-4a98-d420-49f93c34647c"
      },
      "execution_count": null,
      "outputs": [
        {
          "output_type": "execute_result",
          "data": {
            "text/plain": [
              "[(0, [13, 25, 23, 34]),\n",
              " (1, [45, 32, 44, 47]),\n",
              " (2, [12, 33, 23, 95]),\n",
              " (3, [13, 53, 34, 35])]"
            ]
          },
          "metadata": {},
          "execution_count": 32
        }
      ]
    },
    {
      "cell_type": "markdown",
      "metadata": {
        "id": "N48ikJJQApD2"
      },
      "source": [
        "**Практика**. Выведем информацию о странах и столициах в виде:  \n",
        " `The capital of ... is ...`"
      ]
    },
    {
      "cell_type": "code",
      "metadata": {
        "id": "vCv-tCPrA2Gp"
      },
      "source": [
        "europe = {'spain': {'capital':'madrid'},\n",
        "           'france': {'capital':'paris'},\n",
        "           'germany': {'capital':'berlin'},\n",
        "           'norway': {'capital':'oslo'}}"
      ],
      "execution_count": null,
      "outputs": []
    },
    {
      "cell_type": "code",
      "metadata": {
        "id": "wWWxuvvLA7df",
        "colab": {
          "base_uri": "https://localhost:8080/"
        },
        "outputId": "209977be-4cc5-4add-cc2e-a475afbb7ccc"
      },
      "source": [
        "for c, k in europe.items():\n",
        "    print(f'The capital of {c.title()} is {k[\"capital\"].title()}')"
      ],
      "execution_count": null,
      "outputs": [
        {
          "output_type": "stream",
          "name": "stdout",
          "text": [
            "The capital of Spain is Madrid\n",
            "The capital of France is Paris\n",
            "The capital of Germany is Berlin\n",
            "The capital of Norway is Oslo\n"
          ]
        }
      ]
    },
    {
      "cell_type": "markdown",
      "metadata": {
        "id": "M_J5Soup_9eI"
      },
      "source": [
        "Посчитаем средний возраст в коллективе"
      ]
    },
    {
      "cell_type": "code",
      "metadata": {
        "id": "1p9kq0qx__sL"
      },
      "source": [
        "people = {1: {'name': 'Oleg', 'age': '29', 'sex': 'Male'},\n",
        "          2: {'name': 'Kate', 'age': '21', 'sex': 'Female'},\n",
        "          3: {'name': 'Liza', 'age': '24', 'sex': 'Female'},\n",
        "          4: {'name': 'Pavel', 'age': '36', 'sex': 'Male'}}"
      ],
      "execution_count": null,
      "outputs": []
    },
    {
      "cell_type": "code",
      "metadata": {
        "id": "3X86dn5OACtD",
        "colab": {
          "base_uri": "https://localhost:8080/"
        },
        "outputId": "820a80e8-4467-47d6-ef04-ef3e2729c0ea"
      },
      "source": [
        "age = 0\n",
        "for person in people.values():\n",
        "    age += int(person['age'])\n",
        "print(age / len(people))"
      ],
      "execution_count": null,
      "outputs": [
        {
          "output_type": "stream",
          "name": "stdout",
          "text": [
            "27.5\n"
          ]
        }
      ]
    },
    {
      "cell_type": "markdown",
      "metadata": {
        "id": "7aA2_CcMAD6x"
      },
      "source": [
        "**Практика**. Посчитаем средний возраст без цикла"
      ]
    },
    {
      "cell_type": "markdown",
      "source": [
        ""
      ],
      "metadata": {
        "id": "x9VY_Ls4TQfc"
      }
    },
    {
      "cell_type": "code",
      "metadata": {
        "id": "ovLtJHjxAFR9",
        "colab": {
          "base_uri": "https://localhost:8080/"
        },
        "outputId": "f7649a50-c55c-464f-c2e3-5f53cf5576cb"
      },
      "source": [
        "sum([int(person['age']) for person in people.values()]) / len(people)"
      ],
      "execution_count": null,
      "outputs": [
        {
          "output_type": "execute_result",
          "data": {
            "text/plain": [
              "27.5"
            ]
          },
          "metadata": {},
          "execution_count": 39
        }
      ]
    },
    {
      "cell_type": "code",
      "source": [
        "# ''.join([person['age'] for person in people.values()])"
      ],
      "metadata": {
        "colab": {
          "base_uri": "https://localhost:8080/",
          "height": 36
        },
        "id": "HjsYo1CWTotO",
        "outputId": "5c9cc20e-400a-4547-ee9c-23948746b6ad"
      },
      "execution_count": null,
      "outputs": [
        {
          "output_type": "execute_result",
          "data": {
            "application/vnd.google.colaboratory.intrinsic+json": {
              "type": "string"
            },
            "text/plain": [
              "'29212436'"
            ]
          },
          "metadata": {},
          "execution_count": 43
        }
      ]
    },
    {
      "cell_type": "markdown",
      "metadata": {
        "id": "Ggm1L159-KAn"
      },
      "source": [
        "Удалим из словаря все пустые элементы (со значением None)"
      ]
    },
    {
      "cell_type": "code",
      "metadata": {
        "id": "hU7NKnDK6P0h"
      },
      "source": [
        "my_dict = {\n",
        "    'id1': 123456, \n",
        "    'id2': 654321, \n",
        "    'id3': None,\n",
        "    'id4': 777777\n",
        "}"
      ],
      "execution_count": null,
      "outputs": []
    },
    {
      "cell_type": "code",
      "metadata": {
        "id": "YOq1vYnJ6P3c",
        "colab": {
          "base_uri": "https://localhost:8080/"
        },
        "outputId": "98a9e1f7-6d30-46dc-b92b-1a5da9e6bc90"
      },
      "source": [
        "res = {}\n",
        "\n",
        "for key, value in my_dict.items():\n",
        "    if value is not None:\n",
        "        res[key] = value\n",
        "print(res)"
      ],
      "execution_count": null,
      "outputs": [
        {
          "output_type": "stream",
          "name": "stdout",
          "text": [
            "{'id1': 123456, 'id2': 654321, 'id4': 777777}\n"
          ]
        }
      ]
    },
    {
      "cell_type": "code",
      "source": [
        "res = {}\n",
        "\n",
        "for key, value in my_dict.items():\n",
        "    if value:\n",
        "        res[key] = value\n",
        "print(res)"
      ],
      "metadata": {
        "colab": {
          "base_uri": "https://localhost:8080/"
        },
        "id": "7v62jmp1UlP6",
        "outputId": "899167a5-b88a-4e68-b132-ba595d675ac5"
      },
      "execution_count": null,
      "outputs": [
        {
          "output_type": "stream",
          "name": "stdout",
          "text": [
            "{'id1': 123456, 'id2': 654321, 'id4': 777777}\n"
          ]
        }
      ]
    },
    {
      "cell_type": "markdown",
      "metadata": {
        "id": "QSpBh3Z_-UcU"
      },
      "source": [
        "**Практика**. Сформируем такой же словарь без явного цикла"
      ]
    },
    {
      "cell_type": "code",
      "metadata": {
        "id": "Lv5s_iWK6P53",
        "colab": {
          "base_uri": "https://localhost:8080/"
        },
        "outputId": "f943d69f-a4af-4362-fb73-3079d1a1c9d9"
      },
      "source": [
        "{key:value for key, value in my_dict.items() if value}"
      ],
      "execution_count": null,
      "outputs": [
        {
          "output_type": "execute_result",
          "data": {
            "text/plain": [
              "{'id1': 123456, 'id2': 654321, 'id4': 777777}"
            ]
          },
          "metadata": {},
          "execution_count": 47
        }
      ]
    },
    {
      "cell_type": "code",
      "metadata": {
        "id": "shq6fHSp6OFC"
      },
      "source": [
        ""
      ],
      "execution_count": null,
      "outputs": []
    },
    {
      "cell_type": "markdown",
      "metadata": {
        "id": "_4kcD1mOCEF9"
      },
      "source": [
        "Посчитаем сколько раз каждое слово встречалось в тексте и выведем информацию в виде:  \n",
        "`\"слово\": \"количество вхождений\" `\n"
      ]
    },
    {
      "cell_type": "code",
      "metadata": {
        "id": "jA_Vq1zMCFbs",
        "colab": {
          "base_uri": "https://localhost:8080/"
        },
        "outputId": "e4be3a2e-c2c2-4147-9d19-44463af3736c"
      },
      "source": [
        "some_oxy_text = '''\n",
        "Весь мой рэп, если коротко, про то, что\n",
        "Уж который год который город под подошвой\n",
        "В гору, когда прет. Потом под гору, когда тошно\n",
        "Я не то, что Гулливер, но все же город под подошвой\n",
        "Город под подошвой, город под подошвой\n",
        "Светофоры, госпошлины, сборы и таможни\n",
        "Я не знаю, вброд или на дно эта дорожка\n",
        "Ты живешь под каблуком, у меня - город под подошвой\n",
        "'''\n",
        "print(some_oxy_text)"
      ],
      "execution_count": null,
      "outputs": [
        {
          "output_type": "stream",
          "name": "stdout",
          "text": [
            "\n",
            "Весь мой рэп, если коротко, про то, что\n",
            "Уж который год который город под подошвой\n",
            "В гору, когда прет. Потом под гору, \"\"\" когда тошно\n",
            "Я не то, что Гулливер, но все же город под подошвой\n",
            "Город под подошвой, город под ''подошвой\n",
            "Светофоры, госпошлины, сборы и \"\"таможни\n",
            "Я не знаю, вброд или на дно эта дорожка\n",
            "Ты живешь под каблуком, у меня - город под подошвой\n",
            "\n"
          ]
        }
      ]
    },
    {
      "cell_type": "code",
      "metadata": {
        "id": "bpqff5vvCTOV",
        "colab": {
          "base_uri": "https://localhost:8080/"
        },
        "outputId": "a7c24163-498c-4e5d-db0b-4fcbf8fa1dd0"
      },
      "source": [
        "res = {}\n",
        "some_splitted_oxy_text = some_oxy_text.lower().replace(',', '').replace('.', '').replace('-', '').replace('\\n', ' ').split()\n",
        "for word in some_splitted_oxy_text:\n",
        "    if word not in res:\n",
        "        res[word] = 1\n",
        "    else:\n",
        "        res[word] += 1     \n",
        "for word, count_ in res.items():\n",
        "    print(f'{word}: {count_}')"
      ],
      "execution_count": null,
      "outputs": [
        {
          "output_type": "stream",
          "name": "stdout",
          "text": [
            "весь: 1\n",
            "мой: 1\n",
            "рэп: 1\n",
            "если: 1\n",
            "коротко: 1\n",
            "про: 1\n",
            "то: 2\n",
            "что: 2\n",
            "уж: 1\n",
            "который: 2\n",
            "год: 1\n",
            "город: 5\n",
            "под: 7\n",
            "подошвой: 5\n",
            "в: 1\n",
            "гору: 2\n",
            "когда: 2\n",
            "прет: 1\n",
            "потом: 1\n",
            "тошно: 1\n",
            "я: 2\n",
            "не: 2\n",
            "гулливер: 1\n",
            "но: 1\n",
            "все: 1\n",
            "же: 1\n",
            "светофоры: 1\n",
            "госпошлины: 1\n",
            "сборы: 1\n",
            "и: 1\n",
            "таможни: 1\n",
            "знаю: 1\n",
            "вброд: 1\n",
            "или: 1\n",
            "на: 1\n",
            "дно: 1\n",
            "эта: 1\n",
            "дорожка: 1\n",
            "ты: 1\n",
            "живешь: 1\n",
            "каблуком: 1\n",
            "у: 1\n",
            "меня: 1\n"
          ]
        }
      ]
    },
    {
      "cell_type": "markdown",
      "metadata": {
        "id": "wqRLJ6u8CUWy"
      },
      "source": [
        "**Практика**. Выведем информацию о встречаемости слов без второго цикла при помощи множества"
      ]
    },
    {
      "cell_type": "code",
      "metadata": {
        "id": "2GI3_onVCy21",
        "colab": {
          "base_uri": "https://localhost:8080/"
        },
        "outputId": "b03180e8-cf8e-43a7-f352-79b4819ff5ad"
      },
      "source": [
        "some_splitted_oxy_text = some_oxy_text.lower().replace(',', '').replace('.', '').replace('-', '').replace('\\n', ' ').split()\n",
        "for word in set(some_splitted_oxy_text):\n",
        "    print(f'{word}: {some_splitted_oxy_text.count(word)}')"
      ],
      "execution_count": null,
      "outputs": [
        {
          "output_type": "stream",
          "name": "stdout",
          "text": [
            "то: 2\n",
            "в: 1\n",
            "но: 1\n",
            "не: 2\n",
            "подошвой: 5\n",
            "гулливер: 1\n",
            "прет: 1\n",
            "коротко: 1\n",
            "меня: 1\n",
            "про: 1\n",
            "что: 2\n",
            "который: 2\n",
            "или: 1\n",
            "ты: 1\n",
            "тошно: 1\n",
            "город: 5\n",
            "потом: 1\n",
            "вброд: 1\n",
            "светофоры: 1\n",
            "на: 1\n",
            "живешь: 1\n",
            "эта: 1\n",
            "год: 1\n",
            "весь: 1\n",
            "когда: 2\n",
            "рэп: 1\n",
            "мой: 1\n",
            "же: 1\n",
            "сборы: 1\n",
            "знаю: 1\n",
            "если: 1\n",
            "у: 1\n",
            "я: 2\n",
            "дорожка: 1\n",
            "уж: 1\n",
            "гору: 2\n",
            "каблуком: 1\n",
            "под: 7\n",
            "госпошлины: 1\n",
            "таможни: 1\n",
            "и: 1\n",
            "дно: 1\n",
            "все: 1\n"
          ]
        }
      ]
    },
    {
      "cell_type": "code",
      "source": [
        "?list.count"
      ],
      "metadata": {
        "id": "ChofOsO8YQYT"
      },
      "execution_count": null,
      "outputs": []
    },
    {
      "cell_type": "markdown",
      "metadata": {
        "id": "LO0RZ_2sOuNH"
      },
      "source": [
        "Посчитаем количество лайков и репостов у постов в ленте ВК"
      ]
    },
    {
      "cell_type": "code",
      "metadata": {
        "id": "9RyoxNO3LU0j"
      },
      "source": [
        "import requests\n",
        "import time\n",
        "params = {\n",
        "    'access_token': '958eb5d439726565e9333aa30e50e0f937ee432e927f0dbd541c541887d919a7c56f95c04217915c32008',\n",
        "    'v':'5.131',\n",
        "    'q': 'Нетология',\n",
        "    'start_from': '',\n",
        "    'count': 200,\n",
        "    'extended': 1\n",
        "}   \n",
        "res = []\n",
        "while True:\n",
        "\n",
        "    result = requests.get('https://api.vk.com/method/newsfeed.search', params)\n",
        "    time.sleep(0.33)\n",
        "    res += result.json()['response']['items']\n",
        "    if 'next_from' in result.json()['response'].keys():\n",
        "        params['start_from'] = result.json()['response']['next_from']\n",
        "    else:\n",
        "        break\n"
      ],
      "execution_count": null,
      "outputs": []
    },
    {
      "cell_type": "code",
      "metadata": {
        "id": "tV20crjSNBav",
        "colab": {
          "base_uri": "https://localhost:8080/"
        },
        "outputId": "be91979c-7787-416f-9819-cf771eb600a0"
      },
      "source": [
        "print(type(res))\n",
        "print(len(res))"
      ],
      "execution_count": null,
      "outputs": [
        {
          "output_type": "stream",
          "name": "stdout",
          "text": [
            "<class 'list'>\n",
            "902\n"
          ]
        }
      ]
    },
    {
      "cell_type": "code",
      "metadata": {
        "id": "f5Ty6GTqOawt",
        "colab": {
          "base_uri": "https://localhost:8080/"
        },
        "outputId": "618076f1-6f77-4108-c508-a7557b9e27af"
      },
      "source": [
        "print(res[0])"
      ],
      "execution_count": null,
      "outputs": [
        {
          "output_type": "stream",
          "name": "stdout",
          "text": [
            "{'id': 1172, 'date': 1643651259, 'owner_id': -147912930, 'from_id': -147912930, 'post_type': 'post', 'text': '3 февраля новый мастермайнд MarHR🎉 Поговорим про бренд работодателя. \\n \\nМодерировать встречу будет методолог, коуч, профессиональный модератор мастермайндов Екатерина Носкова. \\n \\nЭффективность сессий во многом зависит от навыков ведущего и соблюдения методологии. На мастермайндах MarHR можно не волноваться за квалификацию модератора. \\n \\nВот далеко не весь список причин, из-за которых мы доверяем Екатерине: \\n \\n— прошла обучение в «Американской Академии Коучинга» по созданию и проведению развивающих тренингов в коучинговом формате; \\n \\n— прошла обучение в «Академии стратегического коучинга» по созданию и проведению бизнес-тренингов в коучинговом формате; \\n \\n— прошла обучение в «Нетологии» по направлению «методист онлайн-образования» и «куратор». \\n \\n🔹 Екатерина ждёт вас на мастермайнде «Бренд работодателя» 3 февраля в 18.00. \\n \\n🔸Стоимость участия в мастермайнде — 1 500 рублей. Для участников MarHR Club — бесплатно. Для выпускников курса HR SMM — скидка 50%. \\n \\nПодробнее про мастермайнд и регистрация по ссылке — https://bit.ly/3Ghd4t9', 'marked_as_ads': 0, 'attachments': [{'type': 'photo', 'photo': {'album_id': -7, 'date': 1643651259, 'id': 457240247, 'owner_id': -147912930, 'access_key': '6218deb98f6682935b', 'post_id': 1172, 'sizes': [{'height': 75, 'url': 'https://sun9-33.userapi.com/impg/-v8IbJhUoehDc6u4tBtr-r7LMo2Bt9yeLfXjdg/5N86gL91O_g.jpg?size=75x75&quality=95&sign=6f8b19344cae6506e007fec8239b8f0b&c_uniq_tag=bA_d4szQGlv4znjKaoAXQeo5fovdORR8bKb7z9jlJ-g&type=album', 'type': 's', 'width': 75}, {'height': 130, 'url': 'https://sun9-33.userapi.com/impg/-v8IbJhUoehDc6u4tBtr-r7LMo2Bt9yeLfXjdg/5N86gL91O_g.jpg?size=130x130&quality=95&sign=fe64f96cbc68002d4ab9ea0d2b8c51f3&c_uniq_tag=xl88-rfuLoop80Lg4gxK1nFmFh0LJ1Pfl_hACXaHwpc&type=album', 'type': 'm', 'width': 130}, {'height': 604, 'url': 'https://sun9-33.userapi.com/impg/-v8IbJhUoehDc6u4tBtr-r7LMo2Bt9yeLfXjdg/5N86gL91O_g.jpg?size=604x604&quality=95&sign=7ae92f9c701f719631f9b86fc49d70d1&c_uniq_tag=STuGHayHDDSqnn-_cR7A3VdR7_VUQ4a-BMR2XVTvUJE&type=album', 'type': 'x', 'width': 604}, {'height': 807, 'url': 'https://sun9-33.userapi.com/impg/-v8IbJhUoehDc6u4tBtr-r7LMo2Bt9yeLfXjdg/5N86gL91O_g.jpg?size=807x807&quality=95&sign=2a34f001a528264e6913b3de3e07a78b&c_uniq_tag=ZMZ7WgwZIvvZC_Pq7PIxKaB4kaYxcXhShAFdPxIFVI4&type=album', 'type': 'y', 'width': 807}, {'height': 1080, 'url': 'https://sun9-33.userapi.com/impg/-v8IbJhUoehDc6u4tBtr-r7LMo2Bt9yeLfXjdg/5N86gL91O_g.jpg?size=1080x1080&quality=95&sign=003359e24f3fe49526fad367e693ec72&c_uniq_tag=t_RjDeCM3p5DW1jZLL42W5-_nFpscophVo7nqmGWY4M&type=album', 'type': 'z', 'width': 1080}, {'height': 130, 'url': 'https://sun9-33.userapi.com/impg/-v8IbJhUoehDc6u4tBtr-r7LMo2Bt9yeLfXjdg/5N86gL91O_g.jpg?size=130x130&quality=95&sign=fe64f96cbc68002d4ab9ea0d2b8c51f3&c_uniq_tag=xl88-rfuLoop80Lg4gxK1nFmFh0LJ1Pfl_hACXaHwpc&type=album', 'type': 'o', 'width': 130}, {'height': 200, 'url': 'https://sun9-33.userapi.com/impg/-v8IbJhUoehDc6u4tBtr-r7LMo2Bt9yeLfXjdg/5N86gL91O_g.jpg?size=200x200&quality=95&sign=682ffdeba0b15aa9ba229c19a98c181b&c_uniq_tag=Snas9rrjpGYo1uBeVQTOm2Uxl31UqXRjvqvpZYiFNw8&type=album', 'type': 'p', 'width': 200}, {'height': 320, 'url': 'https://sun9-33.userapi.com/impg/-v8IbJhUoehDc6u4tBtr-r7LMo2Bt9yeLfXjdg/5N86gL91O_g.jpg?size=320x320&quality=95&sign=8b3030577d472da77358fff07abff648&c_uniq_tag=TEKr0q_r_Cwt0cdKFG2bNzPtRkJglK5eF4TNC1GdotU&type=album', 'type': 'q', 'width': 320}, {'height': 510, 'url': 'https://sun9-33.userapi.com/impg/-v8IbJhUoehDc6u4tBtr-r7LMo2Bt9yeLfXjdg/5N86gL91O_g.jpg?size=510x510&quality=95&sign=a886d35b9a838b2694985007f584bd11&c_uniq_tag=NALIS41P_ac-tCirF7tZVe-7wAbtcHD4rxSZkJO5tBM&type=album', 'type': 'r', 'width': 510}], 'text': '', 'user_id': 100, 'has_tags': False}}], 'post_source': {'type': 'vk'}, 'comments': {'can_post': 1, 'count': 0, 'groups_can_post': True}, 'likes': {'can_like': 1, 'count': 0, 'user_likes': 0, 'can_publish': 1}, 'reposts': {'count': 0, 'user_reposted': 0}, 'views': {'count': 5}, 'is_favorite': False, 'donut': {'is_donut': False}, 'short_text_rate': 0.8}\n"
          ]
        }
      ]
    },
    {
      "cell_type": "code",
      "metadata": {
        "id": "DEmdHfw8Ok1g",
        "colab": {
          "base_uri": "https://localhost:8080/"
        },
        "outputId": "d4ff2fe5-c835-454f-91cb-f7aef1b45eb6"
      },
      "source": [
        "# функция pprint позволяет более структурированно выводить сложные структуры\n",
        "from pprint import pprint\n",
        "pprint(res[0])"
      ],
      "execution_count": null,
      "outputs": [
        {
          "output_type": "stream",
          "name": "stdout",
          "text": [
            "{'attachments': [{'photo': {'access_key': '6218deb98f6682935b',\n",
            "                            'album_id': -7,\n",
            "                            'date': 1643651259,\n",
            "                            'has_tags': False,\n",
            "                            'id': 457240247,\n",
            "                            'owner_id': -147912930,\n",
            "                            'post_id': 1172,\n",
            "                            'sizes': [{'height': 75,\n",
            "                                       'type': 's',\n",
            "                                       'url': 'https://sun9-33.userapi.com/impg/-v8IbJhUoehDc6u4tBtr-r7LMo2Bt9yeLfXjdg/5N86gL91O_g.jpg?size=75x75&quality=95&sign=6f8b19344cae6506e007fec8239b8f0b&c_uniq_tag=bA_d4szQGlv4znjKaoAXQeo5fovdORR8bKb7z9jlJ-g&type=album',\n",
            "                                       'width': 75},\n",
            "                                      {'height': 130,\n",
            "                                       'type': 'm',\n",
            "                                       'url': 'https://sun9-33.userapi.com/impg/-v8IbJhUoehDc6u4tBtr-r7LMo2Bt9yeLfXjdg/5N86gL91O_g.jpg?size=130x130&quality=95&sign=fe64f96cbc68002d4ab9ea0d2b8c51f3&c_uniq_tag=xl88-rfuLoop80Lg4gxK1nFmFh0LJ1Pfl_hACXaHwpc&type=album',\n",
            "                                       'width': 130},\n",
            "                                      {'height': 604,\n",
            "                                       'type': 'x',\n",
            "                                       'url': 'https://sun9-33.userapi.com/impg/-v8IbJhUoehDc6u4tBtr-r7LMo2Bt9yeLfXjdg/5N86gL91O_g.jpg?size=604x604&quality=95&sign=7ae92f9c701f719631f9b86fc49d70d1&c_uniq_tag=STuGHayHDDSqnn-_cR7A3VdR7_VUQ4a-BMR2XVTvUJE&type=album',\n",
            "                                       'width': 604},\n",
            "                                      {'height': 807,\n",
            "                                       'type': 'y',\n",
            "                                       'url': 'https://sun9-33.userapi.com/impg/-v8IbJhUoehDc6u4tBtr-r7LMo2Bt9yeLfXjdg/5N86gL91O_g.jpg?size=807x807&quality=95&sign=2a34f001a528264e6913b3de3e07a78b&c_uniq_tag=ZMZ7WgwZIvvZC_Pq7PIxKaB4kaYxcXhShAFdPxIFVI4&type=album',\n",
            "                                       'width': 807},\n",
            "                                      {'height': 1080,\n",
            "                                       'type': 'z',\n",
            "                                       'url': 'https://sun9-33.userapi.com/impg/-v8IbJhUoehDc6u4tBtr-r7LMo2Bt9yeLfXjdg/5N86gL91O_g.jpg?size=1080x1080&quality=95&sign=003359e24f3fe49526fad367e693ec72&c_uniq_tag=t_RjDeCM3p5DW1jZLL42W5-_nFpscophVo7nqmGWY4M&type=album',\n",
            "                                       'width': 1080},\n",
            "                                      {'height': 130,\n",
            "                                       'type': 'o',\n",
            "                                       'url': 'https://sun9-33.userapi.com/impg/-v8IbJhUoehDc6u4tBtr-r7LMo2Bt9yeLfXjdg/5N86gL91O_g.jpg?size=130x130&quality=95&sign=fe64f96cbc68002d4ab9ea0d2b8c51f3&c_uniq_tag=xl88-rfuLoop80Lg4gxK1nFmFh0LJ1Pfl_hACXaHwpc&type=album',\n",
            "                                       'width': 130},\n",
            "                                      {'height': 200,\n",
            "                                       'type': 'p',\n",
            "                                       'url': 'https://sun9-33.userapi.com/impg/-v8IbJhUoehDc6u4tBtr-r7LMo2Bt9yeLfXjdg/5N86gL91O_g.jpg?size=200x200&quality=95&sign=682ffdeba0b15aa9ba229c19a98c181b&c_uniq_tag=Snas9rrjpGYo1uBeVQTOm2Uxl31UqXRjvqvpZYiFNw8&type=album',\n",
            "                                       'width': 200},\n",
            "                                      {'height': 320,\n",
            "                                       'type': 'q',\n",
            "                                       'url': 'https://sun9-33.userapi.com/impg/-v8IbJhUoehDc6u4tBtr-r7LMo2Bt9yeLfXjdg/5N86gL91O_g.jpg?size=320x320&quality=95&sign=8b3030577d472da77358fff07abff648&c_uniq_tag=TEKr0q_r_Cwt0cdKFG2bNzPtRkJglK5eF4TNC1GdotU&type=album',\n",
            "                                       'width': 320},\n",
            "                                      {'height': 510,\n",
            "                                       'type': 'r',\n",
            "                                       'url': 'https://sun9-33.userapi.com/impg/-v8IbJhUoehDc6u4tBtr-r7LMo2Bt9yeLfXjdg/5N86gL91O_g.jpg?size=510x510&quality=95&sign=a886d35b9a838b2694985007f584bd11&c_uniq_tag=NALIS41P_ac-tCirF7tZVe-7wAbtcHD4rxSZkJO5tBM&type=album',\n",
            "                                       'width': 510}],\n",
            "                            'text': '',\n",
            "                            'user_id': 100},\n",
            "                  'type': 'photo'}],\n",
            " 'comments': {'can_post': 1, 'count': 0, 'groups_can_post': True},\n",
            " 'date': 1643651259,\n",
            " 'donut': {'is_donut': False},\n",
            " 'from_id': -147912930,\n",
            " 'id': 1172,\n",
            " 'is_favorite': False,\n",
            " 'likes': {'can_like': 1, 'can_publish': 1, 'count': 0, 'user_likes': 0},\n",
            " 'marked_as_ads': 0,\n",
            " 'owner_id': -147912930,\n",
            " 'post_source': {'type': 'vk'},\n",
            " 'post_type': 'post',\n",
            " 'reposts': {'count': 0, 'user_reposted': 0},\n",
            " 'short_text_rate': 0.8,\n",
            " 'text': '3 февраля новый мастермайнд MarHR🎉 Поговорим про бренд '\n",
            "         'работодателя. \\n'\n",
            "         ' \\n'\n",
            "         'Модерировать встречу будет методолог, коуч, профессиональный '\n",
            "         'модератор мастермайндов Екатерина Носкова. \\n'\n",
            "         ' \\n'\n",
            "         'Эффективность сессий во многом зависит от навыков ведущего и '\n",
            "         'соблюдения методологии. На мастермайндах MarHR можно не волноваться '\n",
            "         'за квалификацию модератора. \\n'\n",
            "         ' \\n'\n",
            "         'Вот далеко не весь список причин, из-за которых мы доверяем '\n",
            "         'Екатерине: \\n'\n",
            "         ' \\n'\n",
            "         '— прошла обучение в «Американской Академии Коучинга» по созданию и '\n",
            "         'проведению развивающих тренингов в коучинговом формате; \\n'\n",
            "         ' \\n'\n",
            "         '— прошла обучение в «Академии стратегического коучинга» по созданию '\n",
            "         'и проведению бизнес-тренингов в коучинговом формате; \\n'\n",
            "         ' \\n'\n",
            "         '— прошла обучение в «Нетологии» по направлению «методист '\n",
            "         'онлайн-образования» и «куратор». \\n'\n",
            "         ' \\n'\n",
            "         '🔹 Екатерина ждёт вас на мастермайнде «Бренд работодателя» 3 февраля '\n",
            "         'в 18.00. \\n'\n",
            "         ' \\n'\n",
            "         '🔸Стоимость участия в мастермайнде — 1 500 рублей. Для участников '\n",
            "         'MarHR Club — бесплатно. Для выпускников курса HR SMM — скидка 50%. \\n'\n",
            "         ' \\n'\n",
            "         'Подробнее про мастермайнд и регистрация по ссылке — '\n",
            "         'https://bit.ly/3Ghd4t9',\n",
            " 'views': {'count': 5}}\n"
          ]
        }
      ]
    },
    {
      "cell_type": "code",
      "metadata": {
        "id": "iri8Z2C9N7Ek",
        "colab": {
          "base_uri": "https://localhost:8080/"
        },
        "outputId": "40f1007a-a828-4e64-c0d5-acfdb93a8fa7"
      },
      "source": [
        "likes_count = 0\n",
        "reposts_count = 0\n",
        "for post in res:\n",
        "    likes_count += post['likes']['count']\n",
        "    reposts_count += post['reposts']['count']\n",
        "\n",
        "print(likes_count)\n",
        "print(reposts_count)"
      ],
      "execution_count": null,
      "outputs": [
        {
          "output_type": "stream",
          "name": "stdout",
          "text": [
            "5001\n",
            "1747\n"
          ]
        }
      ]
    },
    {
      "cell_type": "markdown",
      "metadata": {
        "id": "D2RHLDZREpo4"
      },
      "source": [
        "Ваши вопросы"
      ]
    },
    {
      "cell_type": "code",
      "metadata": {
        "id": "idXHoa_6Eqml"
      },
      "source": [
        "stream = [\n",
        "    '2018-01-01,user1,3',\n",
        "    '2018-01-07,user1,4',\n",
        "    '2018-03-29,user1,1',\n",
        "    '2018-04-04,user1,13',\n",
        "    '2018-01-05,user2,7',\n",
        "    '2018-06-14,user3,4',\n",
        "    '2018-07-02,user3,10',\n",
        "    '2018-03-21,user4,19',\n",
        "    '2018-03-22,user4,4',\n",
        "    '2018-04-22,user4,8',\n",
        "    '2018-05-03,user4,9',\n",
        "    '2018-05-11,user4,11',\n",
        "]"
      ],
      "execution_count": null,
      "outputs": []
    },
    {
      "cell_type": "code",
      "source": [
        "sum_views = 0\n",
        "unique_users = []\n",
        "\n",
        "for el in stream:\n",
        "    splitted_el = el.split(',')\n",
        "    sum_views += int(splitted_el[2])\n",
        "    if splitted_el[1] not in unique_users:\n",
        "        unique_users.append(splitted_el[1])\n",
        "\n",
        "print(sum_views / len(unique_users))"
      ],
      "metadata": {
        "colab": {
          "base_uri": "https://localhost:8080/"
        },
        "id": "LRGpkcCzcjh4",
        "outputId": "0f9428d3-2f5e-4a88-882c-ecbfef81d125"
      },
      "execution_count": null,
      "outputs": [
        {
          "output_type": "stream",
          "name": "stdout",
          "text": [
            "23.25\n"
          ]
        }
      ]
    },
    {
      "cell_type": "code",
      "source": [
        "countries_temperature = [\n",
        "    ['Thailand', [75.2, 77, 78.8, 73.4, 68, 75.2, 77]],\n",
        "    ['Germany', [57.2, 55.4, 59, 59, 53.6]],\n",
        "    ['Russia', [35.6, 37.4, 39.2, 41, 42.8, 39.2, 35.6]],\n",
        "    ['Poland', [50, 50, 53.6, 57.2, 55.4, 55.4]]\n",
        "]"
      ],
      "metadata": {
        "id": "XKGVeftDeJJX"
      },
      "execution_count": null,
      "outputs": []
    },
    {
      "cell_type": "code",
      "source": [
        "for country, temp in countries_temperature:\n",
        "    print(f'{country} - {sum(temp)}')"
      ],
      "metadata": {
        "colab": {
          "base_uri": "https://localhost:8080/"
        },
        "id": "BJgEw7sDeK1-",
        "outputId": "de160c06-f642-46d5-8538-1ac84fbd0db4"
      },
      "execution_count": null,
      "outputs": [
        {
          "output_type": "stream",
          "name": "stdout",
          "text": [
            "Thailand - 524.5999999999999\n",
            "Germany - 284.2\n",
            "Russia - 270.8\n",
            "Poland - 321.59999999999997\n"
          ]
        }
      ]
    },
    {
      "cell_type": "code",
      "source": [
        "a = 5\n",
        "b = 3\n",
        "\n"
      ],
      "metadata": {
        "id": "6aDT50K0ezBh"
      },
      "execution_count": null,
      "outputs": []
    }
  ]
}