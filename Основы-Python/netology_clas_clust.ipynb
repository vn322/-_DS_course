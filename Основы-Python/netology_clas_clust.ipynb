{
  "nbformat": 4,
  "nbformat_minor": 0,
  "metadata": {
    "colab": {
      "name": "netology_clas_clust.ipynb",
      "provenance": [],
      "collapsed_sections": []
    },
    "kernelspec": {
      "display_name": "Python 3",
      "language": "python",
      "name": "python3"
    },
    "language_info": {
      "codemirror_mode": {
        "name": "ipython",
        "version": 3
      },
      "file_extension": ".py",
      "mimetype": "text/x-python",
      "name": "python",
      "nbconvert_exporter": "python",
      "pygments_lexer": "ipython3",
      "version": "3.8.3"
    }
  },
  "cells": [
    {
      "cell_type": "markdown",
      "metadata": {
        "id": "nXOA4pGqoi7p"
      },
      "source": [
        "# Задачи классификации и кластеризации\n",
        "\n",
        "Булыгин Олег:  \n",
        "* [LinkedIn](linkedin.com/in/obulygin)  \n",
        "* [Мой канал в ТГ по Python](https://t.me/solidtalk)"
      ]
    },
    {
      "cell_type": "code",
      "metadata": {
        "id": "-ppToJrUWoJ0"
      },
      "source": [
        "from sklearn.datasets import load_wine\n",
        "import pandas as pd\n",
        "import numpy as np\n",
        "import matplotlib.pyplot as plt\n",
        "from matplotlib import colors"
      ],
      "execution_count": null,
      "outputs": []
    },
    {
      "cell_type": "code",
      "metadata": {
        "id": "ik4WLSx51KZY"
      },
      "source": [
        "cmap = colors.LinearSegmentedColormap(\n",
        "    'red_blue_classes',\n",
        "    {'red': [(0, 1, 1), (1, 0.7, 0.7)],\n",
        "     'green': [(0, 0.7, 0.7), (1, 0.7, 0.7)],\n",
        "     'blue': [(0, 0.7, 0.7), (1, 1, 1)]})\n",
        "plt.cm.register_cmap(cmap=cmap)"
      ],
      "execution_count": null,
      "outputs": []
    },
    {
      "cell_type": "code",
      "metadata": {
        "id": "cmLC9M6oW2v8"
      },
      "source": [
        "wine = load_wine()"
      ],
      "execution_count": null,
      "outputs": []
    },
    {
      "cell_type": "code",
      "metadata": {
        "id": "7eptbMYNvq0S",
        "colab": {
          "base_uri": "https://localhost:8080/"
        },
        "outputId": "cf21c7d2-d21c-4063-f761-1e7a33574ea8"
      },
      "source": [
        "print(wine.DESCR)"
      ],
      "execution_count": null,
      "outputs": [
        {
          "output_type": "stream",
          "name": "stdout",
          "text": [
            ".. _wine_dataset:\n",
            "\n",
            "Wine recognition dataset\n",
            "------------------------\n",
            "\n",
            "**Data Set Characteristics:**\n",
            "\n",
            "    :Number of Instances: 178 (50 in each of three classes)\n",
            "    :Number of Attributes: 13 numeric, predictive attributes and the class\n",
            "    :Attribute Information:\n",
            " \t\t- Alcohol\n",
            " \t\t- Malic acid\n",
            " \t\t- Ash\n",
            "\t\t- Alcalinity of ash  \n",
            " \t\t- Magnesium\n",
            "\t\t- Total phenols\n",
            " \t\t- Flavanoids\n",
            " \t\t- Nonflavanoid phenols\n",
            " \t\t- Proanthocyanins\n",
            "\t\t- Color intensity\n",
            " \t\t- Hue\n",
            " \t\t- OD280/OD315 of diluted wines\n",
            " \t\t- Proline\n",
            "\n",
            "    - class:\n",
            "            - class_0\n",
            "            - class_1\n",
            "            - class_2\n",
            "\t\t\n",
            "    :Summary Statistics:\n",
            "    \n",
            "    ============================= ==== ===== ======= =====\n",
            "                                   Min   Max   Mean     SD\n",
            "    ============================= ==== ===== ======= =====\n",
            "    Alcohol:                      11.0  14.8    13.0   0.8\n",
            "    Malic Acid:                   0.74  5.80    2.34  1.12\n",
            "    Ash:                          1.36  3.23    2.36  0.27\n",
            "    Alcalinity of Ash:            10.6  30.0    19.5   3.3\n",
            "    Magnesium:                    70.0 162.0    99.7  14.3\n",
            "    Total Phenols:                0.98  3.88    2.29  0.63\n",
            "    Flavanoids:                   0.34  5.08    2.03  1.00\n",
            "    Nonflavanoid Phenols:         0.13  0.66    0.36  0.12\n",
            "    Proanthocyanins:              0.41  3.58    1.59  0.57\n",
            "    Colour Intensity:              1.3  13.0     5.1   2.3\n",
            "    Hue:                          0.48  1.71    0.96  0.23\n",
            "    OD280/OD315 of diluted wines: 1.27  4.00    2.61  0.71\n",
            "    Proline:                       278  1680     746   315\n",
            "    ============================= ==== ===== ======= =====\n",
            "\n",
            "    :Missing Attribute Values: None\n",
            "    :Class Distribution: class_0 (59), class_1 (71), class_2 (48)\n",
            "    :Creator: R.A. Fisher\n",
            "    :Donor: Michael Marshall (MARSHALL%PLU@io.arc.nasa.gov)\n",
            "    :Date: July, 1988\n",
            "\n",
            "This is a copy of UCI ML Wine recognition datasets.\n",
            "https://archive.ics.uci.edu/ml/machine-learning-databases/wine/wine.data\n",
            "\n",
            "The data is the results of a chemical analysis of wines grown in the same\n",
            "region in Italy by three different cultivators. There are thirteen different\n",
            "measurements taken for different constituents found in the three types of\n",
            "wine.\n",
            "\n",
            "Original Owners: \n",
            "\n",
            "Forina, M. et al, PARVUS - \n",
            "An Extendible Package for Data Exploration, Classification and Correlation. \n",
            "Institute of Pharmaceutical and Food Analysis and Technologies,\n",
            "Via Brigata Salerno, 16147 Genoa, Italy.\n",
            "\n",
            "Citation:\n",
            "\n",
            "Lichman, M. (2013). UCI Machine Learning Repository\n",
            "[https://archive.ics.uci.edu/ml]. Irvine, CA: University of California,\n",
            "School of Information and Computer Science. \n",
            "\n",
            ".. topic:: References\n",
            "\n",
            "  (1) S. Aeberhard, D. Coomans and O. de Vel, \n",
            "  Comparison of Classifiers in High Dimensional Settings, \n",
            "  Tech. Rep. no. 92-02, (1992), Dept. of Computer Science and Dept. of  \n",
            "  Mathematics and Statistics, James Cook University of North Queensland. \n",
            "  (Also submitted to Technometrics). \n",
            "\n",
            "  The data was used with many others for comparing various \n",
            "  classifiers. The classes are separable, though only RDA \n",
            "  has achieved 100% correct classification. \n",
            "  (RDA : 100%, QDA 99.4%, LDA 98.9%, 1NN 96.1% (z-transformed data)) \n",
            "  (All results using the leave-one-out technique) \n",
            "\n",
            "  (2) S. Aeberhard, D. Coomans and O. de Vel, \n",
            "  \"THE CLASSIFICATION PERFORMANCE OF RDA\" \n",
            "  Tech. Rep. no. 92-01, (1992), Dept. of Computer Science and Dept. of \n",
            "  Mathematics and Statistics, James Cook University of North Queensland. \n",
            "  (Also submitted to Journal of Chemometrics).\n",
            "\n"
          ]
        }
      ]
    },
    {
      "cell_type": "code",
      "metadata": {
        "id": "7rO21IhnvyIo"
      },
      "source": [
        "# загружаем данные в датафрейм\n",
        "data = pd.DataFrame(wine.data, columns=wine.feature_names)\n",
        "data_class = wine.target"
      ],
      "execution_count": null,
      "outputs": []
    },
    {
      "cell_type": "code",
      "metadata": {
        "id": "M92y_fa2wBjn",
        "colab": {
          "base_uri": "https://localhost:8080/",
          "height": 487
        },
        "outputId": "b91803a0-6198-4279-8587-415f2e0fda0a"
      },
      "source": [
        "data"
      ],
      "execution_count": null,
      "outputs": [
        {
          "output_type": "execute_result",
          "data": {
            "text/plain": [
              "     alcohol  malic_acid   ash  alcalinity_of_ash  magnesium  total_phenols  \\\n",
              "0      14.23        1.71  2.43               15.6      127.0           2.80   \n",
              "1      13.20        1.78  2.14               11.2      100.0           2.65   \n",
              "2      13.16        2.36  2.67               18.6      101.0           2.80   \n",
              "3      14.37        1.95  2.50               16.8      113.0           3.85   \n",
              "4      13.24        2.59  2.87               21.0      118.0           2.80   \n",
              "..       ...         ...   ...                ...        ...            ...   \n",
              "173    13.71        5.65  2.45               20.5       95.0           1.68   \n",
              "174    13.40        3.91  2.48               23.0      102.0           1.80   \n",
              "175    13.27        4.28  2.26               20.0      120.0           1.59   \n",
              "176    13.17        2.59  2.37               20.0      120.0           1.65   \n",
              "177    14.13        4.10  2.74               24.5       96.0           2.05   \n",
              "\n",
              "     flavanoids  nonflavanoid_phenols  proanthocyanins  color_intensity   hue  \\\n",
              "0          3.06                  0.28             2.29             5.64  1.04   \n",
              "1          2.76                  0.26             1.28             4.38  1.05   \n",
              "2          3.24                  0.30             2.81             5.68  1.03   \n",
              "3          3.49                  0.24             2.18             7.80  0.86   \n",
              "4          2.69                  0.39             1.82             4.32  1.04   \n",
              "..          ...                   ...              ...              ...   ...   \n",
              "173        0.61                  0.52             1.06             7.70  0.64   \n",
              "174        0.75                  0.43             1.41             7.30  0.70   \n",
              "175        0.69                  0.43             1.35            10.20  0.59   \n",
              "176        0.68                  0.53             1.46             9.30  0.60   \n",
              "177        0.76                  0.56             1.35             9.20  0.61   \n",
              "\n",
              "     od280/od315_of_diluted_wines  proline  \n",
              "0                            3.92   1065.0  \n",
              "1                            3.40   1050.0  \n",
              "2                            3.17   1185.0  \n",
              "3                            3.45   1480.0  \n",
              "4                            2.93    735.0  \n",
              "..                            ...      ...  \n",
              "173                          1.74    740.0  \n",
              "174                          1.56    750.0  \n",
              "175                          1.56    835.0  \n",
              "176                          1.62    840.0  \n",
              "177                          1.60    560.0  \n",
              "\n",
              "[178 rows x 13 columns]"
            ],
            "text/html": [
              "\n",
              "  <div id=\"df-bff30982-5b54-4ba6-af1e-aca9318d63de\">\n",
              "    <div class=\"colab-df-container\">\n",
              "      <div>\n",
              "<style scoped>\n",
              "    .dataframe tbody tr th:only-of-type {\n",
              "        vertical-align: middle;\n",
              "    }\n",
              "\n",
              "    .dataframe tbody tr th {\n",
              "        vertical-align: top;\n",
              "    }\n",
              "\n",
              "    .dataframe thead th {\n",
              "        text-align: right;\n",
              "    }\n",
              "</style>\n",
              "<table border=\"1\" class=\"dataframe\">\n",
              "  <thead>\n",
              "    <tr style=\"text-align: right;\">\n",
              "      <th></th>\n",
              "      <th>alcohol</th>\n",
              "      <th>malic_acid</th>\n",
              "      <th>ash</th>\n",
              "      <th>alcalinity_of_ash</th>\n",
              "      <th>magnesium</th>\n",
              "      <th>total_phenols</th>\n",
              "      <th>flavanoids</th>\n",
              "      <th>nonflavanoid_phenols</th>\n",
              "      <th>proanthocyanins</th>\n",
              "      <th>color_intensity</th>\n",
              "      <th>hue</th>\n",
              "      <th>od280/od315_of_diluted_wines</th>\n",
              "      <th>proline</th>\n",
              "    </tr>\n",
              "  </thead>\n",
              "  <tbody>\n",
              "    <tr>\n",
              "      <th>0</th>\n",
              "      <td>14.23</td>\n",
              "      <td>1.71</td>\n",
              "      <td>2.43</td>\n",
              "      <td>15.6</td>\n",
              "      <td>127.0</td>\n",
              "      <td>2.80</td>\n",
              "      <td>3.06</td>\n",
              "      <td>0.28</td>\n",
              "      <td>2.29</td>\n",
              "      <td>5.64</td>\n",
              "      <td>1.04</td>\n",
              "      <td>3.92</td>\n",
              "      <td>1065.0</td>\n",
              "    </tr>\n",
              "    <tr>\n",
              "      <th>1</th>\n",
              "      <td>13.20</td>\n",
              "      <td>1.78</td>\n",
              "      <td>2.14</td>\n",
              "      <td>11.2</td>\n",
              "      <td>100.0</td>\n",
              "      <td>2.65</td>\n",
              "      <td>2.76</td>\n",
              "      <td>0.26</td>\n",
              "      <td>1.28</td>\n",
              "      <td>4.38</td>\n",
              "      <td>1.05</td>\n",
              "      <td>3.40</td>\n",
              "      <td>1050.0</td>\n",
              "    </tr>\n",
              "    <tr>\n",
              "      <th>2</th>\n",
              "      <td>13.16</td>\n",
              "      <td>2.36</td>\n",
              "      <td>2.67</td>\n",
              "      <td>18.6</td>\n",
              "      <td>101.0</td>\n",
              "      <td>2.80</td>\n",
              "      <td>3.24</td>\n",
              "      <td>0.30</td>\n",
              "      <td>2.81</td>\n",
              "      <td>5.68</td>\n",
              "      <td>1.03</td>\n",
              "      <td>3.17</td>\n",
              "      <td>1185.0</td>\n",
              "    </tr>\n",
              "    <tr>\n",
              "      <th>3</th>\n",
              "      <td>14.37</td>\n",
              "      <td>1.95</td>\n",
              "      <td>2.50</td>\n",
              "      <td>16.8</td>\n",
              "      <td>113.0</td>\n",
              "      <td>3.85</td>\n",
              "      <td>3.49</td>\n",
              "      <td>0.24</td>\n",
              "      <td>2.18</td>\n",
              "      <td>7.80</td>\n",
              "      <td>0.86</td>\n",
              "      <td>3.45</td>\n",
              "      <td>1480.0</td>\n",
              "    </tr>\n",
              "    <tr>\n",
              "      <th>4</th>\n",
              "      <td>13.24</td>\n",
              "      <td>2.59</td>\n",
              "      <td>2.87</td>\n",
              "      <td>21.0</td>\n",
              "      <td>118.0</td>\n",
              "      <td>2.80</td>\n",
              "      <td>2.69</td>\n",
              "      <td>0.39</td>\n",
              "      <td>1.82</td>\n",
              "      <td>4.32</td>\n",
              "      <td>1.04</td>\n",
              "      <td>2.93</td>\n",
              "      <td>735.0</td>\n",
              "    </tr>\n",
              "    <tr>\n",
              "      <th>...</th>\n",
              "      <td>...</td>\n",
              "      <td>...</td>\n",
              "      <td>...</td>\n",
              "      <td>...</td>\n",
              "      <td>...</td>\n",
              "      <td>...</td>\n",
              "      <td>...</td>\n",
              "      <td>...</td>\n",
              "      <td>...</td>\n",
              "      <td>...</td>\n",
              "      <td>...</td>\n",
              "      <td>...</td>\n",
              "      <td>...</td>\n",
              "    </tr>\n",
              "    <tr>\n",
              "      <th>173</th>\n",
              "      <td>13.71</td>\n",
              "      <td>5.65</td>\n",
              "      <td>2.45</td>\n",
              "      <td>20.5</td>\n",
              "      <td>95.0</td>\n",
              "      <td>1.68</td>\n",
              "      <td>0.61</td>\n",
              "      <td>0.52</td>\n",
              "      <td>1.06</td>\n",
              "      <td>7.70</td>\n",
              "      <td>0.64</td>\n",
              "      <td>1.74</td>\n",
              "      <td>740.0</td>\n",
              "    </tr>\n",
              "    <tr>\n",
              "      <th>174</th>\n",
              "      <td>13.40</td>\n",
              "      <td>3.91</td>\n",
              "      <td>2.48</td>\n",
              "      <td>23.0</td>\n",
              "      <td>102.0</td>\n",
              "      <td>1.80</td>\n",
              "      <td>0.75</td>\n",
              "      <td>0.43</td>\n",
              "      <td>1.41</td>\n",
              "      <td>7.30</td>\n",
              "      <td>0.70</td>\n",
              "      <td>1.56</td>\n",
              "      <td>750.0</td>\n",
              "    </tr>\n",
              "    <tr>\n",
              "      <th>175</th>\n",
              "      <td>13.27</td>\n",
              "      <td>4.28</td>\n",
              "      <td>2.26</td>\n",
              "      <td>20.0</td>\n",
              "      <td>120.0</td>\n",
              "      <td>1.59</td>\n",
              "      <td>0.69</td>\n",
              "      <td>0.43</td>\n",
              "      <td>1.35</td>\n",
              "      <td>10.20</td>\n",
              "      <td>0.59</td>\n",
              "      <td>1.56</td>\n",
              "      <td>835.0</td>\n",
              "    </tr>\n",
              "    <tr>\n",
              "      <th>176</th>\n",
              "      <td>13.17</td>\n",
              "      <td>2.59</td>\n",
              "      <td>2.37</td>\n",
              "      <td>20.0</td>\n",
              "      <td>120.0</td>\n",
              "      <td>1.65</td>\n",
              "      <td>0.68</td>\n",
              "      <td>0.53</td>\n",
              "      <td>1.46</td>\n",
              "      <td>9.30</td>\n",
              "      <td>0.60</td>\n",
              "      <td>1.62</td>\n",
              "      <td>840.0</td>\n",
              "    </tr>\n",
              "    <tr>\n",
              "      <th>177</th>\n",
              "      <td>14.13</td>\n",
              "      <td>4.10</td>\n",
              "      <td>2.74</td>\n",
              "      <td>24.5</td>\n",
              "      <td>96.0</td>\n",
              "      <td>2.05</td>\n",
              "      <td>0.76</td>\n",
              "      <td>0.56</td>\n",
              "      <td>1.35</td>\n",
              "      <td>9.20</td>\n",
              "      <td>0.61</td>\n",
              "      <td>1.60</td>\n",
              "      <td>560.0</td>\n",
              "    </tr>\n",
              "  </tbody>\n",
              "</table>\n",
              "<p>178 rows × 13 columns</p>\n",
              "</div>\n",
              "      <button class=\"colab-df-convert\" onclick=\"convertToInteractive('df-bff30982-5b54-4ba6-af1e-aca9318d63de')\"\n",
              "              title=\"Convert this dataframe to an interactive table.\"\n",
              "              style=\"display:none;\">\n",
              "        \n",
              "  <svg xmlns=\"http://www.w3.org/2000/svg\" height=\"24px\"viewBox=\"0 0 24 24\"\n",
              "       width=\"24px\">\n",
              "    <path d=\"M0 0h24v24H0V0z\" fill=\"none\"/>\n",
              "    <path d=\"M18.56 5.44l.94 2.06.94-2.06 2.06-.94-2.06-.94-.94-2.06-.94 2.06-2.06.94zm-11 1L8.5 8.5l.94-2.06 2.06-.94-2.06-.94L8.5 2.5l-.94 2.06-2.06.94zm10 10l.94 2.06.94-2.06 2.06-.94-2.06-.94-.94-2.06-.94 2.06-2.06.94z\"/><path d=\"M17.41 7.96l-1.37-1.37c-.4-.4-.92-.59-1.43-.59-.52 0-1.04.2-1.43.59L10.3 9.45l-7.72 7.72c-.78.78-.78 2.05 0 2.83L4 21.41c.39.39.9.59 1.41.59.51 0 1.02-.2 1.41-.59l7.78-7.78 2.81-2.81c.8-.78.8-2.07 0-2.86zM5.41 20L4 18.59l7.72-7.72 1.47 1.35L5.41 20z\"/>\n",
              "  </svg>\n",
              "      </button>\n",
              "      \n",
              "  <style>\n",
              "    .colab-df-container {\n",
              "      display:flex;\n",
              "      flex-wrap:wrap;\n",
              "      gap: 12px;\n",
              "    }\n",
              "\n",
              "    .colab-df-convert {\n",
              "      background-color: #E8F0FE;\n",
              "      border: none;\n",
              "      border-radius: 50%;\n",
              "      cursor: pointer;\n",
              "      display: none;\n",
              "      fill: #1967D2;\n",
              "      height: 32px;\n",
              "      padding: 0 0 0 0;\n",
              "      width: 32px;\n",
              "    }\n",
              "\n",
              "    .colab-df-convert:hover {\n",
              "      background-color: #E2EBFA;\n",
              "      box-shadow: 0px 1px 2px rgba(60, 64, 67, 0.3), 0px 1px 3px 1px rgba(60, 64, 67, 0.15);\n",
              "      fill: #174EA6;\n",
              "    }\n",
              "\n",
              "    [theme=dark] .colab-df-convert {\n",
              "      background-color: #3B4455;\n",
              "      fill: #D2E3FC;\n",
              "    }\n",
              "\n",
              "    [theme=dark] .colab-df-convert:hover {\n",
              "      background-color: #434B5C;\n",
              "      box-shadow: 0px 1px 3px 1px rgba(0, 0, 0, 0.15);\n",
              "      filter: drop-shadow(0px 1px 2px rgba(0, 0, 0, 0.3));\n",
              "      fill: #FFFFFF;\n",
              "    }\n",
              "  </style>\n",
              "\n",
              "      <script>\n",
              "        const buttonEl =\n",
              "          document.querySelector('#df-bff30982-5b54-4ba6-af1e-aca9318d63de button.colab-df-convert');\n",
              "        buttonEl.style.display =\n",
              "          google.colab.kernel.accessAllowed ? 'block' : 'none';\n",
              "\n",
              "        async function convertToInteractive(key) {\n",
              "          const element = document.querySelector('#df-bff30982-5b54-4ba6-af1e-aca9318d63de');\n",
              "          const dataTable =\n",
              "            await google.colab.kernel.invokeFunction('convertToInteractive',\n",
              "                                                     [key], {});\n",
              "          if (!dataTable) return;\n",
              "\n",
              "          const docLinkHtml = 'Like what you see? Visit the ' +\n",
              "            '<a target=\"_blank\" href=https://colab.research.google.com/notebooks/data_table.ipynb>data table notebook</a>'\n",
              "            + ' to learn more about interactive tables.';\n",
              "          element.innerHTML = '';\n",
              "          dataTable['output_type'] = 'display_data';\n",
              "          await google.colab.output.renderOutput(dataTable, element);\n",
              "          const docLink = document.createElement('div');\n",
              "          docLink.innerHTML = docLinkHtml;\n",
              "          element.appendChild(docLink);\n",
              "        }\n",
              "      </script>\n",
              "    </div>\n",
              "  </div>\n",
              "  "
            ]
          },
          "metadata": {},
          "execution_count": 5
        }
      ]
    },
    {
      "cell_type": "code",
      "metadata": {
        "id": "4u8TEZjzby45",
        "colab": {
          "base_uri": "https://localhost:8080/"
        },
        "outputId": "eda2cc62-9dfd-4648-83e9-fd7efee4dba8"
      },
      "source": [
        "data_class"
      ],
      "execution_count": null,
      "outputs": [
        {
          "output_type": "execute_result",
          "data": {
            "text/plain": [
              "array([0, 0, 0, 0, 0, 0, 0, 0, 0, 0, 0, 0, 0, 0, 0, 0, 0, 0, 0, 0, 0, 0,\n",
              "       0, 0, 0, 0, 0, 0, 0, 0, 0, 0, 0, 0, 0, 0, 0, 0, 0, 0, 0, 0, 0, 0,\n",
              "       0, 0, 0, 0, 0, 0, 0, 0, 0, 0, 0, 0, 0, 0, 0, 1, 1, 1, 1, 1, 1, 1,\n",
              "       1, 1, 1, 1, 1, 1, 1, 1, 1, 1, 1, 1, 1, 1, 1, 1, 1, 1, 1, 1, 1, 1,\n",
              "       1, 1, 1, 1, 1, 1, 1, 1, 1, 1, 1, 1, 1, 1, 1, 1, 1, 1, 1, 1, 1, 1,\n",
              "       1, 1, 1, 1, 1, 1, 1, 1, 1, 1, 1, 1, 1, 1, 1, 1, 1, 1, 1, 1, 2, 2,\n",
              "       2, 2, 2, 2, 2, 2, 2, 2, 2, 2, 2, 2, 2, 2, 2, 2, 2, 2, 2, 2, 2, 2,\n",
              "       2, 2, 2, 2, 2, 2, 2, 2, 2, 2, 2, 2, 2, 2, 2, 2, 2, 2, 2, 2, 2, 2,\n",
              "       2, 2])"
            ]
          },
          "metadata": {},
          "execution_count": 6
        }
      ]
    },
    {
      "cell_type": "code",
      "metadata": {
        "id": "lFjqjX-iwCaW"
      },
      "source": [
        "# разделяем выборку на тренировочную и тестовую\n",
        "from sklearn.model_selection import train_test_split\n",
        "X_train, X_test, y_train, y_test = train_test_split(data, data_class, test_size=0.25, random_state=42)"
      ],
      "execution_count": null,
      "outputs": []
    },
    {
      "cell_type": "code",
      "metadata": {
        "id": "ygkZ_ffYby48",
        "colab": {
          "base_uri": "https://localhost:8080/"
        },
        "outputId": "6b1577ee-bf01-459d-e2e6-1812c431c2ad"
      },
      "source": [
        "len(y_test)"
      ],
      "execution_count": null,
      "outputs": [
        {
          "output_type": "execute_result",
          "data": {
            "text/plain": [
              "45"
            ]
          },
          "metadata": {},
          "execution_count": 30
        }
      ]
    },
    {
      "cell_type": "code",
      "metadata": {
        "id": "6HINhvLtwdZT"
      },
      "source": [
        "# импортируем LDA-функционал\n",
        "from sklearn.discriminant_analysis import LinearDiscriminantAnalysis"
      ],
      "execution_count": null,
      "outputs": []
    },
    {
      "cell_type": "code",
      "metadata": {
        "id": "0Us8oVotwku1"
      },
      "source": [
        "lda = LinearDiscriminantAnalysis()"
      ],
      "execution_count": null,
      "outputs": []
    },
    {
      "cell_type": "code",
      "metadata": {
        "id": "h5Ufc5sjwnZ3",
        "colab": {
          "base_uri": "https://localhost:8080/"
        },
        "outputId": "e11183ca-aacf-4999-a58e-c9fb8bdc213d"
      },
      "source": [
        "# обучаем данные\n",
        "lda.fit(X_train, y_train)"
      ],
      "execution_count": null,
      "outputs": [
        {
          "output_type": "execute_result",
          "data": {
            "text/plain": [
              "LinearDiscriminantAnalysis()"
            ]
          },
          "metadata": {},
          "execution_count": 33
        }
      ]
    },
    {
      "cell_type": "code",
      "metadata": {
        "id": "bcZ3H-T1xSWu",
        "colab": {
          "base_uri": "https://localhost:8080/"
        },
        "outputId": "e7d5a99f-4308-4d6c-e951-227d4597d0b4"
      },
      "source": [
        "# делаем прогноз на тестовой выборке\n",
        "lda.predict(X_test)"
      ],
      "execution_count": null,
      "outputs": [
        {
          "output_type": "execute_result",
          "data": {
            "text/plain": [
              "array([0, 0, 2, 0, 1, 0, 1, 2, 1, 2, 0, 2, 0, 1, 0, 1, 1, 1, 0, 1, 0, 1,\n",
              "       1, 2, 2, 2, 1, 1, 1, 0, 0, 1, 2, 0, 0, 0, 2, 2, 1, 2, 0, 1, 1, 1,\n",
              "       2])"
            ]
          },
          "metadata": {},
          "execution_count": 34
        }
      ]
    },
    {
      "cell_type": "code",
      "metadata": {
        "id": "9wGodM6OxUds"
      },
      "source": [
        "# смотрим разницу факта и прогноза\n",
        "result = pd.DataFrame([y_test, lda.predict(X_test)]).T"
      ],
      "execution_count": null,
      "outputs": []
    },
    {
      "cell_type": "code",
      "metadata": {
        "id": "RK4zDP6ZxaXI",
        "colab": {
          "base_uri": "https://localhost:8080/",
          "height": 1000
        },
        "outputId": "b3985106-340f-4cd3-904e-e3163726839f"
      },
      "source": [
        "result"
      ],
      "execution_count": null,
      "outputs": [
        {
          "output_type": "execute_result",
          "data": {
            "text/plain": [
              "    0  1\n",
              "0   0  0\n",
              "1   0  0\n",
              "2   2  2\n",
              "3   0  0\n",
              "4   1  1\n",
              "5   0  0\n",
              "6   1  1\n",
              "7   2  2\n",
              "8   1  1\n",
              "9   2  2\n",
              "10  0  0\n",
              "11  2  2\n",
              "12  0  0\n",
              "13  1  1\n",
              "14  0  0\n",
              "15  1  1\n",
              "16  1  1\n",
              "17  1  1\n",
              "18  0  0\n",
              "19  1  1\n",
              "20  0  0\n",
              "21  1  1\n",
              "22  1  1\n",
              "23  2  2\n",
              "24  2  2\n",
              "25  2  2\n",
              "26  1  1\n",
              "27  1  1\n",
              "28  1  1\n",
              "29  0  0\n",
              "30  0  0\n",
              "31  1  1\n",
              "32  2  2\n",
              "33  0  0\n",
              "34  0  0\n",
              "35  0  0\n",
              "36  2  2\n",
              "37  2  2\n",
              "38  1  1\n",
              "39  2  2\n",
              "40  0  0\n",
              "41  1  1\n",
              "42  1  1\n",
              "43  1  1\n",
              "44  2  2"
            ],
            "text/html": [
              "\n",
              "  <div id=\"df-db909d3e-17f3-473b-a480-ec20bd29f509\">\n",
              "    <div class=\"colab-df-container\">\n",
              "      <div>\n",
              "<style scoped>\n",
              "    .dataframe tbody tr th:only-of-type {\n",
              "        vertical-align: middle;\n",
              "    }\n",
              "\n",
              "    .dataframe tbody tr th {\n",
              "        vertical-align: top;\n",
              "    }\n",
              "\n",
              "    .dataframe thead th {\n",
              "        text-align: right;\n",
              "    }\n",
              "</style>\n",
              "<table border=\"1\" class=\"dataframe\">\n",
              "  <thead>\n",
              "    <tr style=\"text-align: right;\">\n",
              "      <th></th>\n",
              "      <th>0</th>\n",
              "      <th>1</th>\n",
              "    </tr>\n",
              "  </thead>\n",
              "  <tbody>\n",
              "    <tr>\n",
              "      <th>0</th>\n",
              "      <td>0</td>\n",
              "      <td>0</td>\n",
              "    </tr>\n",
              "    <tr>\n",
              "      <th>1</th>\n",
              "      <td>0</td>\n",
              "      <td>0</td>\n",
              "    </tr>\n",
              "    <tr>\n",
              "      <th>2</th>\n",
              "      <td>2</td>\n",
              "      <td>2</td>\n",
              "    </tr>\n",
              "    <tr>\n",
              "      <th>3</th>\n",
              "      <td>0</td>\n",
              "      <td>0</td>\n",
              "    </tr>\n",
              "    <tr>\n",
              "      <th>4</th>\n",
              "      <td>1</td>\n",
              "      <td>1</td>\n",
              "    </tr>\n",
              "    <tr>\n",
              "      <th>5</th>\n",
              "      <td>0</td>\n",
              "      <td>0</td>\n",
              "    </tr>\n",
              "    <tr>\n",
              "      <th>6</th>\n",
              "      <td>1</td>\n",
              "      <td>1</td>\n",
              "    </tr>\n",
              "    <tr>\n",
              "      <th>7</th>\n",
              "      <td>2</td>\n",
              "      <td>2</td>\n",
              "    </tr>\n",
              "    <tr>\n",
              "      <th>8</th>\n",
              "      <td>1</td>\n",
              "      <td>1</td>\n",
              "    </tr>\n",
              "    <tr>\n",
              "      <th>9</th>\n",
              "      <td>2</td>\n",
              "      <td>2</td>\n",
              "    </tr>\n",
              "    <tr>\n",
              "      <th>10</th>\n",
              "      <td>0</td>\n",
              "      <td>0</td>\n",
              "    </tr>\n",
              "    <tr>\n",
              "      <th>11</th>\n",
              "      <td>2</td>\n",
              "      <td>2</td>\n",
              "    </tr>\n",
              "    <tr>\n",
              "      <th>12</th>\n",
              "      <td>0</td>\n",
              "      <td>0</td>\n",
              "    </tr>\n",
              "    <tr>\n",
              "      <th>13</th>\n",
              "      <td>1</td>\n",
              "      <td>1</td>\n",
              "    </tr>\n",
              "    <tr>\n",
              "      <th>14</th>\n",
              "      <td>0</td>\n",
              "      <td>0</td>\n",
              "    </tr>\n",
              "    <tr>\n",
              "      <th>15</th>\n",
              "      <td>1</td>\n",
              "      <td>1</td>\n",
              "    </tr>\n",
              "    <tr>\n",
              "      <th>16</th>\n",
              "      <td>1</td>\n",
              "      <td>1</td>\n",
              "    </tr>\n",
              "    <tr>\n",
              "      <th>17</th>\n",
              "      <td>1</td>\n",
              "      <td>1</td>\n",
              "    </tr>\n",
              "    <tr>\n",
              "      <th>18</th>\n",
              "      <td>0</td>\n",
              "      <td>0</td>\n",
              "    </tr>\n",
              "    <tr>\n",
              "      <th>19</th>\n",
              "      <td>1</td>\n",
              "      <td>1</td>\n",
              "    </tr>\n",
              "    <tr>\n",
              "      <th>20</th>\n",
              "      <td>0</td>\n",
              "      <td>0</td>\n",
              "    </tr>\n",
              "    <tr>\n",
              "      <th>21</th>\n",
              "      <td>1</td>\n",
              "      <td>1</td>\n",
              "    </tr>\n",
              "    <tr>\n",
              "      <th>22</th>\n",
              "      <td>1</td>\n",
              "      <td>1</td>\n",
              "    </tr>\n",
              "    <tr>\n",
              "      <th>23</th>\n",
              "      <td>2</td>\n",
              "      <td>2</td>\n",
              "    </tr>\n",
              "    <tr>\n",
              "      <th>24</th>\n",
              "      <td>2</td>\n",
              "      <td>2</td>\n",
              "    </tr>\n",
              "    <tr>\n",
              "      <th>25</th>\n",
              "      <td>2</td>\n",
              "      <td>2</td>\n",
              "    </tr>\n",
              "    <tr>\n",
              "      <th>26</th>\n",
              "      <td>1</td>\n",
              "      <td>1</td>\n",
              "    </tr>\n",
              "    <tr>\n",
              "      <th>27</th>\n",
              "      <td>1</td>\n",
              "      <td>1</td>\n",
              "    </tr>\n",
              "    <tr>\n",
              "      <th>28</th>\n",
              "      <td>1</td>\n",
              "      <td>1</td>\n",
              "    </tr>\n",
              "    <tr>\n",
              "      <th>29</th>\n",
              "      <td>0</td>\n",
              "      <td>0</td>\n",
              "    </tr>\n",
              "    <tr>\n",
              "      <th>30</th>\n",
              "      <td>0</td>\n",
              "      <td>0</td>\n",
              "    </tr>\n",
              "    <tr>\n",
              "      <th>31</th>\n",
              "      <td>1</td>\n",
              "      <td>1</td>\n",
              "    </tr>\n",
              "    <tr>\n",
              "      <th>32</th>\n",
              "      <td>2</td>\n",
              "      <td>2</td>\n",
              "    </tr>\n",
              "    <tr>\n",
              "      <th>33</th>\n",
              "      <td>0</td>\n",
              "      <td>0</td>\n",
              "    </tr>\n",
              "    <tr>\n",
              "      <th>34</th>\n",
              "      <td>0</td>\n",
              "      <td>0</td>\n",
              "    </tr>\n",
              "    <tr>\n",
              "      <th>35</th>\n",
              "      <td>0</td>\n",
              "      <td>0</td>\n",
              "    </tr>\n",
              "    <tr>\n",
              "      <th>36</th>\n",
              "      <td>2</td>\n",
              "      <td>2</td>\n",
              "    </tr>\n",
              "    <tr>\n",
              "      <th>37</th>\n",
              "      <td>2</td>\n",
              "      <td>2</td>\n",
              "    </tr>\n",
              "    <tr>\n",
              "      <th>38</th>\n",
              "      <td>1</td>\n",
              "      <td>1</td>\n",
              "    </tr>\n",
              "    <tr>\n",
              "      <th>39</th>\n",
              "      <td>2</td>\n",
              "      <td>2</td>\n",
              "    </tr>\n",
              "    <tr>\n",
              "      <th>40</th>\n",
              "      <td>0</td>\n",
              "      <td>0</td>\n",
              "    </tr>\n",
              "    <tr>\n",
              "      <th>41</th>\n",
              "      <td>1</td>\n",
              "      <td>1</td>\n",
              "    </tr>\n",
              "    <tr>\n",
              "      <th>42</th>\n",
              "      <td>1</td>\n",
              "      <td>1</td>\n",
              "    </tr>\n",
              "    <tr>\n",
              "      <th>43</th>\n",
              "      <td>1</td>\n",
              "      <td>1</td>\n",
              "    </tr>\n",
              "    <tr>\n",
              "      <th>44</th>\n",
              "      <td>2</td>\n",
              "      <td>2</td>\n",
              "    </tr>\n",
              "  </tbody>\n",
              "</table>\n",
              "</div>\n",
              "      <button class=\"colab-df-convert\" onclick=\"convertToInteractive('df-db909d3e-17f3-473b-a480-ec20bd29f509')\"\n",
              "              title=\"Convert this dataframe to an interactive table.\"\n",
              "              style=\"display:none;\">\n",
              "        \n",
              "  <svg xmlns=\"http://www.w3.org/2000/svg\" height=\"24px\"viewBox=\"0 0 24 24\"\n",
              "       width=\"24px\">\n",
              "    <path d=\"M0 0h24v24H0V0z\" fill=\"none\"/>\n",
              "    <path d=\"M18.56 5.44l.94 2.06.94-2.06 2.06-.94-2.06-.94-.94-2.06-.94 2.06-2.06.94zm-11 1L8.5 8.5l.94-2.06 2.06-.94-2.06-.94L8.5 2.5l-.94 2.06-2.06.94zm10 10l.94 2.06.94-2.06 2.06-.94-2.06-.94-.94-2.06-.94 2.06-2.06.94z\"/><path d=\"M17.41 7.96l-1.37-1.37c-.4-.4-.92-.59-1.43-.59-.52 0-1.04.2-1.43.59L10.3 9.45l-7.72 7.72c-.78.78-.78 2.05 0 2.83L4 21.41c.39.39.9.59 1.41.59.51 0 1.02-.2 1.41-.59l7.78-7.78 2.81-2.81c.8-.78.8-2.07 0-2.86zM5.41 20L4 18.59l7.72-7.72 1.47 1.35L5.41 20z\"/>\n",
              "  </svg>\n",
              "      </button>\n",
              "      \n",
              "  <style>\n",
              "    .colab-df-container {\n",
              "      display:flex;\n",
              "      flex-wrap:wrap;\n",
              "      gap: 12px;\n",
              "    }\n",
              "\n",
              "    .colab-df-convert {\n",
              "      background-color: #E8F0FE;\n",
              "      border: none;\n",
              "      border-radius: 50%;\n",
              "      cursor: pointer;\n",
              "      display: none;\n",
              "      fill: #1967D2;\n",
              "      height: 32px;\n",
              "      padding: 0 0 0 0;\n",
              "      width: 32px;\n",
              "    }\n",
              "\n",
              "    .colab-df-convert:hover {\n",
              "      background-color: #E2EBFA;\n",
              "      box-shadow: 0px 1px 2px rgba(60, 64, 67, 0.3), 0px 1px 3px 1px rgba(60, 64, 67, 0.15);\n",
              "      fill: #174EA6;\n",
              "    }\n",
              "\n",
              "    [theme=dark] .colab-df-convert {\n",
              "      background-color: #3B4455;\n",
              "      fill: #D2E3FC;\n",
              "    }\n",
              "\n",
              "    [theme=dark] .colab-df-convert:hover {\n",
              "      background-color: #434B5C;\n",
              "      box-shadow: 0px 1px 3px 1px rgba(0, 0, 0, 0.15);\n",
              "      filter: drop-shadow(0px 1px 2px rgba(0, 0, 0, 0.3));\n",
              "      fill: #FFFFFF;\n",
              "    }\n",
              "  </style>\n",
              "\n",
              "      <script>\n",
              "        const buttonEl =\n",
              "          document.querySelector('#df-db909d3e-17f3-473b-a480-ec20bd29f509 button.colab-df-convert');\n",
              "        buttonEl.style.display =\n",
              "          google.colab.kernel.accessAllowed ? 'block' : 'none';\n",
              "\n",
              "        async function convertToInteractive(key) {\n",
              "          const element = document.querySelector('#df-db909d3e-17f3-473b-a480-ec20bd29f509');\n",
              "          const dataTable =\n",
              "            await google.colab.kernel.invokeFunction('convertToInteractive',\n",
              "                                                     [key], {});\n",
              "          if (!dataTable) return;\n",
              "\n",
              "          const docLinkHtml = 'Like what you see? Visit the ' +\n",
              "            '<a target=\"_blank\" href=https://colab.research.google.com/notebooks/data_table.ipynb>data table notebook</a>'\n",
              "            + ' to learn more about interactive tables.';\n",
              "          element.innerHTML = '';\n",
              "          dataTable['output_type'] = 'display_data';\n",
              "          await google.colab.output.renderOutput(dataTable, element);\n",
              "          const docLink = document.createElement('div');\n",
              "          docLink.innerHTML = docLinkHtml;\n",
              "          element.appendChild(docLink);\n",
              "        }\n",
              "      </script>\n",
              "    </div>\n",
              "  </div>\n",
              "  "
            ]
          },
          "metadata": {},
          "execution_count": 36
        }
      ]
    },
    {
      "cell_type": "code",
      "metadata": {
        "id": "B66nVhbk2Mf1"
      },
      "source": [
        "# расчет точности - отношение верных прогнозов к общему количеству позиций\n",
        "# является хорошей метрикой для сбалансированных классов \n",
        "# (наблюдений в категориях примерно одинаковое количество)\n",
        "\n",
        "from sklearn.metrics import accuracy_score"
      ],
      "execution_count": null,
      "outputs": []
    },
    {
      "cell_type": "code",
      "metadata": {
        "id": "2x5pYOZB2P2F",
        "colab": {
          "base_uri": "https://localhost:8080/"
        },
        "outputId": "5f64e398-1a34-4c80-e195-d9c19e30a91c"
      },
      "source": [
        "accuracy_score(y_test, lda.predict(X_test))"
      ],
      "execution_count": null,
      "outputs": [
        {
          "output_type": "execute_result",
          "data": {
            "text/plain": [
              "1.0"
            ]
          },
          "metadata": {},
          "execution_count": 38
        }
      ]
    },
    {
      "cell_type": "code",
      "metadata": {
        "id": "aBdqgd5ixdMh",
        "colab": {
          "base_uri": "https://localhost:8080/"
        },
        "outputId": "c750b749-9482-47fb-9078-ec6e9f4c1527"
      },
      "source": [
        "# коэффициенты дискриминатных линий\n",
        "lda.coef_"
      ],
      "execution_count": null,
      "outputs": [
        {
          "output_type": "execute_result",
          "data": {
            "text/plain": [
              "array([[ 3.12602906e+00,  1.19484132e-01,  4.42473118e+00,\n",
              "        -8.40528543e-01, -5.08587922e-04, -2.18924035e+00,\n",
              "         4.42552523e+00,  2.45639416e+00, -1.25329941e+00,\n",
              "        -6.60355522e-01,  9.89509206e-01,  4.56034610e+00,\n",
              "         1.52575427e-02],\n",
              "       [-1.79569865e+00, -9.98069919e-01, -4.41885764e+00,\n",
              "         2.89645969e-01, -1.11701339e-03, -4.45440579e-01,\n",
              "         1.39071159e+00,  3.83169007e+00,  6.03972092e-01,\n",
              "        -7.58011492e-01,  1.84320920e+00,  9.96132749e-02,\n",
              "        -5.84506711e-03],\n",
              "       [-4.56254652e-01,  1.54932126e+00,  2.51851670e+00,\n",
              "         4.48328600e-01,  2.44967768e-03,  3.19032480e+00,\n",
              "        -7.27564194e+00, -9.19625961e+00,  3.78409246e-01,\n",
              "         2.01361553e+00, -4.20972005e+00, -5.24944804e+00,\n",
              "        -7.14814870e-03]])"
            ]
          },
          "metadata": {},
          "execution_count": 17
        }
      ]
    },
    {
      "cell_type": "code",
      "metadata": {
        "id": "6fWjKgl4yLHO",
        "colab": {
          "base_uri": "https://localhost:8080/",
          "height": 265
        },
        "outputId": "ea15145d-75ef-4b69-f1c7-9aefca074e37"
      },
      "source": [
        "# визуализируем дискриминантную линию только по 2 признакам\n",
        "plt.scatter(x=X_train['ash'], y=X_train['flavanoids'], c=y_train)\n",
        "plt.show()"
      ],
      "execution_count": null,
      "outputs": [
        {
          "output_type": "display_data",
          "data": {
            "text/plain": [
              "<Figure size 432x288 with 1 Axes>"
            ],
            "image/png": "[encoded data removed]"
          },
          "metadata": {
            "needs_background": "light"
          }
        }
      ]
    },
    {
      "cell_type": "code",
      "metadata": {
        "id": "KFSam-cJzCOG"
      },
      "source": [
        "small_train = X_train[(y_train == 0) | (y_train == 2)]\n",
        "small_train = small_train[['ash', 'flavanoids']]\n",
        "sy_train = y_train[(y_train == 0) | (y_train == 2)]\n",
        "small_test = X_test[(y_test == 0) | (y_test == 2)]\n",
        "small_test = small_test[['ash', 'flavanoids']]\n",
        "sy_test = y_test[(y_test == 0) | (y_test == 2)]"
      ],
      "execution_count": null,
      "outputs": []
    },
    {
      "cell_type": "code",
      "metadata": {
        "id": "SX47KNgXySEU",
        "colab": {
          "base_uri": "https://localhost:8080/",
          "height": 265
        },
        "outputId": "b481a762-5157-4ae1-e458-51e60a4d78af"
      },
      "source": [
        "plt.scatter(x=small_train['ash'], y=small_train['flavanoids'], c=sy_train)\n",
        "plt.show()"
      ],
      "execution_count": null,
      "outputs": [
        {
          "output_type": "display_data",
          "data": {
            "text/plain": [
              "<Figure size 432x288 with 1 Axes>"
            ],
            "image/png": "[encoded data removed]"
          },
          "metadata": {
            "needs_background": "light"
          }
        }
      ]
    },
    {
      "cell_type": "code",
      "metadata": {
        "id": "jzWXDuY7y453",
        "colab": {
          "base_uri": "https://localhost:8080/"
        },
        "outputId": "5d7ff70c-7238-4e9a-a894-d32fcb42d137"
      },
      "source": [
        "lda_small = LinearDiscriminantAnalysis()\n",
        "lda_small.fit(small_train, sy_train)"
      ],
      "execution_count": null,
      "outputs": [
        {
          "output_type": "execute_result",
          "data": {
            "text/plain": [
              "LinearDiscriminantAnalysis()"
            ]
          },
          "metadata": {},
          "execution_count": 41
        }
      ]
    },
    {
      "cell_type": "code",
      "metadata": {
        "id": "MSo9yPBxzPYx",
        "colab": {
          "base_uri": "https://localhost:8080/"
        },
        "outputId": "ee0ac53a-e08b-48c1-e6d6-06a566697558"
      },
      "source": [
        "# посмотрим на наши центроиды\n",
        "lda_small.means_"
      ],
      "execution_count": null,
      "outputs": [
        {
          "output_type": "execute_result",
          "data": {
            "text/plain": [
              "array([[2.45795455, 2.98522727],\n",
              "       [2.41416667, 0.76888889]])"
            ]
          },
          "metadata": {},
          "execution_count": 42
        }
      ]
    },
    {
      "cell_type": "code",
      "metadata": {
        "id": "IrQb_JTwzREc",
        "colab": {
          "base_uri": "https://localhost:8080/",
          "height": 337
        },
        "outputId": "cbe32a8f-a5e4-4ff6-d26c-a718bcb4811c"
      },
      "source": [
        "# сам scatter plot\n",
        "plt.scatter(small_train['ash'], small_train['flavanoids'], c=sy_train)\n",
        "# центроиды\n",
        "plt.scatter(lda_small.means_[:, 0], lda_small.means_[:, 1], c='r', s=150, marker='*')\n",
        "\n",
        "# делаем условную \"сетку\"\n",
        "nx, ny = 200, 100\n",
        "x_min, x_max = plt.xlim()\n",
        "y_min, y_max = plt.ylim()\n",
        "xx, yy = np.meshgrid(np.linspace(x_min, x_max, nx),\n",
        "                         np.linspace(y_min, y_max, ny))\n",
        "\n",
        "# предсказываем класс каждой точки нашей сетки\n",
        "Z = lda_small.predict_proba(np.c_[xx.ravel(), yy.ravel()])\n",
        "Z = Z[:, 1].reshape(xx.shape)\n",
        "\n",
        "# закрашиваем классы разными цветами\n",
        "plt.pcolormesh(xx, yy, Z, cmap='red_blue_classes',\n",
        "                   norm=colors.Normalize(0., 1.), zorder=-1, shading='auto')\n",
        "\n",
        "plt.contour(xx, yy, Z, [0.5], linewidths=2., colors='white')"
      ],
      "execution_count": null,
      "outputs": [
        {
          "output_type": "stream",
          "name": "stderr",
          "text": [
            "/usr/local/lib/python3.7/dist-packages/sklearn/base.py:451: UserWarning: X does not have valid feature names, but LinearDiscriminantAnalysis was fitted with feature names\n",
            "  \"X does not have valid feature names, but\"\n"
          ]
        },
        {
          "output_type": "execute_result",
          "data": {
            "text/plain": [
              "<matplotlib.contour.QuadContourSet at 0x7f055188a790>"
            ]
          },
          "metadata": {},
          "execution_count": 43
        },
        {
          "output_type": "display_data",
          "data": {
            "text/plain": [
              "<Figure size 432x288 with 1 Axes>"
            ],
            "image/png": "[encoded data removed]"
          },
          "metadata": {
            "needs_background": "light"
          }
        }
      ]
    },
    {
      "cell_type": "code",
      "metadata": {
        "id": "e4_nponj4X5a",
        "colab": {
          "base_uri": "https://localhost:8080/"
        },
        "outputId": "e9c09364-a3fb-4ee4-d2d6-91edcff180bd"
      },
      "source": [
        "# второй признак во много раз важнее первого для кластеризации (это видно по визуализации)\n",
        "lda_small.coef_"
      ],
      "execution_count": null,
      "outputs": [
        {
          "output_type": "execute_result",
          "data": {
            "text/plain": [
              "array([[ -4.34521388, -18.55400407]])"
            ]
          },
          "metadata": {},
          "execution_count": 44
        }
      ]
    },
    {
      "cell_type": "code",
      "metadata": {
        "id": "fDmV457H4kz_",
        "colab": {
          "base_uri": "https://localhost:8080/"
        },
        "outputId": "709f44c2-f651-4f2b-b528-14ec9d05443a"
      },
      "source": [
        "# какая будет точность?\n",
        "accuracy_score(sy_test, lda_small.predict(small_test))"
      ],
      "execution_count": null,
      "outputs": [
        {
          "output_type": "execute_result",
          "data": {
            "text/plain": [
              "1.0"
            ]
          },
          "metadata": {},
          "execution_count": 45
        }
      ]
    },
    {
      "cell_type": "code",
      "metadata": {
        "id": "bhPt9IHjby5I",
        "colab": {
          "base_uri": "https://localhost:8080/",
          "height": 112
        },
        "outputId": "332481ac-5e95-44a5-e198-dabea6237f33"
      },
      "source": [
        "data[['flavanoids', 'ash']].corr()"
      ],
      "execution_count": null,
      "outputs": [
        {
          "output_type": "execute_result",
          "data": {
            "text/plain": [
              "            flavanoids       ash\n",
              "flavanoids    1.000000  0.115077\n",
              "ash           0.115077  1.000000"
            ],
            "text/html": [
              "\n",
              "  <div id=\"df-71940b2e-d704-46fa-ac8a-00e2e60dd1bb\">\n",
              "    <div class=\"colab-df-container\">\n",
              "      <div>\n",
              "<style scoped>\n",
              "    .dataframe tbody tr th:only-of-type {\n",
              "        vertical-align: middle;\n",
              "    }\n",
              "\n",
              "    .dataframe tbody tr th {\n",
              "        vertical-align: top;\n",
              "    }\n",
              "\n",
              "    .dataframe thead th {\n",
              "        text-align: right;\n",
              "    }\n",
              "</style>\n",
              "<table border=\"1\" class=\"dataframe\">\n",
              "  <thead>\n",
              "    <tr style=\"text-align: right;\">\n",
              "      <th></th>\n",
              "      <th>flavanoids</th>\n",
              "      <th>ash</th>\n",
              "    </tr>\n",
              "  </thead>\n",
              "  <tbody>\n",
              "    <tr>\n",
              "      <th>flavanoids</th>\n",
              "      <td>1.000000</td>\n",
              "      <td>0.115077</td>\n",
              "    </tr>\n",
              "    <tr>\n",
              "      <th>ash</th>\n",
              "      <td>0.115077</td>\n",
              "      <td>1.000000</td>\n",
              "    </tr>\n",
              "  </tbody>\n",
              "</table>\n",
              "</div>\n",
              "      <button class=\"colab-df-convert\" onclick=\"convertToInteractive('df-71940b2e-d704-46fa-ac8a-00e2e60dd1bb')\"\n",
              "              title=\"Convert this dataframe to an interactive table.\"\n",
              "              style=\"display:none;\">\n",
              "        \n",
              "  <svg xmlns=\"http://www.w3.org/2000/svg\" height=\"24px\"viewBox=\"0 0 24 24\"\n",
              "       width=\"24px\">\n",
              "    <path d=\"M0 0h24v24H0V0z\" fill=\"none\"/>\n",
              "    <path d=\"M18.56 5.44l.94 2.06.94-2.06 2.06-.94-2.06-.94-.94-2.06-.94 2.06-2.06.94zm-11 1L8.5 8.5l.94-2.06 2.06-.94-2.06-.94L8.5 2.5l-.94 2.06-2.06.94zm10 10l.94 2.06.94-2.06 2.06-.94-2.06-.94-.94-2.06-.94 2.06-2.06.94z\"/><path d=\"M17.41 7.96l-1.37-1.37c-.4-.4-.92-.59-1.43-.59-.52 0-1.04.2-1.43.59L10.3 9.45l-7.72 7.72c-.78.78-.78 2.05 0 2.83L4 21.41c.39.39.9.59 1.41.59.51 0 1.02-.2 1.41-.59l7.78-7.78 2.81-2.81c.8-.78.8-2.07 0-2.86zM5.41 20L4 18.59l7.72-7.72 1.47 1.35L5.41 20z\"/>\n",
              "  </svg>\n",
              "      </button>\n",
              "      \n",
              "  <style>\n",
              "    .colab-df-container {\n",
              "      display:flex;\n",
              "      flex-wrap:wrap;\n",
              "      gap: 12px;\n",
              "    }\n",
              "\n",
              "    .colab-df-convert {\n",
              "      background-color: #E8F0FE;\n",
              "      border: none;\n",
              "      border-radius: 50%;\n",
              "      cursor: pointer;\n",
              "      display: none;\n",
              "      fill: #1967D2;\n",
              "      height: 32px;\n",
              "      padding: 0 0 0 0;\n",
              "      width: 32px;\n",
              "    }\n",
              "\n",
              "    .colab-df-convert:hover {\n",
              "      background-color: #E2EBFA;\n",
              "      box-shadow: 0px 1px 2px rgba(60, 64, 67, 0.3), 0px 1px 3px 1px rgba(60, 64, 67, 0.15);\n",
              "      fill: #174EA6;\n",
              "    }\n",
              "\n",
              "    [theme=dark] .colab-df-convert {\n",
              "      background-color: #3B4455;\n",
              "      fill: #D2E3FC;\n",
              "    }\n",
              "\n",
              "    [theme=dark] .colab-df-convert:hover {\n",
              "      background-color: #434B5C;\n",
              "      box-shadow: 0px 1px 3px 1px rgba(0, 0, 0, 0.15);\n",
              "      filter: drop-shadow(0px 1px 2px rgba(0, 0, 0, 0.3));\n",
              "      fill: #FFFFFF;\n",
              "    }\n",
              "  </style>\n",
              "\n",
              "      <script>\n",
              "        const buttonEl =\n",
              "          document.querySelector('#df-71940b2e-d704-46fa-ac8a-00e2e60dd1bb button.colab-df-convert');\n",
              "        buttonEl.style.display =\n",
              "          google.colab.kernel.accessAllowed ? 'block' : 'none';\n",
              "\n",
              "        async function convertToInteractive(key) {\n",
              "          const element = document.querySelector('#df-71940b2e-d704-46fa-ac8a-00e2e60dd1bb');\n",
              "          const dataTable =\n",
              "            await google.colab.kernel.invokeFunction('convertToInteractive',\n",
              "                                                     [key], {});\n",
              "          if (!dataTable) return;\n",
              "\n",
              "          const docLinkHtml = 'Like what you see? Visit the ' +\n",
              "            '<a target=\"_blank\" href=https://colab.research.google.com/notebooks/data_table.ipynb>data table notebook</a>'\n",
              "            + ' to learn more about interactive tables.';\n",
              "          element.innerHTML = '';\n",
              "          dataTable['output_type'] = 'display_data';\n",
              "          await google.colab.output.renderOutput(dataTable, element);\n",
              "          const docLink = document.createElement('div');\n",
              "          docLink.innerHTML = docLinkHtml;\n",
              "          element.appendChild(docLink);\n",
              "        }\n",
              "      </script>\n",
              "    </div>\n",
              "  </div>\n",
              "  "
            ]
          },
          "metadata": {},
          "execution_count": 46
        }
      ]
    },
    {
      "cell_type": "code",
      "metadata": {
        "id": "E-gchIEJ4t2d"
      },
      "source": [
        "# заменим модель на логистическую регрессиию\n",
        "# кому интересно, отличия логистической регрессии от LDA: \n",
        "# https://www.introspective-mode.org/logistic-regression-or-discriminant-function-analysis/\n",
        "# Основные моменты:\n",
        "# LR может работать с категориальными признаками \n",
        "# зависимая переменная в LR подчиняется логистической функции (изменяется от 0 до 1) и непрерывна\n",
        "from sklearn.linear_model import LogisticRegression"
      ],
      "execution_count": null,
      "outputs": []
    },
    {
      "cell_type": "code",
      "metadata": {
        "id": "R4NDgweF41cm"
      },
      "source": [
        "lr = LogisticRegression()"
      ],
      "execution_count": null,
      "outputs": []
    },
    {
      "cell_type": "code",
      "metadata": {
        "id": "badyR0Tj43nx",
        "colab": {
          "base_uri": "https://localhost:8080/"
        },
        "outputId": "95800908-ddee-4d7a-c05b-e5616ee7ecd5"
      },
      "source": [
        "lr.fit(small_train, sy_train)"
      ],
      "execution_count": null,
      "outputs": [
        {
          "output_type": "execute_result",
          "data": {
            "text/plain": [
              "LogisticRegression()"
            ]
          },
          "metadata": {},
          "execution_count": 49
        }
      ]
    },
    {
      "cell_type": "code",
      "metadata": {
        "id": "NfqW9uR9481f",
        "colab": {
          "base_uri": "https://localhost:8080/"
        },
        "outputId": "b3b9073c-70fd-465a-aa24-d095a37be136"
      },
      "source": [
        "lr.predict(small_test)"
      ],
      "execution_count": null,
      "outputs": [
        {
          "output_type": "execute_result",
          "data": {
            "text/plain": [
              "array([0, 0, 2, 0, 0, 2, 2, 0, 2, 0, 0, 0, 0, 2, 2, 2, 0, 0, 2, 0, 0, 0,\n",
              "       2, 2, 2, 0, 2])"
            ]
          },
          "metadata": {},
          "execution_count": 50
        }
      ]
    },
    {
      "cell_type": "code",
      "metadata": {
        "id": "DNUNJ6NLby5J",
        "colab": {
          "base_uri": "https://localhost:8080/"
        },
        "outputId": "54e60d46-1787-460f-d4c3-b53441b6ce10"
      },
      "source": [
        "lr.predict_proba(small_test)"
      ],
      "execution_count": null,
      "outputs": [
        {
          "output_type": "execute_result",
          "data": {
            "text/plain": [
              "array([[0.97834045, 0.02165955],\n",
              "       [0.93221509, 0.06778491],\n",
              "       [0.01748788, 0.98251212],\n",
              "       [0.9890649 , 0.0109351 ],\n",
              "       [0.98470954, 0.01529046],\n",
              "       [0.03657156, 0.96342844],\n",
              "       [0.01699235, 0.98300765],\n",
              "       [0.92493082, 0.07506918],\n",
              "       [0.32848902, 0.67151098],\n",
              "       [0.93628937, 0.06371063],\n",
              "       [0.96922354, 0.03077646],\n",
              "       [0.98461022, 0.01538978],\n",
              "       [0.99863668, 0.00136332],\n",
              "       [0.06992575, 0.93007425],\n",
              "       [0.01741811, 0.98258189],\n",
              "       [0.02921328, 0.97078672],\n",
              "       [0.95374787, 0.04625213],\n",
              "       [0.83327626, 0.16672374],\n",
              "       [0.01946624, 0.98053376],\n",
              "       [0.98648283, 0.01351717],\n",
              "       [0.95073645, 0.04926355],\n",
              "       [0.99575405, 0.00424595],\n",
              "       [0.18017914, 0.81982086],\n",
              "       [0.02358415, 0.97641585],\n",
              "       [0.10231262, 0.89768738],\n",
              "       [0.92836091, 0.07163909],\n",
              "       [0.04200962, 0.95799038]])"
            ]
          },
          "metadata": {},
          "execution_count": 51
        }
      ]
    },
    {
      "cell_type": "code",
      "metadata": {
        "id": "qqFys9hT4_Eo",
        "colab": {
          "base_uri": "https://localhost:8080/"
        },
        "outputId": "963885e5-bb73-4371-d225-945179f82ce9"
      },
      "source": [
        "accuracy_score(sy_test, lr.predict(small_test))"
      ],
      "execution_count": null,
      "outputs": [
        {
          "output_type": "execute_result",
          "data": {
            "text/plain": [
              "1.0"
            ]
          },
          "metadata": {},
          "execution_count": 52
        }
      ]
    },
    {
      "cell_type": "code",
      "metadata": {
        "id": "1Ei0UlN55CZ_",
        "colab": {
          "base_uri": "https://localhost:8080/"
        },
        "outputId": "fa31c7e6-4388-4e87-df8f-7e28387d8ebb"
      },
      "source": [
        "lr.coef_"
      ],
      "execution_count": null,
      "outputs": [
        {
          "output_type": "execute_result",
          "data": {
            "text/plain": [
              "array([[-0.08356991, -3.1030496 ]])"
            ]
          },
          "metadata": {},
          "execution_count": 53
        }
      ]
    },
    {
      "cell_type": "code",
      "metadata": {
        "id": "eTw2FBQh5GKr",
        "colab": {
          "base_uri": "https://localhost:8080/",
          "height": 320
        },
        "outputId": "d92cf334-b971-4c8b-cee3-ea40d4e05322"
      },
      "source": [
        "plt.scatter(small_train['ash'], small_train['flavanoids'], c=sy_train)\n",
        "\n",
        "nx, ny = 200, 100\n",
        "x_min, x_max = plt.xlim()\n",
        "y_min, y_max = plt.ylim()\n",
        "xx, yy = np.meshgrid(np.linspace(x_min, x_max, nx),\n",
        "                         np.linspace(y_min, y_max, ny))\n",
        "Z = lr.predict_proba(np.c_[xx.ravel(), yy.ravel()])\n",
        "Z = Z[:, 1].reshape(xx.shape)\n",
        "plt.pcolormesh(xx, yy, Z, cmap='red_blue_classes',\n",
        "                   norm=colors.Normalize(0., 1.), zorder=-1, shading='auto')\n",
        "plt.contour(xx, yy, Z, [0.5], linewidths=2., colors='white')\n",
        "\n",
        "plt.show()"
      ],
      "execution_count": null,
      "outputs": [
        {
          "output_type": "stream",
          "name": "stderr",
          "text": [
            "/usr/local/lib/python3.7/dist-packages/sklearn/base.py:451: UserWarning: X does not have valid feature names, but LogisticRegression was fitted with feature names\n",
            "  \"X does not have valid feature names, but\"\n"
          ]
        },
        {
          "output_type": "display_data",
          "data": {
            "text/plain": [
              "<Figure size 432x288 with 1 Axes>"
            ],
            "image/png": "[encoded data removed]"
          },
          "metadata": {
            "needs_background": "light"
          }
        }
      ]
    },
    {
      "cell_type": "markdown",
      "metadata": {
        "id": "UJefBk-e58kX"
      },
      "source": [
        "## Кластеризация"
      ]
    },
    {
      "cell_type": "code",
      "metadata": {
        "id": "ZK-UchxSXREG"
      },
      "source": [
        "# генерируем искусвтенные данные для примера\n",
        "from sklearn.datasets import make_blobs"
      ],
      "execution_count": null,
      "outputs": []
    },
    {
      "cell_type": "code",
      "metadata": {
        "id": "_NxdrQ7RXSF5"
      },
      "source": [
        "# 200 точек с 2 центрами, СКО - 2.5\n",
        "X, y = make_blobs(n_samples=200, centers=2, cluster_std=2.5)"
      ],
      "execution_count": null,
      "outputs": []
    },
    {
      "cell_type": "code",
      "metadata": {
        "id": "Ih7skwiwby5N",
        "colab": {
          "base_uri": "https://localhost:8080/"
        },
        "outputId": "8cfc04c0-b340-426c-cb04-d7b65b2ca9f8"
      },
      "source": [
        "X"
      ],
      "execution_count": null,
      "outputs": [
        {
          "output_type": "execute_result",
          "data": {
            "text/plain": [
              "array([[  3.79355711,   4.15301091],\n",
              "       [ -0.18230859,  -5.09523479],\n",
              "       [  8.55349907,   1.89169029],\n",
              "       [  1.91291742,  -0.40161151],\n",
              "       [-15.22976798,   9.76483722],\n",
              "       [-10.80896312,   7.3917021 ],\n",
              "       [  9.21808874,   0.38268935],\n",
              "       [  6.12155881,   0.4123939 ],\n",
              "       [ -9.06432653,   5.66256264],\n",
              "       [  9.22667425,   0.88690367],\n",
              "       [-10.02448842,  -0.38535732],\n",
              "       [ -9.61447039,   1.50989817],\n",
              "       [ -9.04958691,   5.33963151],\n",
              "       [-12.81854024,   8.45484327],\n",
              "       [ 13.18451561,   1.16132991],\n",
              "       [ -6.5543633 ,   3.40911597],\n",
              "       [-13.41947022,   3.10307122],\n",
              "       [  3.6752275 ,  -1.49377082],\n",
              "       [-14.95877843,   6.58018729],\n",
              "       [ -8.21904299,   8.44509117],\n",
              "       [  5.89517189,  -2.32575564],\n",
              "       [ -8.85926224,   8.34088348],\n",
              "       [ -9.68328901,  10.51209483],\n",
              "       [-11.06506231,   6.83675904],\n",
              "       [ -9.40197873,   9.79926848],\n",
              "       [  5.26216199,  -1.7596596 ],\n",
              "       [-11.63627752,   2.5147344 ],\n",
              "       [  4.47875444,   2.25754367],\n",
              "       [ -8.21174902,   3.80468439],\n",
              "       [ -9.36629894,   6.73685474],\n",
              "       [  9.9893257 ,   3.56549068],\n",
              "       [-12.47180798,   7.05583127],\n",
              "       [ -7.05524411,   9.19990304],\n",
              "       [-11.05994443,   3.6126193 ],\n",
              "       [  6.87859906,  -0.66993683],\n",
              "       [  7.15830931,  -1.35464431],\n",
              "       [-14.63560832,   4.3922744 ],\n",
              "       [  5.91287759,   1.4044712 ],\n",
              "       [-13.28334226,   5.94125552],\n",
              "       [  2.98851353,   1.5434081 ],\n",
              "       [  5.23640298,  -0.84829103],\n",
              "       [ -8.91960225,   5.35305208],\n",
              "       [  5.88944046,   0.14905677],\n",
              "       [  4.52049831,  -3.31012297],\n",
              "       [-10.8288805 ,   7.82090804],\n",
              "       [  2.60920587,   1.54784666],\n",
              "       [ -6.01463885,   3.54421846],\n",
              "       [  5.41642412,   4.81593206],\n",
              "       [ -8.72364925,   5.81349357],\n",
              "       [  6.54524331,   3.28574754],\n",
              "       [  3.19672077,  -2.43333724],\n",
              "       [  4.85099353,   4.47904493],\n",
              "       [  4.98900463,  -2.5898774 ],\n",
              "       [  5.84070197,  -2.29902743],\n",
              "       [-10.20523377,   4.15556196],\n",
              "       [ -9.54636772,   5.59272921],\n",
              "       [-12.43220755,   4.25403132],\n",
              "       [-11.57524526,   7.03601986],\n",
              "       [  4.82462978,   1.19510146],\n",
              "       [  3.03711327,   6.7656122 ],\n",
              "       [  6.62255917,  -2.74959548],\n",
              "       [  1.14227964,   1.44270974],\n",
              "       [  8.27452665,  -1.64204556],\n",
              "       [ -5.63054956,   4.77778322],\n",
              "       [  4.61959382,  -0.18035159],\n",
              "       [  7.34092127,   2.00615696],\n",
              "       [ -9.99568604,   4.95597459],\n",
              "       [  3.20532732,   2.80418964],\n",
              "       [  7.39026847,  -3.79054221],\n",
              "       [-10.03196725,   5.52062841],\n",
              "       [-14.17375393,   6.17219142],\n",
              "       [-10.214476  ,   6.9914101 ],\n",
              "       [-10.94878696,   1.68593164],\n",
              "       [ 11.09941183,  -1.53842854],\n",
              "       [  2.38060663,  -3.15486156],\n",
              "       [-11.74931594,   8.65313295],\n",
              "       [ -7.31799588,   5.51973529],\n",
              "       [-11.83139428,   8.96397886],\n",
              "       [ -6.6239215 ,   7.81258026],\n",
              "       [-13.21498379,   4.68447353],\n",
              "       [ -8.91065251,   4.34829964],\n",
              "       [ -8.18912842,   8.98877956],\n",
              "       [  5.08939811,   1.53046619],\n",
              "       [-10.82548665,   6.56215884],\n",
              "       [  7.97696322,   2.4540487 ],\n",
              "       [ -5.19809689,   4.17917106],\n",
              "       [  3.37862812,  -2.59373419],\n",
              "       [-10.44917757,   7.15596659],\n",
              "       [  9.37201083,   2.65801484],\n",
              "       [  4.37204451,   1.19704469],\n",
              "       [  9.06596212,   2.94853578],\n",
              "       [  5.25288721,  -0.29493908],\n",
              "       [  5.75916333,  -0.91882683],\n",
              "       [  6.23733852,  -1.45927588],\n",
              "       [-13.68083414,   5.26937801],\n",
              "       [  6.02254667,   8.23881509],\n",
              "       [  8.46752163,  -0.09745452],\n",
              "       [ -8.10271651,   4.84727124],\n",
              "       [  5.27548581,   1.14876676],\n",
              "       [ 10.54496311,   4.60084619],\n",
              "       [ -9.94701551,   7.11606235],\n",
              "       [  2.25743533,   0.4919208 ],\n",
              "       [  6.43203014,  -0.17000785],\n",
              "       [-15.31433086,   5.75696468],\n",
              "       [  1.95221375,  -3.77092891],\n",
              "       [  4.74576488,   4.61810403],\n",
              "       [  4.37730958,   0.09998949],\n",
              "       [  5.35115004,   3.1530506 ],\n",
              "       [  5.75290034,  -3.57535169],\n",
              "       [ -0.9063109 ,   1.33269707],\n",
              "       [ 10.66770848,   2.02715543],\n",
              "       [  3.54640654,   3.06536975],\n",
              "       [ -8.71654598,  10.76664415],\n",
              "       [ -9.60512846,   7.7827013 ],\n",
              "       [ -8.16235942,  10.09282115],\n",
              "       [ -9.53790126,   3.54193965],\n",
              "       [ -6.62472015,   3.70446907],\n",
              "       [-14.54080539,   7.12735467],\n",
              "       [ -8.55250084,   5.58460657],\n",
              "       [  7.46282058,   1.29632156],\n",
              "       [  6.7590724 ,   2.50434733],\n",
              "       [-10.65333814,  10.12874873],\n",
              "       [ -8.48588837,  11.97330489],\n",
              "       [ -8.03449098,   8.54212492],\n",
              "       [  4.14304832,   4.06347369],\n",
              "       [-12.89361293,   1.66421483],\n",
              "       [-10.68451468,   7.32380362],\n",
              "       [-13.13444793,   7.19816541],\n",
              "       [-11.4236313 ,  10.87495572],\n",
              "       [  9.15092237,  -2.68431558],\n",
              "       [  1.87852855,   0.56332328],\n",
              "       [-12.81838905,   4.13420194],\n",
              "       [-10.41601007,   6.70959172],\n",
              "       [-11.30558069,   2.27408971],\n",
              "       [ -9.04403553,   5.81510098],\n",
              "       [-13.19805751,  10.55461367],\n",
              "       [  4.28511484,  -1.78415967],\n",
              "       [ -6.69649466,   6.42590465],\n",
              "       [  3.52193448,  -3.32097987],\n",
              "       [-11.36246369,  10.64744165],\n",
              "       [ -7.20081124,  11.43839605],\n",
              "       [  7.40762412,   4.49652523],\n",
              "       [  5.19295333,   3.97395401],\n",
              "       [-12.57999388,   3.04919339],\n",
              "       [ -4.13927894,  10.42027943],\n",
              "       [-14.10591586,   7.63867974],\n",
              "       [ -5.41277507,   1.66712619],\n",
              "       [-11.92942236,   5.66820648],\n",
              "       [ -0.2982986 ,  -0.8260808 ],\n",
              "       [  6.67678567,   0.05957397],\n",
              "       [ -1.65193202,   2.80393265],\n",
              "       [  8.04347523,   1.18305157],\n",
              "       [-14.53247872,   9.11412978],\n",
              "       [-12.37477016,   9.79269588],\n",
              "       [  6.25644273,  -0.20835858],\n",
              "       [  8.10308563,   1.74771206],\n",
              "       [  2.19769625,   0.91969094],\n",
              "       [-12.55956334,   5.91044563],\n",
              "       [  6.03965096,   0.28548088],\n",
              "       [  3.55827925,  -0.99864668],\n",
              "       [ -9.14468977,   5.10410842],\n",
              "       [  2.6876291 ,  -0.72567137],\n",
              "       [-15.64072157,   5.45167117],\n",
              "       [ -7.71266874,   8.39793564],\n",
              "       [  5.83112391,   2.83698159],\n",
              "       [  3.58490665,  -0.21907491],\n",
              "       [  4.20003404,  -0.75581583],\n",
              "       [  7.68750231,   5.32174806],\n",
              "       [  5.53341632,   1.27195885],\n",
              "       [-11.83380408,   2.34726332],\n",
              "       [ 11.11546519,   3.37428898],\n",
              "       [  7.01743917,   2.43019727],\n",
              "       [ -8.92288536,   9.35592218],\n",
              "       [  6.17710772,   2.06884066],\n",
              "       [ -7.81354278,   6.55724714],\n",
              "       [-11.69206457,   6.64625045],\n",
              "       [  5.84094847,   4.0631914 ],\n",
              "       [  6.92802122,   0.76340542],\n",
              "       [-12.30929218,   4.6387077 ],\n",
              "       [  7.29017442,   1.90375011],\n",
              "       [ -9.48349765,   9.93577503],\n",
              "       [-14.19392535,   5.22506327],\n",
              "       [ -6.64824685,   9.89108038],\n",
              "       [ -7.62715067,   1.37848413],\n",
              "       [  5.29931693,   2.29022151],\n",
              "       [  8.89356124,  -1.0306124 ],\n",
              "       [ -9.16439088,   5.96103929],\n",
              "       [-14.72131369,   6.70390615],\n",
              "       [  1.49534252,   2.51963357],\n",
              "       [  3.51273338,  -1.6249214 ],\n",
              "       [ -8.40058461,   6.65196284],\n",
              "       [  9.44621705,   1.45547787],\n",
              "       [  6.17552021,  -3.64016305],\n",
              "       [  6.62765113,  -1.40566621],\n",
              "       [  0.61997118,  -2.84939907],\n",
              "       [ -8.97405608,   2.27340274],\n",
              "       [-16.60095884,   6.99196908],\n",
              "       [ -9.67043175,   7.20444617],\n",
              "       [ -9.64279903,   8.66934138],\n",
              "       [  5.1361473 ,   4.41672174]])"
            ]
          },
          "metadata": {},
          "execution_count": 57
        }
      ]
    },
    {
      "cell_type": "code",
      "metadata": {
        "id": "TjSYaC57XUeq",
        "scrolled": true,
        "colab": {
          "base_uri": "https://localhost:8080/",
          "height": 282
        },
        "outputId": "e313842b-467e-400f-f532-b093dbb949ff"
      },
      "source": [
        "plt.scatter(X[:, 0], X[:, 1], cmap='autumn', s=60)"
      ],
      "execution_count": null,
      "outputs": [
        {
          "output_type": "execute_result",
          "data": {
            "text/plain": [
              "<matplotlib.collections.PathCollection at 0x7f05516e7150>"
            ]
          },
          "metadata": {},
          "execution_count": 60
        },
        {
          "output_type": "display_data",
          "data": {
            "text/plain": [
              "<Figure size 432x288 with 1 Axes>"
            ],
            "image/png": "[encoded data removed]"
          },
          "metadata": {
            "needs_background": "light"
          }
        }
      ]
    },
    {
      "cell_type": "code",
      "metadata": {
        "id": "bWdNYOIqzzO-"
      },
      "source": [
        "# приведем данные к единому масштабу\n",
        "from sklearn.preprocessing import StandardScaler"
      ],
      "execution_count": null,
      "outputs": []
    },
    {
      "cell_type": "code",
      "metadata": {
        "id": "NzLJH0GBXGwQ"
      },
      "source": [
        "scaler = StandardScaler()"
      ],
      "execution_count": null,
      "outputs": []
    },
    {
      "cell_type": "markdown",
      "metadata": {
        "id": "JcyHcWN-by5Q"
      },
      "source": [
        "В реальных задачах при разделении выборки на train и test нужно обучать StandardScaler только на тренировочных данных (и применять уже к тестовым данным).\n"
      ]
    },
    {
      "cell_type": "code",
      "metadata": {
        "id": "ZjwJ2Nbxby5Q"
      },
      "source": [
        "v_1 = np.array(np.random.randint(0, 1000, 500))\n",
        "v_2 = np.array(np.random.randint(0, 10, 500))"
      ],
      "execution_count": null,
      "outputs": []
    },
    {
      "cell_type": "code",
      "metadata": {
        "id": "ejb3KNymby5R",
        "colab": {
          "base_uri": "https://localhost:8080/"
        },
        "outputId": "262e165c-2a5f-490f-e91a-13a0230d6c95"
      },
      "source": [
        "print(v_1.max())\n",
        "print(v_1.min())\n",
        "\n",
        "print(v_2.max())\n",
        "print(v_2.min())"
      ],
      "execution_count": null,
      "outputs": [
        {
          "output_type": "stream",
          "name": "stdout",
          "text": [
            "999\n",
            "0\n",
            "9\n",
            "0\n"
          ]
        }
      ]
    },
    {
      "cell_type": "code",
      "metadata": {
        "id": "l6wzLVZ-by5R",
        "colab": {
          "base_uri": "https://localhost:8080/"
        },
        "outputId": "a9bb7ada-7655-4a0e-9e59-97f08b855c9e"
      },
      "source": [
        "v_1_scaled = scaler.fit_transform(v_1.reshape(-1, 1))\n",
        "v_1_scaled\n",
        "v_2_scaled = scaler.fit_transform(v_2.reshape(-1, 1))\n",
        "v_2_scaled"
      ],
      "execution_count": null,
      "outputs": [
        {
          "output_type": "execute_result",
          "data": {
            "text/plain": [
              "array([[ 1.17953831],\n",
              "       [ 0.48034548],\n",
              "       [-0.56844377],\n",
              "       [ 1.52913472],\n",
              "       [-1.61723302],\n",
              "       [-1.2676366 ],\n",
              "       [-1.61723302],\n",
              "       [-1.2676366 ],\n",
              "       [-0.56844377],\n",
              "       [-1.61723302],\n",
              "       [ 1.17953831],\n",
              "       [-0.56844377],\n",
              "       [-0.91804019],\n",
              "       [ 0.48034548],\n",
              "       [-1.61723302],\n",
              "       [ 0.82994189],\n",
              "       [-0.56844377],\n",
              "       [-0.21884736],\n",
              "       [-1.2676366 ],\n",
              "       [ 0.82994189],\n",
              "       [ 1.52913472],\n",
              "       [ 0.48034548],\n",
              "       [ 0.48034548],\n",
              "       [-0.56844377],\n",
              "       [-1.2676366 ],\n",
              "       [ 1.52913472],\n",
              "       [-1.2676366 ],\n",
              "       [-1.61723302],\n",
              "       [-0.56844377],\n",
              "       [-1.2676366 ],\n",
              "       [ 1.17953831],\n",
              "       [ 0.13074906],\n",
              "       [-1.61723302],\n",
              "       [ 0.13074906],\n",
              "       [ 0.48034548],\n",
              "       [-0.91804019],\n",
              "       [-0.21884736],\n",
              "       [-0.56844377],\n",
              "       [-0.91804019],\n",
              "       [-0.91804019],\n",
              "       [ 0.48034548],\n",
              "       [-1.61723302],\n",
              "       [ 0.48034548],\n",
              "       [ 1.52913472],\n",
              "       [-0.91804019],\n",
              "       [-0.56844377],\n",
              "       [-0.21884736],\n",
              "       [ 0.82994189],\n",
              "       [ 0.13074906],\n",
              "       [-0.21884736],\n",
              "       [ 1.52913472],\n",
              "       [ 0.13074906],\n",
              "       [-1.2676366 ],\n",
              "       [-1.61723302],\n",
              "       [ 0.82994189],\n",
              "       [ 0.82994189],\n",
              "       [-0.21884736],\n",
              "       [-0.56844377],\n",
              "       [-0.56844377],\n",
              "       [-1.2676366 ],\n",
              "       [ 1.52913472],\n",
              "       [ 0.82994189],\n",
              "       [ 1.52913472],\n",
              "       [-0.56844377],\n",
              "       [-1.61723302],\n",
              "       [-0.56844377],\n",
              "       [-0.21884736],\n",
              "       [-1.2676366 ],\n",
              "       [-0.21884736],\n",
              "       [ 0.48034548],\n",
              "       [ 0.13074906],\n",
              "       [ 1.52913472],\n",
              "       [ 0.82994189],\n",
              "       [ 0.82994189],\n",
              "       [-0.91804019],\n",
              "       [ 1.52913472],\n",
              "       [-0.21884736],\n",
              "       [-1.2676366 ],\n",
              "       [ 1.17953831],\n",
              "       [-0.56844377],\n",
              "       [ 0.13074906],\n",
              "       [ 1.52913472],\n",
              "       [-1.2676366 ],\n",
              "       [ 0.13074906],\n",
              "       [-0.56844377],\n",
              "       [-0.91804019],\n",
              "       [ 0.13074906],\n",
              "       [-1.2676366 ],\n",
              "       [-0.56844377],\n",
              "       [-0.21884736],\n",
              "       [-0.91804019],\n",
              "       [ 1.52913472],\n",
              "       [-1.2676366 ],\n",
              "       [-1.2676366 ],\n",
              "       [ 1.17953831],\n",
              "       [-0.21884736],\n",
              "       [ 0.48034548],\n",
              "       [ 1.52913472],\n",
              "       [ 0.82994189],\n",
              "       [ 1.52913472],\n",
              "       [-0.21884736],\n",
              "       [ 1.17953831],\n",
              "       [ 1.17953831],\n",
              "       [ 0.13074906],\n",
              "       [ 1.52913472],\n",
              "       [-0.91804019],\n",
              "       [ 1.52913472],\n",
              "       [ 1.17953831],\n",
              "       [-1.61723302],\n",
              "       [ 0.48034548],\n",
              "       [-0.91804019],\n",
              "       [ 0.48034548],\n",
              "       [-0.91804019],\n",
              "       [-0.21884736],\n",
              "       [ 0.48034548],\n",
              "       [-0.56844377],\n",
              "       [-1.61723302],\n",
              "       [-0.91804019],\n",
              "       [ 1.52913472],\n",
              "       [-0.91804019],\n",
              "       [-0.91804019],\n",
              "       [-0.56844377],\n",
              "       [-1.2676366 ],\n",
              "       [ 0.82994189],\n",
              "       [ 1.17953831],\n",
              "       [ 0.13074906],\n",
              "       [-1.61723302],\n",
              "       [ 1.17953831],\n",
              "       [-0.56844377],\n",
              "       [ 1.52913472],\n",
              "       [ 0.82994189],\n",
              "       [ 0.13074906],\n",
              "       [ 0.13074906],\n",
              "       [ 1.52913472],\n",
              "       [-0.91804019],\n",
              "       [ 0.13074906],\n",
              "       [-0.56844377],\n",
              "       [ 0.82994189],\n",
              "       [ 1.17953831],\n",
              "       [ 1.52913472],\n",
              "       [-1.61723302],\n",
              "       [ 0.13074906],\n",
              "       [-1.61723302],\n",
              "       [-0.56844377],\n",
              "       [-0.21884736],\n",
              "       [-1.2676366 ],\n",
              "       [-0.91804019],\n",
              "       [ 0.48034548],\n",
              "       [ 0.48034548],\n",
              "       [-0.91804019],\n",
              "       [-1.61723302],\n",
              "       [ 0.13074906],\n",
              "       [ 0.48034548],\n",
              "       [-1.61723302],\n",
              "       [-0.21884736],\n",
              "       [ 1.17953831],\n",
              "       [ 0.13074906],\n",
              "       [ 0.48034548],\n",
              "       [-1.61723302],\n",
              "       [-1.2676366 ],\n",
              "       [ 0.82994189],\n",
              "       [ 1.17953831],\n",
              "       [ 1.17953831],\n",
              "       [-0.56844377],\n",
              "       [-0.91804019],\n",
              "       [-0.91804019],\n",
              "       [-1.2676366 ],\n",
              "       [-0.56844377],\n",
              "       [ 0.13074906],\n",
              "       [-0.91804019],\n",
              "       [ 0.48034548],\n",
              "       [ 1.17953831],\n",
              "       [-0.21884736],\n",
              "       [ 0.13074906],\n",
              "       [-0.56844377],\n",
              "       [ 0.82994189],\n",
              "       [-0.21884736],\n",
              "       [ 1.52913472],\n",
              "       [ 1.52913472],\n",
              "       [-0.56844377],\n",
              "       [-0.21884736],\n",
              "       [-0.21884736],\n",
              "       [ 0.13074906],\n",
              "       [ 0.82994189],\n",
              "       [ 1.52913472],\n",
              "       [ 0.82994189],\n",
              "       [ 0.82994189],\n",
              "       [-0.91804019],\n",
              "       [-0.91804019],\n",
              "       [ 0.13074906],\n",
              "       [-0.91804019],\n",
              "       [ 0.13074906],\n",
              "       [-0.56844377],\n",
              "       [ 0.82994189],\n",
              "       [-0.21884736],\n",
              "       [ 0.82994189],\n",
              "       [-0.21884736],\n",
              "       [ 0.82994189],\n",
              "       [ 1.52913472],\n",
              "       [-0.91804019],\n",
              "       [-1.61723302],\n",
              "       [ 0.82994189],\n",
              "       [ 1.17953831],\n",
              "       [ 1.17953831],\n",
              "       [-0.56844377],\n",
              "       [ 0.13074906],\n",
              "       [-0.21884736],\n",
              "       [ 0.13074906],\n",
              "       [ 0.13074906],\n",
              "       [-0.56844377],\n",
              "       [-1.2676366 ],\n",
              "       [ 0.13074906],\n",
              "       [-1.2676366 ],\n",
              "       [-0.91804019],\n",
              "       [-0.91804019],\n",
              "       [-0.56844377],\n",
              "       [-1.2676366 ],\n",
              "       [-0.21884736],\n",
              "       [ 0.13074906],\n",
              "       [-0.21884736],\n",
              "       [ 0.13074906],\n",
              "       [-1.61723302],\n",
              "       [ 0.82994189],\n",
              "       [ 0.48034548],\n",
              "       [-0.91804019],\n",
              "       [-0.56844377],\n",
              "       [-0.56844377],\n",
              "       [-1.2676366 ],\n",
              "       [-0.21884736],\n",
              "       [ 0.48034548],\n",
              "       [ 1.17953831],\n",
              "       [-0.21884736],\n",
              "       [ 1.52913472],\n",
              "       [ 0.48034548],\n",
              "       [-1.61723302],\n",
              "       [ 0.48034548],\n",
              "       [-0.21884736],\n",
              "       [ 1.17953831],\n",
              "       [-0.56844377],\n",
              "       [-0.91804019],\n",
              "       [ 1.17953831],\n",
              "       [ 1.17953831],\n",
              "       [-0.56844377],\n",
              "       [ 1.17953831],\n",
              "       [-0.56844377],\n",
              "       [-0.91804019],\n",
              "       [ 0.48034548],\n",
              "       [ 0.82994189],\n",
              "       [ 1.17953831],\n",
              "       [ 1.17953831],\n",
              "       [ 1.52913472],\n",
              "       [-1.2676366 ],\n",
              "       [ 1.17953831],\n",
              "       [-1.2676366 ],\n",
              "       [-1.61723302],\n",
              "       [-1.2676366 ],\n",
              "       [ 0.82994189],\n",
              "       [ 1.52913472],\n",
              "       [ 1.52913472],\n",
              "       [-0.91804019],\n",
              "       [-0.56844377],\n",
              "       [ 1.52913472],\n",
              "       [ 0.13074906],\n",
              "       [ 0.82994189],\n",
              "       [-0.91804019],\n",
              "       [ 0.48034548],\n",
              "       [ 0.48034548],\n",
              "       [ 0.82994189],\n",
              "       [-0.21884736],\n",
              "       [-0.91804019],\n",
              "       [ 1.52913472],\n",
              "       [ 1.17953831],\n",
              "       [ 0.82994189],\n",
              "       [ 0.82994189],\n",
              "       [ 0.48034548],\n",
              "       [ 0.82994189],\n",
              "       [-1.61723302],\n",
              "       [ 1.17953831],\n",
              "       [-1.2676366 ],\n",
              "       [ 1.17953831],\n",
              "       [ 0.13074906],\n",
              "       [ 1.52913472],\n",
              "       [ 0.82994189],\n",
              "       [-1.61723302],\n",
              "       [-1.2676366 ],\n",
              "       [ 0.13074906],\n",
              "       [-1.2676366 ],\n",
              "       [ 1.17953831],\n",
              "       [-0.91804019],\n",
              "       [ 0.13074906],\n",
              "       [-0.91804019],\n",
              "       [ 1.17953831],\n",
              "       [-1.2676366 ],\n",
              "       [ 1.17953831],\n",
              "       [ 0.48034548],\n",
              "       [ 1.52913472],\n",
              "       [ 1.52913472],\n",
              "       [-0.21884736],\n",
              "       [ 0.48034548],\n",
              "       [ 1.52913472],\n",
              "       [ 0.82994189],\n",
              "       [-0.91804019],\n",
              "       [ 0.82994189],\n",
              "       [ 0.48034548],\n",
              "       [-0.21884736],\n",
              "       [ 0.13074906],\n",
              "       [-0.56844377],\n",
              "       [-1.2676366 ],\n",
              "       [ 0.48034548],\n",
              "       [ 1.52913472],\n",
              "       [ 1.52913472],\n",
              "       [-0.21884736],\n",
              "       [-0.91804019],\n",
              "       [ 0.48034548],\n",
              "       [ 1.52913472],\n",
              "       [ 1.52913472],\n",
              "       [ 0.13074906],\n",
              "       [ 0.82994189],\n",
              "       [-1.61723302],\n",
              "       [ 0.48034548],\n",
              "       [-1.2676366 ],\n",
              "       [ 0.13074906],\n",
              "       [-0.21884736],\n",
              "       [-1.2676366 ],\n",
              "       [-1.2676366 ],\n",
              "       [-1.61723302],\n",
              "       [ 1.17953831],\n",
              "       [-0.91804019],\n",
              "       [-1.2676366 ],\n",
              "       [-1.61723302],\n",
              "       [-1.61723302],\n",
              "       [ 0.48034548],\n",
              "       [-1.61723302],\n",
              "       [ 1.52913472],\n",
              "       [-0.21884736],\n",
              "       [ 0.48034548],\n",
              "       [-1.2676366 ],\n",
              "       [ 0.13074906],\n",
              "       [ 1.52913472],\n",
              "       [-0.21884736],\n",
              "       [ 0.13074906],\n",
              "       [-0.91804019],\n",
              "       [-0.56844377],\n",
              "       [ 0.13074906],\n",
              "       [-0.91804019],\n",
              "       [ 0.82994189],\n",
              "       [ 1.52913472],\n",
              "       [ 0.82994189],\n",
              "       [ 0.13074906],\n",
              "       [-1.61723302],\n",
              "       [-1.61723302],\n",
              "       [-1.2676366 ],\n",
              "       [ 1.17953831],\n",
              "       [ 0.48034548],\n",
              "       [ 1.52913472],\n",
              "       [ 0.48034548],\n",
              "       [ 0.13074906],\n",
              "       [ 0.13074906],\n",
              "       [ 0.48034548],\n",
              "       [-1.2676366 ],\n",
              "       [ 1.17953831],\n",
              "       [-1.61723302],\n",
              "       [-1.2676366 ],\n",
              "       [ 0.48034548],\n",
              "       [ 1.52913472],\n",
              "       [ 1.17953831],\n",
              "       [-0.91804019],\n",
              "       [ 0.82994189],\n",
              "       [-0.56844377],\n",
              "       [ 1.52913472],\n",
              "       [-0.21884736],\n",
              "       [ 0.82994189],\n",
              "       [-0.91804019],\n",
              "       [-0.21884736],\n",
              "       [-0.91804019],\n",
              "       [ 0.13074906],\n",
              "       [ 0.82994189],\n",
              "       [-1.61723302],\n",
              "       [-1.2676366 ],\n",
              "       [ 0.48034548],\n",
              "       [ 0.13074906],\n",
              "       [-0.91804019],\n",
              "       [-1.61723302],\n",
              "       [ 0.82994189],\n",
              "       [-0.91804019],\n",
              "       [ 1.17953831],\n",
              "       [-0.56844377],\n",
              "       [ 0.82994189],\n",
              "       [-0.91804019],\n",
              "       [ 1.52913472],\n",
              "       [-1.2676366 ],\n",
              "       [ 1.52913472],\n",
              "       [-0.21884736],\n",
              "       [ 0.82994189],\n",
              "       [ 1.52913472],\n",
              "       [ 0.82994189],\n",
              "       [ 0.48034548],\n",
              "       [ 1.52913472],\n",
              "       [ 1.17953831],\n",
              "       [ 0.13074906],\n",
              "       [ 1.52913472],\n",
              "       [ 0.82994189],\n",
              "       [ 0.13074906],\n",
              "       [-0.21884736],\n",
              "       [ 1.52913472],\n",
              "       [-0.56844377],\n",
              "       [-1.61723302],\n",
              "       [-1.61723302],\n",
              "       [-1.2676366 ],\n",
              "       [ 0.82994189],\n",
              "       [-0.56844377],\n",
              "       [-0.56844377],\n",
              "       [ 0.13074906],\n",
              "       [ 1.17953831],\n",
              "       [ 1.17953831],\n",
              "       [-1.2676366 ],\n",
              "       [ 0.82994189],\n",
              "       [-1.2676366 ],\n",
              "       [-0.21884736],\n",
              "       [-1.2676366 ],\n",
              "       [ 0.13074906],\n",
              "       [-1.61723302],\n",
              "       [ 1.52913472],\n",
              "       [ 1.17953831],\n",
              "       [ 0.13074906],\n",
              "       [ 0.82994189],\n",
              "       [ 0.82994189],\n",
              "       [-0.21884736],\n",
              "       [-0.56844377],\n",
              "       [-1.61723302],\n",
              "       [-0.91804019],\n",
              "       [ 0.13074906],\n",
              "       [-1.61723302],\n",
              "       [-1.2676366 ],\n",
              "       [ 0.13074906],\n",
              "       [ 0.48034548],\n",
              "       [-0.91804019],\n",
              "       [-1.2676366 ],\n",
              "       [ 0.48034548],\n",
              "       [ 1.52913472],\n",
              "       [ 1.17953831],\n",
              "       [ 1.52913472],\n",
              "       [-0.21884736],\n",
              "       [ 1.52913472],\n",
              "       [ 1.17953831],\n",
              "       [ 0.82994189],\n",
              "       [-1.61723302],\n",
              "       [-1.61723302],\n",
              "       [ 0.82994189],\n",
              "       [-0.91804019],\n",
              "       [-1.61723302],\n",
              "       [ 1.17953831],\n",
              "       [ 0.13074906],\n",
              "       [ 0.48034548],\n",
              "       [-0.21884736],\n",
              "       [-1.2676366 ],\n",
              "       [ 0.13074906],\n",
              "       [-0.21884736],\n",
              "       [-0.91804019],\n",
              "       [ 1.52913472],\n",
              "       [ 1.52913472],\n",
              "       [ 0.48034548],\n",
              "       [ 0.13074906],\n",
              "       [-1.2676366 ],\n",
              "       [ 1.17953831],\n",
              "       [-0.21884736],\n",
              "       [ 0.82994189],\n",
              "       [ 0.13074906],\n",
              "       [-0.91804019],\n",
              "       [-1.61723302],\n",
              "       [-1.2676366 ],\n",
              "       [-1.2676366 ],\n",
              "       [ 0.13074906],\n",
              "       [ 0.48034548],\n",
              "       [ 0.82994189],\n",
              "       [ 0.48034548],\n",
              "       [-0.56844377],\n",
              "       [ 0.13074906],\n",
              "       [-0.56844377],\n",
              "       [-0.21884736],\n",
              "       [-1.61723302],\n",
              "       [ 1.17953831],\n",
              "       [-1.2676366 ],\n",
              "       [-0.21884736],\n",
              "       [-1.2676366 ],\n",
              "       [-0.21884736],\n",
              "       [ 0.48034548],\n",
              "       [ 1.17953831],\n",
              "       [ 0.48034548],\n",
              "       [ 1.17953831],\n",
              "       [ 0.13074906],\n",
              "       [ 0.13074906],\n",
              "       [ 0.82994189],\n",
              "       [ 0.48034548],\n",
              "       [ 1.17953831],\n",
              "       [ 0.13074906],\n",
              "       [ 0.13074906],\n",
              "       [ 1.17953831],\n",
              "       [ 0.82994189],\n",
              "       [-0.21884736]])"
            ]
          },
          "metadata": {},
          "execution_count": 65
        }
      ]
    },
    {
      "cell_type": "code",
      "metadata": {
        "id": "Q-TdaM01by5S",
        "colab": {
          "base_uri": "https://localhost:8080/"
        },
        "outputId": "6c023fa4-6196-47a0-e059-7f0476ee201e"
      },
      "source": [
        "print(v_1_scaled.max())\n",
        "print(v_1_scaled.min())\n",
        "\n",
        "print(v_2_scaled.max())\n",
        "print(v_2_scaled.min())"
      ],
      "execution_count": null,
      "outputs": [
        {
          "output_type": "stream",
          "name": "stdout",
          "text": [
            "1.761252659004656\n",
            "-1.6552885811420868\n",
            "1.5291347230701842\n",
            "-1.617233019872582\n"
          ]
        }
      ]
    },
    {
      "cell_type": "code",
      "metadata": {
        "id": "6UC4SNUdXIru",
        "colab": {
          "base_uri": "https://localhost:8080/"
        },
        "outputId": "4bf58d46-ebd8-47fb-b411-c99eb468756a"
      },
      "source": [
        "# fit-transform сразу обучается и преобразует данные\n",
        "X_scaled = scaler.fit_transform(X)\n",
        "X_scaled"
      ],
      "execution_count": null,
      "outputs": [
        {
          "output_type": "execute_result",
          "data": {
            "text/plain": [
              "array([[ 8.65943994e-01, -6.86026077e-01],\n",
              "       [-1.75496100e+00,  9.98668641e-01],\n",
              "       [-1.04853859e+00, -1.12057870e+00],\n",
              "       [-2.15102043e+00, -2.73990055e-01],\n",
              "       [-4.49359239e-01,  9.20459581e-01],\n",
              "       [-2.75165863e-01,  1.13370162e+00],\n",
              "       [ 6.31235623e-02,  1.05726648e-01],\n",
              "       [-3.05061820e-01, -1.62399584e-01],\n",
              "       [ 5.10469993e-01,  7.47440340e-01],\n",
              "       [ 1.10909806e+00, -1.18850723e+00],\n",
              "       [-6.79408623e-01,  2.86431025e+00],\n",
              "       [ 1.36640632e+00,  1.00136948e+00],\n",
              "       [ 5.77691548e-01, -3.39274031e-01],\n",
              "       [-2.07168572e-01, -1.48960448e+00],\n",
              "       [ 3.87982516e-01,  1.06637229e+00],\n",
              "       [ 1.16219890e+00,  1.06966638e+00],\n",
              "       [ 1.85057879e+00,  1.34872736e+00],\n",
              "       [-1.04160520e-01, -1.78359459e+00],\n",
              "       [-1.88115591e+00,  1.32562288e-01],\n",
              "       [ 2.39916913e-02,  9.72485686e-01],\n",
              "       [-4.09431073e-01, -1.43371615e+00],\n",
              "       [-6.55338084e-01,  9.94537556e-01],\n",
              "       [-7.31652771e-01, -9.63422714e-01],\n",
              "       [ 1.52661009e+00,  2.94951403e-01],\n",
              "       [-2.51812561e-01, -2.02365032e-01],\n",
              "       [ 1.20593608e+00, -4.01734268e-01],\n",
              "       [ 1.97822545e-01, -5.87932456e-01],\n",
              "       [-7.93343146e-01,  1.52029662e+00],\n",
              "       [ 1.10470155e+00,  2.95075591e-01],\n",
              "       [-2.76800882e+00, -5.20101876e-01],\n",
              "       [ 1.47515655e+00, -1.71078039e-01],\n",
              "       [-4.43146155e-01, -1.84621840e+00],\n",
              "       [ 1.54912689e+00, -8.60235979e-01],\n",
              "       [ 4.29598268e-01, -2.81423034e-01],\n",
              "       [ 2.95532106e-01, -6.75816894e-01],\n",
              "       [ 5.57527984e-01, -1.60617567e+00],\n",
              "       [ 3.79823621e-01,  1.79438242e-01],\n",
              "       [ 1.86884032e+00,  7.24296090e-01],\n",
              "       [-6.80141685e-01, -2.77381944e-01],\n",
              "       [ 1.50992647e+00,  6.31257873e-01],\n",
              "       [ 1.47182085e+00,  5.34721007e-01],\n",
              "       [ 5.40667243e-01,  1.72064258e+00],\n",
              "       [ 1.87294789e+00,  1.38212737e+00],\n",
              "       [ 9.61080613e-01,  5.10259771e-01],\n",
              "       [-3.67316398e-01,  9.89768812e-02],\n",
              "       [-5.04114334e-01,  2.49264905e-01],\n",
              "       [-4.70744946e-01,  1.02945772e+00],\n",
              "       [-8.35566955e-01, -1.61757529e+00],\n",
              "       [ 2.43672351e-01, -1.15792816e+00],\n",
              "       [-1.89111013e-01, -8.18302324e-01],\n",
              "       [-4.75008955e-01,  1.64271777e+00],\n",
              "       [-7.24756118e-01,  1.46954294e+00],\n",
              "       [ 1.11432419e+00, -1.37647714e-01],\n",
              "       [ 1.37341220e+00,  6.18543143e-03],\n",
              "       [-1.26001964e+00,  1.60326447e+00],\n",
              "       [-9.09684562e-03, -1.60173028e+00],\n",
              "       [ 1.59613833e+00,  5.88024561e-01],\n",
              "       [-4.70832358e-01, -1.42059396e+00],\n",
              "       [ 1.58767570e+00,  1.43640299e+00],\n",
              "       [ 1.72439269e-01, -1.13153377e+00],\n",
              "       [-5.37037531e-01,  3.55832214e-01],\n",
              "       [ 4.74542953e-01, -6.59177162e-02],\n",
              "       [ 5.01600404e-01, -8.90165131e-01],\n",
              "       [ 1.40618546e-01,  1.42921333e-01],\n",
              "       [ 3.36872253e-01,  1.21451669e-01],\n",
              "       [ 4.28749729e-01,  2.21806475e+00],\n",
              "       [ 5.22612237e-01, -1.58678540e+00],\n",
              "       [-5.56596186e-01,  3.46032647e-01],\n",
              "       [-6.54136095e-01,  1.52388354e+00],\n",
              "       [ 1.42277966e-01,  1.05447538e+00],\n",
              "       [-7.72191221e-01, -9.09789372e-01],\n",
              "       [ 8.51637831e-01,  2.97079469e-01],\n",
              "       [ 3.43507393e-01,  1.92515888e+00],\n",
              "       [ 8.00779627e-01, -2.35684596e+00],\n",
              "       [ 6.54670539e-01, -9.83135440e-03],\n",
              "       [ 1.27383639e+00,  6.85586737e-01],\n",
              "       [-7.70192846e-01, -1.74460294e+00],\n",
              "       [-3.95994680e-01, -3.02624843e-02],\n",
              "       [ 1.30608073e-02, -2.13365201e-02],\n",
              "       [-1.72576269e+00,  2.39565612e+00],\n",
              "       [ 7.37230245e-01, -9.76573190e-01],\n",
              "       [ 9.96699344e-01, -1.34979508e+00],\n",
              "       [-2.84033540e-01,  5.07913860e-01],\n",
              "       [-3.66398736e-01, -4.48433406e-01],\n",
              "       [ 2.90784949e-01, -1.93266648e-01],\n",
              "       [ 1.37579325e-01, -1.28366569e+00],\n",
              "       [-1.38448186e+00,  6.25794764e-01],\n",
              "       [ 4.91643424e-01,  1.25845972e+00],\n",
              "       [ 9.12757357e-02, -5.51005976e-02],\n",
              "       [ 3.21740428e-01, -1.54564203e-01],\n",
              "       [ 2.68156775e-01, -1.98505894e+00],\n",
              "       [ 1.31022884e+00, -2.10518623e+00],\n",
              "       [-1.00971494e+00,  1.85164597e-01],\n",
              "       [-7.02658095e-01, -1.17964906e+00],\n",
              "       [-1.65362225e+00, -8.01829999e-01],\n",
              "       [ 1.72183292e+00, -1.11489126e+00],\n",
              "       [-6.03422496e-01, -1.47530152e+00],\n",
              "       [-9.80183091e-01,  4.60830141e-01],\n",
              "       [ 2.40157907e-01, -1.19315601e-01],\n",
              "       [-1.17375065e+00, -1.06785220e+00],\n",
              "       [-1.25336833e+00, -5.37558797e-01],\n",
              "       [-6.74894062e-01, -3.09238193e-01],\n",
              "       [-6.82172009e-01,  9.79066731e-01],\n",
              "       [-2.05552702e+00, -1.24056810e+00],\n",
              "       [ 5.42339388e-02, -7.60097179e-01],\n",
              "       [ 3.97548450e-01, -8.85292116e-01],\n",
              "       [ 7.98942003e-01,  1.86989033e-01],\n",
              "       [-1.29738224e-01,  9.34744092e-01],\n",
              "       [ 2.89705937e-01, -3.39895868e-01],\n",
              "       [-1.16751546e-01, -6.70209566e-01],\n",
              "       [ 1.10775102e+00,  1.85427923e+00],\n",
              "       [-5.88098084e-01, -2.26554415e-01],\n",
              "       [ 1.07083481e+00,  3.15135046e-02],\n",
              "       [ 7.96437790e-01,  7.26738633e-01],\n",
              "       [-1.88042428e+00,  1.41991726e+00],\n",
              "       [ 1.56989436e+00, -1.38932872e+00],\n",
              "       [-1.21809046e+00, -1.69152979e-01],\n",
              "       [-4.57521699e-01,  9.00192912e-01],\n",
              "       [-1.15281912e+00,  1.67586538e-01],\n",
              "       [-9.70158878e-01, -4.85122424e-01],\n",
              "       [-2.89098521e-01, -7.46577376e-01],\n",
              "       [-3.76663214e-01, -7.89510137e-02],\n",
              "       [ 3.89274561e-01, -4.97823253e-01],\n",
              "       [-1.60866905e+00,  1.76918817e+00],\n",
              "       [ 1.62603952e+00,  2.49447795e-01],\n",
              "       [-1.21921102e+00,  8.99463490e-02],\n",
              "       [-6.80180240e-02, -6.27760129e-02],\n",
              "       [-3.87155065e-01, -1.28521090e-01],\n",
              "       [-3.28463176e-02, -1.32629953e+00],\n",
              "       [-1.19935037e+00,  1.90345179e+00],\n",
              "       [-1.86605256e+00,  1.26610919e+00],\n",
              "       [ 5.86081308e-01, -1.08704978e+00],\n",
              "       [ 1.34547501e+00, -1.78024706e+00],\n",
              "       [ 1.03482485e+00, -4.37232797e-01],\n",
              "       [ 6.30461711e-01, -1.68687191e-02],\n",
              "       [ 1.87822127e+00,  5.25934486e-01],\n",
              "       [-1.90840259e-01,  4.75977283e-03],\n",
              "       [-1.02251912e+00,  5.67486002e-01],\n",
              "       [ 1.10272237e-02,  6.34110937e-01],\n",
              "       [-6.72990941e-01, -1.29683974e+00],\n",
              "       [ 8.53924077e-01,  5.06759351e-01],\n",
              "       [ 4.41707311e-01, -8.88138091e-01],\n",
              "       [-2.29096627e-01,  3.76450880e-02],\n",
              "       [-6.56343943e-01, -7.49928844e-01],\n",
              "       [-1.10629502e+00, -2.23342760e-01],\n",
              "       [-8.21729270e-01,  5.07303342e-01],\n",
              "       [ 1.00923634e+00, -1.60133872e-01],\n",
              "       [ 1.47534158e+00,  1.75660546e+00],\n",
              "       [-9.88326407e-01, -1.28778835e+00],\n",
              "       [ 3.29367186e-01,  6.02876065e-01],\n",
              "       [-1.78808768e+00, -7.80918418e-01],\n",
              "       [-2.72369598e-02, -5.48928609e-01],\n",
              "       [-1.17208709e+00,  2.28352400e+00],\n",
              "       [ 2.24280415e-01,  2.20677494e+00],\n",
              "       [ 7.91782608e-02, -6.61499355e-01],\n",
              "       [-6.51771344e-01, -1.72850128e+00],\n",
              "       [ 9.51604944e-01, -9.67630220e-01],\n",
              "       [-4.34317318e-01, -3.26198558e-01],\n",
              "       [-1.13761433e-01, -8.07351387e-01],\n",
              "       [ 2.37236332e-01, -4.02581836e-01],\n",
              "       [-6.63621259e-01,  2.15311228e-01],\n",
              "       [-1.73816815e+00,  1.88550217e-01],\n",
              "       [ 1.11349975e+00,  3.41274071e-01],\n",
              "       [ 7.53133059e-01, -6.45837057e-01],\n",
              "       [-7.07401781e-01,  1.02986954e+00],\n",
              "       [ 1.10607680e+00,  1.99036678e-01],\n",
              "       [-2.20929030e+00,  6.42862362e-01],\n",
              "       [-2.63126672e-01, -1.42518199e-03],\n",
              "       [-1.71672594e+00,  1.69724662e-01],\n",
              "       [-5.93097334e-01,  5.69301413e-01],\n",
              "       [ 1.65621103e+00,  1.12484935e+00],\n",
              "       [-6.00562165e-01, -4.29339862e-01],\n",
              "       [ 6.31596803e-01, -2.20431938e-01],\n",
              "       [ 1.83030818e-01, -1.31280498e+00],\n",
              "       [-5.35237062e-01, -6.74148352e-01],\n",
              "       [ 4.13972208e-01, -4.13505554e-01],\n",
              "       [-8.72542521e-01,  3.05681227e-03],\n",
              "       [ 1.24102187e-01,  1.33333205e+00],\n",
              "       [ 1.08958763e+00, -1.15241247e-01],\n",
              "       [ 4.52883727e-01,  5.52100040e-01],\n",
              "       [ 7.67488238e-01,  4.93838898e-01],\n",
              "       [ 9.72324809e-01, -5.05205515e-01],\n",
              "       [ 8.40904561e-01,  2.13250444e-01],\n",
              "       [-1.29799974e+00,  4.10712726e-01],\n",
              "       [ 5.92424950e-01,  1.39019195e+00],\n",
              "       [-5.38904786e-01,  3.55658597e-01],\n",
              "       [ 8.69040444e-01, -1.06522184e-01],\n",
              "       [ 1.15156912e+00, -4.38138677e-01],\n",
              "       [ 1.15590255e+00,  7.40102081e-01],\n",
              "       [-3.14585876e+00,  1.30088277e+00],\n",
              "       [ 7.65779867e-01,  2.18774934e-01],\n",
              "       [ 1.67235534e+00, -1.10932683e+00],\n",
              "       [-4.74520799e-01, -3.76269937e-02],\n",
              "       [ 1.42997218e-02, -2.53994937e-01],\n",
              "       [-1.27335341e+00,  6.85500258e-01],\n",
              "       [-2.66851185e-01, -3.77527579e-01],\n",
              "       [ 2.89466073e-01,  1.09380317e+00],\n",
              "       [ 7.53049874e-01,  8.81911112e-01],\n",
              "       [ 9.64109289e-01, -1.72257789e+00],\n",
              "       [-2.10088966e+00, -5.92373918e-01]])"
            ]
          },
          "metadata": {},
          "execution_count": 67
        }
      ]
    },
    {
      "cell_type": "code",
      "metadata": {
        "id": "TRnNnC3kXbcr",
        "colab": {
          "base_uri": "https://localhost:8080/",
          "height": 282
        },
        "outputId": "9723c6f2-281a-443e-b276-9a6ce4e7bb8a"
      },
      "source": [
        "plt.scatter(X_scaled[:, 0], X_scaled[:, 1],cmap='autumn', s=60)"
      ],
      "execution_count": null,
      "outputs": [
        {
          "output_type": "execute_result",
          "data": {
            "text/plain": [
              "<matplotlib.collections.PathCollection at 0x7f0551662dd0>"
            ]
          },
          "metadata": {},
          "execution_count": 68
        },
        {
          "output_type": "display_data",
          "data": {
            "text/plain": [
              "<Figure size 432x288 with 1 Axes>"
            ],
            "image/png": "[encoded data removed]"
          },
          "metadata": {
            "needs_background": "light"
          }
        }
      ]
    },
    {
      "cell_type": "code",
      "metadata": {
        "id": "XftqUwUlYLIj"
      },
      "source": [
        "from sklearn.cluster import KMeans"
      ],
      "execution_count": null,
      "outputs": []
    },
    {
      "cell_type": "code",
      "metadata": {
        "id": "7PkhGAB-YN1C",
        "colab": {
          "base_uri": "https://localhost:8080/"
        },
        "outputId": "33ee0838-30b9-45da-ce93-ce5dc7e45643"
      },
      "source": [
        "# явно указываем количество кластеров\n",
        "kmeans = KMeans(n_clusters=3)\n",
        "# fit_predict обучается на данных и каждому объекту присваивает кластер\n",
        "clusters = kmeans.fit_predict(X_scaled)\n",
        "clusters"
      ],
      "execution_count": null,
      "outputs": [
        {
          "output_type": "execute_result",
          "data": {
            "text/plain": [
              "array([2, 1, 2, 1, 1, 1, 2, 2, 0, 2, 1, 0, 2, 2, 0, 0, 0, 2, 1, 0, 2, 1,\n",
              "       2, 0, 2, 0, 2, 1, 0, 1, 0, 2, 2, 2, 2, 2, 0, 0, 2, 0, 0, 0, 0, 0,\n",
              "       1, 1, 1, 2, 2, 2, 1, 1, 0, 0, 1, 2, 0, 2, 0, 2, 1, 2, 2, 2, 0, 0,\n",
              "       2, 1, 1, 0, 2, 0, 0, 2, 0, 0, 2, 2, 2, 1, 2, 2, 1, 2, 2, 2, 1, 0,\n",
              "       2, 2, 2, 2, 1, 2, 1, 2, 2, 1, 2, 2, 1, 2, 1, 1, 2, 2, 0, 0, 2, 2,\n",
              "       0, 2, 0, 0, 1, 2, 1, 1, 1, 2, 2, 2, 2, 1, 0, 1, 2, 2, 2, 1, 1, 2,\n",
              "       2, 2, 0, 0, 2, 1, 0, 2, 0, 2, 2, 2, 1, 1, 0, 0, 2, 0, 1, 2, 1, 0,\n",
              "       2, 2, 2, 2, 2, 2, 1, 1, 0, 2, 1, 0, 1, 2, 1, 1, 0, 2, 2, 2, 2, 2,\n",
              "       1, 0, 0, 0, 0, 2, 0, 1, 0, 1, 0, 2, 0, 1, 0, 2, 2, 2, 1, 2, 0, 0,\n",
              "       2, 1], dtype=int32)"
            ]
          },
          "metadata": {},
          "execution_count": 74
        }
      ]
    },
    {
      "cell_type": "code",
      "metadata": {
        "id": "EIhtpQU4YXiR",
        "colab": {
          "base_uri": "https://localhost:8080/",
          "height": 282
        },
        "outputId": "eac8a7db-672a-45fb-dec6-6efe39fe44eb"
      },
      "source": [
        "plt.scatter(X_scaled[:, 0], X_scaled[:, 1], cmap='autumn', c=clusters, s=60)"
      ],
      "execution_count": null,
      "outputs": [
        {
          "output_type": "execute_result",
          "data": {
            "text/plain": [
              "<matplotlib.collections.PathCollection at 0x7f0551911390>"
            ]
          },
          "metadata": {},
          "execution_count": 75
        },
        {
          "output_type": "display_data",
          "data": {
            "text/plain": [
              "<Figure size 432x288 with 1 Axes>"
            ],
            "image/png": "[encoded data removed]"
          },
          "metadata": {
            "needs_background": "light"
          }
        }
      ]
    },
    {
      "cell_type": "code",
      "metadata": {
        "id": "JakzZ_1WYbgI"
      },
      "source": [
        "# строим график локтя\n",
        "\n",
        "# создаем список для инерции\n",
        "k_inertia = []\n",
        "# задаем диапазон кластеров\n",
        "ks = range(1, 20)\n",
        "\n",
        "for k in ks:\n",
        "    clf_kmeans = KMeans(n_clusters=k)\n",
        "    clusters_kmeans = clf_kmeans.fit_predict(X_scaled)\n",
        "    # добавляем инерцию каждой модели в список\n",
        "    k_inertia.append(clf_kmeans.inertia_)"
      ],
      "execution_count": null,
      "outputs": []
    },
    {
      "cell_type": "code",
      "metadata": {
        "id": "BL2K84DOYzQp",
        "colab": {
          "base_uri": "https://localhost:8080/",
          "height": 282
        },
        "outputId": "5039eeaa-61cd-494b-caa8-4b8e9ef84a6d"
      },
      "source": [
        "plt.plot(ks, k_inertia)\n",
        "plt.plot(ks, k_inertia ,'ro')"
      ],
      "execution_count": null,
      "outputs": [
        {
          "output_type": "execute_result",
          "data": {
            "text/plain": [
              "[<matplotlib.lines.Line2D at 0x7f0554c0ccd0>]"
            ]
          },
          "metadata": {},
          "execution_count": 77
        },
        {
          "output_type": "display_data",
          "data": {
            "text/plain": [
              "<Figure size 432x288 with 1 Axes>"
            ],
            "image/png": "[encoded data removed]"
          },
          "metadata": {
            "needs_background": "light"
          }
        }
      ]
    },
    {
      "cell_type": "markdown",
      "metadata": {
        "id": "07VGmeIrby5U"
      },
      "source": [
        "Иерархическая кластеризация"
      ]
    },
    {
      "cell_type": "code",
      "metadata": {
        "id": "wGWt37snY1ak"
      },
      "source": [
        "from scipy.spatial.distance import pdist\n",
        "from scipy.cluster import hierarchy"
      ],
      "execution_count": null,
      "outputs": []
    },
    {
      "cell_type": "code",
      "metadata": {
        "id": "UL2QOOH_Y8vL",
        "colab": {
          "base_uri": "https://localhost:8080/",
          "height": 537
        },
        "outputId": "2be13350-fd10-41d2-8845-8e6d38f71210"
      },
      "source": [
        "# строим дендрограмму\n",
        "distance_mat = pdist(X_scaled) # pdist посчитает нам матрицу попарных расстояний между точками\n",
        "# Z = hierarchy.linkage(distance_mat) # linkage — реализация агломеративного алгоритма\n",
        "Z = hierarchy.linkage(distance_mat, 'ward')\n",
        "plt.figure(figsize=(20, 9))\n",
        "dn = hierarchy.dendrogram(Z)"
      ],
      "execution_count": null,
      "outputs": [
        {
          "output_type": "display_data",
          "data": {
            "text/plain": [
              "<Figure size 1440x648 with 1 Axes>"
            ],
            "image/png": "[encoded data removed]"
          },
          "metadata": {
            "needs_background": "light"
          }
        }
      ]
    },
    {
      "cell_type": "code",
      "metadata": {
        "id": "K_0ejaBzZBIv"
      },
      "source": [
        "# делаем уже кластеризацию по факту\n",
        "from sklearn.cluster import AgglomerativeClustering"
      ],
      "execution_count": null,
      "outputs": []
    },
    {
      "cell_type": "code",
      "metadata": {
        "id": "wjEgXrmpZVrY",
        "colab": {
          "base_uri": "https://localhost:8080/"
        },
        "outputId": "d1a3b2be-f9e1-41e5-dfee-f073622d44d8"
      },
      "source": [
        "aglo = AgglomerativeClustering(n_clusters=3)\n",
        "clusters = aglo.fit_predict(X_scaled)\n",
        "clusters"
      ],
      "execution_count": null,
      "outputs": [
        {
          "output_type": "execute_result",
          "data": {
            "text/plain": [
              "array([1, 0, 1, 0, 0, 0, 1, 1, 0, 1, 0, 2, 1, 1, 0, 2, 2, 1, 0, 0, 1, 0,\n",
              "       1, 2, 1, 2, 1, 0, 2, 0, 2, 1, 1, 1, 1, 1, 1, 2, 1, 2, 2, 0, 2, 2,\n",
              "       1, 0, 0, 1, 1, 1, 0, 0, 2, 2, 0, 1, 2, 1, 2, 1, 0, 1, 1, 1, 1, 0,\n",
              "       1, 0, 0, 0, 1, 2, 0, 1, 1, 2, 1, 1, 1, 0, 1, 1, 0, 1, 1, 1, 0, 0,\n",
              "       1, 1, 1, 1, 0, 1, 0, 1, 1, 0, 1, 1, 0, 1, 0, 0, 1, 1, 2, 0, 1, 1,\n",
              "       2, 1, 2, 2, 0, 1, 0, 0, 0, 0, 1, 1, 1, 0, 2, 0, 1, 1, 1, 0, 0, 1,\n",
              "       1, 2, 1, 2, 1, 0, 0, 1, 2, 1, 1, 1, 0, 0, 2, 2, 1, 0, 0, 1, 0, 0,\n",
              "       1, 1, 1, 1, 1, 1, 0, 0, 2, 1, 0, 2, 0, 1, 0, 0, 2, 1, 1, 1, 1, 1,\n",
              "       0, 0, 2, 0, 2, 2, 2, 0, 0, 0, 2, 2, 2, 0, 2, 1, 1, 1, 0, 1, 0, 2,\n",
              "       1, 0])"
            ]
          },
          "metadata": {},
          "execution_count": 83
        }
      ]
    },
    {
      "cell_type": "code",
      "metadata": {
        "id": "Us0SDSD1ZtX7",
        "colab": {
          "base_uri": "https://localhost:8080/",
          "height": 282
        },
        "outputId": "dfe52c9e-1108-44a2-f5d8-facc247884cc"
      },
      "source": [
        "plt.scatter(X_scaled[:, 0], X_scaled[:, 1],cmap='autumn', c=clusters, s=60)"
      ],
      "execution_count": null,
      "outputs": [
        {
          "output_type": "execute_result",
          "data": {
            "text/plain": [
              "<matplotlib.collections.PathCollection at 0x7f054d5d71d0>"
            ]
          },
          "metadata": {},
          "execution_count": 84
        },
        {
          "output_type": "display_data",
          "data": {
            "text/plain": [
              "<Figure size 432x288 with 1 Axes>"
            ],
            "image/png": "[encoded data removed]"
          },
          "metadata": {
            "needs_background": "light"
          }
        }
      ]
    },
    {
      "cell_type": "code",
      "metadata": {
        "id": "tPUIlJOaZv5J",
        "colab": {
          "base_uri": "https://localhost:8080/",
          "height": 423
        },
        "outputId": "73dd0890-53bd-4dbf-e64a-0c127e211050"
      },
      "source": [
        "df = pd.DataFrame(X)\n",
        "df['y_hat'] = clusters\n",
        "df"
      ],
      "execution_count": null,
      "outputs": [
        {
          "output_type": "execute_result",
          "data": {
            "text/plain": [
              "            0          1  y_hat\n",
              "0   -0.130087  -8.300942      1\n",
              "1   -7.546668  -4.025363      0\n",
              "2   -5.547649  -9.403791      1\n",
              "3   -8.667429  -7.255237      0\n",
              "4   -3.852104  -4.223849      0\n",
              "..        ...        ...    ...\n",
              "195 -3.335647  -7.518005      1\n",
              "196 -1.761392  -3.783921      0\n",
              "197 -0.449553  -4.321681      2\n",
              "198  0.147699 -10.931602      1\n",
              "199 -8.525570  -8.063262      0\n",
              "\n",
              "[200 rows x 3 columns]"
            ],
            "text/html": [
              "\n",
              "  <div id=\"df-95f399c7-28b2-4b2e-b874-f54dfc5fd99c\">\n",
              "    <div class=\"colab-df-container\">\n",
              "      <div>\n",
              "<style scoped>\n",
              "    .dataframe tbody tr th:only-of-type {\n",
              "        vertical-align: middle;\n",
              "    }\n",
              "\n",
              "    .dataframe tbody tr th {\n",
              "        vertical-align: top;\n",
              "    }\n",
              "\n",
              "    .dataframe thead th {\n",
              "        text-align: right;\n",
              "    }\n",
              "</style>\n",
              "<table border=\"1\" class=\"dataframe\">\n",
              "  <thead>\n",
              "    <tr style=\"text-align: right;\">\n",
              "      <th></th>\n",
              "      <th>0</th>\n",
              "      <th>1</th>\n",
              "      <th>y_hat</th>\n",
              "    </tr>\n",
              "  </thead>\n",
              "  <tbody>\n",
              "    <tr>\n",
              "      <th>0</th>\n",
              "      <td>-0.130087</td>\n",
              "      <td>-8.300942</td>\n",
              "      <td>1</td>\n",
              "    </tr>\n",
              "    <tr>\n",
              "      <th>1</th>\n",
              "      <td>-7.546668</td>\n",
              "      <td>-4.025363</td>\n",
              "      <td>0</td>\n",
              "    </tr>\n",
              "    <tr>\n",
              "      <th>2</th>\n",
              "      <td>-5.547649</td>\n",
              "      <td>-9.403791</td>\n",
              "      <td>1</td>\n",
              "    </tr>\n",
              "    <tr>\n",
              "      <th>3</th>\n",
              "      <td>-8.667429</td>\n",
              "      <td>-7.255237</td>\n",
              "      <td>0</td>\n",
              "    </tr>\n",
              "    <tr>\n",
              "      <th>4</th>\n",
              "      <td>-3.852104</td>\n",
              "      <td>-4.223849</td>\n",
              "      <td>0</td>\n",
              "    </tr>\n",
              "    <tr>\n",
              "      <th>...</th>\n",
              "      <td>...</td>\n",
              "      <td>...</td>\n",
              "      <td>...</td>\n",
              "    </tr>\n",
              "    <tr>\n",
              "      <th>195</th>\n",
              "      <td>-3.335647</td>\n",
              "      <td>-7.518005</td>\n",
              "      <td>1</td>\n",
              "    </tr>\n",
              "    <tr>\n",
              "      <th>196</th>\n",
              "      <td>-1.761392</td>\n",
              "      <td>-3.783921</td>\n",
              "      <td>0</td>\n",
              "    </tr>\n",
              "    <tr>\n",
              "      <th>197</th>\n",
              "      <td>-0.449553</td>\n",
              "      <td>-4.321681</td>\n",
              "      <td>2</td>\n",
              "    </tr>\n",
              "    <tr>\n",
              "      <th>198</th>\n",
              "      <td>0.147699</td>\n",
              "      <td>-10.931602</td>\n",
              "      <td>1</td>\n",
              "    </tr>\n",
              "    <tr>\n",
              "      <th>199</th>\n",
              "      <td>-8.525570</td>\n",
              "      <td>-8.063262</td>\n",
              "      <td>0</td>\n",
              "    </tr>\n",
              "  </tbody>\n",
              "</table>\n",
              "<p>200 rows × 3 columns</p>\n",
              "</div>\n",
              "      <button class=\"colab-df-convert\" onclick=\"convertToInteractive('df-95f399c7-28b2-4b2e-b874-f54dfc5fd99c')\"\n",
              "              title=\"Convert this dataframe to an interactive table.\"\n",
              "              style=\"display:none;\">\n",
              "        \n",
              "  <svg xmlns=\"http://www.w3.org/2000/svg\" height=\"24px\"viewBox=\"0 0 24 24\"\n",
              "       width=\"24px\">\n",
              "    <path d=\"M0 0h24v24H0V0z\" fill=\"none\"/>\n",
              "    <path d=\"M18.56 5.44l.94 2.06.94-2.06 2.06-.94-2.06-.94-.94-2.06-.94 2.06-2.06.94zm-11 1L8.5 8.5l.94-2.06 2.06-.94-2.06-.94L8.5 2.5l-.94 2.06-2.06.94zm10 10l.94 2.06.94-2.06 2.06-.94-2.06-.94-.94-2.06-.94 2.06-2.06.94z\"/><path d=\"M17.41 7.96l-1.37-1.37c-.4-.4-.92-.59-1.43-.59-.52 0-1.04.2-1.43.59L10.3 9.45l-7.72 7.72c-.78.78-.78 2.05 0 2.83L4 21.41c.39.39.9.59 1.41.59.51 0 1.02-.2 1.41-.59l7.78-7.78 2.81-2.81c.8-.78.8-2.07 0-2.86zM5.41 20L4 18.59l7.72-7.72 1.47 1.35L5.41 20z\"/>\n",
              "  </svg>\n",
              "      </button>\n",
              "      \n",
              "  <style>\n",
              "    .colab-df-container {\n",
              "      display:flex;\n",
              "      flex-wrap:wrap;\n",
              "      gap: 12px;\n",
              "    }\n",
              "\n",
              "    .colab-df-convert {\n",
              "      background-color: #E8F0FE;\n",
              "      border: none;\n",
              "      border-radius: 50%;\n",
              "      cursor: pointer;\n",
              "      display: none;\n",
              "      fill: #1967D2;\n",
              "      height: 32px;\n",
              "      padding: 0 0 0 0;\n",
              "      width: 32px;\n",
              "    }\n",
              "\n",
              "    .colab-df-convert:hover {\n",
              "      background-color: #E2EBFA;\n",
              "      box-shadow: 0px 1px 2px rgba(60, 64, 67, 0.3), 0px 1px 3px 1px rgba(60, 64, 67, 0.15);\n",
              "      fill: #174EA6;\n",
              "    }\n",
              "\n",
              "    [theme=dark] .colab-df-convert {\n",
              "      background-color: #3B4455;\n",
              "      fill: #D2E3FC;\n",
              "    }\n",
              "\n",
              "    [theme=dark] .colab-df-convert:hover {\n",
              "      background-color: #434B5C;\n",
              "      box-shadow: 0px 1px 3px 1px rgba(0, 0, 0, 0.15);\n",
              "      filter: drop-shadow(0px 1px 2px rgba(0, 0, 0, 0.3));\n",
              "      fill: #FFFFFF;\n",
              "    }\n",
              "  </style>\n",
              "\n",
              "      <script>\n",
              "        const buttonEl =\n",
              "          document.querySelector('#df-95f399c7-28b2-4b2e-b874-f54dfc5fd99c button.colab-df-convert');\n",
              "        buttonEl.style.display =\n",
              "          google.colab.kernel.accessAllowed ? 'block' : 'none';\n",
              "\n",
              "        async function convertToInteractive(key) {\n",
              "          const element = document.querySelector('#df-95f399c7-28b2-4b2e-b874-f54dfc5fd99c');\n",
              "          const dataTable =\n",
              "            await google.colab.kernel.invokeFunction('convertToInteractive',\n",
              "                                                     [key], {});\n",
              "          if (!dataTable) return;\n",
              "\n",
              "          const docLinkHtml = 'Like what you see? Visit the ' +\n",
              "            '<a target=\"_blank\" href=https://colab.research.google.com/notebooks/data_table.ipynb>data table notebook</a>'\n",
              "            + ' to learn more about interactive tables.';\n",
              "          element.innerHTML = '';\n",
              "          dataTable['output_type'] = 'display_data';\n",
              "          await google.colab.output.renderOutput(dataTable, element);\n",
              "          const docLink = document.createElement('div');\n",
              "          docLink.innerHTML = docLinkHtml;\n",
              "          element.appendChild(docLink);\n",
              "        }\n",
              "      </script>\n",
              "    </div>\n",
              "  </div>\n",
              "  "
            ]
          },
          "metadata": {},
          "execution_count": 85
        }
      ]
    },
    {
      "cell_type": "code",
      "metadata": {
        "id": "CBOo1CERby5W"
      },
      "source": [
        ""
      ],
      "execution_count": null,
      "outputs": []
    }
  ]
}