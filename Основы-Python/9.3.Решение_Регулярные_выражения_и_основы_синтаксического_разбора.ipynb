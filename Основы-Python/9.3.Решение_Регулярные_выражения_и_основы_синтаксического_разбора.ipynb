{
  "nbformat": 4,
  "nbformat_minor": 0,
  "metadata": {
    "colab": {
      "name": "Регулярные выражения и основы синтаксического разбора.ipynb",
      "provenance": [],
      "collapsed_sections": []
    },
    "kernelspec": {
      "name": "python3",
      "display_name": "Python 3"
    },
    "language_info": {
      "name": "python"
    }
  },
  "cells": [
    {
      "cell_type": "markdown",
      "source": [
        "# Задание 1\n",
        "Напишите функцию, которая принимает на вход строку и проверяет является ли она валидным транспортным номером (1 буква, 3 цифры, 2 буквы, 2-3 цифры). Обратите внимание, что не все буквы кириллического алфавита используются в транспортных номерах.\n",
        "\n",
        "Если номер валиден, то функция должна возвращать отдельно номер и регион.\n",
        "\n",
        "Примеры работы программы:\n",
        "\n",
        "car_id = 'A222BC96’\n",
        "Результат: Номер A222BС валиден. Регион: 96\n",
        "\n",
        "car_id = 'АБ22ВВ193’\n",
        "Результат: Номер не валиден"
      ],
      "metadata": {
        "id": "dfj4Almkrsvo"
      }
    },
    {
      "cell_type": "code",
      "execution_count": null,
      "metadata": {
        "id": "4p5TqO2Mrrim"
      },
      "outputs": [],
      "source": [
        "import re\n",
        "def car(car_id):\n",
        "   \n",
        "    validate = re.findall(r'([АВЕКМНОРСТУХ]\\d{3}[АВЕКМНОРСТУХ]{2})(\\d{2,3})', car_id)\n",
        "    if validate:\n",
        "        print('Номер', car_id, 'валиден. Регион:',validate[0][1])\n",
        "    else:\n",
        "        print('Результат: Номер не валиден')"
      ]
    },
    {
      "cell_type": "code",
      "source": [
        "car('A222BC96')"
      ],
      "metadata": {
        "colab": {
          "base_uri": "https://localhost:8080/"
        },
        "id": "oHuHg8R2sJt1",
        "outputId": "cde435be-0984-4339-8b38-48b693b7d6f8"
      },
      "execution_count": null,
      "outputs": [
        {
          "output_type": "stream",
          "name": "stdout",
          "text": [
            "Результат: Номер не валиден\n"
          ]
        }
      ]
    },
    {
      "cell_type": "markdown",
      "source": [
        ""
      ],
      "metadata": {
        "id": "rQWgQKASAi_z"
      }
    },
    {
      "cell_type": "markdown",
      "source": [
        "# Задание 2\n",
        "Напишите функцию, которая будет удалять все последовательные повторы слов из заданной строки при помощи регулярных выражений.\n",
        "\n",
        "Пример работы программы:\n",
        "\n",
        "some_string = ‘Напишите функцию функцию, которая будет будет будет будет удалять все все все все последовательные повторы слов из из из из заданной строки строки при помощи регулярных выражений.’\n",
        "\n",
        "Результат:\n",
        "Напишите функцию, которая будет удалять все последовательные повторы слов из заданной строки при помощи регулярных выражений."
      ],
      "metadata": {
        "id": "BbNkwNvqsXLv"
      }
    },
    {
      "cell_type": "code",
      "source": [
        "some_string = 'Напишите функцию функцию, которая будет будет будет будет удалять все все все все последовательные повторы слов из из из из заданной строки строки при помощи регулярных выражений.'"
      ],
      "metadata": {
        "id": "Tnv15uNuslVY"
      },
      "execution_count": null,
      "outputs": []
    },
    {
      "cell_type": "code",
      "source": [
        "def duble(string):\n",
        "    return re.sub(r'(\\w+)(\\s\\1)+', r'\\1', string)"
      ],
      "metadata": {
        "id": "oBe4DKIJs9v9"
      },
      "execution_count": null,
      "outputs": []
    },
    {
      "cell_type": "code",
      "source": [
        "duble(some_string)"
      ],
      "metadata": {
        "colab": {
          "base_uri": "https://localhost:8080/",
          "height": 53
        },
        "id": "gU6NdB_atMTv",
        "outputId": "17cd3b06-5ece-4e88-9f3e-9d03fc5b063b"
      },
      "execution_count": null,
      "outputs": [
        {
          "output_type": "execute_result",
          "data": {
            "application/vnd.google.colaboratory.intrinsic+json": {
              "type": "string"
            },
            "text/plain": [
              "'Напишите функцию, которая будет удалять все последовательные повторы слов из заданной строки при помощи регулярных выражений.'"
            ]
          },
          "metadata": {},
          "execution_count": 10
        }
      ]
    },
    {
      "cell_type": "markdown",
      "source": [
        "# Задание 3\n",
        "Напишите функцию, которая будет возвращать акроним по переданной в нее строке со словами.\n",
        "\n",
        "Примеры работы программы:\n",
        "\n",
        "some_words = 'Информационные технологии’\n",
        "Результат: ИТ\n",
        "\n",
        "some_words = 'Near Field Communication’\n",
        "Результат: NFC"
      ],
      "metadata": {
        "id": "E8_TkN0_tbGO"
      }
    },
    {
      "cell_type": "code",
      "source": [
        "some_words = 'Информационные технологии' "
      ],
      "metadata": {
        "id": "V1JhrhWNtn59"
      },
      "execution_count": null,
      "outputs": []
    },
    {
      "cell_type": "code",
      "source": [
        "def acr(string):\n",
        "    text = ''\n",
        "    result = re.findall(r'(\\b\\w)', string)\n",
        "    for i in result:\n",
        "        text += i\n",
        "    print(str.upper(text))"
      ],
      "metadata": {
        "id": "MDzgu6P2vAxH"
      },
      "execution_count": null,
      "outputs": []
    },
    {
      "cell_type": "code",
      "source": [
        "acr(some_words)"
      ],
      "metadata": {
        "colab": {
          "base_uri": "https://localhost:8080/"
        },
        "id": "u_ujacX_vJrX",
        "outputId": "8306203c-7db8-496c-9c61-7ee29ae9ba68"
      },
      "execution_count": null,
      "outputs": [
        {
          "output_type": "stream",
          "name": "stdout",
          "text": [
            "ИТ\n"
          ]
        }
      ]
    },
    {
      "cell_type": "markdown",
      "source": [
        "# Задание 4\n",
        "Напишите функцию, которая будет принимать на вход список email-адресов и выводить их распределение по доменным зонам.\n",
        "\n",
        "Пример работы программы:\n",
        "\n",
        "emails = [‘test@gmail.com’, ‘xyz@test.in’, ‘test@ya.ru’, ‘xyz@mail.ru’, ‘xyz@ya.ru’, ‘xyz@gmail.com’]\n",
        "\n",
        "Результат:\n",
        "\n",
        "gmail.com: 2\n",
        "test.in: 1\n",
        "ya.ru: 2\n",
        "mail.ru: 1"
      ],
      "metadata": {
        "id": "ucYngC1MvYl_"
      }
    },
    {
      "cell_type": "code",
      "source": [
        "emails = ['test@gmail.com', 'xyz@test.in', 'test@ya.ru', 'xyz@mail.ru', 'xyz@ya.ru', 'xyz@gmail.com']"
      ],
      "metadata": {
        "id": "y0Vx-L7XvebF"
      },
      "execution_count": null,
      "outputs": []
    },
    {
      "cell_type": "code",
      "source": [
        "def adres(mails):\n",
        "    my_list=[]\n",
        "    for i in emails:\n",
        "        my_list.extend(re.findall(r'(?<=@)\\w+\\.\\w{2,3}',i))\n",
        "    for i in set(my_list):\n",
        "        print(i, my_list.count(i))"
      ],
      "metadata": {
        "id": "m8tgWn7nwAy3"
      },
      "execution_count": null,
      "outputs": []
    },
    {
      "cell_type": "code",
      "source": [
        "adres(emails)"
      ],
      "metadata": {
        "colab": {
          "base_uri": "https://localhost:8080/"
        },
        "id": "vkYKmniWwJDl",
        "outputId": "9d452281-95bf-4f30-80d9-8789fedcb614"
      },
      "execution_count": null,
      "outputs": [
        {
          "output_type": "stream",
          "name": "stdout",
          "text": [
            "ya.ru 2\n",
            "gmail.com 2\n",
            "mail.ru 1\n",
            "test.in 1\n"
          ]
        }
      ]
    },
    {
      "cell_type": "markdown",
      "source": [
        "# Комментарии преподавателя\n",
        "\n",
        "Алексей, приветствую!\n",
        "\n",
        "Спасибо за работу, вижу, что неплохо разобрались с регулярками)\n",
        "\n",
        "Решения очень хорошие, без лишних усложнений.\n",
        "\n",
        "Только 3 задаче вы по сути вообще полноценно не использовали функционал регулярок, хотя с помощью них можно было решить задачу проще. Можно было применить группы, чтобы сразу при помощи шаблона и sub приводить строку к нужному виду. Вот так:\n",
        "\n",
        "1\n",
        "2\n",
        "def acronym(word):\n",
        "   return re.sub(r\"(\\w)\\w+\\s?\", r\"\\1\", word).upper()\n",
        "Зачет!"
      ],
      "metadata": {
        "id": "BVoUOlvNAqKa"
      }
    },
    {
      "cell_type": "code",
      "source": [
        "def acronym(word):\n",
        "   return re.sub(r\"(\\w)\\w+\\s?\", r\"\\1\", word).upper()"
      ],
      "metadata": {
        "id": "dl7aqZCfAv16"
      },
      "execution_count": null,
      "outputs": []
    }
  ]
}