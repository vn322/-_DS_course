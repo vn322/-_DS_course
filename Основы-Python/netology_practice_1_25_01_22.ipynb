{
  "nbformat": 4,
  "nbformat_minor": 0,
  "metadata": {
    "colab": {
      "name": "netology_practice_1_25_01_22.ipynb",
      "provenance": [],
      "collapsed_sections": []
    },
    "kernelspec": {
      "name": "python3",
      "display_name": "Python 3"
    },
    "language_info": {
      "name": "python"
    }
  },
  "cells": [
    {
      "cell_type": "markdown",
      "metadata": {
        "id": "edQI-m-cCgpV"
      },
      "source": [
        "# Практика 1  \n",
        "Теория: Основы Python, введение в типы данных и циклы\n",
        "\n",
        "Булыгин Олег:  \n",
        "* [LinkedIn](linkedin.com/in/obulygin)  \n",
        "* [Telegram](https://t.me/obulygin91)  \n",
        "* [facebook](fb.com/obulygin91)  \n",
        "* [Vk](vk.com/obulygin91)  \n",
        "* email: obulygin91@ya.ru  \n",
        "\n",
        "[Сообщество по Python](https://yandex.ru/q/loves/pythontalk/) на Кью  \n",
        "[Сообщество по Data Science и анализу данных](https://yandex.ru/q/loves/datatalk/) на Кью "
      ]
    },
    {
      "cell_type": "markdown",
      "metadata": {
        "id": "yeFs_dLk5YJW"
      },
      "source": [
        "## PEP\n",
        "\n",
        "PEP (python enhanced proposal — заявки на улучшение языка python)."
      ]
    },
    {
      "cell_type": "markdown",
      "metadata": {
        "id": "hQ_c5hAl5eNt"
      },
      "source": [
        "PEP20 – Zen of Python\n",
        "\n",
        "Python придерживается философии, которую сформулировал Тим Петерс в 19 принципах. Её текст выдаётся интерпретатором Python по команде `import this`."
      ]
    },
    {
      "cell_type": "code",
      "metadata": {
        "id": "ANmgIu_25FK9"
      },
      "source": [
        "import this"
      ],
      "execution_count": null,
      "outputs": []
    },
    {
      "cell_type": "markdown",
      "metadata": {
        "id": "9G-RZWKR5t71"
      },
      "source": [
        "PEP8\n",
        "\n",
        "PEP8 – соглашение о том, как писать код для языка python.\n",
        "Ключевая идея такова: код читается намного больше раз, чем пишется. Собственно, рекомендации о стиле написания кода направлены на то, чтобы улучшить читаемость кода и сделать его согласованным между большим числом проектов. В идеале, весь код будет написан в едином стиле, и любой сможет легко его прочесть.\n",
        "\n",
        "https://pythonworld.ru/osnovy/pep-8-rukovodstvo-po-napisaniyu-koda-na-python.html\n",
        "\n",
        "http://pep8online.com/"
      ]
    },
    {
      "cell_type": "markdown",
      "metadata": {
        "id": "PY_n-RlR54ON"
      },
      "source": [
        "## Краткая запись односложных условий из if и else"
      ]
    },
    {
      "cell_type": "code",
      "metadata": {
        "id": "D2owehr25SCh"
      },
      "source": [
        "# это стандартная запись\n",
        "\n",
        "num = 7\n",
        "\n",
        "if num % 2 == 0:\n",
        "    print('even')\n",
        "else:\n",
        "    print('odd')"
      ],
      "execution_count": null,
      "outputs": []
    },
    {
      "cell_type": "code",
      "metadata": {
        "id": "SG4lSwW46IPf"
      },
      "source": [
        "# можно записать и так, если в условии только if\n",
        "if num % 2 == 0: print('even')"
      ],
      "execution_count": null,
      "outputs": []
    },
    {
      "cell_type": "code",
      "metadata": {
        "id": "pf8KAcfm6MGE"
      },
      "source": [
        "# если в условии и if и esle, то можно так\n",
        "print('even') if num % 2 == 0 else print('odd')"
      ],
      "execution_count": null,
      "outputs": []
    },
    {
      "cell_type": "markdown",
      "metadata": {
        "id": "AMHNsoZd59w2"
      },
      "source": [
        "## Изменяемые и неизменяемые типы данных"
      ]
    },
    {
      "cell_type": "code",
      "metadata": {
        "id": "Ndf43O1F6ZSj"
      },
      "source": [
        "some_names = ['John', 'James', 'Linda']  "
      ],
      "execution_count": null,
      "outputs": []
    },
    {
      "cell_type": "code",
      "source": [
        "res = some_names.sort()\n",
        "\n",
        "print(res)\n",
        "\n",
        "print(some_names.sort())"
      ],
      "metadata": {
        "id": "ohcoBTB9Qw8q"
      },
      "execution_count": null,
      "outputs": []
    },
    {
      "cell_type": "code",
      "source": [
        "print(some_names)"
      ],
      "metadata": {
        "id": "0x7jXT7rRPWZ"
      },
      "execution_count": null,
      "outputs": []
    },
    {
      "cell_type": "code",
      "source": [
        "some_names = ['John', 'James', 'Linda']  \n",
        "res = sorted(some_names)\n",
        "print(some_names)\n",
        "print(res)\n",
        "print(sorted(some_names))"
      ],
      "metadata": {
        "id": "ISO38h9QRUDh"
      },
      "execution_count": null,
      "outputs": []
    },
    {
      "cell_type": "code",
      "source": [
        "some_string = 'Hello world!'\n",
        "\n",
        "res = some_string.lower()\n",
        "print(res)"
      ],
      "metadata": {
        "id": "2JigzMs0SReK"
      },
      "execution_count": null,
      "outputs": []
    },
    {
      "cell_type": "code",
      "source": [
        "some_string = 'Hello world!'\n",
        "\n",
        "some_string.lower()\n",
        "\n",
        "print(some_string)\n",
        "print(some_string.lower())"
      ],
      "metadata": {
        "id": "14H9y3Y5SerI"
      },
      "execution_count": null,
      "outputs": []
    },
    {
      "cell_type": "code",
      "source": [
        "some_string = 'Hello world!'\n",
        "\n",
        "some_string[0] = '!'\n"
      ],
      "metadata": {
        "id": "3g3LdwPGTgoM"
      },
      "execution_count": null,
      "outputs": []
    },
    {
      "cell_type": "code",
      "source": [
        "some_names = ['John', 'James', 'Linda'] \n",
        "\n",
        "res = some_names.sort()\n",
        "print(res)\n",
        "print(some_names)"
      ],
      "metadata": {
        "id": "Z2NgLnT3T5Ja"
      },
      "execution_count": null,
      "outputs": []
    },
    {
      "cell_type": "code",
      "source": [
        ""
      ],
      "metadata": {
        "id": "b9u0xZnYUPUl"
      },
      "execution_count": null,
      "outputs": []
    },
    {
      "cell_type": "markdown",
      "metadata": {
        "id": "HDq-QZ_UwPDr"
      },
      "source": [
        "## [f-строки](https://python-scripts.com/f-strings)\n",
        "\n",
        "Добавляя префикс f к строке можно встраивать в нее произвольные выражения при помощи фигурных скобок – { }."
      ]
    },
    {
      "cell_type": "markdown",
      "metadata": {
        "id": "kohJ7Byxirex"
      },
      "source": [
        "Можно разделять периоды чисел любым разделителем"
      ]
    },
    {
      "cell_type": "code",
      "metadata": {
        "id": "nb0QYsTZiiGe"
      },
      "source": [
        "year_salary = 10000000\n",
        "\n",
        "print(f\"Годовая зарплата: ${year_salary :,}\")"
      ],
      "execution_count": null,
      "outputs": []
    },
    {
      "cell_type": "markdown",
      "metadata": {
        "id": "vNJl0kXqh8G9"
      },
      "source": [
        "Можно представлять числа с округлением до нужного количества знаков"
      ]
    },
    {
      "cell_type": "code",
      "metadata": {
        "id": "B0d8X-PmwPDs",
        "colab": {
          "base_uri": "https://localhost:8080/"
        },
        "outputId": "76c935cb-de8f-4d4e-8e5d-a8935b65e4c8"
      },
      "source": [
        "pi_value = 3.141592653589793\n",
        "\n",
        "print(f\"Число Пи: {pi_value :.2f}\")"
      ],
      "execution_count": null,
      "outputs": [
        {
          "output_type": "stream",
          "name": "stdout",
          "text": [
            "Число Пи: 3.14\n"
          ]
        }
      ]
    },
    {
      "cell_type": "markdown",
      "metadata": {
        "id": "f4v3QryyiWCA"
      },
      "source": [
        "И много чего [еще](https://saralgyaan.com/posts/f-string-in-python-usage-guide/)"
      ]
    },
    {
      "cell_type": "markdown",
      "metadata": {
        "id": "gAgqIV6fdb-i"
      },
      "source": [
        "## Практика\n",
        "\n",
        "Выведите результат в виде:\n",
        "```\n",
        "Pluto weighs about 1.3e+22 kilograms (0.218% of Earth's mass). It is home to 52,910,390 Plutonians.\n",
        "```"
      ]
    },
    {
      "cell_type": "code",
      "metadata": {
        "id": "aVeAnbGqdbaH"
      },
      "source": [
        "planet = 'Pluto'\n",
        "pluto_mass = 1.303 * 10**22\n",
        "earth_mass = 5.9722 * 10**24\n",
        "population = 52910390"
      ],
      "execution_count": null,
      "outputs": []
    },
    {
      "cell_type": "code",
      "metadata": {
        "id": "niMc9wUIyMFa",
        "colab": {
          "base_uri": "https://localhost:8080/"
        },
        "outputId": "9a74bf1c-00e1-41fe-881a-f98e4f25c260"
      },
      "source": [
        "print(f\"{planet} weighs about {pluto_mass :.1e} kilograms ({pluto_mass / earth_mass :.3%} of Earth's mass). It is home to {population :,} Plutonians.\")"
      ],
      "execution_count": null,
      "outputs": [
        {
          "output_type": "stream",
          "name": "stdout",
          "text": [
            "Pluto weighs about 1.3e+22 kilograms (0.218% of Earth's mass). It is home to 52,910,390 Plutonians.\n"
          ]
        }
      ]
    },
    {
      "cell_type": "markdown",
      "metadata": {
        "id": "rLyLP81sEeYY"
      },
      "source": [
        "## Гипотеза Сиракуз\n",
        "\n",
        "Гипотеза Сиракуз гласит, что любое натуральное число сводится к единице при следующих действиях над ним: \n",
        "\n",
        "а) если число четное, то разделить его пополам, \n",
        "\n",
        "б) если число нечетное, то умножить его на 3, прибавить 1 и результат разделить на 2. \n",
        "\n",
        "Над вновь полученным числом вновь повторить действия a) или б) в зависимости от четности числа. Рано или поздно число станет равным 1.\n",
        "\n",
        "Напишем программу, проверяющую гипотезу Сиракуз. Пусть пользователь вводит любое натуральное число. Будем выполнять в цикле над ним вышеуказанные действия, пока оно не станет равным 1. Если гипотеза верна, то рано или поздно цикл закончится, а если нет - то произойдет зацикливание программы."
      ]
    },
    {
      "cell_type": "code",
      "metadata": {
        "id": "fNPueODdEeYY",
        "colab": {
          "base_uri": "https://localhost:8080/"
        },
        "outputId": "912a29e5-8733-4fb5-9630-c806e81d92d1"
      },
      "source": [
        "n = int(input())\n",
        "counter = 0\n",
        "\n",
        "while n != 1:\n",
        "    counter += 1\n",
        "    if counter == 100000:\n",
        "        break\n",
        "    if n % 2 == 0:\n",
        "        n /= 2\n",
        "    else:\n",
        "        n = (n * 3 + 1) / 2\n",
        "    print(n)\n",
        "\n",
        "print(n, counter)"
      ],
      "execution_count": null,
      "outputs": [
        {
          "output_type": "stream",
          "name": "stdout",
          "text": [
            "50\n",
            "25.0\n",
            "38.0\n",
            "19.0\n",
            "29.0\n",
            "44.0\n",
            "22.0\n",
            "11.0\n",
            "17.0\n",
            "26.0\n",
            "13.0\n",
            "20.0\n",
            "10.0\n",
            "5.0\n",
            "8.0\n",
            "4.0\n",
            "2.0\n",
            "1.0\n",
            "1.0 17\n"
          ]
        }
      ]
    },
    {
      "cell_type": "markdown",
      "metadata": {
        "id": "E6ywQi0G5-o1"
      },
      "source": [
        "## else и циклы"
      ]
    },
    {
      "cell_type": "markdown",
      "source": [
        "Напишем игру \"Угадай число\""
      ],
      "metadata": {
        "id": "rrt2CXpIxlJz"
      }
    },
    {
      "cell_type": "code",
      "source": [
        "import random\n",
        "\n",
        "number = random.randint(1, 100)\n",
        "print(number)\n",
        "\n",
        "max_tries = 3\n",
        "tries = 0\n",
        "\n",
        "while tries < max_tries:\n",
        "    guess = int(input('Введите свой вариант'))\n",
        "    if guess < number:\n",
        "        print('Загаданное число больше')\n",
        "    elif guess > number:\n",
        "        print('Загаданное число меньше')\n",
        "    else:\n",
        "        print('Победа')\n",
        "        break\n",
        "    tries += 1\n",
        "else:\n",
        "    print('Вы проиграли')\n",
        "    print('Было загадано число:', number)\n"
      ],
      "metadata": {
        "colab": {
          "base_uri": "https://localhost:8080/"
        },
        "id": "8oU2aES0g53U",
        "outputId": "c8f6b91e-9afe-437c-e3d9-c7f7a212d345"
      },
      "execution_count": null,
      "outputs": [
        {
          "output_type": "stream",
          "name": "stdout",
          "text": [
            "22\n",
            "Введите свой вариант50\n",
            "Загаданное число меньше\n",
            "Введите свой вариант25\n",
            "Загаданное число меньше\n",
            "Введите свой вариант22\n",
            "Победа\n"
          ]
        }
      ]
    },
    {
      "cell_type": "code",
      "source": [
        "# number = random.random()\n",
        "# print(number)"
      ],
      "metadata": {
        "colab": {
          "base_uri": "https://localhost:8080/"
        },
        "id": "XpT9ohFTbYvc",
        "outputId": "f25bf0d2-1406-4772-9086-641a70b520e2"
      },
      "execution_count": null,
      "outputs": [
        {
          "output_type": "stream",
          "name": "stdout",
          "text": [
            "0.8997479284092251\n"
          ]
        }
      ]
    },
    {
      "cell_type": "markdown",
      "metadata": {
        "id": "XQe7nsuY__r7"
      },
      "source": [
        "## Практика\n",
        "\n",
        "Определите длину каждого из этих списков"
      ]
    },
    {
      "cell_type": "code",
      "metadata": {
        "id": "TkYg2RmtA66L"
      },
      "source": [
        "a = [1, 2, 3]\n",
        "b = [1, [2, 3]]\n",
        "c = []\n",
        "d = [1, 2, 3][1:]"
      ],
      "execution_count": null,
      "outputs": []
    },
    {
      "cell_type": "markdown",
      "metadata": {
        "id": "v23yWHR_7yO3"
      },
      "source": [
        "## Практика\n",
        " Выведем на экран список всех слов длиннее n букв из текста"
      ]
    },
    {
      "cell_type": "code",
      "metadata": {
        "id": "ZfRx-Pag7wjm"
      },
      "source": [
        "text = 'Python — высокоуровневый язык программирования, ориентированный на повышение производительности разработчика и читаемости кода.'\n",
        "n = 4"
      ],
      "execution_count": null,
      "outputs": []
    },
    {
      "cell_type": "code",
      "metadata": {
        "id": "0SwJmvOG8FVs",
        "colab": {
          "base_uri": "https://localhost:8080/"
        },
        "outputId": "886a05e5-76af-46c3-dd7b-8780fc15b0d1"
      },
      "source": [
        "text_list = text.split()\n",
        "long_words = [i for i in text_list if len(i) > n]\n",
        "print(long_words)"
      ],
      "execution_count": null,
      "outputs": [
        {
          "output_type": "stream",
          "name": "stdout",
          "text": [
            "['Python', 'высокоуровневый', 'программирования,', 'ориентированный', 'повышение', 'производительности', 'разработчика', 'читаемости', 'кода.']\n"
          ]
        }
      ]
    },
    {
      "cell_type": "code",
      "source": [
        "words = text.split()\n",
        "long_words = []\n",
        "for word in words:\n",
        "  word = word.strip('.,:')\n",
        "  if len(word) > n:\n",
        "    long_words.append(word)\n",
        "print(long_words)"
      ],
      "metadata": {
        "colab": {
          "base_uri": "https://localhost:8080/"
        },
        "id": "vTiTOTh9dKCt",
        "outputId": "5d89dd47-7079-4d01-dde2-d87b250a7a1c"
      },
      "execution_count": null,
      "outputs": [
        {
          "output_type": "stream",
          "name": "stdout",
          "text": [
            "['Python', 'высокоуровневый', 'программирования', 'ориентированный', 'повышение', 'производительности', 'разработчика', 'читаемости']\n"
          ]
        }
      ]
    },
    {
      "cell_type": "code",
      "source": [
        "b = text.split()\n",
        "for i in b:\n",
        "  p += 1\n",
        "print (p)"
      ],
      "metadata": {
        "colab": {
          "base_uri": "https://localhost:8080/",
          "height": 225
        },
        "id": "ZAdcGetBdok5",
        "outputId": "672dca1f-526a-4d14-cff3-f87574f25f2c"
      },
      "execution_count": null,
      "outputs": [
        {
          "output_type": "error",
          "ename": "NameError",
          "evalue": "ignored",
          "traceback": [
            "\u001b[0;31m---------------------------------------------------------------------------\u001b[0m",
            "\u001b[0;31mNameError\u001b[0m                                 Traceback (most recent call last)",
            "\u001b[0;32m<ipython-input-41-70c80d356e4c>\u001b[0m in \u001b[0;36m<module>\u001b[0;34m()\u001b[0m\n\u001b[1;32m      1\u001b[0m \u001b[0mb\u001b[0m \u001b[0;34m=\u001b[0m \u001b[0mtext\u001b[0m\u001b[0;34m.\u001b[0m\u001b[0msplit\u001b[0m\u001b[0;34m(\u001b[0m\u001b[0;34m)\u001b[0m\u001b[0;34m\u001b[0m\u001b[0;34m\u001b[0m\u001b[0m\n\u001b[1;32m      2\u001b[0m \u001b[0;32mfor\u001b[0m \u001b[0mi\u001b[0m \u001b[0;32min\u001b[0m \u001b[0mb\u001b[0m\u001b[0;34m:\u001b[0m\u001b[0;34m\u001b[0m\u001b[0;34m\u001b[0m\u001b[0m\n\u001b[0;32m----> 3\u001b[0;31m   \u001b[0mp\u001b[0m \u001b[0;34m+=\u001b[0m \u001b[0;36m1\u001b[0m\u001b[0;34m\u001b[0m\u001b[0;34m\u001b[0m\u001b[0m\n\u001b[0m\u001b[1;32m      4\u001b[0m \u001b[0mprint\u001b[0m \u001b[0;34m(\u001b[0m\u001b[0mp\u001b[0m\u001b[0;34m)\u001b[0m\u001b[0;34m\u001b[0m\u001b[0;34m\u001b[0m\u001b[0m\n",
            "\u001b[0;31mNameError\u001b[0m: name 'p' is not defined"
          ]
        }
      ]
    },
    {
      "cell_type": "markdown",
      "metadata": {
        "id": "1dYKDsmV_U4o"
      },
      "source": [
        "## Сумма элементов на диагонале в матрице"
      ]
    },
    {
      "cell_type": "code",
      "metadata": {
        "id": "XcpgxMI19KLl"
      },
      "source": [
        "data = [\n",
        "    [13, 25, 23, 34],\n",
        "    [45, 32, 44, 47],\n",
        "    [12, 33, 23, 95],\n",
        "    [13, 53, 34, 35]\n",
        "]"
      ],
      "execution_count": null,
      "outputs": []
    },
    {
      "cell_type": "code",
      "metadata": {
        "id": "tSlpdpFf9S7x",
        "colab": {
          "base_uri": "https://localhost:8080/",
          "height": 243
        },
        "outputId": "c9f94b3c-3188-4698-9f08-d5706b54701e"
      },
      "source": [
        "result = 0\n",
        "index = 0\n",
        "\n",
        "for row in data:\n",
        "    result += row[index]\n",
        "    index += 1\n",
        "print(result)"
      ],
      "execution_count": null,
      "outputs": [
        {
          "output_type": "error",
          "ename": "IndexError",
          "evalue": "ignored",
          "traceback": [
            "\u001b[0;31m---------------------------------------------------------------------------\u001b[0m",
            "\u001b[0;31mIndexError\u001b[0m                                Traceback (most recent call last)",
            "\u001b[0;32m<ipython-input-49-1404f0b08bd8>\u001b[0m in \u001b[0;36m<module>\u001b[0;34m()\u001b[0m\n\u001b[1;32m      3\u001b[0m \u001b[0;34m\u001b[0m\u001b[0m\n\u001b[1;32m      4\u001b[0m \u001b[0;32mfor\u001b[0m \u001b[0mrow\u001b[0m \u001b[0;32min\u001b[0m \u001b[0mdata\u001b[0m\u001b[0;34m:\u001b[0m\u001b[0;34m\u001b[0m\u001b[0;34m\u001b[0m\u001b[0m\n\u001b[0;32m----> 5\u001b[0;31m     \u001b[0mresult\u001b[0m \u001b[0;34m+=\u001b[0m \u001b[0mrow\u001b[0m\u001b[0;34m[\u001b[0m\u001b[0mindex\u001b[0m\u001b[0;34m]\u001b[0m\u001b[0;34m\u001b[0m\u001b[0;34m\u001b[0m\u001b[0m\n\u001b[0m\u001b[1;32m      6\u001b[0m     \u001b[0mindex\u001b[0m \u001b[0;34m+=\u001b[0m \u001b[0;36m1\u001b[0m\u001b[0;34m\u001b[0m\u001b[0;34m\u001b[0m\u001b[0m\n\u001b[1;32m      7\u001b[0m \u001b[0mprint\u001b[0m\u001b[0;34m(\u001b[0m\u001b[0mresult\u001b[0m\u001b[0;34m)\u001b[0m\u001b[0;34m\u001b[0m\u001b[0;34m\u001b[0m\u001b[0m\n",
            "\u001b[0;31mIndexError\u001b[0m: list index out of range"
          ]
        }
      ]
    },
    {
      "cell_type": "code",
      "source": [
        "result = 0\n",
        "index = 0\n",
        "\n",
        "for row in data:\n",
        "    result = result + row[index]\n",
        "    index += 1\n",
        "print(result)"
      ],
      "metadata": {
        "id": "WELyivanf6pf"
      },
      "execution_count": null,
      "outputs": []
    },
    {
      "cell_type": "markdown",
      "metadata": {
        "id": "PkzrJqs29V7z"
      },
      "source": [
        "## Практика\n",
        "Посчитайте сумму элементов по **обратной** диагонали в квадратной матрице"
      ]
    },
    {
      "cell_type": "code",
      "metadata": {
        "id": "Jd5l2Kca9VC_",
        "colab": {
          "base_uri": "https://localhost:8080/"
        },
        "outputId": "98daaceb-0622-4da2-9612-76cfaad741d5"
      },
      "source": [
        "result = 0\n",
        "index = -1\n",
        "\n",
        "for row in data:\n",
        "    result += row[index]\n",
        "    index -= 1\n",
        "print(result)"
      ],
      "execution_count": null,
      "outputs": [
        {
          "output_type": "stream",
          "name": "stdout",
          "text": [
            "124\n"
          ]
        }
      ]
    },
    {
      "cell_type": "markdown",
      "metadata": {
        "id": "ZhsS0uFL_J9l"
      },
      "source": [
        "## Выведем фамилии построчно с указанием профессии в виде:\n",
        "```\n",
        "IT:  \n",
        "Гейтс  \n",
        "Джобс  \n",
        "Возняк  \n",
        "\n",
        "Физика:  \n",
        "Эйнштейн  \n",
        "Фейнман  \n",
        "\n",
        "Математика:  \n",
        "Эвклид  \n",
        "Ньютон\n",
        "```\n",
        "\n"
      ]
    },
    {
      "cell_type": "code",
      "metadata": {
        "id": "z4y6_PVy_S0v"
      },
      "source": [
        "professions = ['IT', 'Физика', 'Математика']\n",
        "persons = [['Гейтс', 'Джобс', 'Возняк'], ['Эйнштейн', 'Фейнман'], ['Эвклид', 'Ньютон']]"
      ],
      "execution_count": null,
      "outputs": []
    },
    {
      "cell_type": "code",
      "metadata": {
        "id": "4dXBJV0D_Pr3",
        "colab": {
          "base_uri": "https://localhost:8080/"
        },
        "outputId": "02a0d807-99aa-45a2-cc3b-9596b124b42b"
      },
      "source": [
        "for pro, person in zip(professions, persons):\n",
        "    print(f'{pro}:')\n",
        "    for name in person:\n",
        "        print(name)\n",
        "    print()"
      ],
      "execution_count": null,
      "outputs": [
        {
          "output_type": "stream",
          "name": "stdout",
          "text": [
            "IT:\n",
            "Гейтс\n",
            "Джобс\n",
            "Возняк\n",
            "\n",
            "Физика:\n",
            "Эйнштейн\n",
            "Фейнман\n",
            "\n",
            "Математика:\n",
            "Эвклид\n",
            "Ньютон\n",
            "\n"
          ]
        }
      ]
    },
    {
      "cell_type": "markdown",
      "metadata": {
        "id": "4sIiydRs_u2V"
      },
      "source": [
        "### Практика\n",
        "Получим такой же результат без вложенного цикла"
      ]
    },
    {
      "cell_type": "code",
      "source": [
        "for pro, person in zip(professions, persons):\n",
        "    print(f'{pro}:')\n",
        "    print('\\n'.join(person))\n",
        "    print()"
      ],
      "metadata": {
        "colab": {
          "base_uri": "https://localhost:8080/"
        },
        "id": "ARUkK3GhhSXC",
        "outputId": "305caaf7-3445-412f-c2bc-bd7d9af212f5"
      },
      "execution_count": null,
      "outputs": [
        {
          "output_type": "stream",
          "name": "stdout",
          "text": [
            "IT:\n",
            "Гейтс\n",
            "Джобс\n",
            "Возняк\n",
            "\n",
            "Физика:\n",
            "Эйнштейн\n",
            "Фейнман\n",
            "\n",
            "Математика:\n",
            "Эвклид\n",
            "Ньютон\n",
            "\n"
          ]
        }
      ]
    },
    {
      "cell_type": "code",
      "source": [
        "print('!!!!!!', end='')\n",
        "print('@@@@')"
      ],
      "metadata": {
        "colab": {
          "base_uri": "https://localhost:8080/"
        },
        "id": "-aB6pB5ylONS",
        "outputId": "db448dbf-1818-420d-e9e4-7679011e2031"
      },
      "execution_count": null,
      "outputs": [
        {
          "output_type": "stream",
          "name": "stdout",
          "text": [
            "!!!!!!@@@@\n"
          ]
        }
      ]
    },
    {
      "cell_type": "markdown",
      "metadata": {
        "id": "aOL5iGS9BlF0"
      },
      "source": [
        "## Рекомендуемые материалы:\n",
        "\n",
        "1. Тренажеры:\n",
        "  - hackerrank.com\n",
        "  - checkio.org\n",
        "  - leetcode.com\n",
        "  - codewars.com\n",
        "  - luxcity.geecko.com\n",
        "\n",
        "2. Литература:\n",
        " - А Byte of Python [англ. версия](https://python.swaroopch.com/), [рус. перевод](https://wombat.org.ua/AByteOfPython/AByteofPythonRussian-2.02.pdf). Легально, бесплатно, без СМС и регистрации.\n",
        " - Адитья Бхаргава, Грокаем алгоритмы. [На бумаге](https://bit.ly/3c4Drq3), [Электронная](https://bit.ly/3h9bdgz). Бесплатно сами.\n",
        "\n",
        "3. Визуализатор исполнения кода: http://pythontutor.com/visualize.html#mode=edit\n",
        "\n",
        " Он может очень сильно помочь на начальном этапе изчения Python, когда вы пишите свои собственные программы, но ещё не понимаете как именно работает ваш код. Самые частые ошибки новичков – это непонимание границ выполнения ключевых этапов работы программы. Порой очень хороший код не будет работать из-за одной маленькой ошибки."
      ]
    },
    {
      "cell_type": "markdown",
      "metadata": {
        "id": "n0u7ea-9TC6U"
      },
      "source": [
        "**Установка  и настройка Anaconda**\n",
        "\n",
        "\n",
        "https://www.anaconda.com/distribution/\n",
        "\n",
        "1. Запустите скачанный инсталлятор. В первом появившемся окне необходимо нажать “Next”.\n",
        "2. Далее следует принять лицензионное соглашение.\n",
        "3. Выберете одну из опций установки:\n",
        "\n",
        "    * Just Me – только для пользователя, запустившего установку;\n",
        "    * All Users – для всех пользователей. (для тех, кто планирует выйти за пределы анализа данных)\n",
        "    \n",
        "4. Укажите путь, по которому будет установлена Anaconda.\n",
        "5. Укажите дополнительные опции:\n",
        "\n",
        "    * Add Anaconda to the system PATH environment variable – добавить Anaconda в системную переменную PATH\n",
        "    * Register Anaconda as the system Python  – использовать Anaconda, как интерпретатор Python по умолчанию.\n",
        "\n",
        "6. Для начала установки нажмите на кнопку “Install”\n",
        "7. После установки программы запустите Jupyter Notebook  (наберите его в поиске)\n",
        "8. В результате запустится веб-сервер и среда разработки в браузере.\n",
        "9. Создайте ноутбук для разработки, для этого нажмите на кнопку New (в правом углу окна) и в появившемся списке выберете Python.\n"
      ]
    },
    {
      "cell_type": "markdown",
      "metadata": {
        "id": "O4HbNmr0GcXH"
      },
      "source": [
        "## Ваши вопросы ^_^"
      ]
    },
    {
      "cell_type": "code",
      "metadata": {
        "id": "U8j1kWgjB3If"
      },
      "source": [
        ""
      ],
      "execution_count": null,
      "outputs": []
    }
  ]
}