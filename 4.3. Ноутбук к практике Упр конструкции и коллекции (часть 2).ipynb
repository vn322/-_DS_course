{
 "cells": [
  {
   "cell_type": "markdown",
   "metadata": {},
   "source": [
    "### Сделаем оглавление в ноутбуке"
   ]
  },
  {
   "cell_type": "markdown",
   "metadata": {},
   "source": [
    "### Оглавление"
   ]
  },
  {
   "cell_type": "markdown",
   "metadata": {},
   "source": [
    "1. [Задача 1](#task1)  \n",
    "    1.1 [Подзадача 1](#subtask1)  \n",
    "    1.2 [Подзадача 2](#subtask2)  \n",
    "2. [Задача 2](#task2)"
   ]
  },
  {
   "cell_type": "markdown",
   "metadata": {},
   "source": [
    "### Как можно \"разгладить\" список"
   ]
  },
  {
   "cell_type": "code",
   "execution_count": 5,
   "metadata": {},
   "outputs": [],
   "source": [
    "my_list = [['Екатеринбург', 'Москва'], ['Санкт-Петербург', 'Норильск'], ['Пермь', 'Астрахань']]"
   ]
  },
  {
   "cell_type": "code",
   "execution_count": null,
   "metadata": {},
   "outputs": [],
   "source": [
    "# ['Екатеринбург', 'Москва', 'Санкт-Петербург', 'Норильск', 'Пермь', 'Астрахань']"
   ]
  },
  {
   "cell_type": "code",
   "execution_count": 9,
   "metadata": {},
   "outputs": [
    {
     "data": {
      "text/plain": [
       "['Екатеринбург', 'Москва', 'Санкт-Петербург', 'Норильск', 'Пермь', 'Астрахань']"
      ]
     },
     "execution_count": 9,
     "metadata": {},
     "output_type": "execute_result"
    }
   ],
   "source": [
    "res = []\n",
    "\n",
    "for el in my_list:\n",
    "    res += el\n",
    "\n",
    "res"
   ]
  },
  {
   "cell_type": "code",
   "execution_count": 12,
   "metadata": {},
   "outputs": [
    {
     "data": {
      "text/plain": [
       "['Екатеринбург', 'Москва', 'Санкт-Петербург', 'Норильск', 'Пермь', 'Астрахань']"
      ]
     },
     "execution_count": 12,
     "metadata": {},
     "output_type": "execute_result"
    }
   ],
   "source": [
    "sum(my_list, [])"
   ]
  },
  {
   "cell_type": "code",
   "execution_count": 16,
   "metadata": {},
   "outputs": [
    {
     "data": {
      "text/plain": [
       "'a,b,c'"
      ]
     },
     "execution_count": 16,
     "metadata": {},
     "output_type": "execute_result"
    }
   ],
   "source": [
    "my_str = ['a', 'b', 'c']\n",
    "\n",
    "','.join(my_str)"
   ]
  },
  {
   "cell_type": "markdown",
   "metadata": {},
   "source": [
    "### Изменение длины структуры данных во время итерации по ней"
   ]
  },
  {
   "cell_type": "markdown",
   "metadata": {},
   "source": [
    "Дан список с визитами по городам и странам. \n",
    "Напишем код, который возвращает отфильтрованный список geo_logs, содержащий только визиты из России."
   ]
  },
  {
   "cell_type": "code",
   "execution_count": 31,
   "metadata": {},
   "outputs": [],
   "source": [
    "geo_logs = [\n",
    "    {'visit1': ['Москва', 'Россия']},\n",
    "    {'visit2': ['Дели', 'Индия']},\n",
    "    {'visit3': ['Владимир', 'Россия']},\n",
    "    {'visit4': ['Лиссабон', 'Португалия']},\n",
    "    {'visit5': ['Париж', 'Франция']},\n",
    "    {'visit7': ['Тула', 'Россия']},\n",
    "    {'visit9': ['Курск', 'Россия']},\n",
    "    {'visit10': ['Архангельск', 'Россия']}\n",
    "]"
   ]
  },
  {
   "cell_type": "code",
   "execution_count": null,
   "metadata": {},
   "outputs": [],
   "source": []
  },
  {
   "cell_type": "code",
   "execution_count": 29,
   "metadata": {},
   "outputs": [
    {
     "data": {
      "text/plain": [
       "[{'visit1': ['Москва', 'Россия']},\n",
       " {'visit3': ['Владимир', 'Россия']},\n",
       " {'visit5': ['Париж', 'Франция']},\n",
       " {'visit7': ['Тула', 'Россия']},\n",
       " {'visit9': ['Курск', 'Россия']},\n",
       " {'visit10': ['Архангельск', 'Россия']}]"
      ]
     },
     "execution_count": 29,
     "metadata": {},
     "output_type": "execute_result"
    }
   ],
   "source": [
    "# так не работает, т.к. меняем длину объекта при итерации по нему\n",
    "for log in geo_logs:\n",
    "    if 'Россия' not in list(log.values())[0]:\n",
    "        geo_logs.remove(log)\n",
    "        \n",
    "geo_logs"
   ]
  },
  {
   "cell_type": "code",
   "execution_count": 33,
   "metadata": {},
   "outputs": [
    {
     "data": {
      "text/plain": [
       "[{'visit1': ['Москва', 'Россия']},\n",
       " {'visit3': ['Владимир', 'Россия']},\n",
       " {'visit7': ['Тула', 'Россия']},\n",
       " {'visit9': ['Курск', 'Россия']},\n",
       " {'visit10': ['Архангельск', 'Россия']}]"
      ]
     },
     "execution_count": 33,
     "metadata": {},
     "output_type": "execute_result"
    }
   ],
   "source": [
    "# создаем результирующий список, который наполняем по условию\n",
    "result = []\n",
    "\n",
    "for log in geo_logs:\n",
    "    if 'Россия' in list(log.values())[0]:\n",
    "        result.append(log)\n",
    "        \n",
    "result"
   ]
  },
  {
   "cell_type": "code",
   "execution_count": 35,
   "metadata": {},
   "outputs": [
    {
     "data": {
      "text/plain": [
       "[{'visit1': ['Москва', 'Россия']},\n",
       " {'visit3': ['Владимир', 'Россия']},\n",
       " {'visit7': ['Тула', 'Россия']},\n",
       " {'visit9': ['Курск', 'Россия']},\n",
       " {'visit10': ['Архангельск', 'Россия']}]"
      ]
     },
     "execution_count": 35,
     "metadata": {},
     "output_type": "execute_result"
    }
   ],
   "source": [
    "# решение через копирование структуры\n",
    "geo_logs_copy = geo_logs.copy()\n",
    "\n",
    "for log in geo_logs_copy:\n",
    "    if 'Россия' not in list(log.values())[0]:\n",
    "        geo_logs.remove(log)\n",
    "\n",
    "geo_logs        "
   ]
  },
  {
   "cell_type": "code",
   "execution_count": 37,
   "metadata": {},
   "outputs": [
    {
     "data": {
      "text/plain": [
       "[{'visit1': ['Москва', 'Россия']},\n",
       " {'visit3': ['Владимир', 'Россия']},\n",
       " {'visit7': ['Тула', 'Россия']},\n",
       " {'visit9': ['Курск', 'Россия']},\n",
       " {'visit10': ['Архангельск', 'Россия']}]"
      ]
     },
     "execution_count": 37,
     "metadata": {},
     "output_type": "execute_result"
    }
   ],
   "source": [
    "# красивое решенив  1 строку\n",
    "list(filter(lambda log: 'Россия' in list(log.values())[0], geo_logs))"
   ]
  },
  {
   "cell_type": "markdown",
   "metadata": {},
   "source": [
    "### Как можно отсортировать словарь?"
   ]
  },
  {
   "cell_type": "code",
   "execution_count": 49,
   "metadata": {},
   "outputs": [],
   "source": [
    "my_dict = {\n",
    "    'id1': 654321, \n",
    "    'id2': 123456, \n",
    "    'id3': 777777\n",
    "}"
   ]
  },
  {
   "cell_type": "code",
   "execution_count": 39,
   "metadata": {},
   "outputs": [
    {
     "data": {
      "text/plain": [
       "['id1', 'id2', 'id3']"
      ]
     },
     "execution_count": 39,
     "metadata": {},
     "output_type": "execute_result"
    }
   ],
   "source": [
    "sorted(my_dict)"
   ]
  },
  {
   "cell_type": "code",
   "execution_count": 40,
   "metadata": {},
   "outputs": [
    {
     "data": {
      "text/plain": [
       "[123456, 654321, 777777]"
      ]
     },
     "execution_count": 40,
     "metadata": {},
     "output_type": "execute_result"
    }
   ],
   "source": [
    "sorted(my_dict.values())"
   ]
  },
  {
   "cell_type": "code",
   "execution_count": 47,
   "metadata": {},
   "outputs": [
    {
     "data": {
      "text/plain": [
       "{'id2': 123456, 'id1': 654321, 'id3': 777777}"
      ]
     },
     "execution_count": 47,
     "metadata": {},
     "output_type": "execute_result"
    }
   ],
   "source": [
    "my_dict = {key: my_dict[key] for key in sorted(my_dict, key=my_dict.get)}\n",
    "my_dict"
   ]
  },
  {
   "cell_type": "code",
   "execution_count": 51,
   "metadata": {},
   "outputs": [
    {
     "data": {
      "text/plain": [
       "{'id2': 123456, 'id1': 654321, 'id3': 777777}"
      ]
     },
     "execution_count": 51,
     "metadata": {},
     "output_type": "execute_result"
    }
   ],
   "source": [
    "dict(sorted(my_dict.items(), key=lambda kv:kv[1]))"
   ]
  },
  {
   "cell_type": "markdown",
   "metadata": {},
   "source": [
    "### 5 задача про вложенные словари"
   ]
  },
  {
   "cell_type": "code",
   "execution_count": 55,
   "metadata": {},
   "outputs": [
    {
     "data": {
      "text/plain": [
       "{'2018-01-01': {'yandex': {'cpc': 100}}}"
      ]
     },
     "execution_count": 55,
     "metadata": {},
     "output_type": "execute_result"
    }
   ],
   "source": [
    "my_list = ['2018-01-01', 'yandex', 'cpc', 100]\n",
    "\n",
    "# {'2018-01-01': {'yandex': {'cpc': 100}}}\n",
    "\n",
    "last_el = my_list[-1]\n",
    "\n",
    "for el in reversed(my_list[:-1]):\n",
    "    last_el = {el:last_el}\n",
    "    \n",
    "last_el"
   ]
  },
  {
   "cell_type": "markdown",
   "metadata": {},
   "source": [
    "### Объединяем списки без zip"
   ]
  },
  {
   "cell_type": "code",
   "execution_count": 56,
   "metadata": {},
   "outputs": [],
   "source": [
    "visit1 = ['Я', 'ОН']\n",
    "visit2 = ['ТЫ', 'ОНА']\n",
    "\n",
    "res = [['Я','ТЫ'], ['ОН','ОНА']]"
   ]
  },
  {
   "cell_type": "code",
   "execution_count": 60,
   "metadata": {},
   "outputs": [
    {
     "data": {
      "text/plain": [
       "[['Я', 'ТЫ'], ['ОН', 'ОНА']]"
      ]
     },
     "execution_count": 60,
     "metadata": {},
     "output_type": "execute_result"
    }
   ],
   "source": [
    "res = []\n",
    "\n",
    "for el in range(len(visit1)):\n",
    "#     print(visit1[el])\n",
    "    res.append([visit1[el], visit2[el]])\n",
    "\n",
    "res"
   ]
  },
  {
   "cell_type": "code",
   "execution_count": null,
   "metadata": {},
   "outputs": [],
   "source": [
    "{'adwords': {'revenue': 35, 'cost': 34, 'ROI': 2.94}\n",
    "'facebook': {'revenue': 103, 'cost': 110, 'ROI': -6.36}\n",
    "'twitter': {'revenue': 11, 'cost': 24, 'ROI': -54.17}\n",
    "'vk': {'revenue': 103, 'cost': 98, 'ROI': 5.1}\n",
    "'yandex': {'revenue': 179, 'cost': 153, 'ROI': 16.99}}"
   ]
  },
  {
   "cell_type": "markdown",
   "metadata": {},
   "source": [
    "### Посчитаем сколько раз каждое слово встречаетсяв тексте"
   ]
  },
  {
   "cell_type": "code",
   "execution_count": 61,
   "metadata": {},
   "outputs": [],
   "source": [
    "some_oxy_text = '''\n",
    "Весь мой рэп, если коротко, про то, что\n",
    "Уж который год который город под подошвой\n",
    "В гору, когда прет. Потом под гору, когда тошно\n",
    "Я не то, что Гулливер, но все же город под подошвой\n",
    "Город под подошвой, город под подошвой\n",
    "Светофоры, госпошлины, сборы и таможни\n",
    "Я не знаю, вброд или на дно эта дорожка\n",
    "Ты живешь под каблуком, у меня - город под подошвой\n",
    "'''"
   ]
  },
  {
   "cell_type": "code",
   "execution_count": 75,
   "metadata": {},
   "outputs": [
    {
     "data": {
      "text/plain": [
       "{'все': 1,\n",
       " 'вброд': 1,\n",
       " 'и': 1,\n",
       " 'знаю': 1,\n",
       " 'таможни': 1,\n",
       " 'сборы': 1,\n",
       " 'тошно': 1,\n",
       " 'каблуком': 1,\n",
       " 'не': 2,\n",
       " 'который': 2,\n",
       " 'светофоры': 1,\n",
       " 'эта': 1,\n",
       " 'гору': 2,\n",
       " 'весь': 1,\n",
       " 'я': 2,\n",
       " 'когда': 2,\n",
       " 'ты': 1,\n",
       " 'коротко': 1,\n",
       " 'в': 1,\n",
       " 'но': 1,\n",
       " 'про': 1,\n",
       " 'прет': 1,\n",
       " 'город': 5,\n",
       " 'если': 1,\n",
       " 'уж': 1,\n",
       " 'меня': 1,\n",
       " 'на': 1,\n",
       " 'рэп': 1,\n",
       " 'дно': 1,\n",
       " 'живешь': 1,\n",
       " 'то': 2,\n",
       " 'мой': 1,\n",
       " 'под': 7,\n",
       " 'же': 1,\n",
       " 'что': 2,\n",
       " 'дорожка': 1,\n",
       " 'госпошлины': 1,\n",
       " 'гулливер': 1,\n",
       " 'или': 1,\n",
       " 'год': 1,\n",
       " 'подошвой': 5,\n",
       " 'потом': 1,\n",
       " 'у': 1}"
      ]
     },
     "execution_count": 75,
     "metadata": {},
     "output_type": "execute_result"
    }
   ],
   "source": [
    "res = {}\n",
    "\n",
    "splitted_text = some_oxy_text.replace(',', '')\\\n",
    "                             .replace('.', '')\\\n",
    "                             .replace('-', '')\\\n",
    "                             .replace('\\n', ' ')\\\n",
    "                             .lower()\\\n",
    "                             .split()\n",
    "\n",
    "for word in set(splitted_text):\n",
    "    res[word] = splitted_text.count(word)\n",
    "\n",
    "res"
   ]
  },
  {
   "cell_type": "code",
   "execution_count": 76,
   "metadata": {},
   "outputs": [
    {
     "data": {
      "text/plain": [
       "{'весь': 1,\n",
       " 'мой': 1,\n",
       " 'рэп': 1,\n",
       " 'если': 1,\n",
       " 'коротко': 1,\n",
       " 'про': 1,\n",
       " 'то': 2,\n",
       " 'что': 2,\n",
       " 'уж': 1,\n",
       " 'который': 2,\n",
       " 'год': 1,\n",
       " 'город': 5,\n",
       " 'под': 7,\n",
       " 'подошвой': 5,\n",
       " 'в': 1,\n",
       " 'гору': 2,\n",
       " 'когда': 2,\n",
       " 'прет': 1,\n",
       " 'потом': 1,\n",
       " 'тошно': 1,\n",
       " 'я': 2,\n",
       " 'не': 2,\n",
       " 'гулливер': 1,\n",
       " 'но': 1,\n",
       " 'все': 1,\n",
       " 'же': 1,\n",
       " 'светофоры': 1,\n",
       " 'госпошлины': 1,\n",
       " 'сборы': 1,\n",
       " 'и': 1,\n",
       " 'таможни': 1,\n",
       " 'знаю': 1,\n",
       " 'вброд': 1,\n",
       " 'или': 1,\n",
       " 'на': 1,\n",
       " 'дно': 1,\n",
       " 'эта': 1,\n",
       " 'дорожка': 1,\n",
       " 'ты': 1,\n",
       " 'живешь': 1,\n",
       " 'каблуком': 1,\n",
       " 'у': 1,\n",
       " 'меня': 1}"
      ]
     },
     "execution_count": 76,
     "metadata": {},
     "output_type": "execute_result"
    }
   ],
   "source": [
    "res = {}\n",
    "\n",
    "for word in splitted_text:\n",
    "    if word in res:\n",
    "        res[word] += 1\n",
    "    else:\n",
    "        res[word] = 1\n",
    "        \n",
    "res\n"
   ]
  },
  {
   "cell_type": "code",
   "execution_count": null,
   "metadata": {},
   "outputs": [],
   "source": []
  },
  {
   "cell_type": "markdown",
   "metadata": {},
   "source": [
    "Экранированные последовательности в python: https://pyprog.pro/python/py/str/esqape_sec.html"
   ]
  },
  {
   "cell_type": "markdown",
   "metadata": {},
   "source": [
    "### Задача 1 \n",
    "<a id='task1'></a>"
   ]
  },
  {
   "cell_type": "code",
   "execution_count": 3,
   "metadata": {},
   "outputs": [],
   "source": [
    "# code"
   ]
  },
  {
   "cell_type": "markdown",
   "metadata": {},
   "source": [
    "### Задача 2 \n",
    "<a id='task2'></a>"
   ]
  },
  {
   "cell_type": "code",
   "execution_count": null,
   "metadata": {},
   "outputs": [],
   "source": []
  }
 ],
 "metadata": {
  "kernelspec": {
   "display_name": "Python 3",
   "language": "python",
   "name": "python3"
  },
  "language_info": {
   "codemirror_mode": {
    "name": "ipython",
    "version": 3
   },
   "file_extension": ".py",
   "mimetype": "text/x-python",
   "name": "python",
   "nbconvert_exporter": "python",
   "pygments_lexer": "ipython3",
   "version": "3.8.5"
  }
 },
 "nbformat": 4,
 "nbformat_minor": 4
}
