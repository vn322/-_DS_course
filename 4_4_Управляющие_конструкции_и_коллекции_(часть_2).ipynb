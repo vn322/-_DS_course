{
  "nbformat": 4,
  "nbformat_minor": 0,
  "metadata": {
    "colab": {
      "name": "4.4.Управляющие конструкции и коллекции (часть 2).ipynb",
      "provenance": [],
      "collapsed_sections": []
    },
    "kernelspec": {
      "name": "python3",
      "display_name": "Python 3"
    },
    "language_info": {
      "name": "python"
    }
  },
  "cells": [
    {
      "cell_type": "markdown",
      "source": [
        "Домашнее задание к лекции \"Введение в типы данных и циклы. Часть 2\"\n",
        "Задание 1\n",
        "Дана переменная, в которой хранится словарь, содержащий гео-метки для каждого пользователя (пример структуры данных приведен ниже). Вам необходимо написать программу, которая выведет на экран множество уникальных гео-меток всех пользователей.\n",
        "\n",
        "Пример работы программы:\n",
        "\n",
        "ids = {'user1': [213, 213, 213, 15, 213], \n",
        "       'user2': [54, 54, 119, 119, 119], \n",
        "       'user3': [213, 98, 98, 35]}\n",
        "Результат: {98, 35, 15, 213, 54, 119}"
      ],
      "metadata": {
        "id": "IaYFgSRPONXp"
      }
    },
    {
      "cell_type": "code",
      "source": [
        "ids = {'user1': [213, 213, 213, 15, 213], \n",
        "       'user2': [54, 54, 119, 119, 119], \n",
        "       'user3': [213, 98, 98, 35]}\n",
        "z =[]\n",
        "for i in ids.values():\n",
        "  z += i\n",
        "print(set(z))"
      ],
      "metadata": {
        "colab": {
          "base_uri": "https://localhost:8080/"
        },
        "id": "jdnRqY_zOWih",
        "outputId": "9126f6da-1e7d-410a-9ff9-0ed30f8167ba"
      },
      "execution_count": null,
      "outputs": [
        {
          "output_type": "stream",
          "name": "stdout",
          "text": [
            "{98, 35, 15, 213, 54, 119}\n"
          ]
        }
      ]
    },
    {
      "cell_type": "markdown",
      "source": [
        "Задание 2\n",
        "Дана переменная, в которой хранится список поисковых запросов пользователя (пример структуры данных приведен ниже). Вам необходимо написать программу, которая выведет на экран распределение количества слов в запросах в требуемом виде.\n",
        "\n",
        "Пример работы программы:\n",
        "\n",
        "queries = [\n",
        "    'смотреть сериалы онлайн',\n",
        "    'новости спорта',\n",
        "    'афиша кино',\n",
        "    'курс доллара',\n",
        "    'сериалы этим летом',\n",
        "    'курс по питону',\n",
        "    'сериалы про спорт',\n",
        "]\n",
        "Результат:\n",
        "\n",
        "Поисковых запросов, содержащих 2 слов(а): 42.86%\n",
        "Поисковых запросов, содержащих 3 слов(а): 57.14%"
      ],
      "metadata": {
        "id": "GRht4eXmRA0A"
      }
    },
    {
      "cell_type": "code",
      "source": [
        "queries = [\n",
        "    'смотреть сериалы онлайн',\n",
        "    'новости спорта',\n",
        "    'афиша кино',\n",
        "    'курс доллара',\n",
        "    'сериалы этим летом',\n",
        "    'курс по питону',\n",
        "    'сериалы про спорт',\n",
        "]\n",
        "\n",
        "\n",
        "res = []\n",
        "\n",
        "for i in queries:\n",
        "    res.append(len(i.split()))\n",
        "\n",
        "x = 1\n",
        "\n",
        "while x <= max(res):\n",
        "    if res.count(x) > 0:\n",
        "        print('Поисковых запросов, содержащих', x ,'слов(а):', round(res.count(x)*100/len(res),2))\n",
        "    x += 1"
      ],
      "metadata": {
        "colab": {
          "base_uri": "https://localhost:8080/"
        },
        "id": "tAVxZSWnRHqu",
        "outputId": "d08efd3a-ede5-41db-facf-3b1c7dd95ed9"
      },
      "execution_count": null,
      "outputs": [
        {
          "output_type": "stream",
          "name": "stdout",
          "text": [
            "Поисковых запросов, содержащих 2 слов(а): 42.86\n",
            "Поисковых запросов, содержащих 3 слов(а): 57.14\n"
          ]
        }
      ]
    },
    {
      "cell_type": "markdown",
      "source": [
        "Задание 3\n",
        "Дана переменная, в которой хранится информация о затратах и доходе рекламных кампаний по различным источникам. Необходимо дополнить исходную структуру показателем ROI, который рассчитаем по формуле: (revenue / cost - 1) * 100\n",
        "\n",
        "Пример работы программы:\n",
        "\n",
        "results = {\n",
        "    'vk': {'revenue': 103, 'cost': 98},\n",
        "    'yandex': {'revenue': 179, 'cost': 153},\n",
        "    'facebook': {'revenue': 103, 'cost': 110},\n",
        "    'adwords': {'revenue': 35, 'cost': 34},\n",
        "    'twitter': {'revenue': 11, 'cost': 24},\n",
        "}\n",
        "Результат:\n",
        "\n",
        "{'adwords': {'revenue': 35, 'cost': 34, 'ROI': 2.94},\n",
        " 'facebook': {'revenue': 103, 'cost': 110, 'ROI': -6.36},\n",
        " 'twitter': {'revenue': 11, 'cost': 24, 'ROI': -54.17},\n",
        " 'vk': {'revenue': 103, 'cost': 98, 'ROI': 5.1},\n",
        " 'yandex': {'revenue': 179, 'cost': 153, 'ROI': 16.99}}"
      ],
      "metadata": {
        "id": "mTpszHpPVnaS"
      }
    },
    {
      "cell_type": "code",
      "source": [
        "results = {\n",
        "    'vk': {'revenue': 103, 'cost': 98},\n",
        "    'yandex': {'revenue': 179, 'cost': 153},\n",
        "    'facebook': {'revenue': 103, 'cost': 110},\n",
        "    'adwords': {'revenue': 35, 'cost': 34},\n",
        "    'twitter': {'revenue': 11, 'cost': 24},\n",
        "}\n",
        "\n",
        "resultsP = {}\n",
        "\n",
        "for row,values in results.items():\n",
        "  \n",
        "  resultsP.update({row:{'revenue':values['revenue'], 'cost':values['cost'], 'ROI':round((values['revenue'] / values['cost'] - 1) * 100, 2)}})\n",
        "\n",
        "resultsP"
      ],
      "metadata": {
        "colab": {
          "base_uri": "https://localhost:8080/"
        },
        "id": "fPyrOHrdY1oy",
        "outputId": "59cce6ff-2166-49ae-a0e2-1611583fd86b"
      },
      "execution_count": null,
      "outputs": [
        {
          "output_type": "execute_result",
          "data": {
            "text/plain": [
              "{'adwords': {'ROI': 2.94, 'cost': 34, 'revenue': 35},\n",
              " 'facebook': {'ROI': -6.36, 'cost': 110, 'revenue': 103},\n",
              " 'twitter': {'ROI': -54.17, 'cost': 24, 'revenue': 11},\n",
              " 'vk': {'ROI': 5.1, 'cost': 98, 'revenue': 103},\n",
              " 'yandex': {'ROI': 16.99, 'cost': 153, 'revenue': 179}}"
            ]
          },
          "metadata": {},
          "execution_count": 49
        }
      ]
    },
    {
      "cell_type": "markdown",
      "source": [
        "Задание 4\n",
        "Дана переменная, в которой хранится статистика рекламных каналов по объемам продаж (пример структуры данных приведен ниже). Напишите программу, которая возвращает название канала с максимальным объемом продаж.\n",
        "\n",
        "Пример работы программы:\n",
        "\n",
        "stats = {'facebook': 55, 'yandex': 115, 'vk': 120, 'google': 99, 'email': 42, 'ok': 98}\n",
        "\n",
        "Результат: Максимальный объем продаж на рекламном канале: vk"
      ],
      "metadata": {
        "id": "Ae7k48APYleo"
      }
    },
    {
      "cell_type": "code",
      "source": [
        "stats = {'facebook': 55, 'yandex': 115, 'vk': 120, 'google': 99, 'email': 42, 'ok': 98}\n",
        "\n",
        "for channel, profit in stats.items():\n",
        "     if profit == max(list(stats.values())):\n",
        "         print('Максимальный объем продаж на рекламном канале:',channel)\n",
        "         break\n"
      ],
      "metadata": {
        "colab": {
          "base_uri": "https://localhost:8080/"
        },
        "id": "pJd7ssupZCB5",
        "outputId": "758f752e-a58b-4469-be53-2f8efb62a21e"
      },
      "execution_count": null,
      "outputs": [
        {
          "output_type": "stream",
          "name": "stdout",
          "text": [
            "Максимальный объем продаж на рекламном канале: vk\n"
          ]
        }
      ]
    },
    {
      "cell_type": "markdown",
      "source": [
        "Задание 5 (необязательно)\n",
        "Дан список произвольной длины. Необходимо написать код, который на основе исходного списка составит словарь такого уровня вложенности, какова длина исхондого списка.\n",
        "\n",
        "Примеры работы программы:\n",
        "\n",
        "my_list = ['2018-01-01', 'yandex', 'cpc', 100]\n",
        "Результат: {'2018-01-01': {'yandex': {'cpc': 100}}}\n",
        "\n",
        "my_list = ['a', 'b', 'c', 'd', 'e', 'f']\n",
        "Результат: {'a': {'b': {'c': {'d': {'e': 'f'}}}}}"
      ],
      "metadata": {
        "id": "VeNikf1lahD3"
      }
    },
    {
      "cell_type": "code",
      "source": [
        "my_list = ['a', 'b', 'c', 'd', 'e', 'f']\n",
        "\n",
        "dln = len(my_list) - 1\n",
        "\n",
        "res = {}\n",
        "\n",
        "res[my_list[dln - 1]] = my_list[dln]\n",
        "\n",
        "dln = dln - 1\n",
        "\n",
        "while dln:\n",
        "    dln = dln - 1\n",
        "    resN = res.copy()\n",
        "    res.clear()\n",
        "    res[my_list[dln]] = resN\n",
        "print(res)"
      ],
      "metadata": {
        "colab": {
          "base_uri": "https://localhost:8080/"
        },
        "id": "JcfYYhJ5ak8Z",
        "outputId": "8aa48e99-0caf-4d30-fab0-b282f29e1d42"
      },
      "execution_count": null,
      "outputs": [
        {
          "output_type": "stream",
          "name": "stdout",
          "text": [
            "{'a': {'b': {'c': {'d': {'e': 'f'}}}}}\n"
          ]
        }
      ]
    },
    {
      "cell_type": "markdown",
      "source": [
        "Задание 6 (необязательно)\n",
        "Дана книга рецептов с информацией о том, сколько ингредиентов нужно для приготовления блюда в расчете на одну порцию (пример данных представлен ниже).\n",
        "Напишите программу, которая будет запрашивать у пользователя количество порций для приготовления этих блюд и отображать информацию о суммарном количестве требуемых ингредиентов в указанном виде.\n",
        "Внимание! Одинаковые ингридиенты с разными размерностями нужно считать раздельно!\n",
        "Пример работы программы:\n",
        "\n",
        "cook_book = {\n",
        "  'салат': [\n",
        "     {'ingridient_name': 'сыр', 'quantity': 50, 'measure': 'гр'},\n",
        "     {'ingridient_name': 'томаты', 'quantity': 2, 'measure': 'шт'},\n",
        "     {'ingridient_name': 'огурцы', 'quantity': 20, 'measure': 'гр'},\n",
        "     {'ingridient_name': 'маслины', 'quantity': 10, 'measure': 'гр'},\n",
        "     {'ingridient_name': 'оливковое масло', 'quantity': 20, 'measure': 'мл'},\n",
        "     {'ingridient_name': 'салат', 'quantity': 10, 'measure': 'гр'},\n",
        "     {'ingridient_name': 'перец', 'quantity': 20, 'measure': 'гр'}\n",
        "    ],\n",
        "  'пицца': [\n",
        "     {'ingridient_name': 'сыр', 'quantity': 20, 'measure': 'гр'},\n",
        "     {'ingridient_name': 'колбаса', 'quantity': 30, 'measure': 'гр'},\n",
        "     {'ingridient_name': 'бекон', 'quantity': 30, 'measure': 'гр'},\n",
        "     {'ingridient_name': 'оливки', 'quantity': 10, 'measure': 'гр'},\n",
        "     {'ingridient_name': 'томаты', 'quantity': 20, 'measure': 'гр'},\n",
        "     {'ingridient_name': 'тесто', 'quantity': 100, 'measure': 'гр'},   \n",
        "    ],\n",
        "  'лимонад': [\n",
        "     {'ingridient_name': 'лимон', 'quantity': 1, 'measure': 'шт'},\n",
        "     {'ingridient_name': 'вода', 'quantity': 200, 'measure': 'мл'},\n",
        "     {'ingridient_name': 'сахар', 'quantity': 10, 'measure': 'гр'},\n",
        "     {'ingridient_name': 'лайм', 'quantity': 20, 'measure': 'гр'},    \n",
        "    ]\n",
        "}\n",
        "\n",
        "Введите количество порций:  \n",
        "3\n",
        "Результат:\n",
        "\n",
        "Сыр: 210 гр  \n",
        "Томаты: 6 шт  \n",
        "Огурцы: 60 гр  \n",
        "Маслины: 30 гр  \n",
        "Оливковое масло: 60 мл  \n",
        "Салат: 30 гр  \n",
        "Перец: 60 гр  \n",
        "Колбаса: 90 гр  \n",
        "Бекон: 90 гр  \n",
        "Оливки: 30 гр  \n",
        "Томаты: 60 гр  \n",
        "Тесто: 300 гр  \n",
        "Лимон: 3 шт  \n",
        "Вода: 600 мл  \n",
        "Сахар: 30 гр  \n",
        "Лайм: 60 гр"
      ],
      "metadata": {
        "id": "jwXnGnp7caqI"
      }
    },
    {
      "cell_type": "code",
      "source": [
        "mcook_book = {\n",
        "  'салат': [\n",
        "     {'ingridient_name': 'сыр', 'quantity': 50, 'measure': 'гр'},\n",
        "     {'ingridient_name': 'томаты', 'quantity': 2, 'measure': 'шт'},\n",
        "     {'ingridient_name': 'огурцы', 'quantity': 20, 'measure': 'гр'},\n",
        "     {'ingridient_name': 'маслины', 'quantity': 10, 'measure': 'гр'},\n",
        "     {'ingridient_name': 'оливковое масло', 'quantity': 20, 'measure': 'мл'},\n",
        "     {'ingridient_name': 'салат', 'quantity': 10, 'measure': 'гр'},\n",
        "     {'ingridient_name': 'перец', 'quantity': 20, 'measure': 'гр'}\n",
        "    ],\n",
        "  'пицца': [\n",
        "     {'ingridient_name': 'сыр', 'quantity': 20, 'measure': 'гр'},\n",
        "     {'ingridient_name': 'колбаса', 'quantity': 30, 'measure': 'гр'},\n",
        "     {'ingridient_name': 'бекон', 'quantity': 30, 'measure': 'гр'},\n",
        "     {'ingridient_name': 'оливки', 'quantity': 10, 'measure': 'гр'},\n",
        "     {'ingridient_name': 'томаты', 'quantity': 20, 'measure': 'гр'},\n",
        "     {'ingridient_name': 'тесто', 'quantity': 100, 'measure': 'гр'},   \n",
        "    ],\n",
        "  'лимонад': [\n",
        "     {'ingridient_name': 'лимон', 'quantity': 1, 'measure': 'шт'},\n",
        "     {'ingridient_name': 'вода', 'quantity': 200, 'measure': 'мл'},\n",
        "     {'ingridient_name': 'сахар', 'quantity': 10, 'measure': 'гр'},\n",
        "     {'ingridient_name': 'лайм', 'quantity': 20, 'measure': 'гр'},    \n",
        "    ]\n",
        "}\n",
        "\n",
        "my_dict = {}\n",
        "\n",
        "num = int(input('Введите количество порций: \\n'))\n",
        "\n",
        "for i in mcook_book.items():\n",
        "    for ingridient in i[1]:\n",
        "        ingridient_measure = ingridient['ingridient_name'].replace(' ','_') + ' ' + ingridient['measure']\n",
        "        quantity = ingridient['quantity']\n",
        "        if ingridient_measure in my_dict:\n",
        "            my_dict[ingridient_measure] += quantity * num\n",
        "        else:\n",
        "            my_dict.setdefault(ingridient_measure, quantity * num)\n",
        "            \n",
        "for ing, values in my_dict.items():\n",
        "    name = ing.split()\n",
        "    print(name[0].capitalize().replace('_',' ') + ':', values, name[1])\n"
      ],
      "metadata": {
        "colab": {
          "base_uri": "https://localhost:8080/"
        },
        "id": "2P5U13uHciSY",
        "outputId": "d163a7cc-8481-4a72-bc12-5650562ab73b"
      },
      "execution_count": null,
      "outputs": [
        {
          "output_type": "stream",
          "name": "stdout",
          "text": [
            "Введите количество порций: \n",
            "3\n",
            "Сыр: 210 гр\n",
            "Томаты: 6 шт\n",
            "Огурцы: 60 гр\n",
            "Маслины: 30 гр\n",
            "Оливковое масло: 60 мл\n",
            "Салат: 30 гр\n",
            "Перец: 60 гр\n",
            "Колбаса: 90 гр\n",
            "Бекон: 90 гр\n",
            "Оливки: 30 гр\n",
            "Томаты: 60 гр\n",
            "Тесто: 300 гр\n",
            "Лимон: 3 шт\n",
            "Вода: 600 мл\n",
            "Сахар: 30 гр\n",
            "Лайм: 60 гр\n"
          ]
        }
      ]
    },
    {
      "cell_type": "markdown",
      "source": [
        "# Комментарии преподавателя\n",
        "\n",
        "Алексей, приветствую!\n",
        "\n",
        "У вас хорошая работа, почти все задания выполнены полностью верно.\n",
        "\n",
        "Мы на одной из практик рассматривали вариант использования функции sum с доп. параметром для суммирования списков, т.е. в первом задании можно было так:\n",
        "\n",
        "1\n",
        "print(set(sum(ids.values(), [])))\n",
        "А во второй задаче ваша реализация жестко привязана к исходным данным. Ваша задача написать универсальный алгоритм, который будет корректно работать на любых данных аналогичной структуры. А что если запросы будут состоять из любого количества слов от 1 до 1000? Вы же не будете вручную прописывать каждый случай (как сейчас). Я бы рекомендовал использовать в качестве результирующей переменной словарь. Ключами бы в нем были варианты количества слов в запросах, а значениями – количество таких запросов. Формировали бы его так же в цикле, проверяли бы наличие текущей длины в ключах и наращивали бы значение на 1. Просьба это поправить.\n",
        "\n",
        "И у 4 задачи есть еще много интересных способов решения, если будет интересно, можете почитать вот этот тред на stackoverflow:https://stackoverflow.com/questions/268272/getting-key-with-maximum-value-in-dictionary "
      ],
      "metadata": {
        "id": "P5pSK5l2rH9I"
      }
    },
    {
      "cell_type": "code",
      "source": [
        "print(set(sum(ids.values(), [])))"
      ],
      "metadata": {
        "id": "i6Moe4t2rZzo"
      },
      "execution_count": null,
      "outputs": []
    }
  ]
}