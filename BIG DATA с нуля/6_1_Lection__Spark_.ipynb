{
  "nbformat": 4,
  "nbformat_minor": 0,
  "metadata": {
    "colab": {
      "name": "6.1 Lection_ Spark\"",
      "provenance": [],
      "collapsed_sections": []
    },
    "kernelspec": {
      "name": "python3",
      "display_name": "Python 3"
    }
  },
  "cells": [
    {
      "cell_type": "markdown",
      "metadata": {
        "id": "HkjqeMDxpo-a"
      },
      "source": [
        "Установка Spark"
      ]
    },
    {
      "cell_type": "code",
      "metadata": {
        "colab": {
          "base_uri": "https://localhost:8080/"
        },
        "id": "etFJ7ZgKpl41",
        "outputId": "6c90bcf3-472d-4db5-85b8-be229538f1c1"
      },
      "source": [
        "!apt-get update"
      ],
      "execution_count": 1,
      "outputs": [
        {
          "output_type": "stream",
          "name": "stdout",
          "text": [
            "\r0% [Working]\r            \rHit:1 https://developer.download.nvidia.com/compute/cuda/repos/ubuntu1804/x86_64  InRelease\n",
            "Get:2 https://cloud.r-project.org/bin/linux/ubuntu bionic-cran40/ InRelease [3,626 B]\n",
            "Hit:3 http://archive.ubuntu.com/ubuntu bionic InRelease\n",
            "Ign:4 https://developer.download.nvidia.com/compute/machine-learning/repos/ubuntu1804/x86_64  InRelease\n",
            "Get:5 http://ppa.launchpad.net/c2d4u.team/c2d4u4.0+/ubuntu bionic InRelease [15.9 kB]\n",
            "Hit:6 https://developer.download.nvidia.com/compute/machine-learning/repos/ubuntu1804/x86_64  Release\n",
            "Get:7 http://security.ubuntu.com/ubuntu bionic-security InRelease [88.7 kB]\n",
            "Get:8 http://archive.ubuntu.com/ubuntu bionic-updates InRelease [88.7 kB]\n",
            "Hit:9 http://ppa.launchpad.net/cran/libgit2/ubuntu bionic InRelease\n",
            "Hit:10 http://ppa.launchpad.net/deadsnakes/ppa/ubuntu bionic InRelease\n",
            "Get:11 http://archive.ubuntu.com/ubuntu bionic-backports InRelease [74.6 kB]\n",
            "Get:12 http://ppa.launchpad.net/graphics-drivers/ppa/ubuntu bionic InRelease [21.3 kB]\n",
            "Get:14 http://ppa.launchpad.net/c2d4u.team/c2d4u4.0+/ubuntu bionic/main Sources [2,073 kB]\n",
            "Get:15 http://security.ubuntu.com/ubuntu bionic-security/multiverse amd64 Packages [22.8 kB]\n",
            "Get:16 http://security.ubuntu.com/ubuntu bionic-security/universe amd64 Packages [1,521 kB]\n",
            "Get:17 http://ppa.launchpad.net/c2d4u.team/c2d4u4.0+/ubuntu bionic/main amd64 Packages [1,062 kB]\n",
            "Get:18 http://security.ubuntu.com/ubuntu bionic-security/restricted amd64 Packages [1,021 kB]\n",
            "Get:19 http://security.ubuntu.com/ubuntu bionic-security/main amd64 Packages [2,866 kB]\n",
            "Get:20 http://archive.ubuntu.com/ubuntu bionic-updates/universe amd64 Packages [2,298 kB]\n",
            "Get:21 http://archive.ubuntu.com/ubuntu bionic-updates/main amd64 Packages [3,298 kB]\n",
            "Get:22 http://archive.ubuntu.com/ubuntu bionic-updates/multiverse amd64 Packages [29.8 kB]\n",
            "Get:23 http://archive.ubuntu.com/ubuntu bionic-updates/restricted amd64 Packages [1,065 kB]\n",
            "Get:24 http://archive.ubuntu.com/ubuntu bionic-backports/main amd64 Packages [12.2 kB]\n",
            "Get:25 http://ppa.launchpad.net/graphics-drivers/ppa/ubuntu bionic/main amd64 Packages [47.8 kB]\n",
            "Fetched 15.6 MB in 6s (2,470 kB/s)\n",
            "Reading package lists... Done\n"
          ]
        }
      ]
    },
    {
      "cell_type": "code",
      "metadata": {
        "id": "N0HaFRkEps1B"
      },
      "source": [
        "!apt-get install openjdk-8-jdk-headless -qq > /dev/null"
      ],
      "execution_count": 2,
      "outputs": []
    },
    {
      "cell_type": "code",
      "metadata": {
        "id": "Jy_sIJ6ypyIv"
      },
      "source": [
        "!wget -q https://downloads.apache.org/spark/spark-3.2.1/spark-3.2.1-bin-hadoop2.7.tgz"
      ],
      "execution_count": 3,
      "outputs": []
    },
    {
      "cell_type": "code",
      "metadata": {
        "colab": {
          "base_uri": "https://localhost:8080/"
        },
        "id": "1Q5LMILepz_N",
        "outputId": "5f966d5a-08fb-4925-b699-c7cfa8e9d9c3"
      },
      "source": [
        "!tar -xvf spark-3.2.1-bin-hadoop2.7.tgz"
      ],
      "execution_count": 4,
      "outputs": [
        {
          "output_type": "stream",
          "name": "stdout",
          "text": [
            "spark-3.2.1-bin-hadoop2.7/\n",
            "spark-3.2.1-bin-hadoop2.7/LICENSE\n",
            "spark-3.2.1-bin-hadoop2.7/NOTICE\n",
            "spark-3.2.1-bin-hadoop2.7/R/\n",
            "spark-3.2.1-bin-hadoop2.7/R/lib/\n",
            "spark-3.2.1-bin-hadoop2.7/R/lib/SparkR/\n",
            "spark-3.2.1-bin-hadoop2.7/R/lib/SparkR/DESCRIPTION\n",
            "spark-3.2.1-bin-hadoop2.7/R/lib/SparkR/INDEX\n",
            "spark-3.2.1-bin-hadoop2.7/R/lib/SparkR/Meta/\n",
            "spark-3.2.1-bin-hadoop2.7/R/lib/SparkR/Meta/Rd.rds\n",
            "spark-3.2.1-bin-hadoop2.7/R/lib/SparkR/Meta/features.rds\n",
            "spark-3.2.1-bin-hadoop2.7/R/lib/SparkR/Meta/hsearch.rds\n",
            "spark-3.2.1-bin-hadoop2.7/R/lib/SparkR/Meta/links.rds\n",
            "spark-3.2.1-bin-hadoop2.7/R/lib/SparkR/Meta/nsInfo.rds\n",
            "spark-3.2.1-bin-hadoop2.7/R/lib/SparkR/Meta/package.rds\n",
            "spark-3.2.1-bin-hadoop2.7/R/lib/SparkR/NAMESPACE\n",
            "spark-3.2.1-bin-hadoop2.7/R/lib/SparkR/R/\n",
            "spark-3.2.1-bin-hadoop2.7/R/lib/SparkR/R/SparkR\n",
            "spark-3.2.1-bin-hadoop2.7/R/lib/SparkR/R/SparkR.rdb\n",
            "spark-3.2.1-bin-hadoop2.7/R/lib/SparkR/R/SparkR.rdx\n",
            "spark-3.2.1-bin-hadoop2.7/R/lib/SparkR/help/\n",
            "spark-3.2.1-bin-hadoop2.7/R/lib/SparkR/help/AnIndex\n",
            "spark-3.2.1-bin-hadoop2.7/R/lib/SparkR/help/SparkR.rdb\n",
            "spark-3.2.1-bin-hadoop2.7/R/lib/SparkR/help/SparkR.rdx\n",
            "spark-3.2.1-bin-hadoop2.7/R/lib/SparkR/help/aliases.rds\n",
            "spark-3.2.1-bin-hadoop2.7/R/lib/SparkR/help/paths.rds\n",
            "spark-3.2.1-bin-hadoop2.7/R/lib/SparkR/html/\n",
            "spark-3.2.1-bin-hadoop2.7/R/lib/SparkR/html/00Index.html\n",
            "spark-3.2.1-bin-hadoop2.7/R/lib/SparkR/html/R.css\n",
            "spark-3.2.1-bin-hadoop2.7/R/lib/SparkR/profile/\n",
            "spark-3.2.1-bin-hadoop2.7/R/lib/SparkR/profile/general.R\n",
            "spark-3.2.1-bin-hadoop2.7/R/lib/SparkR/profile/shell.R\n",
            "spark-3.2.1-bin-hadoop2.7/R/lib/SparkR/tests/\n",
            "spark-3.2.1-bin-hadoop2.7/R/lib/SparkR/tests/testthat/\n",
            "spark-3.2.1-bin-hadoop2.7/R/lib/SparkR/tests/testthat/test_basic.R\n",
            "spark-3.2.1-bin-hadoop2.7/R/lib/SparkR/worker/\n",
            "spark-3.2.1-bin-hadoop2.7/R/lib/SparkR/worker/daemon.R\n",
            "spark-3.2.1-bin-hadoop2.7/R/lib/SparkR/worker/worker.R\n",
            "spark-3.2.1-bin-hadoop2.7/R/lib/sparkr.zip\n",
            "spark-3.2.1-bin-hadoop2.7/README.md\n",
            "spark-3.2.1-bin-hadoop2.7/RELEASE\n",
            "spark-3.2.1-bin-hadoop2.7/bin/\n",
            "spark-3.2.1-bin-hadoop2.7/bin/beeline\n",
            "spark-3.2.1-bin-hadoop2.7/bin/beeline.cmd\n",
            "spark-3.2.1-bin-hadoop2.7/bin/docker-image-tool.sh\n",
            "spark-3.2.1-bin-hadoop2.7/bin/find-spark-home\n",
            "spark-3.2.1-bin-hadoop2.7/bin/find-spark-home.cmd\n",
            "spark-3.2.1-bin-hadoop2.7/bin/load-spark-env.cmd\n",
            "spark-3.2.1-bin-hadoop2.7/bin/load-spark-env.sh\n",
            "spark-3.2.1-bin-hadoop2.7/bin/pyspark\n",
            "spark-3.2.1-bin-hadoop2.7/bin/pyspark.cmd\n",
            "spark-3.2.1-bin-hadoop2.7/bin/pyspark2.cmd\n",
            "spark-3.2.1-bin-hadoop2.7/bin/run-example\n",
            "spark-3.2.1-bin-hadoop2.7/bin/run-example.cmd\n",
            "spark-3.2.1-bin-hadoop2.7/bin/spark-class\n",
            "spark-3.2.1-bin-hadoop2.7/bin/spark-class.cmd\n",
            "spark-3.2.1-bin-hadoop2.7/bin/spark-class2.cmd\n",
            "spark-3.2.1-bin-hadoop2.7/bin/spark-shell\n",
            "spark-3.2.1-bin-hadoop2.7/bin/spark-shell.cmd\n",
            "spark-3.2.1-bin-hadoop2.7/bin/spark-shell2.cmd\n",
            "spark-3.2.1-bin-hadoop2.7/bin/spark-sql\n",
            "spark-3.2.1-bin-hadoop2.7/bin/spark-sql.cmd\n",
            "spark-3.2.1-bin-hadoop2.7/bin/spark-sql2.cmd\n",
            "spark-3.2.1-bin-hadoop2.7/bin/spark-submit\n",
            "spark-3.2.1-bin-hadoop2.7/bin/spark-submit.cmd\n",
            "spark-3.2.1-bin-hadoop2.7/bin/spark-submit2.cmd\n",
            "spark-3.2.1-bin-hadoop2.7/bin/sparkR\n",
            "spark-3.2.1-bin-hadoop2.7/bin/sparkR.cmd\n",
            "spark-3.2.1-bin-hadoop2.7/bin/sparkR2.cmd\n",
            "spark-3.2.1-bin-hadoop2.7/conf/\n",
            "spark-3.2.1-bin-hadoop2.7/conf/fairscheduler.xml.template\n",
            "spark-3.2.1-bin-hadoop2.7/conf/log4j.properties.template\n",
            "spark-3.2.1-bin-hadoop2.7/conf/metrics.properties.template\n",
            "spark-3.2.1-bin-hadoop2.7/conf/spark-defaults.conf.template\n",
            "spark-3.2.1-bin-hadoop2.7/conf/spark-env.sh.template\n",
            "spark-3.2.1-bin-hadoop2.7/conf/workers.template\n",
            "spark-3.2.1-bin-hadoop2.7/data/\n",
            "spark-3.2.1-bin-hadoop2.7/data/graphx/\n",
            "spark-3.2.1-bin-hadoop2.7/data/graphx/followers.txt\n",
            "spark-3.2.1-bin-hadoop2.7/data/graphx/users.txt\n",
            "spark-3.2.1-bin-hadoop2.7/data/mllib/\n",
            "spark-3.2.1-bin-hadoop2.7/data/mllib/als/\n",
            "spark-3.2.1-bin-hadoop2.7/data/mllib/als/sample_movielens_ratings.txt\n",
            "spark-3.2.1-bin-hadoop2.7/data/mllib/als/test.data\n",
            "spark-3.2.1-bin-hadoop2.7/data/mllib/gmm_data.txt\n",
            "spark-3.2.1-bin-hadoop2.7/data/mllib/images/\n",
            "spark-3.2.1-bin-hadoop2.7/data/mllib/images/license.txt\n",
            "spark-3.2.1-bin-hadoop2.7/data/mllib/images/origin/\n",
            "spark-3.2.1-bin-hadoop2.7/data/mllib/images/origin/kittens/\n",
            "spark-3.2.1-bin-hadoop2.7/data/mllib/images/origin/kittens/29.5.a_b_EGDP022204.jpg\n",
            "spark-3.2.1-bin-hadoop2.7/data/mllib/images/origin/kittens/54893.jpg\n",
            "spark-3.2.1-bin-hadoop2.7/data/mllib/images/origin/kittens/DP153539.jpg\n",
            "spark-3.2.1-bin-hadoop2.7/data/mllib/images/origin/kittens/DP802813.jpg\n",
            "spark-3.2.1-bin-hadoop2.7/data/mllib/images/origin/kittens/not-image.txt\n",
            "spark-3.2.1-bin-hadoop2.7/data/mllib/images/origin/license.txt\n",
            "spark-3.2.1-bin-hadoop2.7/data/mllib/images/origin/multi-channel/\n",
            "spark-3.2.1-bin-hadoop2.7/data/mllib/images/origin/multi-channel/BGRA.png\n",
            "spark-3.2.1-bin-hadoop2.7/data/mllib/images/origin/multi-channel/BGRA_alpha_60.png\n",
            "spark-3.2.1-bin-hadoop2.7/data/mllib/images/origin/multi-channel/chr30.4.184.jpg\n",
            "spark-3.2.1-bin-hadoop2.7/data/mllib/images/origin/multi-channel/grayscale.jpg\n",
            "spark-3.2.1-bin-hadoop2.7/data/mllib/images/partitioned/\n",
            "spark-3.2.1-bin-hadoop2.7/data/mllib/images/partitioned/cls=kittens/\n",
            "spark-3.2.1-bin-hadoop2.7/data/mllib/images/partitioned/cls=kittens/date=2018-01/\n",
            "spark-3.2.1-bin-hadoop2.7/data/mllib/images/partitioned/cls=kittens/date=2018-01/29.5.a_b_EGDP022204.jpg\n",
            "spark-3.2.1-bin-hadoop2.7/data/mllib/images/partitioned/cls=kittens/date=2018-01/not-image.txt\n",
            "spark-3.2.1-bin-hadoop2.7/data/mllib/images/partitioned/cls=kittens/date=2018-02/\n",
            "spark-3.2.1-bin-hadoop2.7/data/mllib/images/partitioned/cls=kittens/date=2018-02/54893.jpg\n",
            "spark-3.2.1-bin-hadoop2.7/data/mllib/images/partitioned/cls=kittens/date=2018-02/DP153539.jpg\n",
            "spark-3.2.1-bin-hadoop2.7/data/mllib/images/partitioned/cls=kittens/date=2018-02/DP802813.jpg\n",
            "spark-3.2.1-bin-hadoop2.7/data/mllib/images/partitioned/cls=multichannel/\n",
            "spark-3.2.1-bin-hadoop2.7/data/mllib/images/partitioned/cls=multichannel/date=2018-01/\n",
            "spark-3.2.1-bin-hadoop2.7/data/mllib/images/partitioned/cls=multichannel/date=2018-01/BGRA.png\n",
            "spark-3.2.1-bin-hadoop2.7/data/mllib/images/partitioned/cls=multichannel/date=2018-01/BGRA_alpha_60.png\n",
            "spark-3.2.1-bin-hadoop2.7/data/mllib/images/partitioned/cls=multichannel/date=2018-02/\n",
            "spark-3.2.1-bin-hadoop2.7/data/mllib/images/partitioned/cls=multichannel/date=2018-02/chr30.4.184.jpg\n",
            "spark-3.2.1-bin-hadoop2.7/data/mllib/images/partitioned/cls=multichannel/date=2018-02/grayscale.jpg\n",
            "spark-3.2.1-bin-hadoop2.7/data/mllib/iris_libsvm.txt\n",
            "spark-3.2.1-bin-hadoop2.7/data/mllib/kmeans_data.txt\n",
            "spark-3.2.1-bin-hadoop2.7/data/mllib/pagerank_data.txt\n",
            "spark-3.2.1-bin-hadoop2.7/data/mllib/pic_data.txt\n",
            "spark-3.2.1-bin-hadoop2.7/data/mllib/ridge-data/\n",
            "spark-3.2.1-bin-hadoop2.7/data/mllib/ridge-data/lpsa.data\n",
            "spark-3.2.1-bin-hadoop2.7/data/mllib/sample_binary_classification_data.txt\n",
            "spark-3.2.1-bin-hadoop2.7/data/mllib/sample_fpgrowth.txt\n",
            "spark-3.2.1-bin-hadoop2.7/data/mllib/sample_isotonic_regression_libsvm_data.txt\n",
            "spark-3.2.1-bin-hadoop2.7/data/mllib/sample_kmeans_data.txt\n",
            "spark-3.2.1-bin-hadoop2.7/data/mllib/sample_lda_data.txt\n",
            "spark-3.2.1-bin-hadoop2.7/data/mllib/sample_lda_libsvm_data.txt\n",
            "spark-3.2.1-bin-hadoop2.7/data/mllib/sample_libsvm_data.txt\n",
            "spark-3.2.1-bin-hadoop2.7/data/mllib/sample_linear_regression_data.txt\n",
            "spark-3.2.1-bin-hadoop2.7/data/mllib/sample_movielens_data.txt\n",
            "spark-3.2.1-bin-hadoop2.7/data/mllib/sample_multiclass_classification_data.txt\n",
            "spark-3.2.1-bin-hadoop2.7/data/mllib/sample_svm_data.txt\n",
            "spark-3.2.1-bin-hadoop2.7/data/mllib/streaming_kmeans_data_test.txt\n",
            "spark-3.2.1-bin-hadoop2.7/data/streaming/\n",
            "spark-3.2.1-bin-hadoop2.7/data/streaming/AFINN-111.txt\n",
            "spark-3.2.1-bin-hadoop2.7/examples/\n",
            "spark-3.2.1-bin-hadoop2.7/examples/jars/\n",
            "spark-3.2.1-bin-hadoop2.7/examples/jars/scopt_2.12-3.7.1.jar\n",
            "spark-3.2.1-bin-hadoop2.7/examples/jars/spark-examples_2.12-3.2.1.jar\n",
            "spark-3.2.1-bin-hadoop2.7/examples/src/\n",
            "spark-3.2.1-bin-hadoop2.7/examples/src/main/\n",
            "spark-3.2.1-bin-hadoop2.7/examples/src/main/java/\n",
            "spark-3.2.1-bin-hadoop2.7/examples/src/main/java/org/\n",
            "spark-3.2.1-bin-hadoop2.7/examples/src/main/java/org/apache/\n",
            "spark-3.2.1-bin-hadoop2.7/examples/src/main/java/org/apache/spark/\n",
            "spark-3.2.1-bin-hadoop2.7/examples/src/main/java/org/apache/spark/examples/\n",
            "spark-3.2.1-bin-hadoop2.7/examples/src/main/java/org/apache/spark/examples/JavaHdfsLR.java\n",
            "spark-3.2.1-bin-hadoop2.7/examples/src/main/java/org/apache/spark/examples/JavaLogQuery.java\n",
            "spark-3.2.1-bin-hadoop2.7/examples/src/main/java/org/apache/spark/examples/JavaPageRank.java\n",
            "spark-3.2.1-bin-hadoop2.7/examples/src/main/java/org/apache/spark/examples/JavaSparkPi.java\n",
            "spark-3.2.1-bin-hadoop2.7/examples/src/main/java/org/apache/spark/examples/JavaStatusTrackerDemo.java\n",
            "spark-3.2.1-bin-hadoop2.7/examples/src/main/java/org/apache/spark/examples/JavaTC.java\n",
            "spark-3.2.1-bin-hadoop2.7/examples/src/main/java/org/apache/spark/examples/JavaWordCount.java\n",
            "spark-3.2.1-bin-hadoop2.7/examples/src/main/java/org/apache/spark/examples/ml/\n",
            "spark-3.2.1-bin-hadoop2.7/examples/src/main/java/org/apache/spark/examples/ml/JavaAFTSurvivalRegressionExample.java\n",
            "spark-3.2.1-bin-hadoop2.7/examples/src/main/java/org/apache/spark/examples/ml/JavaALSExample.java\n",
            "spark-3.2.1-bin-hadoop2.7/examples/src/main/java/org/apache/spark/examples/ml/JavaBinarizerExample.java\n",
            "spark-3.2.1-bin-hadoop2.7/examples/src/main/java/org/apache/spark/examples/ml/JavaBisectingKMeansExample.java\n",
            "spark-3.2.1-bin-hadoop2.7/examples/src/main/java/org/apache/spark/examples/ml/JavaBucketedRandomProjectionLSHExample.java\n",
            "spark-3.2.1-bin-hadoop2.7/examples/src/main/java/org/apache/spark/examples/ml/JavaBucketizerExample.java\n",
            "spark-3.2.1-bin-hadoop2.7/examples/src/main/java/org/apache/spark/examples/ml/JavaChiSqSelectorExample.java\n",
            "spark-3.2.1-bin-hadoop2.7/examples/src/main/java/org/apache/spark/examples/ml/JavaChiSquareTestExample.java\n",
            "spark-3.2.1-bin-hadoop2.7/examples/src/main/java/org/apache/spark/examples/ml/JavaCorrelationExample.java\n",
            "spark-3.2.1-bin-hadoop2.7/examples/src/main/java/org/apache/spark/examples/ml/JavaCountVectorizerExample.java\n",
            "spark-3.2.1-bin-hadoop2.7/examples/src/main/java/org/apache/spark/examples/ml/JavaDCTExample.java\n",
            "spark-3.2.1-bin-hadoop2.7/examples/src/main/java/org/apache/spark/examples/ml/JavaDecisionTreeClassificationExample.java\n",
            "spark-3.2.1-bin-hadoop2.7/examples/src/main/java/org/apache/spark/examples/ml/JavaDecisionTreeRegressionExample.java\n",
            "spark-3.2.1-bin-hadoop2.7/examples/src/main/java/org/apache/spark/examples/ml/JavaDocument.java\n",
            "spark-3.2.1-bin-hadoop2.7/examples/src/main/java/org/apache/spark/examples/ml/JavaElementwiseProductExample.java\n",
            "spark-3.2.1-bin-hadoop2.7/examples/src/main/java/org/apache/spark/examples/ml/JavaEstimatorTransformerParamExample.java\n",
            "spark-3.2.1-bin-hadoop2.7/examples/src/main/java/org/apache/spark/examples/ml/JavaFMClassifierExample.java\n",
            "spark-3.2.1-bin-hadoop2.7/examples/src/main/java/org/apache/spark/examples/ml/JavaFMRegressorExample.java\n",
            "spark-3.2.1-bin-hadoop2.7/examples/src/main/java/org/apache/spark/examples/ml/JavaFPGrowthExample.java\n",
            "spark-3.2.1-bin-hadoop2.7/examples/src/main/java/org/apache/spark/examples/ml/JavaFeatureHasherExample.java\n",
            "spark-3.2.1-bin-hadoop2.7/examples/src/main/java/org/apache/spark/examples/ml/JavaGaussianMixtureExample.java\n",
            "spark-3.2.1-bin-hadoop2.7/examples/src/main/java/org/apache/spark/examples/ml/JavaGeneralizedLinearRegressionExample.java\n",
            "spark-3.2.1-bin-hadoop2.7/examples/src/main/java/org/apache/spark/examples/ml/JavaGradientBoostedTreeClassifierExample.java\n",
            "spark-3.2.1-bin-hadoop2.7/examples/src/main/java/org/apache/spark/examples/ml/JavaGradientBoostedTreeRegressorExample.java\n",
            "spark-3.2.1-bin-hadoop2.7/examples/src/main/java/org/apache/spark/examples/ml/JavaImputerExample.java\n",
            "spark-3.2.1-bin-hadoop2.7/examples/src/main/java/org/apache/spark/examples/ml/JavaIndexToStringExample.java\n",
            "spark-3.2.1-bin-hadoop2.7/examples/src/main/java/org/apache/spark/examples/ml/JavaInteractionExample.java\n",
            "spark-3.2.1-bin-hadoop2.7/examples/src/main/java/org/apache/spark/examples/ml/JavaIsotonicRegressionExample.java\n",
            "spark-3.2.1-bin-hadoop2.7/examples/src/main/java/org/apache/spark/examples/ml/JavaKMeansExample.java\n",
            "spark-3.2.1-bin-hadoop2.7/examples/src/main/java/org/apache/spark/examples/ml/JavaLDAExample.java\n",
            "spark-3.2.1-bin-hadoop2.7/examples/src/main/java/org/apache/spark/examples/ml/JavaLabeledDocument.java\n",
            "spark-3.2.1-bin-hadoop2.7/examples/src/main/java/org/apache/spark/examples/ml/JavaLinearRegressionWithElasticNetExample.java\n",
            "spark-3.2.1-bin-hadoop2.7/examples/src/main/java/org/apache/spark/examples/ml/JavaLinearSVCExample.java\n",
            "spark-3.2.1-bin-hadoop2.7/examples/src/main/java/org/apache/spark/examples/ml/JavaLogisticRegressionSummaryExample.java\n",
            "spark-3.2.1-bin-hadoop2.7/examples/src/main/java/org/apache/spark/examples/ml/JavaLogisticRegressionWithElasticNetExample.java\n",
            "spark-3.2.1-bin-hadoop2.7/examples/src/main/java/org/apache/spark/examples/ml/JavaMaxAbsScalerExample.java\n",
            "spark-3.2.1-bin-hadoop2.7/examples/src/main/java/org/apache/spark/examples/ml/JavaMinHashLSHExample.java\n",
            "spark-3.2.1-bin-hadoop2.7/examples/src/main/java/org/apache/spark/examples/ml/JavaMinMaxScalerExample.java\n",
            "spark-3.2.1-bin-hadoop2.7/examples/src/main/java/org/apache/spark/examples/ml/JavaModelSelectionViaCrossValidationExample.java\n",
            "spark-3.2.1-bin-hadoop2.7/examples/src/main/java/org/apache/spark/examples/ml/JavaModelSelectionViaTrainValidationSplitExample.java\n",
            "spark-3.2.1-bin-hadoop2.7/examples/src/main/java/org/apache/spark/examples/ml/JavaMulticlassLogisticRegressionWithElasticNetExample.java\n",
            "spark-3.2.1-bin-hadoop2.7/examples/src/main/java/org/apache/spark/examples/ml/JavaMultilayerPerceptronClassifierExample.java\n",
            "spark-3.2.1-bin-hadoop2.7/examples/src/main/java/org/apache/spark/examples/ml/JavaNGramExample.java\n",
            "spark-3.2.1-bin-hadoop2.7/examples/src/main/java/org/apache/spark/examples/ml/JavaNaiveBayesExample.java\n",
            "spark-3.2.1-bin-hadoop2.7/examples/src/main/java/org/apache/spark/examples/ml/JavaNormalizerExample.java\n",
            "spark-3.2.1-bin-hadoop2.7/examples/src/main/java/org/apache/spark/examples/ml/JavaOneHotEncoderExample.java\n",
            "spark-3.2.1-bin-hadoop2.7/examples/src/main/java/org/apache/spark/examples/ml/JavaOneVsRestExample.java\n",
            "spark-3.2.1-bin-hadoop2.7/examples/src/main/java/org/apache/spark/examples/ml/JavaPCAExample.java\n",
            "spark-3.2.1-bin-hadoop2.7/examples/src/main/java/org/apache/spark/examples/ml/JavaPipelineExample.java\n",
            "spark-3.2.1-bin-hadoop2.7/examples/src/main/java/org/apache/spark/examples/ml/JavaPolynomialExpansionExample.java\n",
            "spark-3.2.1-bin-hadoop2.7/examples/src/main/java/org/apache/spark/examples/ml/JavaPowerIterationClusteringExample.java\n",
            "spark-3.2.1-bin-hadoop2.7/examples/src/main/java/org/apache/spark/examples/ml/JavaPrefixSpanExample.java\n",
            "spark-3.2.1-bin-hadoop2.7/examples/src/main/java/org/apache/spark/examples/ml/JavaQuantileDiscretizerExample.java\n",
            "spark-3.2.1-bin-hadoop2.7/examples/src/main/java/org/apache/spark/examples/ml/JavaRFormulaExample.java\n",
            "spark-3.2.1-bin-hadoop2.7/examples/src/main/java/org/apache/spark/examples/ml/JavaRandomForestClassifierExample.java\n",
            "spark-3.2.1-bin-hadoop2.7/examples/src/main/java/org/apache/spark/examples/ml/JavaRandomForestRegressorExample.java\n",
            "spark-3.2.1-bin-hadoop2.7/examples/src/main/java/org/apache/spark/examples/ml/JavaRobustScalerExample.java\n",
            "spark-3.2.1-bin-hadoop2.7/examples/src/main/java/org/apache/spark/examples/ml/JavaSQLTransformerExample.java\n",
            "spark-3.2.1-bin-hadoop2.7/examples/src/main/java/org/apache/spark/examples/ml/JavaStandardScalerExample.java\n",
            "spark-3.2.1-bin-hadoop2.7/examples/src/main/java/org/apache/spark/examples/ml/JavaStopWordsRemoverExample.java\n",
            "spark-3.2.1-bin-hadoop2.7/examples/src/main/java/org/apache/spark/examples/ml/JavaStringIndexerExample.java\n",
            "spark-3.2.1-bin-hadoop2.7/examples/src/main/java/org/apache/spark/examples/ml/JavaSummarizerExample.java\n",
            "spark-3.2.1-bin-hadoop2.7/examples/src/main/java/org/apache/spark/examples/ml/JavaTfIdfExample.java\n",
            "spark-3.2.1-bin-hadoop2.7/examples/src/main/java/org/apache/spark/examples/ml/JavaTokenizerExample.java\n",
            "spark-3.2.1-bin-hadoop2.7/examples/src/main/java/org/apache/spark/examples/ml/JavaUnivariateFeatureSelectorExample.java\n",
            "spark-3.2.1-bin-hadoop2.7/examples/src/main/java/org/apache/spark/examples/ml/JavaVarianceThresholdSelectorExample.java\n",
            "spark-3.2.1-bin-hadoop2.7/examples/src/main/java/org/apache/spark/examples/ml/JavaVectorAssemblerExample.java\n",
            "spark-3.2.1-bin-hadoop2.7/examples/src/main/java/org/apache/spark/examples/ml/JavaVectorIndexerExample.java\n",
            "spark-3.2.1-bin-hadoop2.7/examples/src/main/java/org/apache/spark/examples/ml/JavaVectorSizeHintExample.java\n",
            "spark-3.2.1-bin-hadoop2.7/examples/src/main/java/org/apache/spark/examples/ml/JavaVectorSlicerExample.java\n",
            "spark-3.2.1-bin-hadoop2.7/examples/src/main/java/org/apache/spark/examples/ml/JavaWord2VecExample.java\n",
            "spark-3.2.1-bin-hadoop2.7/examples/src/main/java/org/apache/spark/examples/mllib/\n",
            "spark-3.2.1-bin-hadoop2.7/examples/src/main/java/org/apache/spark/examples/mllib/JavaALS.java\n",
            "spark-3.2.1-bin-hadoop2.7/examples/src/main/java/org/apache/spark/examples/mllib/JavaAssociationRulesExample.java\n",
            "spark-3.2.1-bin-hadoop2.7/examples/src/main/java/org/apache/spark/examples/mllib/JavaBinaryClassificationMetricsExample.java\n",
            "spark-3.2.1-bin-hadoop2.7/examples/src/main/java/org/apache/spark/examples/mllib/JavaBisectingKMeansExample.java\n",
            "spark-3.2.1-bin-hadoop2.7/examples/src/main/java/org/apache/spark/examples/mllib/JavaChiSqSelectorExample.java\n",
            "spark-3.2.1-bin-hadoop2.7/examples/src/main/java/org/apache/spark/examples/mllib/JavaCorrelationsExample.java\n",
            "spark-3.2.1-bin-hadoop2.7/examples/src/main/java/org/apache/spark/examples/mllib/JavaDecisionTreeClassificationExample.java\n",
            "spark-3.2.1-bin-hadoop2.7/examples/src/main/java/org/apache/spark/examples/mllib/JavaDecisionTreeRegressionExample.java\n",
            "spark-3.2.1-bin-hadoop2.7/examples/src/main/java/org/apache/spark/examples/mllib/JavaElementwiseProductExample.java\n",
            "spark-3.2.1-bin-hadoop2.7/examples/src/main/java/org/apache/spark/examples/mllib/JavaGaussianMixtureExample.java\n",
            "spark-3.2.1-bin-hadoop2.7/examples/src/main/java/org/apache/spark/examples/mllib/JavaGradientBoostingClassificationExample.java\n",
            "spark-3.2.1-bin-hadoop2.7/examples/src/main/java/org/apache/spark/examples/mllib/JavaGradientBoostingRegressionExample.java\n",
            "spark-3.2.1-bin-hadoop2.7/examples/src/main/java/org/apache/spark/examples/mllib/JavaHypothesisTestingExample.java\n",
            "spark-3.2.1-bin-hadoop2.7/examples/src/main/java/org/apache/spark/examples/mllib/JavaHypothesisTestingKolmogorovSmirnovTestExample.java\n",
            "spark-3.2.1-bin-hadoop2.7/examples/src/main/java/org/apache/spark/examples/mllib/JavaIsotonicRegressionExample.java\n",
            "spark-3.2.1-bin-hadoop2.7/examples/src/main/java/org/apache/spark/examples/mllib/JavaKMeansExample.java\n",
            "spark-3.2.1-bin-hadoop2.7/examples/src/main/java/org/apache/spark/examples/mllib/JavaKernelDensityEstimationExample.java\n",
            "spark-3.2.1-bin-hadoop2.7/examples/src/main/java/org/apache/spark/examples/mllib/JavaLBFGSExample.java\n",
            "spark-3.2.1-bin-hadoop2.7/examples/src/main/java/org/apache/spark/examples/mllib/JavaLatentDirichletAllocationExample.java\n",
            "spark-3.2.1-bin-hadoop2.7/examples/src/main/java/org/apache/spark/examples/mllib/JavaLogisticRegressionWithLBFGSExample.java\n",
            "spark-3.2.1-bin-hadoop2.7/examples/src/main/java/org/apache/spark/examples/mllib/JavaMultiLabelClassificationMetricsExample.java\n",
            "spark-3.2.1-bin-hadoop2.7/examples/src/main/java/org/apache/spark/examples/mllib/JavaMulticlassClassificationMetricsExample.java\n",
            "spark-3.2.1-bin-hadoop2.7/examples/src/main/java/org/apache/spark/examples/mllib/JavaNaiveBayesExample.java\n",
            "spark-3.2.1-bin-hadoop2.7/examples/src/main/java/org/apache/spark/examples/mllib/JavaPCAExample.java\n",
            "spark-3.2.1-bin-hadoop2.7/examples/src/main/java/org/apache/spark/examples/mllib/JavaPowerIterationClusteringExample.java\n",
            "spark-3.2.1-bin-hadoop2.7/examples/src/main/java/org/apache/spark/examples/mllib/JavaPrefixSpanExample.java\n",
            "spark-3.2.1-bin-hadoop2.7/examples/src/main/java/org/apache/spark/examples/mllib/JavaRandomForestClassificationExample.java\n",
            "spark-3.2.1-bin-hadoop2.7/examples/src/main/java/org/apache/spark/examples/mllib/JavaRandomForestRegressionExample.java\n",
            "spark-3.2.1-bin-hadoop2.7/examples/src/main/java/org/apache/spark/examples/mllib/JavaRankingMetricsExample.java\n",
            "spark-3.2.1-bin-hadoop2.7/examples/src/main/java/org/apache/spark/examples/mllib/JavaRecommendationExample.java\n",
            "spark-3.2.1-bin-hadoop2.7/examples/src/main/java/org/apache/spark/examples/mllib/JavaSVDExample.java\n",
            "spark-3.2.1-bin-hadoop2.7/examples/src/main/java/org/apache/spark/examples/mllib/JavaSVMWithSGDExample.java\n",
            "spark-3.2.1-bin-hadoop2.7/examples/src/main/java/org/apache/spark/examples/mllib/JavaSimpleFPGrowth.java\n",
            "spark-3.2.1-bin-hadoop2.7/examples/src/main/java/org/apache/spark/examples/mllib/JavaStratifiedSamplingExample.java\n",
            "spark-3.2.1-bin-hadoop2.7/examples/src/main/java/org/apache/spark/examples/mllib/JavaStreamingTestExample.java\n",
            "spark-3.2.1-bin-hadoop2.7/examples/src/main/java/org/apache/spark/examples/mllib/JavaSummaryStatisticsExample.java\n",
            "spark-3.2.1-bin-hadoop2.7/examples/src/main/java/org/apache/spark/examples/sql/\n",
            "spark-3.2.1-bin-hadoop2.7/examples/src/main/java/org/apache/spark/examples/sql/JavaSQLDataSourceExample.java\n",
            "spark-3.2.1-bin-hadoop2.7/examples/src/main/java/org/apache/spark/examples/sql/JavaSparkSQLExample.java\n",
            "spark-3.2.1-bin-hadoop2.7/examples/src/main/java/org/apache/spark/examples/sql/JavaUserDefinedScalar.java\n",
            "spark-3.2.1-bin-hadoop2.7/examples/src/main/java/org/apache/spark/examples/sql/JavaUserDefinedTypedAggregation.java\n",
            "spark-3.2.1-bin-hadoop2.7/examples/src/main/java/org/apache/spark/examples/sql/JavaUserDefinedUntypedAggregation.java\n",
            "spark-3.2.1-bin-hadoop2.7/examples/src/main/java/org/apache/spark/examples/sql/hive/\n",
            "spark-3.2.1-bin-hadoop2.7/examples/src/main/java/org/apache/spark/examples/sql/hive/JavaSparkHiveExample.java\n",
            "spark-3.2.1-bin-hadoop2.7/examples/src/main/java/org/apache/spark/examples/sql/streaming/\n",
            "spark-3.2.1-bin-hadoop2.7/examples/src/main/java/org/apache/spark/examples/sql/streaming/JavaStructuredComplexSessionization.java\n",
            "spark-3.2.1-bin-hadoop2.7/examples/src/main/java/org/apache/spark/examples/sql/streaming/JavaStructuredKafkaWordCount.java\n",
            "spark-3.2.1-bin-hadoop2.7/examples/src/main/java/org/apache/spark/examples/sql/streaming/JavaStructuredKerberizedKafkaWordCount.java\n",
            "spark-3.2.1-bin-hadoop2.7/examples/src/main/java/org/apache/spark/examples/sql/streaming/JavaStructuredNetworkWordCount.java\n",
            "spark-3.2.1-bin-hadoop2.7/examples/src/main/java/org/apache/spark/examples/sql/streaming/JavaStructuredNetworkWordCountWindowed.java\n",
            "spark-3.2.1-bin-hadoop2.7/examples/src/main/java/org/apache/spark/examples/sql/streaming/JavaStructuredSessionization.java\n",
            "spark-3.2.1-bin-hadoop2.7/examples/src/main/java/org/apache/spark/examples/streaming/\n",
            "spark-3.2.1-bin-hadoop2.7/examples/src/main/java/org/apache/spark/examples/streaming/JavaCustomReceiver.java\n",
            "spark-3.2.1-bin-hadoop2.7/examples/src/main/java/org/apache/spark/examples/streaming/JavaDirectKafkaWordCount.java\n",
            "spark-3.2.1-bin-hadoop2.7/examples/src/main/java/org/apache/spark/examples/streaming/JavaDirectKerberizedKafkaWordCount.java\n",
            "spark-3.2.1-bin-hadoop2.7/examples/src/main/java/org/apache/spark/examples/streaming/JavaNetworkWordCount.java\n",
            "spark-3.2.1-bin-hadoop2.7/examples/src/main/java/org/apache/spark/examples/streaming/JavaQueueStream.java\n",
            "spark-3.2.1-bin-hadoop2.7/examples/src/main/java/org/apache/spark/examples/streaming/JavaRecord.java\n",
            "spark-3.2.1-bin-hadoop2.7/examples/src/main/java/org/apache/spark/examples/streaming/JavaRecoverableNetworkWordCount.java\n",
            "spark-3.2.1-bin-hadoop2.7/examples/src/main/java/org/apache/spark/examples/streaming/JavaSqlNetworkWordCount.java\n",
            "spark-3.2.1-bin-hadoop2.7/examples/src/main/java/org/apache/spark/examples/streaming/JavaStatefulNetworkWordCount.java\n",
            "spark-3.2.1-bin-hadoop2.7/examples/src/main/python/\n",
            "spark-3.2.1-bin-hadoop2.7/examples/src/main/python/als.py\n",
            "spark-3.2.1-bin-hadoop2.7/examples/src/main/python/avro_inputformat.py\n",
            "spark-3.2.1-bin-hadoop2.7/examples/src/main/python/kmeans.py\n",
            "spark-3.2.1-bin-hadoop2.7/examples/src/main/python/logistic_regression.py\n",
            "spark-3.2.1-bin-hadoop2.7/examples/src/main/python/ml/\n",
            "spark-3.2.1-bin-hadoop2.7/examples/src/main/python/ml/aft_survival_regression.py\n",
            "spark-3.2.1-bin-hadoop2.7/examples/src/main/python/ml/als_example.py\n",
            "spark-3.2.1-bin-hadoop2.7/examples/src/main/python/ml/binarizer_example.py\n",
            "spark-3.2.1-bin-hadoop2.7/examples/src/main/python/ml/bisecting_k_means_example.py\n",
            "spark-3.2.1-bin-hadoop2.7/examples/src/main/python/ml/bucketed_random_projection_lsh_example.py\n",
            "spark-3.2.1-bin-hadoop2.7/examples/src/main/python/ml/bucketizer_example.py\n",
            "spark-3.2.1-bin-hadoop2.7/examples/src/main/python/ml/chi_square_test_example.py\n",
            "spark-3.2.1-bin-hadoop2.7/examples/src/main/python/ml/chisq_selector_example.py\n",
            "spark-3.2.1-bin-hadoop2.7/examples/src/main/python/ml/correlation_example.py\n",
            "spark-3.2.1-bin-hadoop2.7/examples/src/main/python/ml/count_vectorizer_example.py\n",
            "spark-3.2.1-bin-hadoop2.7/examples/src/main/python/ml/cross_validator.py\n",
            "spark-3.2.1-bin-hadoop2.7/examples/src/main/python/ml/dataframe_example.py\n",
            "spark-3.2.1-bin-hadoop2.7/examples/src/main/python/ml/dct_example.py\n",
            "spark-3.2.1-bin-hadoop2.7/examples/src/main/python/ml/decision_tree_classification_example.py\n",
            "spark-3.2.1-bin-hadoop2.7/examples/src/main/python/ml/decision_tree_regression_example.py\n",
            "spark-3.2.1-bin-hadoop2.7/examples/src/main/python/ml/elementwise_product_example.py\n",
            "spark-3.2.1-bin-hadoop2.7/examples/src/main/python/ml/estimator_transformer_param_example.py\n",
            "spark-3.2.1-bin-hadoop2.7/examples/src/main/python/ml/feature_hasher_example.py\n",
            "spark-3.2.1-bin-hadoop2.7/examples/src/main/python/ml/fm_classifier_example.py\n",
            "spark-3.2.1-bin-hadoop2.7/examples/src/main/python/ml/fm_regressor_example.py\n",
            "spark-3.2.1-bin-hadoop2.7/examples/src/main/python/ml/fpgrowth_example.py\n",
            "spark-3.2.1-bin-hadoop2.7/examples/src/main/python/ml/gaussian_mixture_example.py\n",
            "spark-3.2.1-bin-hadoop2.7/examples/src/main/python/ml/generalized_linear_regression_example.py\n",
            "spark-3.2.1-bin-hadoop2.7/examples/src/main/python/ml/gradient_boosted_tree_classifier_example.py\n",
            "spark-3.2.1-bin-hadoop2.7/examples/src/main/python/ml/gradient_boosted_tree_regressor_example.py\n",
            "spark-3.2.1-bin-hadoop2.7/examples/src/main/python/ml/imputer_example.py\n",
            "spark-3.2.1-bin-hadoop2.7/examples/src/main/python/ml/index_to_string_example.py\n",
            "spark-3.2.1-bin-hadoop2.7/examples/src/main/python/ml/interaction_example.py\n",
            "spark-3.2.1-bin-hadoop2.7/examples/src/main/python/ml/isotonic_regression_example.py\n",
            "spark-3.2.1-bin-hadoop2.7/examples/src/main/python/ml/kmeans_example.py\n",
            "spark-3.2.1-bin-hadoop2.7/examples/src/main/python/ml/lda_example.py\n",
            "spark-3.2.1-bin-hadoop2.7/examples/src/main/python/ml/linear_regression_with_elastic_net.py\n",
            "spark-3.2.1-bin-hadoop2.7/examples/src/main/python/ml/linearsvc.py\n",
            "spark-3.2.1-bin-hadoop2.7/examples/src/main/python/ml/logistic_regression_summary_example.py\n",
            "spark-3.2.1-bin-hadoop2.7/examples/src/main/python/ml/logistic_regression_with_elastic_net.py\n",
            "spark-3.2.1-bin-hadoop2.7/examples/src/main/python/ml/max_abs_scaler_example.py\n",
            "spark-3.2.1-bin-hadoop2.7/examples/src/main/python/ml/min_hash_lsh_example.py\n",
            "spark-3.2.1-bin-hadoop2.7/examples/src/main/python/ml/min_max_scaler_example.py\n",
            "spark-3.2.1-bin-hadoop2.7/examples/src/main/python/ml/multiclass_logistic_regression_with_elastic_net.py\n",
            "spark-3.2.1-bin-hadoop2.7/examples/src/main/python/ml/multilayer_perceptron_classification.py\n",
            "spark-3.2.1-bin-hadoop2.7/examples/src/main/python/ml/n_gram_example.py\n",
            "spark-3.2.1-bin-hadoop2.7/examples/src/main/python/ml/naive_bayes_example.py\n",
            "spark-3.2.1-bin-hadoop2.7/examples/src/main/python/ml/normalizer_example.py\n",
            "spark-3.2.1-bin-hadoop2.7/examples/src/main/python/ml/one_vs_rest_example.py\n",
            "spark-3.2.1-bin-hadoop2.7/examples/src/main/python/ml/onehot_encoder_example.py\n",
            "spark-3.2.1-bin-hadoop2.7/examples/src/main/python/ml/pca_example.py\n",
            "spark-3.2.1-bin-hadoop2.7/examples/src/main/python/ml/pipeline_example.py\n",
            "spark-3.2.1-bin-hadoop2.7/examples/src/main/python/ml/polynomial_expansion_example.py\n",
            "spark-3.2.1-bin-hadoop2.7/examples/src/main/python/ml/power_iteration_clustering_example.py\n",
            "spark-3.2.1-bin-hadoop2.7/examples/src/main/python/ml/prefixspan_example.py\n",
            "spark-3.2.1-bin-hadoop2.7/examples/src/main/python/ml/quantile_discretizer_example.py\n",
            "spark-3.2.1-bin-hadoop2.7/examples/src/main/python/ml/random_forest_classifier_example.py\n",
            "spark-3.2.1-bin-hadoop2.7/examples/src/main/python/ml/random_forest_regressor_example.py\n",
            "spark-3.2.1-bin-hadoop2.7/examples/src/main/python/ml/rformula_example.py\n",
            "spark-3.2.1-bin-hadoop2.7/examples/src/main/python/ml/robust_scaler_example.py\n",
            "spark-3.2.1-bin-hadoop2.7/examples/src/main/python/ml/sql_transformer.py\n",
            "spark-3.2.1-bin-hadoop2.7/examples/src/main/python/ml/standard_scaler_example.py\n",
            "spark-3.2.1-bin-hadoop2.7/examples/src/main/python/ml/stopwords_remover_example.py\n",
            "spark-3.2.1-bin-hadoop2.7/examples/src/main/python/ml/string_indexer_example.py\n",
            "spark-3.2.1-bin-hadoop2.7/examples/src/main/python/ml/summarizer_example.py\n",
            "spark-3.2.1-bin-hadoop2.7/examples/src/main/python/ml/tf_idf_example.py\n",
            "spark-3.2.1-bin-hadoop2.7/examples/src/main/python/ml/tokenizer_example.py\n",
            "spark-3.2.1-bin-hadoop2.7/examples/src/main/python/ml/train_validation_split.py\n",
            "spark-3.2.1-bin-hadoop2.7/examples/src/main/python/ml/univariate_feature_selector_example.py\n",
            "spark-3.2.1-bin-hadoop2.7/examples/src/main/python/ml/variance_threshold_selector_example.py\n",
            "spark-3.2.1-bin-hadoop2.7/examples/src/main/python/ml/vector_assembler_example.py\n",
            "spark-3.2.1-bin-hadoop2.7/examples/src/main/python/ml/vector_indexer_example.py\n",
            "spark-3.2.1-bin-hadoop2.7/examples/src/main/python/ml/vector_size_hint_example.py\n",
            "spark-3.2.1-bin-hadoop2.7/examples/src/main/python/ml/vector_slicer_example.py\n",
            "spark-3.2.1-bin-hadoop2.7/examples/src/main/python/ml/word2vec_example.py\n",
            "spark-3.2.1-bin-hadoop2.7/examples/src/main/python/mllib/\n",
            "spark-3.2.1-bin-hadoop2.7/examples/src/main/python/mllib/binary_classification_metrics_example.py\n",
            "spark-3.2.1-bin-hadoop2.7/examples/src/main/python/mllib/bisecting_k_means_example.py\n",
            "spark-3.2.1-bin-hadoop2.7/examples/src/main/python/mllib/correlations.py\n",
            "spark-3.2.1-bin-hadoop2.7/examples/src/main/python/mllib/correlations_example.py\n",
            "spark-3.2.1-bin-hadoop2.7/examples/src/main/python/mllib/decision_tree_classification_example.py\n",
            "spark-3.2.1-bin-hadoop2.7/examples/src/main/python/mllib/decision_tree_regression_example.py\n",
            "spark-3.2.1-bin-hadoop2.7/examples/src/main/python/mllib/elementwise_product_example.py\n",
            "spark-3.2.1-bin-hadoop2.7/examples/src/main/python/mllib/fpgrowth_example.py\n",
            "spark-3.2.1-bin-hadoop2.7/examples/src/main/python/mllib/gaussian_mixture_example.py\n",
            "spark-3.2.1-bin-hadoop2.7/examples/src/main/python/mllib/gaussian_mixture_model.py\n",
            "spark-3.2.1-bin-hadoop2.7/examples/src/main/python/mllib/gradient_boosting_classification_example.py\n",
            "spark-3.2.1-bin-hadoop2.7/examples/src/main/python/mllib/gradient_boosting_regression_example.py\n",
            "spark-3.2.1-bin-hadoop2.7/examples/src/main/python/mllib/hypothesis_testing_example.py\n",
            "spark-3.2.1-bin-hadoop2.7/examples/src/main/python/mllib/hypothesis_testing_kolmogorov_smirnov_test_example.py\n",
            "spark-3.2.1-bin-hadoop2.7/examples/src/main/python/mllib/isotonic_regression_example.py\n",
            "spark-3.2.1-bin-hadoop2.7/examples/src/main/python/mllib/k_means_example.py\n",
            "spark-3.2.1-bin-hadoop2.7/examples/src/main/python/mllib/kernel_density_estimation_example.py\n",
            "spark-3.2.1-bin-hadoop2.7/examples/src/main/python/mllib/kmeans.py\n",
            "spark-3.2.1-bin-hadoop2.7/examples/src/main/python/mllib/latent_dirichlet_allocation_example.py\n",
            "spark-3.2.1-bin-hadoop2.7/examples/src/main/python/mllib/linear_regression_with_sgd_example.py\n",
            "spark-3.2.1-bin-hadoop2.7/examples/src/main/python/mllib/logistic_regression.py\n",
            "spark-3.2.1-bin-hadoop2.7/examples/src/main/python/mllib/logistic_regression_with_lbfgs_example.py\n",
            "spark-3.2.1-bin-hadoop2.7/examples/src/main/python/mllib/multi_class_metrics_example.py\n",
            "spark-3.2.1-bin-hadoop2.7/examples/src/main/python/mllib/multi_label_metrics_example.py\n",
            "spark-3.2.1-bin-hadoop2.7/examples/src/main/python/mllib/naive_bayes_example.py\n",
            "spark-3.2.1-bin-hadoop2.7/examples/src/main/python/mllib/normalizer_example.py\n",
            "spark-3.2.1-bin-hadoop2.7/examples/src/main/python/mllib/pca_rowmatrix_example.py\n",
            "spark-3.2.1-bin-hadoop2.7/examples/src/main/python/mllib/power_iteration_clustering_example.py\n",
            "spark-3.2.1-bin-hadoop2.7/examples/src/main/python/mllib/random_forest_classification_example.py\n",
            "spark-3.2.1-bin-hadoop2.7/examples/src/main/python/mllib/random_forest_regression_example.py\n",
            "spark-3.2.1-bin-hadoop2.7/examples/src/main/python/mllib/random_rdd_generation.py\n",
            "spark-3.2.1-bin-hadoop2.7/examples/src/main/python/mllib/ranking_metrics_example.py\n",
            "spark-3.2.1-bin-hadoop2.7/examples/src/main/python/mllib/recommendation_example.py\n",
            "spark-3.2.1-bin-hadoop2.7/examples/src/main/python/mllib/regression_metrics_example.py\n",
            "spark-3.2.1-bin-hadoop2.7/examples/src/main/python/mllib/sampled_rdds.py\n",
            "spark-3.2.1-bin-hadoop2.7/examples/src/main/python/mllib/standard_scaler_example.py\n",
            "spark-3.2.1-bin-hadoop2.7/examples/src/main/python/mllib/stratified_sampling_example.py\n",
            "spark-3.2.1-bin-hadoop2.7/examples/src/main/python/mllib/streaming_k_means_example.py\n",
            "spark-3.2.1-bin-hadoop2.7/examples/src/main/python/mllib/streaming_linear_regression_example.py\n",
            "spark-3.2.1-bin-hadoop2.7/examples/src/main/python/mllib/summary_statistics_example.py\n",
            "spark-3.2.1-bin-hadoop2.7/examples/src/main/python/mllib/svd_example.py\n",
            "spark-3.2.1-bin-hadoop2.7/examples/src/main/python/mllib/svm_with_sgd_example.py\n",
            "spark-3.2.1-bin-hadoop2.7/examples/src/main/python/mllib/tf_idf_example.py\n",
            "spark-3.2.1-bin-hadoop2.7/examples/src/main/python/mllib/word2vec.py\n",
            "spark-3.2.1-bin-hadoop2.7/examples/src/main/python/mllib/word2vec_example.py\n",
            "spark-3.2.1-bin-hadoop2.7/examples/src/main/python/pagerank.py\n",
            "spark-3.2.1-bin-hadoop2.7/examples/src/main/python/parquet_inputformat.py\n",
            "spark-3.2.1-bin-hadoop2.7/examples/src/main/python/pi.py\n",
            "spark-3.2.1-bin-hadoop2.7/examples/src/main/python/sort.py\n",
            "spark-3.2.1-bin-hadoop2.7/examples/src/main/python/sql/\n",
            "spark-3.2.1-bin-hadoop2.7/examples/src/main/python/sql/arrow.py\n",
            "spark-3.2.1-bin-hadoop2.7/examples/src/main/python/sql/basic.py\n",
            "spark-3.2.1-bin-hadoop2.7/examples/src/main/python/sql/datasource.py\n",
            "spark-3.2.1-bin-hadoop2.7/examples/src/main/python/sql/hive.py\n",
            "spark-3.2.1-bin-hadoop2.7/examples/src/main/python/sql/streaming/\n",
            "spark-3.2.1-bin-hadoop2.7/examples/src/main/python/sql/streaming/structured_kafka_wordcount.py\n",
            "spark-3.2.1-bin-hadoop2.7/examples/src/main/python/sql/streaming/structured_network_wordcount.py\n",
            "spark-3.2.1-bin-hadoop2.7/examples/src/main/python/sql/streaming/structured_network_wordcount_windowed.py\n",
            "spark-3.2.1-bin-hadoop2.7/examples/src/main/python/sql/streaming/structured_sessionization.py\n",
            "spark-3.2.1-bin-hadoop2.7/examples/src/main/python/status_api_demo.py\n",
            "spark-3.2.1-bin-hadoop2.7/examples/src/main/python/streaming/\n",
            "spark-3.2.1-bin-hadoop2.7/examples/src/main/python/streaming/hdfs_wordcount.py\n",
            "spark-3.2.1-bin-hadoop2.7/examples/src/main/python/streaming/network_wordcount.py\n",
            "spark-3.2.1-bin-hadoop2.7/examples/src/main/python/streaming/network_wordjoinsentiments.py\n",
            "spark-3.2.1-bin-hadoop2.7/examples/src/main/python/streaming/queue_stream.py\n",
            "spark-3.2.1-bin-hadoop2.7/examples/src/main/python/streaming/recoverable_network_wordcount.py\n",
            "spark-3.2.1-bin-hadoop2.7/examples/src/main/python/streaming/sql_network_wordcount.py\n",
            "spark-3.2.1-bin-hadoop2.7/examples/src/main/python/streaming/stateful_network_wordcount.py\n",
            "spark-3.2.1-bin-hadoop2.7/examples/src/main/python/transitive_closure.py\n",
            "spark-3.2.1-bin-hadoop2.7/examples/src/main/python/wordcount.py\n",
            "spark-3.2.1-bin-hadoop2.7/examples/src/main/r/\n",
            "spark-3.2.1-bin-hadoop2.7/examples/src/main/r/RSparkSQLExample.R\n",
            "spark-3.2.1-bin-hadoop2.7/examples/src/main/r/data-manipulation.R\n",
            "spark-3.2.1-bin-hadoop2.7/examples/src/main/r/dataframe.R\n",
            "spark-3.2.1-bin-hadoop2.7/examples/src/main/r/ml/\n",
            "spark-3.2.1-bin-hadoop2.7/examples/src/main/r/ml/als.R\n",
            "spark-3.2.1-bin-hadoop2.7/examples/src/main/r/ml/bisectingKmeans.R\n",
            "spark-3.2.1-bin-hadoop2.7/examples/src/main/r/ml/decisionTree.R\n",
            "spark-3.2.1-bin-hadoop2.7/examples/src/main/r/ml/fmClassifier.R\n",
            "spark-3.2.1-bin-hadoop2.7/examples/src/main/r/ml/fmRegressor.R\n",
            "spark-3.2.1-bin-hadoop2.7/examples/src/main/r/ml/fpm.R\n",
            "spark-3.2.1-bin-hadoop2.7/examples/src/main/r/ml/gaussianMixture.R\n",
            "spark-3.2.1-bin-hadoop2.7/examples/src/main/r/ml/gbt.R\n",
            "spark-3.2.1-bin-hadoop2.7/examples/src/main/r/ml/glm.R\n",
            "spark-3.2.1-bin-hadoop2.7/examples/src/main/r/ml/isoreg.R\n",
            "spark-3.2.1-bin-hadoop2.7/examples/src/main/r/ml/kmeans.R\n",
            "spark-3.2.1-bin-hadoop2.7/examples/src/main/r/ml/kstest.R\n",
            "spark-3.2.1-bin-hadoop2.7/examples/src/main/r/ml/lda.R\n",
            "spark-3.2.1-bin-hadoop2.7/examples/src/main/r/ml/lm_with_elastic_net.R\n",
            "spark-3.2.1-bin-hadoop2.7/examples/src/main/r/ml/logit.R\n",
            "spark-3.2.1-bin-hadoop2.7/examples/src/main/r/ml/ml.R\n",
            "spark-3.2.1-bin-hadoop2.7/examples/src/main/r/ml/mlp.R\n",
            "spark-3.2.1-bin-hadoop2.7/examples/src/main/r/ml/naiveBayes.R\n",
            "spark-3.2.1-bin-hadoop2.7/examples/src/main/r/ml/powerIterationClustering.R\n",
            "spark-3.2.1-bin-hadoop2.7/examples/src/main/r/ml/prefixSpan.R\n",
            "spark-3.2.1-bin-hadoop2.7/examples/src/main/r/ml/randomForest.R\n",
            "spark-3.2.1-bin-hadoop2.7/examples/src/main/r/ml/survreg.R\n",
            "spark-3.2.1-bin-hadoop2.7/examples/src/main/r/ml/svmLinear.R\n",
            "spark-3.2.1-bin-hadoop2.7/examples/src/main/r/streaming/\n",
            "spark-3.2.1-bin-hadoop2.7/examples/src/main/r/streaming/structured_network_wordcount.R\n",
            "spark-3.2.1-bin-hadoop2.7/examples/src/main/resources/\n",
            "spark-3.2.1-bin-hadoop2.7/examples/src/main/resources/META-INF/\n",
            "spark-3.2.1-bin-hadoop2.7/examples/src/main/resources/META-INF/services/\n",
            "spark-3.2.1-bin-hadoop2.7/examples/src/main/resources/META-INF/services/org.apache.spark.sql.SparkSessionExtensionsProvider\n",
            "spark-3.2.1-bin-hadoop2.7/examples/src/main/resources/META-INF/services/org.apache.spark.sql.jdbc.JdbcConnectionProvider\n",
            "spark-3.2.1-bin-hadoop2.7/examples/src/main/resources/dir1/\n",
            "spark-3.2.1-bin-hadoop2.7/examples/src/main/resources/dir1/dir2/\n",
            "spark-3.2.1-bin-hadoop2.7/examples/src/main/resources/dir1/dir2/file2.parquet\n",
            "spark-3.2.1-bin-hadoop2.7/examples/src/main/resources/dir1/file1.parquet\n",
            "spark-3.2.1-bin-hadoop2.7/examples/src/main/resources/dir1/file3.json\n",
            "spark-3.2.1-bin-hadoop2.7/examples/src/main/resources/employees.json\n",
            "spark-3.2.1-bin-hadoop2.7/examples/src/main/resources/full_user.avsc\n",
            "spark-3.2.1-bin-hadoop2.7/examples/src/main/resources/kv1.txt\n",
            "spark-3.2.1-bin-hadoop2.7/examples/src/main/resources/people.csv\n",
            "spark-3.2.1-bin-hadoop2.7/examples/src/main/resources/people.json\n",
            "spark-3.2.1-bin-hadoop2.7/examples/src/main/resources/people.txt\n",
            "spark-3.2.1-bin-hadoop2.7/examples/src/main/resources/user.avsc\n",
            "spark-3.2.1-bin-hadoop2.7/examples/src/main/resources/users.avro\n",
            "spark-3.2.1-bin-hadoop2.7/examples/src/main/resources/users.orc\n",
            "spark-3.2.1-bin-hadoop2.7/examples/src/main/resources/users.parquet\n",
            "spark-3.2.1-bin-hadoop2.7/examples/src/main/scala/\n",
            "spark-3.2.1-bin-hadoop2.7/examples/src/main/scala/org/\n",
            "spark-3.2.1-bin-hadoop2.7/examples/src/main/scala/org/apache/\n",
            "spark-3.2.1-bin-hadoop2.7/examples/src/main/scala/org/apache/spark/\n",
            "spark-3.2.1-bin-hadoop2.7/examples/src/main/scala/org/apache/spark/examples/\n",
            "spark-3.2.1-bin-hadoop2.7/examples/src/main/scala/org/apache/spark/examples/AccumulatorMetricsTest.scala\n",
            "spark-3.2.1-bin-hadoop2.7/examples/src/main/scala/org/apache/spark/examples/BroadcastTest.scala\n",
            "spark-3.2.1-bin-hadoop2.7/examples/src/main/scala/org/apache/spark/examples/DFSReadWriteTest.scala\n",
            "spark-3.2.1-bin-hadoop2.7/examples/src/main/scala/org/apache/spark/examples/DriverSubmissionTest.scala\n",
            "spark-3.2.1-bin-hadoop2.7/examples/src/main/scala/org/apache/spark/examples/ExceptionHandlingTest.scala\n",
            "spark-3.2.1-bin-hadoop2.7/examples/src/main/scala/org/apache/spark/examples/GroupByTest.scala\n",
            "spark-3.2.1-bin-hadoop2.7/examples/src/main/scala/org/apache/spark/examples/HdfsTest.scala\n",
            "spark-3.2.1-bin-hadoop2.7/examples/src/main/scala/org/apache/spark/examples/LocalALS.scala\n",
            "spark-3.2.1-bin-hadoop2.7/examples/src/main/scala/org/apache/spark/examples/LocalFileLR.scala\n",
            "spark-3.2.1-bin-hadoop2.7/examples/src/main/scala/org/apache/spark/examples/LocalKMeans.scala\n",
            "spark-3.2.1-bin-hadoop2.7/examples/src/main/scala/org/apache/spark/examples/LocalLR.scala\n",
            "spark-3.2.1-bin-hadoop2.7/examples/src/main/scala/org/apache/spark/examples/LocalPi.scala\n",
            "spark-3.2.1-bin-hadoop2.7/examples/src/main/scala/org/apache/spark/examples/LogQuery.scala\n",
            "spark-3.2.1-bin-hadoop2.7/examples/src/main/scala/org/apache/spark/examples/MultiBroadcastTest.scala\n",
            "spark-3.2.1-bin-hadoop2.7/examples/src/main/scala/org/apache/spark/examples/SimpleSkewedGroupByTest.scala\n",
            "spark-3.2.1-bin-hadoop2.7/examples/src/main/scala/org/apache/spark/examples/SkewedGroupByTest.scala\n",
            "spark-3.2.1-bin-hadoop2.7/examples/src/main/scala/org/apache/spark/examples/SparkALS.scala\n",
            "spark-3.2.1-bin-hadoop2.7/examples/src/main/scala/org/apache/spark/examples/SparkHdfsLR.scala\n",
            "spark-3.2.1-bin-hadoop2.7/examples/src/main/scala/org/apache/spark/examples/SparkKMeans.scala\n",
            "spark-3.2.1-bin-hadoop2.7/examples/src/main/scala/org/apache/spark/examples/SparkLR.scala\n",
            "spark-3.2.1-bin-hadoop2.7/examples/src/main/scala/org/apache/spark/examples/SparkPageRank.scala\n",
            "spark-3.2.1-bin-hadoop2.7/examples/src/main/scala/org/apache/spark/examples/SparkPi.scala\n",
            "spark-3.2.1-bin-hadoop2.7/examples/src/main/scala/org/apache/spark/examples/SparkRemoteFileTest.scala\n",
            "spark-3.2.1-bin-hadoop2.7/examples/src/main/scala/org/apache/spark/examples/SparkTC.scala\n",
            "spark-3.2.1-bin-hadoop2.7/examples/src/main/scala/org/apache/spark/examples/extensions/\n",
            "spark-3.2.1-bin-hadoop2.7/examples/src/main/scala/org/apache/spark/examples/extensions/AgeExample.scala\n",
            "spark-3.2.1-bin-hadoop2.7/examples/src/main/scala/org/apache/spark/examples/extensions/SessionExtensionsWithLoader.scala\n",
            "spark-3.2.1-bin-hadoop2.7/examples/src/main/scala/org/apache/spark/examples/extensions/SessionExtensionsWithoutLoader.scala\n",
            "spark-3.2.1-bin-hadoop2.7/examples/src/main/scala/org/apache/spark/examples/extensions/SparkSessionExtensionsTest.scala\n",
            "spark-3.2.1-bin-hadoop2.7/examples/src/main/scala/org/apache/spark/examples/graphx/\n",
            "spark-3.2.1-bin-hadoop2.7/examples/src/main/scala/org/apache/spark/examples/graphx/AggregateMessagesExample.scala\n",
            "spark-3.2.1-bin-hadoop2.7/examples/src/main/scala/org/apache/spark/examples/graphx/Analytics.scala\n",
            "spark-3.2.1-bin-hadoop2.7/examples/src/main/scala/org/apache/spark/examples/graphx/ComprehensiveExample.scala\n",
            "spark-3.2.1-bin-hadoop2.7/examples/src/main/scala/org/apache/spark/examples/graphx/ConnectedComponentsExample.scala\n",
            "spark-3.2.1-bin-hadoop2.7/examples/src/main/scala/org/apache/spark/examples/graphx/LiveJournalPageRank.scala\n",
            "spark-3.2.1-bin-hadoop2.7/examples/src/main/scala/org/apache/spark/examples/graphx/PageRankExample.scala\n",
            "spark-3.2.1-bin-hadoop2.7/examples/src/main/scala/org/apache/spark/examples/graphx/SSSPExample.scala\n",
            "spark-3.2.1-bin-hadoop2.7/examples/src/main/scala/org/apache/spark/examples/graphx/SynthBenchmark.scala\n",
            "spark-3.2.1-bin-hadoop2.7/examples/src/main/scala/org/apache/spark/examples/graphx/TriangleCountingExample.scala\n",
            "spark-3.2.1-bin-hadoop2.7/examples/src/main/scala/org/apache/spark/examples/ml/\n",
            "spark-3.2.1-bin-hadoop2.7/examples/src/main/scala/org/apache/spark/examples/ml/AFTSurvivalRegressionExample.scala\n",
            "spark-3.2.1-bin-hadoop2.7/examples/src/main/scala/org/apache/spark/examples/ml/ALSExample.scala\n",
            "spark-3.2.1-bin-hadoop2.7/examples/src/main/scala/org/apache/spark/examples/ml/BinarizerExample.scala\n",
            "spark-3.2.1-bin-hadoop2.7/examples/src/main/scala/org/apache/spark/examples/ml/BisectingKMeansExample.scala\n",
            "spark-3.2.1-bin-hadoop2.7/examples/src/main/scala/org/apache/spark/examples/ml/BucketedRandomProjectionLSHExample.scala\n",
            "spark-3.2.1-bin-hadoop2.7/examples/src/main/scala/org/apache/spark/examples/ml/BucketizerExample.scala\n",
            "spark-3.2.1-bin-hadoop2.7/examples/src/main/scala/org/apache/spark/examples/ml/ChiSqSelectorExample.scala\n",
            "spark-3.2.1-bin-hadoop2.7/examples/src/main/scala/org/apache/spark/examples/ml/ChiSquareTestExample.scala\n",
            "spark-3.2.1-bin-hadoop2.7/examples/src/main/scala/org/apache/spark/examples/ml/CorrelationExample.scala\n",
            "spark-3.2.1-bin-hadoop2.7/examples/src/main/scala/org/apache/spark/examples/ml/CountVectorizerExample.scala\n",
            "spark-3.2.1-bin-hadoop2.7/examples/src/main/scala/org/apache/spark/examples/ml/DCTExample.scala\n",
            "spark-3.2.1-bin-hadoop2.7/examples/src/main/scala/org/apache/spark/examples/ml/DataFrameExample.scala\n",
            "spark-3.2.1-bin-hadoop2.7/examples/src/main/scala/org/apache/spark/examples/ml/DecisionTreeClassificationExample.scala\n",
            "spark-3.2.1-bin-hadoop2.7/examples/src/main/scala/org/apache/spark/examples/ml/DecisionTreeExample.scala\n",
            "spark-3.2.1-bin-hadoop2.7/examples/src/main/scala/org/apache/spark/examples/ml/DecisionTreeRegressionExample.scala\n",
            "spark-3.2.1-bin-hadoop2.7/examples/src/main/scala/org/apache/spark/examples/ml/DeveloperApiExample.scala\n",
            "spark-3.2.1-bin-hadoop2.7/examples/src/main/scala/org/apache/spark/examples/ml/ElementwiseProductExample.scala\n",
            "spark-3.2.1-bin-hadoop2.7/examples/src/main/scala/org/apache/spark/examples/ml/EstimatorTransformerParamExample.scala\n",
            "spark-3.2.1-bin-hadoop2.7/examples/src/main/scala/org/apache/spark/examples/ml/FMClassifierExample.scala\n",
            "spark-3.2.1-bin-hadoop2.7/examples/src/main/scala/org/apache/spark/examples/ml/FMRegressorExample.scala\n",
            "spark-3.2.1-bin-hadoop2.7/examples/src/main/scala/org/apache/spark/examples/ml/FPGrowthExample.scala\n",
            "spark-3.2.1-bin-hadoop2.7/examples/src/main/scala/org/apache/spark/examples/ml/FeatureHasherExample.scala\n",
            "spark-3.2.1-bin-hadoop2.7/examples/src/main/scala/org/apache/spark/examples/ml/GBTExample.scala\n",
            "spark-3.2.1-bin-hadoop2.7/examples/src/main/scala/org/apache/spark/examples/ml/GaussianMixtureExample.scala\n",
            "spark-3.2.1-bin-hadoop2.7/examples/src/main/scala/org/apache/spark/examples/ml/GeneralizedLinearRegressionExample.scala\n",
            "spark-3.2.1-bin-hadoop2.7/examples/src/main/scala/org/apache/spark/examples/ml/GradientBoostedTreeClassifierExample.scala\n",
            "spark-3.2.1-bin-hadoop2.7/examples/src/main/scala/org/apache/spark/examples/ml/GradientBoostedTreeRegressorExample.scala\n",
            "spark-3.2.1-bin-hadoop2.7/examples/src/main/scala/org/apache/spark/examples/ml/ImputerExample.scala\n",
            "spark-3.2.1-bin-hadoop2.7/examples/src/main/scala/org/apache/spark/examples/ml/IndexToStringExample.scala\n",
            "spark-3.2.1-bin-hadoop2.7/examples/src/main/scala/org/apache/spark/examples/ml/InteractionExample.scala\n",
            "spark-3.2.1-bin-hadoop2.7/examples/src/main/scala/org/apache/spark/examples/ml/IsotonicRegressionExample.scala\n",
            "spark-3.2.1-bin-hadoop2.7/examples/src/main/scala/org/apache/spark/examples/ml/KMeansExample.scala\n",
            "spark-3.2.1-bin-hadoop2.7/examples/src/main/scala/org/apache/spark/examples/ml/LDAExample.scala\n",
            "spark-3.2.1-bin-hadoop2.7/examples/src/main/scala/org/apache/spark/examples/ml/LinearRegressionExample.scala\n",
            "spark-3.2.1-bin-hadoop2.7/examples/src/main/scala/org/apache/spark/examples/ml/LinearRegressionWithElasticNetExample.scala\n",
            "spark-3.2.1-bin-hadoop2.7/examples/src/main/scala/org/apache/spark/examples/ml/LinearSVCExample.scala\n",
            "spark-3.2.1-bin-hadoop2.7/examples/src/main/scala/org/apache/spark/examples/ml/LogisticRegressionExample.scala\n",
            "spark-3.2.1-bin-hadoop2.7/examples/src/main/scala/org/apache/spark/examples/ml/LogisticRegressionSummaryExample.scala\n",
            "spark-3.2.1-bin-hadoop2.7/examples/src/main/scala/org/apache/spark/examples/ml/LogisticRegressionWithElasticNetExample.scala\n",
            "spark-3.2.1-bin-hadoop2.7/examples/src/main/scala/org/apache/spark/examples/ml/MaxAbsScalerExample.scala\n",
            "spark-3.2.1-bin-hadoop2.7/examples/src/main/scala/org/apache/spark/examples/ml/MinHashLSHExample.scala\n",
            "spark-3.2.1-bin-hadoop2.7/examples/src/main/scala/org/apache/spark/examples/ml/MinMaxScalerExample.scala\n",
            "spark-3.2.1-bin-hadoop2.7/examples/src/main/scala/org/apache/spark/examples/ml/ModelSelectionViaCrossValidationExample.scala\n",
            "spark-3.2.1-bin-hadoop2.7/examples/src/main/scala/org/apache/spark/examples/ml/ModelSelectionViaTrainValidationSplitExample.scala\n",
            "spark-3.2.1-bin-hadoop2.7/examples/src/main/scala/org/apache/spark/examples/ml/MulticlassLogisticRegressionWithElasticNetExample.scala\n",
            "spark-3.2.1-bin-hadoop2.7/examples/src/main/scala/org/apache/spark/examples/ml/MultilayerPerceptronClassifierExample.scala\n",
            "spark-3.2.1-bin-hadoop2.7/examples/src/main/scala/org/apache/spark/examples/ml/NGramExample.scala\n",
            "spark-3.2.1-bin-hadoop2.7/examples/src/main/scala/org/apache/spark/examples/ml/NaiveBayesExample.scala\n",
            "spark-3.2.1-bin-hadoop2.7/examples/src/main/scala/org/apache/spark/examples/ml/NormalizerExample.scala\n",
            "spark-3.2.1-bin-hadoop2.7/examples/src/main/scala/org/apache/spark/examples/ml/OneHotEncoderExample.scala\n",
            "spark-3.2.1-bin-hadoop2.7/examples/src/main/scala/org/apache/spark/examples/ml/OneVsRestExample.scala\n",
            "spark-3.2.1-bin-hadoop2.7/examples/src/main/scala/org/apache/spark/examples/ml/PCAExample.scala\n",
            "spark-3.2.1-bin-hadoop2.7/examples/src/main/scala/org/apache/spark/examples/ml/PipelineExample.scala\n",
            "spark-3.2.1-bin-hadoop2.7/examples/src/main/scala/org/apache/spark/examples/ml/PolynomialExpansionExample.scala\n",
            "spark-3.2.1-bin-hadoop2.7/examples/src/main/scala/org/apache/spark/examples/ml/PowerIterationClusteringExample.scala\n",
            "spark-3.2.1-bin-hadoop2.7/examples/src/main/scala/org/apache/spark/examples/ml/PrefixSpanExample.scala\n",
            "spark-3.2.1-bin-hadoop2.7/examples/src/main/scala/org/apache/spark/examples/ml/QuantileDiscretizerExample.scala\n",
            "spark-3.2.1-bin-hadoop2.7/examples/src/main/scala/org/apache/spark/examples/ml/RFormulaExample.scala\n",
            "spark-3.2.1-bin-hadoop2.7/examples/src/main/scala/org/apache/spark/examples/ml/RandomForestClassifierExample.scala\n",
            "spark-3.2.1-bin-hadoop2.7/examples/src/main/scala/org/apache/spark/examples/ml/RandomForestExample.scala\n",
            "spark-3.2.1-bin-hadoop2.7/examples/src/main/scala/org/apache/spark/examples/ml/RandomForestRegressorExample.scala\n",
            "spark-3.2.1-bin-hadoop2.7/examples/src/main/scala/org/apache/spark/examples/ml/RobustScalerExample.scala\n",
            "spark-3.2.1-bin-hadoop2.7/examples/src/main/scala/org/apache/spark/examples/ml/SQLTransformerExample.scala\n",
            "spark-3.2.1-bin-hadoop2.7/examples/src/main/scala/org/apache/spark/examples/ml/StandardScalerExample.scala\n",
            "spark-3.2.1-bin-hadoop2.7/examples/src/main/scala/org/apache/spark/examples/ml/StopWordsRemoverExample.scala\n",
            "spark-3.2.1-bin-hadoop2.7/examples/src/main/scala/org/apache/spark/examples/ml/StringIndexerExample.scala\n",
            "spark-3.2.1-bin-hadoop2.7/examples/src/main/scala/org/apache/spark/examples/ml/SummarizerExample.scala\n",
            "spark-3.2.1-bin-hadoop2.7/examples/src/main/scala/org/apache/spark/examples/ml/TfIdfExample.scala\n",
            "spark-3.2.1-bin-hadoop2.7/examples/src/main/scala/org/apache/spark/examples/ml/TokenizerExample.scala\n",
            "spark-3.2.1-bin-hadoop2.7/examples/src/main/scala/org/apache/spark/examples/ml/UnaryTransformerExample.scala\n",
            "spark-3.2.1-bin-hadoop2.7/examples/src/main/scala/org/apache/spark/examples/ml/UnivariateFeatureSelectorExample.scala\n",
            "spark-3.2.1-bin-hadoop2.7/examples/src/main/scala/org/apache/spark/examples/ml/VarianceThresholdSelectorExample.scala\n",
            "spark-3.2.1-bin-hadoop2.7/examples/src/main/scala/org/apache/spark/examples/ml/VectorAssemblerExample.scala\n",
            "spark-3.2.1-bin-hadoop2.7/examples/src/main/scala/org/apache/spark/examples/ml/VectorIndexerExample.scala\n",
            "spark-3.2.1-bin-hadoop2.7/examples/src/main/scala/org/apache/spark/examples/ml/VectorSizeHintExample.scala\n",
            "spark-3.2.1-bin-hadoop2.7/examples/src/main/scala/org/apache/spark/examples/ml/VectorSlicerExample.scala\n",
            "spark-3.2.1-bin-hadoop2.7/examples/src/main/scala/org/apache/spark/examples/ml/Word2VecExample.scala\n",
            "spark-3.2.1-bin-hadoop2.7/examples/src/main/scala/org/apache/spark/examples/mllib/\n",
            "spark-3.2.1-bin-hadoop2.7/examples/src/main/scala/org/apache/spark/examples/mllib/AbstractParams.scala\n",
            "spark-3.2.1-bin-hadoop2.7/examples/src/main/scala/org/apache/spark/examples/mllib/AssociationRulesExample.scala\n",
            "spark-3.2.1-bin-hadoop2.7/examples/src/main/scala/org/apache/spark/examples/mllib/BinaryClassification.scala\n",
            "spark-3.2.1-bin-hadoop2.7/examples/src/main/scala/org/apache/spark/examples/mllib/BinaryClassificationMetricsExample.scala\n",
            "spark-3.2.1-bin-hadoop2.7/examples/src/main/scala/org/apache/spark/examples/mllib/BisectingKMeansExample.scala\n",
            "spark-3.2.1-bin-hadoop2.7/examples/src/main/scala/org/apache/spark/examples/mllib/ChiSqSelectorExample.scala\n",
            "spark-3.2.1-bin-hadoop2.7/examples/src/main/scala/org/apache/spark/examples/mllib/Correlations.scala\n",
            "spark-3.2.1-bin-hadoop2.7/examples/src/main/scala/org/apache/spark/examples/mllib/CorrelationsExample.scala\n",
            "spark-3.2.1-bin-hadoop2.7/examples/src/main/scala/org/apache/spark/examples/mllib/CosineSimilarity.scala\n",
            "spark-3.2.1-bin-hadoop2.7/examples/src/main/scala/org/apache/spark/examples/mllib/DecisionTreeClassificationExample.scala\n",
            "spark-3.2.1-bin-hadoop2.7/examples/src/main/scala/org/apache/spark/examples/mllib/DecisionTreeRegressionExample.scala\n",
            "spark-3.2.1-bin-hadoop2.7/examples/src/main/scala/org/apache/spark/examples/mllib/DecisionTreeRunner.scala\n",
            "spark-3.2.1-bin-hadoop2.7/examples/src/main/scala/org/apache/spark/examples/mllib/DenseKMeans.scala\n",
            "spark-3.2.1-bin-hadoop2.7/examples/src/main/scala/org/apache/spark/examples/mllib/ElementwiseProductExample.scala\n",
            "spark-3.2.1-bin-hadoop2.7/examples/src/main/scala/org/apache/spark/examples/mllib/FPGrowthExample.scala\n",
            "spark-3.2.1-bin-hadoop2.7/examples/src/main/scala/org/apache/spark/examples/mllib/GaussianMixtureExample.scala\n",
            "spark-3.2.1-bin-hadoop2.7/examples/src/main/scala/org/apache/spark/examples/mllib/GradientBoostedTreesRunner.scala\n",
            "spark-3.2.1-bin-hadoop2.7/examples/src/main/scala/org/apache/spark/examples/mllib/GradientBoostingClassificationExample.scala\n",
            "spark-3.2.1-bin-hadoop2.7/examples/src/main/scala/org/apache/spark/examples/mllib/GradientBoostingRegressionExample.scala\n",
            "spark-3.2.1-bin-hadoop2.7/examples/src/main/scala/org/apache/spark/examples/mllib/HypothesisTestingExample.scala\n",
            "spark-3.2.1-bin-hadoop2.7/examples/src/main/scala/org/apache/spark/examples/mllib/HypothesisTestingKolmogorovSmirnovTestExample.scala\n",
            "spark-3.2.1-bin-hadoop2.7/examples/src/main/scala/org/apache/spark/examples/mllib/IsotonicRegressionExample.scala\n",
            "spark-3.2.1-bin-hadoop2.7/examples/src/main/scala/org/apache/spark/examples/mllib/KMeansExample.scala\n",
            "spark-3.2.1-bin-hadoop2.7/examples/src/main/scala/org/apache/spark/examples/mllib/KernelDensityEstimationExample.scala\n",
            "spark-3.2.1-bin-hadoop2.7/examples/src/main/scala/org/apache/spark/examples/mllib/LBFGSExample.scala\n",
            "spark-3.2.1-bin-hadoop2.7/examples/src/main/scala/org/apache/spark/examples/mllib/LDAExample.scala\n",
            "spark-3.2.1-bin-hadoop2.7/examples/src/main/scala/org/apache/spark/examples/mllib/LatentDirichletAllocationExample.scala\n",
            "spark-3.2.1-bin-hadoop2.7/examples/src/main/scala/org/apache/spark/examples/mllib/LogisticRegressionWithLBFGSExample.scala\n",
            "spark-3.2.1-bin-hadoop2.7/examples/src/main/scala/org/apache/spark/examples/mllib/MovieLensALS.scala\n",
            "spark-3.2.1-bin-hadoop2.7/examples/src/main/scala/org/apache/spark/examples/mllib/MultiLabelMetricsExample.scala\n",
            "spark-3.2.1-bin-hadoop2.7/examples/src/main/scala/org/apache/spark/examples/mllib/MulticlassMetricsExample.scala\n",
            "spark-3.2.1-bin-hadoop2.7/examples/src/main/scala/org/apache/spark/examples/mllib/MultivariateSummarizer.scala\n",
            "spark-3.2.1-bin-hadoop2.7/examples/src/main/scala/org/apache/spark/examples/mllib/NaiveBayesExample.scala\n",
            "spark-3.2.1-bin-hadoop2.7/examples/src/main/scala/org/apache/spark/examples/mllib/NormalizerExample.scala\n",
            "spark-3.2.1-bin-hadoop2.7/examples/src/main/scala/org/apache/spark/examples/mllib/PCAOnRowMatrixExample.scala\n",
            "spark-3.2.1-bin-hadoop2.7/examples/src/main/scala/org/apache/spark/examples/mllib/PCAOnSourceVectorExample.scala\n",
            "spark-3.2.1-bin-hadoop2.7/examples/src/main/scala/org/apache/spark/examples/mllib/PMMLModelExportExample.scala\n",
            "spark-3.2.1-bin-hadoop2.7/examples/src/main/scala/org/apache/spark/examples/mllib/PowerIterationClusteringExample.scala\n",
            "spark-3.2.1-bin-hadoop2.7/examples/src/main/scala/org/apache/spark/examples/mllib/PrefixSpanExample.scala\n",
            "spark-3.2.1-bin-hadoop2.7/examples/src/main/scala/org/apache/spark/examples/mllib/RandomForestClassificationExample.scala\n",
            "spark-3.2.1-bin-hadoop2.7/examples/src/main/scala/org/apache/spark/examples/mllib/RandomForestRegressionExample.scala\n",
            "spark-3.2.1-bin-hadoop2.7/examples/src/main/scala/org/apache/spark/examples/mllib/RandomRDDGeneration.scala\n",
            "spark-3.2.1-bin-hadoop2.7/examples/src/main/scala/org/apache/spark/examples/mllib/RankingMetricsExample.scala\n",
            "spark-3.2.1-bin-hadoop2.7/examples/src/main/scala/org/apache/spark/examples/mllib/RecommendationExample.scala\n",
            "spark-3.2.1-bin-hadoop2.7/examples/src/main/scala/org/apache/spark/examples/mllib/SVDExample.scala\n",
            "spark-3.2.1-bin-hadoop2.7/examples/src/main/scala/org/apache/spark/examples/mllib/SVMWithSGDExample.scala\n",
            "spark-3.2.1-bin-hadoop2.7/examples/src/main/scala/org/apache/spark/examples/mllib/SampledRDDs.scala\n",
            "spark-3.2.1-bin-hadoop2.7/examples/src/main/scala/org/apache/spark/examples/mllib/SimpleFPGrowth.scala\n",
            "spark-3.2.1-bin-hadoop2.7/examples/src/main/scala/org/apache/spark/examples/mllib/SparseNaiveBayes.scala\n",
            "spark-3.2.1-bin-hadoop2.7/examples/src/main/scala/org/apache/spark/examples/mllib/StandardScalerExample.scala\n",
            "spark-3.2.1-bin-hadoop2.7/examples/src/main/scala/org/apache/spark/examples/mllib/StratifiedSamplingExample.scala\n",
            "spark-3.2.1-bin-hadoop2.7/examples/src/main/scala/org/apache/spark/examples/mllib/StreamingKMeansExample.scala\n",
            "spark-3.2.1-bin-hadoop2.7/examples/src/main/scala/org/apache/spark/examples/mllib/StreamingLinearRegressionExample.scala\n",
            "spark-3.2.1-bin-hadoop2.7/examples/src/main/scala/org/apache/spark/examples/mllib/StreamingLogisticRegression.scala\n",
            "spark-3.2.1-bin-hadoop2.7/examples/src/main/scala/org/apache/spark/examples/mllib/StreamingTestExample.scala\n",
            "spark-3.2.1-bin-hadoop2.7/examples/src/main/scala/org/apache/spark/examples/mllib/SummaryStatisticsExample.scala\n",
            "spark-3.2.1-bin-hadoop2.7/examples/src/main/scala/org/apache/spark/examples/mllib/TFIDFExample.scala\n",
            "spark-3.2.1-bin-hadoop2.7/examples/src/main/scala/org/apache/spark/examples/mllib/TallSkinnyPCA.scala\n",
            "spark-3.2.1-bin-hadoop2.7/examples/src/main/scala/org/apache/spark/examples/mllib/TallSkinnySVD.scala\n",
            "spark-3.2.1-bin-hadoop2.7/examples/src/main/scala/org/apache/spark/examples/mllib/Word2VecExample.scala\n",
            "spark-3.2.1-bin-hadoop2.7/examples/src/main/scala/org/apache/spark/examples/pythonconverters/\n",
            "spark-3.2.1-bin-hadoop2.7/examples/src/main/scala/org/apache/spark/examples/pythonconverters/AvroConverters.scala\n",
            "spark-3.2.1-bin-hadoop2.7/examples/src/main/scala/org/apache/spark/examples/sql/\n",
            "spark-3.2.1-bin-hadoop2.7/examples/src/main/scala/org/apache/spark/examples/sql/RDDRelation.scala\n",
            "spark-3.2.1-bin-hadoop2.7/examples/src/main/scala/org/apache/spark/examples/sql/SQLDataSourceExample.scala\n",
            "spark-3.2.1-bin-hadoop2.7/examples/src/main/scala/org/apache/spark/examples/sql/SimpleTypedAggregator.scala\n",
            "spark-3.2.1-bin-hadoop2.7/examples/src/main/scala/org/apache/spark/examples/sql/SparkSQLExample.scala\n",
            "spark-3.2.1-bin-hadoop2.7/examples/src/main/scala/org/apache/spark/examples/sql/UserDefinedScalar.scala\n",
            "spark-3.2.1-bin-hadoop2.7/examples/src/main/scala/org/apache/spark/examples/sql/UserDefinedTypedAggregation.scala\n",
            "spark-3.2.1-bin-hadoop2.7/examples/src/main/scala/org/apache/spark/examples/sql/UserDefinedUntypedAggregation.scala\n",
            "spark-3.2.1-bin-hadoop2.7/examples/src/main/scala/org/apache/spark/examples/sql/hive/\n",
            "spark-3.2.1-bin-hadoop2.7/examples/src/main/scala/org/apache/spark/examples/sql/hive/SparkHiveExample.scala\n",
            "spark-3.2.1-bin-hadoop2.7/examples/src/main/scala/org/apache/spark/examples/sql/jdbc/\n",
            "spark-3.2.1-bin-hadoop2.7/examples/src/main/scala/org/apache/spark/examples/sql/jdbc/ExampleJdbcConnectionProvider.scala\n",
            "spark-3.2.1-bin-hadoop2.7/examples/src/main/scala/org/apache/spark/examples/sql/streaming/\n",
            "spark-3.2.1-bin-hadoop2.7/examples/src/main/scala/org/apache/spark/examples/sql/streaming/StructuredComplexSessionization.scala\n",
            "spark-3.2.1-bin-hadoop2.7/examples/src/main/scala/org/apache/spark/examples/sql/streaming/StructuredKafkaWordCount.scala\n",
            "spark-3.2.1-bin-hadoop2.7/examples/src/main/scala/org/apache/spark/examples/sql/streaming/StructuredKerberizedKafkaWordCount.scala\n",
            "spark-3.2.1-bin-hadoop2.7/examples/src/main/scala/org/apache/spark/examples/sql/streaming/StructuredNetworkWordCount.scala\n",
            "spark-3.2.1-bin-hadoop2.7/examples/src/main/scala/org/apache/spark/examples/sql/streaming/StructuredNetworkWordCountWindowed.scala\n",
            "spark-3.2.1-bin-hadoop2.7/examples/src/main/scala/org/apache/spark/examples/sql/streaming/StructuredSessionization.scala\n",
            "spark-3.2.1-bin-hadoop2.7/examples/src/main/scala/org/apache/spark/examples/streaming/\n",
            "spark-3.2.1-bin-hadoop2.7/examples/src/main/scala/org/apache/spark/examples/streaming/CustomReceiver.scala\n",
            "spark-3.2.1-bin-hadoop2.7/examples/src/main/scala/org/apache/spark/examples/streaming/DirectKafkaWordCount.scala\n",
            "spark-3.2.1-bin-hadoop2.7/examples/src/main/scala/org/apache/spark/examples/streaming/DirectKerberizedKafkaWordCount.scala\n",
            "spark-3.2.1-bin-hadoop2.7/examples/src/main/scala/org/apache/spark/examples/streaming/HdfsWordCount.scala\n",
            "spark-3.2.1-bin-hadoop2.7/examples/src/main/scala/org/apache/spark/examples/streaming/NetworkWordCount.scala\n",
            "spark-3.2.1-bin-hadoop2.7/examples/src/main/scala/org/apache/spark/examples/streaming/QueueStream.scala\n",
            "spark-3.2.1-bin-hadoop2.7/examples/src/main/scala/org/apache/spark/examples/streaming/RawNetworkGrep.scala\n",
            "spark-3.2.1-bin-hadoop2.7/examples/src/main/scala/org/apache/spark/examples/streaming/RecoverableNetworkWordCount.scala\n",
            "spark-3.2.1-bin-hadoop2.7/examples/src/main/scala/org/apache/spark/examples/streaming/SqlNetworkWordCount.scala\n",
            "spark-3.2.1-bin-hadoop2.7/examples/src/main/scala/org/apache/spark/examples/streaming/StatefulNetworkWordCount.scala\n",
            "spark-3.2.1-bin-hadoop2.7/examples/src/main/scala/org/apache/spark/examples/streaming/StreamingExamples.scala\n",
            "spark-3.2.1-bin-hadoop2.7/examples/src/main/scala/org/apache/spark/examples/streaming/clickstream/\n",
            "spark-3.2.1-bin-hadoop2.7/examples/src/main/scala/org/apache/spark/examples/streaming/clickstream/PageViewGenerator.scala\n",
            "spark-3.2.1-bin-hadoop2.7/examples/src/main/scala/org/apache/spark/examples/streaming/clickstream/PageViewStream.scala\n",
            "spark-3.2.1-bin-hadoop2.7/examples/src/main/scripts/\n",
            "spark-3.2.1-bin-hadoop2.7/examples/src/main/scripts/getGpusResources.sh\n",
            "spark-3.2.1-bin-hadoop2.7/jars/\n",
            "spark-3.2.1-bin-hadoop2.7/jars/HikariCP-2.5.1.jar\n",
            "spark-3.2.1-bin-hadoop2.7/jars/JLargeArrays-1.5.jar\n",
            "spark-3.2.1-bin-hadoop2.7/jars/JTransforms-3.1.jar\n",
            "spark-3.2.1-bin-hadoop2.7/jars/RoaringBitmap-0.9.0.jar\n",
            "spark-3.2.1-bin-hadoop2.7/jars/ST4-4.0.4.jar\n",
            "spark-3.2.1-bin-hadoop2.7/jars/activation-1.1.1.jar\n",
            "spark-3.2.1-bin-hadoop2.7/jars/aircompressor-0.21.jar\n",
            "spark-3.2.1-bin-hadoop2.7/jars/algebra_2.12-2.0.1.jar\n",
            "spark-3.2.1-bin-hadoop2.7/jars/annotations-17.0.0.jar\n",
            "spark-3.2.1-bin-hadoop2.7/jars/antlr-runtime-3.5.2.jar\n",
            "spark-3.2.1-bin-hadoop2.7/jars/antlr4-runtime-4.8.jar\n",
            "spark-3.2.1-bin-hadoop2.7/jars/aopalliance-1.0.jar\n",
            "spark-3.2.1-bin-hadoop2.7/jars/aopalliance-repackaged-2.6.1.jar\n",
            "spark-3.2.1-bin-hadoop2.7/jars/apacheds-i18n-2.0.0-M15.jar\n",
            "spark-3.2.1-bin-hadoop2.7/jars/apacheds-kerberos-codec-2.0.0-M15.jar\n",
            "spark-3.2.1-bin-hadoop2.7/jars/api-asn1-api-1.0.0-M20.jar\n",
            "spark-3.2.1-bin-hadoop2.7/jars/api-util-1.0.0-M20.jar\n",
            "spark-3.2.1-bin-hadoop2.7/jars/arpack-2.2.1.jar\n",
            "spark-3.2.1-bin-hadoop2.7/jars/arpack_combined_all-0.1.jar\n",
            "spark-3.2.1-bin-hadoop2.7/jars/arrow-format-2.0.0.jar\n",
            "spark-3.2.1-bin-hadoop2.7/jars/arrow-memory-core-2.0.0.jar\n",
            "spark-3.2.1-bin-hadoop2.7/jars/arrow-memory-netty-2.0.0.jar\n",
            "spark-3.2.1-bin-hadoop2.7/jars/arrow-vector-2.0.0.jar\n",
            "spark-3.2.1-bin-hadoop2.7/jars/audience-annotations-0.5.0.jar\n",
            "spark-3.2.1-bin-hadoop2.7/jars/automaton-1.11-8.jar\n",
            "spark-3.2.1-bin-hadoop2.7/jars/avro-1.10.2.jar\n",
            "spark-3.2.1-bin-hadoop2.7/jars/avro-ipc-1.10.2.jar\n",
            "spark-3.2.1-bin-hadoop2.7/jars/avro-mapred-1.10.2.jar\n",
            "spark-3.2.1-bin-hadoop2.7/jars/blas-2.2.1.jar\n",
            "spark-3.2.1-bin-hadoop2.7/jars/bonecp-0.8.0.RELEASE.jar\n",
            "spark-3.2.1-bin-hadoop2.7/jars/breeze-macros_2.12-1.2.jar\n",
            "spark-3.2.1-bin-hadoop2.7/jars/breeze_2.12-1.2.jar\n",
            "spark-3.2.1-bin-hadoop2.7/jars/cats-kernel_2.12-2.1.1.jar\n",
            "spark-3.2.1-bin-hadoop2.7/jars/chill-java-0.10.0.jar\n",
            "spark-3.2.1-bin-hadoop2.7/jars/chill_2.12-0.10.0.jar\n",
            "spark-3.2.1-bin-hadoop2.7/jars/commons-beanutils-1.9.4.jar\n",
            "spark-3.2.1-bin-hadoop2.7/jars/commons-cli-1.2.jar\n",
            "spark-3.2.1-bin-hadoop2.7/jars/commons-codec-1.15.jar\n",
            "spark-3.2.1-bin-hadoop2.7/jars/commons-collections-3.2.2.jar\n",
            "spark-3.2.1-bin-hadoop2.7/jars/commons-compiler-3.0.16.jar\n",
            "spark-3.2.1-bin-hadoop2.7/jars/commons-compress-1.21.jar\n",
            "spark-3.2.1-bin-hadoop2.7/jars/commons-configuration-1.6.jar\n",
            "spark-3.2.1-bin-hadoop2.7/jars/commons-crypto-1.1.0.jar\n",
            "spark-3.2.1-bin-hadoop2.7/jars/commons-dbcp-1.4.jar\n",
            "spark-3.2.1-bin-hadoop2.7/jars/commons-digester-1.8.jar\n",
            "spark-3.2.1-bin-hadoop2.7/jars/commons-httpclient-3.1.jar\n",
            "spark-3.2.1-bin-hadoop2.7/jars/commons-io-2.4.jar\n",
            "spark-3.2.1-bin-hadoop2.7/jars/commons-lang-2.6.jar\n",
            "spark-3.2.1-bin-hadoop2.7/jars/commons-lang3-3.12.0.jar\n",
            "spark-3.2.1-bin-hadoop2.7/jars/commons-logging-1.1.3.jar\n",
            "spark-3.2.1-bin-hadoop2.7/jars/commons-math3-3.4.1.jar\n",
            "spark-3.2.1-bin-hadoop2.7/jars/commons-net-3.1.jar\n",
            "spark-3.2.1-bin-hadoop2.7/jars/commons-pool-1.5.4.jar\n",
            "spark-3.2.1-bin-hadoop2.7/jars/commons-text-1.6.jar\n",
            "spark-3.2.1-bin-hadoop2.7/jars/compress-lzf-1.0.3.jar\n",
            "spark-3.2.1-bin-hadoop2.7/jars/core-1.1.2.jar\n",
            "spark-3.2.1-bin-hadoop2.7/jars/curator-client-2.7.1.jar\n",
            "spark-3.2.1-bin-hadoop2.7/jars/curator-framework-2.7.1.jar\n",
            "spark-3.2.1-bin-hadoop2.7/jars/curator-recipes-2.7.1.jar\n",
            "spark-3.2.1-bin-hadoop2.7/jars/datanucleus-api-jdo-4.2.4.jar\n",
            "spark-3.2.1-bin-hadoop2.7/jars/datanucleus-core-4.1.17.jar\n",
            "spark-3.2.1-bin-hadoop2.7/jars/datanucleus-rdbms-4.1.19.jar\n",
            "spark-3.2.1-bin-hadoop2.7/jars/derby-10.14.2.0.jar\n",
            "spark-3.2.1-bin-hadoop2.7/jars/dropwizard-metrics-hadoop-metrics2-reporter-0.1.2.jar\n",
            "spark-3.2.1-bin-hadoop2.7/jars/flatbuffers-java-1.9.0.jar\n",
            "spark-3.2.1-bin-hadoop2.7/jars/generex-1.0.2.jar\n",
            "spark-3.2.1-bin-hadoop2.7/jars/gson-2.2.4.jar\n",
            "spark-3.2.1-bin-hadoop2.7/jars/guava-14.0.1.jar\n",
            "spark-3.2.1-bin-hadoop2.7/jars/guice-3.0.jar\n",
            "spark-3.2.1-bin-hadoop2.7/jars/guice-servlet-3.0.jar\n",
            "spark-3.2.1-bin-hadoop2.7/jars/hadoop-annotations-2.7.4.jar\n",
            "spark-3.2.1-bin-hadoop2.7/jars/hadoop-auth-2.7.4.jar\n",
            "spark-3.2.1-bin-hadoop2.7/jars/hadoop-client-2.7.4.jar\n",
            "spark-3.2.1-bin-hadoop2.7/jars/hadoop-common-2.7.4.jar\n",
            "spark-3.2.1-bin-hadoop2.7/jars/hadoop-hdfs-2.7.4.jar\n",
            "spark-3.2.1-bin-hadoop2.7/jars/hadoop-mapreduce-client-app-2.7.4.jar\n",
            "spark-3.2.1-bin-hadoop2.7/jars/hadoop-mapreduce-client-common-2.7.4.jar\n",
            "spark-3.2.1-bin-hadoop2.7/jars/hadoop-mapreduce-client-core-2.7.4.jar\n",
            "spark-3.2.1-bin-hadoop2.7/jars/hadoop-mapreduce-client-jobclient-2.7.4.jar\n",
            "spark-3.2.1-bin-hadoop2.7/jars/hadoop-mapreduce-client-shuffle-2.7.4.jar\n",
            "spark-3.2.1-bin-hadoop2.7/jars/hadoop-yarn-api-2.7.4.jar\n",
            "spark-3.2.1-bin-hadoop2.7/jars/hadoop-yarn-client-2.7.4.jar\n",
            "spark-3.2.1-bin-hadoop2.7/jars/hadoop-yarn-common-2.7.4.jar\n",
            "spark-3.2.1-bin-hadoop2.7/jars/hadoop-yarn-server-common-2.7.4.jar\n",
            "spark-3.2.1-bin-hadoop2.7/jars/hadoop-yarn-server-web-proxy-2.7.4.jar\n",
            "spark-3.2.1-bin-hadoop2.7/jars/hive-beeline-2.3.9.jar\n",
            "spark-3.2.1-bin-hadoop2.7/jars/hive-cli-2.3.9.jar\n",
            "spark-3.2.1-bin-hadoop2.7/jars/hive-common-2.3.9.jar\n",
            "spark-3.2.1-bin-hadoop2.7/jars/hive-exec-2.3.9-core.jar\n",
            "spark-3.2.1-bin-hadoop2.7/jars/hive-jdbc-2.3.9.jar\n",
            "spark-3.2.1-bin-hadoop2.7/jars/hive-llap-common-2.3.9.jar\n",
            "spark-3.2.1-bin-hadoop2.7/jars/hive-metastore-2.3.9.jar\n",
            "spark-3.2.1-bin-hadoop2.7/jars/hive-serde-2.3.9.jar\n",
            "spark-3.2.1-bin-hadoop2.7/jars/hive-service-rpc-3.1.2.jar\n",
            "spark-3.2.1-bin-hadoop2.7/jars/hive-shims-0.23-2.3.9.jar\n",
            "spark-3.2.1-bin-hadoop2.7/jars/hive-shims-2.3.9.jar\n",
            "spark-3.2.1-bin-hadoop2.7/jars/hive-shims-common-2.3.9.jar\n",
            "spark-3.2.1-bin-hadoop2.7/jars/hive-shims-scheduler-2.3.9.jar\n",
            "spark-3.2.1-bin-hadoop2.7/jars/hive-storage-api-2.7.2.jar\n",
            "spark-3.2.1-bin-hadoop2.7/jars/hive-vector-code-gen-2.3.9.jar\n",
            "spark-3.2.1-bin-hadoop2.7/jars/hk2-api-2.6.1.jar\n",
            "spark-3.2.1-bin-hadoop2.7/jars/hk2-locator-2.6.1.jar\n",
            "spark-3.2.1-bin-hadoop2.7/jars/hk2-utils-2.6.1.jar\n",
            "spark-3.2.1-bin-hadoop2.7/jars/htrace-core-3.1.0-incubating.jar\n",
            "spark-3.2.1-bin-hadoop2.7/jars/httpclient-4.5.13.jar\n",
            "spark-3.2.1-bin-hadoop2.7/jars/httpcore-4.4.14.jar\n",
            "spark-3.2.1-bin-hadoop2.7/jars/istack-commons-runtime-3.0.8.jar\n",
            "spark-3.2.1-bin-hadoop2.7/jars/ivy-2.5.0.jar\n",
            "spark-3.2.1-bin-hadoop2.7/jars/jackson-annotations-2.12.3.jar\n",
            "spark-3.2.1-bin-hadoop2.7/jars/jackson-core-2.12.3.jar\n",
            "spark-3.2.1-bin-hadoop2.7/jars/jackson-core-asl-1.9.13.jar\n",
            "spark-3.2.1-bin-hadoop2.7/jars/jackson-databind-2.12.3.jar\n",
            "spark-3.2.1-bin-hadoop2.7/jars/jackson-dataformat-yaml-2.12.3.jar\n",
            "spark-3.2.1-bin-hadoop2.7/jars/jackson-datatype-jsr310-2.11.2.jar\n",
            "spark-3.2.1-bin-hadoop2.7/jars/jackson-jaxrs-1.9.13.jar\n",
            "spark-3.2.1-bin-hadoop2.7/jars/jackson-mapper-asl-1.9.13.jar\n",
            "spark-3.2.1-bin-hadoop2.7/jars/jackson-module-scala_2.12-2.12.3.jar\n",
            "spark-3.2.1-bin-hadoop2.7/jars/jackson-xc-1.9.13.jar\n",
            "spark-3.2.1-bin-hadoop2.7/jars/jakarta.annotation-api-1.3.5.jar\n",
            "spark-3.2.1-bin-hadoop2.7/jars/jakarta.inject-2.6.1.jar\n",
            "spark-3.2.1-bin-hadoop2.7/jars/jakarta.servlet-api-4.0.3.jar\n",
            "spark-3.2.1-bin-hadoop2.7/jars/jakarta.validation-api-2.0.2.jar\n",
            "spark-3.2.1-bin-hadoop2.7/jars/jakarta.ws.rs-api-2.1.6.jar\n",
            "spark-3.2.1-bin-hadoop2.7/jars/jakarta.xml.bind-api-2.3.2.jar\n",
            "spark-3.2.1-bin-hadoop2.7/jars/janino-3.0.16.jar\n",
            "spark-3.2.1-bin-hadoop2.7/jars/javassist-3.25.0-GA.jar\n",
            "spark-3.2.1-bin-hadoop2.7/jars/javax.inject-1.jar\n",
            "spark-3.2.1-bin-hadoop2.7/jars/javax.jdo-3.2.0-m3.jar\n",
            "spark-3.2.1-bin-hadoop2.7/jars/javolution-5.5.1.jar\n",
            "spark-3.2.1-bin-hadoop2.7/jars/jaxb-api-2.2.11.jar\n",
            "spark-3.2.1-bin-hadoop2.7/jars/jaxb-runtime-2.3.2.jar\n",
            "spark-3.2.1-bin-hadoop2.7/jars/jcl-over-slf4j-1.7.30.jar\n",
            "spark-3.2.1-bin-hadoop2.7/jars/jdo-api-3.0.1.jar\n",
            "spark-3.2.1-bin-hadoop2.7/jars/jersey-client-2.34.jar\n",
            "spark-3.2.1-bin-hadoop2.7/jars/jersey-common-2.34.jar\n",
            "spark-3.2.1-bin-hadoop2.7/jars/jersey-container-servlet-2.34.jar\n",
            "spark-3.2.1-bin-hadoop2.7/jars/jersey-container-servlet-core-2.34.jar\n",
            "spark-3.2.1-bin-hadoop2.7/jars/jersey-hk2-2.34.jar\n",
            "spark-3.2.1-bin-hadoop2.7/jars/jersey-server-2.34.jar\n",
            "spark-3.2.1-bin-hadoop2.7/jars/jetty-6.1.26.jar\n",
            "spark-3.2.1-bin-hadoop2.7/jars/jetty-sslengine-6.1.26.jar\n",
            "spark-3.2.1-bin-hadoop2.7/jars/jetty-util-6.1.26.jar\n",
            "spark-3.2.1-bin-hadoop2.7/jars/jline-2.14.6.jar\n",
            "spark-3.2.1-bin-hadoop2.7/jars/joda-time-2.10.10.jar\n",
            "spark-3.2.1-bin-hadoop2.7/jars/jodd-core-3.5.2.jar\n",
            "spark-3.2.1-bin-hadoop2.7/jars/jpam-1.1.jar\n",
            "spark-3.2.1-bin-hadoop2.7/jars/json-1.8.jar\n",
            "spark-3.2.1-bin-hadoop2.7/jars/json4s-ast_2.12-3.7.0-M11.jar\n",
            "spark-3.2.1-bin-hadoop2.7/jars/json4s-core_2.12-3.7.0-M11.jar\n",
            "spark-3.2.1-bin-hadoop2.7/jars/json4s-jackson_2.12-3.7.0-M11.jar\n",
            "spark-3.2.1-bin-hadoop2.7/jars/json4s-scalap_2.12-3.7.0-M11.jar\n",
            "spark-3.2.1-bin-hadoop2.7/jars/jsp-api-2.1.jar\n",
            "spark-3.2.1-bin-hadoop2.7/jars/jsr305-3.0.0.jar\n",
            "spark-3.2.1-bin-hadoop2.7/jars/jta-1.1.jar\n",
            "spark-3.2.1-bin-hadoop2.7/jars/jul-to-slf4j-1.7.30.jar\n",
            "spark-3.2.1-bin-hadoop2.7/jars/kryo-shaded-4.0.2.jar\n",
            "spark-3.2.1-bin-hadoop2.7/jars/kubernetes-client-5.4.1.jar\n",
            "spark-3.2.1-bin-hadoop2.7/jars/kubernetes-model-admissionregistration-5.4.1.jar\n",
            "spark-3.2.1-bin-hadoop2.7/jars/kubernetes-model-apiextensions-5.4.1.jar\n",
            "spark-3.2.1-bin-hadoop2.7/jars/kubernetes-model-apps-5.4.1.jar\n",
            "spark-3.2.1-bin-hadoop2.7/jars/kubernetes-model-autoscaling-5.4.1.jar\n",
            "spark-3.2.1-bin-hadoop2.7/jars/kubernetes-model-batch-5.4.1.jar\n",
            "spark-3.2.1-bin-hadoop2.7/jars/kubernetes-model-certificates-5.4.1.jar\n",
            "spark-3.2.1-bin-hadoop2.7/jars/kubernetes-model-common-5.4.1.jar\n",
            "spark-3.2.1-bin-hadoop2.7/jars/kubernetes-model-coordination-5.4.1.jar\n",
            "spark-3.2.1-bin-hadoop2.7/jars/kubernetes-model-core-5.4.1.jar\n",
            "spark-3.2.1-bin-hadoop2.7/jars/kubernetes-model-discovery-5.4.1.jar\n",
            "spark-3.2.1-bin-hadoop2.7/jars/kubernetes-model-events-5.4.1.jar\n",
            "spark-3.2.1-bin-hadoop2.7/jars/kubernetes-model-extensions-5.4.1.jar\n",
            "spark-3.2.1-bin-hadoop2.7/jars/kubernetes-model-flowcontrol-5.4.1.jar\n",
            "spark-3.2.1-bin-hadoop2.7/jars/kubernetes-model-metrics-5.4.1.jar\n",
            "spark-3.2.1-bin-hadoop2.7/jars/kubernetes-model-networking-5.4.1.jar\n",
            "spark-3.2.1-bin-hadoop2.7/jars/kubernetes-model-node-5.4.1.jar\n",
            "spark-3.2.1-bin-hadoop2.7/jars/kubernetes-model-policy-5.4.1.jar\n",
            "spark-3.2.1-bin-hadoop2.7/jars/kubernetes-model-rbac-5.4.1.jar\n",
            "spark-3.2.1-bin-hadoop2.7/jars/kubernetes-model-scheduling-5.4.1.jar\n",
            "spark-3.2.1-bin-hadoop2.7/jars/kubernetes-model-storageclass-5.4.1.jar\n",
            "spark-3.2.1-bin-hadoop2.7/jars/lapack-2.2.1.jar\n",
            "spark-3.2.1-bin-hadoop2.7/jars/leveldbjni-all-1.8.jar\n",
            "spark-3.2.1-bin-hadoop2.7/jars/libfb303-0.9.3.jar\n",
            "spark-3.2.1-bin-hadoop2.7/jars/libthrift-0.12.0.jar\n",
            "spark-3.2.1-bin-hadoop2.7/jars/log4j-1.2.17.jar\n",
            "spark-3.2.1-bin-hadoop2.7/jars/logging-interceptor-3.12.12.jar\n",
            "spark-3.2.1-bin-hadoop2.7/jars/lz4-java-1.7.1.jar\n",
            "spark-3.2.1-bin-hadoop2.7/jars/macro-compat_2.12-1.1.1.jar\n",
            "spark-3.2.1-bin-hadoop2.7/jars/mesos-1.4.0-shaded-protobuf.jar\n",
            "spark-3.2.1-bin-hadoop2.7/jars/metrics-core-4.2.0.jar\n",
            "spark-3.2.1-bin-hadoop2.7/jars/metrics-graphite-4.2.0.jar\n",
            "spark-3.2.1-bin-hadoop2.7/jars/metrics-jmx-4.2.0.jar\n",
            "spark-3.2.1-bin-hadoop2.7/jars/metrics-json-4.2.0.jar\n",
            "spark-3.2.1-bin-hadoop2.7/jars/metrics-jvm-4.2.0.jar\n",
            "spark-3.2.1-bin-hadoop2.7/jars/minlog-1.3.0.jar\n",
            "spark-3.2.1-bin-hadoop2.7/jars/netty-all-4.1.68.Final.jar\n",
            "spark-3.2.1-bin-hadoop2.7/jars/objenesis-2.6.jar\n",
            "spark-3.2.1-bin-hadoop2.7/jars/okhttp-3.12.12.jar\n",
            "spark-3.2.1-bin-hadoop2.7/jars/okio-1.14.0.jar\n",
            "spark-3.2.1-bin-hadoop2.7/jars/opencsv-2.3.jar\n",
            "spark-3.2.1-bin-hadoop2.7/jars/orc-core-1.6.12.jar\n",
            "spark-3.2.1-bin-hadoop2.7/jars/orc-mapreduce-1.6.12.jar\n",
            "spark-3.2.1-bin-hadoop2.7/jars/orc-shims-1.6.12.jar\n",
            "spark-3.2.1-bin-hadoop2.7/jars/oro-2.0.8.jar\n",
            "spark-3.2.1-bin-hadoop2.7/jars/osgi-resource-locator-1.0.3.jar\n",
            "spark-3.2.1-bin-hadoop2.7/jars/paranamer-2.8.jar\n",
            "spark-3.2.1-bin-hadoop2.7/jars/parquet-column-1.12.2.jar\n",
            "spark-3.2.1-bin-hadoop2.7/jars/parquet-common-1.12.2.jar\n",
            "spark-3.2.1-bin-hadoop2.7/jars/parquet-encoding-1.12.2.jar\n",
            "spark-3.2.1-bin-hadoop2.7/jars/parquet-format-structures-1.12.2.jar\n",
            "spark-3.2.1-bin-hadoop2.7/jars/parquet-hadoop-1.12.2.jar\n",
            "spark-3.2.1-bin-hadoop2.7/jars/parquet-jackson-1.12.2.jar\n",
            "spark-3.2.1-bin-hadoop2.7/jars/protobuf-java-2.5.0.jar\n",
            "spark-3.2.1-bin-hadoop2.7/jars/py4j-0.10.9.3.jar\n",
            "spark-3.2.1-bin-hadoop2.7/jars/pyrolite-4.30.jar\n",
            "spark-3.2.1-bin-hadoop2.7/jars/rocksdbjni-6.20.3.jar\n",
            "spark-3.2.1-bin-hadoop2.7/jars/scala-collection-compat_2.12-2.1.1.jar\n",
            "spark-3.2.1-bin-hadoop2.7/jars/scala-compiler-2.12.15.jar\n",
            "spark-3.2.1-bin-hadoop2.7/jars/scala-library-2.12.15.jar\n",
            "spark-3.2.1-bin-hadoop2.7/jars/scala-parser-combinators_2.12-1.1.2.jar\n",
            "spark-3.2.1-bin-hadoop2.7/jars/scala-reflect-2.12.15.jar\n",
            "spark-3.2.1-bin-hadoop2.7/jars/scala-xml_2.12-1.2.0.jar\n",
            "spark-3.2.1-bin-hadoop2.7/jars/shapeless_2.12-2.3.3.jar\n",
            "spark-3.2.1-bin-hadoop2.7/jars/shims-0.9.0.jar\n",
            "spark-3.2.1-bin-hadoop2.7/jars/slf4j-api-1.7.30.jar\n",
            "spark-3.2.1-bin-hadoop2.7/jars/slf4j-log4j12-1.7.30.jar\n",
            "spark-3.2.1-bin-hadoop2.7/jars/snakeyaml-1.27.jar\n",
            "spark-3.2.1-bin-hadoop2.7/jars/snappy-java-1.1.8.4.jar\n",
            "spark-3.2.1-bin-hadoop2.7/jars/spark-catalyst_2.12-3.2.1.jar\n",
            "spark-3.2.1-bin-hadoop2.7/jars/spark-core_2.12-3.2.1.jar\n",
            "spark-3.2.1-bin-hadoop2.7/jars/spark-graphx_2.12-3.2.1.jar\n",
            "spark-3.2.1-bin-hadoop2.7/jars/spark-hive-thriftserver_2.12-3.2.1.jar\n",
            "spark-3.2.1-bin-hadoop2.7/jars/spark-hive_2.12-3.2.1.jar\n",
            "spark-3.2.1-bin-hadoop2.7/jars/spark-kubernetes_2.12-3.2.1.jar\n",
            "spark-3.2.1-bin-hadoop2.7/jars/spark-kvstore_2.12-3.2.1.jar\n",
            "spark-3.2.1-bin-hadoop2.7/jars/spark-launcher_2.12-3.2.1.jar\n",
            "spark-3.2.1-bin-hadoop2.7/jars/spark-mesos_2.12-3.2.1.jar\n",
            "spark-3.2.1-bin-hadoop2.7/jars/spark-mllib-local_2.12-3.2.1.jar\n",
            "spark-3.2.1-bin-hadoop2.7/jars/spark-mllib_2.12-3.2.1.jar\n",
            "spark-3.2.1-bin-hadoop2.7/jars/spark-network-common_2.12-3.2.1.jar\n",
            "spark-3.2.1-bin-hadoop2.7/jars/spark-network-shuffle_2.12-3.2.1.jar\n",
            "spark-3.2.1-bin-hadoop2.7/jars/spark-repl_2.12-3.2.1.jar\n",
            "spark-3.2.1-bin-hadoop2.7/jars/spark-sketch_2.12-3.2.1.jar\n",
            "spark-3.2.1-bin-hadoop2.7/jars/spark-sql_2.12-3.2.1.jar\n",
            "spark-3.2.1-bin-hadoop2.7/jars/spark-streaming_2.12-3.2.1.jar\n",
            "spark-3.2.1-bin-hadoop2.7/jars/spark-tags_2.12-3.2.1-tests.jar\n",
            "spark-3.2.1-bin-hadoop2.7/jars/spark-tags_2.12-3.2.1.jar\n",
            "spark-3.2.1-bin-hadoop2.7/jars/spark-unsafe_2.12-3.2.1.jar\n",
            "spark-3.2.1-bin-hadoop2.7/jars/spark-yarn_2.12-3.2.1.jar\n",
            "spark-3.2.1-bin-hadoop2.7/jars/spire-macros_2.12-0.17.0.jar\n",
            "spark-3.2.1-bin-hadoop2.7/jars/spire-platform_2.12-0.17.0.jar\n",
            "spark-3.2.1-bin-hadoop2.7/jars/spire-util_2.12-0.17.0.jar\n",
            "spark-3.2.1-bin-hadoop2.7/jars/spire_2.12-0.17.0.jar\n",
            "spark-3.2.1-bin-hadoop2.7/jars/stax-api-1.0.1.jar\n",
            "spark-3.2.1-bin-hadoop2.7/jars/stream-2.9.6.jar\n",
            "spark-3.2.1-bin-hadoop2.7/jars/super-csv-2.2.0.jar\n",
            "spark-3.2.1-bin-hadoop2.7/jars/threeten-extra-1.5.0.jar\n",
            "spark-3.2.1-bin-hadoop2.7/jars/tink-1.6.0.jar\n",
            "spark-3.2.1-bin-hadoop2.7/jars/transaction-api-1.1.jar\n",
            "spark-3.2.1-bin-hadoop2.7/jars/univocity-parsers-2.9.1.jar\n",
            "spark-3.2.1-bin-hadoop2.7/jars/velocity-1.5.jar\n",
            "spark-3.2.1-bin-hadoop2.7/jars/xbean-asm9-shaded-4.20.jar\n",
            "spark-3.2.1-bin-hadoop2.7/jars/xercesImpl-2.12.0.jar\n",
            "spark-3.2.1-bin-hadoop2.7/jars/xml-apis-1.4.01.jar\n",
            "spark-3.2.1-bin-hadoop2.7/jars/xmlenc-0.52.jar\n",
            "spark-3.2.1-bin-hadoop2.7/jars/xz-1.8.jar\n",
            "spark-3.2.1-bin-hadoop2.7/jars/zjsonpatch-0.3.0.jar\n",
            "spark-3.2.1-bin-hadoop2.7/jars/zookeeper-3.6.2.jar\n",
            "spark-3.2.1-bin-hadoop2.7/jars/zookeeper-jute-3.6.2.jar\n",
            "spark-3.2.1-bin-hadoop2.7/jars/zstd-jni-1.5.0-4.jar\n",
            "spark-3.2.1-bin-hadoop2.7/kubernetes/\n",
            "spark-3.2.1-bin-hadoop2.7/kubernetes/dockerfiles/\n",
            "spark-3.2.1-bin-hadoop2.7/kubernetes/dockerfiles/spark/\n",
            "spark-3.2.1-bin-hadoop2.7/kubernetes/dockerfiles/spark/Dockerfile\n",
            "spark-3.2.1-bin-hadoop2.7/kubernetes/dockerfiles/spark/bindings/\n",
            "spark-3.2.1-bin-hadoop2.7/kubernetes/dockerfiles/spark/bindings/R/\n",
            "spark-3.2.1-bin-hadoop2.7/kubernetes/dockerfiles/spark/bindings/R/Dockerfile\n",
            "spark-3.2.1-bin-hadoop2.7/kubernetes/dockerfiles/spark/bindings/python/\n",
            "spark-3.2.1-bin-hadoop2.7/kubernetes/dockerfiles/spark/bindings/python/Dockerfile\n",
            "spark-3.2.1-bin-hadoop2.7/kubernetes/dockerfiles/spark/decom.sh\n",
            "spark-3.2.1-bin-hadoop2.7/kubernetes/dockerfiles/spark/entrypoint.sh\n",
            "spark-3.2.1-bin-hadoop2.7/kubernetes/tests/\n",
            "spark-3.2.1-bin-hadoop2.7/kubernetes/tests/autoscale.py\n",
            "spark-3.2.1-bin-hadoop2.7/kubernetes/tests/decommissioning.py\n",
            "spark-3.2.1-bin-hadoop2.7/kubernetes/tests/decommissioning_cleanup.py\n",
            "spark-3.2.1-bin-hadoop2.7/kubernetes/tests/py_container_checks.py\n",
            "spark-3.2.1-bin-hadoop2.7/kubernetes/tests/pyfiles.py\n",
            "spark-3.2.1-bin-hadoop2.7/kubernetes/tests/python_executable_check.py\n",
            "spark-3.2.1-bin-hadoop2.7/kubernetes/tests/worker_memory_check.py\n",
            "spark-3.2.1-bin-hadoop2.7/licenses/\n",
            "spark-3.2.1-bin-hadoop2.7/licenses/LICENSE-AnchorJS.txt\n",
            "spark-3.2.1-bin-hadoop2.7/licenses/LICENSE-CC0.txt\n",
            "spark-3.2.1-bin-hadoop2.7/licenses/LICENSE-JLargeArrays.txt\n",
            "spark-3.2.1-bin-hadoop2.7/licenses/LICENSE-JTransforms.txt\n",
            "spark-3.2.1-bin-hadoop2.7/licenses/LICENSE-antlr.txt\n",
            "spark-3.2.1-bin-hadoop2.7/licenses/LICENSE-arpack.txt\n",
            "spark-3.2.1-bin-hadoop2.7/licenses/LICENSE-automaton.txt\n",
            "spark-3.2.1-bin-hadoop2.7/licenses/LICENSE-blas.txt\n",
            "spark-3.2.1-bin-hadoop2.7/licenses/LICENSE-bootstrap.txt\n",
            "spark-3.2.1-bin-hadoop2.7/licenses/LICENSE-cloudpickle.txt\n",
            "spark-3.2.1-bin-hadoop2.7/licenses/LICENSE-d3.min.js.txt\n",
            "spark-3.2.1-bin-hadoop2.7/licenses/LICENSE-dagre-d3.txt\n",
            "spark-3.2.1-bin-hadoop2.7/licenses/LICENSE-datatables.txt\n",
            "spark-3.2.1-bin-hadoop2.7/licenses/LICENSE-dnsjava.txt\n",
            "spark-3.2.1-bin-hadoop2.7/licenses/LICENSE-f2j.txt\n",
            "spark-3.2.1-bin-hadoop2.7/licenses/LICENSE-graphlib-dot.txt\n",
            "spark-3.2.1-bin-hadoop2.7/licenses/LICENSE-istack-commons-runtime.txt\n",
            "spark-3.2.1-bin-hadoop2.7/licenses/LICENSE-jakarta-annotation-api\n",
            "spark-3.2.1-bin-hadoop2.7/licenses/LICENSE-jakarta-ws-rs-api\n",
            "spark-3.2.1-bin-hadoop2.7/licenses/LICENSE-jakarta.activation-api.txt\n",
            "spark-3.2.1-bin-hadoop2.7/licenses/LICENSE-jakarta.xml.bind-api.txt\n",
            "spark-3.2.1-bin-hadoop2.7/licenses/LICENSE-janino.txt\n",
            "spark-3.2.1-bin-hadoop2.7/licenses/LICENSE-javassist.html\n",
            "spark-3.2.1-bin-hadoop2.7/licenses/LICENSE-javax-transaction-transaction-api.txt\n",
            "spark-3.2.1-bin-hadoop2.7/licenses/LICENSE-javolution.txt\n",
            "spark-3.2.1-bin-hadoop2.7/licenses/LICENSE-jaxb-runtime.txt\n",
            "spark-3.2.1-bin-hadoop2.7/licenses/LICENSE-jline.txt\n",
            "spark-3.2.1-bin-hadoop2.7/licenses/LICENSE-jodd.txt\n",
            "spark-3.2.1-bin-hadoop2.7/licenses/LICENSE-join.txt\n",
            "spark-3.2.1-bin-hadoop2.7/licenses/LICENSE-jquery.txt\n",
            "spark-3.2.1-bin-hadoop2.7/licenses/LICENSE-json-formatter.txt\n",
            "spark-3.2.1-bin-hadoop2.7/licenses/LICENSE-jsp-api.txt\n",
            "spark-3.2.1-bin-hadoop2.7/licenses/LICENSE-kryo.txt\n",
            "spark-3.2.1-bin-hadoop2.7/licenses/LICENSE-leveldbjni.txt\n",
            "spark-3.2.1-bin-hadoop2.7/licenses/LICENSE-machinist.txt\n",
            "spark-3.2.1-bin-hadoop2.7/licenses/LICENSE-matchMedia-polyfill.txt\n",
            "spark-3.2.1-bin-hadoop2.7/licenses/LICENSE-minlog.txt\n",
            "spark-3.2.1-bin-hadoop2.7/licenses/LICENSE-modernizr.txt\n",
            "spark-3.2.1-bin-hadoop2.7/licenses/LICENSE-mustache.txt\n",
            "spark-3.2.1-bin-hadoop2.7/licenses/LICENSE-netlib.txt\n",
            "spark-3.2.1-bin-hadoop2.7/licenses/LICENSE-paranamer.txt\n",
            "spark-3.2.1-bin-hadoop2.7/licenses/LICENSE-pmml-model.txt\n",
            "spark-3.2.1-bin-hadoop2.7/licenses/LICENSE-protobuf.txt\n",
            "spark-3.2.1-bin-hadoop2.7/licenses/LICENSE-py4j.txt\n",
            "spark-3.2.1-bin-hadoop2.7/licenses/LICENSE-pyrolite.txt\n",
            "spark-3.2.1-bin-hadoop2.7/licenses/LICENSE-re2j.txt\n",
            "spark-3.2.1-bin-hadoop2.7/licenses/LICENSE-reflectasm.txt\n",
            "spark-3.2.1-bin-hadoop2.7/licenses/LICENSE-respond.txt\n",
            "spark-3.2.1-bin-hadoop2.7/licenses/LICENSE-sbt-launch-lib.txt\n",
            "spark-3.2.1-bin-hadoop2.7/licenses/LICENSE-scala.txt\n",
            "spark-3.2.1-bin-hadoop2.7/licenses/LICENSE-scopt.txt\n",
            "spark-3.2.1-bin-hadoop2.7/licenses/LICENSE-slf4j.txt\n",
            "spark-3.2.1-bin-hadoop2.7/licenses/LICENSE-sorttable.js.txt\n",
            "spark-3.2.1-bin-hadoop2.7/licenses/LICENSE-spire.txt\n",
            "spark-3.2.1-bin-hadoop2.7/licenses/LICENSE-vis-timeline.txt\n",
            "spark-3.2.1-bin-hadoop2.7/licenses/LICENSE-xmlenc.txt\n",
            "spark-3.2.1-bin-hadoop2.7/licenses/LICENSE-zstd-jni.txt\n",
            "spark-3.2.1-bin-hadoop2.7/licenses/LICENSE-zstd.txt\n",
            "spark-3.2.1-bin-hadoop2.7/python/\n",
            "spark-3.2.1-bin-hadoop2.7/python/.coveragerc\n",
            "spark-3.2.1-bin-hadoop2.7/python/.gitignore\n",
            "spark-3.2.1-bin-hadoop2.7/python/MANIFEST.in\n",
            "spark-3.2.1-bin-hadoop2.7/python/README.md\n",
            "spark-3.2.1-bin-hadoop2.7/python/docs/\n",
            "spark-3.2.1-bin-hadoop2.7/python/docs/Makefile\n",
            "spark-3.2.1-bin-hadoop2.7/python/docs/make.bat\n",
            "spark-3.2.1-bin-hadoop2.7/python/docs/make2.bat\n",
            "spark-3.2.1-bin-hadoop2.7/python/docs/source/\n",
            "spark-3.2.1-bin-hadoop2.7/python/docs/source/_static/\n",
            "spark-3.2.1-bin-hadoop2.7/python/docs/source/_static/copybutton.js\n",
            "spark-3.2.1-bin-hadoop2.7/python/docs/source/_static/css/\n",
            "spark-3.2.1-bin-hadoop2.7/python/docs/source/_static/css/pyspark.css\n",
            "spark-3.2.1-bin-hadoop2.7/python/docs/source/_templates/\n",
            "spark-3.2.1-bin-hadoop2.7/python/docs/source/_templates/autosummary/\n",
            "spark-3.2.1-bin-hadoop2.7/python/docs/source/_templates/autosummary/class.rst\n",
            "spark-3.2.1-bin-hadoop2.7/python/docs/source/_templates/autosummary/class_with_docs.rst\n",
            "spark-3.2.1-bin-hadoop2.7/python/docs/source/conf.py\n",
            "spark-3.2.1-bin-hadoop2.7/python/docs/source/development/\n",
            "spark-3.2.1-bin-hadoop2.7/python/docs/source/development/contributing.rst\n",
            "spark-3.2.1-bin-hadoop2.7/python/docs/source/development/debugging.rst\n",
            "spark-3.2.1-bin-hadoop2.7/python/docs/source/development/index.rst\n",
            "spark-3.2.1-bin-hadoop2.7/python/docs/source/development/setting_ide.rst\n",
            "spark-3.2.1-bin-hadoop2.7/python/docs/source/development/testing.rst\n",
            "spark-3.2.1-bin-hadoop2.7/python/docs/source/getting_started/\n",
            "spark-3.2.1-bin-hadoop2.7/python/docs/source/getting_started/index.rst\n",
            "spark-3.2.1-bin-hadoop2.7/python/docs/source/getting_started/install.rst\n",
            "spark-3.2.1-bin-hadoop2.7/python/docs/source/getting_started/quickstart_df.ipynb\n",
            "spark-3.2.1-bin-hadoop2.7/python/docs/source/getting_started/quickstart_ps.ipynb\n",
            "spark-3.2.1-bin-hadoop2.7/python/docs/source/index.rst\n",
            "spark-3.2.1-bin-hadoop2.7/python/docs/source/migration_guide/\n",
            "spark-3.2.1-bin-hadoop2.7/python/docs/source/migration_guide/index.rst\n",
            "spark-3.2.1-bin-hadoop2.7/python/docs/source/migration_guide/koalas_to_pyspark.rst\n",
            "spark-3.2.1-bin-hadoop2.7/python/docs/source/migration_guide/pyspark_1.0_1.2_to_1.3.rst\n",
            "spark-3.2.1-bin-hadoop2.7/python/docs/source/migration_guide/pyspark_1.4_to_1.5.rst\n",
            "spark-3.2.1-bin-hadoop2.7/python/docs/source/migration_guide/pyspark_2.2_to_2.3.rst\n",
            "spark-3.2.1-bin-hadoop2.7/python/docs/source/migration_guide/pyspark_2.3.0_to_2.3.1_above.rst\n",
            "spark-3.2.1-bin-hadoop2.7/python/docs/source/migration_guide/pyspark_2.3_to_2.4.rst\n",
            "spark-3.2.1-bin-hadoop2.7/python/docs/source/migration_guide/pyspark_2.4_to_3.0.rst\n",
            "spark-3.2.1-bin-hadoop2.7/python/docs/source/migration_guide/pyspark_3.1_to_3.2.rst\n",
            "spark-3.2.1-bin-hadoop2.7/python/docs/source/reference/\n",
            "spark-3.2.1-bin-hadoop2.7/python/docs/source/reference/index.rst\n",
            "spark-3.2.1-bin-hadoop2.7/python/docs/source/reference/pyspark.ml.rst\n",
            "spark-3.2.1-bin-hadoop2.7/python/docs/source/reference/pyspark.mllib.rst\n",
            "spark-3.2.1-bin-hadoop2.7/python/docs/source/reference/pyspark.pandas/\n",
            "spark-3.2.1-bin-hadoop2.7/python/docs/source/reference/pyspark.pandas/extensions.rst\n",
            "spark-3.2.1-bin-hadoop2.7/python/docs/source/reference/pyspark.pandas/frame.rst\n",
            "spark-3.2.1-bin-hadoop2.7/python/docs/source/reference/pyspark.pandas/general_functions.rst\n",
            "spark-3.2.1-bin-hadoop2.7/python/docs/source/reference/pyspark.pandas/groupby.rst\n",
            "spark-3.2.1-bin-hadoop2.7/python/docs/source/reference/pyspark.pandas/index.rst\n",
            "spark-3.2.1-bin-hadoop2.7/python/docs/source/reference/pyspark.pandas/indexing.rst\n",
            "spark-3.2.1-bin-hadoop2.7/python/docs/source/reference/pyspark.pandas/io.rst\n",
            "spark-3.2.1-bin-hadoop2.7/python/docs/source/reference/pyspark.pandas/ml.rst\n",
            "spark-3.2.1-bin-hadoop2.7/python/docs/source/reference/pyspark.pandas/series.rst\n",
            "spark-3.2.1-bin-hadoop2.7/python/docs/source/reference/pyspark.pandas/window.rst\n",
            "spark-3.2.1-bin-hadoop2.7/python/docs/source/reference/pyspark.resource.rst\n",
            "spark-3.2.1-bin-hadoop2.7/python/docs/source/reference/pyspark.rst\n",
            "spark-3.2.1-bin-hadoop2.7/python/docs/source/reference/pyspark.sql.rst\n",
            "spark-3.2.1-bin-hadoop2.7/python/docs/source/reference/pyspark.ss.rst\n",
            "spark-3.2.1-bin-hadoop2.7/python/docs/source/reference/pyspark.streaming.rst\n",
            "spark-3.2.1-bin-hadoop2.7/python/docs/source/user_guide/\n",
            "spark-3.2.1-bin-hadoop2.7/python/docs/source/user_guide/arrow_pandas.rst\n",
            "spark-3.2.1-bin-hadoop2.7/python/docs/source/user_guide/index.rst\n",
            "spark-3.2.1-bin-hadoop2.7/python/docs/source/user_guide/pandas_on_spark/\n",
            "spark-3.2.1-bin-hadoop2.7/python/docs/source/user_guide/pandas_on_spark/best_practices.rst\n",
            "spark-3.2.1-bin-hadoop2.7/python/docs/source/user_guide/pandas_on_spark/faq.rst\n",
            "spark-3.2.1-bin-hadoop2.7/python/docs/source/user_guide/pandas_on_spark/from_to_dbms.rst\n",
            "spark-3.2.1-bin-hadoop2.7/python/docs/source/user_guide/pandas_on_spark/index.rst\n",
            "spark-3.2.1-bin-hadoop2.7/python/docs/source/user_guide/pandas_on_spark/options.rst\n",
            "spark-3.2.1-bin-hadoop2.7/python/docs/source/user_guide/pandas_on_spark/pandas_pyspark.rst\n",
            "spark-3.2.1-bin-hadoop2.7/python/docs/source/user_guide/pandas_on_spark/transform_apply.rst\n",
            "spark-3.2.1-bin-hadoop2.7/python/docs/source/user_guide/pandas_on_spark/typehints.rst\n",
            "spark-3.2.1-bin-hadoop2.7/python/docs/source/user_guide/pandas_on_spark/types.rst\n",
            "spark-3.2.1-bin-hadoop2.7/python/docs/source/user_guide/python_packaging.rst\n",
            "spark-3.2.1-bin-hadoop2.7/python/docs/source/user_guide/sql/\n",
            "spark-3.2.1-bin-hadoop2.7/python/docs/source/user_guide/sql/arrow_pandas.rst\n",
            "spark-3.2.1-bin-hadoop2.7/python/docs/source/user_guide/sql/index.rst\n",
            "spark-3.2.1-bin-hadoop2.7/python/lib/\n",
            "spark-3.2.1-bin-hadoop2.7/python/lib/PY4J_LICENSE.txt\n",
            "spark-3.2.1-bin-hadoop2.7/python/lib/py4j-0.10.9.3-src.zip\n",
            "spark-3.2.1-bin-hadoop2.7/python/lib/pyspark.zip\n",
            "spark-3.2.1-bin-hadoop2.7/python/mypy.ini\n",
            "spark-3.2.1-bin-hadoop2.7/python/pylintrc\n",
            "spark-3.2.1-bin-hadoop2.7/python/pyspark/\n",
            "spark-3.2.1-bin-hadoop2.7/python/pyspark/__init__.py\n",
            "spark-3.2.1-bin-hadoop2.7/python/pyspark/__init__.pyi\n",
            "spark-3.2.1-bin-hadoop2.7/python/pyspark/_globals.py\n",
            "spark-3.2.1-bin-hadoop2.7/python/pyspark/_typing.pyi\n",
            "spark-3.2.1-bin-hadoop2.7/python/pyspark/accumulators.py\n",
            "spark-3.2.1-bin-hadoop2.7/python/pyspark/accumulators.pyi\n",
            "spark-3.2.1-bin-hadoop2.7/python/pyspark/broadcast.py\n",
            "spark-3.2.1-bin-hadoop2.7/python/pyspark/broadcast.pyi\n",
            "spark-3.2.1-bin-hadoop2.7/python/pyspark/cloudpickle/\n",
            "spark-3.2.1-bin-hadoop2.7/python/pyspark/cloudpickle/__init__.py\n",
            "spark-3.2.1-bin-hadoop2.7/python/pyspark/cloudpickle/cloudpickle.py\n",
            "spark-3.2.1-bin-hadoop2.7/python/pyspark/cloudpickle/cloudpickle_fast.py\n",
            "spark-3.2.1-bin-hadoop2.7/python/pyspark/cloudpickle/compat.py\n",
            "spark-3.2.1-bin-hadoop2.7/python/pyspark/conf.py\n",
            "spark-3.2.1-bin-hadoop2.7/python/pyspark/conf.pyi\n",
            "spark-3.2.1-bin-hadoop2.7/python/pyspark/context.py\n",
            "spark-3.2.1-bin-hadoop2.7/python/pyspark/context.pyi\n",
            "spark-3.2.1-bin-hadoop2.7/python/pyspark/daemon.py\n",
            "spark-3.2.1-bin-hadoop2.7/python/pyspark/files.py\n",
            "spark-3.2.1-bin-hadoop2.7/python/pyspark/files.pyi\n",
            "spark-3.2.1-bin-hadoop2.7/python/pyspark/find_spark_home.py\n",
            "spark-3.2.1-bin-hadoop2.7/python/pyspark/install.py\n",
            "spark-3.2.1-bin-hadoop2.7/python/pyspark/java_gateway.py\n",
            "spark-3.2.1-bin-hadoop2.7/python/pyspark/join.py\n",
            "spark-3.2.1-bin-hadoop2.7/python/pyspark/ml/\n",
            "spark-3.2.1-bin-hadoop2.7/python/pyspark/ml/__init__.py\n",
            "spark-3.2.1-bin-hadoop2.7/python/pyspark/ml/_typing.pyi\n",
            "spark-3.2.1-bin-hadoop2.7/python/pyspark/ml/base.py\n",
            "spark-3.2.1-bin-hadoop2.7/python/pyspark/ml/base.pyi\n",
            "spark-3.2.1-bin-hadoop2.7/python/pyspark/ml/classification.py\n",
            "spark-3.2.1-bin-hadoop2.7/python/pyspark/ml/classification.pyi\n",
            "spark-3.2.1-bin-hadoop2.7/python/pyspark/ml/clustering.py\n",
            "spark-3.2.1-bin-hadoop2.7/python/pyspark/ml/clustering.pyi\n",
            "spark-3.2.1-bin-hadoop2.7/python/pyspark/ml/common.py\n",
            "spark-3.2.1-bin-hadoop2.7/python/pyspark/ml/common.pyi\n",
            "spark-3.2.1-bin-hadoop2.7/python/pyspark/ml/evaluation.py\n",
            "spark-3.2.1-bin-hadoop2.7/python/pyspark/ml/evaluation.pyi\n",
            "spark-3.2.1-bin-hadoop2.7/python/pyspark/ml/feature.py\n",
            "spark-3.2.1-bin-hadoop2.7/python/pyspark/ml/feature.pyi\n",
            "spark-3.2.1-bin-hadoop2.7/python/pyspark/ml/fpm.py\n",
            "spark-3.2.1-bin-hadoop2.7/python/pyspark/ml/fpm.pyi\n",
            "spark-3.2.1-bin-hadoop2.7/python/pyspark/ml/functions.py\n",
            "spark-3.2.1-bin-hadoop2.7/python/pyspark/ml/functions.pyi\n",
            "spark-3.2.1-bin-hadoop2.7/python/pyspark/ml/image.py\n",
            "spark-3.2.1-bin-hadoop2.7/python/pyspark/ml/image.pyi\n",
            "spark-3.2.1-bin-hadoop2.7/python/pyspark/ml/linalg/\n",
            "spark-3.2.1-bin-hadoop2.7/python/pyspark/ml/linalg/__init__.py\n",
            "spark-3.2.1-bin-hadoop2.7/python/pyspark/ml/linalg/__init__.pyi\n",
            "spark-3.2.1-bin-hadoop2.7/python/pyspark/ml/param/\n",
            "spark-3.2.1-bin-hadoop2.7/python/pyspark/ml/param/__init__.py\n",
            "spark-3.2.1-bin-hadoop2.7/python/pyspark/ml/param/__init__.pyi\n",
            "spark-3.2.1-bin-hadoop2.7/python/pyspark/ml/param/_shared_params_code_gen.py\n",
            "spark-3.2.1-bin-hadoop2.7/python/pyspark/ml/param/_shared_params_code_gen.pyi\n",
            "spark-3.2.1-bin-hadoop2.7/python/pyspark/ml/param/shared.py\n",
            "spark-3.2.1-bin-hadoop2.7/python/pyspark/ml/param/shared.pyi\n",
            "spark-3.2.1-bin-hadoop2.7/python/pyspark/ml/pipeline.py\n",
            "spark-3.2.1-bin-hadoop2.7/python/pyspark/ml/pipeline.pyi\n",
            "spark-3.2.1-bin-hadoop2.7/python/pyspark/ml/recommendation.py\n",
            "spark-3.2.1-bin-hadoop2.7/python/pyspark/ml/recommendation.pyi\n",
            "spark-3.2.1-bin-hadoop2.7/python/pyspark/ml/regression.py\n",
            "spark-3.2.1-bin-hadoop2.7/python/pyspark/ml/regression.pyi\n",
            "spark-3.2.1-bin-hadoop2.7/python/pyspark/ml/stat.py\n",
            "spark-3.2.1-bin-hadoop2.7/python/pyspark/ml/stat.pyi\n",
            "spark-3.2.1-bin-hadoop2.7/python/pyspark/ml/tests/\n",
            "spark-3.2.1-bin-hadoop2.7/python/pyspark/ml/tests/__init__.py\n",
            "spark-3.2.1-bin-hadoop2.7/python/pyspark/ml/tests/test_algorithms.py\n",
            "spark-3.2.1-bin-hadoop2.7/python/pyspark/ml/tests/test_base.py\n",
            "spark-3.2.1-bin-hadoop2.7/python/pyspark/ml/tests/test_evaluation.py\n",
            "spark-3.2.1-bin-hadoop2.7/python/pyspark/ml/tests/test_feature.py\n",
            "spark-3.2.1-bin-hadoop2.7/python/pyspark/ml/tests/test_image.py\n",
            "spark-3.2.1-bin-hadoop2.7/python/pyspark/ml/tests/test_linalg.py\n",
            "spark-3.2.1-bin-hadoop2.7/python/pyspark/ml/tests/test_param.py\n",
            "spark-3.2.1-bin-hadoop2.7/python/pyspark/ml/tests/test_persistence.py\n",
            "spark-3.2.1-bin-hadoop2.7/python/pyspark/ml/tests/test_pipeline.py\n",
            "spark-3.2.1-bin-hadoop2.7/python/pyspark/ml/tests/test_stat.py\n",
            "spark-3.2.1-bin-hadoop2.7/python/pyspark/ml/tests/test_training_summary.py\n",
            "spark-3.2.1-bin-hadoop2.7/python/pyspark/ml/tests/test_tuning.py\n",
            "spark-3.2.1-bin-hadoop2.7/python/pyspark/ml/tests/test_util.py\n",
            "spark-3.2.1-bin-hadoop2.7/python/pyspark/ml/tests/test_wrapper.py\n",
            "spark-3.2.1-bin-hadoop2.7/python/pyspark/ml/tree.py\n",
            "spark-3.2.1-bin-hadoop2.7/python/pyspark/ml/tree.pyi\n",
            "spark-3.2.1-bin-hadoop2.7/python/pyspark/ml/tuning.py\n",
            "spark-3.2.1-bin-hadoop2.7/python/pyspark/ml/tuning.pyi\n",
            "spark-3.2.1-bin-hadoop2.7/python/pyspark/ml/util.py\n",
            "spark-3.2.1-bin-hadoop2.7/python/pyspark/ml/util.pyi\n",
            "spark-3.2.1-bin-hadoop2.7/python/pyspark/ml/wrapper.py\n",
            "spark-3.2.1-bin-hadoop2.7/python/pyspark/ml/wrapper.pyi\n",
            "spark-3.2.1-bin-hadoop2.7/python/pyspark/mllib/\n",
            "spark-3.2.1-bin-hadoop2.7/python/pyspark/mllib/__init__.py\n",
            "spark-3.2.1-bin-hadoop2.7/python/pyspark/mllib/_typing.pyi\n",
            "spark-3.2.1-bin-hadoop2.7/python/pyspark/mllib/classification.py\n",
            "spark-3.2.1-bin-hadoop2.7/python/pyspark/mllib/classification.pyi\n",
            "spark-3.2.1-bin-hadoop2.7/python/pyspark/mllib/clustering.py\n",
            "spark-3.2.1-bin-hadoop2.7/python/pyspark/mllib/clustering.pyi\n",
            "spark-3.2.1-bin-hadoop2.7/python/pyspark/mllib/common.py\n",
            "spark-3.2.1-bin-hadoop2.7/python/pyspark/mllib/common.pyi\n",
            "spark-3.2.1-bin-hadoop2.7/python/pyspark/mllib/evaluation.py\n",
            "spark-3.2.1-bin-hadoop2.7/python/pyspark/mllib/evaluation.pyi\n",
            "spark-3.2.1-bin-hadoop2.7/python/pyspark/mllib/feature.py\n",
            "spark-3.2.1-bin-hadoop2.7/python/pyspark/mllib/feature.pyi\n",
            "spark-3.2.1-bin-hadoop2.7/python/pyspark/mllib/fpm.py\n",
            "spark-3.2.1-bin-hadoop2.7/python/pyspark/mllib/fpm.pyi\n",
            "spark-3.2.1-bin-hadoop2.7/python/pyspark/mllib/linalg/\n",
            "spark-3.2.1-bin-hadoop2.7/python/pyspark/mllib/linalg/__init__.py\n",
            "spark-3.2.1-bin-hadoop2.7/python/pyspark/mllib/linalg/__init__.pyi\n",
            "spark-3.2.1-bin-hadoop2.7/python/pyspark/mllib/linalg/distributed.py\n",
            "spark-3.2.1-bin-hadoop2.7/python/pyspark/mllib/linalg/distributed.pyi\n",
            "spark-3.2.1-bin-hadoop2.7/python/pyspark/mllib/random.py\n",
            "spark-3.2.1-bin-hadoop2.7/python/pyspark/mllib/random.pyi\n",
            "spark-3.2.1-bin-hadoop2.7/python/pyspark/mllib/recommendation.py\n",
            "spark-3.2.1-bin-hadoop2.7/python/pyspark/mllib/recommendation.pyi\n",
            "spark-3.2.1-bin-hadoop2.7/python/pyspark/mllib/regression.py\n",
            "spark-3.2.1-bin-hadoop2.7/python/pyspark/mllib/regression.pyi\n",
            "spark-3.2.1-bin-hadoop2.7/python/pyspark/mllib/stat/\n",
            "spark-3.2.1-bin-hadoop2.7/python/pyspark/mllib/stat/KernelDensity.py\n",
            "spark-3.2.1-bin-hadoop2.7/python/pyspark/mllib/stat/KernelDensity.pyi\n",
            "spark-3.2.1-bin-hadoop2.7/python/pyspark/mllib/stat/__init__.py\n",
            "spark-3.2.1-bin-hadoop2.7/python/pyspark/mllib/stat/__init__.pyi\n",
            "spark-3.2.1-bin-hadoop2.7/python/pyspark/mllib/stat/_statistics.py\n",
            "spark-3.2.1-bin-hadoop2.7/python/pyspark/mllib/stat/_statistics.pyi\n",
            "spark-3.2.1-bin-hadoop2.7/python/pyspark/mllib/stat/distribution.py\n",
            "spark-3.2.1-bin-hadoop2.7/python/pyspark/mllib/stat/distribution.pyi\n",
            "spark-3.2.1-bin-hadoop2.7/python/pyspark/mllib/stat/test.py\n",
            "spark-3.2.1-bin-hadoop2.7/python/pyspark/mllib/stat/test.pyi\n",
            "spark-3.2.1-bin-hadoop2.7/python/pyspark/mllib/tests/\n",
            "spark-3.2.1-bin-hadoop2.7/python/pyspark/mllib/tests/__init__.py\n",
            "spark-3.2.1-bin-hadoop2.7/python/pyspark/mllib/tests/test_algorithms.py\n",
            "spark-3.2.1-bin-hadoop2.7/python/pyspark/mllib/tests/test_feature.py\n",
            "spark-3.2.1-bin-hadoop2.7/python/pyspark/mllib/tests/test_linalg.py\n",
            "spark-3.2.1-bin-hadoop2.7/python/pyspark/mllib/tests/test_stat.py\n",
            "spark-3.2.1-bin-hadoop2.7/python/pyspark/mllib/tests/test_streaming_algorithms.py\n",
            "spark-3.2.1-bin-hadoop2.7/python/pyspark/mllib/tests/test_util.py\n",
            "spark-3.2.1-bin-hadoop2.7/python/pyspark/mllib/tree.py\n",
            "spark-3.2.1-bin-hadoop2.7/python/pyspark/mllib/tree.pyi\n",
            "spark-3.2.1-bin-hadoop2.7/python/pyspark/mllib/util.py\n",
            "spark-3.2.1-bin-hadoop2.7/python/pyspark/mllib/util.pyi\n",
            "spark-3.2.1-bin-hadoop2.7/python/pyspark/pandas/\n",
            "spark-3.2.1-bin-hadoop2.7/python/pyspark/pandas/__init__.py\n",
            "spark-3.2.1-bin-hadoop2.7/python/pyspark/pandas/_typing.py\n",
            "spark-3.2.1-bin-hadoop2.7/python/pyspark/pandas/accessors.py\n",
            "spark-3.2.1-bin-hadoop2.7/python/pyspark/pandas/base.py\n",
            "spark-3.2.1-bin-hadoop2.7/python/pyspark/pandas/categorical.py\n",
            "spark-3.2.1-bin-hadoop2.7/python/pyspark/pandas/config.py\n",
            "spark-3.2.1-bin-hadoop2.7/python/pyspark/pandas/data_type_ops/\n",
            "spark-3.2.1-bin-hadoop2.7/python/pyspark/pandas/data_type_ops/__init__.py\n",
            "spark-3.2.1-bin-hadoop2.7/python/pyspark/pandas/data_type_ops/base.py\n",
            "spark-3.2.1-bin-hadoop2.7/python/pyspark/pandas/data_type_ops/binary_ops.py\n",
            "spark-3.2.1-bin-hadoop2.7/python/pyspark/pandas/data_type_ops/boolean_ops.py\n",
            "spark-3.2.1-bin-hadoop2.7/python/pyspark/pandas/data_type_ops/categorical_ops.py\n",
            "spark-3.2.1-bin-hadoop2.7/python/pyspark/pandas/data_type_ops/complex_ops.py\n",
            "spark-3.2.1-bin-hadoop2.7/python/pyspark/pandas/data_type_ops/date_ops.py\n",
            "spark-3.2.1-bin-hadoop2.7/python/pyspark/pandas/data_type_ops/datetime_ops.py\n",
            "spark-3.2.1-bin-hadoop2.7/python/pyspark/pandas/data_type_ops/null_ops.py\n",
            "spark-3.2.1-bin-hadoop2.7/python/pyspark/pandas/data_type_ops/num_ops.py\n",
            "spark-3.2.1-bin-hadoop2.7/python/pyspark/pandas/data_type_ops/string_ops.py\n",
            "spark-3.2.1-bin-hadoop2.7/python/pyspark/pandas/data_type_ops/udt_ops.py\n",
            "spark-3.2.1-bin-hadoop2.7/python/pyspark/pandas/datetimes.py\n",
            "spark-3.2.1-bin-hadoop2.7/python/pyspark/pandas/exceptions.py\n",
            "spark-3.2.1-bin-hadoop2.7/python/pyspark/pandas/extensions.py\n",
            "spark-3.2.1-bin-hadoop2.7/python/pyspark/pandas/frame.py\n",
            "spark-3.2.1-bin-hadoop2.7/python/pyspark/pandas/generic.py\n",
            "spark-3.2.1-bin-hadoop2.7/python/pyspark/pandas/groupby.py\n",
            "spark-3.2.1-bin-hadoop2.7/python/pyspark/pandas/indexes/\n",
            "spark-3.2.1-bin-hadoop2.7/python/pyspark/pandas/indexes/__init__.py\n",
            "spark-3.2.1-bin-hadoop2.7/python/pyspark/pandas/indexes/base.py\n",
            "spark-3.2.1-bin-hadoop2.7/python/pyspark/pandas/indexes/category.py\n",
            "spark-3.2.1-bin-hadoop2.7/python/pyspark/pandas/indexes/datetimes.py\n",
            "spark-3.2.1-bin-hadoop2.7/python/pyspark/pandas/indexes/multi.py\n",
            "spark-3.2.1-bin-hadoop2.7/python/pyspark/pandas/indexes/numeric.py\n",
            "spark-3.2.1-bin-hadoop2.7/python/pyspark/pandas/indexing.py\n",
            "spark-3.2.1-bin-hadoop2.7/python/pyspark/pandas/internal.py\n",
            "spark-3.2.1-bin-hadoop2.7/python/pyspark/pandas/missing/\n",
            "spark-3.2.1-bin-hadoop2.7/python/pyspark/pandas/missing/__init__.py\n",
            "spark-3.2.1-bin-hadoop2.7/python/pyspark/pandas/missing/common.py\n",
            "spark-3.2.1-bin-hadoop2.7/python/pyspark/pandas/missing/frame.py\n",
            "spark-3.2.1-bin-hadoop2.7/python/pyspark/pandas/missing/groupby.py\n",
            "spark-3.2.1-bin-hadoop2.7/python/pyspark/pandas/missing/indexes.py\n",
            "spark-3.2.1-bin-hadoop2.7/python/pyspark/pandas/missing/series.py\n",
            "spark-3.2.1-bin-hadoop2.7/python/pyspark/pandas/missing/window.py\n",
            "spark-3.2.1-bin-hadoop2.7/python/pyspark/pandas/ml.py\n",
            "spark-3.2.1-bin-hadoop2.7/python/pyspark/pandas/mlflow.py\n",
            "spark-3.2.1-bin-hadoop2.7/python/pyspark/pandas/namespace.py\n",
            "spark-3.2.1-bin-hadoop2.7/python/pyspark/pandas/numpy_compat.py\n",
            "spark-3.2.1-bin-hadoop2.7/python/pyspark/pandas/plot/\n",
            "spark-3.2.1-bin-hadoop2.7/python/pyspark/pandas/plot/__init__.py\n",
            "spark-3.2.1-bin-hadoop2.7/python/pyspark/pandas/plot/core.py\n",
            "spark-3.2.1-bin-hadoop2.7/python/pyspark/pandas/plot/matplotlib.py\n",
            "spark-3.2.1-bin-hadoop2.7/python/pyspark/pandas/plot/plotly.py\n",
            "spark-3.2.1-bin-hadoop2.7/python/pyspark/pandas/series.py\n",
            "spark-3.2.1-bin-hadoop2.7/python/pyspark/pandas/spark/\n",
            "spark-3.2.1-bin-hadoop2.7/python/pyspark/pandas/spark/__init__.py\n",
            "spark-3.2.1-bin-hadoop2.7/python/pyspark/pandas/spark/accessors.py\n",
            "spark-3.2.1-bin-hadoop2.7/python/pyspark/pandas/spark/functions.py\n",
            "spark-3.2.1-bin-hadoop2.7/python/pyspark/pandas/spark/utils.py\n",
            "spark-3.2.1-bin-hadoop2.7/python/pyspark/pandas/sql_processor.py\n",
            "spark-3.2.1-bin-hadoop2.7/python/pyspark/pandas/strings.py\n",
            "spark-3.2.1-bin-hadoop2.7/python/pyspark/pandas/tests/\n",
            "spark-3.2.1-bin-hadoop2.7/python/pyspark/pandas/tests/__init__.py\n",
            "spark-3.2.1-bin-hadoop2.7/python/pyspark/pandas/tests/data_type_ops/\n",
            "spark-3.2.1-bin-hadoop2.7/python/pyspark/pandas/tests/data_type_ops/__init__.py\n",
            "spark-3.2.1-bin-hadoop2.7/python/pyspark/pandas/tests/data_type_ops/test_base.py\n",
            "spark-3.2.1-bin-hadoop2.7/python/pyspark/pandas/tests/data_type_ops/test_binary_ops.py\n",
            "spark-3.2.1-bin-hadoop2.7/python/pyspark/pandas/tests/data_type_ops/test_boolean_ops.py\n",
            "spark-3.2.1-bin-hadoop2.7/python/pyspark/pandas/tests/data_type_ops/test_categorical_ops.py\n",
            "spark-3.2.1-bin-hadoop2.7/python/pyspark/pandas/tests/data_type_ops/test_complex_ops.py\n",
            "spark-3.2.1-bin-hadoop2.7/python/pyspark/pandas/tests/data_type_ops/test_date_ops.py\n",
            "spark-3.2.1-bin-hadoop2.7/python/pyspark/pandas/tests/data_type_ops/test_datetime_ops.py\n",
            "spark-3.2.1-bin-hadoop2.7/python/pyspark/pandas/tests/data_type_ops/test_null_ops.py\n",
            "spark-3.2.1-bin-hadoop2.7/python/pyspark/pandas/tests/data_type_ops/test_num_ops.py\n",
            "spark-3.2.1-bin-hadoop2.7/python/pyspark/pandas/tests/data_type_ops/test_string_ops.py\n",
            "spark-3.2.1-bin-hadoop2.7/python/pyspark/pandas/tests/data_type_ops/test_udt_ops.py\n",
            "spark-3.2.1-bin-hadoop2.7/python/pyspark/pandas/tests/data_type_ops/testing_utils.py\n",
            "spark-3.2.1-bin-hadoop2.7/python/pyspark/pandas/tests/indexes/\n",
            "spark-3.2.1-bin-hadoop2.7/python/pyspark/pandas/tests/indexes/__init__.py\n",
            "spark-3.2.1-bin-hadoop2.7/python/pyspark/pandas/tests/indexes/test_base.py\n",
            "spark-3.2.1-bin-hadoop2.7/python/pyspark/pandas/tests/indexes/test_category.py\n",
            "spark-3.2.1-bin-hadoop2.7/python/pyspark/pandas/tests/indexes/test_datetime.py\n",
            "spark-3.2.1-bin-hadoop2.7/python/pyspark/pandas/tests/plot/\n",
            "spark-3.2.1-bin-hadoop2.7/python/pyspark/pandas/tests/plot/__init__.py\n",
            "spark-3.2.1-bin-hadoop2.7/python/pyspark/pandas/tests/plot/test_frame_plot.py\n",
            "spark-3.2.1-bin-hadoop2.7/python/pyspark/pandas/tests/plot/test_frame_plot_matplotlib.py\n",
            "spark-3.2.1-bin-hadoop2.7/python/pyspark/pandas/tests/plot/test_frame_plot_plotly.py\n",
            "spark-3.2.1-bin-hadoop2.7/python/pyspark/pandas/tests/plot/test_series_plot.py\n",
            "spark-3.2.1-bin-hadoop2.7/python/pyspark/pandas/tests/plot/test_series_plot_matplotlib.py\n",
            "spark-3.2.1-bin-hadoop2.7/python/pyspark/pandas/tests/plot/test_series_plot_plotly.py\n",
            "spark-3.2.1-bin-hadoop2.7/python/pyspark/pandas/tests/test_categorical.py\n",
            "spark-3.2.1-bin-hadoop2.7/python/pyspark/pandas/tests/test_config.py\n",
            "spark-3.2.1-bin-hadoop2.7/python/pyspark/pandas/tests/test_csv.py\n",
            "spark-3.2.1-bin-hadoop2.7/python/pyspark/pandas/tests/test_dataframe.py\n",
            "spark-3.2.1-bin-hadoop2.7/python/pyspark/pandas/tests/test_dataframe_conversion.py\n",
            "spark-3.2.1-bin-hadoop2.7/python/pyspark/pandas/tests/test_dataframe_spark_io.py\n",
            "spark-3.2.1-bin-hadoop2.7/python/pyspark/pandas/tests/test_default_index.py\n",
            "spark-3.2.1-bin-hadoop2.7/python/pyspark/pandas/tests/test_expanding.py\n",
            "spark-3.2.1-bin-hadoop2.7/python/pyspark/pandas/tests/test_extension.py\n",
            "spark-3.2.1-bin-hadoop2.7/python/pyspark/pandas/tests/test_frame_spark.py\n",
            "spark-3.2.1-bin-hadoop2.7/python/pyspark/pandas/tests/test_groupby.py\n",
            "spark-3.2.1-bin-hadoop2.7/python/pyspark/pandas/tests/test_indexing.py\n",
            "spark-3.2.1-bin-hadoop2.7/python/pyspark/pandas/tests/test_indexops_spark.py\n",
            "spark-3.2.1-bin-hadoop2.7/python/pyspark/pandas/tests/test_internal.py\n",
            "spark-3.2.1-bin-hadoop2.7/python/pyspark/pandas/tests/test_namespace.py\n",
            "spark-3.2.1-bin-hadoop2.7/python/pyspark/pandas/tests/test_numpy_compat.py\n",
            "spark-3.2.1-bin-hadoop2.7/python/pyspark/pandas/tests/test_ops_on_diff_frames.py\n",
            "spark-3.2.1-bin-hadoop2.7/python/pyspark/pandas/tests/test_ops_on_diff_frames_groupby.py\n",
            "spark-3.2.1-bin-hadoop2.7/python/pyspark/pandas/tests/test_ops_on_diff_frames_groupby_expanding.py\n",
            "spark-3.2.1-bin-hadoop2.7/python/pyspark/pandas/tests/test_ops_on_diff_frames_groupby_rolling.py\n",
            "spark-3.2.1-bin-hadoop2.7/python/pyspark/pandas/tests/test_repr.py\n",
            "spark-3.2.1-bin-hadoop2.7/python/pyspark/pandas/tests/test_reshape.py\n",
            "spark-3.2.1-bin-hadoop2.7/python/pyspark/pandas/tests/test_rolling.py\n",
            "spark-3.2.1-bin-hadoop2.7/python/pyspark/pandas/tests/test_series.py\n",
            "spark-3.2.1-bin-hadoop2.7/python/pyspark/pandas/tests/test_series_conversion.py\n",
            "spark-3.2.1-bin-hadoop2.7/python/pyspark/pandas/tests/test_series_datetime.py\n",
            "spark-3.2.1-bin-hadoop2.7/python/pyspark/pandas/tests/test_series_string.py\n",
            "spark-3.2.1-bin-hadoop2.7/python/pyspark/pandas/tests/test_spark_functions.py\n",
            "spark-3.2.1-bin-hadoop2.7/python/pyspark/pandas/tests/test_sql.py\n",
            "spark-3.2.1-bin-hadoop2.7/python/pyspark/pandas/tests/test_stats.py\n",
            "spark-3.2.1-bin-hadoop2.7/python/pyspark/pandas/tests/test_typedef.py\n",
            "spark-3.2.1-bin-hadoop2.7/python/pyspark/pandas/tests/test_utils.py\n",
            "spark-3.2.1-bin-hadoop2.7/python/pyspark/pandas/tests/test_window.py\n",
            "spark-3.2.1-bin-hadoop2.7/python/pyspark/pandas/typedef/\n",
            "spark-3.2.1-bin-hadoop2.7/python/pyspark/pandas/typedef/__init__.py\n",
            "spark-3.2.1-bin-hadoop2.7/python/pyspark/pandas/typedef/string_typehints.py\n",
            "spark-3.2.1-bin-hadoop2.7/python/pyspark/pandas/typedef/typehints.py\n",
            "spark-3.2.1-bin-hadoop2.7/python/pyspark/pandas/usage_logging/\n",
            "spark-3.2.1-bin-hadoop2.7/python/pyspark/pandas/usage_logging/__init__.py\n",
            "spark-3.2.1-bin-hadoop2.7/python/pyspark/pandas/usage_logging/usage_logger.py\n",
            "spark-3.2.1-bin-hadoop2.7/python/pyspark/pandas/utils.py\n",
            "spark-3.2.1-bin-hadoop2.7/python/pyspark/pandas/window.py\n",
            "spark-3.2.1-bin-hadoop2.7/python/pyspark/profiler.py\n",
            "spark-3.2.1-bin-hadoop2.7/python/pyspark/profiler.pyi\n",
            "spark-3.2.1-bin-hadoop2.7/python/pyspark/py.typed\n",
            "spark-3.2.1-bin-hadoop2.7/python/pyspark/rdd.py\n",
            "spark-3.2.1-bin-hadoop2.7/python/pyspark/rdd.pyi\n",
            "spark-3.2.1-bin-hadoop2.7/python/pyspark/rddsampler.py\n",
            "spark-3.2.1-bin-hadoop2.7/python/pyspark/resource/\n",
            "spark-3.2.1-bin-hadoop2.7/python/pyspark/resource/__init__.py\n",
            "spark-3.2.1-bin-hadoop2.7/python/pyspark/resource/information.py\n",
            "spark-3.2.1-bin-hadoop2.7/python/pyspark/resource/information.pyi\n",
            "spark-3.2.1-bin-hadoop2.7/python/pyspark/resource/profile.py\n",
            "spark-3.2.1-bin-hadoop2.7/python/pyspark/resource/profile.pyi\n",
            "spark-3.2.1-bin-hadoop2.7/python/pyspark/resource/requests.py\n",
            "spark-3.2.1-bin-hadoop2.7/python/pyspark/resource/requests.pyi\n",
            "spark-3.2.1-bin-hadoop2.7/python/pyspark/resource/tests/\n",
            "spark-3.2.1-bin-hadoop2.7/python/pyspark/resource/tests/__init__.py\n",
            "spark-3.2.1-bin-hadoop2.7/python/pyspark/resource/tests/test_resources.py\n",
            "spark-3.2.1-bin-hadoop2.7/python/pyspark/resultiterable.py\n",
            "spark-3.2.1-bin-hadoop2.7/python/pyspark/resultiterable.pyi\n",
            "spark-3.2.1-bin-hadoop2.7/python/pyspark/serializers.py\n",
            "spark-3.2.1-bin-hadoop2.7/python/pyspark/shell.py\n",
            "spark-3.2.1-bin-hadoop2.7/python/pyspark/shuffle.py\n",
            "spark-3.2.1-bin-hadoop2.7/python/pyspark/sql/\n",
            "spark-3.2.1-bin-hadoop2.7/python/pyspark/sql/__init__.py\n",
            "spark-3.2.1-bin-hadoop2.7/python/pyspark/sql/__init__.pyi\n",
            "spark-3.2.1-bin-hadoop2.7/python/pyspark/sql/_typing.pyi\n",
            "spark-3.2.1-bin-hadoop2.7/python/pyspark/sql/avro/\n",
            "spark-3.2.1-bin-hadoop2.7/python/pyspark/sql/avro/__init__.py\n",
            "spark-3.2.1-bin-hadoop2.7/python/pyspark/sql/avro/functions.py\n",
            "spark-3.2.1-bin-hadoop2.7/python/pyspark/sql/avro/functions.pyi\n",
            "spark-3.2.1-bin-hadoop2.7/python/pyspark/sql/catalog.py\n",
            "spark-3.2.1-bin-hadoop2.7/python/pyspark/sql/catalog.pyi\n",
            "spark-3.2.1-bin-hadoop2.7/python/pyspark/sql/column.py\n",
            "spark-3.2.1-bin-hadoop2.7/python/pyspark/sql/column.pyi\n",
            "spark-3.2.1-bin-hadoop2.7/python/pyspark/sql/conf.py\n",
            "spark-3.2.1-bin-hadoop2.7/python/pyspark/sql/conf.pyi\n",
            "spark-3.2.1-bin-hadoop2.7/python/pyspark/sql/context.py\n",
            "spark-3.2.1-bin-hadoop2.7/python/pyspark/sql/context.pyi\n",
            "spark-3.2.1-bin-hadoop2.7/python/pyspark/sql/dataframe.py\n",
            "spark-3.2.1-bin-hadoop2.7/python/pyspark/sql/dataframe.pyi\n",
            "spark-3.2.1-bin-hadoop2.7/python/pyspark/sql/functions.py\n",
            "spark-3.2.1-bin-hadoop2.7/python/pyspark/sql/functions.pyi\n",
            "spark-3.2.1-bin-hadoop2.7/python/pyspark/sql/group.py\n",
            "spark-3.2.1-bin-hadoop2.7/python/pyspark/sql/group.pyi\n",
            "spark-3.2.1-bin-hadoop2.7/python/pyspark/sql/pandas/\n",
            "spark-3.2.1-bin-hadoop2.7/python/pyspark/sql/pandas/__init__.py\n",
            "spark-3.2.1-bin-hadoop2.7/python/pyspark/sql/pandas/_typing/\n",
            "spark-3.2.1-bin-hadoop2.7/python/pyspark/sql/pandas/_typing/__init__.pyi\n",
            "spark-3.2.1-bin-hadoop2.7/python/pyspark/sql/pandas/_typing/protocols/\n",
            "spark-3.2.1-bin-hadoop2.7/python/pyspark/sql/pandas/_typing/protocols/__init__.pyi\n",
            "spark-3.2.1-bin-hadoop2.7/python/pyspark/sql/pandas/_typing/protocols/frame.pyi\n",
            "spark-3.2.1-bin-hadoop2.7/python/pyspark/sql/pandas/_typing/protocols/series.pyi\n",
            "spark-3.2.1-bin-hadoop2.7/python/pyspark/sql/pandas/conversion.py\n",
            "spark-3.2.1-bin-hadoop2.7/python/pyspark/sql/pandas/conversion.pyi\n",
            "spark-3.2.1-bin-hadoop2.7/python/pyspark/sql/pandas/functions.py\n",
            "spark-3.2.1-bin-hadoop2.7/python/pyspark/sql/pandas/functions.pyi\n",
            "spark-3.2.1-bin-hadoop2.7/python/pyspark/sql/pandas/group_ops.py\n",
            "spark-3.2.1-bin-hadoop2.7/python/pyspark/sql/pandas/group_ops.pyi\n",
            "spark-3.2.1-bin-hadoop2.7/python/pyspark/sql/pandas/map_ops.py\n",
            "spark-3.2.1-bin-hadoop2.7/python/pyspark/sql/pandas/map_ops.pyi\n",
            "spark-3.2.1-bin-hadoop2.7/python/pyspark/sql/pandas/serializers.py\n",
            "spark-3.2.1-bin-hadoop2.7/python/pyspark/sql/pandas/typehints.py\n",
            "spark-3.2.1-bin-hadoop2.7/python/pyspark/sql/pandas/types.py\n",
            "spark-3.2.1-bin-hadoop2.7/python/pyspark/sql/pandas/utils.py\n",
            "spark-3.2.1-bin-hadoop2.7/python/pyspark/sql/readwriter.py\n",
            "spark-3.2.1-bin-hadoop2.7/python/pyspark/sql/readwriter.pyi\n",
            "spark-3.2.1-bin-hadoop2.7/python/pyspark/sql/session.py\n",
            "spark-3.2.1-bin-hadoop2.7/python/pyspark/sql/session.pyi\n",
            "spark-3.2.1-bin-hadoop2.7/python/pyspark/sql/streaming.py\n",
            "spark-3.2.1-bin-hadoop2.7/python/pyspark/sql/streaming.pyi\n",
            "spark-3.2.1-bin-hadoop2.7/python/pyspark/sql/tests/\n",
            "spark-3.2.1-bin-hadoop2.7/python/pyspark/sql/tests/__init__.py\n",
            "spark-3.2.1-bin-hadoop2.7/python/pyspark/sql/tests/test_arrow.py\n",
            "spark-3.2.1-bin-hadoop2.7/python/pyspark/sql/tests/test_catalog.py\n",
            "spark-3.2.1-bin-hadoop2.7/python/pyspark/sql/tests/test_column.py\n",
            "spark-3.2.1-bin-hadoop2.7/python/pyspark/sql/tests/test_conf.py\n",
            "spark-3.2.1-bin-hadoop2.7/python/pyspark/sql/tests/test_context.py\n",
            "spark-3.2.1-bin-hadoop2.7/python/pyspark/sql/tests/test_dataframe.py\n",
            "spark-3.2.1-bin-hadoop2.7/python/pyspark/sql/tests/test_datasources.py\n",
            "spark-3.2.1-bin-hadoop2.7/python/pyspark/sql/tests/test_functions.py\n",
            "spark-3.2.1-bin-hadoop2.7/python/pyspark/sql/tests/test_group.py\n",
            "spark-3.2.1-bin-hadoop2.7/python/pyspark/sql/tests/test_pandas_cogrouped_map.py\n",
            "spark-3.2.1-bin-hadoop2.7/python/pyspark/sql/tests/test_pandas_grouped_map.py\n",
            "spark-3.2.1-bin-hadoop2.7/python/pyspark/sql/tests/test_pandas_map.py\n",
            "spark-3.2.1-bin-hadoop2.7/python/pyspark/sql/tests/test_pandas_udf.py\n",
            "spark-3.2.1-bin-hadoop2.7/python/pyspark/sql/tests/test_pandas_udf_grouped_agg.py\n",
            "spark-3.2.1-bin-hadoop2.7/python/pyspark/sql/tests/test_pandas_udf_scalar.py\n",
            "spark-3.2.1-bin-hadoop2.7/python/pyspark/sql/tests/test_pandas_udf_typehints.py\n",
            "spark-3.2.1-bin-hadoop2.7/python/pyspark/sql/tests/test_pandas_udf_window.py\n",
            "spark-3.2.1-bin-hadoop2.7/python/pyspark/sql/tests/test_readwriter.py\n",
            "spark-3.2.1-bin-hadoop2.7/python/pyspark/sql/tests/test_serde.py\n",
            "spark-3.2.1-bin-hadoop2.7/python/pyspark/sql/tests/test_session.py\n",
            "spark-3.2.1-bin-hadoop2.7/python/pyspark/sql/tests/test_streaming.py\n",
            "spark-3.2.1-bin-hadoop2.7/python/pyspark/sql/tests/test_types.py\n",
            "spark-3.2.1-bin-hadoop2.7/python/pyspark/sql/tests/test_udf.py\n",
            "spark-3.2.1-bin-hadoop2.7/python/pyspark/sql/tests/test_utils.py\n",
            "spark-3.2.1-bin-hadoop2.7/python/pyspark/sql/types.py\n",
            "spark-3.2.1-bin-hadoop2.7/python/pyspark/sql/types.pyi\n",
            "spark-3.2.1-bin-hadoop2.7/python/pyspark/sql/udf.py\n",
            "spark-3.2.1-bin-hadoop2.7/python/pyspark/sql/udf.pyi\n",
            "spark-3.2.1-bin-hadoop2.7/python/pyspark/sql/utils.py\n",
            "spark-3.2.1-bin-hadoop2.7/python/pyspark/sql/window.py\n",
            "spark-3.2.1-bin-hadoop2.7/python/pyspark/sql/window.pyi\n",
            "spark-3.2.1-bin-hadoop2.7/python/pyspark/statcounter.py\n",
            "spark-3.2.1-bin-hadoop2.7/python/pyspark/statcounter.pyi\n",
            "spark-3.2.1-bin-hadoop2.7/python/pyspark/status.py\n",
            "spark-3.2.1-bin-hadoop2.7/python/pyspark/status.pyi\n",
            "spark-3.2.1-bin-hadoop2.7/python/pyspark/storagelevel.py\n",
            "spark-3.2.1-bin-hadoop2.7/python/pyspark/storagelevel.pyi\n",
            "spark-3.2.1-bin-hadoop2.7/python/pyspark/streaming/\n",
            "spark-3.2.1-bin-hadoop2.7/python/pyspark/streaming/__init__.py\n",
            "spark-3.2.1-bin-hadoop2.7/python/pyspark/streaming/context.py\n",
            "spark-3.2.1-bin-hadoop2.7/python/pyspark/streaming/context.pyi\n",
            "spark-3.2.1-bin-hadoop2.7/python/pyspark/streaming/dstream.py\n",
            "spark-3.2.1-bin-hadoop2.7/python/pyspark/streaming/dstream.pyi\n",
            "spark-3.2.1-bin-hadoop2.7/python/pyspark/streaming/kinesis.py\n",
            "spark-3.2.1-bin-hadoop2.7/python/pyspark/streaming/kinesis.pyi\n",
            "spark-3.2.1-bin-hadoop2.7/python/pyspark/streaming/listener.py\n",
            "spark-3.2.1-bin-hadoop2.7/python/pyspark/streaming/listener.pyi\n",
            "spark-3.2.1-bin-hadoop2.7/python/pyspark/streaming/tests/\n",
            "spark-3.2.1-bin-hadoop2.7/python/pyspark/streaming/tests/__init__.py\n",
            "spark-3.2.1-bin-hadoop2.7/python/pyspark/streaming/tests/test_context.py\n",
            "spark-3.2.1-bin-hadoop2.7/python/pyspark/streaming/tests/test_dstream.py\n",
            "spark-3.2.1-bin-hadoop2.7/python/pyspark/streaming/tests/test_kinesis.py\n",
            "spark-3.2.1-bin-hadoop2.7/python/pyspark/streaming/tests/test_listener.py\n",
            "spark-3.2.1-bin-hadoop2.7/python/pyspark/streaming/util.py\n",
            "spark-3.2.1-bin-hadoop2.7/python/pyspark/taskcontext.py\n",
            "spark-3.2.1-bin-hadoop2.7/python/pyspark/taskcontext.pyi\n",
            "spark-3.2.1-bin-hadoop2.7/python/pyspark/testing/\n",
            "spark-3.2.1-bin-hadoop2.7/python/pyspark/testing/__init__.py\n",
            "spark-3.2.1-bin-hadoop2.7/python/pyspark/testing/mllibutils.py\n",
            "spark-3.2.1-bin-hadoop2.7/python/pyspark/testing/mlutils.py\n",
            "spark-3.2.1-bin-hadoop2.7/python/pyspark/testing/pandasutils.py\n",
            "spark-3.2.1-bin-hadoop2.7/python/pyspark/testing/sqlutils.py\n",
            "spark-3.2.1-bin-hadoop2.7/python/pyspark/testing/streamingutils.py\n",
            "spark-3.2.1-bin-hadoop2.7/python/pyspark/testing/utils.py\n",
            "spark-3.2.1-bin-hadoop2.7/python/pyspark/tests/\n",
            "spark-3.2.1-bin-hadoop2.7/python/pyspark/tests/__init__.py\n",
            "spark-3.2.1-bin-hadoop2.7/python/pyspark/tests/test_appsubmit.py\n",
            "spark-3.2.1-bin-hadoop2.7/python/pyspark/tests/test_broadcast.py\n",
            "spark-3.2.1-bin-hadoop2.7/python/pyspark/tests/test_conf.py\n",
            "spark-3.2.1-bin-hadoop2.7/python/pyspark/tests/test_context.py\n",
            "spark-3.2.1-bin-hadoop2.7/python/pyspark/tests/test_daemon.py\n",
            "spark-3.2.1-bin-hadoop2.7/python/pyspark/tests/test_install_spark.py\n",
            "spark-3.2.1-bin-hadoop2.7/python/pyspark/tests/test_join.py\n",
            "spark-3.2.1-bin-hadoop2.7/python/pyspark/tests/test_pin_thread.py\n",
            "spark-3.2.1-bin-hadoop2.7/python/pyspark/tests/test_profiler.py\n",
            "spark-3.2.1-bin-hadoop2.7/python/pyspark/tests/test_rdd.py\n",
            "spark-3.2.1-bin-hadoop2.7/python/pyspark/tests/test_rddbarrier.py\n",
            "spark-3.2.1-bin-hadoop2.7/python/pyspark/tests/test_readwrite.py\n",
            "spark-3.2.1-bin-hadoop2.7/python/pyspark/tests/test_serializers.py\n",
            "spark-3.2.1-bin-hadoop2.7/python/pyspark/tests/test_shuffle.py\n",
            "spark-3.2.1-bin-hadoop2.7/python/pyspark/tests/test_taskcontext.py\n",
            "spark-3.2.1-bin-hadoop2.7/python/pyspark/tests/test_util.py\n",
            "spark-3.2.1-bin-hadoop2.7/python/pyspark/tests/test_worker.py\n",
            "spark-3.2.1-bin-hadoop2.7/python/pyspark/traceback_utils.py\n",
            "spark-3.2.1-bin-hadoop2.7/python/pyspark/util.py\n",
            "spark-3.2.1-bin-hadoop2.7/python/pyspark/util.pyi\n",
            "spark-3.2.1-bin-hadoop2.7/python/pyspark/version.py\n",
            "spark-3.2.1-bin-hadoop2.7/python/pyspark/version.pyi\n",
            "spark-3.2.1-bin-hadoop2.7/python/pyspark/worker.py\n",
            "spark-3.2.1-bin-hadoop2.7/python/run-tests\n",
            "spark-3.2.1-bin-hadoop2.7/python/run-tests-with-coverage\n",
            "spark-3.2.1-bin-hadoop2.7/python/run-tests.py\n",
            "spark-3.2.1-bin-hadoop2.7/python/setup.cfg\n",
            "spark-3.2.1-bin-hadoop2.7/python/setup.py\n",
            "spark-3.2.1-bin-hadoop2.7/python/test_coverage/\n",
            "spark-3.2.1-bin-hadoop2.7/python/test_coverage/conf/\n",
            "spark-3.2.1-bin-hadoop2.7/python/test_coverage/conf/spark-defaults.conf\n",
            "spark-3.2.1-bin-hadoop2.7/python/test_coverage/coverage_daemon.py\n",
            "spark-3.2.1-bin-hadoop2.7/python/test_coverage/sitecustomize.py\n",
            "spark-3.2.1-bin-hadoop2.7/python/test_support/\n",
            "spark-3.2.1-bin-hadoop2.7/python/test_support/SimpleHTTPServer.py\n",
            "spark-3.2.1-bin-hadoop2.7/python/test_support/hello/\n",
            "spark-3.2.1-bin-hadoop2.7/python/test_support/hello/hello.txt\n",
            "spark-3.2.1-bin-hadoop2.7/python/test_support/hello/sub_hello/\n",
            "spark-3.2.1-bin-hadoop2.7/python/test_support/hello/sub_hello/sub_hello.txt\n",
            "spark-3.2.1-bin-hadoop2.7/python/test_support/sql/\n",
            "spark-3.2.1-bin-hadoop2.7/python/test_support/sql/ages.csv\n",
            "spark-3.2.1-bin-hadoop2.7/python/test_support/sql/ages_newlines.csv\n",
            "spark-3.2.1-bin-hadoop2.7/python/test_support/sql/orc_partitioned/\n",
            "spark-3.2.1-bin-hadoop2.7/python/test_support/sql/orc_partitioned/_SUCCESS\n",
            "spark-3.2.1-bin-hadoop2.7/python/test_support/sql/orc_partitioned/b=0/\n",
            "spark-3.2.1-bin-hadoop2.7/python/test_support/sql/orc_partitioned/b=0/c=0/\n",
            "spark-3.2.1-bin-hadoop2.7/python/test_support/sql/orc_partitioned/b=0/c=0/.part-r-00000-829af031-b970-49d6-ad39-30460a0be2c8.orc.crc\n",
            "spark-3.2.1-bin-hadoop2.7/python/test_support/sql/orc_partitioned/b=0/c=0/part-r-00000-829af031-b970-49d6-ad39-30460a0be2c8.orc\n",
            "spark-3.2.1-bin-hadoop2.7/python/test_support/sql/orc_partitioned/b=1/\n",
            "spark-3.2.1-bin-hadoop2.7/python/test_support/sql/orc_partitioned/b=1/c=1/\n",
            "spark-3.2.1-bin-hadoop2.7/python/test_support/sql/orc_partitioned/b=1/c=1/.part-r-00000-829af031-b970-49d6-ad39-30460a0be2c8.orc.crc\n",
            "spark-3.2.1-bin-hadoop2.7/python/test_support/sql/orc_partitioned/b=1/c=1/part-r-00000-829af031-b970-49d6-ad39-30460a0be2c8.orc\n",
            "spark-3.2.1-bin-hadoop2.7/python/test_support/sql/parquet_partitioned/\n",
            "spark-3.2.1-bin-hadoop2.7/python/test_support/sql/parquet_partitioned/_SUCCESS\n",
            "spark-3.2.1-bin-hadoop2.7/python/test_support/sql/parquet_partitioned/_common_metadata\n",
            "spark-3.2.1-bin-hadoop2.7/python/test_support/sql/parquet_partitioned/_metadata\n",
            "spark-3.2.1-bin-hadoop2.7/python/test_support/sql/parquet_partitioned/year=2014/\n",
            "spark-3.2.1-bin-hadoop2.7/python/test_support/sql/parquet_partitioned/year=2014/month=9/\n",
            "spark-3.2.1-bin-hadoop2.7/python/test_support/sql/parquet_partitioned/year=2014/month=9/day=1/\n",
            "spark-3.2.1-bin-hadoop2.7/python/test_support/sql/parquet_partitioned/year=2014/month=9/day=1/.part-r-00008.gz.parquet.crc\n",
            "spark-3.2.1-bin-hadoop2.7/python/test_support/sql/parquet_partitioned/year=2014/month=9/day=1/part-r-00008.gz.parquet\n",
            "spark-3.2.1-bin-hadoop2.7/python/test_support/sql/parquet_partitioned/year=2015/\n",
            "spark-3.2.1-bin-hadoop2.7/python/test_support/sql/parquet_partitioned/year=2015/month=10/\n",
            "spark-3.2.1-bin-hadoop2.7/python/test_support/sql/parquet_partitioned/year=2015/month=10/day=25/\n",
            "spark-3.2.1-bin-hadoop2.7/python/test_support/sql/parquet_partitioned/year=2015/month=10/day=25/.part-r-00002.gz.parquet.crc\n",
            "spark-3.2.1-bin-hadoop2.7/python/test_support/sql/parquet_partitioned/year=2015/month=10/day=25/.part-r-00004.gz.parquet.crc\n",
            "spark-3.2.1-bin-hadoop2.7/python/test_support/sql/parquet_partitioned/year=2015/month=10/day=25/part-r-00002.gz.parquet\n",
            "spark-3.2.1-bin-hadoop2.7/python/test_support/sql/parquet_partitioned/year=2015/month=10/day=25/part-r-00004.gz.parquet\n",
            "spark-3.2.1-bin-hadoop2.7/python/test_support/sql/parquet_partitioned/year=2015/month=10/day=26/\n",
            "spark-3.2.1-bin-hadoop2.7/python/test_support/sql/parquet_partitioned/year=2015/month=10/day=26/.part-r-00005.gz.parquet.crc\n",
            "spark-3.2.1-bin-hadoop2.7/python/test_support/sql/parquet_partitioned/year=2015/month=10/day=26/part-r-00005.gz.parquet\n",
            "spark-3.2.1-bin-hadoop2.7/python/test_support/sql/parquet_partitioned/year=2015/month=9/\n",
            "spark-3.2.1-bin-hadoop2.7/python/test_support/sql/parquet_partitioned/year=2015/month=9/day=1/\n",
            "spark-3.2.1-bin-hadoop2.7/python/test_support/sql/parquet_partitioned/year=2015/month=9/day=1/.part-r-00007.gz.parquet.crc\n",
            "spark-3.2.1-bin-hadoop2.7/python/test_support/sql/parquet_partitioned/year=2015/month=9/day=1/part-r-00007.gz.parquet\n",
            "spark-3.2.1-bin-hadoop2.7/python/test_support/sql/people.json\n",
            "spark-3.2.1-bin-hadoop2.7/python/test_support/sql/people1.json\n",
            "spark-3.2.1-bin-hadoop2.7/python/test_support/sql/people_array.json\n",
            "spark-3.2.1-bin-hadoop2.7/python/test_support/sql/people_array_utf16le.json\n",
            "spark-3.2.1-bin-hadoop2.7/python/test_support/sql/streaming/\n",
            "spark-3.2.1-bin-hadoop2.7/python/test_support/sql/streaming/text-test.txt\n",
            "spark-3.2.1-bin-hadoop2.7/python/test_support/sql/text-test.txt\n",
            "spark-3.2.1-bin-hadoop2.7/python/test_support/userlib-0.1.zip\n",
            "spark-3.2.1-bin-hadoop2.7/python/test_support/userlibrary.py\n",
            "spark-3.2.1-bin-hadoop2.7/sbin/\n",
            "spark-3.2.1-bin-hadoop2.7/sbin/decommission-slave.sh\n",
            "spark-3.2.1-bin-hadoop2.7/sbin/decommission-worker.sh\n",
            "spark-3.2.1-bin-hadoop2.7/sbin/slaves.sh\n",
            "spark-3.2.1-bin-hadoop2.7/sbin/spark-config.sh\n",
            "spark-3.2.1-bin-hadoop2.7/sbin/spark-daemon.sh\n",
            "spark-3.2.1-bin-hadoop2.7/sbin/spark-daemons.sh\n",
            "spark-3.2.1-bin-hadoop2.7/sbin/start-all.sh\n",
            "spark-3.2.1-bin-hadoop2.7/sbin/start-history-server.sh\n",
            "spark-3.2.1-bin-hadoop2.7/sbin/start-master.sh\n",
            "spark-3.2.1-bin-hadoop2.7/sbin/start-mesos-dispatcher.sh\n",
            "spark-3.2.1-bin-hadoop2.7/sbin/start-mesos-shuffle-service.sh\n",
            "spark-3.2.1-bin-hadoop2.7/sbin/start-slave.sh\n",
            "spark-3.2.1-bin-hadoop2.7/sbin/start-slaves.sh\n",
            "spark-3.2.1-bin-hadoop2.7/sbin/start-thriftserver.sh\n",
            "spark-3.2.1-bin-hadoop2.7/sbin/start-worker.sh\n",
            "spark-3.2.1-bin-hadoop2.7/sbin/start-workers.sh\n",
            "spark-3.2.1-bin-hadoop2.7/sbin/stop-all.sh\n",
            "spark-3.2.1-bin-hadoop2.7/sbin/stop-history-server.sh\n",
            "spark-3.2.1-bin-hadoop2.7/sbin/stop-master.sh\n",
            "spark-3.2.1-bin-hadoop2.7/sbin/stop-mesos-dispatcher.sh\n",
            "spark-3.2.1-bin-hadoop2.7/sbin/stop-mesos-shuffle-service.sh\n",
            "spark-3.2.1-bin-hadoop2.7/sbin/stop-slave.sh\n",
            "spark-3.2.1-bin-hadoop2.7/sbin/stop-slaves.sh\n",
            "spark-3.2.1-bin-hadoop2.7/sbin/stop-thriftserver.sh\n",
            "spark-3.2.1-bin-hadoop2.7/sbin/stop-worker.sh\n",
            "spark-3.2.1-bin-hadoop2.7/sbin/stop-workers.sh\n",
            "spark-3.2.1-bin-hadoop2.7/sbin/workers.sh\n",
            "spark-3.2.1-bin-hadoop2.7/yarn/\n",
            "spark-3.2.1-bin-hadoop2.7/yarn/spark-3.2.1-yarn-shuffle.jar\n"
          ]
        }
      ]
    },
    {
      "cell_type": "code",
      "metadata": {
        "id": "JiQOFODip19a"
      },
      "source": [
        "!pip install -q findspark"
      ],
      "execution_count": 5,
      "outputs": []
    },
    {
      "cell_type": "code",
      "metadata": {
        "id": "kJCFdpyJp4Oe"
      },
      "source": [
        "import os\n",
        "os.environ[\"JAVA_HOME\"] = \"/usr/lib/jvm/java-8-openjdk-amd64\"\n",
        "os.environ[\"SPARK_HOME\"] = \"/content/spark-3.2.1-bin-hadoop2.7\""
      ],
      "execution_count": 6,
      "outputs": []
    },
    {
      "cell_type": "code",
      "metadata": {
        "id": "2oHv_lv-p6Lb"
      },
      "source": [
        "import findspark\n",
        "findspark.init()\n",
        "from pyspark.sql import SparkSession\n",
        "\n",
        "spark = SparkSession.builder.master(\"local[*]\").getOrCreate()"
      ],
      "execution_count": 7,
      "outputs": []
    },
    {
      "cell_type": "code",
      "source": [
        "sc = spark.sparkContext\n",
        "sc"
      ],
      "metadata": {
        "id": "Wff0hiS615nx",
        "outputId": "d0a1d19d-6f19-4124-a676-91ae1027bb87",
        "colab": {
          "base_uri": "https://localhost:8080/",
          "height": 196
        }
      },
      "execution_count": 8,
      "outputs": [
        {
          "output_type": "execute_result",
          "data": {
            "text/plain": [
              "<SparkContext master=local[*] appName=pyspark-shell>"
            ],
            "text/html": [
              "\n",
              "        <div>\n",
              "            <p><b>SparkContext</b></p>\n",
              "\n",
              "            <p><a href=\"http://2e4c194102e1:4040\">Spark UI</a></p>\n",
              "\n",
              "            <dl>\n",
              "              <dt>Version</dt>\n",
              "                <dd><code>v3.2.1</code></dd>\n",
              "              <dt>Master</dt>\n",
              "                <dd><code>local[*]</code></dd>\n",
              "              <dt>AppName</dt>\n",
              "                <dd><code>pyspark-shell</code></dd>\n",
              "            </dl>\n",
              "        </div>\n",
              "        "
            ]
          },
          "metadata": {},
          "execution_count": 8
        }
      ]
    },
    {
      "cell_type": "markdown",
      "metadata": {
        "id": "ogj228qhHAwN"
      },
      "source": [
        "## Работа с RDD"
      ]
    },
    {
      "cell_type": "code",
      "metadata": {
        "id": "EiMw-VSAGo3M"
      },
      "source": [
        "words = sc.parallelize (\n",
        "   [\"scala\", \n",
        "   \"java\", \n",
        "   \"hadoop\", \n",
        "   \"spark\", \n",
        "   \"akka\",\n",
        "   \"spark\",\n",
        "   \"hadoop\", \n",
        "   \"pyspark\",\n",
        "   \"bigdata\",\n",
        "    \"python\"]\n",
        ")"
      ],
      "execution_count": 9,
      "outputs": []
    },
    {
      "cell_type": "code",
      "metadata": {
        "id": "BZtzVt-hHOO3",
        "colab": {
          "base_uri": "https://localhost:8080/"
        },
        "outputId": "6c46445b-c5e8-40a1-a241-366cbb0bff78"
      },
      "source": [
        "words.count()"
      ],
      "execution_count": 10,
      "outputs": [
        {
          "output_type": "execute_result",
          "data": {
            "text/plain": [
              "10"
            ]
          },
          "metadata": {},
          "execution_count": 10
        }
      ]
    },
    {
      "cell_type": "code",
      "metadata": {
        "id": "bv0Au26PaMZn"
      },
      "source": [
        "def mapper(w):\n",
        "  return (w, 1)"
      ],
      "execution_count": 11,
      "outputs": []
    },
    {
      "cell_type": "code",
      "metadata": {
        "id": "Nz1PXABQIW3t",
        "colab": {
          "base_uri": "https://localhost:8080/"
        },
        "outputId": "1ab22ad5-b845-4c16-d7c7-3f2331088170"
      },
      "source": [
        "words.map(mapper)"
      ],
      "execution_count": 12,
      "outputs": [
        {
          "output_type": "execute_result",
          "data": {
            "text/plain": [
              "PythonRDD[2] at RDD at PythonRDD.scala:53"
            ]
          },
          "metadata": {},
          "execution_count": 12
        }
      ]
    },
    {
      "cell_type": "code",
      "metadata": {
        "id": "osteBXqbZlla"
      },
      "source": [
        "transform = words.map(mapper)"
      ],
      "execution_count": 13,
      "outputs": []
    },
    {
      "cell_type": "code",
      "source": [
        "transform.collect()"
      ],
      "metadata": {
        "id": "voK-uxlT4NuL",
        "outputId": "75b8206c-cdd6-49fe-fe94-d0ef758ba07f",
        "colab": {
          "base_uri": "https://localhost:8080/"
        }
      },
      "execution_count": 14,
      "outputs": [
        {
          "output_type": "execute_result",
          "data": {
            "text/plain": [
              "[('scala', 1),\n",
              " ('java', 1),\n",
              " ('hadoop', 1),\n",
              " ('spark', 1),\n",
              " ('akka', 1),\n",
              " ('spark', 1),\n",
              " ('hadoop', 1),\n",
              " ('pyspark', 1),\n",
              " ('bigdata', 1),\n",
              " ('python', 1)]"
            ]
          },
          "metadata": {},
          "execution_count": 14
        }
      ]
    },
    {
      "cell_type": "code",
      "source": [
        "def reducer(a,b):\n",
        "  return a + b"
      ],
      "metadata": {
        "id": "4mtW46hU4V4i"
      },
      "execution_count": 15,
      "outputs": []
    },
    {
      "cell_type": "code",
      "source": [
        "transform.reduceByKey(reducer).collect()# in one row for comparison"
      ],
      "metadata": {
        "id": "692MTC3D5omu",
        "outputId": "8d92250d-0921-4b63-84f1-7bc483c9a92a",
        "colab": {
          "base_uri": "https://localhost:8080/"
        }
      },
      "execution_count": 16,
      "outputs": [
        {
          "output_type": "execute_result",
          "data": {
            "text/plain": [
              "[('scala', 1),\n",
              " ('java', 1),\n",
              " ('hadoop', 2),\n",
              " ('akka', 1),\n",
              " ('bigdata', 1),\n",
              " ('python', 1),\n",
              " ('spark', 2),\n",
              " ('pyspark', 1)]"
            ]
          },
          "metadata": {},
          "execution_count": 16
        }
      ]
    },
    {
      "cell_type": "code",
      "source": [
        "transform = transform.reduceByKey(reducer)"
      ],
      "metadata": {
        "id": "amCTIEM_4wAq"
      },
      "execution_count": 17,
      "outputs": []
    },
    {
      "cell_type": "code",
      "source": [
        "transform.collect()"
      ],
      "metadata": {
        "id": "JQbvcsi-5Bga",
        "outputId": "605b4717-f79c-479d-f7b7-ebcc1bf5549a",
        "colab": {
          "base_uri": "https://localhost:8080/"
        }
      },
      "execution_count": 18,
      "outputs": [
        {
          "output_type": "execute_result",
          "data": {
            "text/plain": [
              "[('scala', 1),\n",
              " ('java', 1),\n",
              " ('hadoop', 2),\n",
              " ('akka', 1),\n",
              " ('bigdata', 1),\n",
              " ('python', 1),\n",
              " ('spark', 2),\n",
              " ('pyspark', 1)]"
            ]
          },
          "metadata": {},
          "execution_count": 18
        }
      ]
    },
    {
      "cell_type": "markdown",
      "metadata": {
        "id": "_bb5fvdXeXtI"
      },
      "source": [
        "## DataFrame"
      ]
    },
    {
      "cell_type": "code",
      "source": [
        "df = spark.read.csv('power.csv', inferSchema=True, header=True)\n"
      ],
      "metadata": {
        "id": "QrSQ6LTn6E3a"
      },
      "execution_count": 20,
      "outputs": []
    },
    {
      "cell_type": "markdown",
      "source": [
        "Обзор"
      ],
      "metadata": {
        "id": "z5Ut0UKX9CMz"
      }
    },
    {
      "cell_type": "code",
      "source": [
        "df.count()"
      ],
      "metadata": {
        "id": "bJbk3SVs7ZBj",
        "outputId": "b4ce2f01-aa5d-4942-9c82-f7389ab755b7",
        "colab": {
          "base_uri": "https://localhost:8080/"
        }
      },
      "execution_count": 21,
      "outputs": [
        {
          "output_type": "execute_result",
          "data": {
            "text/plain": [
              "91674"
            ]
          },
          "metadata": {},
          "execution_count": 21
        }
      ]
    },
    {
      "cell_type": "code",
      "source": [
        "df.dtypes"
      ],
      "metadata": {
        "id": "CBu1fVpM7fLT",
        "outputId": "1f517f4e-493a-41e7-907a-b20fdf25fb68",
        "colab": {
          "base_uri": "https://localhost:8080/"
        }
      },
      "execution_count": 22,
      "outputs": [
        {
          "output_type": "execute_result",
          "data": {
            "text/plain": [
              "[('country', 'string'),\n",
              " ('year', 'int'),\n",
              " ('quantity', 'double'),\n",
              " ('category', 'int')]"
            ]
          },
          "metadata": {},
          "execution_count": 22
        }
      ]
    },
    {
      "cell_type": "code",
      "source": [
        "df.head(3)# for comparison"
      ],
      "metadata": {
        "id": "VwWDTNrQ6lIL",
        "outputId": "168b0b6e-5a2a-4ca6-c30b-a62f5071826a",
        "colab": {
          "base_uri": "https://localhost:8080/"
        }
      },
      "execution_count": 23,
      "outputs": [
        {
          "output_type": "execute_result",
          "data": {
            "text/plain": [
              "[Row(country='Austria', year=1996, quantity=5.0, category=1),\n",
              " Row(country='Austria', year=1995, quantity=17.0, category=1),\n",
              " Row(country='Belgium', year=2014, quantity=0.0, category=1)]"
            ]
          },
          "metadata": {},
          "execution_count": 23
        }
      ]
    },
    {
      "cell_type": "code",
      "source": [
        "df.take(3)"
      ],
      "metadata": {
        "id": "Leer48u07n2q",
        "outputId": "0e973c54-ed9f-444c-ad80-f34d95bd2ce9",
        "colab": {
          "base_uri": "https://localhost:8080/"
        }
      },
      "execution_count": 24,
      "outputs": [
        {
          "output_type": "execute_result",
          "data": {
            "text/plain": [
              "[Row(country='Austria', year=1996, quantity=5.0, category=1),\n",
              " Row(country='Austria', year=1995, quantity=17.0, category=1),\n",
              " Row(country='Belgium', year=2014, quantity=0.0, category=1)]"
            ]
          },
          "metadata": {},
          "execution_count": 24
        }
      ]
    },
    {
      "cell_type": "markdown",
      "metadata": {
        "id": "FPz3nRfhBxhg"
      },
      "source": [
        "## Практика 1. Загрузите данные из файла transactions.csv. Выведите 10 первых строчек"
      ]
    },
    {
      "cell_type": "code",
      "source": [
        "df_pr = spark.read.csv(\"/content/transactions.csv\", inferSchema=True, header=True)"
      ],
      "metadata": {
        "id": "r-kUD0Bf766S"
      },
      "execution_count": 74,
      "outputs": []
    },
    {
      "cell_type": "code",
      "source": [
        "df_pr.take(3)"
      ],
      "metadata": {
        "id": "58a478998m5D",
        "outputId": "e841c23f-f087-4948-a07f-35e0e58a8229",
        "colab": {
          "base_uri": "https://localhost:8080/"
        }
      },
      "execution_count": 75,
      "outputs": [
        {
          "output_type": "execute_result",
          "data": {
            "text/plain": [
              "[Row(Year=2017, Month=1, ID='t001', Product='A1', Amount=7, Price=2904, Total=20328, Cost=1200),\n",
              " Row(Year=2017, Month=1, ID='t002', Product='A2', Amount=2, Price=1896, Total=3792, Cost=1100),\n",
              " Row(Year=2017, Month=2, ID='t003', Product='A1', Amount=5, Price=2904, Total=14520, Cost=1200)]"
            ]
          },
          "metadata": {},
          "execution_count": 75
        }
      ]
    },
    {
      "cell_type": "markdown",
      "source": [
        "Выборки"
      ],
      "metadata": {
        "id": "St3Idl-E89AL"
      }
    },
    {
      "cell_type": "code",
      "source": [
        "df_lim = df.select('country', 'year', 'quantity')\n",
        "df_lim.take(2)"
      ],
      "metadata": {
        "id": "yo0Iibe_9At8",
        "outputId": "ad4c0166-ffa6-491e-917e-af2494f63a44",
        "colab": {
          "base_uri": "https://localhost:8080/"
        }
      },
      "execution_count": 27,
      "outputs": [
        {
          "output_type": "execute_result",
          "data": {
            "text/plain": [
              "[Row(country='Austria', year=1996, quantity=5.0),\n",
              " Row(country='Austria', year=1995, quantity=17.0)]"
            ]
          },
          "metadata": {},
          "execution_count": 27
        }
      ]
    },
    {
      "cell_type": "code",
      "source": [
        "df_lim = df_lim.withColumnRenamed('year', 'y')\n",
        "df_lim"
      ],
      "metadata": {
        "id": "OT98LYjG91T8",
        "outputId": "061378e3-e6e9-4308-c4dc-284fe648d6cb",
        "colab": {
          "base_uri": "https://localhost:8080/"
        }
      },
      "execution_count": 28,
      "outputs": [
        {
          "output_type": "execute_result",
          "data": {
            "text/plain": [
              "DataFrame[country: string, y: int, quantity: double]"
            ]
          },
          "metadata": {},
          "execution_count": 28
        }
      ]
    },
    {
      "cell_type": "code",
      "source": [
        "df_lim.columns"
      ],
      "metadata": {
        "id": "gKMgOyjD-SLx",
        "outputId": "2039b723-90a4-4f10-9252-b50ab28c8dc0",
        "colab": {
          "base_uri": "https://localhost:8080/"
        }
      },
      "execution_count": 29,
      "outputs": [
        {
          "output_type": "execute_result",
          "data": {
            "text/plain": [
              "['country', 'y', 'quantity']"
            ]
          },
          "metadata": {},
          "execution_count": 29
        }
      ]
    },
    {
      "cell_type": "markdown",
      "source": [
        "Описание и статистики"
      ],
      "metadata": {
        "id": "zaUpEuH1-aXj"
      }
    },
    {
      "cell_type": "code",
      "source": [
        "df_lim.show()"
      ],
      "metadata": {
        "id": "BrogH8Rm-f1V",
        "colab": {
          "base_uri": "https://localhost:8080/"
        },
        "outputId": "e837114f-ce3b-4221-85a9-54aacae3038d"
      },
      "execution_count": 30,
      "outputs": [
        {
          "output_type": "stream",
          "name": "stdout",
          "text": [
            "+-------+----+--------+\n",
            "|country|   y|quantity|\n",
            "+-------+----+--------+\n",
            "|Austria|1996|     5.0|\n",
            "|Austria|1995|    17.0|\n",
            "|Belgium|2014|     0.0|\n",
            "|Belgium|2013|     0.0|\n",
            "|Belgium|2012|    35.0|\n",
            "|Belgium|2011|    25.0|\n",
            "|Belgium|2010|    22.0|\n",
            "|Belgium|2009|    45.0|\n",
            "|Czechia|1998|     1.0|\n",
            "|Czechia|1995|     7.0|\n",
            "|Finland|2010|     9.0|\n",
            "|Finland|2009|    13.0|\n",
            "|Finland|2008|    39.0|\n",
            "|Finland|2007|    21.0|\n",
            "|Finland|2006|     0.0|\n",
            "|Finland|2005|     0.0|\n",
            "|Finland|2004|     0.0|\n",
            "|Finland|2003|     0.0|\n",
            "|Finland|2002|     0.0|\n",
            "|Finland|2001|     0.0|\n",
            "+-------+----+--------+\n",
            "only showing top 20 rows\n",
            "\n"
          ]
        }
      ]
    },
    {
      "cell_type": "code",
      "source": [
        "df_lim.describe().show()"
      ],
      "metadata": {
        "colab": {
          "base_uri": "https://localhost:8080/"
        },
        "id": "W8ncBu80_eac",
        "outputId": "fbb9f1eb-e522-4f33-e25a-1065747deeb3"
      },
      "execution_count": 31,
      "outputs": [
        {
          "output_type": "stream",
          "name": "stdout",
          "text": [
            "+-------+-----------+-----------------+-----------------+\n",
            "|summary|    country|                y|         quantity|\n",
            "+-------+-----------+-----------------+-----------------+\n",
            "|  count|      91674|            91674|            91674|\n",
            "|   mean|       null|2003.455047232585| 6709.25873315012|\n",
            "| stddev|       null|7.214905456844704|46184.47800355738|\n",
            "|    min|Afghanistan|             1990|          -1937.0|\n",
            "|    max|   Zimbabwe|             2014|        2148690.3|\n",
            "+-------+-----------+-----------------+-----------------+\n",
            "\n"
          ]
        }
      ]
    },
    {
      "cell_type": "markdown",
      "source": [
        "Сохранение"
      ],
      "metadata": {
        "id": "wr6pXXQf_tPr"
      }
    },
    {
      "cell_type": "code",
      "metadata": {
        "id": "quD2SF92-2gE"
      },
      "source": [
        "df_lim.write.format('com.databricks.spark.csv').option('header', 'true').save('df_lim.csv')"
      ],
      "execution_count": 32,
      "outputs": []
    },
    {
      "cell_type": "markdown",
      "source": [
        "Вычисления"
      ],
      "metadata": {
        "id": "b3F6py9D_-Jm"
      }
    },
    {
      "cell_type": "code",
      "source": [
        "df_lim = df_lim.withColumn('quantity x2', df_lim['quantity'] * 2)\n",
        "df_lim.head(2)"
      ],
      "metadata": {
        "colab": {
          "base_uri": "https://localhost:8080/"
        },
        "id": "4I50RKAMAL8E",
        "outputId": "0938f156-0a8e-46d9-a2a7-a5d396850408"
      },
      "execution_count": 35,
      "outputs": [
        {
          "output_type": "execute_result",
          "data": {
            "text/plain": [
              "[Row(country='Austria', y=1996, quantity=5.0, quantity x2=10.0),\n",
              " Row(country='Austria', y=1995, quantity=17.0, quantity x2=34.0)]"
            ]
          },
          "metadata": {},
          "execution_count": 35
        }
      ]
    },
    {
      "cell_type": "code",
      "source": [
        "df_grp = df_lim.groupBy('country')\n",
        "df_grp"
      ],
      "metadata": {
        "colab": {
          "base_uri": "https://localhost:8080/"
        },
        "id": "7GKkkpt8Awgr",
        "outputId": "330b05dd-e145-4025-d12b-8bac13a3ff92"
      },
      "execution_count": 41,
      "outputs": [
        {
          "output_type": "execute_result",
          "data": {
            "text/plain": [
              "<pyspark.sql.group.GroupedData at 0x7fa6f7187250>"
            ]
          },
          "metadata": {},
          "execution_count": 41
        }
      ]
    },
    {
      "cell_type": "markdown",
      "source": [
        "Свободные таблицы"
      ],
      "metadata": {
        "id": "ssNZS6FiB5mU"
      }
    },
    {
      "cell_type": "code",
      "source": [
        "df_sum = df_grp.sum('quantity', 'quantity x2')\n",
        "df_sum.show()"
      ],
      "metadata": {
        "colab": {
          "base_uri": "https://localhost:8080/"
        },
        "id": "Q_rStwGKBUr0",
        "outputId": "6f468b3c-2336-4d2c-e924-e3f8788cc8d2"
      },
      "execution_count": 42,
      "outputs": [
        {
          "output_type": "stream",
          "name": "stdout",
          "text": [
            "+------------------+------------------+------------------+\n",
            "|           country|     sum(quantity)|  sum(quantity x2)|\n",
            "+------------------+------------------+------------------+\n",
            "|     Côte d'Ivoire|      12062.304782|      24124.609564|\n",
            "|              Chad|16067.143999999998|32134.287999999997|\n",
            "|          Paraguay|64431.939999999995|128863.87999999999|\n",
            "|          Anguilla|             520.0|            1040.0|\n",
            "|             Yemen|            8367.0|           16734.0|\n",
            "|State of Palestine|             521.2|            1042.4|\n",
            "|           Senegal| 37683.43337646103| 75366.86675292205|\n",
            "|            Sweden|       2.4582429E7|       4.9164858E7|\n",
            "|        Cabo Verde| 44.84899999999999| 89.69799999999998|\n",
            "|          Kiribati|57.980000000000004|115.96000000000001|\n",
            "|            Guyana| 135681.6253494831| 271363.2506989662|\n",
            "|       Philippines| 488657.5163919993| 977315.0327839986|\n",
            "|           Eritrea|          405776.0|          811552.0|\n",
            "|            Jersey|211.46726862302495| 422.9345372460499|\n",
            "|             Tonga| 56.06200000000004|112.12400000000008|\n",
            "|          Djibouti|             241.8|             483.6|\n",
            "|         Singapore|         122802.62|         245605.24|\n",
            "|          Malaysia|166398.39999999997|332796.79999999993|\n",
            "|              Fiji|159894.09482600004| 319788.1896520001|\n",
            "|            Turkey|         2142050.0|         4284100.0|\n",
            "+------------------+------------------+------------------+\n",
            "only showing top 20 rows\n",
            "\n"
          ]
        }
      ]
    },
    {
      "cell_type": "code",
      "source": [
        "df_lim.groupby('country').pivot('y').sum('quantity').show()"
      ],
      "metadata": {
        "colab": {
          "base_uri": "https://localhost:8080/"
        },
        "id": "2a6JzenZByIe",
        "outputId": "4235de49-c000-49d4-ea3d-9f1cdfd12250"
      },
      "execution_count": 43,
      "outputs": [
        {
          "output_type": "stream",
          "name": "stdout",
          "text": [
            "+------------------+------------------+------------------+------------------+------------------+------------------+-----------------+-----------------+-----------------+------------------+------------------+------------------+-------------------+------------------+------------------+------------------+------------------+------------------+------------------+-----------------+------------------+------------------+------------------+------------------+------------------+--------------------+\n",
            "|           country|              1990|              1991|              1992|              1993|              1994|             1995|             1996|             1997|              1998|              1999|              2000|               2001|              2002|              2003|              2004|              2005|              2006|              2007|             2008|              2009|              2010|              2011|              2012|              2013|                2014|\n",
            "+------------------+------------------+------------------+------------------+------------------+------------------+-----------------+-----------------+-----------------+------------------+------------------+------------------+-------------------+------------------+------------------+------------------+------------------+------------------+------------------+-----------------+------------------+------------------+------------------+------------------+------------------+--------------------+\n",
            "|     Côte d'Ivoire|             800.0|             447.0|             342.0|             230.0|             145.0|            174.0|            195.0|            234.0|         447.39501|        362.087318|        359.058212|         679.018712|        779.087318|        614.058212|             612.6|             613.0|             404.0|             522.0|            473.0|             677.0|             853.0|             461.0|             536.0|             512.0|               591.0|\n",
            "|              Chad|             510.0|             608.0|             610.0|             648.0|             642.0|            606.0|            606.0|            680.0|             620.0|             636.0|             634.0|              632.0|             632.0|             662.0|             602.0|             698.0|             698.0|             698.0|            722.0|             737.6|             689.4|             592.2| 637.9199999999998| 610.2239999999999|               655.8|\n",
            "|          Paraguay|            1834.0|            2171.0|            1976.0|            2162.0|            2022.0|           1845.0|           2355.0|           2187.0|2290.2199999999993|2243.3599999999997|1791.0399999999997| 1898.4400000000005|            2272.9|            2288.5|2258.3999999999996|2337.7799999999997|2399.0799999999995|2420.8800000000006|           2795.4|2877.8399999999992|3093.8399999999992| 3525.359999999999|           3550.08|4948.0199999999995|   4888.799999999999|\n",
            "|          Anguilla|              null|              null|              null|              null|              null|             null|             null|             null|              null|              null|              null|               null|              null|             520.0|              null|              null|              null|              null|             null|              null|              null|              null|              null|              null|                null|\n",
            "|             Yemen|              null|             217.0|             242.0|             292.0|             292.0|            292.0|            302.0|            297.0|             297.0|             297.0|             312.0|              327.0|             347.0|             527.0|             532.0|             567.0|             632.0|             650.0|            580.0|             465.0|             490.0|             120.0|              65.0|             120.0|               105.0|\n",
            "|State of Palestine|               8.0|               8.0|               8.0|               8.0|              12.0|             12.0|             12.0|             12.0|              12.0|              12.0|              12.0|               12.0|              16.0|              16.0|              16.0|              12.0|               9.2|              19.2|              2.0|              30.8|              43.2|              70.4|              21.6|              70.0|                66.8|\n",
            "|           Senegal|  1262.39170538382|1276.8091052662362|1287.5790146961576| 1308.996414578573| 1347.413810460989|1388.788425085663|1422.458024615325| 1400.77511459748| 1434.387185484622|1476.6467548242579| 1514.611335258906|  1455.042049629505| 1457.452079819531| 1255.832635239999|1508.3546197124622|1390.5110253586458|1420.5110253586458|       1294.278085|       1823.12143| 1771.119150947256| 2034.029913517605|2002.9502845391148| 2242.781420618032|1420.3390272003724|  1486.2537392678155|\n",
            "|            Sweden|          753897.0|          769677.0|          790067.0|          838794.0|          855813.0|         961713.0|         983921.0|        1049445.0|         1048158.0|          886848.0|         1018070.0|           905299.0|          889705.0|          921654.0|          992351.0|         1040318.0|         1009469.0|         1049784.0|        1002822.0|          968714.0|         1251935.0|         1125289.0|         1140063.0|         1164252.0|           1164371.0|\n",
            "|        Cabo Verde|              null|              null|              null|              null|              null|             null|             null|             null|              null|              null|              null|               null|              null|               4.9|               1.4|               2.8|3.9200000000000004| 5.039999999999999|             6.09| 6.789999999999999| 6.789999999999999|              0.42|              4.76|1.8900000000000001|0.048999999999999995|\n",
            "|          Kiribati|               0.0|               0.0|               0.0|               0.0|               0.0|              0.0|              0.0|              0.0|               0.0|               0.0|               0.0|                2.0|               2.0|               2.0|               2.0|               4.0|               6.0|               4.0|              4.4|               2.0|               6.0|              5.82|              5.86|               5.9|                 6.0|\n",
            "|            Guyana|            2616.0|            3288.0|            4980.0|            5116.0| 5189.893432642336|5055.531972233577|5624.244965226278|5544.931678423358| 5155.491968846715| 5923.381167824818| 5648.485986832116|  5933.841167416057| 7003.698247416059| 6492.489779620439| 7198.550950218977| 5909.760000613138| 5975.424526423357| 6001.336203620437|5623.326545021897|  5458.00452621898| 5275.485061021896| 6437.859970832118| 5368.746423357665|       4612.351897|   4248.788878672901|\n",
            "|            Jersey|              null|              null|              null|              null|              null|             null|             null|             null|              null|              null|              null|               null|              null|              null|              null|              null|              null|              null|             null|  45.4176072234764| 33.40857787810384|33.769751693002284| 36.93002257336344|33.318284424379236|  28.623024830699762|\n",
            "|       Philippines|15560.679999999998|13896.880000000001|         12918.212|13851.416000000001|14343.543999999998|        15076.324|        15572.748|        15591.664|         13984.124|         13556.792|13027.844000000001|          13506.124|13876.748000000001|14862.436000000002|15590.447760000001|        16489.4192|      17832.496192|22219.044440000005|        25124.986|25572.884000000002|28868.173999999988|30707.308000000008|         33133.526| 34628.22280000001|   38865.47199999999|\n",
            "|           Eritrea|              null|              null|              null|              null|           27268.0|          28140.0|          29005.0|          29887.0|           20076.0|           20676.0|           21318.0|            23954.0|           24674.0|           25390.0|           12384.0|           12760.0|           13078.0|           13460.0|          13832.0|           14230.0|           14488.0|           14800.0|           15118.0|           15448.0|             15790.0|\n",
            "|          Djibouti|              10.0|              10.0|              10.0|              10.0|              10.0|             10.0|             10.0|             10.0|              10.0|              10.0|              10.0|               10.0|              14.0|              14.0|              14.0|              14.0|              14.0|              11.0|              8.4|               4.0|               4.0|3.1999999999999993| 6.800000000000001| 7.199999999999999|   7.199999999999999|\n",
            "|             Tonga|               6.0|               6.0|             0.072|              5.16|              9.84|             4.44|             0.72|              0.4|0.5399999999999999|              1.14|              5.46|0.12000000000000001|              3.12|              2.04|               0.3|3.3600000000000003|              0.09|               1.2|              0.6|               0.6|               0.6|               0.0|               0.0|               0.0|                4.26|\n",
            "|          Malaysia|            3009.0|            3249.0|            3323.0|            3621.0|            3850.0|           3922.0|           3916.0|           9517.0|            9667.0|            9943.0|           11065.0|            12632.0|           10449.0|           11813.6|           13064.6|           12139.6|           10096.6|            5132.8|           6117.8|            3971.8|            1660.0|            3931.0|            3349.0|            3092.8|              3865.8|\n",
            "|         Singapore|            2162.0|            1916.0|            2364.0|            2446.0|            2818.0|           3690.0|           4058.0|           4661.0|            4256.0|            4328.0|            3946.0|             4723.0|            5139.0|            5150.6|            6152.2|            6153.8|            5501.8|            6189.8|           6372.4|            6068.4|            5882.8|            5948.0|            6786.7| 7077.320000000001|   9011.800000000001|\n",
            "|              Fiji|            6316.0|            8920.0|            8854.0|            8874.0|           10698.0|           9062.0|           9372.0|           7330.0|            5564.0|            7512.0|            7132.0|             6504.0|6568.4000000000015| 6476.999999999999| 6508.000000000001|6022.5999999999985|            6360.4|4931.2342800000015|      5486.179986|        3177.40256|2910.3564799999995|3601.8952400000007|2926.9292000000005| 4119.453279999998|           4666.2438|\n",
            "|            Turkey|           68599.0|           63710.0|           71385.0|           63493.0|           61756.0|          57209.0|          69846.0|          76694.0|           74541.0|           65322.0|          105021.0|           106970.0|          107022.0|          102045.0|           93727.0|          102475.0|          100851.0|          108757.0|          72709.0|           66606.0|           75976.0|           69643.0|          114897.0|          130004.0|            112792.0|\n",
            "+------------------+------------------+------------------+------------------+------------------+------------------+-----------------+-----------------+-----------------+------------------+------------------+------------------+-------------------+------------------+------------------+------------------+------------------+------------------+------------------+-----------------+------------------+------------------+------------------+------------------+------------------+--------------------+\n",
            "only showing top 20 rows\n",
            "\n"
          ]
        }
      ]
    },
    {
      "cell_type": "markdown",
      "metadata": {
        "id": "Q3hDmhO9CFC_"
      },
      "source": [
        "## Практика 2. Выведите максимальную и минимальную (2 датафрейма) количество (Amount) по продукту"
      ]
    },
    {
      "cell_type": "code",
      "source": [
        "df_pr.head(3)"
      ],
      "metadata": {
        "colab": {
          "base_uri": "https://localhost:8080/"
        },
        "id": "b5MKAwrNDYpV",
        "outputId": "7f0f1a02-febf-4f54-9d32-4f1bf74f65d4"
      },
      "execution_count": 76,
      "outputs": [
        {
          "output_type": "execute_result",
          "data": {
            "text/plain": [
              "[Row(Year=2017, Month=1, ID='t001', Product='A1', Amount=7, Price=2904, Total=20328, Cost=1200),\n",
              " Row(Year=2017, Month=1, ID='t002', Product='A2', Amount=2, Price=1896, Total=3792, Cost=1100),\n",
              " Row(Year=2017, Month=2, ID='t003', Product='A1', Amount=5, Price=2904, Total=14520, Cost=1200)]"
            ]
          },
          "metadata": {},
          "execution_count": 76
        }
      ]
    },
    {
      "cell_type": "code",
      "source": [
        "df_pr.show()"
      ],
      "metadata": {
        "colab": {
          "base_uri": "https://localhost:8080/"
        },
        "id": "wCO3HOX3Ec8d",
        "outputId": "55973ede-b674-49d7-bea9-c4d9315ac599"
      },
      "execution_count": 49,
      "outputs": [
        {
          "output_type": "stream",
          "name": "stdout",
          "text": [
            "+----+-----+----+-------+------+-----+-----+----+\n",
            "|Year|Month|  ID|Product|Amount|Price|Total|Cost|\n",
            "+----+-----+----+-------+------+-----+-----+----+\n",
            "|2017|    1|t001|     A1|     7| 2904|20328|1200|\n",
            "|2017|    1|t002|     A2|     2| 1896| 3792|1100|\n",
            "|2017|    2|t003|     A1|     5| 2904|14520|1200|\n",
            "|2017|    2|t004|     A4|     1| 8618| 8618|4200|\n",
            "|2017|    2|t005|     A5|     3| 5175|15525| 500|\n",
            "|2017|    2|t006|     _6|     4| 3500|14000| 200|\n",
            "|2017|    3|t007|     _3|     6| 1265| 7590| 200|\n",
            "|2017|    3|t008|     _5|     2| 5175|10350|1200|\n",
            "|2017|    4|t009|     _8|     3| 3760|11280|1000|\n",
            "|2017|    4|t010|     _4|     2| 8618|17236|3400|\n",
            "|2017|    4|t011|     _2|     4| 1896| 7584| 800|\n",
            "|2017|    4|t012|     _5|     5| 5175|25875| 700|\n",
            "|2017|    4|t013|     _8|     3| 3760|11280|1200|\n",
            "|2017|    4|t014|     _4|     1| 8618| 8618| 250|\n",
            "|2017|    5|t015|     _2|     2| 1896| 3792| 650|\n",
            "|2017|    5|t016|     A4|     3| 8618|25854|2400|\n",
            "|2017|    5|t017|     A5|     2| 5175|10350|1200|\n",
            "|2017|    5|t018|     _6|     4| 3500|14000|1200|\n",
            "|2017|    5|t019|     _3|     5| 1265| 6325| 200|\n",
            "|2017|    5|t020|     _5|     6| 5175|31050| 800|\n",
            "+----+-----+----+-------+------+-----+-----+----+\n",
            "only showing top 20 rows\n",
            "\n"
          ]
        }
      ]
    },
    {
      "cell_type": "code",
      "source": [
        "df_pr.columns"
      ],
      "metadata": {
        "colab": {
          "base_uri": "https://localhost:8080/"
        },
        "id": "kUOxKjspCwgc",
        "outputId": "b0d2ee85-883c-4150-9b92-88d9431792ec"
      },
      "execution_count": 44,
      "outputs": [
        {
          "output_type": "execute_result",
          "data": {
            "text/plain": [
              "['Year', 'Month', 'ID', 'Product', 'Amount', 'Price', 'Total', 'Cost']"
            ]
          },
          "metadata": {},
          "execution_count": 44
        }
      ]
    },
    {
      "cell_type": "code",
      "metadata": {
        "colab": {
          "base_uri": "https://localhost:8080/"
        },
        "outputId": "34084bcf-85b5-453a-b0c5-c8d41eeff92c",
        "id": "lmZodYgKEpxy"
      },
      "source": [
        "df_pr_max = df_pr.groupby('Product').max('Amount')\n",
        "df_pr_max.show()"
      ],
      "execution_count": 50,
      "outputs": [
        {
          "output_type": "stream",
          "name": "stdout",
          "text": [
            "+-------+-----------+\n",
            "|Product|max(Amount)|\n",
            "+-------+-----------+\n",
            "|     _5|          6|\n",
            "|     _2|          8|\n",
            "|     A2|          2|\n",
            "|     _8|         10|\n",
            "|     _3|          7|\n",
            "|     _4|          3|\n",
            "|     _6|          4|\n",
            "|     A4|          3|\n",
            "|     A5|          7|\n",
            "|     A1|          9|\n",
            "+-------+-----------+\n",
            "\n"
          ]
        }
      ]
    },
    {
      "cell_type": "code",
      "metadata": {
        "id": "KW-k4akCCEBH",
        "colab": {
          "base_uri": "https://localhost:8080/"
        },
        "outputId": "db809f1f-2f1b-4f89-d500-697d7c3c3ab3"
      },
      "source": [
        "df_pr_max = df_pr.groupby('Product').pivot('Month').max('Amount')\n",
        "df_pr_max.show()"
      ],
      "execution_count": 47,
      "outputs": [
        {
          "output_type": "stream",
          "name": "stdout",
          "text": [
            "+-------+----+----+----+----+----+----+----+----+----+----+----+----+\n",
            "|Product|   1|   2|   3|   4|   5|   6|   7|   8|   9|  10|  11|  12|\n",
            "+-------+----+----+----+----+----+----+----+----+----+----+----+----+\n",
            "|     _5|null|null|   2|   5|   6|   2|null|   1|   5|   6|   5|   2|\n",
            "|     _2|null|null|null|   4|   2|   1|   6|null|   8|null|   5|   8|\n",
            "|     A2|   2|null|null|null|null|null|null|null|null|null|   2|null|\n",
            "|     _8|null|null|null|   3|null|  10|null|null|   1|   3|null|   3|\n",
            "|     _3|null|null|   6|null|   7|null|null|   2|   3|   3|null|   4|\n",
            "|     _4|null|null|null|   2|null|   3|   2|null|   2|   2|null|   2|\n",
            "|     _6|null|   4|null|null|   4|null|null|null|null|null|null|null|\n",
            "|     A4|null|   1|null|null|   3|null|   2|null|null|null|   3|null|\n",
            "|     A5|null|   3|null|null|   2|null|null|   2|null|null|   7|null|\n",
            "|     A1|   7|   5|null|null|null|null|null|null|null|null|   5|   9|\n",
            "+-------+----+----+----+----+----+----+----+----+----+----+----+----+\n",
            "\n"
          ]
        }
      ]
    },
    {
      "cell_type": "code",
      "source": [
        "df_pr_min = df_pr.groupby('Product').min('Amount')\n",
        "df_pr_min.show()"
      ],
      "metadata": {
        "colab": {
          "base_uri": "https://localhost:8080/"
        },
        "outputId": "da0f8e3a-9626-422b-bf73-8c126ac1b64f",
        "id": "6SXM4jhREztr"
      },
      "execution_count": 51,
      "outputs": [
        {
          "output_type": "stream",
          "name": "stdout",
          "text": [
            "+-------+-----------+\n",
            "|Product|min(Amount)|\n",
            "+-------+-----------+\n",
            "|     _5|          1|\n",
            "|     _2|          1|\n",
            "|     A2|          2|\n",
            "|     _8|          1|\n",
            "|     _3|          2|\n",
            "|     _4|          1|\n",
            "|     _6|          4|\n",
            "|     A4|          1|\n",
            "|     A5|          2|\n",
            "|     A1|          2|\n",
            "+-------+-----------+\n",
            "\n"
          ]
        }
      ]
    },
    {
      "cell_type": "code",
      "source": [
        "df_pr_min = df_pr.groupby('Month').pivot('Product').min('Amount')\n",
        "df_pr_min.show()"
      ],
      "metadata": {
        "colab": {
          "base_uri": "https://localhost:8080/"
        },
        "id": "EkbVHoh-Dt99",
        "outputId": "5e89d00a-842f-4706-94ef-ca0459126fc2"
      },
      "execution_count": 48,
      "outputs": [
        {
          "output_type": "stream",
          "name": "stdout",
          "text": [
            "+-----+----+----+----+----+----+----+----+----+----+----+\n",
            "|Month|  A1|  A2|  A4|  A5|  _2|  _3|  _4|  _5|  _6|  _8|\n",
            "+-----+----+----+----+----+----+----+----+----+----+----+\n",
            "|   12|   9|null|null|null|   8|   4|   2|   2|null|   2|\n",
            "|    1|   7|   2|null|null|null|null|null|null|null|null|\n",
            "|    6|null|null|null|null|   1|null|   3|   2|null|   3|\n",
            "|    3|null|null|null|null|null|   6|null|   2|null|null|\n",
            "|    5|null|null|   3|   2|   2|   5|null|   4|   4|null|\n",
            "|    9|null|null|null|null|   8|   3|   2|   1|null|   1|\n",
            "|    4|null|null|null|null|   4|null|   1|   5|null|   3|\n",
            "|    8|null|null|null|   2|null|   2|null|   1|null|null|\n",
            "|    7|null|null|   1|null|   4|null|   2|null|null|null|\n",
            "|   10|null|null|null|null|null|   3|   2|   6|null|   3|\n",
            "|   11|   2|   2|   3|   6|   5|null|null|   5|null|null|\n",
            "|    2|   5|null|   1|   3|null|null|null|null|   4|null|\n",
            "+-----+----+----+----+----+----+----+----+----+----+----+\n",
            "\n"
          ]
        }
      ]
    },
    {
      "cell_type": "markdown",
      "source": [
        "Подвыборки"
      ],
      "metadata": {
        "id": "9_U3LNsKFCRN"
      }
    },
    {
      "cell_type": "code",
      "source": [
        "x = df['quantity'] > 184264"
      ],
      "metadata": {
        "id": "VG15nz2dFDR9"
      },
      "execution_count": 53,
      "outputs": []
    },
    {
      "cell_type": "code",
      "source": [
        "df.where(x).show()"
      ],
      "metadata": {
        "colab": {
          "base_uri": "https://localhost:8080/"
        },
        "id": "GUcLe2rdFTfM",
        "outputId": "338ff2e3-cb9a-4f78-b5b3-8ece9b6b570a"
      },
      "execution_count": 54,
      "outputs": [
        {
          "output_type": "stream",
          "name": "stdout",
          "text": [
            "+-------------+----+--------+--------+\n",
            "|      country|year|quantity|category|\n",
            "+-------------+----+--------+--------+\n",
            "|United States|2014|367987.0|       2|\n",
            "|United States|2013|384439.0|       2|\n",
            "|United States|2012|370625.0|       2|\n",
            "|United States|2011|310909.0|       2|\n",
            "|United States|2010|335418.0|       2|\n",
            "|United States|2009|230589.0|       2|\n",
            "|United States|2008|226570.0|       2|\n",
            "|United States|2007|221771.0|       2|\n",
            "|United States|2005|314655.0|       2|\n",
            "|United States|2004|243916.0|       2|\n",
            "|United States|1996|226319.0|       2|\n",
            "|United States|1995|292568.0|       2|\n",
            "|United States|1994|230254.0|       2|\n",
            "|United States|1993|247909.0|       2|\n",
            "|United States|2014|448216.0|       2|\n",
            "|United States|2013|458711.0|       2|\n",
            "|United States|2012|433505.0|       2|\n",
            "|United States|2011|382566.0|       2|\n",
            "|United States|2010|406606.0|       2|\n",
            "|United States|2009|296903.0|       2|\n",
            "+-------------+----+--------+--------+\n",
            "only showing top 20 rows\n",
            "\n"
          ]
        }
      ]
    },
    {
      "cell_type": "code",
      "metadata": {
        "id": "gRaXfT0G_Yv3",
        "colab": {
          "base_uri": "https://localhost:8080/"
        },
        "outputId": "171e6eb0-fbce-49e7-8b81-de019eba0b6e"
      },
      "source": [
        "df_filter = df.where((df['quantity'] > 184264) & (df['country'] != 'United States'))\n",
        "df_filter.show()"
      ],
      "execution_count": 57,
      "outputs": [
        {
          "output_type": "stream",
          "name": "stdout",
          "text": [
            "+-------+----+--------+--------+\n",
            "|country|year|quantity|category|\n",
            "+-------+----+--------+--------+\n",
            "|Germany|2014|311259.0|       7|\n",
            "|Germany|2013|287845.0|       7|\n",
            "|Germany|2012|268856.0|       7|\n",
            "|Germany|2011|216897.0|       7|\n",
            "|Germany|2014|311259.0|       7|\n",
            "|Germany|2013|287845.0|       7|\n",
            "|Germany|2012|268856.0|       7|\n",
            "|Germany|2011|216897.0|       7|\n",
            "|Germany|2014|232451.0|       7|\n",
            "|Germany|2013|217991.0|       7|\n",
            "|Germany|2012|192441.0|       7|\n",
            "|Germany|2014|232451.0|       7|\n",
            "|Germany|2013|217991.0|       7|\n",
            "|Germany|2012|192441.0|       7|\n",
            "| Canada|2013|191861.0|      10|\n",
            "| Canada|2007|202060.0|      10|\n",
            "| Canada|2006|203142.0|      10|\n",
            "| Canada|2005|224001.0|      10|\n",
            "| Canada|2004|236803.0|      10|\n",
            "| Canada|2003|226291.0|      10|\n",
            "+-------+----+--------+--------+\n",
            "only showing top 20 rows\n",
            "\n"
          ]
        }
      ]
    },
    {
      "cell_type": "code",
      "source": [
        "df_filter1 = df.where(x | (df['country'] != 'United States'))\n",
        "df_filter1.show()"
      ],
      "metadata": {
        "colab": {
          "base_uri": "https://localhost:8080/"
        },
        "id": "HqmBUhbYFv0t",
        "outputId": "dc97b578-9c12-48a9-aca2-173c3345e35e"
      },
      "execution_count": 58,
      "outputs": [
        {
          "output_type": "stream",
          "name": "stdout",
          "text": [
            "+-------+----+--------+--------+\n",
            "|country|year|quantity|category|\n",
            "+-------+----+--------+--------+\n",
            "|Austria|1996|     5.0|       1|\n",
            "|Austria|1995|    17.0|       1|\n",
            "|Belgium|2014|     0.0|       1|\n",
            "|Belgium|2013|     0.0|       1|\n",
            "|Belgium|2012|    35.0|       1|\n",
            "|Belgium|2011|    25.0|       1|\n",
            "|Belgium|2010|    22.0|       1|\n",
            "|Belgium|2009|    45.0|       1|\n",
            "|Czechia|1998|     1.0|       1|\n",
            "|Czechia|1995|     7.0|       1|\n",
            "|Finland|2010|     9.0|       1|\n",
            "|Finland|2009|    13.0|       1|\n",
            "|Finland|2008|    39.0|       1|\n",
            "|Finland|2007|    21.0|       1|\n",
            "|Finland|2006|     0.0|       1|\n",
            "|Finland|2005|     0.0|       1|\n",
            "|Finland|2004|     0.0|       1|\n",
            "|Finland|2003|     0.0|       1|\n",
            "|Finland|2002|     0.0|       1|\n",
            "|Finland|2001|     0.0|       1|\n",
            "+-------+----+--------+--------+\n",
            "only showing top 20 rows\n",
            "\n"
          ]
        }
      ]
    },
    {
      "cell_type": "markdown",
      "metadata": {
        "id": "eXa1U_hMCZiL"
      },
      "source": [
        "# Практика 3. Выведите список всех, товаров, которых хоть когда-то было больше 5-ти штук\n"
      ]
    },
    {
      "cell_type": "code",
      "source": [
        "df_pr.columns"
      ],
      "metadata": {
        "colab": {
          "base_uri": "https://localhost:8080/"
        },
        "id": "PClLbQwoGroO",
        "outputId": "a4e0f353-4187-4ecc-9985-d62214f315a6"
      },
      "execution_count": 59,
      "outputs": [
        {
          "output_type": "execute_result",
          "data": {
            "text/plain": [
              "['Year', 'Month', 'ID', 'Product', 'Amount', 'Price', 'Total', 'Cost']"
            ]
          },
          "metadata": {},
          "execution_count": 59
        }
      ]
    },
    {
      "cell_type": "code",
      "source": [
        "df_pr_max.show()"
      ],
      "metadata": {
        "colab": {
          "base_uri": "https://localhost:8080/"
        },
        "id": "isVddHzjHYNJ",
        "outputId": "fd940285-b3d6-472e-d3cb-3784ddd5f813"
      },
      "execution_count": 61,
      "outputs": [
        {
          "output_type": "stream",
          "name": "stdout",
          "text": [
            "+-------+-----------+\n",
            "|Product|max(Amount)|\n",
            "+-------+-----------+\n",
            "|     _5|          6|\n",
            "|     _2|          8|\n",
            "|     A2|          2|\n",
            "|     _8|         10|\n",
            "|     _3|          7|\n",
            "|     _4|          3|\n",
            "|     _6|          4|\n",
            "|     A4|          3|\n",
            "|     A5|          7|\n",
            "|     A1|          9|\n",
            "+-------+-----------+\n",
            "\n"
          ]
        }
      ]
    },
    {
      "cell_type": "code",
      "source": [
        "df_pr.where(df_1['Amount'] > 5).show()"
      ],
      "metadata": {
        "colab": {
          "base_uri": "https://localhost:8080/"
        },
        "id": "_Yr0lFgVG0Rm",
        "outputId": "94258db2-28f5-42e5-ed99-611e3ac4191e"
      },
      "execution_count": 60,
      "outputs": [
        {
          "output_type": "stream",
          "name": "stdout",
          "text": [
            "+----+-----+----+-------+------+-----+-----+----+\n",
            "|Year|Month|  ID|Product|Amount|Price|Total|Cost|\n",
            "+----+-----+----+-------+------+-----+-----+----+\n",
            "|2017|    1|t001|     A1|     7| 2904|20328|1200|\n",
            "|2017|    3|t007|     _3|     6| 1265| 7590| 200|\n",
            "|2017|    5|t020|     _5|     6| 5175|31050| 800|\n",
            "|2017|    5|t021|     _3|     7| 1265| 8855| 700|\n",
            "|2017|    6|t023|     _8|    10| 3760|37600| 200|\n",
            "|2017|    7|t031|     _2|     6| 1896|11376| 650|\n",
            "|2017|    9|t040|     _2|     8| 1896|15168|1000|\n",
            "|2017|   10|t044|     _5|     6| 5175|31050| 700|\n",
            "|2017|   11|t047|     A5|     6| 5175|31050|2400|\n",
            "|2017|   11|t052|     A5|     7| 5175|36225| 700|\n",
            "|2017|   12|t054|     A1|     9| 2904|26136| 650|\n",
            "|2017|   12|t057|     _2|     8| 1896|15168|1200|\n",
            "+----+-----+----+-------+------+-----+-----+----+\n",
            "\n"
          ]
        }
      ]
    },
    {
      "cell_type": "code",
      "source": [
        "df_pr_max.columns"
      ],
      "metadata": {
        "colab": {
          "base_uri": "https://localhost:8080/"
        },
        "id": "phun8cpbIHSu",
        "outputId": "d504004f-b030-49a6-a548-ea833f775a62"
      },
      "execution_count": 63,
      "outputs": [
        {
          "output_type": "execute_result",
          "data": {
            "text/plain": [
              "['Product', 'max(Amount)']"
            ]
          },
          "metadata": {},
          "execution_count": 63
        }
      ]
    },
    {
      "cell_type": "code",
      "source": [
        "df_pr_max.where(df_pr_max['max(Amount)'] > 5).show()"
      ],
      "metadata": {
        "colab": {
          "base_uri": "https://localhost:8080/"
        },
        "id": "Iq5ahs5lHz9O",
        "outputId": "ad00a415-ede1-4948-9d59-059e7e757c81"
      },
      "execution_count": 64,
      "outputs": [
        {
          "output_type": "stream",
          "name": "stdout",
          "text": [
            "+-------+-----------+\n",
            "|Product|max(Amount)|\n",
            "+-------+-----------+\n",
            "|     _5|          6|\n",
            "|     _2|          8|\n",
            "|     _8|         10|\n",
            "|     _3|          7|\n",
            "|     A5|          7|\n",
            "|     A1|          9|\n",
            "+-------+-----------+\n",
            "\n"
          ]
        }
      ]
    },
    {
      "cell_type": "markdown",
      "metadata": {
        "id": "SPtzrDNLARKa"
      },
      "source": [
        "## SQL"
      ]
    },
    {
      "cell_type": "code",
      "source": [
        "df.show()"
      ],
      "metadata": {
        "colab": {
          "base_uri": "https://localhost:8080/"
        },
        "id": "o1CNfjGIIrFm",
        "outputId": "47975e58-cbd7-4a3d-bc23-0d1e4deee761"
      },
      "execution_count": 66,
      "outputs": [
        {
          "output_type": "stream",
          "name": "stdout",
          "text": [
            "+-------+----+--------+--------+\n",
            "|country|year|quantity|category|\n",
            "+-------+----+--------+--------+\n",
            "|Austria|1996|     5.0|       1|\n",
            "|Austria|1995|    17.0|       1|\n",
            "|Belgium|2014|     0.0|       1|\n",
            "|Belgium|2013|     0.0|       1|\n",
            "|Belgium|2012|    35.0|       1|\n",
            "|Belgium|2011|    25.0|       1|\n",
            "|Belgium|2010|    22.0|       1|\n",
            "|Belgium|2009|    45.0|       1|\n",
            "|Czechia|1998|     1.0|       1|\n",
            "|Czechia|1995|     7.0|       1|\n",
            "|Finland|2010|     9.0|       1|\n",
            "|Finland|2009|    13.0|       1|\n",
            "|Finland|2008|    39.0|       1|\n",
            "|Finland|2007|    21.0|       1|\n",
            "|Finland|2006|     0.0|       1|\n",
            "|Finland|2005|     0.0|       1|\n",
            "|Finland|2004|     0.0|       1|\n",
            "|Finland|2003|     0.0|       1|\n",
            "|Finland|2002|     0.0|       1|\n",
            "|Finland|2001|     0.0|       1|\n",
            "+-------+----+--------+--------+\n",
            "only showing top 20 rows\n",
            "\n"
          ]
        }
      ]
    },
    {
      "cell_type": "code",
      "source": [
        "df.createOrReplaceTempView('power')# namization in spark"
      ],
      "metadata": {
        "id": "NZnWJ0PAIxSO"
      },
      "execution_count": 67,
      "outputs": []
    },
    {
      "cell_type": "code",
      "source": [
        "spark.sql('SELECT * FROM power').show()"
      ],
      "metadata": {
        "colab": {
          "base_uri": "https://localhost:8080/"
        },
        "id": "LjcN6Q_nI_gQ",
        "outputId": "5ced7063-e313-4cd6-92bd-721dd90dc875"
      },
      "execution_count": 68,
      "outputs": [
        {
          "output_type": "stream",
          "name": "stdout",
          "text": [
            "+-------+----+--------+--------+\n",
            "|country|year|quantity|category|\n",
            "+-------+----+--------+--------+\n",
            "|Austria|1996|     5.0|       1|\n",
            "|Austria|1995|    17.0|       1|\n",
            "|Belgium|2014|     0.0|       1|\n",
            "|Belgium|2013|     0.0|       1|\n",
            "|Belgium|2012|    35.0|       1|\n",
            "|Belgium|2011|    25.0|       1|\n",
            "|Belgium|2010|    22.0|       1|\n",
            "|Belgium|2009|    45.0|       1|\n",
            "|Czechia|1998|     1.0|       1|\n",
            "|Czechia|1995|     7.0|       1|\n",
            "|Finland|2010|     9.0|       1|\n",
            "|Finland|2009|    13.0|       1|\n",
            "|Finland|2008|    39.0|       1|\n",
            "|Finland|2007|    21.0|       1|\n",
            "|Finland|2006|     0.0|       1|\n",
            "|Finland|2005|     0.0|       1|\n",
            "|Finland|2004|     0.0|       1|\n",
            "|Finland|2003|     0.0|       1|\n",
            "|Finland|2002|     0.0|       1|\n",
            "|Finland|2001|     0.0|       1|\n",
            "+-------+----+--------+--------+\n",
            "only showing top 20 rows\n",
            "\n"
          ]
        }
      ]
    },
    {
      "cell_type": "code",
      "source": [
        "spark.sql('Select country, sum(quantity) FROM power GROUP BY country').show()"
      ],
      "metadata": {
        "colab": {
          "base_uri": "https://localhost:8080/"
        },
        "id": "opM2V8vcJZwH",
        "outputId": "cfd5f9b3-087e-483c-bf96-0acce45e3f89"
      },
      "execution_count": 69,
      "outputs": [
        {
          "output_type": "stream",
          "name": "stdout",
          "text": [
            "+------------------+------------------+\n",
            "|           country|     sum(quantity)|\n",
            "+------------------+------------------+\n",
            "|     Côte d'Ivoire|      12062.304782|\n",
            "|              Chad|16067.143999999998|\n",
            "|          Paraguay|64431.939999999995|\n",
            "|          Anguilla|             520.0|\n",
            "|             Yemen|            8367.0|\n",
            "|State of Palestine|             521.2|\n",
            "|           Senegal| 37683.43337646103|\n",
            "|            Sweden|       2.4582429E7|\n",
            "|        Cabo Verde| 44.84899999999999|\n",
            "|          Kiribati|57.980000000000004|\n",
            "|            Guyana| 135681.6253494831|\n",
            "|       Philippines| 488657.5163919993|\n",
            "|           Eritrea|          405776.0|\n",
            "|            Jersey|211.46726862302495|\n",
            "|             Tonga| 56.06200000000004|\n",
            "|          Djibouti|             241.8|\n",
            "|         Singapore|         122802.62|\n",
            "|          Malaysia|166398.39999999997|\n",
            "|              Fiji|159894.09482600004|\n",
            "|            Turkey|         2142050.0|\n",
            "+------------------+------------------+\n",
            "only showing top 20 rows\n",
            "\n"
          ]
        }
      ]
    },
    {
      "cell_type": "code",
      "metadata": {
        "id": "7Cj3YhNoCkzK"
      },
      "source": [
        "## Соединение\n",
        "from pyspark.sql import Row"
      ],
      "execution_count": 70,
      "outputs": []
    },
    {
      "cell_type": "code",
      "metadata": {
        "id": "qKHz1geoCtyb"
      },
      "source": [
        "row1 = Row(\"name\", \"pet\", \"count\")\n",
        "row2 = Row(\"name\", \"pet2\", \"count2\")"
      ],
      "execution_count": 71,
      "outputs": []
    },
    {
      "cell_type": "code",
      "metadata": {
        "id": "54wmHoIkCxiA"
      },
      "source": [
        "df1 = sc.parallelize([\n",
        "    row1(\"Sue\", \"cat\", 16),\n",
        "    row1(\"Kim\", \"dog\", 1),    \n",
        "    row1(\"Bob\", \"fish\", 5),\n",
        "    row1(\"Libuse\", \"horse\", 1)\n",
        "    ]).toDF()\n",
        "\n",
        "df2 = sc.parallelize([\n",
        "    row2(\"Sue\", \"eagle\", 2),\n",
        "    row2(\"Kim\", \"ant\", 179),    \n",
        "    row2(\"Bob\", \"lizard\", 5),\n",
        "    row2(\"Ferdinand\", \"bees\", 23)\n",
        "    ]).toDF()"
      ],
      "execution_count": 72,
      "outputs": []
    },
    {
      "cell_type": "code",
      "source": [
        "df1.show()"
      ],
      "metadata": {
        "colab": {
          "base_uri": "https://localhost:8080/"
        },
        "id": "x5UkdteuKETu",
        "outputId": "d489eed5-5d5f-45e1-d9de-b859485db273"
      },
      "execution_count": 73,
      "outputs": [
        {
          "output_type": "stream",
          "name": "stdout",
          "text": [
            "+------+-----+-----+\n",
            "|  name|  pet|count|\n",
            "+------+-----+-----+\n",
            "|   Sue|  cat|   16|\n",
            "|   Kim|  dog|    1|\n",
            "|   Bob| fish|    5|\n",
            "|Libuse|horse|    1|\n",
            "+------+-----+-----+\n",
            "\n"
          ]
        }
      ]
    },
    {
      "cell_type": "code",
      "source": [
        "df2.show()"
      ],
      "metadata": {
        "colab": {
          "base_uri": "https://localhost:8080/"
        },
        "id": "YO0otPF0K_9v",
        "outputId": "ed0791b8-4fba-44c4-a9df-fde7aa6df0e4"
      },
      "execution_count": 77,
      "outputs": [
        {
          "output_type": "stream",
          "name": "stdout",
          "text": [
            "+---------+------+------+\n",
            "|     name|  pet2|count2|\n",
            "+---------+------+------+\n",
            "|      Sue| eagle|     2|\n",
            "|      Kim|   ant|   179|\n",
            "|      Bob|lizard|     5|\n",
            "|Ferdinand|  bees|    23|\n",
            "+---------+------+------+\n",
            "\n"
          ]
        }
      ]
    },
    {
      "cell_type": "code",
      "source": [
        "df1.join(df2, 'name', how = 'inner').show()"
      ],
      "metadata": {
        "colab": {
          "base_uri": "https://localhost:8080/"
        },
        "id": "Icz8zS46LMNf",
        "outputId": "0dc63802-771b-4b22-8af8-97f60411d3ce"
      },
      "execution_count": 78,
      "outputs": [
        {
          "output_type": "stream",
          "name": "stdout",
          "text": [
            "+----+----+-----+------+------+\n",
            "|name| pet|count|  pet2|count2|\n",
            "+----+----+-----+------+------+\n",
            "| Bob|fish|    5|lizard|     5|\n",
            "| Kim| dog|    1|   ant|   179|\n",
            "| Sue| cat|   16| eagle|     2|\n",
            "+----+----+-----+------+------+\n",
            "\n"
          ]
        }
      ]
    },
    {
      "cell_type": "code",
      "source": [
        "df1.join(df2, 'name', how = 'left').show()"
      ],
      "metadata": {
        "colab": {
          "base_uri": "https://localhost:8080/"
        },
        "id": "CvtUVeYbLgyY",
        "outputId": "de013231-2741-4074-b482-efb38ebbf087"
      },
      "execution_count": 79,
      "outputs": [
        {
          "output_type": "stream",
          "name": "stdout",
          "text": [
            "+------+-----+-----+------+------+\n",
            "|  name|  pet|count|  pet2|count2|\n",
            "+------+-----+-----+------+------+\n",
            "|   Bob| fish|    5|lizard|     5|\n",
            "|   Kim|  dog|    1|   ant|   179|\n",
            "|Libuse|horse|    1|  null|  null|\n",
            "|   Sue|  cat|   16| eagle|     2|\n",
            "+------+-----+-----+------+------+\n",
            "\n"
          ]
        }
      ]
    },
    {
      "cell_type": "code",
      "source": [
        "df1.join(df2, 'name', how = 'right').show()"
      ],
      "metadata": {
        "colab": {
          "base_uri": "https://localhost:8080/"
        },
        "id": "fhdN5-a2LpB3",
        "outputId": "4fb9c8c5-043e-4d42-b535-ef8c91512f0e"
      },
      "execution_count": 80,
      "outputs": [
        {
          "output_type": "stream",
          "name": "stdout",
          "text": [
            "+---------+----+-----+------+------+\n",
            "|     name| pet|count|  pet2|count2|\n",
            "+---------+----+-----+------+------+\n",
            "|      Bob|fish|    5|lizard|     5|\n",
            "|Ferdinand|null| null|  bees|    23|\n",
            "|      Kim| dog|    1|   ant|   179|\n",
            "|      Sue| cat|   16| eagle|     2|\n",
            "+---------+----+-----+------+------+\n",
            "\n"
          ]
        }
      ]
    },
    {
      "cell_type": "code",
      "source": [
        "df1.join(df2, 'name', how = 'outer').show()"
      ],
      "metadata": {
        "colab": {
          "base_uri": "https://localhost:8080/"
        },
        "id": "NPcNxN8TLwpf",
        "outputId": "75c5054b-8cb2-4a04-eca8-5a71f496724c"
      },
      "execution_count": 81,
      "outputs": [
        {
          "output_type": "stream",
          "name": "stdout",
          "text": [
            "+---------+-----+-----+------+------+\n",
            "|     name|  pet|count|  pet2|count2|\n",
            "+---------+-----+-----+------+------+\n",
            "|      Bob| fish|    5|lizard|     5|\n",
            "|Ferdinand| null| null|  bees|    23|\n",
            "|      Kim|  dog|    1|   ant|   179|\n",
            "|   Libuse|horse|    1|  null|  null|\n",
            "|      Sue|  cat|   16| eagle|     2|\n",
            "+---------+-----+-----+------+------+\n",
            "\n"
          ]
        }
      ]
    },
    {
      "cell_type": "markdown",
      "metadata": {
        "id": "uLqwPLL_DBJP"
      },
      "source": [
        "## Практика 4. При помощи операции соединения выведите максимальное, минимальное и среднее (avg) количество (Amount) по продукту"
      ]
    },
    {
      "cell_type": "code",
      "source": [
        "df_pr_max.show()"
      ],
      "metadata": {
        "colab": {
          "base_uri": "https://localhost:8080/"
        },
        "id": "f7hYLAxLL6TQ",
        "outputId": "a037cc7a-0254-4781-a6a4-eb1d79619341"
      },
      "execution_count": 83,
      "outputs": [
        {
          "output_type": "stream",
          "name": "stdout",
          "text": [
            "+-------+-----------+\n",
            "|Product|max(Amount)|\n",
            "+-------+-----------+\n",
            "|     _5|          6|\n",
            "|     _2|          8|\n",
            "|     A2|          2|\n",
            "|     _8|         10|\n",
            "|     _3|          7|\n",
            "|     _4|          3|\n",
            "|     _6|          4|\n",
            "|     A4|          3|\n",
            "|     A5|          7|\n",
            "|     A1|          9|\n",
            "+-------+-----------+\n",
            "\n"
          ]
        }
      ]
    },
    {
      "cell_type": "code",
      "source": [
        "res = df_pr_max.join(df_pr_min, 'Product', how = 'inner')\n",
        "res.show()"
      ],
      "metadata": {
        "colab": {
          "base_uri": "https://localhost:8080/"
        },
        "id": "rYUZbHs-MHaq",
        "outputId": "817b3aca-e587-4421-c36c-1c6b39c2b5b3"
      },
      "execution_count": 86,
      "outputs": [
        {
          "output_type": "stream",
          "name": "stdout",
          "text": [
            "+-------+-----------+-----------+\n",
            "|Product|max(Amount)|min(Amount)|\n",
            "+-------+-----------+-----------+\n",
            "|     _5|          6|          1|\n",
            "|     _2|          8|          1|\n",
            "|     A2|          2|          2|\n",
            "|     _8|         10|          1|\n",
            "|     _3|          7|          2|\n",
            "|     _4|          3|          1|\n",
            "|     _6|          4|          4|\n",
            "|     A4|          3|          1|\n",
            "|     A5|          7|          2|\n",
            "|     A1|          9|          2|\n",
            "+-------+-----------+-----------+\n",
            "\n"
          ]
        }
      ]
    },
    {
      "cell_type": "code",
      "source": [
        "df_pr_avg = df_pr.groupBy('Product').avg('Amount')\n",
        "df_pr_avg.show()"
      ],
      "metadata": {
        "colab": {
          "base_uri": "https://localhost:8080/"
        },
        "id": "NwlARUm3M58w",
        "outputId": "30af1da9-4639-439d-ba63-1c2c243e982a"
      },
      "execution_count": 87,
      "outputs": [
        {
          "output_type": "stream",
          "name": "stdout",
          "text": [
            "+-------+------------------+\n",
            "|Product|       avg(Amount)|\n",
            "+-------+------------------+\n",
            "|     _5|3.5454545454545454|\n",
            "|     _2|              4.75|\n",
            "|     A2|               2.0|\n",
            "|     _8|               3.5|\n",
            "|     _3| 4.285714285714286|\n",
            "|     _4|               2.0|\n",
            "|     _6|               4.0|\n",
            "|     A4|               2.0|\n",
            "|     A5|               4.0|\n",
            "|     A1|               5.6|\n",
            "+-------+------------------+\n",
            "\n"
          ]
        }
      ]
    },
    {
      "cell_type": "code",
      "source": [
        "res.join(df_pr_avg, 'Product', how = 'inner').show()"
      ],
      "metadata": {
        "colab": {
          "base_uri": "https://localhost:8080/"
        },
        "id": "zDNy9RYrNbvo",
        "outputId": "fa1e5165-9537-4ec0-f727-494da10f2035"
      },
      "execution_count": 88,
      "outputs": [
        {
          "output_type": "stream",
          "name": "stdout",
          "text": [
            "+-------+-----------+-----------+------------------+\n",
            "|Product|max(Amount)|min(Amount)|       avg(Amount)|\n",
            "+-------+-----------+-----------+------------------+\n",
            "|     _5|          6|          1|3.5454545454545454|\n",
            "|     _2|          8|          1|              4.75|\n",
            "|     A2|          2|          2|               2.0|\n",
            "|     _8|         10|          1|               3.5|\n",
            "|     _3|          7|          2| 4.285714285714286|\n",
            "|     _4|          3|          1|               2.0|\n",
            "|     _6|          4|          4|               4.0|\n",
            "|     A4|          3|          1|               2.0|\n",
            "|     A5|          7|          2|               4.0|\n",
            "|     A1|          9|          2|               5.6|\n",
            "+-------+-----------+-----------+------------------+\n",
            "\n"
          ]
        }
      ]
    },
    {
      "cell_type": "markdown",
      "metadata": {
        "id": "Nrz0MQafAuNE"
      },
      "source": [
        "## Визуализация"
      ]
    },
    {
      "cell_type": "code",
      "metadata": {
        "id": "Zr1qsEHkApOt"
      },
      "source": [
        "import pandas as pd\n",
        "import matplotlib.pyplot as plt\n",
        "%matplotlib inline"
      ],
      "execution_count": 89,
      "outputs": []
    },
    {
      "cell_type": "code",
      "source": [
        "to_show = df.groupby('year').sum('quantity').orderBy('year')\n",
        "to_show.show()"
      ],
      "metadata": {
        "colab": {
          "base_uri": "https://localhost:8080/"
        },
        "id": "SqoCPghWN67o",
        "outputId": "4bb62836-55bd-43fa-f751-83d19c5ae544"
      },
      "execution_count": 90,
      "outputs": [
        {
          "output_type": "stream",
          "name": "stdout",
          "text": [
            "+----+--------------------+\n",
            "|year|       sum(quantity)|\n",
            "+----+--------------------+\n",
            "|1990|1.6172598639431156E7|\n",
            "|1991|1.6656581683514554E7|\n",
            "|1992|1.9734901462743163E7|\n",
            "|1993|1.8046340381500974E7|\n",
            "|1994| 1.895855488678089E7|\n",
            "|1995|2.0952462535585817E7|\n",
            "|1996| 2.038595574562607E7|\n",
            "|1997|2.0529557191486493E7|\n",
            "|1998|2.0734970861322317E7|\n",
            "|1999|2.2016055769066684E7|\n",
            "|2000|2.3119359375218023E7|\n",
            "|2001|2.1589586723741326E7|\n",
            "|2002| 2.155341439685983E7|\n",
            "|2003| 2.236178194182669E7|\n",
            "|2004|2.3941556217759468E7|\n",
            "|2005|2.5213453077905595E7|\n",
            "|2006|  2.44970493933163E7|\n",
            "|2007|2.6185737664170697E7|\n",
            "|2008| 2.608039449546209E7|\n",
            "|2009|2.4593789594651073E7|\n",
            "+----+--------------------+\n",
            "only showing top 20 rows\n",
            "\n"
          ]
        }
      ]
    },
    {
      "cell_type": "code",
      "source": [
        "pd_df = to_show.toPandas()\n",
        "pd_df"
      ],
      "metadata": {
        "colab": {
          "base_uri": "https://localhost:8080/",
          "height": 833
        },
        "id": "WoevljHJOVEA",
        "outputId": "d98cfc41-db24-43e9-83ba-b9689ef8db5a"
      },
      "execution_count": 92,
      "outputs": [
        {
          "output_type": "execute_result",
          "data": {
            "text/plain": [
              "    year  sum(quantity)\n",
              "0   1990   1.617260e+07\n",
              "1   1991   1.665658e+07\n",
              "2   1992   1.973490e+07\n",
              "3   1993   1.804634e+07\n",
              "4   1994   1.895855e+07\n",
              "5   1995   2.095246e+07\n",
              "6   1996   2.038596e+07\n",
              "7   1997   2.052956e+07\n",
              "8   1998   2.073497e+07\n",
              "9   1999   2.201606e+07\n",
              "10  2000   2.311936e+07\n",
              "11  2001   2.158959e+07\n",
              "12  2002   2.155341e+07\n",
              "13  2003   2.236178e+07\n",
              "14  2004   2.394156e+07\n",
              "15  2005   2.521345e+07\n",
              "16  2006   2.449705e+07\n",
              "17  2007   2.618574e+07\n",
              "18  2008   2.608039e+07\n",
              "19  2009   2.459379e+07\n",
              "20  2010   3.304729e+07\n",
              "21  2011   3.537582e+07\n",
              "22  2012   3.498685e+07\n",
              "23  2013   3.862504e+07\n",
              "24  2014   3.970548e+07"
            ],
            "text/html": [
              "\n",
              "  <div id=\"df-9ba21e98-c440-4c5a-a2ec-c7a006371996\">\n",
              "    <div class=\"colab-df-container\">\n",
              "      <div>\n",
              "<style scoped>\n",
              "    .dataframe tbody tr th:only-of-type {\n",
              "        vertical-align: middle;\n",
              "    }\n",
              "\n",
              "    .dataframe tbody tr th {\n",
              "        vertical-align: top;\n",
              "    }\n",
              "\n",
              "    .dataframe thead th {\n",
              "        text-align: right;\n",
              "    }\n",
              "</style>\n",
              "<table border=\"1\" class=\"dataframe\">\n",
              "  <thead>\n",
              "    <tr style=\"text-align: right;\">\n",
              "      <th></th>\n",
              "      <th>year</th>\n",
              "      <th>sum(quantity)</th>\n",
              "    </tr>\n",
              "  </thead>\n",
              "  <tbody>\n",
              "    <tr>\n",
              "      <th>0</th>\n",
              "      <td>1990</td>\n",
              "      <td>1.617260e+07</td>\n",
              "    </tr>\n",
              "    <tr>\n",
              "      <th>1</th>\n",
              "      <td>1991</td>\n",
              "      <td>1.665658e+07</td>\n",
              "    </tr>\n",
              "    <tr>\n",
              "      <th>2</th>\n",
              "      <td>1992</td>\n",
              "      <td>1.973490e+07</td>\n",
              "    </tr>\n",
              "    <tr>\n",
              "      <th>3</th>\n",
              "      <td>1993</td>\n",
              "      <td>1.804634e+07</td>\n",
              "    </tr>\n",
              "    <tr>\n",
              "      <th>4</th>\n",
              "      <td>1994</td>\n",
              "      <td>1.895855e+07</td>\n",
              "    </tr>\n",
              "    <tr>\n",
              "      <th>5</th>\n",
              "      <td>1995</td>\n",
              "      <td>2.095246e+07</td>\n",
              "    </tr>\n",
              "    <tr>\n",
              "      <th>6</th>\n",
              "      <td>1996</td>\n",
              "      <td>2.038596e+07</td>\n",
              "    </tr>\n",
              "    <tr>\n",
              "      <th>7</th>\n",
              "      <td>1997</td>\n",
              "      <td>2.052956e+07</td>\n",
              "    </tr>\n",
              "    <tr>\n",
              "      <th>8</th>\n",
              "      <td>1998</td>\n",
              "      <td>2.073497e+07</td>\n",
              "    </tr>\n",
              "    <tr>\n",
              "      <th>9</th>\n",
              "      <td>1999</td>\n",
              "      <td>2.201606e+07</td>\n",
              "    </tr>\n",
              "    <tr>\n",
              "      <th>10</th>\n",
              "      <td>2000</td>\n",
              "      <td>2.311936e+07</td>\n",
              "    </tr>\n",
              "    <tr>\n",
              "      <th>11</th>\n",
              "      <td>2001</td>\n",
              "      <td>2.158959e+07</td>\n",
              "    </tr>\n",
              "    <tr>\n",
              "      <th>12</th>\n",
              "      <td>2002</td>\n",
              "      <td>2.155341e+07</td>\n",
              "    </tr>\n",
              "    <tr>\n",
              "      <th>13</th>\n",
              "      <td>2003</td>\n",
              "      <td>2.236178e+07</td>\n",
              "    </tr>\n",
              "    <tr>\n",
              "      <th>14</th>\n",
              "      <td>2004</td>\n",
              "      <td>2.394156e+07</td>\n",
              "    </tr>\n",
              "    <tr>\n",
              "      <th>15</th>\n",
              "      <td>2005</td>\n",
              "      <td>2.521345e+07</td>\n",
              "    </tr>\n",
              "    <tr>\n",
              "      <th>16</th>\n",
              "      <td>2006</td>\n",
              "      <td>2.449705e+07</td>\n",
              "    </tr>\n",
              "    <tr>\n",
              "      <th>17</th>\n",
              "      <td>2007</td>\n",
              "      <td>2.618574e+07</td>\n",
              "    </tr>\n",
              "    <tr>\n",
              "      <th>18</th>\n",
              "      <td>2008</td>\n",
              "      <td>2.608039e+07</td>\n",
              "    </tr>\n",
              "    <tr>\n",
              "      <th>19</th>\n",
              "      <td>2009</td>\n",
              "      <td>2.459379e+07</td>\n",
              "    </tr>\n",
              "    <tr>\n",
              "      <th>20</th>\n",
              "      <td>2010</td>\n",
              "      <td>3.304729e+07</td>\n",
              "    </tr>\n",
              "    <tr>\n",
              "      <th>21</th>\n",
              "      <td>2011</td>\n",
              "      <td>3.537582e+07</td>\n",
              "    </tr>\n",
              "    <tr>\n",
              "      <th>22</th>\n",
              "      <td>2012</td>\n",
              "      <td>3.498685e+07</td>\n",
              "    </tr>\n",
              "    <tr>\n",
              "      <th>23</th>\n",
              "      <td>2013</td>\n",
              "      <td>3.862504e+07</td>\n",
              "    </tr>\n",
              "    <tr>\n",
              "      <th>24</th>\n",
              "      <td>2014</td>\n",
              "      <td>3.970548e+07</td>\n",
              "    </tr>\n",
              "  </tbody>\n",
              "</table>\n",
              "</div>\n",
              "      <button class=\"colab-df-convert\" onclick=\"convertToInteractive('df-9ba21e98-c440-4c5a-a2ec-c7a006371996')\"\n",
              "              title=\"Convert this dataframe to an interactive table.\"\n",
              "              style=\"display:none;\">\n",
              "        \n",
              "  <svg xmlns=\"http://www.w3.org/2000/svg\" height=\"24px\"viewBox=\"0 0 24 24\"\n",
              "       width=\"24px\">\n",
              "    <path d=\"M0 0h24v24H0V0z\" fill=\"none\"/>\n",
              "    <path d=\"M18.56 5.44l.94 2.06.94-2.06 2.06-.94-2.06-.94-.94-2.06-.94 2.06-2.06.94zm-11 1L8.5 8.5l.94-2.06 2.06-.94-2.06-.94L8.5 2.5l-.94 2.06-2.06.94zm10 10l.94 2.06.94-2.06 2.06-.94-2.06-.94-.94-2.06-.94 2.06-2.06.94z\"/><path d=\"M17.41 7.96l-1.37-1.37c-.4-.4-.92-.59-1.43-.59-.52 0-1.04.2-1.43.59L10.3 9.45l-7.72 7.72c-.78.78-.78 2.05 0 2.83L4 21.41c.39.39.9.59 1.41.59.51 0 1.02-.2 1.41-.59l7.78-7.78 2.81-2.81c.8-.78.8-2.07 0-2.86zM5.41 20L4 18.59l7.72-7.72 1.47 1.35L5.41 20z\"/>\n",
              "  </svg>\n",
              "      </button>\n",
              "      \n",
              "  <style>\n",
              "    .colab-df-container {\n",
              "      display:flex;\n",
              "      flex-wrap:wrap;\n",
              "      gap: 12px;\n",
              "    }\n",
              "\n",
              "    .colab-df-convert {\n",
              "      background-color: #E8F0FE;\n",
              "      border: none;\n",
              "      border-radius: 50%;\n",
              "      cursor: pointer;\n",
              "      display: none;\n",
              "      fill: #1967D2;\n",
              "      height: 32px;\n",
              "      padding: 0 0 0 0;\n",
              "      width: 32px;\n",
              "    }\n",
              "\n",
              "    .colab-df-convert:hover {\n",
              "      background-color: #E2EBFA;\n",
              "      box-shadow: 0px 1px 2px rgba(60, 64, 67, 0.3), 0px 1px 3px 1px rgba(60, 64, 67, 0.15);\n",
              "      fill: #174EA6;\n",
              "    }\n",
              "\n",
              "    [theme=dark] .colab-df-convert {\n",
              "      background-color: #3B4455;\n",
              "      fill: #D2E3FC;\n",
              "    }\n",
              "\n",
              "    [theme=dark] .colab-df-convert:hover {\n",
              "      background-color: #434B5C;\n",
              "      box-shadow: 0px 1px 3px 1px rgba(0, 0, 0, 0.15);\n",
              "      filter: drop-shadow(0px 1px 2px rgba(0, 0, 0, 0.3));\n",
              "      fill: #FFFFFF;\n",
              "    }\n",
              "  </style>\n",
              "\n",
              "      <script>\n",
              "        const buttonEl =\n",
              "          document.querySelector('#df-9ba21e98-c440-4c5a-a2ec-c7a006371996 button.colab-df-convert');\n",
              "        buttonEl.style.display =\n",
              "          google.colab.kernel.accessAllowed ? 'block' : 'none';\n",
              "\n",
              "        async function convertToInteractive(key) {\n",
              "          const element = document.querySelector('#df-9ba21e98-c440-4c5a-a2ec-c7a006371996');\n",
              "          const dataTable =\n",
              "            await google.colab.kernel.invokeFunction('convertToInteractive',\n",
              "                                                     [key], {});\n",
              "          if (!dataTable) return;\n",
              "\n",
              "          const docLinkHtml = 'Like what you see? Visit the ' +\n",
              "            '<a target=\"_blank\" href=https://colab.research.google.com/notebooks/data_table.ipynb>data table notebook</a>'\n",
              "            + ' to learn more about interactive tables.';\n",
              "          element.innerHTML = '';\n",
              "          dataTable['output_type'] = 'display_data';\n",
              "          await google.colab.output.renderOutput(dataTable, element);\n",
              "          const docLink = document.createElement('div');\n",
              "          docLink.innerHTML = docLinkHtml;\n",
              "          element.appendChild(docLink);\n",
              "        }\n",
              "      </script>\n",
              "    </div>\n",
              "  </div>\n",
              "  "
            ]
          },
          "metadata": {},
          "execution_count": 92
        }
      ]
    },
    {
      "cell_type": "code",
      "source": [
        "pd_df['sum(quantity)'].plot()"
      ],
      "metadata": {
        "colab": {
          "base_uri": "https://localhost:8080/",
          "height": 293
        },
        "id": "liefEVTpOnN5",
        "outputId": "1d50c36b-44d4-49f1-80a3-ee476d9cb6ae"
      },
      "execution_count": 94,
      "outputs": [
        {
          "output_type": "execute_result",
          "data": {
            "text/plain": [
              "<matplotlib.axes._subplots.AxesSubplot at 0x7fa6f6f4ddd0>"
            ]
          },
          "metadata": {},
          "execution_count": 94
        },
        {
          "output_type": "display_data",
          "data": {
            "text/plain": [
              "<Figure size 432x288 with 1 Axes>"
            ],
            "image/png": "[encoded data removed]"
          },
          "metadata": {
            "needs_background": "light"
          }
        }
      ]
    },
    {
      "cell_type": "markdown",
      "source": [
        "alternative way"
      ],
      "metadata": {
        "id": "FScmrkjSO4hp"
      }
    },
    {
      "cell_type": "code",
      "metadata": {
        "id": "l7-hNianA7Gb"
      },
      "source": [
        "years = to_show[['year']].collect()\n",
        "sums = to_show[['sum(quantity)']].collect()"
      ],
      "execution_count": 95,
      "outputs": []
    },
    {
      "cell_type": "code",
      "metadata": {
        "id": "rz0NWYznA_nw",
        "colab": {
          "base_uri": "https://localhost:8080/",
          "height": 276
        },
        "outputId": "bf5babfc-0bd7-4f2c-ffd4-78a97e509790"
      },
      "source": [
        "plt.figure()\n",
        "plt.plot(years, sums)\n",
        "plt.show()"
      ],
      "execution_count": 96,
      "outputs": [
        {
          "output_type": "display_data",
          "data": {
            "text/plain": [
              "<Figure size 432x288 with 1 Axes>"
            ],
            "image/png": "[encoded data removed]"
          },
          "metadata": {
            "needs_background": "light"
          }
        }
      ]
    },
    {
      "cell_type": "markdown",
      "metadata": {
        "id": "OA44u9RCDO0W"
      },
      "source": [
        "# Домашнее задание\n",
        "- Скачайте dataset iris https://drive.google.com/file/d/18ksAxTxBkp15LToEg46BHhwp3sPIoeUU/view?usp=sharing\n",
        "- Решите домашнее задание - https://colab.research.google.com/drive/1bFOzJNdQzITORtur_m0utqfDJ0QbGe7D?usp=sharing"
      ]
    },
    {
      "cell_type": "code",
      "source": [
        ""
      ],
      "metadata": {
        "id": "k2t2aA4aO8OI"
      },
      "execution_count": null,
      "outputs": []
    }
  ]
}