{
  "nbformat": 4,
  "nbformat_minor": 0,
  "metadata": {
    "colab": {
      "name": "Копия блокнота \"Шаблон ДЗ ML.ipynb\"",
      "provenance": [],
      "collapsed_sections": []
    },
    "kernelspec": {
      "name": "python3",
      "display_name": "Python 3"
    },
    "language_info": {
      "name": "python"
    }
  },
  "cells": [
    {
      "cell_type": "markdown",
      "metadata": {
        "id": "JsYHMFD1VJ3V"
      },
      "source": [
        "# Предсказываем стоимость мед страховки\n",
        "\n"
      ]
    },
    {
      "cell_type": "markdown",
      "metadata": {
        "id": "VppuD-6-VRPJ"
      },
      "source": [
        "## Загужаем необходимые библиотеки"
      ]
    },
    {
      "cell_type": "code",
      "metadata": {
        "id": "fBSwLD3cTLJH"
      },
      "source": [
        "import pandas as pd\n",
        "from sklearn.linear_model import LinearRegression\n",
        "from sklearn.model_selection import train_test_split\n",
        "from sklearn.metrics import mean_squared_error"
      ],
      "execution_count": null,
      "outputs": []
    },
    {
      "cell_type": "markdown",
      "metadata": {
        "id": "r9boKzHrVafV"
      },
      "source": [
        "## Загружаем данные\n",
        "\n",
        "Собраны данные:\n",
        "- age: возраст\n",
        "- sex: пол\n",
        "- bmi: индекс массы тела\n",
        "- children: количество детей, охваченных медицинским страхованием / количество иждивенцев\n",
        "- smoker: курение\n",
        "- region: регион (northeast, southeast, southwest, northwest).\n",
        "- charges: индивидуальные медицинские расходы (его и хотим предсказать)"
      ]
    },
    {
      "cell_type": "code",
      "metadata": {
        "id": "APHVuRMSUnQD"
      },
      "source": [
        "df=pd.read_csv('insurance.csv', sep=',')"
      ],
      "execution_count": null,
      "outputs": []
    },
    {
      "cell_type": "code",
      "metadata": {
        "colab": {
          "base_uri": "https://localhost:8080/",
          "height": 204
        },
        "id": "iGcc4DvPVf9o",
        "outputId": "36aa96c0-bbaf-46b3-c972-0e8792c28aec"
      },
      "source": [
        "df.head()"
      ],
      "execution_count": null,
      "outputs": [
        {
          "output_type": "execute_result",
          "data": {
            "text/html": [
              "<div>\n",
              "<style scoped>\n",
              "    .dataframe tbody tr th:only-of-type {\n",
              "        vertical-align: middle;\n",
              "    }\n",
              "\n",
              "    .dataframe tbody tr th {\n",
              "        vertical-align: top;\n",
              "    }\n",
              "\n",
              "    .dataframe thead th {\n",
              "        text-align: right;\n",
              "    }\n",
              "</style>\n",
              "<table border=\"1\" class=\"dataframe\">\n",
              "  <thead>\n",
              "    <tr style=\"text-align: right;\">\n",
              "      <th></th>\n",
              "      <th>age</th>\n",
              "      <th>sex</th>\n",
              "      <th>bmi</th>\n",
              "      <th>children</th>\n",
              "      <th>smoker</th>\n",
              "      <th>region</th>\n",
              "      <th>charges</th>\n",
              "    </tr>\n",
              "  </thead>\n",
              "  <tbody>\n",
              "    <tr>\n",
              "      <th>0</th>\n",
              "      <td>19</td>\n",
              "      <td>female</td>\n",
              "      <td>27.900</td>\n",
              "      <td>0</td>\n",
              "      <td>yes</td>\n",
              "      <td>southwest</td>\n",
              "      <td>16884.92400</td>\n",
              "    </tr>\n",
              "    <tr>\n",
              "      <th>1</th>\n",
              "      <td>18</td>\n",
              "      <td>male</td>\n",
              "      <td>33.770</td>\n",
              "      <td>1</td>\n",
              "      <td>no</td>\n",
              "      <td>southeast</td>\n",
              "      <td>1725.55230</td>\n",
              "    </tr>\n",
              "    <tr>\n",
              "      <th>2</th>\n",
              "      <td>28</td>\n",
              "      <td>male</td>\n",
              "      <td>33.000</td>\n",
              "      <td>3</td>\n",
              "      <td>no</td>\n",
              "      <td>southeast</td>\n",
              "      <td>4449.46200</td>\n",
              "    </tr>\n",
              "    <tr>\n",
              "      <th>3</th>\n",
              "      <td>33</td>\n",
              "      <td>male</td>\n",
              "      <td>22.705</td>\n",
              "      <td>0</td>\n",
              "      <td>no</td>\n",
              "      <td>northwest</td>\n",
              "      <td>21984.47061</td>\n",
              "    </tr>\n",
              "    <tr>\n",
              "      <th>4</th>\n",
              "      <td>32</td>\n",
              "      <td>male</td>\n",
              "      <td>28.880</td>\n",
              "      <td>0</td>\n",
              "      <td>no</td>\n",
              "      <td>northwest</td>\n",
              "      <td>3866.85520</td>\n",
              "    </tr>\n",
              "  </tbody>\n",
              "</table>\n",
              "</div>"
            ],
            "text/plain": [
              "   age     sex     bmi  children smoker     region      charges\n",
              "0   19  female  27.900         0    yes  southwest  16884.92400\n",
              "1   18    male  33.770         1     no  southeast   1725.55230\n",
              "2   28    male  33.000         3     no  southeast   4449.46200\n",
              "3   33    male  22.705         0     no  northwest  21984.47061\n",
              "4   32    male  28.880         0     no  northwest   3866.85520"
            ]
          },
          "metadata": {},
          "execution_count": 36
        }
      ]
    },
    {
      "cell_type": "markdown",
      "metadata": {
        "id": "-pzxLlvWWZ-S"
      },
      "source": [
        "## Смотрим статистику, что нет пропусков и отсуствующих значений"
      ]
    },
    {
      "cell_type": "code",
      "metadata": {
        "colab": {
          "base_uri": "https://localhost:8080/"
        },
        "id": "l8q8x0y8197G",
        "outputId": "db3277be-191d-489a-8f9f-1ee7b819854c"
      },
      "source": [
        "df.info()"
      ],
      "execution_count": null,
      "outputs": [
        {
          "output_type": "stream",
          "name": "stdout",
          "text": [
            "<class 'pandas.core.frame.DataFrame'>\n",
            "RangeIndex: 172 entries, 0 to 171\n",
            "Columns: 712 entries, <!DOCTYPE html><html><head><meta name=\"google\" content=\"notranslate\"><meta http-equiv=\"X-UA-Compatible\" content=\"IE=edge;\"><style nonce=\"GgnW7B4oDweN3oMyXPrDzw\">@font-face{font-family:'Roboto';font-style:italic;font-weight:400;src:url(//fonts.gstatic.com/s/roboto/v18/KFOkCnqEu92Fr1Mu51xIIzc.ttf)format('truetype');}@font-face{font-family:'Roboto';font-style:normal;font-weight:300;src:url(//fonts.gstatic.com/s/roboto/v18/KFOlCnqEu92Fr1MmSU5fBBc9.ttf)format('truetype');}@font-face{font-family:'Roboto';font-style:normal;font-weight:400;src:url(//fonts.gstatic.com/s/roboto/v18/KFOmCnqEu92Fr1Mu4mxP.ttf)format('truetype');}@font-face{font-family:'Roboto';font-style:normal;font-weight:700;src:url(//fonts.gstatic.com/s/roboto/v18/KFOlCnqEu92Fr1MmWUlfBBc9.ttf)format('truetype');}</style><meta name=\"referrer\" content=\"origin\"><title>insurance.csv - Google Drive</title><meta property=\"og:title\" content=\"insurance.csv\"><meta property=\"og:type\" content=\"article\"><meta property=\"og:site_name\" content=\"Google Docs\"><meta property=\"og:url\" content=\"https://drive.google.com/file/d/1q6BQutG8p8gQq2pTmtKt6n0966xAtsky/edit?usp=embed_facebook\"><link rel=\"shortcut icon\" href=\"https://ssl.gstatic.com/images/branding/product/1x/drive_2020q4_32dp.png\"><link rel=\"stylesheet\" href=\"https://fonts.googleapis.com/css?family=Google+Sans:300 to };this.gbar_=this.gbar_||{};(function(_){var window=this;\n",
            "dtypes: float64(512), object(200)\n",
            "memory usage: 956.9+ KB\n"
          ]
        }
      ]
    },
    {
      "cell_type": "code",
      "metadata": {
        "colab": {
          "base_uri": "https://localhost:8080/",
          "height": 297
        },
        "id": "qR07UV-sVgi7",
        "outputId": "bd5fabf5-cbb3-4bda-868b-45f77072a913"
      },
      "source": [
        "df.describe()"
      ],
      "execution_count": null,
      "outputs": [
        {
          "output_type": "execute_result",
          "data": {
            "text/html": [
              "<div>\n",
              "<style scoped>\n",
              "    .dataframe tbody tr th:only-of-type {\n",
              "        vertical-align: middle;\n",
              "    }\n",
              "\n",
              "    .dataframe tbody tr th {\n",
              "        vertical-align: top;\n",
              "    }\n",
              "\n",
              "    .dataframe thead th {\n",
              "        text-align: right;\n",
              "    }\n",
              "</style>\n",
              "<table border=\"1\" class=\"dataframe\">\n",
              "  <thead>\n",
              "    <tr style=\"text-align: right;\">\n",
              "      <th></th>\n",
              "      <th>age</th>\n",
              "      <th>bmi</th>\n",
              "      <th>children</th>\n",
              "      <th>charges</th>\n",
              "    </tr>\n",
              "  </thead>\n",
              "  <tbody>\n",
              "    <tr>\n",
              "      <th>count</th>\n",
              "      <td>1338.000000</td>\n",
              "      <td>1338.000000</td>\n",
              "      <td>1338.000000</td>\n",
              "      <td>1338.000000</td>\n",
              "    </tr>\n",
              "    <tr>\n",
              "      <th>mean</th>\n",
              "      <td>39.207025</td>\n",
              "      <td>30.663397</td>\n",
              "      <td>1.094918</td>\n",
              "      <td>13270.422265</td>\n",
              "    </tr>\n",
              "    <tr>\n",
              "      <th>std</th>\n",
              "      <td>14.049960</td>\n",
              "      <td>6.098187</td>\n",
              "      <td>1.205493</td>\n",
              "      <td>12110.011237</td>\n",
              "    </tr>\n",
              "    <tr>\n",
              "      <th>min</th>\n",
              "      <td>18.000000</td>\n",
              "      <td>15.960000</td>\n",
              "      <td>0.000000</td>\n",
              "      <td>1121.873900</td>\n",
              "    </tr>\n",
              "    <tr>\n",
              "      <th>25%</th>\n",
              "      <td>27.000000</td>\n",
              "      <td>26.296250</td>\n",
              "      <td>0.000000</td>\n",
              "      <td>4740.287150</td>\n",
              "    </tr>\n",
              "    <tr>\n",
              "      <th>50%</th>\n",
              "      <td>39.000000</td>\n",
              "      <td>30.400000</td>\n",
              "      <td>1.000000</td>\n",
              "      <td>9382.033000</td>\n",
              "    </tr>\n",
              "    <tr>\n",
              "      <th>75%</th>\n",
              "      <td>51.000000</td>\n",
              "      <td>34.693750</td>\n",
              "      <td>2.000000</td>\n",
              "      <td>16639.912515</td>\n",
              "    </tr>\n",
              "    <tr>\n",
              "      <th>max</th>\n",
              "      <td>64.000000</td>\n",
              "      <td>53.130000</td>\n",
              "      <td>5.000000</td>\n",
              "      <td>63770.428010</td>\n",
              "    </tr>\n",
              "  </tbody>\n",
              "</table>\n",
              "</div>"
            ],
            "text/plain": [
              "               age          bmi     children       charges\n",
              "count  1338.000000  1338.000000  1338.000000   1338.000000\n",
              "mean     39.207025    30.663397     1.094918  13270.422265\n",
              "std      14.049960     6.098187     1.205493  12110.011237\n",
              "min      18.000000    15.960000     0.000000   1121.873900\n",
              "25%      27.000000    26.296250     0.000000   4740.287150\n",
              "50%      39.000000    30.400000     1.000000   9382.033000\n",
              "75%      51.000000    34.693750     2.000000  16639.912515\n",
              "max      64.000000    53.130000     5.000000  63770.428010"
            ]
          },
          "metadata": {},
          "execution_count": 37
        }
      ]
    },
    {
      "cell_type": "markdown",
      "metadata": {
        "id": "LyZlsF9413r-"
      },
      "source": [
        "## Преобразуем строковые данные"
      ]
    },
    {
      "cell_type": "code",
      "metadata": {
        "id": "RJvGFn-u16MZ"
      },
      "source": [
        "# Заменяем пол и курение на числа\n",
        "df['sex']=df['sex'].map({'male':1, 'female':0})\n",
        "df['smoker']=df['smoker'].map({'yes':1,'no':0})"
      ],
      "execution_count": null,
      "outputs": []
    },
    {
      "cell_type": "code",
      "metadata": {
        "colab": {
          "base_uri": "https://localhost:8080/",
          "height": 204
        },
        "id": "-Oxii2Tr2HWE",
        "outputId": "952a7db1-aece-4295-a9e5-9205a2d894af"
      },
      "source": [
        "df.head()"
      ],
      "execution_count": null,
      "outputs": [
        {
          "output_type": "execute_result",
          "data": {
            "text/html": [
              "<div>\n",
              "<style scoped>\n",
              "    .dataframe tbody tr th:only-of-type {\n",
              "        vertical-align: middle;\n",
              "    }\n",
              "\n",
              "    .dataframe tbody tr th {\n",
              "        vertical-align: top;\n",
              "    }\n",
              "\n",
              "    .dataframe thead th {\n",
              "        text-align: right;\n",
              "    }\n",
              "</style>\n",
              "<table border=\"1\" class=\"dataframe\">\n",
              "  <thead>\n",
              "    <tr style=\"text-align: right;\">\n",
              "      <th></th>\n",
              "      <th>age</th>\n",
              "      <th>sex</th>\n",
              "      <th>bmi</th>\n",
              "      <th>children</th>\n",
              "      <th>smoker</th>\n",
              "      <th>region</th>\n",
              "      <th>charges</th>\n",
              "    </tr>\n",
              "  </thead>\n",
              "  <tbody>\n",
              "    <tr>\n",
              "      <th>0</th>\n",
              "      <td>19</td>\n",
              "      <td>0</td>\n",
              "      <td>27.900</td>\n",
              "      <td>0</td>\n",
              "      <td>1</td>\n",
              "      <td>southwest</td>\n",
              "      <td>16884.92400</td>\n",
              "    </tr>\n",
              "    <tr>\n",
              "      <th>1</th>\n",
              "      <td>18</td>\n",
              "      <td>1</td>\n",
              "      <td>33.770</td>\n",
              "      <td>1</td>\n",
              "      <td>0</td>\n",
              "      <td>southeast</td>\n",
              "      <td>1725.55230</td>\n",
              "    </tr>\n",
              "    <tr>\n",
              "      <th>2</th>\n",
              "      <td>28</td>\n",
              "      <td>1</td>\n",
              "      <td>33.000</td>\n",
              "      <td>3</td>\n",
              "      <td>0</td>\n",
              "      <td>southeast</td>\n",
              "      <td>4449.46200</td>\n",
              "    </tr>\n",
              "    <tr>\n",
              "      <th>3</th>\n",
              "      <td>33</td>\n",
              "      <td>1</td>\n",
              "      <td>22.705</td>\n",
              "      <td>0</td>\n",
              "      <td>0</td>\n",
              "      <td>northwest</td>\n",
              "      <td>21984.47061</td>\n",
              "    </tr>\n",
              "    <tr>\n",
              "      <th>4</th>\n",
              "      <td>32</td>\n",
              "      <td>1</td>\n",
              "      <td>28.880</td>\n",
              "      <td>0</td>\n",
              "      <td>0</td>\n",
              "      <td>northwest</td>\n",
              "      <td>3866.85520</td>\n",
              "    </tr>\n",
              "  </tbody>\n",
              "</table>\n",
              "</div>"
            ],
            "text/plain": [
              "   age  sex     bmi  children  smoker     region      charges\n",
              "0   19    0  27.900         0       1  southwest  16884.92400\n",
              "1   18    1  33.770         1       0  southeast   1725.55230\n",
              "2   28    1  33.000         3       0  southeast   4449.46200\n",
              "3   33    1  22.705         0       0  northwest  21984.47061\n",
              "4   32    1  28.880         0       0  northwest   3866.85520"
            ]
          },
          "metadata": {},
          "execution_count": 39
        }
      ]
    },
    {
      "cell_type": "code",
      "metadata": {
        "colab": {
          "base_uri": "https://localhost:8080/",
          "height": 204
        },
        "id": "WOjwR3Gi2JoV",
        "outputId": "6a1d85b9-dc98-4183-a958-b567993eeceb"
      },
      "source": [
        "# Заменяем регион на набор отдельных колонок (is_southwest, is_southeast и тп)\n",
        "df = pd.get_dummies(df, columns=['region'])\n",
        "df.head()"
      ],
      "execution_count": null,
      "outputs": [
        {
          "output_type": "execute_result",
          "data": {
            "text/html": [
              "<div>\n",
              "<style scoped>\n",
              "    .dataframe tbody tr th:only-of-type {\n",
              "        vertical-align: middle;\n",
              "    }\n",
              "\n",
              "    .dataframe tbody tr th {\n",
              "        vertical-align: top;\n",
              "    }\n",
              "\n",
              "    .dataframe thead th {\n",
              "        text-align: right;\n",
              "    }\n",
              "</style>\n",
              "<table border=\"1\" class=\"dataframe\">\n",
              "  <thead>\n",
              "    <tr style=\"text-align: right;\">\n",
              "      <th></th>\n",
              "      <th>age</th>\n",
              "      <th>sex</th>\n",
              "      <th>bmi</th>\n",
              "      <th>children</th>\n",
              "      <th>smoker</th>\n",
              "      <th>charges</th>\n",
              "      <th>region_northeast</th>\n",
              "      <th>region_northwest</th>\n",
              "      <th>region_southeast</th>\n",
              "      <th>region_southwest</th>\n",
              "    </tr>\n",
              "  </thead>\n",
              "  <tbody>\n",
              "    <tr>\n",
              "      <th>0</th>\n",
              "      <td>19</td>\n",
              "      <td>0</td>\n",
              "      <td>27.900</td>\n",
              "      <td>0</td>\n",
              "      <td>1</td>\n",
              "      <td>16884.92400</td>\n",
              "      <td>0</td>\n",
              "      <td>0</td>\n",
              "      <td>0</td>\n",
              "      <td>1</td>\n",
              "    </tr>\n",
              "    <tr>\n",
              "      <th>1</th>\n",
              "      <td>18</td>\n",
              "      <td>1</td>\n",
              "      <td>33.770</td>\n",
              "      <td>1</td>\n",
              "      <td>0</td>\n",
              "      <td>1725.55230</td>\n",
              "      <td>0</td>\n",
              "      <td>0</td>\n",
              "      <td>1</td>\n",
              "      <td>0</td>\n",
              "    </tr>\n",
              "    <tr>\n",
              "      <th>2</th>\n",
              "      <td>28</td>\n",
              "      <td>1</td>\n",
              "      <td>33.000</td>\n",
              "      <td>3</td>\n",
              "      <td>0</td>\n",
              "      <td>4449.46200</td>\n",
              "      <td>0</td>\n",
              "      <td>0</td>\n",
              "      <td>1</td>\n",
              "      <td>0</td>\n",
              "    </tr>\n",
              "    <tr>\n",
              "      <th>3</th>\n",
              "      <td>33</td>\n",
              "      <td>1</td>\n",
              "      <td>22.705</td>\n",
              "      <td>0</td>\n",
              "      <td>0</td>\n",
              "      <td>21984.47061</td>\n",
              "      <td>0</td>\n",
              "      <td>1</td>\n",
              "      <td>0</td>\n",
              "      <td>0</td>\n",
              "    </tr>\n",
              "    <tr>\n",
              "      <th>4</th>\n",
              "      <td>32</td>\n",
              "      <td>1</td>\n",
              "      <td>28.880</td>\n",
              "      <td>0</td>\n",
              "      <td>0</td>\n",
              "      <td>3866.85520</td>\n",
              "      <td>0</td>\n",
              "      <td>1</td>\n",
              "      <td>0</td>\n",
              "      <td>0</td>\n",
              "    </tr>\n",
              "  </tbody>\n",
              "</table>\n",
              "</div>"
            ],
            "text/plain": [
              "   age  sex     bmi  ...  region_northwest  region_southeast  region_southwest\n",
              "0   19    0  27.900  ...                 0                 0                 1\n",
              "1   18    1  33.770  ...                 0                 1                 0\n",
              "2   28    1  33.000  ...                 0                 1                 0\n",
              "3   33    1  22.705  ...                 1                 0                 0\n",
              "4   32    1  28.880  ...                 1                 0                 0\n",
              "\n",
              "[5 rows x 10 columns]"
            ]
          },
          "metadata": {},
          "execution_count": 40
        }
      ]
    },
    {
      "cell_type": "markdown",
      "metadata": {
        "id": "kIeBuYJTWv6Q"
      },
      "source": [
        "## Формируем признаки и целевую переменную"
      ]
    },
    {
      "cell_type": "code",
      "metadata": {
        "id": "f5DZDaJEWygm",
        "colab": {
          "base_uri": "https://localhost:8080/"
        },
        "outputId": "c5f273df-9bbe-4a95-8c18-cc0b1dfc29a1"
      },
      "source": [
        "## Сформируйте признаки и целевую переменную\n",
        "df.columns"
      ],
      "execution_count": null,
      "outputs": [
        {
          "output_type": "execute_result",
          "data": {
            "text/plain": [
              "Index(['age', 'sex', 'bmi', 'children', 'smoker', 'charges',\n",
              "       'region_northeast', 'region_northwest', 'region_southeast',\n",
              "       'region_southwest'],\n",
              "      dtype='object')"
            ]
          },
          "metadata": {},
          "execution_count": 42
        }
      ]
    },
    {
      "cell_type": "code",
      "metadata": {
        "id": "dFHL5omIWzur",
        "colab": {
          "base_uri": "https://localhost:8080/",
          "height": 419
        },
        "outputId": "a10bd3f6-110a-4560-b312-924526bc9452"
      },
      "source": [
        "X=df[['age','bmi','sex','children','smoker','region_northeast','region_northwest','region_southeast','region_southwest']]\n",
        "y=df['charges']\n",
        "X"
      ],
      "execution_count": null,
      "outputs": [
        {
          "output_type": "execute_result",
          "data": {
            "text/html": [
              "<div>\n",
              "<style scoped>\n",
              "    .dataframe tbody tr th:only-of-type {\n",
              "        vertical-align: middle;\n",
              "    }\n",
              "\n",
              "    .dataframe tbody tr th {\n",
              "        vertical-align: top;\n",
              "    }\n",
              "\n",
              "    .dataframe thead th {\n",
              "        text-align: right;\n",
              "    }\n",
              "</style>\n",
              "<table border=\"1\" class=\"dataframe\">\n",
              "  <thead>\n",
              "    <tr style=\"text-align: right;\">\n",
              "      <th></th>\n",
              "      <th>age</th>\n",
              "      <th>bmi</th>\n",
              "      <th>sex</th>\n",
              "      <th>children</th>\n",
              "      <th>smoker</th>\n",
              "      <th>region_northeast</th>\n",
              "      <th>region_northwest</th>\n",
              "      <th>region_southeast</th>\n",
              "      <th>region_southwest</th>\n",
              "    </tr>\n",
              "  </thead>\n",
              "  <tbody>\n",
              "    <tr>\n",
              "      <th>0</th>\n",
              "      <td>19</td>\n",
              "      <td>27.900</td>\n",
              "      <td>0</td>\n",
              "      <td>0</td>\n",
              "      <td>1</td>\n",
              "      <td>0</td>\n",
              "      <td>0</td>\n",
              "      <td>0</td>\n",
              "      <td>1</td>\n",
              "    </tr>\n",
              "    <tr>\n",
              "      <th>1</th>\n",
              "      <td>18</td>\n",
              "      <td>33.770</td>\n",
              "      <td>1</td>\n",
              "      <td>1</td>\n",
              "      <td>0</td>\n",
              "      <td>0</td>\n",
              "      <td>0</td>\n",
              "      <td>1</td>\n",
              "      <td>0</td>\n",
              "    </tr>\n",
              "    <tr>\n",
              "      <th>2</th>\n",
              "      <td>28</td>\n",
              "      <td>33.000</td>\n",
              "      <td>1</td>\n",
              "      <td>3</td>\n",
              "      <td>0</td>\n",
              "      <td>0</td>\n",
              "      <td>0</td>\n",
              "      <td>1</td>\n",
              "      <td>0</td>\n",
              "    </tr>\n",
              "    <tr>\n",
              "      <th>3</th>\n",
              "      <td>33</td>\n",
              "      <td>22.705</td>\n",
              "      <td>1</td>\n",
              "      <td>0</td>\n",
              "      <td>0</td>\n",
              "      <td>0</td>\n",
              "      <td>1</td>\n",
              "      <td>0</td>\n",
              "      <td>0</td>\n",
              "    </tr>\n",
              "    <tr>\n",
              "      <th>4</th>\n",
              "      <td>32</td>\n",
              "      <td>28.880</td>\n",
              "      <td>1</td>\n",
              "      <td>0</td>\n",
              "      <td>0</td>\n",
              "      <td>0</td>\n",
              "      <td>1</td>\n",
              "      <td>0</td>\n",
              "      <td>0</td>\n",
              "    </tr>\n",
              "    <tr>\n",
              "      <th>...</th>\n",
              "      <td>...</td>\n",
              "      <td>...</td>\n",
              "      <td>...</td>\n",
              "      <td>...</td>\n",
              "      <td>...</td>\n",
              "      <td>...</td>\n",
              "      <td>...</td>\n",
              "      <td>...</td>\n",
              "      <td>...</td>\n",
              "    </tr>\n",
              "    <tr>\n",
              "      <th>1333</th>\n",
              "      <td>50</td>\n",
              "      <td>30.970</td>\n",
              "      <td>1</td>\n",
              "      <td>3</td>\n",
              "      <td>0</td>\n",
              "      <td>0</td>\n",
              "      <td>1</td>\n",
              "      <td>0</td>\n",
              "      <td>0</td>\n",
              "    </tr>\n",
              "    <tr>\n",
              "      <th>1334</th>\n",
              "      <td>18</td>\n",
              "      <td>31.920</td>\n",
              "      <td>0</td>\n",
              "      <td>0</td>\n",
              "      <td>0</td>\n",
              "      <td>1</td>\n",
              "      <td>0</td>\n",
              "      <td>0</td>\n",
              "      <td>0</td>\n",
              "    </tr>\n",
              "    <tr>\n",
              "      <th>1335</th>\n",
              "      <td>18</td>\n",
              "      <td>36.850</td>\n",
              "      <td>0</td>\n",
              "      <td>0</td>\n",
              "      <td>0</td>\n",
              "      <td>0</td>\n",
              "      <td>0</td>\n",
              "      <td>1</td>\n",
              "      <td>0</td>\n",
              "    </tr>\n",
              "    <tr>\n",
              "      <th>1336</th>\n",
              "      <td>21</td>\n",
              "      <td>25.800</td>\n",
              "      <td>0</td>\n",
              "      <td>0</td>\n",
              "      <td>0</td>\n",
              "      <td>0</td>\n",
              "      <td>0</td>\n",
              "      <td>0</td>\n",
              "      <td>1</td>\n",
              "    </tr>\n",
              "    <tr>\n",
              "      <th>1337</th>\n",
              "      <td>61</td>\n",
              "      <td>29.070</td>\n",
              "      <td>0</td>\n",
              "      <td>0</td>\n",
              "      <td>1</td>\n",
              "      <td>0</td>\n",
              "      <td>1</td>\n",
              "      <td>0</td>\n",
              "      <td>0</td>\n",
              "    </tr>\n",
              "  </tbody>\n",
              "</table>\n",
              "<p>1338 rows × 9 columns</p>\n",
              "</div>"
            ],
            "text/plain": [
              "      age     bmi  sex  ...  region_northwest  region_southeast  region_southwest\n",
              "0      19  27.900    0  ...                 0                 0                 1\n",
              "1      18  33.770    1  ...                 0                 1                 0\n",
              "2      28  33.000    1  ...                 0                 1                 0\n",
              "3      33  22.705    1  ...                 1                 0                 0\n",
              "4      32  28.880    1  ...                 1                 0                 0\n",
              "...   ...     ...  ...  ...               ...               ...               ...\n",
              "1333   50  30.970    1  ...                 1                 0                 0\n",
              "1334   18  31.920    0  ...                 0                 0                 0\n",
              "1335   18  36.850    0  ...                 0                 1                 0\n",
              "1336   21  25.800    0  ...                 0                 0                 1\n",
              "1337   61  29.070    0  ...                 1                 0                 0\n",
              "\n",
              "[1338 rows x 9 columns]"
            ]
          },
          "metadata": {},
          "execution_count": 44
        }
      ]
    },
    {
      "cell_type": "code",
      "metadata": {
        "colab": {
          "base_uri": "https://localhost:8080/"
        },
        "id": "-sNAgCbwlQlv",
        "outputId": "6e007d3b-56d4-4493-ef75-628b5f0439ca"
      },
      "source": [
        "y"
      ],
      "execution_count": null,
      "outputs": [
        {
          "output_type": "execute_result",
          "data": {
            "text/plain": [
              "0       16884.92400\n",
              "1        1725.55230\n",
              "2        4449.46200\n",
              "3       21984.47061\n",
              "4        3866.85520\n",
              "           ...     \n",
              "1333    10600.54830\n",
              "1334     2205.98080\n",
              "1335     1629.83350\n",
              "1336     2007.94500\n",
              "1337    29141.36030\n",
              "Name: charges, Length: 1338, dtype: float64"
            ]
          },
          "metadata": {},
          "execution_count": 45
        }
      ]
    },
    {
      "cell_type": "markdown",
      "metadata": {
        "id": "IdWsgcmeWgb5"
      },
      "source": [
        "## Разделяем данные на выборку для обучения/проверки"
      ]
    },
    {
      "cell_type": "code",
      "metadata": {
        "id": "BSLwWV8ZWexo"
      },
      "source": [
        "X_train, X_test, y_train, y_test=train_test_split(X,y,test_size=0.2)"
      ],
      "execution_count": null,
      "outputs": []
    },
    {
      "cell_type": "code",
      "metadata": {
        "colab": {
          "base_uri": "https://localhost:8080/"
        },
        "id": "UwlZ6Outt_BJ",
        "outputId": "d90af31c-7cd9-43a4-9d11-02a2ab7ed177"
      },
      "source": [
        "print(X_train, X_test, y_train, y_test)"
      ],
      "execution_count": null,
      "outputs": [
        {
          "output_type": "stream",
          "name": "stdout",
          "text": [
            "      age     bmi  sex  ...  region_northwest  region_southeast  region_southwest\n",
            "1256   51  36.385    0  ...                 1                 0                 0\n",
            "264    53  38.060    0  ...                 0                 1                 0\n",
            "318    44  27.645    0  ...                 1                 0                 0\n",
            "323    57  40.945    1  ...                 0                 0                 0\n",
            "211    40  30.875    1  ...                 1                 0                 0\n",
            "...   ...     ...  ...  ...               ...               ...               ...\n",
            "637    35  38.095    0  ...                 0                 0                 0\n",
            "322    34  30.800    1  ...                 0                 0                 1\n",
            "260    58  25.200    0  ...                 0                 0                 1\n",
            "314    27  31.400    0  ...                 0                 0                 1\n",
            "1046   43  25.080    0  ...                 0                 0                 0\n",
            "\n",
            "[1070 rows x 9 columns]       age     bmi  sex  ...  region_northwest  region_southeast  region_southwest\n",
            "173    35  34.800    0  ...                 0                 0                 1\n",
            "672    36  29.700    1  ...                 0                 1                 0\n",
            "512    51  22.420    1  ...                 0                 0                 0\n",
            "844    53  30.495    1  ...                 0                 0                 0\n",
            "1040   35  28.025    0  ...                 1                 0                 0\n",
            "...   ...     ...  ...  ...               ...               ...               ...\n",
            "883    51  37.050    0  ...                 0                 0                 0\n",
            "1153   35  35.815    0  ...                 1                 0                 0\n",
            "1081   32  27.835    1  ...                 1                 0                 0\n",
            "855    20  29.600    0  ...                 0                 0                 1\n",
            "506    22  31.350    1  ...                 1                 0                 0\n",
            "\n",
            "[268 rows x 9 columns] 1256    11436.73815\n",
            "264     20462.99766\n",
            "318      7421.19455\n",
            "323     11566.30055\n",
            "211      8162.71625\n",
            "           ...     \n",
            "637     24915.04626\n",
            "322     35491.64000\n",
            "260     11837.16000\n",
            "314     34838.87300\n",
            "1046     7325.04820\n",
            "Name: charges, Length: 1070, dtype: float64 173      5246.04700\n",
            "672      4399.73100\n",
            "512      9361.32680\n",
            "844     10072.05505\n",
            "1040    20234.85475\n",
            "           ...     \n",
            "883     46255.11250\n",
            "1153     5630.45785\n",
            "1081     4454.40265\n",
            "855      1875.34400\n",
            "506      2643.26850\n",
            "Name: charges, Length: 268, dtype: float64\n"
          ]
        }
      ]
    },
    {
      "cell_type": "markdown",
      "metadata": {
        "id": "DqSI5M-UW9-K"
      },
      "source": [
        "## Создаем и обучаем модель линейной регресии"
      ]
    },
    {
      "cell_type": "code",
      "metadata": {
        "colab": {
          "base_uri": "https://localhost:8080/"
        },
        "id": "rcFwyjbOW8ep",
        "outputId": "30fd831b-91e3-4c98-dbd9-04d87ef58939"
      },
      "source": [
        "LinearRegression(copy_X=True, fit_intercept=True, n_jobs=None, normalize=False)# Создайте и обучите модель"
      ],
      "execution_count": null,
      "outputs": [
        {
          "output_type": "execute_result",
          "data": {
            "text/plain": [
              "LinearRegression(copy_X=True, fit_intercept=True, n_jobs=None, normalize=False)"
            ]
          },
          "metadata": {},
          "execution_count": 52
        }
      ]
    },
    {
      "cell_type": "code",
      "metadata": {
        "id": "9TLwvh1GvqdJ"
      },
      "source": [
        "lr=LinearRegression()"
      ],
      "execution_count": null,
      "outputs": []
    },
    {
      "cell_type": "code",
      "metadata": {
        "colab": {
          "base_uri": "https://localhost:8080/"
        },
        "id": "BEvmqle9vCif",
        "outputId": "64edee23-fded-4dc3-ea30-5c89fde76849"
      },
      "source": [
        "lr.fit(X_train,y_train)"
      ],
      "execution_count": null,
      "outputs": [
        {
          "output_type": "execute_result",
          "data": {
            "text/plain": [
              "LinearRegression(copy_X=True, fit_intercept=True, n_jobs=None, normalize=False)"
            ]
          },
          "metadata": {},
          "execution_count": 63
        }
      ]
    },
    {
      "cell_type": "code",
      "metadata": {
        "colab": {
          "base_uri": "https://localhost:8080/"
        },
        "id": "bt4cvd9Qvz0w",
        "outputId": "93b5d846-09ef-46b8-cb1a-1503520de1b9"
      },
      "source": [
        "lr.coef_"
      ],
      "execution_count": null,
      "outputs": [
        {
          "output_type": "execute_result",
          "data": {
            "text/plain": [
              "array([  249.44177915,   327.69153228,    44.60848241,   607.67414276,\n",
              "       23853.28594916,   427.23419219,   303.2141223 ,  -342.24013796,\n",
              "        -388.20817653])"
            ]
          },
          "metadata": {},
          "execution_count": 64
        }
      ]
    },
    {
      "cell_type": "markdown",
      "metadata": {
        "id": "BodvxJhTXGCE"
      },
      "source": [
        "## Получаем предсказание и оцениваем качество"
      ]
    },
    {
      "cell_type": "code",
      "metadata": {
        "id": "j4nP_m7rXDZG",
        "colab": {
          "base_uri": "https://localhost:8080/"
        },
        "outputId": "b5dedb73-c63a-4c16-d86f-f0326b3a5b3d"
      },
      "source": [
        "lr.predict(X_test)# Получите предсказание"
      ],
      "execution_count": null,
      "outputs": [
        {
          "output_type": "execute_result",
          "data": {
            "text/plain": [
              "array([ 8266.47159808,  6327.58894084,  8453.0956032 , 11598.08828462,\n",
              "       29983.39557214, 31902.91728946, 13641.72019062,  3789.65395312,\n",
              "        4472.777557  , 31900.8922332 ,   970.80367039,  9556.30790314,\n",
              "       35504.32454033, 12174.61535285,  1249.72877206, 10461.25483182,\n",
              "        3622.23042365,  4644.8491641 , 10254.53639863, 10038.15658711,\n",
              "        8974.92877123, 11509.10069431, 35638.96174289, 11238.55944945,\n",
              "       37364.06401071,  9684.62527101, 37420.76686143,  9844.67830797,\n",
              "       12876.53652612, 11473.50514021,  6303.82860312, 36811.31948117,\n",
              "        1223.86289916, 13361.66680726, 11742.64126331,  5673.73037259,\n",
              "       13483.30958945, 13797.69026612,   917.10119094, 37214.5565418 ,\n",
              "        8922.88728172, 14838.91007328,  5599.45873996,  8095.3681044 ,\n",
              "        8979.25420866,  4604.62178074, 30599.85544093, 13623.67106728,\n",
              "        9744.88069934, 29755.56619771, 10910.21227759, 10610.63872336,\n",
              "       39191.52471271, 34175.97715715,  8696.66401067, 11086.55301249,\n",
              "       12688.39469652, 27404.63084499, 11776.23864197, 10257.54918746,\n",
              "        5770.47779222, 10992.53820954, 12866.40547143,  7004.55898012,\n",
              "        3870.14770648, 11182.34847595,  1898.20625048,  5418.52719203,\n",
              "        4410.47831632, 10654.11630367, 30587.20085423,  8738.81289671,\n",
              "        4793.18860476,  5352.86742991, 12485.76834518,  8465.4308818 ,\n",
              "       38643.61299303, 26027.37596435, 35881.81683937, 31057.63393378,\n",
              "        3526.04073666,  7985.34274047,  6584.17656729, 10990.08044183,\n",
              "        5404.87435033, 14421.59096964, 39025.8776102 , 34940.50025585,\n",
              "        2029.2713276 , 39906.79864365,  9143.36774611, 12522.99622331,\n",
              "        5571.69419268, 10465.80207035,  1626.01025901, 32022.75746559,\n",
              "       10368.28169801, 28576.10198381, 30965.38435531, 15813.34949326,\n",
              "        5975.2045912 , 29142.25767282,   831.84165971, 12623.1186879 ,\n",
              "       11903.8007701 ,  6029.47917543,  7996.1556752 , 11428.56080534,\n",
              "       29214.06970909,  9994.46341067, 10495.60137993, 11929.53193447,\n",
              "        3581.26085848,  2698.49474984,  7798.95693412,  9235.43170759,\n",
              "       13724.55845097, 34906.58922371, 11596.80334885, 13023.41730608,\n",
              "       35951.05022131, -1126.70311878, 11587.09428324,  2518.9605444 ,\n",
              "       15272.92965045,  6391.79656194,  9413.22702091, 13832.44049242,\n",
              "        5971.40930496,  9563.4069142 ,  6396.49077517,  9267.46680362,\n",
              "        4026.48164329,  5076.00308959, 13282.65141459, 15276.43394918,\n",
              "        9529.90904566,  6232.80302488,  6327.59808091, 10146.82429485,\n",
              "        7266.74385959,  1892.82952789, 32104.70374601,  6056.28223758,\n",
              "        3979.71434121, 10444.73219588, 10914.91332509, 13869.41904062,\n",
              "       11101.97822864, 14699.03771061,  8215.54890486, 11127.37917645,\n",
              "       27163.81320253, 13194.33457315, 28979.03677537, 36634.3406653 ,\n",
              "        7753.47355247,  1998.84653873, 27088.30339906,  2607.47995084,\n",
              "        9156.368209  , 33282.07703729, 17007.0393731 ,   354.63908304,\n",
              "        4020.46765117, 27755.66853493,  9418.25581595, 10804.36760013,\n",
              "       36677.96363889, 12410.36636942, 11917.42075979,  9417.46338672,\n",
              "         358.04451299, 28421.11099952,  6283.6852371 ,  6252.5448344 ,\n",
              "        3932.51559538, 27989.30883874, 30024.2442487 ,  5844.97479846,\n",
              "       13252.48000817,  6234.89192567, 24405.05784654, 11585.79914163,\n",
              "        6980.83997542,  5502.23842389, 26821.35145333,  3045.11507766,\n",
              "        7589.62778633,  4023.4864112 ,   302.45299497,  8111.9531649 ,\n",
              "       11253.25196921, 11488.17157089,  -908.11313371, 30914.72210448,\n",
              "        7924.46778632,  3633.83363517, 12101.52799683,  7490.43730365,\n",
              "        7752.64827122, 34018.29169876,  6563.83183463,  9229.03184027,\n",
              "       11093.54283504, 16837.8867922 , 35027.7732767 , 39940.07725242,\n",
              "        1048.56788483, 13997.63562869, 14606.22514873, 29898.24914826,\n",
              "        2963.48121081, 13619.64833428,  9212.8317732 ,  6079.01124558,\n",
              "       33894.88559108,  8301.50549871, 34871.30185059,  4504.07509269,\n",
              "        8937.12521482, 31729.86498598,   334.64945765, 15046.43519395,\n",
              "       11413.51671123,  9777.84151109, 12910.44755826, 32507.9058735 ,\n",
              "       27195.90533968,  5689.98403886, 11254.37752942,  7331.67155464,\n",
              "       16491.88656023, 36012.51918321, 16130.71600662, 11582.52509917,\n",
              "       15753.70372325, 14862.67177167, 38534.995311  , 35001.4596711 ,\n",
              "       15871.81894895,  3689.76776861,  7620.49975756, 12480.78789747,\n",
              "       35218.75700436, 12060.21859798, 29928.9645991 ,  6170.75595923,\n",
              "        5578.08125453,  9682.59122805,  3571.17602943,  3024.17841934,\n",
              "       23510.46679769, 30195.84233004, 12814.27298255, 23609.09356547,\n",
              "       32380.0792951 , 10469.18084218, 11986.59855242, 37137.35330099,\n",
              "        5706.56902804,  8757.96206025, 11124.48693995, 38878.92261543,\n",
              "        9290.50080217,  5971.80551957,  2213.17480029,  4629.22346406])"
            ]
          },
          "metadata": {},
          "execution_count": 65
        }
      ]
    },
    {
      "cell_type": "code",
      "metadata": {
        "id": "SJkGSm-jXOrj",
        "colab": {
          "base_uri": "https://localhost:8080/"
        },
        "outputId": "0ff4b4b7-db08-498f-f9c3-d48036f25c5d"
      },
      "source": [
        "mean_squared_error(y_test, lr.predict(X_test))# Оцените качество, при помощи метода mean_squared_error для тестовой выборки"
      ],
      "execution_count": null,
      "outputs": [
        {
          "output_type": "execute_result",
          "data": {
            "text/plain": [
              "35457966.449315324"
            ]
          },
          "metadata": {},
          "execution_count": 66
        }
      ]
    },
    {
      "cell_type": "code",
      "metadata": {
        "id": "rLxR0uVJ0D4w",
        "colab": {
          "base_uri": "https://localhost:8080/"
        },
        "outputId": "b24fb7a6-ea9e-4bc9-f4d8-009d521cc0e2"
      },
      "source": [
        "mean_squared_error(y_train, lr.predict(X_train))"
      ],
      "execution_count": null,
      "outputs": [
        {
          "output_type": "execute_result",
          "data": {
            "text/plain": [
              "36836757.4562042"
            ]
          },
          "metadata": {},
          "execution_count": 68
        }
      ]
    },
    {
      "cell_type": "markdown",
      "metadata": {
        "id": "RwVK1ery4nv2"
      },
      "source": [
        "## Делаем предсказание для одного человека"
      ]
    },
    {
      "cell_type": "code",
      "metadata": {
        "id": "c8c1dxeD4oKP"
      },
      "source": [
        "# Заполняем данные по конкретному человеку\n",
        "data = [{\n",
        "    \"age\": 20,\n",
        "    \"sex\": 1,\n",
        "    \"bmi\": 30,\n",
        "    \"children\": 2,\n",
        "    \"smoker\": 1,\n",
        "    \"region_northeast\": 0,\n",
        "    \"region_northwest\": 0,\n",
        "    \"region_southeast\": 1,\n",
        "    \"region_southwest\": 0\n",
        "}]"
      ],
      "execution_count": null,
      "outputs": []
    },
    {
      "cell_type": "code",
      "metadata": {
        "id": "d7KVpaTb4qZJ",
        "colab": {
          "base_uri": "https://localhost:8080/",
          "height": 80
        },
        "outputId": "e4aa5091-30d8-485b-8107-b618ce2da15d"
      },
      "source": [
        "df_person = pd.DataFrame(data)\n",
        "df_person.head()"
      ],
      "execution_count": null,
      "outputs": [
        {
          "output_type": "execute_result",
          "data": {
            "text/html": [
              "<div>\n",
              "<style scoped>\n",
              "    .dataframe tbody tr th:only-of-type {\n",
              "        vertical-align: middle;\n",
              "    }\n",
              "\n",
              "    .dataframe tbody tr th {\n",
              "        vertical-align: top;\n",
              "    }\n",
              "\n",
              "    .dataframe thead th {\n",
              "        text-align: right;\n",
              "    }\n",
              "</style>\n",
              "<table border=\"1\" class=\"dataframe\">\n",
              "  <thead>\n",
              "    <tr style=\"text-align: right;\">\n",
              "      <th></th>\n",
              "      <th>age</th>\n",
              "      <th>sex</th>\n",
              "      <th>bmi</th>\n",
              "      <th>children</th>\n",
              "      <th>smoker</th>\n",
              "      <th>region_northeast</th>\n",
              "      <th>region_northwest</th>\n",
              "      <th>region_southeast</th>\n",
              "      <th>region_southwest</th>\n",
              "    </tr>\n",
              "  </thead>\n",
              "  <tbody>\n",
              "    <tr>\n",
              "      <th>0</th>\n",
              "      <td>20</td>\n",
              "      <td>1</td>\n",
              "      <td>30</td>\n",
              "      <td>2</td>\n",
              "      <td>1</td>\n",
              "      <td>0</td>\n",
              "      <td>0</td>\n",
              "      <td>1</td>\n",
              "      <td>0</td>\n",
              "    </tr>\n",
              "  </tbody>\n",
              "</table>\n",
              "</div>"
            ],
            "text/plain": [
              "   age  sex  bmi  ...  region_northwest  region_southeast  region_southwest\n",
              "0   20    1   30  ...                 0                 1                 0\n",
              "\n",
              "[1 rows x 9 columns]"
            ]
          },
          "metadata": {},
          "execution_count": 70
        }
      ]
    },
    {
      "cell_type": "code",
      "metadata": {
        "id": "mbH0lpNa4uMQ",
        "colab": {
          "base_uri": "https://localhost:8080/"
        },
        "outputId": "9fa2d0da-1f47-42d0-de6a-0f8d55fe75c8"
      },
      "source": [
        "lr.predict(df_person)"
      ],
      "execution_count": null,
      "outputs": [
        {
          "output_type": "execute_result",
          "data": {
            "text/plain": [
              "array([19294.05372258])"
            ]
          },
          "metadata": {},
          "execution_count": 71
        }
      ]
    },
    {
      "cell_type": "code",
      "metadata": {
        "colab": {
          "base_uri": "https://localhost:8080/"
        },
        "id": "XWwEe71V6ZAi",
        "outputId": "fd387633-2d9e-436b-f098-9405de85938a"
      },
      "source": [
        "from sklearn.metrics import roc_auc_score\n",
        "\n",
        "x = [0,1,1,0,0,1,1,0,0,0]\n",
        "\n",
        "x_ver = [0.35, 0.85, 0.75, 0.25, 0.05, 0.45, 0.95, 0.65, 0.15, 0.55]\n",
        "\n",
        "print(f'roc-auc: {roc_auc_score(x, x_ver)}')"
      ],
      "execution_count": null,
      "outputs": [
        {
          "output_type": "stream",
          "name": "stdout",
          "text": [
            "roc-auc: 0.9166666666666667\n"
          ]
        }
      ]
    }
  ]
}