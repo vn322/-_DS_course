{
  "nbformat": 4,
  "nbformat_minor": 0,
  "metadata": {
    "colab": {
      "name": "Решение_«Библиотека numpy. Вычислительные задачи».ipynb",
      "provenance": [],
      "collapsed_sections": []
    },
    "kernelspec": {
      "name": "python3",
      "display_name": "Python 3"
    },
    "language_info": {
      "name": "python"
    }
  },
  "cells": [
    {
      "cell_type": "markdown",
      "source": [
        "# Задание 1\n",
        "Создайте numpy array с элементами от числа N до 0 (например, для N = 10 это будет array([9, 8, 7, 6, 5, 4, 3, 2, 1, 0]))."
      ],
      "metadata": {
        "id": "-nr6AJ-vmBdA"
      }
    },
    {
      "cell_type": "code",
      "execution_count": null,
      "metadata": {
        "colab": {
          "base_uri": "https://localhost:8080/"
        },
        "id": "40-AOZUOmAIo",
        "outputId": "90333680-9f99-44d6-fcae-95584e5902db"
      },
      "outputs": [
        {
          "name": "stdout",
          "output_type": "stream",
          "text": [
            "give number, plz - 10\n",
            "give number, plz - 10\n"
          ]
        },
        {
          "output_type": "execute_result",
          "data": {
            "text/plain": [
              "(array([9, 8, 7, 6, 5, 4, 3, 2, 1, 0]), array([9, 8, 7, 6, 5, 4, 3, 2, 1, 0]))"
            ]
          },
          "metadata": {},
          "execution_count": 50
        }
      ],
      "source": [
        "import numpy as np\n",
        "def back_arr():\n",
        "  return np.array([i for i in range(int(input(\"give number, plz - \"))-1, -1, -1)])\n",
        "\n",
        "back_arr(), np.arange(int(input(\"give number, plz - \"))-1,-1, -1)"
      ]
    },
    {
      "cell_type": "markdown",
      "source": [
        "# Задание 2\n",
        "Создайте диагональную матрицу с элементами от N до 0. Посчитайте сумму ее значений на диагонали."
      ],
      "metadata": {
        "id": "RNpEC8XUm6rH"
      }
    },
    {
      "cell_type": "code",
      "source": [
        "def BackArr(x):\n",
        "    x = int(x)\n",
        "    BR = np.full(x,x) - np.arange(1, x +1)\n",
        "    return(BR)\n",
        "\n",
        "def BackDiag(x):\n",
        "    BD = np.diag(BackArr(x))\n",
        "    return(BD)\n",
        "\n",
        "BackDiag(int(input(\"give number, plz - \")))"
      ],
      "metadata": {
        "colab": {
          "base_uri": "https://localhost:8080/"
        },
        "id": "dUKBjUsksIpk",
        "outputId": "547d81f5-733e-4905-b99b-a441570262be"
      },
      "execution_count": null,
      "outputs": [
        {
          "name": "stdout",
          "output_type": "stream",
          "text": [
            "give number, plz - 9\n"
          ]
        },
        {
          "output_type": "execute_result",
          "data": {
            "text/plain": [
              "array([[8, 0, 0, 0, 0, 0, 0, 0, 0],\n",
              "       [0, 7, 0, 0, 0, 0, 0, 0, 0],\n",
              "       [0, 0, 6, 0, 0, 0, 0, 0, 0],\n",
              "       [0, 0, 0, 5, 0, 0, 0, 0, 0],\n",
              "       [0, 0, 0, 0, 4, 0, 0, 0, 0],\n",
              "       [0, 0, 0, 0, 0, 3, 0, 0, 0],\n",
              "       [0, 0, 0, 0, 0, 0, 2, 0, 0],\n",
              "       [0, 0, 0, 0, 0, 0, 0, 1, 0],\n",
              "       [0, 0, 0, 0, 0, 0, 0, 0, 0]])"
            ]
          },
          "metadata": {},
          "execution_count": 52
        }
      ]
    },
    {
      "cell_type": "markdown",
      "source": [
        "**Плохо разобрался. Пытался функцию из первого задания использовать и получаю ошибку. Переделал и всё получилось хотя функции выдают одинаковый массив. Можно ли пояснить почему так получилось**"
      ],
      "metadata": {
        "id": "Rsir9t87w7dk"
      }
    },
    {
      "cell_type": "code",
      "source": [
        "def diag_matrix():\n",
        "    diag_m = np.diag((int(back_arr())))\n",
        "    return(diag_m)\n",
        "\n",
        "diag_matrix()"
      ],
      "metadata": {
        "colab": {
          "base_uri": "https://localhost:8080/",
          "height": 339
        },
        "id": "GhvFllH3m6S4",
        "outputId": "9d1f1925-d09f-479d-803c-aa01a588c3c7"
      },
      "execution_count": null,
      "outputs": [
        {
          "name": "stdout",
          "output_type": "stream",
          "text": [
            "give number, plz - 9\n"
          ]
        },
        {
          "output_type": "error",
          "ename": "TypeError",
          "evalue": "ignored",
          "traceback": [
            "\u001b[0;31m---------------------------------------------------------------------------\u001b[0m",
            "\u001b[0;31mTypeError\u001b[0m                                 Traceback (most recent call last)",
            "\u001b[0;32m<ipython-input-55-c0e601dabba6>\u001b[0m in \u001b[0;36m<module>\u001b[0;34m()\u001b[0m\n\u001b[1;32m      3\u001b[0m     \u001b[0;32mreturn\u001b[0m\u001b[0;34m(\u001b[0m\u001b[0mdiag_m\u001b[0m\u001b[0;34m)\u001b[0m\u001b[0;34m\u001b[0m\u001b[0;34m\u001b[0m\u001b[0m\n\u001b[1;32m      4\u001b[0m \u001b[0;34m\u001b[0m\u001b[0m\n\u001b[0;32m----> 5\u001b[0;31m \u001b[0mdiag_matrix\u001b[0m\u001b[0;34m(\u001b[0m\u001b[0;34m)\u001b[0m\u001b[0;34m\u001b[0m\u001b[0;34m\u001b[0m\u001b[0m\n\u001b[0m",
            "\u001b[0;32m<ipython-input-55-c0e601dabba6>\u001b[0m in \u001b[0;36mdiag_matrix\u001b[0;34m()\u001b[0m\n\u001b[1;32m      1\u001b[0m \u001b[0;32mdef\u001b[0m \u001b[0mdiag_matrix\u001b[0m\u001b[0;34m(\u001b[0m\u001b[0;34m)\u001b[0m\u001b[0;34m:\u001b[0m\u001b[0;34m\u001b[0m\u001b[0;34m\u001b[0m\u001b[0m\n\u001b[0;32m----> 2\u001b[0;31m     \u001b[0mdiag_m\u001b[0m \u001b[0;34m=\u001b[0m \u001b[0mnp\u001b[0m\u001b[0;34m.\u001b[0m\u001b[0mdiag\u001b[0m\u001b[0;34m(\u001b[0m\u001b[0;34m(\u001b[0m\u001b[0mint\u001b[0m\u001b[0;34m(\u001b[0m\u001b[0mback_arr\u001b[0m\u001b[0;34m(\u001b[0m\u001b[0;34m)\u001b[0m\u001b[0;34m)\u001b[0m\u001b[0;34m)\u001b[0m\u001b[0;34m)\u001b[0m\u001b[0;34m\u001b[0m\u001b[0;34m\u001b[0m\u001b[0m\n\u001b[0m\u001b[1;32m      3\u001b[0m     \u001b[0;32mreturn\u001b[0m\u001b[0;34m(\u001b[0m\u001b[0mdiag_m\u001b[0m\u001b[0;34m)\u001b[0m\u001b[0;34m\u001b[0m\u001b[0;34m\u001b[0m\u001b[0m\n\u001b[1;32m      4\u001b[0m \u001b[0;34m\u001b[0m\u001b[0m\n\u001b[1;32m      5\u001b[0m \u001b[0mdiag_matrix\u001b[0m\u001b[0;34m(\u001b[0m\u001b[0;34m)\u001b[0m\u001b[0;34m\u001b[0m\u001b[0;34m\u001b[0m\u001b[0m\n",
            "\u001b[0;31mTypeError\u001b[0m: only size-1 arrays can be converted to Python scalars"
          ]
        }
      ]
    },
    {
      "cell_type": "markdown",
      "source": [
        "# Задание 3\n",
        "Решите систему уравнений:\n",
        "\n",
        "4x + 2y + z = 4\n",
        "\n",
        "x + 3y = 12\n",
        "\n",
        "5y + 4z = -3"
      ],
      "metadata": {
        "id": "7nbzfApxx9Xx"
      }
    },
    {
      "cell_type": "code",
      "source": [
        "from numpy import linalg\n",
        "\n",
        "a = np.array( [ [4, 2, 1], [1, 3, 0], [0, 5, 4] ] )\n",
        "\n",
        "b = np.array( [ 4, 12, -3 ] )\n",
        "\n",
        "linalg.solve(a, b), np.allclose( np.dot(a, linalg.solve(a, b)), b )"
      ],
      "metadata": {
        "colab": {
          "base_uri": "https://localhost:8080/"
        },
        "id": "a5ajWCtlngI7",
        "outputId": "13d58159-94f5-4ac5-e4b0-fce21aaa0ba3"
      },
      "execution_count": null,
      "outputs": [
        {
          "output_type": "execute_result",
          "data": {
            "text/plain": [
              "(array([ 0.46666667,  3.84444444, -5.55555556]), True)"
            ]
          },
          "metadata": {},
          "execution_count": 57
        }
      ]
    },
    {
      "cell_type": "markdown",
      "source": [
        "# Задание 4\n",
        "В материалах занятия раздел “Задача 4 домашнего задания”"
      ],
      "metadata": {
        "id": "msQo7LKE5wx_"
      }
    },
    {
      "cell_type": "code",
      "source": [
        "users_stats = np.array(\n",
        "    [\n",
        "        [2, 1, 0, 0, 0, 0],\n",
        "        [1, 1, 2, 1, 0, 0],\n",
        "        [2, 0, 1, 0, 0, 0],\n",
        "        [1, 1, 2, 1, 0, 1],\n",
        "        [0, 0, 1, 2, 0, 0],\n",
        "        [0, 0, 0, 0, 0, 5],\n",
        "        [1, 0, 0, 0, 0, 0],\n",
        "        [0, 1, 1, 0, 0, 0],\n",
        "        [0, 0, 0, 1, 1, 3],\n",
        "        [1, 0, 0, 2, 1, 4]\n",
        "    ], \n",
        "    np.int32\n",
        ")\n",
        "\n",
        "\n",
        "next_user_stats = np.array([0, 1, 2, 0, 0, 0])\n",
        "\n",
        "\n",
        "def cosine( a, b ):\n",
        "    \n",
        "    aLength = np.linalg.norm( a )\n",
        "    bLength = np.linalg.norm( b )\n",
        "    \n",
        "    return np.dot( a, b ) / ( aLength * bLength )"
      ],
      "metadata": {
        "id": "i4ZTWPDKqrcD"
      },
      "execution_count": null,
      "outputs": []
    },
    {
      "cell_type": "code",
      "source": [
        "my_list = []\n",
        "for i in users_stats:\n",
        "    my_list.append(cosine(i, next_user_stats))\n",
        "\n",
        "print('Cамый похожий поситетель под номером', my_list.index(max(my_list)) + 1)"
      ],
      "metadata": {
        "colab": {
          "base_uri": "https://localhost:8080/"
        },
        "id": "ClGtSmL16nUo",
        "outputId": "ba4ac494-7deb-42b6-f151-ea794eaa35cb"
      },
      "execution_count": null,
      "outputs": [
        {
          "output_type": "stream",
          "name": "stdout",
          "text": [
            "Cамый похожий поситетель под номером 8\n"
          ]
        }
      ]
    },
    {
      "cell_type": "markdown",
      "source": [
        "# Комментарии преподавателя\n",
        "\n",
        "\n",
        "Добрый вечер, спасибо за решения.\n",
        "Отлично получилось.\n",
        "\n",
        "В первом и втором заданиях как вариант можно сразу получить последовательность с помощью метода arange:\n",
        "\n",
        "1\n",
        "np.arange(N, 0, -1)"
      ],
      "metadata": {
        "id": "37DGph4DEDva"
      }
    },
    {
      "cell_type": "code",
      "source": [
        "np.arange(N, 0, -1)"
      ],
      "metadata": {
        "id": "pwrVgnxIEJDC"
      },
      "execution_count": null,
      "outputs": []
    }
  ]
}