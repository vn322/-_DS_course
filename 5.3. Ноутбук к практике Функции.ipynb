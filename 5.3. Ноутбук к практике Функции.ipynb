{
 "cells": [
  {
   "cell_type": "markdown",
   "metadata": {},
   "source": [
    "### 6 задача из ДЗ по циклам и типам данным (часть 2)"
   ]
  },
  {
   "cell_type": "markdown",
   "metadata": {},
   "source": [
    "Дана книга рецептов с информацией о том, сколько ингредиентов нужно для приготовления блюда в расчете на одну порцию (пример данных представлен ниже).\n",
    "Напишите программу, которая будет запрашивать у пользователя количество порций для приготовления этих блюд и отображать информацию о суммарном количестве требуемых ингредиентов в указанном виде.\n",
    "Внимание! Одинаковые ингридиенты с разными размерностями нужно считать раздельно!\n",
    "Пример работы программы:"
   ]
  },
  {
   "cell_type": "code",
   "execution_count": 27,
   "metadata": {},
   "outputs": [],
   "source": [
    "cook_book = {\n",
    "  'салат': [\n",
    "     {'ingridient_name': 'сыр', 'quantity': 50, 'measure': 'гр'},\n",
    "     {'ingridient_name': 'томаты', 'quantity': 2, 'measure': 'шт'},\n",
    "     {'ingridient_name': 'огурцы', 'quantity': 20, 'measure': 'гр'},\n",
    "     {'ingridient_name': 'маслины', 'quantity': 10, 'measure': 'гр'},\n",
    "     {'ingridient_name': 'оливковое масло', 'quantity': 20, 'measure': 'мл'},\n",
    "     {'ingridient_name': 'салат', 'quantity': 10, 'measure': 'гр'},\n",
    "     {'ingridient_name': 'перец', 'quantity': 20, 'measure': 'гр'}\n",
    "    ],\n",
    "  'пицца': [\n",
    "     {'ingridient_name': 'сыр', 'quantity': 20, 'measure': 'гр'},\n",
    "     {'ingridient_name': 'колбаса', 'quantity': 30, 'measure': 'гр'},\n",
    "     {'ingridient_name': 'бекон', 'quantity': 30, 'measure': 'гр'},\n",
    "     {'ingridient_name': 'оливки', 'quantity': 10, 'measure': 'гр'},\n",
    "     {'ingridient_name': 'томаты', 'quantity': 20, 'measure': 'гр'},\n",
    "     {'ingridient_name': 'тесто', 'quantity': 100, 'measure': 'гр'},   \n",
    "    ],\n",
    "  'лимонад': [\n",
    "     {'ingridient_name': 'лимон', 'quantity': 1, 'measure': 'шт'},\n",
    "     {'ingridient_name': 'вода', 'quantity': 200, 'measure': 'мл'},\n",
    "     {'ingridient_name': 'сахар', 'quantity': 10, 'measure': 'гр'},\n",
    "     {'ingridient_name': 'лайм', 'quantity': 20, 'measure': 'гр'},    \n",
    "    ]\n",
    "}"
   ]
  },
  {
   "cell_type": "code",
   "execution_count": 4,
   "metadata": {},
   "outputs": [],
   "source": [
    "person = 5"
   ]
  },
  {
   "cell_type": "code",
   "execution_count": 12,
   "metadata": {},
   "outputs": [
    {
     "name": "stdout",
     "output_type": "stream",
     "text": [
      "Сыр: 350 гр\n",
      "Томаты: 10 шт\n",
      "Огурцы: 100 гр\n",
      "Маслины: 50 гр\n",
      "Оливковое Масло: 100 мл\n",
      "Салат: 50 гр\n",
      "Перец: 100 гр\n",
      "Колбаса: 150 гр\n",
      "Бекон: 150 гр\n",
      "Оливки: 50 гр\n",
      "Томаты: 100 гр\n",
      "Тесто: 500 гр\n",
      "Лимон: 5 шт\n",
      "Вода: 1000 мл\n",
      "Сахар: 50 гр\n",
      "Лайм: 100 гр\n"
     ]
    }
   ],
   "source": [
    "shop_list = {}\n",
    "\n",
    "for dish in cook_book.values():\n",
    "#     print(dish)\n",
    "    for ingredient in dish:\n",
    "#         print(ingredient)\n",
    "        if  (ingredient['ingridient_name'], ingredient['measure']) not in shop_list:\n",
    "            shop_list[(ingredient['ingridient_name'], ingredient['measure'])] = ingredient['quantity'] * person \n",
    "        else:\n",
    "            shop_list[(ingredient['ingridient_name'], ingredient['measure'])] += ingredient['quantity'] * person\n",
    "        \n",
    "\n",
    "\n",
    "for name, q in shop_list.items():\n",
    "    print(f'{name[0].title()}: {q} {name[1]}')"
   ]
  },
  {
   "cell_type": "code",
   "execution_count": null,
   "metadata": {},
   "outputs": [],
   "source": [
    "shop_list = {}\n",
    "\n",
    "for dish in cook_book.values():\n",
    "    for ingredient in dish:\n",
    "        key = (ingredient['ingridient_name'], ingredient['measure'])\n",
    "        shop_list.setdefault(key, 0)\n",
    "        shop_list[key] += ingredient['quantity'] * person\n",
    "        \n",
    "\n",
    "for name, q in shop_list.items():\n",
    "    print(f'{name[0].title()}: {q} {name[1]}')"
   ]
  },
  {
   "cell_type": "markdown",
   "metadata": {},
   "source": [
    "### Отличие методов capitalize и title"
   ]
  },
  {
   "cell_type": "code",
   "execution_count": 13,
   "metadata": {},
   "outputs": [
    {
     "name": "stdout",
     "output_type": "stream",
     "text": [
      "Hello World\n",
      "Hello world\n"
     ]
    }
   ],
   "source": [
    "my_str = 'hello world'\n",
    "print(my_str.title())\n",
    "print(my_str.capitalize())"
   ]
  },
  {
   "cell_type": "markdown",
   "metadata": {},
   "source": [
    "### Задача 6, ДЗ по циклам часть 1"
   ]
  },
  {
   "cell_type": "markdown",
   "metadata": {},
   "source": [
    "Необходимо у пользователя запрашивать набор чисел разделенных пробелом. В результате в отсортированном порядке должны выводиться числа, которые повторяются в вводе более одного раза."
   ]
  },
  {
   "cell_type": "code",
   "execution_count": 23,
   "metadata": {},
   "outputs": [
    {
     "name": "stdout",
     "output_type": "stream",
     "text": [
      "Введите числа1 1 1 11 11 11 2 2 2 22 22 22 3\n"
     ]
    }
   ],
   "source": [
    "some_numbers = input('Введите числа').split()\n",
    "uniq_numbers = []"
   ]
  },
  {
   "cell_type": "code",
   "execution_count": 26,
   "metadata": {},
   "outputs": [
    {
     "data": {
      "text/plain": [
       "[1, 2, 11, 22]"
      ]
     },
     "execution_count": 26,
     "metadata": {},
     "output_type": "execute_result"
    }
   ],
   "source": [
    "for num in some_numbers:\n",
    "    if some_numbers.count(num) > 1 and int(num) not in uniq_numbers:\n",
    "        uniq_numbers.append(int(num))\n",
    "                                   \n",
    "sorted(uniq_numbers)"
   ]
  },
  {
   "cell_type": "markdown",
   "metadata": {},
   "source": [
    "### Модуль pprint"
   ]
  },
  {
   "cell_type": "code",
   "execution_count": 31,
   "metadata": {},
   "outputs": [],
   "source": [
    "from pprint import pprint"
   ]
  },
  {
   "cell_type": "code",
   "execution_count": 33,
   "metadata": {},
   "outputs": [
    {
     "name": "stdout",
     "output_type": "stream",
     "text": [
      "{'лимонад': [{'ingridient_name': 'лимон', 'measure': 'шт', 'quantity': 1},\n",
      "             {'ingridient_name': 'вода', 'measure': 'мл', 'quantity': 200},\n",
      "             {'ingridient_name': 'сахар', 'measure': 'гр', 'quantity': 10},\n",
      "             {'ingridient_name': 'лайм', 'measure': 'гр', 'quantity': 20}],\n",
      " 'пицца': [{'ingridient_name': 'сыр', 'measure': 'гр', 'quantity': 20},\n",
      "           {'ingridient_name': 'колбаса', 'measure': 'гр', 'quantity': 30},\n",
      "           {'ingridient_name': 'бекон', 'measure': 'гр', 'quantity': 30},\n",
      "           {'ingridient_name': 'оливки', 'measure': 'гр', 'quantity': 10},\n",
      "           {'ingridient_name': 'томаты', 'measure': 'гр', 'quantity': 20},\n",
      "           {'ingridient_name': 'тесто', 'measure': 'гр', 'quantity': 100}],\n",
      " 'салат': [{'ingridient_name': 'сыр', 'measure': 'гр', 'quantity': 50},\n",
      "           {'ingridient_name': 'томаты', 'measure': 'шт', 'quantity': 2},\n",
      "           {'ingridient_name': 'огурцы', 'measure': 'гр', 'quantity': 20},\n",
      "           {'ingridient_name': 'маслины', 'measure': 'гр', 'quantity': 10},\n",
      "           {'ingridient_name': 'оливковое масло',\n",
      "            'measure': 'мл',\n",
      "            'quantity': 20},\n",
      "           {'ingridient_name': 'салат', 'measure': 'гр', 'quantity': 10},\n",
      "           {'ingridient_name': 'перец', 'measure': 'гр', 'quantity': 20}]}\n"
     ]
    }
   ],
   "source": [
    "pprint(cook_book)"
   ]
  },
  {
   "cell_type": "markdown",
   "metadata": {},
   "source": [
    "### Практическая зада по функциям"
   ]
  },
  {
   "cell_type": "code",
   "execution_count": 75,
   "metadata": {},
   "outputs": [],
   "source": [
    "students_list = [\n",
    "    {\"name\": \"Василий\", \"surname\": \"Теркин\", \"gender\": \"м\", \"program_exp\": True, \"grade\": [8, 8, 9, 10, 9], \"exam\": 8},\n",
    "    {\"name\": \"Мария\", \"surname\": \"Павлова\", \"gender\": \"ж\", \"program_exp\": False, \"grade\": [7, 8, 9, 7, 9], \"exam\": 9},\n",
    "    {\"name\": \"Ирина\", \"surname\": \"Андреева\", \"gender\": \"ж\", \"program_exp\": True, \"grade\": [10, 9, 8, 10, 10], \"exam\": 7},\n",
    "    {\"name\": \"Татьяна\", \"surname\": \"Сидорова\", \"gender\": \"ж\", \"program_exp\": False, \"grade\": [7, 8, 8, 9, 8],\"exam\": 10},\n",
    "    {\"name\": \"Иван\", \"surname\": \"Васильев\", \"gender\": \"м\", \"program_exp\": True, \"grade\": [9, 8, 9, 6, 9], \"exam\": 5},\n",
    "    {\"name\": \"Роман\", \"surname\": \"Золотарев\", \"gender\": \"м\", \"program_exp\": False, \"grade\": [8, 9, 9, 6, 9], \"exam\": 6}\n",
    "]"
   ]
  },
  {
   "cell_type": "code",
   "execution_count": 76,
   "metadata": {},
   "outputs": [
    {
     "data": {
      "text/plain": [
       "7.5"
      ]
     },
     "execution_count": 76,
     "metadata": {},
     "output_type": "execute_result"
    }
   ],
   "source": [
    "def get_avg_ex_grade(students):\n",
    "    sum_ex = 0\n",
    "    for student in students:\n",
    "        sum_ex += student['exam']\n",
    "    return round(sum_ex / len(students), 2)\n",
    "\n",
    "get_avg_ex_grade(students_list)"
   ]
  },
  {
   "cell_type": "code",
   "execution_count": 77,
   "metadata": {},
   "outputs": [
    {
     "data": {
      "text/plain": [
       "8.07"
      ]
     },
     "execution_count": 77,
     "metadata": {},
     "output_type": "execute_result"
    }
   ],
   "source": [
    "def get_avg_hw_grade(students, exp):\n",
    "    sum_hw = 0\n",
    "    count = 0\n",
    "    for student in students:\n",
    "        if student['program_exp'] == exp:\n",
    "            sum_hw += sum(student['grade']) / len(student['grade'])\n",
    "            count += 1\n",
    "    try:\n",
    "        res = round(sum_hw / count, 2)\n",
    "    except:\n",
    "        res = 'Ошибка'\n",
    "\n",
    "    return res\n",
    "\n",
    "get_avg_hw_grade(students_list, False)"
   ]
  },
  {
   "cell_type": "code",
   "execution_count": 78,
   "metadata": {},
   "outputs": [
    {
     "name": "stdout",
     "output_type": "stream",
     "text": [
      "8.43\n",
      "8.8\n",
      "8.07\n",
      "8.5\n",
      "8.0\n"
     ]
    }
   ],
   "source": [
    "def get_avg_hw_grade(students, exp=None, gender=None):\n",
    "    sum_hw = 0\n",
    "    count = 0\n",
    "    for student in students:\n",
    "        if (student['program_exp'] == exp or exp is None) and (student['gender'] == gender or gender is None):\n",
    "            sum_hw += sum(student['grade']) / len(student['grade'])\n",
    "            count += 1\n",
    "    if count == 0:\n",
    "        return 'Ошибка'\n",
    "    else:\n",
    "        return round(sum_hw / count, 2)\n",
    "\n",
    "print(get_avg_hw_grade(students_list))\n",
    "print(get_avg_hw_grade(students_list, True))\n",
    "print(get_avg_hw_grade(students_list, False))\n",
    "print(get_avg_hw_grade(students_list, True, 'м'))\n",
    "print(get_avg_hw_grade(students_list, False, 'ж'))"
   ]
  },
  {
   "cell_type": "code",
   "execution_count": 79,
   "metadata": {},
   "outputs": [
    {
     "name": "stdout",
     "output_type": "stream",
     "text": [
      "Введите команду\n",
      "Введите команду\n",
      "Введите команду1\n",
      "7.5\n",
      "Введите команду2\n",
      "8.43\n",
      "Введите команду3\n",
      "8.8\n",
      "Введите командуq\n",
      "До свидавния!\n"
     ]
    }
   ],
   "source": [
    "def main(students):\n",
    "    while True:\n",
    "        user_cmd = input('Введите команду')\n",
    "        if user_cmd == '1':\n",
    "            print(get_avg_ex_grade(students))\n",
    "        elif user_cmd == '2':\n",
    "            print(get_avg_hw_grade(students))\n",
    "        elif user_cmd == '3':\n",
    "            print(get_avg_hw_grade(students, True))\n",
    "        elif user_cmd == 'q':\n",
    "            print('До свидавния!')\n",
    "            break\n",
    "            \n",
    "main(students_list)"
   ]
  },
  {
   "cell_type": "code",
   "execution_count": 80,
   "metadata": {},
   "outputs": [
    {
     "name": "stdout",
     "output_type": "stream",
     "text": [
      "Введите команду1\n",
      "7.5\n",
      "Введите командуq\n",
      "До свидания\n"
     ]
    }
   ],
   "source": [
    "def main(students):\n",
    "    command_dict = {\n",
    "        '1': get_avg_ex_grade,\n",
    "        '2': get_avg_hw_grade,\n",
    "        '3': get_avg_hw_grade\n",
    "    }\n",
    "    \n",
    "    while True:\n",
    "        user_cmd = input('Введите команду')\n",
    "        if user_cmd in command_dict:\n",
    "            res = command_dict[user_cmd](students)\n",
    "            print(res)\n",
    "        elif user_cmd == 'q':\n",
    "            print('До свидания')\n",
    "            break\n",
    "            \n",
    "main(students_list)"
   ]
  },
  {
   "cell_type": "markdown",
   "metadata": {},
   "source": [
    "### Напишем функцию, которая будет находить среднюю цену за квартиры по всем данным"
   ]
  },
  {
   "cell_type": "code",
   "execution_count": 96,
   "metadata": {},
   "outputs": [],
   "source": [
    "dict_1 = {'flat_1': 10500, 'flat_2': 11000}\n",
    "dict_2 = {'flat_1': 15000}\n",
    "dict_3 = {'flat_4': 6500, 'flat_5': 7000, 'flat_6': 6000}   "
   ]
  },
  {
   "cell_type": "code",
   "execution_count": 97,
   "metadata": {},
   "outputs": [],
   "source": [
    "def mean_price(*price):\n",
    "    sum_pr = 0\n",
    "    print(price)\n",
    "    for num in price:\n",
    "#         print(num.values())\n",
    "        sum_pr += sum(num.values()) / len(num.values())\n",
    "    return sum_pr / len(price)"
   ]
  },
  {
   "cell_type": "code",
   "execution_count": 98,
   "metadata": {},
   "outputs": [
    {
     "name": "stdout",
     "output_type": "stream",
     "text": [
      "({'flat_1': 15000}, {'flat_1': 10500, 'flat_2': 11000}, {'flat_4': 6500, 'flat_5': 7000, 'flat_6': 6000})\n"
     ]
    },
    {
     "data": {
      "text/plain": [
       "10750.0"
      ]
     },
     "execution_count": 98,
     "metadata": {},
     "output_type": "execute_result"
    }
   ],
   "source": [
    "mean_price(dict_2, dict_1, dict_3)"
   ]
  },
  {
   "cell_type": "code",
   "execution_count": 100,
   "metadata": {},
   "outputs": [
    {
     "data": {
      "text/plain": [
       "[1,\n",
       " 2,\n",
       " 3,\n",
       " 4,\n",
       " 5,\n",
       " 6,\n",
       " 7,\n",
       " 8,\n",
       " 9,\n",
       " 10,\n",
       " 11,\n",
       " 12,\n",
       " 13,\n",
       " 14,\n",
       " 15,\n",
       " 16,\n",
       " 17,\n",
       " 18,\n",
       " 19,\n",
       " 20,\n",
       " 21,\n",
       " 22,\n",
       " 23,\n",
       " 24,\n",
       " 25,\n",
       " 26,\n",
       " 27,\n",
       " 28,\n",
       " 29,\n",
       " 30,\n",
       " 31,\n",
       " 32,\n",
       " 33,\n",
       " 34,\n",
       " 35,\n",
       " 36,\n",
       " 37,\n",
       " 38,\n",
       " 39,\n",
       " 40,\n",
       " 41,\n",
       " 42,\n",
       " 43,\n",
       " 44,\n",
       " 45,\n",
       " 46,\n",
       " 47,\n",
       " 48,\n",
       " 49,\n",
       " 50,\n",
       " 51,\n",
       " 52,\n",
       " 53,\n",
       " 54,\n",
       " 55,\n",
       " 56,\n",
       " 57,\n",
       " 58,\n",
       " 59,\n",
       " 60,\n",
       " 61,\n",
       " 62,\n",
       " 63,\n",
       " 64,\n",
       " 65,\n",
       " 66,\n",
       " 67,\n",
       " 68,\n",
       " 69,\n",
       " 70,\n",
       " 71,\n",
       " 72,\n",
       " 73,\n",
       " 74,\n",
       " 75,\n",
       " 76,\n",
       " 77,\n",
       " 78,\n",
       " 79,\n",
       " 80,\n",
       " 81,\n",
       " 82,\n",
       " 83,\n",
       " 84,\n",
       " 85,\n",
       " 86,\n",
       " 87,\n",
       " 88,\n",
       " 89,\n",
       " 90,\n",
       " 91,\n",
       " 92,\n",
       " 93,\n",
       " 94,\n",
       " 95,\n",
       " 96,\n",
       " 97,\n",
       " 98,\n",
       " 99]"
      ]
     },
     "execution_count": 100,
     "metadata": {},
     "output_type": "execute_result"
    }
   ],
   "source": [
    "list(range(1,  100))"
   ]
  },
  {
   "cell_type": "code",
   "execution_count": null,
   "metadata": {},
   "outputs": [],
   "source": []
  }
 ],
 "metadata": {
  "kernelspec": {
   "display_name": "Python 3",
   "language": "python",
   "name": "python3"
  },
  "language_info": {
   "codemirror_mode": {
    "name": "ipython",
    "version": 3
   },
   "file_extension": ".py",
   "mimetype": "text/x-python",
   "name": "python",
   "nbconvert_exporter": "python",
   "pygments_lexer": "ipython3",
   "version": "3.8.5"
  }
 },
 "nbformat": 4,
 "nbformat_minor": 4
}
