{
  "nbformat": 4,
  "nbformat_minor": 0,
  "metadata": {
    "colab": {
      "name": "1.1.Домашнее задание \"Основные математические понятия\"..ipynb",
      "provenance": []
    },
    "kernelspec": {
      "name": "python3",
      "display_name": "Python 3"
    },
    "language_info": {
      "name": "python"
    }
  },
  "cells": [
    {
      "cell_type": "markdown",
      "source": [
        "# Домашнее задание \"Основные математические понятия\".\n",
        "# Уровень 0:\n",
        "Представим фильмы в виде бинарных векторов (numpy array) используя следующие признаки:\n",
        "\n",
        "[Комедия, Боевик, Исторический, Бред Питт, Бенедикт Камбербэтч, Квентин Тарантино]\n",
        "\n",
        "Игра в имитацию\n",
        "\n",
        "Ярость\n",
        "\n",
        "12 лет рабства\n",
        "\n",
        "Однажды в Голливуде\n",
        "\n",
        "film_1 = np.array([0,0,0,0,1,0])      # Игра в имитацию\n",
        "\n",
        "film_2 = np.array([0,1,0,1,0,0])      # Ярость\n",
        "\n",
        "film_3 = np.array([0,0,1,1,1,0])      # 12 лет рабства\n",
        "\n",
        "film_4 = np.array([1,0,0,1,0,1])      # Однажды в Голливуде\n"
      ],
      "metadata": {
        "id": "JaAngYDwXf1t"
      }
    },
    {
      "cell_type": "code",
      "source": [
        "import numpy as np"
      ],
      "metadata": {
        "id": "6SQQ_X4DXxr1"
      },
      "execution_count": null,
      "outputs": []
    },
    {
      "cell_type": "code",
      "execution_count": null,
      "metadata": {
        "id": "i04wB9iqXdTB"
      },
      "outputs": [],
      "source": [
        "film_1 = np.array([0,0,0,0,1,0])      # Игра в имитацию\n",
        "\n",
        "film_2 = np.array([0,1,0,1,0,0])      # Ярость\n",
        "\n",
        "film_3 = np.array([0,0,1,1,1,0])      # 12 лет рабства\n",
        "\n",
        "film_4 = np.array([1,0,0,1,0,1])      # Однажды в Голливуде"
      ]
    },
    {
      "cell_type": "code",
      "source": [
        "film_1"
      ],
      "metadata": {
        "colab": {
          "base_uri": "https://localhost:8080/"
        },
        "id": "oJIUNxfuYMCD",
        "outputId": "b72b0897-1c18-4e10-daaf-21a7c46e48af"
      },
      "execution_count": null,
      "outputs": [
        {
          "output_type": "execute_result",
          "data": {
            "text/plain": [
              "array([0, 0, 0, 0, 1, 0])"
            ]
          },
          "metadata": {},
          "execution_count": 3
        }
      ]
    },
    {
      "cell_type": "markdown",
      "source": [
        "# Задание 1\n",
        "Найти угол между векторами-фильмами \"Ярость\" и \"12 лет рабства\". Результатом будет являться косинусная мера, которую можно использовать для определения похожести векторов."
      ],
      "metadata": {
        "id": "OZGU4ez7YJlV"
      }
    },
    {
      "cell_type": "code",
      "source": [
        "np.rad2deg(np.arccos(np.dot(film_3,film_2)/(np.linalg.norm(film_3)*np.linalg.norm(film_2))))"
      ],
      "metadata": {
        "colab": {
          "base_uri": "https://localhost:8080/"
        },
        "id": "mjHyhxjtaPmM",
        "outputId": "d22a9413-af6e-4bad-f652-4e1747a39b03"
      },
      "execution_count": null,
      "outputs": [
        {
          "output_type": "execute_result",
          "data": {
            "text/plain": [
              "65.90515744788931"
            ]
          },
          "metadata": {},
          "execution_count": 39
        }
      ]
    },
    {
      "cell_type": "code",
      "source": [
        "sps = [film_1, film_2, film_3, film_4]\n",
        "\n",
        "def angg(a,b):\n",
        "  return np.rad2deg(np.arccos(np.dot(a,b)/(np.linalg.norm(a)*np.linalg.norm(b))))\n",
        "\n",
        "\n",
        "for i in range(len(sps)):\n",
        "  k = i+1\n",
        "  for j in sps[i+1:]:\n",
        "    k += 1\n",
        "    print('угол между ', 'film_', i+1, 'и', 'film_', k, 'равен', angg(sps[i],j))"
      ],
      "metadata": {
        "colab": {
          "base_uri": "https://localhost:8080/"
        },
        "id": "acgh0-e8YW7M",
        "outputId": "d5a823e9-52ae-4eff-82b0-aff9b6d9a4d8"
      },
      "execution_count": null,
      "outputs": [
        {
          "output_type": "stream",
          "name": "stdout",
          "text": [
            "угол между  film_ 1 и film_ 2 равен 90.0\n",
            "угол между  film_ 1 и film_ 3 равен 54.735610317245346\n",
            "угол между  film_ 1 и film_ 4 равен 90.0\n",
            "угол между  film_ 2 и film_ 3 равен 65.90515744788931\n",
            "угол между  film_ 2 и film_ 4 равен 65.90515744788931\n",
            "угол между  film_ 3 и film_ 4 равен 70.52877936550931\n"
          ]
        }
      ]
    },
    {
      "cell_type": "markdown",
      "source": [
        "# Уровень 1:\n",
        "# Задание 2\n",
        "Вычислить с помощью Python значение первой и второй производной для функции 3x(x^2+x)^3 в точке x=1"
      ],
      "metadata": {
        "id": "l6H6vu_hf-5m"
      }
    },
    {
      "cell_type": "code",
      "source": [
        "import sympy as sym"
      ],
      "metadata": {
        "id": "0AJFcCnrgXoV"
      },
      "execution_count": null,
      "outputs": []
    },
    {
      "cell_type": "code",
      "source": [
        "x = sym.Symbol('x')"
      ],
      "metadata": {
        "id": "WqLW8MWriKUP"
      },
      "execution_count": null,
      "outputs": []
    },
    {
      "cell_type": "code",
      "source": [
        "3*x*(x**2+x)**3"
      ],
      "metadata": {
        "colab": {
          "base_uri": "https://localhost:8080/",
          "height": 41
        },
        "id": "B4VfO2ruimPM",
        "outputId": "14775d75-35c1-44a7-a62f-b90d0d508a89"
      },
      "execution_count": null,
      "outputs": [
        {
          "output_type": "execute_result",
          "data": {
            "text/plain": [
              "3*x*(x**2 + x)**3"
            ],
            "text/latex": "$\\displaystyle 3 x \\left(x^{2} + x\\right)^{3}$"
          },
          "metadata": {},
          "execution_count": 43
        }
      ]
    },
    {
      "cell_type": "code",
      "source": [
        "res = sym.diff(3*x*(x**2+x)**3,x)\n",
        "res"
      ],
      "metadata": {
        "colab": {
          "base_uri": "https://localhost:8080/",
          "height": 41
        },
        "id": "VrMnFyYhi5hf",
        "outputId": "477edf5a-04f1-420f-a49e-eb8bffc95758"
      },
      "execution_count": null,
      "outputs": [
        {
          "output_type": "execute_result",
          "data": {
            "text/plain": [
              "3*x*(6*x + 3)*(x**2 + x)**2 + 3*(x**2 + x)**3"
            ],
            "text/latex": "$\\displaystyle 3 x \\left(6 x + 3\\right) \\left(x^{2} + x\\right)^{2} + 3 \\left(x^{2} + x\\right)^{3}$"
          },
          "metadata": {},
          "execution_count": 44
        }
      ]
    },
    {
      "cell_type": "code",
      "source": [
        "res.subs(x,1)"
      ],
      "metadata": {
        "colab": {
          "base_uri": "https://localhost:8080/",
          "height": 37
        },
        "id": "BhF12X0GjV38",
        "outputId": "7defdc56-06a2-492e-ddba-46a60d5108f2"
      },
      "execution_count": null,
      "outputs": [
        {
          "output_type": "execute_result",
          "data": {
            "text/plain": [
              "132"
            ],
            "text/latex": "$\\displaystyle 132$"
          },
          "metadata": {},
          "execution_count": 45
        }
      ]
    },
    {
      "cell_type": "code",
      "source": [
        "res2 = sym.diff(res,x)\n",
        "res2"
      ],
      "metadata": {
        "colab": {
          "base_uri": "https://localhost:8080/",
          "height": 41
        },
        "id": "_UDRDt6rjhp-",
        "outputId": "42faad02-f552-480a-b4c6-c3a3d70e0b94"
      },
      "execution_count": null,
      "outputs": [
        {
          "output_type": "execute_result",
          "data": {
            "text/plain": [
              "3*x*(4*x + 2)*(6*x + 3)*(x**2 + x) + 18*x*(x**2 + x)**2 + 6*(6*x + 3)*(x**2 + x)**2"
            ],
            "text/latex": "$\\displaystyle 3 x \\left(4 x + 2\\right) \\left(6 x + 3\\right) \\left(x^{2} + x\\right) + 18 x \\left(x^{2} + x\\right)^{2} + 6 \\left(6 x + 3\\right) \\left(x^{2} + x\\right)^{2}$"
          },
          "metadata": {},
          "execution_count": 47
        }
      ]
    },
    {
      "cell_type": "code",
      "source": [
        "res2.subs(x,1)"
      ],
      "metadata": {
        "colab": {
          "base_uri": "https://localhost:8080/",
          "height": 37
        },
        "id": "-zP6z21Vjtou",
        "outputId": "31aac20e-4879-48f0-df8b-23252eafbc77"
      },
      "execution_count": null,
      "outputs": [
        {
          "output_type": "execute_result",
          "data": {
            "text/plain": [
              "612"
            ],
            "text/latex": "$\\displaystyle 612$"
          },
          "metadata": {},
          "execution_count": 48
        }
      ]
    },
    {
      "cell_type": "markdown",
      "source": [
        "# Задание 3\n",
        "Объединить векторы, полученные в Задании 1 в матрицу, где каждый вектор является строкой матрицы. Полученную матрицу умножить на вектор [1,2,3,4]"
      ],
      "metadata": {
        "id": "fFsvHAG-kbjM"
      }
    },
    {
      "cell_type": "code",
      "source": [
        "assemb = np.vstack([film_1,film_2,film_3,film_4])\n",
        "\n",
        "vkktr = np.array([1,2,3,4])\n",
        "vkktr@assemb"
      ],
      "metadata": {
        "colab": {
          "base_uri": "https://localhost:8080/"
        },
        "id": "gPMriO1bkgrs",
        "outputId": "688c6248-0bc5-4e5d-c4d7-3f7f7cff9adf"
      },
      "execution_count": null,
      "outputs": [
        {
          "output_type": "execute_result",
          "data": {
            "text/plain": [
              "array([4, 2, 3, 9, 4, 4])"
            ]
          },
          "metadata": {},
          "execution_count": 63
        }
      ]
    }
  ]
}