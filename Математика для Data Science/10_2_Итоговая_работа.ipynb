{
  "nbformat": 4,
  "nbformat_minor": 0,
  "metadata": {
    "colab": {
      "name": "10.2.Итоговая работа.ipynb",
      "provenance": [],
      "collapsed_sections": []
    },
    "kernelspec": {
      "name": "python3",
      "display_name": "Python 3"
    },
    "language_info": {
      "name": "python"
    }
  },
  "cells": [
    {
      "cell_type": "markdown",
      "source": [
        "# Итоговая работа."
      ],
      "metadata": {
        "id": "vZbe9MeZkVCD"
      }
    },
    {
      "cell_type": "code",
      "execution_count": 4,
      "metadata": {
        "id": "U5diGHkfkOV1"
      },
      "outputs": [],
      "source": [
        "import matplotlib.pyplot as plt\n",
        "import numpy as np\n",
        "\n",
        "from scipy.optimize import differential_evolution\n",
        "from scipy.optimize import minimize\n",
        "from scipy.stats import norm\n",
        "%matplotlib inline"
      ]
    },
    {
      "cell_type": "code",
      "source": [
        "import sympy as sm"
      ],
      "metadata": {
        "id": "_xMF6tbllhJK"
      },
      "execution_count": 5,
      "outputs": []
    },
    {
      "cell_type": "markdown",
      "source": [
        "# Задание 1\n",
        "Вычислите производную функции: $tg^2(sin(x) + cos(2x+3))$\n",
        "\n",
        "\n",
        "в точке $x_0=1$"
      ],
      "metadata": {
        "id": "XAJ2Wz6bkcmq"
      }
    },
    {
      "cell_type": "code",
      "source": [
        "x= sm.Symbol('x')\n",
        "\n",
        "foo1 = sm.tan(sm.sin(x) + sm.cos(2*x+3))**2\n",
        "\n",
        "dif1 = sm.diff(foo1, x, 1)\n",
        "dif1"
      ],
      "metadata": {
        "colab": {
          "base_uri": "https://localhost:8080/",
          "height": 38
        },
        "id": "zvF1Y0QxkbTL",
        "outputId": "df3a3b46-24f9-4d6e-c5b1-aa400d45796e"
      },
      "execution_count": 3,
      "outputs": [
        {
          "output_type": "execute_result",
          "data": {
            "text/plain": [
              "2*(-2*sin(2*x + 3) + cos(x))*(tan(sin(x) + cos(2*x + 3))**2 + 1)*tan(sin(x) + cos(2*x + 3))"
            ],
            "text/latex": "$\\displaystyle 2 \\left(- 2 \\sin{\\left(2 x + 3 \\right)} + \\cos{\\left(x \\right)}\\right) \\left(\\tan^{2}{\\left(\\sin{\\left(x \\right)} + \\cos{\\left(2 x + 3 \\right)} \\right)} + 1\\right) \\tan{\\left(\\sin{\\left(x \\right)} + \\cos{\\left(2 x + 3 \\right)} \\right)}$"
          },
          "metadata": {},
          "execution_count": 3
        }
      ]
    },
    {
      "cell_type": "code",
      "source": [
        "sm.diff(foo1).evalf(subs={'x':1})"
      ],
      "metadata": {
        "colab": {
          "base_uri": "https://localhost:8080/",
          "height": 37
        },
        "id": "MHIHeQQemPbz",
        "outputId": "34ea7d75-4631-40de-8a04-a52cb71eca9c"
      },
      "execution_count": 4,
      "outputs": [
        {
          "output_type": "execute_result",
          "data": {
            "text/plain": [
              "55.3859176353379"
            ],
            "text/latex": "$\\displaystyle 55.3859176353379$"
          },
          "metadata": {},
          "execution_count": 4
        }
      ]
    },
    {
      "cell_type": "markdown",
      "source": [
        "# Задание 2\n",
        "Найдите собственные значения и собственные вектора матрицы:"
      ],
      "metadata": {
        "id": "U1FkuXA_myyI"
      }
    },
    {
      "cell_type": "code",
      "source": [
        "m = np.array([[1, 4],\n",
        "              [1, 1]])\n",
        "print(m)"
      ],
      "metadata": {
        "colab": {
          "base_uri": "https://localhost:8080/"
        },
        "id": "GlG2EHkSm7OY",
        "outputId": "a311a57c-8f8b-4c6e-aa2e-02acfd014e45"
      },
      "execution_count": 5,
      "outputs": [
        {
          "output_type": "stream",
          "name": "stdout",
          "text": [
            "[[1 4]\n",
            " [1 1]]\n"
          ]
        }
      ]
    },
    {
      "cell_type": "code",
      "source": [
        "m1 = np.linalg.eig(m)\n",
        "m1"
      ],
      "metadata": {
        "colab": {
          "base_uri": "https://localhost:8080/"
        },
        "id": "3FlJUYxam9CA",
        "outputId": "399d5e8e-ee32-4a39-ff16-91fb59b78455"
      },
      "execution_count": 6,
      "outputs": [
        {
          "output_type": "execute_result",
          "data": {
            "text/plain": [
              "(array([ 3., -1.]), array([[ 0.89442719, -0.89442719],\n",
              "        [ 0.4472136 ,  0.4472136 ]]))"
            ]
          },
          "metadata": {},
          "execution_count": 6
        }
      ]
    },
    {
      "cell_type": "markdown",
      "source": [
        "# Задание 3\n",
        "Дана функция с неизвестными параметрами a и b, вам также известны значения функции fx в точках x.\n",
        "\n",
        "Найдите оптимальные параметры a, b, минимизирующие абсолютную ошибку error."
      ],
      "metadata": {
        "id": "lgxgAe8ho--3"
      }
    },
    {
      "cell_type": "code",
      "source": [
        "def f(x, a, b):\n",
        "    return np.e**a * np.sin(b*x) + x"
      ],
      "metadata": {
        "id": "1bn1PdphpEsH"
      },
      "execution_count": 13,
      "outputs": []
    },
    {
      "cell_type": "code",
      "source": [
        "x = np.array([0.        , 0.26315789, 0.52631579, 0.78947368, 1.05263158,\n",
        "              1.31578947, 1.57894737, 1.84210526, 2.10526316, 2.36842105,\n",
        "              2.63157895, 2.89473684, 3.15789474, 3.42105263, 3.68421053,\n",
        "              3.94736842, 4.21052632, 4.47368421, 4.73684211, 5.        ])\n",
        "\n",
        "fx = np.array([  0.        , -12.01819092, -18.90968634, -17.68786571,\n",
        "                -8.7529108 ,   4.27524517,  16.06801336,  21.81250213,\n",
        "                19.22059845,   9.48411207,  -3.22273056, -13.48576488,\n",
        "               -16.91096359, -11.95866834,  -0.58630088,  12.56873816,\n",
        "                22.12489421,  24.20292139,  18.04522521,   6.33211092])"
      ],
      "metadata": {
        "id": "IKxj13ZBpX-2"
      },
      "execution_count": 14,
      "outputs": []
    },
    {
      "cell_type": "code",
      "source": [
        "plt.plot(x, fx)\n",
        "plt.show()"
      ],
      "metadata": {
        "colab": {
          "base_uri": "https://localhost:8080/",
          "height": 265
        },
        "id": "U2mpTcOOpcR3",
        "outputId": "8f2582f2-a46b-4d1c-c021-261e6e3baf1c"
      },
      "execution_count": 9,
      "outputs": [
        {
          "output_type": "display_data",
          "data": {
            "text/plain": [
              "<Figure size 432x288 with 1 Axes>"
            ],
            "image/png": "[encoded data removed]"
          },
          "metadata": {
            "needs_background": "light"
          }
        }
      ]
    },
    {
      "cell_type": "code",
      "source": [
        "def error(params):\n",
        "    return np.sum(np.abs(fx - f(x, params[0], params[1])))"
      ],
      "metadata": {
        "id": "bruOt6rjphQu"
      },
      "execution_count": 15,
      "outputs": []
    },
    {
      "cell_type": "code",
      "source": [
        "prm1 = [9999999]\n",
        "res = ()\n",
        "for i in range(10):\n",
        "  for j in range(10):\n",
        "    prm1.append(error((i/10,j/10)))\n",
        "    if prm1[-1] < prm1[-2]:\n",
        "      res1 = prm1[-1]\n",
        "      res2 = ((i/10,j/10))\n",
        "\n",
        "\n",
        "\n",
        "\n",
        "prm1[:4], res1, res2"
      ],
      "metadata": {
        "colab": {
          "base_uri": "https://localhost:8080/"
        },
        "id": "ZuyPRtYtr1uF",
        "outputId": "aae78cb8-c5cc-4b18-9447-43b9f437bc20"
      },
      "execution_count": 11,
      "outputs": [
        {
          "output_type": "execute_result",
          "data": {
            "text/plain": [
              "([9999999, 244.50954835, 243.24746969728884, 242.29220977635356],\n",
              " 240.27760775511433,\n",
              " (0.9, 0.3))"
            ]
          },
          "metadata": {},
          "execution_count": 11
        }
      ]
    },
    {
      "cell_type": "code",
      "source": [
        "f1 = f(x,res2[0],res2[1])"
      ],
      "metadata": {
        "id": "ofk-X0DhpsjO"
      },
      "execution_count": 12,
      "outputs": []
    },
    {
      "cell_type": "code",
      "source": [
        "plt.plot(x, f1)\n",
        "plt.show()"
      ],
      "metadata": {
        "colab": {
          "base_uri": "https://localhost:8080/",
          "height": 265
        },
        "id": "s382NC7Fp3by",
        "outputId": "8d9bdaac-74b8-4184-c92b-d2b0801b661c"
      },
      "execution_count": 13,
      "outputs": [
        {
          "output_type": "display_data",
          "data": {
            "text/plain": [
              "<Figure size 432x288 with 1 Axes>"
            ],
            "image/png": "[encoded data removed]"
          },
          "metadata": {
            "needs_background": "light"
          }
        }
      ]
    },
    {
      "cell_type": "code",
      "source": [
        "from scipy.optimize import curve_fit\n",
        "\n",
        "res = curve_fit(f, x, fx, p0=[2,2], method='lm')"
      ],
      "metadata": {
        "id": "bGLu1rzdwyzK"
      },
      "execution_count": 14,
      "outputs": []
    },
    {
      "cell_type": "code",
      "source": [
        "plt.figure(figsize=(12, 8))\n",
        "plt.plot(x, fx, color='blue')\n",
        "plt.plot(x, f(x, res[0][0], res[0][1]), color='red')\n",
        "plt.show()"
      ],
      "metadata": {
        "colab": {
          "base_uri": "https://localhost:8080/",
          "height": 483
        },
        "id": "N4TEu2WExLFq",
        "outputId": "37606dcc-aa45-4bbc-83f9-cf42d75530ec"
      },
      "execution_count": 15,
      "outputs": [
        {
          "output_type": "display_data",
          "data": {
            "text/plain": [
              "<Figure size 864x576 with 1 Axes>"
            ],
            "image/png": "[encoded data removed]"
          },
          "metadata": {
            "needs_background": "light"
          }
        }
      ]
    },
    {
      "cell_type": "markdown",
      "source": [
        "# Задание 4\n",
        "Часто в реальных задачах случается ситуация, когда необходимо понять, какое распределение и с какими параметрами лучшим образом описывает данные. Ведь поняв, что некоторая метрика хорошо описывается, например, нормальным распределением с параметрами 3 и 8.5 мы можем для быстрых визуализаций и экспериментов хранить всего 2 числа - параметра распределения и название самого распределения вместо гигабайтов самих данных."
      ],
      "metadata": {
        "id": "7by55byIwlT7"
      }
    },
    {
      "cell_type": "code",
      "source": [
        "x = np.linspace(-30, 30, 300)\n",
        "y = [11.642,  9.467,  8.227, 10.372,  8.768,  9.544,  8.202, 10.106,\n",
        "       10.664, 11.03 , 12.673, 10.445, 12.096, 15.562, 10.55 , 10.81 ,\n",
        "        8.833, 12.087, 10.463,  9.149,  8.633, 12.233, 10.815, 11.346,\n",
        "        4.863, 11.602,  9.997, 10.578,  9.097,  8.414, 11.852, 14.262,\n",
        "        8.527,  5.725,  6.567, 10.767,  4.84 ,  3.433, 11.152, 10.613,\n",
        "       13.44 ,  7.327,  9.3  , 11.303, 10.732, 10.334, 16.763,  8.541,\n",
        "       16.307, 10.787, 10.362,  8.362, 11.78 , 13.002,  8.413,  9.334,\n",
        "       11.631, 11.935,  7.433, 13.87 ,  8.825, 11.377,  6.38 , 11.774,\n",
        "       13.307,  8.946, 10.171, 11.951,  7.612, 12.916,  6.851,  6.713,\n",
        "        8.817,  9.485,  9.07 , 10.886, 11.193, 11.707, 10.121, 13.486,\n",
        "       13.641,  7.749,  6.928, 12.619,  9.498, 10.032,  8.561, 12.907,\n",
        "       18.546, 10.533, 10.127,  8.875,  9.462, 10.296, 15.635,  9.33 ,\n",
        "        5.883,  6.671, 11.746, 13.132,  5.702, 12.136,  8.054, 10.632,\n",
        "       12.995, 10.931, 12.841,  9.757,  9.558, 11.962,  9.997,  8.256,\n",
        "       14.05 , 11.056,  4.397, 15.013, 10.908,  5.036, 14.101, 11.065,\n",
        "        6.535,  9.017,  9.327,  8.357, 12.342, 10.808, 10.387,  8.018,\n",
        "        7.879,  7.686,  5.364, 10.494,  5.518, 13.415,  7.873,  9.122,\n",
        "       11.167,  7.197, 15.408, 10.881, 11.821, 10.617, 11.34 , 13.319,\n",
        "       11.407,  7.642, 10.962, 11.6  , 11.243,  6.225, 12.527,  7.485,\n",
        "        6.367,  5.218,  8.957, 11.71 , 13.981, 11.627, 11.292, 11.07 ,\n",
        "        7.632, 11.931, 11.732, 10.35 , 14.874, 10.067,  6.804, 12.953,\n",
        "        9.68 , 10.531,  7.245,  6.795, 14.585,  7.385, 17.949, 13.315,\n",
        "       11.558,  9.921,  9.27 , 13.003, 11.817,  7.785, 12.956, 11.09 ,\n",
        "       15.251, 13.163, 10.076, 12.429,  5.511,  8.672,  2.814,  8.762,\n",
        "       12.139, 10.646, 11.607,  6.45 ,  3.825, 10.043, 10.562,  8.066,\n",
        "       11.735,  5.764,  8.254, 10.533, 13.903, 12.375, 11.112, 15.186,\n",
        "       11.619, 12.749,  8.023,  8.477, 10.303,  6.821, 13.099,  7.954,\n",
        "       10.672,  7.655,  3.747, 14.4  , 10.428,  6.976,  8.336, 13.423,\n",
        "        7.458, 13.031, 11.287,  9.101, 10.941, 17.224, 10.406, 10.363,\n",
        "       16.617, 11.836, 12.659, 12.633, 14.962,  6.785,  5.254,  4.079,\n",
        "       12.576, 12.682, 12.992, 10.544, 11.365,  7.373, 14.686,  7.201,\n",
        "       14.893, 12.19 ,  9.647,  9.463, 11.616,  7.891,  8.553,  8.555,\n",
        "        5.347, 11.246, 15.385,  8.883, 11.999, 10.675,  8.107, 12.795,\n",
        "       13.337,  9.084, 11.664, 11.509,  8.589, 14.145, 10.385, 16.605,\n",
        "        6.097,  6.718, 11.883,  5.8  ,  8.964,  8.118, 10.759, 13.492,\n",
        "        9.573, 12.696, 10.075, 11.065, 14.588,  6.215, 13.786,  7.367,\n",
        "       12.094, 10.403, 10.923, 13.554, 11.057,  8.593, 16.848,  7.137,\n",
        "        8.549,  8.899, 11.641, 12.491]"
      ],
      "metadata": {
        "id": "rEtBJgS9xeg7"
      },
      "execution_count": 6,
      "outputs": []
    },
    {
      "cell_type": "code",
      "source": [
        "plt.hist(y, bins=30)\n",
        "plt.show()"
      ],
      "metadata": {
        "colab": {
          "base_uri": "https://localhost:8080/",
          "height": 265
        },
        "id": "GaL4yX4AxsSZ",
        "outputId": "fe652c82-cde9-42e2-d64b-d6a3629beb60"
      },
      "execution_count": 17,
      "outputs": [
        {
          "output_type": "display_data",
          "data": {
            "text/plain": [
              "<Figure size 432x288 with 1 Axes>"
            ],
            "image/png": "[encoded data removed]"
          },
          "metadata": {
            "needs_background": "light"
          }
        }
      ]
    },
    {
      "cell_type": "markdown",
      "source": [
        "В библиотеке [scipy.stats](https://docs.scipy.org/doc/scipy/reference/stats.html) есть список непрерывных распределений и у каждого из них есть метод fit(data), позволяющий найти наилучшие параметры распределения по данным. Вам необходимо выбрать подходящее, на ваш взгляд, распределение и найти к нему оптимальные параметры с помощью метода fit(y)."
      ],
      "metadata": {
        "id": "zTtOUyjIx14x"
      }
    },
    {
      "cell_type": "code",
      "source": [
        "import scipy.stats as st"
      ],
      "metadata": {
        "id": "WtSxWutMx1UJ"
      },
      "execution_count": 7,
      "outputs": []
    },
    {
      "cell_type": "code",
      "source": [
        "rasp = {'alpha': st.alpha.fit(y), \n",
        " 'anglit': st.anglit.fit(y),\n",
        " 'burr12': st.burr12.fit(y),\n",
        " 'argus': st.argus.fit(y),\n",
        " 'chi': st.chi.fit(y),\n",
        " 'betaprime': st.betaprime.fit(y),\n",
        " 'chi2': st.chi2.fit(y),\n",
        " 'burr': st.burr.fit(y),\n",
        " 'norm': st.norm.fit(y)\n",
        " }\n",
        " "
      ],
      "metadata": {
        "colab": {
          "base_uri": "https://localhost:8080/"
        },
        "id": "pX4vkfYQzz9g",
        "outputId": "a69b1453-6e84-47b4-ffa8-58d0978d6bcd"
      },
      "execution_count": 8,
      "outputs": [
        {
          "output_type": "stream",
          "name": "stderr",
          "text": [
            "/usr/local/lib/python3.7/dist-packages/scipy/stats/_distn_infrastructure.py:2407: RuntimeWarning: invalid value encountered in double_scalars\n",
            "  Lhat = muhat - Shat*mu\n",
            "/usr/local/lib/python3.7/dist-packages/scipy/stats/_distn_infrastructure.py:1063: RuntimeWarning: invalid value encountered in subtract\n",
            "  mu2 = mu2p - mu * mu\n",
            "/usr/local/lib/python3.7/dist-packages/scipy/stats/_continuous_distns.py:708: RuntimeWarning: divide by zero encountered in true_divide\n",
            "  a/(b-1.0),\n",
            "/usr/local/lib/python3.7/dist-packages/scipy/stats/_continuous_distns.py:712: RuntimeWarning: divide by zero encountered in true_divide\n",
            "  a*(a+1.0)/((b-2.0)*(b-1.0)),\n"
          ]
        }
      ]
    },
    {
      "cell_type": "code",
      "source": [
        "rasp"
      ],
      "metadata": {
        "colab": {
          "base_uri": "https://localhost:8080/"
        },
        "id": "ts57uVoA0Sao",
        "outputId": "e9b60b71-f1f7-4d5a-a594-ca58b8a7198b"
      },
      "execution_count": null,
      "outputs": [
        {
          "output_type": "execute_result",
          "data": {
            "text/plain": [
              "{'alpha': (20.289746893162842, -46.70050961518777, 1155.0837012935472),\n",
              " 'anglit': (10.64787129557909, 10.1578993020383),\n",
              " 'argus': (3.3467852021060506e-05, 1.8664910003750714, 16.69924628279027),\n",
              " 'betaprime': (281.6995798820891,\n",
              "  12856.574235568813,\n",
              "  -36.13415404974745,\n",
              "  2121.1548727615846),\n",
              " 'burr': (10.334217245590226,\n",
              "  0.3526088353448459,\n",
              "  0.20101348576080885,\n",
              "  12.220432596614817),\n",
              " 'burr12': (4.5782631165759415,\n",
              "  6.368093347639018,\n",
              "  -0.13379158596110174,\n",
              "  16.819689285646167),\n",
              " 'chi': (133.79009347419927, -35.2862858994888, 3.951772348895469),\n",
              " 'chi2': (186.4802964864282, -17.075880353798, 0.14703368111441706),\n",
              " 'norm': (10.343879999999999, 2.7925380055187548)}"
            ]
          },
          "metadata": {},
          "execution_count": 91
        }
      ]
    },
    {
      "cell_type": "markdown",
      "source": [
        "# Задание 5\n",
        "Дана матрица рейтингов фильмов (строки - пользователи (10 человек), столбцы - фильмы (15 фильмов))"
      ],
      "metadata": {
        "id": "OKwYhBt0-mxi"
      }
    },
    {
      "cell_type": "code",
      "source": [
        "raitings = np.array([[ 4,  4,  9,  4,  1,  6, 10,  7,  9,  6,  9,  2,  8,  6,  6],\n",
        "                     [ 9,  2,  5, 10,  7,  8, 10,  5,  6,  2,  1,  6,  8,  9,  7],\n",
        "                     [ 1,  6,  8,  8,  4,  9,  3,  8, 10,  5,  2,  6,  8,  1,  6],\n",
        "                     [ 6,  1,  9,  7,  7,  9,  2,  3,  5,  1,  6,  6,  3,  2,  7],\n",
        "                     [ 3,  7,  3,  5,  7,  9,  9,  6,  2,  9,  1,  2,  8, 10,  6],\n",
        "                     [ 8,  3,  7,  3,  8,  6,  1,  8,  8,  6,  1,  9,  4, 10,  1],\n",
        "                     [ 9,  8,  4,  8,  8, 10,  6,  1,  1,  2,  9,  5,  2,  7,  2],\n",
        "                     [ 4,  1,  6,  4,  3, 10,  4,  4,  2,  8,  7,  9,  3,  8,  3],\n",
        "                     [ 2,  7,  7,  6, 10,  6,  8,  9,  8,  6, 10,  1,  7, 10,  4],\n",
        "                     [ 5, 10,  8,  8,  9,  7,  2,  9,  9, 10,  8,  8,  8,  6, 10]])"
      ],
      "metadata": {
        "id": "freVT8FPCpBY"
      },
      "execution_count": 9,
      "outputs": []
    },
    {
      "cell_type": "markdown",
      "source": [
        "a) Необходимо найти наиболее похожего пользователя по косинусной метрике для каждого из (ответ: 10 пар вида (x, y), где y - наиболее похожий пользователь на пользователя x)."
      ],
      "metadata": {
        "id": "FUD7x2RNCqkl"
      }
    },
    {
      "cell_type": "code",
      "source": [
        "def angg(a,b):\n",
        "  return np.rad2deg(np.arccos(np.dot(a,b)/(np.linalg.norm(a)*np.linalg.norm(b))))\n",
        "\n",
        "res = 99999\n",
        "a,b = 0,0\n",
        "\n",
        "\n",
        "for i in range(len(raitings)):\n",
        "  for j in range(len(raitings)):\n",
        "    if i != j:\n",
        "      angg(raitings[i],raitings[j]) < res\n",
        "      res = angg(raitings[i],raitings[j])\n",
        "      a,b = raitings[i],raitings[j]\n",
        "  print(a,b) \n",
        "  \n"
      ],
      "metadata": {
        "colab": {
          "base_uri": "https://localhost:8080/"
        },
        "id": "NBCejPBNCuEu",
        "outputId": "4e77b739-6c69-45dd-fb40-310d5336e15e"
      },
      "execution_count": 21,
      "outputs": [
        {
          "output_type": "stream",
          "name": "stdout",
          "text": [
            "[ 4  4  9  4  1  6 10  7  9  6  9  2  8  6  6] [ 5 10  8  8  9  7  2  9  9 10  8  8  8  6 10]\n",
            "[ 9  2  5 10  7  8 10  5  6  2  1  6  8  9  7] [ 5 10  8  8  9  7  2  9  9 10  8  8  8  6 10]\n",
            "[ 1  6  8  8  4  9  3  8 10  5  2  6  8  1  6] [ 5 10  8  8  9  7  2  9  9 10  8  8  8  6 10]\n",
            "[6 1 9 7 7 9 2 3 5 1 6 6 3 2 7] [ 5 10  8  8  9  7  2  9  9 10  8  8  8  6 10]\n",
            "[ 3  7  3  5  7  9  9  6  2  9  1  2  8 10  6] [ 5 10  8  8  9  7  2  9  9 10  8  8  8  6 10]\n",
            "[ 8  3  7  3  8  6  1  8  8  6  1  9  4 10  1] [ 5 10  8  8  9  7  2  9  9 10  8  8  8  6 10]\n",
            "[ 9  8  4  8  8 10  6  1  1  2  9  5  2  7  2] [ 5 10  8  8  9  7  2  9  9 10  8  8  8  6 10]\n",
            "[ 4  1  6  4  3 10  4  4  2  8  7  9  3  8  3] [ 5 10  8  8  9  7  2  9  9 10  8  8  8  6 10]\n",
            "[ 2  7  7  6 10  6  8  9  8  6 10  1  7 10  4] [ 5 10  8  8  9  7  2  9  9 10  8  8  8  6 10]\n",
            "[ 5 10  8  8  9  7  2  9  9 10  8  8  8  6 10] [ 2  7  7  6 10  6  8  9  8  6 10  1  7 10  4]\n"
          ]
        }
      ]
    },
    {
      "cell_type": "markdown",
      "source": [
        "b) Предположим, вы захотели сжать признаковые описания пользователя с 15 фильмов, до, скажем, 5-ти признаков, как вы это сделаете?"
      ],
      "metadata": {
        "id": "Rj_SLBrTCud9"
      }
    },
    {
      "cell_type": "code",
      "source": [
        "from sklearn.decomposition import PCA\n",
        "from sklearn.metrics import mean_squared_error\n",
        "import matplotlib.pyplot as plt"
      ],
      "metadata": {
        "id": "QLKODd43Cz3t"
      },
      "execution_count": 2,
      "outputs": []
    },
    {
      "cell_type": "code",
      "source": [
        "m = []\n",
        "n = []\n",
        "\n",
        "for i in range(1,11):\n",
        "    m.append(i)\n",
        "    \n",
        "    pca = PCA(n_components=i)\n",
        "    pca.fit(raitings)\n",
        "    \n",
        "    X2 = pca.transform(raitings)\n",
        "    X3 = pca.inverse_transform(X2)\n",
        "    \n",
        "    k = mean_squared_error(raitings, X3)\n",
        "    n.append(k)\n",
        "\n",
        "plt.plot(m,n)\n",
        "plt.grid(True)\n",
        "plt.xlabel(\"n_components\")\n",
        "plt.ylabel(\"MSE\")\n",
        "\n"
      ],
      "metadata": {
        "colab": {
          "base_uri": "https://localhost:8080/",
          "height": 297
        },
        "id": "vtocTsrLItDK",
        "outputId": "96c72dd3-5b75-4aff-f6e4-a81a861ba52d"
      },
      "execution_count": 10,
      "outputs": [
        {
          "output_type": "execute_result",
          "data": {
            "text/plain": [
              "Text(0, 0.5, 'MSE')"
            ]
          },
          "metadata": {},
          "execution_count": 10
        },
        {
          "output_type": "display_data",
          "data": {
            "text/plain": [
              "<Figure size 432x288 with 1 Axes>"
            ],
            "image/png": "[encoded data removed]"
          },
          "metadata": {
            "needs_background": "light"
          }
        }
      ]
    },
    {
      "cell_type": "code",
      "source": [
        "p1 = PCA(n_components=5)\n",
        "p1.fit(raitings)\n",
        "\n",
        "p1.explained_variance_ratio_, p1.singular_values_\n"
      ],
      "metadata": {
        "colab": {
          "base_uri": "https://localhost:8080/"
        },
        "id": "e3wJ9byrYiJu",
        "outputId": "b3a566f4-ffb5-4bfe-d9bf-0fbd38ac5979"
      },
      "execution_count": 54,
      "outputs": [
        {
          "output_type": "execute_result",
          "data": {
            "text/plain": [
              "(array([0.25373748, 0.1970209 , 0.14113306, 0.12956371, 0.11289928]),\n",
              " array([16.91716582, 14.90704109, 12.61681323, 12.08862725, 11.28446283]))"
            ]
          },
          "metadata": {},
          "execution_count": 54
        }
      ]
    },
    {
      "cell_type": "code",
      "source": [
        "p1.fit_transform(X)"
      ],
      "metadata": {
        "colab": {
          "base_uri": "https://localhost:8080/"
        },
        "id": "0meoO57xdiMG",
        "outputId": "37eca5ac-a64f-464c-b91e-9e16583001cb"
      },
      "execution_count": 55,
      "outputs": [
        {
          "output_type": "execute_result",
          "data": {
            "text/plain": [
              "array([[-5.30986101,  1.92919845, -4.93300027,  2.70188013,  5.50497886],\n",
              "       [ 2.87763403,  2.71659559,  1.40592782,  7.26325751, -4.50322291],\n",
              "       [-4.94010408, -6.68861167, -0.94550184,  3.61556661, -0.68969272],\n",
              "       [ 5.14939908, -6.28027284, -4.65978558,  1.09024004, -1.01471112],\n",
              "       [-1.37488691,  7.54357985,  4.00834369,  2.1284001 , -0.16324949],\n",
              "       [ 2.65341956, -3.77075601,  8.58430748, -1.46628319,  1.67401769],\n",
              "       [ 8.61573944,  3.78603335, -4.02721027, -4.37582577, -3.13880277],\n",
              "       [ 5.39658258, -1.0170466 ,  1.01456742, -1.89512837,  6.54883538],\n",
              "       [-5.7843488 ,  5.29857107, -1.48083611, -3.71295542,  0.21312695],\n",
              "       [-7.2835739 , -3.51729118,  1.03318766, -5.34915166, -4.43127987]])"
            ]
          },
          "metadata": {},
          "execution_count": 55
        }
      ]
    },
    {
      "cell_type": "code",
      "source": [
        "def PCA1(X , num_components):\n",
        "    \n",
        "    \n",
        "    X_meaned = X - np.mean(X , axis = 0)\n",
        "    \n",
        "    \n",
        "    cov_mat = np.cov(X_meaned , rowvar = False)\n",
        "    \n",
        "    \n",
        "    eigen_values , eigen_vectors = np.linalg.eigh(cov_mat)\n",
        "    \n",
        "    \n",
        "    sorted_index = np.argsort(eigen_values)[::-1]\n",
        "    sorted_eigenvalue = eigen_values[sorted_index]\n",
        "    sorted_eigenvectors = eigen_vectors[:,sorted_index]\n",
        "    \n",
        "    \n",
        "    eigenvector_subset = sorted_eigenvectors[:,0:num_components]\n",
        "    \n",
        "    \n",
        "    X_reduced = np.dot(eigenvector_subset.transpose() , X_meaned.transpose() ).transpose()\n",
        "    \n",
        "    return X_reduced\n",
        "\n",
        "\n",
        "X = raitings\n",
        "\n",
        "PCA1(X,5)"
      ],
      "metadata": {
        "colab": {
          "base_uri": "https://localhost:8080/"
        },
        "id": "L709IBMEQoB4",
        "outputId": "395bec49-b76c-4fdb-bc19-da9c7636acfa"
      },
      "execution_count": 42,
      "outputs": [
        {
          "output_type": "execute_result",
          "data": {
            "text/plain": [
              "array([[ 5.30986101,  1.92919845, -4.93300027,  2.70188013, -5.50497886],\n",
              "       [-2.87763403,  2.71659559,  1.40592782,  7.26325751,  4.50322291],\n",
              "       [ 4.94010408, -6.68861167, -0.94550184,  3.61556661,  0.68969272],\n",
              "       [-5.14939908, -6.28027284, -4.65978558,  1.09024004,  1.01471112],\n",
              "       [ 1.37488691,  7.54357985,  4.00834369,  2.1284001 ,  0.16324949],\n",
              "       [-2.65341956, -3.77075601,  8.58430748, -1.46628319, -1.67401769],\n",
              "       [-8.61573944,  3.78603335, -4.02721027, -4.37582577,  3.13880277],\n",
              "       [-5.39658258, -1.0170466 ,  1.01456742, -1.89512837, -6.54883538],\n",
              "       [ 5.7843488 ,  5.29857107, -1.48083611, -3.71295542, -0.21312695],\n",
              "       [ 7.2835739 , -3.51729118,  1.03318766, -5.34915166,  4.43127987]])"
            ]
          },
          "metadata": {},
          "execution_count": 42
        }
      ]
    },
    {
      "cell_type": "markdown",
      "source": [
        "Добрый день, Алексей!\n",
        "\n",
        "Большое спасибо за проделанную над итоговым заданием работу!\n",
        "\n",
        "Вы выполнили:\n",
        "\n",
        "Задание 1 - Верно!\n",
        "\n",
        "Задание 2 - Верно!\n",
        "\n",
        "Задание 3 - Это довольно приближённый вариант вычисления, получится крайне большая ошибка; для решения задания можно было использовать differential_evolution() или minimize().\n",
        "\n",
        "Задание 4 - Верно! Правда лучше было одно -norm.fit(y) и визуализировать.\n",
        "\n",
        "Задание 5 - В пункте a, направление было верным, только требовалось искать минимальное “расстояние” в рамках каждого пользователя, ну и косинусную метрику не обязательно было приводить у самому углу, для удобства и краткости решения можно было использовать, например, функцию pairwise_distances() и пройтись в цикле с поиском минимального ненулевого для каждого пользователя; в пункте b выполнено верно, хотя достаточно было p1.fit_transform(X).\n",
        "\n",
        "Поздравляю с завершением курса!\n",
        "\n",
        "\n",
        "Работа зачтена.\n",
        "\n",
        "Если остались вопросы, с удовольствием отвечу на них в личных сообщениях.\n",
        "\n",
        "Успехов в дальнейшем обучении!"
      ],
      "metadata": {
        "id": "E2It5l3aYfdG"
      }
    },
    {
      "cell_type": "markdown",
      "source": [
        "# Пример реализации 3 задания:"
      ],
      "metadata": {
        "id": "fe5ujKglMTBT"
      }
    },
    {
      "cell_type": "code",
      "source": [
        "from scipy.optimize import minimize\n",
        "\n",
        "res = minimize(error, [0,0], method='COBYLA')\n",
        "np.around(res.x,2)\n"
      ],
      "metadata": {
        "colab": {
          "base_uri": "https://localhost:8080/"
        },
        "id": "JYUQ84OWL2kd",
        "outputId": "94ed3545-5e9d-4644-8ca5-ff2f975b895e"
      },
      "execution_count": 25,
      "outputs": [
        {
          "output_type": "execute_result",
          "data": {
            "text/plain": [
              "array([ 3. , -2.5])"
            ]
          },
          "metadata": {},
          "execution_count": 25
        }
      ]
    },
    {
      "cell_type": "code",
      "source": [
        "from scipy.optimize import differential_evolution\n",
        "\n",
        "bounds = [(-5, 5), (-25, 25)]\n",
        "\n",
        "result = differential_evolution(error, bounds)\n",
        "result.x"
      ],
      "metadata": {
        "colab": {
          "base_uri": "https://localhost:8080/"
        },
        "id": "3TZL10gyLkLV",
        "outputId": "4d26b801-74b6-4f8b-d7f0-cdc3d08540f3"
      },
      "execution_count": 17,
      "outputs": [
        {
          "output_type": "execute_result",
          "data": {
            "text/plain": [
              "array([1.95260122, 1.56637942])"
            ]
          },
          "metadata": {},
          "execution_count": 17
        }
      ]
    },
    {
      "cell_type": "code",
      "source": [
        "fig = plt.figure(figsize=(10, 5), dpi=80)\n",
        "ax = fig.add_subplot(111)\n",
        "x_plot = np.linspace(0, 5, 100)\n",
        "ax_1 = ax.plot(\n",
        "    x_plot, f(x_plot, *res.x),\n",
        "    color='green',\n",
        "    label='from optimized parameters'\n",
        ")\n",
        "ax_2 = ax.plot(\n",
        "    x, fx,\n",
        "    marker='D',\n",
        "    color='blue',\n",
        "    label='starting data'\n",
        ")\n",
        "xl = ax.set_xlabel('x')\n",
        "yl = ax.set_ylabel('f(x)')\n",
        "l = ax.legend()\n",
        "t = plt.title('Starting data and their interpolation')"
      ],
      "metadata": {
        "colab": {
          "base_uri": "https://localhost:8080/",
          "height": 383
        },
        "id": "h9eR9j4oNolT",
        "outputId": "9e8c64fc-4101-41f3-aabd-0e556c6537d9"
      },
      "execution_count": 26,
      "outputs": [
        {
          "output_type": "display_data",
          "data": {
            "text/plain": [
              "<Figure size 800x400 with 1 Axes>"
            ],
            "image/png": "[encoded data removed]"
          },
          "metadata": {
            "needs_background": "light"
          }
        }
      ]
    },
    {
      "cell_type": "markdown",
      "source": [
        "# Пример реализации 4 задания (с графиком):"
      ],
      "metadata": {
        "id": "6gjuGf7JNuSL"
      }
    },
    {
      "cell_type": "code",
      "source": [
        "norm_fit_res = norm.fit(y)        # Обучение нормального распределения\n",
        "scale = 180                       # Коэффициент масштабирования\n",
        "print('Параметры нормального распределения по нашим данным: ', norm_fit_res, '\\n')\n",
        "\n",
        "scaled_norm = norm.pdf(x, norm_fit_res[0], norm_fit_res[1]) * scale\n",
        "\n",
        "plt.hist(y, bins=30, color='red', histtype='step')\n",
        "plt.plot(x, scaled_norm, color='black')\n",
        "plt.show()"
      ],
      "metadata": {
        "colab": {
          "base_uri": "https://localhost:8080/",
          "height": 300
        },
        "id": "nz3AAPXzNyvq",
        "outputId": "4a545aa4-ac96-4cbc-e6c2-4ff2e70261fa"
      },
      "execution_count": 28,
      "outputs": [
        {
          "output_type": "stream",
          "name": "stdout",
          "text": [
            "Параметры нормального распределения по нашим данным:  (10.343879999999999, 2.7925380055187548) \n",
            "\n"
          ]
        },
        {
          "output_type": "display_data",
          "data": {
            "text/plain": [
              "<Figure size 432x288 with 1 Axes>"
            ],
            "image/png": "[encoded data removed]"
          },
          "metadata": {
            "needs_background": "light"
          }
        }
      ]
    },
    {
      "cell_type": "markdown",
      "source": [
        "# Пример реализации 5 задания, части а (краткий вариант и сразу с индексами пользователей):"
      ],
      "metadata": {
        "id": "f3MYr7cNN-fc"
      }
    },
    {
      "cell_type": "code",
      "source": [
        "from sklearn.metrics import pairwise_distances\n",
        "\n",
        "for i, vector in enumerate(pairwise_distances(raitings, metric=\"cosine\")):\n",
        "    print(i, list(vector).index(np.min(vector[np.nonzero(vector)])))"
      ],
      "metadata": {
        "colab": {
          "base_uri": "https://localhost:8080/"
        },
        "id": "xh5nuzbtOGKk",
        "outputId": "556e14c6-b42d-457d-d161-33cc70175472"
      },
      "execution_count": 29,
      "outputs": [
        {
          "output_type": "stream",
          "name": "stdout",
          "text": [
            "0 8\n",
            "1 4\n",
            "2 9\n",
            "3 9\n",
            "4 8\n",
            "5 9\n",
            "6 3\n",
            "7 5\n",
            "8 0\n",
            "9 2\n"
          ]
        }
      ]
    }
  ]
}