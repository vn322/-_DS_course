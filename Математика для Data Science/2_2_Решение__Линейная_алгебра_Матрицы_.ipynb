{
  "nbformat": 4,
  "nbformat_minor": 0,
  "metadata": {
    "colab": {
      "name": "2.2.Домашнее задание \"Линейная алгебра. Матрицы\".ipynb",
      "provenance": []
    },
    "kernelspec": {
      "name": "python3",
      "display_name": "Python 3"
    },
    "language_info": {
      "name": "python"
    }
  },
  "cells": [
    {
      "cell_type": "markdown",
      "source": [
        "# Уровень 0:\n",
        "# Задание 1\n",
        "Создайте матрицу 3 на 3, заполненную числами от 1 до 9\n",
        "Прибавьте к ней матрицу с единицами на диагонале\n",
        "Умножьте полученную матрицу на вектор (1, 2, 3)\n",
        "Вычислить транспонированную матрицу  от полученной в результате прибавления матрицы\n",
        "Посчитайте обратную матрицу к полученной в результате прибавления матрице"
      ],
      "metadata": {
        "id": "kB-36HuBGVpD"
      }
    },
    {
      "cell_type": "code",
      "source": [
        "import numpy as np\n"
      ],
      "metadata": {
        "id": "7vhv_ch2HoMK"
      },
      "execution_count": null,
      "outputs": []
    },
    {
      "cell_type": "code",
      "source": [
        "a1 = list(map(lambda x: list(range(x-2, x+1)), range(3, 10, 3)))\n",
        "a1"
      ],
      "metadata": {
        "colab": {
          "base_uri": "https://localhost:8080/"
        },
        "id": "8ZCdvX4JIGPa",
        "outputId": "b568e860-d93d-43a6-dd44-fbbf4a76560d"
      },
      "execution_count": null,
      "outputs": [
        {
          "output_type": "execute_result",
          "data": {
            "text/plain": [
              "[[1, 2, 3], [4, 5, 6], [7, 8, 9]]"
            ]
          },
          "metadata": {},
          "execution_count": 8
        }
      ]
    },
    {
      "cell_type": "markdown",
      "source": [
        "Создайте матрицу 3 на 3, заполненную числами от 1 до 9"
      ],
      "metadata": {
        "id": "106bKoBTJznT"
      }
    },
    {
      "cell_type": "code",
      "source": [
        "a1 = np.arange(1, 10).reshape(3,3)\n",
        "a1"
      ],
      "metadata": {
        "colab": {
          "base_uri": "https://localhost:8080/"
        },
        "id": "owrXPvDxIg1D",
        "outputId": "f3b6215c-0a42-42ed-dec7-27202fd18fe9"
      },
      "execution_count": null,
      "outputs": [
        {
          "output_type": "execute_result",
          "data": {
            "text/plain": [
              "array([[1, 2, 3],\n",
              "       [4, 5, 6],\n",
              "       [7, 8, 9]])"
            ]
          },
          "metadata": {},
          "execution_count": 10
        }
      ]
    },
    {
      "cell_type": "markdown",
      "source": [
        "Прибавьте к ней матрицу с единицами на диагонали"
      ],
      "metadata": {
        "id": "cYkOjmLnJ5xD"
      }
    },
    {
      "cell_type": "code",
      "source": [
        "a2 = np.identity(3)\n",
        "a3 = a1+a2\n",
        "a3"
      ],
      "metadata": {
        "colab": {
          "base_uri": "https://localhost:8080/"
        },
        "id": "8cDtOXWNKCsj",
        "outputId": "5274e89a-530c-4b3a-f240-00ea2b9ea364"
      },
      "execution_count": null,
      "outputs": [
        {
          "output_type": "execute_result",
          "data": {
            "text/plain": [
              "array([[ 2.,  2.,  3.],\n",
              "       [ 4.,  6.,  6.],\n",
              "       [ 7.,  8., 10.]])"
            ]
          },
          "metadata": {},
          "execution_count": 19
        }
      ]
    },
    {
      "cell_type": "markdown",
      "source": [
        "Умножьте полученную матрицу на вектор (1, 2, 3)"
      ],
      "metadata": {
        "id": "BrPRzzDfLYLq"
      }
    },
    {
      "cell_type": "code",
      "source": [
        "a3@np.array([1,2,3])"
      ],
      "metadata": {
        "colab": {
          "base_uri": "https://localhost:8080/"
        },
        "id": "4ME11fPJLTwT",
        "outputId": "02a4e2dc-9ba0-477b-9962-c9b36c4a34a2"
      },
      "execution_count": null,
      "outputs": [
        {
          "output_type": "execute_result",
          "data": {
            "text/plain": [
              "array([15., 34., 53.])"
            ]
          },
          "metadata": {},
          "execution_count": 21
        }
      ]
    },
    {
      "cell_type": "markdown",
      "source": [
        "Вычислить транспонированную матрицу  от полученной в результате прибавления матрицы"
      ],
      "metadata": {
        "id": "uJKiD06IL9bD"
      }
    },
    {
      "cell_type": "code",
      "source": [
        "np.transpose(a3)"
      ],
      "metadata": {
        "colab": {
          "base_uri": "https://localhost:8080/"
        },
        "id": "_eSZ1RnMSISb",
        "outputId": "b330d84b-06d3-460c-c605-9be474ab6965"
      },
      "execution_count": null,
      "outputs": [
        {
          "output_type": "execute_result",
          "data": {
            "text/plain": [
              "array([[ 2.,  4.,  7.],\n",
              "       [ 2.,  6.,  8.],\n",
              "       [ 3.,  6., 10.]])"
            ]
          },
          "metadata": {},
          "execution_count": 45
        }
      ]
    },
    {
      "cell_type": "code",
      "source": [
        "a3.transpose()"
      ],
      "metadata": {
        "colab": {
          "base_uri": "https://localhost:8080/"
        },
        "id": "cO1wulOFMD7z",
        "outputId": "89a554d9-d22f-4c8a-e980-8b5114fa939f"
      },
      "execution_count": null,
      "outputs": [
        {
          "output_type": "execute_result",
          "data": {
            "text/plain": [
              "array([[ 2.,  4.,  7.],\n",
              "       [ 2.,  6.,  8.],\n",
              "       [ 3.,  6., 10.]])"
            ]
          },
          "metadata": {},
          "execution_count": 22
        }
      ]
    },
    {
      "cell_type": "markdown",
      "source": [
        "Посчитайте обратную матрицу к полученной в результате прибавления матрице"
      ],
      "metadata": {
        "id": "icYkcaUdMkIM"
      }
    },
    {
      "cell_type": "code",
      "source": [
        "np.linalg.inv(a3)"
      ],
      "metadata": {
        "colab": {
          "base_uri": "https://localhost:8080/"
        },
        "id": "KC-UhRLBMoFL",
        "outputId": "bfc8dc68-558c-4b64-ede5-48429e430111"
      },
      "execution_count": null,
      "outputs": [
        {
          "output_type": "execute_result",
          "data": {
            "text/plain": [
              "array([[-6.00000000e+00, -2.00000000e+00,  3.00000000e+00],\n",
              "       [-1.00000000e+00,  5.00000000e-01, -2.33146835e-16],\n",
              "       [ 5.00000000e+00,  1.00000000e+00, -2.00000000e+00]])"
            ]
          },
          "metadata": {},
          "execution_count": 23
        }
      ]
    },
    {
      "cell_type": "markdown",
      "source": [
        "# Уровень 1:\n",
        "# Задание 2\n",
        "Найдите собственные значения и собственные вектора матрицы:\n",
        "\n",
        "m = np.array([[2, 2],\n",
        "              [1, 3]])\n",
        "print(m)"
      ],
      "metadata": {
        "id": "29WJcGhFNqi7"
      }
    },
    {
      "cell_type": "code",
      "source": [
        "m = np.array([[2, 2],\n",
        "              [1, 3]])\n",
        "print(m)"
      ],
      "metadata": {
        "colab": {
          "base_uri": "https://localhost:8080/"
        },
        "id": "9pgzONNsOHxj",
        "outputId": "666bc3c2-093c-49d0-a5a7-e54244f08e0b"
      },
      "execution_count": null,
      "outputs": [
        {
          "output_type": "stream",
          "name": "stdout",
          "text": [
            "[[2 2]\n",
            " [1 3]]\n"
          ]
        }
      ]
    },
    {
      "cell_type": "code",
      "source": [
        "m1 = np.linalg.eig(m)\n",
        "print('собственные значения', *m1[0], 'собственные вектора матрицы', *m1[1],   sep = '\\n')"
      ],
      "metadata": {
        "colab": {
          "base_uri": "https://localhost:8080/"
        },
        "id": "heayaMKyOB_7",
        "outputId": "2c5ff9d7-a4cc-4542-8aac-a37e3b4b41a7"
      },
      "execution_count": null,
      "outputs": [
        {
          "output_type": "stream",
          "name": "stdout",
          "text": [
            "собственные значения\n",
            "1.0\n",
            "4.0\n",
            "собственные вектора матрицы\n",
            "[-0.89442719 -0.70710678]\n",
            "[ 0.4472136  -0.70710678]\n"
          ]
        }
      ]
    },
    {
      "cell_type": "markdown",
      "source": [
        "# Задание 3\n",
        "Придумайте матрицу, у которой определитель = 1, и все элементы не равны 0.\n",
        "\n",
        "P.S. Матрица должна быть ненулевой и размерностью не менее 2!"
      ],
      "metadata": {
        "id": "JlvPS6zGRFjr"
      }
    },
    {
      "cell_type": "code",
      "source": [
        "a4 = np.array([[2,1,1], [1,1,1], [1,1,2]])\n",
        "np.linalg.det(a4)"
      ],
      "metadata": {
        "colab": {
          "base_uri": "https://localhost:8080/"
        },
        "id": "5Lw8sXh1RPDl",
        "outputId": "34a8a8a2-9996-4115-c8b5-3d7f9483cd78"
      },
      "execution_count": null,
      "outputs": [
        {
          "output_type": "execute_result",
          "data": {
            "text/plain": [
              "1.0"
            ]
          },
          "metadata": {},
          "execution_count": 53
        }
      ]
    },
    {
      "cell_type": "markdown",
      "source": [
        "Добрый день, Алексей!\n",
        "\n",
        "Спасибо за выполненное задание.\n",
        "\n",
        "Уровень 0 - Верно!\n",
        "\n",
        "Уровень 1 - Верно!\n",
        "\n",
        "Отличная работа!\n",
        "\n",
        "Зачёт!\n",
        "\n",
        "Если остались вопросы, с удовольствием отвечу на них в личных сообщениях.\n",
        "\n",
        "Удачи в дальнейшей учёбе!"
      ],
      "metadata": {
        "id": "RcmI58kdFZ2m"
      }
    }
  ]
}