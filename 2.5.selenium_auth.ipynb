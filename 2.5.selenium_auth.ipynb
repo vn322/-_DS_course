{
 "cells": [
  {
   "cell_type": "markdown",
   "metadata": {},
   "source": [
    "# Автоматизация авторизации с помощью Selenium\n",
    "Документация:\n",
    "- https://selenium-python.readthedocs.io/\n",
    "- https://selenium-python.com/"
   ]
  },
  {
   "cell_type": "code",
   "execution_count": 1,
   "metadata": {},
   "outputs": [],
   "source": [
    "from selenium import webdriver"
   ]
  },
  {
   "cell_type": "code",
   "execution_count": 2,
   "metadata": {},
   "outputs": [],
   "source": [
    "# https://chromedriver.chromium.org/downloads\n",
    "\n",
    "options = webdriver.ChromeOptions()\n",
    "options.binary_location = '/Applications/Yandex.app/Contents/MacOS/Yandex'\n",
    "\n",
    "# необходимо указывать полный адрес файла chromedriver\n",
    "webdriver_address = '/Users/kbashevoy/Desktop/Нетология/Занятия/Занятие 10/selenium_example/chromedriver'"
   ]
  },
  {
   "cell_type": "markdown",
   "metadata": {},
   "source": [
    "### Просто открыть страницу"
   ]
  },
  {
   "cell_type": "code",
   "execution_count": 3,
   "metadata": {},
   "outputs": [],
   "source": [
    "driver = webdriver.Chrome(webdriver_address, options=options)\n",
    "driver.get(\"http://the-internet.herokuapp.com/\")"
   ]
  },
  {
   "cell_type": "markdown",
   "metadata": {},
   "source": [
    "### Форма авторизации с заполнением"
   ]
  },
  {
   "cell_type": "code",
   "execution_count": 5,
   "metadata": {},
   "outputs": [],
   "source": [
    "import time"
   ]
  },
  {
   "cell_type": "code",
   "execution_count": 6,
   "metadata": {},
   "outputs": [],
   "source": [
    "driver = webdriver.Chrome(webdriver_address, options=options)\n",
    "driver.get('http://the-internet.herokuapp.com/login')\n",
    "\n",
    "time.sleep(5)\n",
    "\n",
    "username = driver.find_element_by_id(\"username\")\n",
    "password = driver.find_element_by_id(\"password\")\n",
    "\n",
    "username.send_keys(\"tomsmith\")\n",
    "password.send_keys(\"SuperSecretPassword!\")\n",
    "\n",
    "time.sleep(5)\n",
    "\n",
    "# еще вариант find_element_by_css_selector('button.radius')\n",
    "button = driver.find_element_by_xpath(\"//button[@class='radius'][@type='submit']\").click()"
   ]
  }
 ],
 "metadata": {
  "kernelspec": {
   "display_name": "Python 3",
   "language": "python",
   "name": "python3"
  },
  "language_info": {
   "codemirror_mode": {
    "name": "ipython",
    "version": 3
   },
   "file_extension": ".py",
   "mimetype": "text/x-python",
   "name": "python",
   "nbconvert_exporter": "python",
   "pygments_lexer": "ipython3",
   "version": "3.8.5"
  }
 },
 "nbformat": 4,
 "nbformat_minor": 2
}
